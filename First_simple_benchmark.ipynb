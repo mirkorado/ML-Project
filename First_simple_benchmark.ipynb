{
  "cells": [
    {
      "cell_type": "code",
      "execution_count": 1,
      "id": "c0c69af0-ca7a-4f57-9b54-8bda78988064",
      "metadata": {
        "id": "c0c69af0-ca7a-4f57-9b54-8bda78988064"
      },
      "outputs": [],
      "source": [
        "import pandas as pd\n",
        "import numpy as np\n",
        "import matplotlib.pyplot as plt\n",
        "import seaborn as sns\n",
        "from sklearn.linear_model import LinearRegression\n",
        "from datetime import datetime\n",
        "import gc\n",
        "from tqdm import tqdm"
      ]
    },
    {
      "cell_type": "code",
      "source": [
        "import os\n",
        "from google.colab import drive\n",
        "drive.mount('/content/gdrive')\n",
        "folder = '/content/gdrive/My Drive/ML-project'"
      ],
      "metadata": {
        "colab": {
          "base_uri": "https://localhost:8080/"
        },
        "id": "Ipv8USHSp80a",
        "outputId": "9b36bb75-4603-40bb-9519-7679b0b48402"
      },
      "id": "Ipv8USHSp80a",
      "execution_count": 2,
      "outputs": [
        {
          "output_type": "stream",
          "name": "stdout",
          "text": [
            "Drive already mounted at /content/gdrive; to attempt to forcibly remount, call drive.mount(\"/content/gdrive\", force_remount=True).\n"
          ]
        }
      ]
    },
    {
      "cell_type": "code",
      "execution_count": 3,
      "id": "6e12c5fb-e1e4-4303-964b-eabf46067212",
      "metadata": {
        "id": "6e12c5fb-e1e4-4303-964b-eabf46067212"
      },
      "outputs": [],
      "source": [
        "def merge_all_data_frames(daily_data, firm_characteristics, jkp_factors, linking_table):\n",
        "    \"\"\"\n",
        "    Merges daily returns, firm characteristics, and JKP factor returns into a single unified DataFrame.\n",
        "\n",
        "    This function:\n",
        "    - Merges firm-level characteristics (typically quarterly) with a CRSP-Compustat linking table (indexed by 'gvkey')\n",
        "      that provides PERMNO and PERMCO mappings.\n",
        "    - Filters the linking table for valid link types and date ranges.\n",
        "    - Uses `merge_asof` to forward-fill quarterly firm characteristics to match daily frequency.\n",
        "    - Merges in JKP factor returns (wide format, indexed by month-end 'date' and with one column per factor).\n",
        "    - Drops temporary or redundant merge columns and sets the final index for analysis.\n",
        "\n",
        "    Parameters:\n",
        "    ----------\n",
        "    daily_data : pd.DataFrame\n",
        "        DataFrame of daily stock return data. Must contain columns: ['date', 'PERMNO', 'PERMCO'].\n",
        "\n",
        "    firm_characteristics : pd.DataFrame\n",
        "        DataFrame of firm-level characteristics at quarterly frequency.\n",
        "        Must be indexed by ['date', 'gvkey'].\n",
        "\n",
        "    jkp_factors : pd.DataFrame\n",
        "        DataFrame of JKP factor returns in wide format, indexed by month-end dates.\n",
        "        Each column corresponds to a different factor name, and values are the respective returns.\n",
        "\n",
        "    linking_table : pd.DataFrame\n",
        "        Compustat-CRSP linking table indexed by 'gvkey'. Must contain columns: ['PERMNO', 'PERMCO', 'LINKTYPE', 'LINKDT', 'LINKENDDT'].\n",
        "\n",
        "    Returns:\n",
        "    -------\n",
        "    pd.DataFrame\n",
        "        A merged DataFrame indexed by ['date', 'PERMCO', 'PERMNO'], containing:\n",
        "        - daily returns,\n",
        "        - forward-filled firm characteristics (from quarterly),\n",
        "        - monthly JKP factor returns (aligned to the daily data by month-end).\n",
        "    \"\"\"\n",
        "\n",
        "    # Reset indexes for merging\n",
        "    firm_characteristics = firm_characteristics.reset_index()\n",
        "    linking_table = linking_table.reset_index()\n",
        "\n",
        "    # Merge firm characteristics with linking table\n",
        "    comp_linked = pd.merge(firm_characteristics, linking_table, how='left', on='gvkey')\n",
        "\n",
        "    # Filter for valid link types and valid link dates\n",
        "    comp_linked = comp_linked[comp_linked['LINKTYPE'].isin(['LU', 'LC'])]\n",
        "    comp_linked = comp_linked[\n",
        "        (comp_linked['date'] >= comp_linked['LINKDT']) &\n",
        "        (comp_linked['date'] <= comp_linked['LINKENDDT'])\n",
        "    ]\n",
        "\n",
        "    # Drop PERMCO from comp_linked to avoid duplication\n",
        "    comp_linked = comp_linked.drop(columns=['PERMCO'], errors='ignore')\n",
        "\n",
        "    # Rename for clarity and compatibility\n",
        "    comp_linked.rename(columns={'date': 'quarter_date'}, inplace=True)\n",
        "    comp_linked['PERMNO'] = comp_linked['PERMNO'].astype('int64')\n",
        "\n",
        "    # Reset index on daily_data for merge_asof\n",
        "    daily_data = daily_data.reset_index()\n",
        "\n",
        "    # Merge using merge_asof to align firm characteristics to most recent available quarter\n",
        "    merged = pd.merge_asof(\n",
        "        daily_data.sort_values('date'),\n",
        "        comp_linked.sort_values('quarter_date'),\n",
        "        by='PERMNO',\n",
        "        left_on='date',\n",
        "        right_on='quarter_date',\n",
        "        direction='backward'\n",
        "    )\n",
        "    # Create month-end column to align with JKP factor data\n",
        "    merged['month_end'] = merged['date'] + pd.offsets.MonthEnd(0)\n",
        "\n",
        "    if jkp_factors is not None:\n",
        "        print(\"Start joining JKP factors\")\n",
        "        # Reset index on jkp_factors to merge\n",
        "        jkp_factors = jkp_factors.reset_index()\n",
        "\n",
        "        # Merge JKP factors by month-end date\n",
        "        merged = pd.merge(merged, jkp_factors, how='left', left_on='month_end', right_on='date')\n",
        "        print(\"Finished second merge\")\n",
        "\n",
        "    # Drop redundant or intermediary columns\n",
        "    merged.drop(columns=[\n",
        "        'quarter_date', 'month_end', 'LINKDT', 'LINKENDDT', 'LINKTYPE',\n",
        "        'gvkey', 'date_y'\n",
        "    ], inplace=True, errors='ignore')\n",
        "\n",
        "    # Rename date_x back to date for clarity\n",
        "    merged.rename(columns={'date_x': 'date'}, inplace=True)\n",
        "\n",
        "    # Set final index as required\n",
        "    merged.set_index(['date', 'PERMCO', 'PERMNO'], inplace=True)\n",
        "\n",
        "    return merged"
      ]
    },
    {
      "cell_type": "code",
      "execution_count": 4,
      "id": "d41da0ed-29ae-474a-b146-f89439896262",
      "metadata": {
        "colab": {
          "base_uri": "https://localhost:8080/",
          "height": 194
        },
        "id": "d41da0ed-29ae-474a-b146-f89439896262",
        "outputId": "a1ea65f0-d68f-4c8d-979d-e764b64a6ffb"
      },
      "outputs": [
        {
          "output_type": "execute_result",
          "data": {
            "text/plain": [
              "        date  gvkey  acchgy  aolochy    aqcy   capxy  chechy  cibegniy  \\\n",
              "0 2000-01-31   1013     0.0   -4.824  17.963  46.785  21.138       NaN   \n",
              "1 2000-01-31   1082     0.0   -1.734   0.000   9.597  -2.956       NaN   \n",
              "\n",
              "   cicurry  cidergly  ...  txbcoy  txdcy   txty  txwy  xidocy  xidoy  xinty  \\\n",
              "0      NaN       NaN  ...     NaN    NaN  15.30   NaN   0.000  0.000    NaN   \n",
              "1      NaN       NaN  ...     NaN  1.061   0.59   NaN   2.975 -2.563  4.084   \n",
              "\n",
              "   xiy    xopry    xsgay  \n",
              "0  0.0  496.900  205.600  \n",
              "1  0.0  123.541    6.468  \n",
              "\n",
              "[2 rows x 78 columns]"
            ],
            "text/html": [
              "\n",
              "  <div id=\"df-168efff2-57a5-45dd-bfad-730732bb2183\" class=\"colab-df-container\">\n",
              "    <div>\n",
              "<style scoped>\n",
              "    .dataframe tbody tr th:only-of-type {\n",
              "        vertical-align: middle;\n",
              "    }\n",
              "\n",
              "    .dataframe tbody tr th {\n",
              "        vertical-align: top;\n",
              "    }\n",
              "\n",
              "    .dataframe thead th {\n",
              "        text-align: right;\n",
              "    }\n",
              "</style>\n",
              "<table border=\"1\" class=\"dataframe\">\n",
              "  <thead>\n",
              "    <tr style=\"text-align: right;\">\n",
              "      <th></th>\n",
              "      <th>date</th>\n",
              "      <th>gvkey</th>\n",
              "      <th>acchgy</th>\n",
              "      <th>aolochy</th>\n",
              "      <th>aqcy</th>\n",
              "      <th>capxy</th>\n",
              "      <th>chechy</th>\n",
              "      <th>cibegniy</th>\n",
              "      <th>cicurry</th>\n",
              "      <th>cidergly</th>\n",
              "      <th>...</th>\n",
              "      <th>txbcoy</th>\n",
              "      <th>txdcy</th>\n",
              "      <th>txty</th>\n",
              "      <th>txwy</th>\n",
              "      <th>xidocy</th>\n",
              "      <th>xidoy</th>\n",
              "      <th>xinty</th>\n",
              "      <th>xiy</th>\n",
              "      <th>xopry</th>\n",
              "      <th>xsgay</th>\n",
              "    </tr>\n",
              "  </thead>\n",
              "  <tbody>\n",
              "    <tr>\n",
              "      <th>0</th>\n",
              "      <td>2000-01-31</td>\n",
              "      <td>1013</td>\n",
              "      <td>0.0</td>\n",
              "      <td>-4.824</td>\n",
              "      <td>17.963</td>\n",
              "      <td>46.785</td>\n",
              "      <td>21.138</td>\n",
              "      <td>NaN</td>\n",
              "      <td>NaN</td>\n",
              "      <td>NaN</td>\n",
              "      <td>...</td>\n",
              "      <td>NaN</td>\n",
              "      <td>NaN</td>\n",
              "      <td>15.30</td>\n",
              "      <td>NaN</td>\n",
              "      <td>0.000</td>\n",
              "      <td>0.000</td>\n",
              "      <td>NaN</td>\n",
              "      <td>0.0</td>\n",
              "      <td>496.900</td>\n",
              "      <td>205.600</td>\n",
              "    </tr>\n",
              "    <tr>\n",
              "      <th>1</th>\n",
              "      <td>2000-01-31</td>\n",
              "      <td>1082</td>\n",
              "      <td>0.0</td>\n",
              "      <td>-1.734</td>\n",
              "      <td>0.000</td>\n",
              "      <td>9.597</td>\n",
              "      <td>-2.956</td>\n",
              "      <td>NaN</td>\n",
              "      <td>NaN</td>\n",
              "      <td>NaN</td>\n",
              "      <td>...</td>\n",
              "      <td>NaN</td>\n",
              "      <td>1.061</td>\n",
              "      <td>0.59</td>\n",
              "      <td>NaN</td>\n",
              "      <td>2.975</td>\n",
              "      <td>-2.563</td>\n",
              "      <td>4.084</td>\n",
              "      <td>0.0</td>\n",
              "      <td>123.541</td>\n",
              "      <td>6.468</td>\n",
              "    </tr>\n",
              "  </tbody>\n",
              "</table>\n",
              "<p>2 rows × 78 columns</p>\n",
              "</div>\n",
              "    <div class=\"colab-df-buttons\">\n",
              "\n",
              "  <div class=\"colab-df-container\">\n",
              "    <button class=\"colab-df-convert\" onclick=\"convertToInteractive('df-168efff2-57a5-45dd-bfad-730732bb2183')\"\n",
              "            title=\"Convert this dataframe to an interactive table.\"\n",
              "            style=\"display:none;\">\n",
              "\n",
              "  <svg xmlns=\"http://www.w3.org/2000/svg\" height=\"24px\" viewBox=\"0 -960 960 960\">\n",
              "    <path d=\"M120-120v-720h720v720H120Zm60-500h600v-160H180v160Zm220 220h160v-160H400v160Zm0 220h160v-160H400v160ZM180-400h160v-160H180v160Zm440 0h160v-160H620v160ZM180-180h160v-160H180v160Zm440 0h160v-160H620v160Z\"/>\n",
              "  </svg>\n",
              "    </button>\n",
              "\n",
              "  <style>\n",
              "    .colab-df-container {\n",
              "      display:flex;\n",
              "      gap: 12px;\n",
              "    }\n",
              "\n",
              "    .colab-df-convert {\n",
              "      background-color: #E8F0FE;\n",
              "      border: none;\n",
              "      border-radius: 50%;\n",
              "      cursor: pointer;\n",
              "      display: none;\n",
              "      fill: #1967D2;\n",
              "      height: 32px;\n",
              "      padding: 0 0 0 0;\n",
              "      width: 32px;\n",
              "    }\n",
              "\n",
              "    .colab-df-convert:hover {\n",
              "      background-color: #E2EBFA;\n",
              "      box-shadow: 0px 1px 2px rgba(60, 64, 67, 0.3), 0px 1px 3px 1px rgba(60, 64, 67, 0.15);\n",
              "      fill: #174EA6;\n",
              "    }\n",
              "\n",
              "    .colab-df-buttons div {\n",
              "      margin-bottom: 4px;\n",
              "    }\n",
              "\n",
              "    [theme=dark] .colab-df-convert {\n",
              "      background-color: #3B4455;\n",
              "      fill: #D2E3FC;\n",
              "    }\n",
              "\n",
              "    [theme=dark] .colab-df-convert:hover {\n",
              "      background-color: #434B5C;\n",
              "      box-shadow: 0px 1px 3px 1px rgba(0, 0, 0, 0.15);\n",
              "      filter: drop-shadow(0px 1px 2px rgba(0, 0, 0, 0.3));\n",
              "      fill: #FFFFFF;\n",
              "    }\n",
              "  </style>\n",
              "\n",
              "    <script>\n",
              "      const buttonEl =\n",
              "        document.querySelector('#df-168efff2-57a5-45dd-bfad-730732bb2183 button.colab-df-convert');\n",
              "      buttonEl.style.display =\n",
              "        google.colab.kernel.accessAllowed ? 'block' : 'none';\n",
              "\n",
              "      async function convertToInteractive(key) {\n",
              "        const element = document.querySelector('#df-168efff2-57a5-45dd-bfad-730732bb2183');\n",
              "        const dataTable =\n",
              "          await google.colab.kernel.invokeFunction('convertToInteractive',\n",
              "                                                    [key], {});\n",
              "        if (!dataTable) return;\n",
              "\n",
              "        const docLinkHtml = 'Like what you see? Visit the ' +\n",
              "          '<a target=\"_blank\" href=https://colab.research.google.com/notebooks/data_table.ipynb>data table notebook</a>'\n",
              "          + ' to learn more about interactive tables.';\n",
              "        element.innerHTML = '';\n",
              "        dataTable['output_type'] = 'display_data';\n",
              "        await google.colab.output.renderOutput(dataTable, element);\n",
              "        const docLink = document.createElement('div');\n",
              "        docLink.innerHTML = docLinkHtml;\n",
              "        element.appendChild(docLink);\n",
              "      }\n",
              "    </script>\n",
              "  </div>\n",
              "\n",
              "\n",
              "    <div id=\"df-d10f9dc5-a6bf-42f9-9468-a61867990e23\">\n",
              "      <button class=\"colab-df-quickchart\" onclick=\"quickchart('df-d10f9dc5-a6bf-42f9-9468-a61867990e23')\"\n",
              "                title=\"Suggest charts\"\n",
              "                style=\"display:none;\">\n",
              "\n",
              "<svg xmlns=\"http://www.w3.org/2000/svg\" height=\"24px\"viewBox=\"0 0 24 24\"\n",
              "     width=\"24px\">\n",
              "    <g>\n",
              "        <path d=\"M19 3H5c-1.1 0-2 .9-2 2v14c0 1.1.9 2 2 2h14c1.1 0 2-.9 2-2V5c0-1.1-.9-2-2-2zM9 17H7v-7h2v7zm4 0h-2V7h2v10zm4 0h-2v-4h2v4z\"/>\n",
              "    </g>\n",
              "</svg>\n",
              "      </button>\n",
              "\n",
              "<style>\n",
              "  .colab-df-quickchart {\n",
              "      --bg-color: #E8F0FE;\n",
              "      --fill-color: #1967D2;\n",
              "      --hover-bg-color: #E2EBFA;\n",
              "      --hover-fill-color: #174EA6;\n",
              "      --disabled-fill-color: #AAA;\n",
              "      --disabled-bg-color: #DDD;\n",
              "  }\n",
              "\n",
              "  [theme=dark] .colab-df-quickchart {\n",
              "      --bg-color: #3B4455;\n",
              "      --fill-color: #D2E3FC;\n",
              "      --hover-bg-color: #434B5C;\n",
              "      --hover-fill-color: #FFFFFF;\n",
              "      --disabled-bg-color: #3B4455;\n",
              "      --disabled-fill-color: #666;\n",
              "  }\n",
              "\n",
              "  .colab-df-quickchart {\n",
              "    background-color: var(--bg-color);\n",
              "    border: none;\n",
              "    border-radius: 50%;\n",
              "    cursor: pointer;\n",
              "    display: none;\n",
              "    fill: var(--fill-color);\n",
              "    height: 32px;\n",
              "    padding: 0;\n",
              "    width: 32px;\n",
              "  }\n",
              "\n",
              "  .colab-df-quickchart:hover {\n",
              "    background-color: var(--hover-bg-color);\n",
              "    box-shadow: 0 1px 2px rgba(60, 64, 67, 0.3), 0 1px 3px 1px rgba(60, 64, 67, 0.15);\n",
              "    fill: var(--button-hover-fill-color);\n",
              "  }\n",
              "\n",
              "  .colab-df-quickchart-complete:disabled,\n",
              "  .colab-df-quickchart-complete:disabled:hover {\n",
              "    background-color: var(--disabled-bg-color);\n",
              "    fill: var(--disabled-fill-color);\n",
              "    box-shadow: none;\n",
              "  }\n",
              "\n",
              "  .colab-df-spinner {\n",
              "    border: 2px solid var(--fill-color);\n",
              "    border-color: transparent;\n",
              "    border-bottom-color: var(--fill-color);\n",
              "    animation:\n",
              "      spin 1s steps(1) infinite;\n",
              "  }\n",
              "\n",
              "  @keyframes spin {\n",
              "    0% {\n",
              "      border-color: transparent;\n",
              "      border-bottom-color: var(--fill-color);\n",
              "      border-left-color: var(--fill-color);\n",
              "    }\n",
              "    20% {\n",
              "      border-color: transparent;\n",
              "      border-left-color: var(--fill-color);\n",
              "      border-top-color: var(--fill-color);\n",
              "    }\n",
              "    30% {\n",
              "      border-color: transparent;\n",
              "      border-left-color: var(--fill-color);\n",
              "      border-top-color: var(--fill-color);\n",
              "      border-right-color: var(--fill-color);\n",
              "    }\n",
              "    40% {\n",
              "      border-color: transparent;\n",
              "      border-right-color: var(--fill-color);\n",
              "      border-top-color: var(--fill-color);\n",
              "    }\n",
              "    60% {\n",
              "      border-color: transparent;\n",
              "      border-right-color: var(--fill-color);\n",
              "    }\n",
              "    80% {\n",
              "      border-color: transparent;\n",
              "      border-right-color: var(--fill-color);\n",
              "      border-bottom-color: var(--fill-color);\n",
              "    }\n",
              "    90% {\n",
              "      border-color: transparent;\n",
              "      border-bottom-color: var(--fill-color);\n",
              "    }\n",
              "  }\n",
              "</style>\n",
              "\n",
              "      <script>\n",
              "        async function quickchart(key) {\n",
              "          const quickchartButtonEl =\n",
              "            document.querySelector('#' + key + ' button');\n",
              "          quickchartButtonEl.disabled = true;  // To prevent multiple clicks.\n",
              "          quickchartButtonEl.classList.add('colab-df-spinner');\n",
              "          try {\n",
              "            const charts = await google.colab.kernel.invokeFunction(\n",
              "                'suggestCharts', [key], {});\n",
              "          } catch (error) {\n",
              "            console.error('Error during call to suggestCharts:', error);\n",
              "          }\n",
              "          quickchartButtonEl.classList.remove('colab-df-spinner');\n",
              "          quickchartButtonEl.classList.add('colab-df-quickchart-complete');\n",
              "        }\n",
              "        (() => {\n",
              "          let quickchartButtonEl =\n",
              "            document.querySelector('#df-d10f9dc5-a6bf-42f9-9468-a61867990e23 button');\n",
              "          quickchartButtonEl.style.display =\n",
              "            google.colab.kernel.accessAllowed ? 'block' : 'none';\n",
              "        })();\n",
              "      </script>\n",
              "    </div>\n",
              "\n",
              "    </div>\n",
              "  </div>\n"
            ],
            "application/vnd.google.colaboratory.intrinsic+json": {
              "type": "dataframe",
              "variable_name": "firmchar"
            }
          },
          "metadata": {},
          "execution_count": 4
        }
      ],
      "source": [
        "firmchar = pd.read_csv(folder + \"/Predictors/CompFirmCharac_sanitized.csv\", parse_dates = True)\n",
        "firmchar['date'] = pd.to_datetime(firmchar['date'], format = \"%Y-%m-%d\")\n",
        "\n",
        "#goodcolumns = firmchar.columns[(firmchar.isna().sum() / len(firmchar)) < 0.3]\n",
        "#firmchar = firmchar[goodcolumns]\n",
        "\n",
        "firmchar.head(2)"
      ]
    },
    {
      "cell_type": "code",
      "source": [
        "# Calculate fraction of NaNs per column for each date\n",
        "na_frac = firmchar.groupby('date').apply(lambda x: x.isna().sum() / len(x))\n",
        "na_frac = na_frac.sort_index()\n",
        "\n",
        "ax = na_frac.plot(figsize=(10, 5))\n",
        "ax.set_xlabel('Date')\n",
        "ax.set_ylabel('Fraction of NaN')\n",
        "ax.set_title('Share of Missing Values per Column Over Time')\n",
        "ax.legend(loc='center left', bbox_to_anchor=(1.0, 0.5))\n",
        "plt.tight_layout()\n",
        "plt.show()\n"
      ],
      "metadata": {
        "colab": {
          "base_uri": "https://localhost:8080/",
          "height": 1000
        },
        "id": "BlvcqBw15Km6",
        "outputId": "4f1faed2-a862-4be3-9dbf-7ed2b9874726"
      },
      "id": "BlvcqBw15Km6",
      "execution_count": 5,
      "outputs": [
        {
          "output_type": "stream",
          "name": "stderr",
          "text": [
            "<ipython-input-5-e59557439491>:2: DeprecationWarning: DataFrameGroupBy.apply operated on the grouping columns. This behavior is deprecated, and in a future version of pandas the grouping columns will be excluded from the operation. Either pass `include_groups=False` to exclude the groupings or explicitly select the grouping columns after groupby to silence this warning.\n",
            "  na_frac = firmchar.groupby('date').apply(lambda x: x.isna().sum() / len(x))\n",
            "<ipython-input-5-e59557439491>:10: UserWarning: Tight layout not applied. The bottom and top margins cannot be made large enough to accommodate all Axes decorations.\n",
            "  plt.tight_layout()\n"
          ]
        },
        {
          "output_type": "display_data",
          "data": {
            "text/plain": [
              "<Figure size 1000x500 with 1 Axes>"
            ],
            "image/png": "[encoded data removed]"
          },
          "metadata": {}
        }
      ]
    },
    {
      "cell_type": "code",
      "execution_count": 6,
      "id": "1b511e03-6cbe-4dc1-8641-18d681f14eaa",
      "metadata": {
        "colab": {
          "base_uri": "https://localhost:8080/",
          "height": 111
        },
        "id": "1b511e03-6cbe-4dc1-8641-18d681f14eaa",
        "outputId": "c0a5a83a-2e1b-4e3f-adf5-e05372493633"
      },
      "outputs": [
        {
          "output_type": "execute_result",
          "data": {
            "text/plain": [
              "             date  PERMCO  PERMNO  SICCD  NAICS    DlyRet    sprtrn\n",
              "158482 2000-01-31       5   15580   6320      0 -0.068182  0.025218\n",
              "158483 2000-01-31       7   14593   3573      0  0.020910  0.025218"
            ],
            "text/html": [
              "\n",
              "  <div id=\"df-d0cb798d-a1df-455f-96c7-e832028d44d9\" class=\"colab-df-container\">\n",
              "    <div>\n",
              "<style scoped>\n",
              "    .dataframe tbody tr th:only-of-type {\n",
              "        vertical-align: middle;\n",
              "    }\n",
              "\n",
              "    .dataframe tbody tr th {\n",
              "        vertical-align: top;\n",
              "    }\n",
              "\n",
              "    .dataframe thead th {\n",
              "        text-align: right;\n",
              "    }\n",
              "</style>\n",
              "<table border=\"1\" class=\"dataframe\">\n",
              "  <thead>\n",
              "    <tr style=\"text-align: right;\">\n",
              "      <th></th>\n",
              "      <th>date</th>\n",
              "      <th>PERMCO</th>\n",
              "      <th>PERMNO</th>\n",
              "      <th>SICCD</th>\n",
              "      <th>NAICS</th>\n",
              "      <th>DlyRet</th>\n",
              "      <th>sprtrn</th>\n",
              "    </tr>\n",
              "  </thead>\n",
              "  <tbody>\n",
              "    <tr>\n",
              "      <th>158482</th>\n",
              "      <td>2000-01-31</td>\n",
              "      <td>5</td>\n",
              "      <td>15580</td>\n",
              "      <td>6320</td>\n",
              "      <td>0</td>\n",
              "      <td>-0.068182</td>\n",
              "      <td>0.025218</td>\n",
              "    </tr>\n",
              "    <tr>\n",
              "      <th>158483</th>\n",
              "      <td>2000-01-31</td>\n",
              "      <td>7</td>\n",
              "      <td>14593</td>\n",
              "      <td>3573</td>\n",
              "      <td>0</td>\n",
              "      <td>0.020910</td>\n",
              "      <td>0.025218</td>\n",
              "    </tr>\n",
              "  </tbody>\n",
              "</table>\n",
              "</div>\n",
              "    <div class=\"colab-df-buttons\">\n",
              "\n",
              "  <div class=\"colab-df-container\">\n",
              "    <button class=\"colab-df-convert\" onclick=\"convertToInteractive('df-d0cb798d-a1df-455f-96c7-e832028d44d9')\"\n",
              "            title=\"Convert this dataframe to an interactive table.\"\n",
              "            style=\"display:none;\">\n",
              "\n",
              "  <svg xmlns=\"http://www.w3.org/2000/svg\" height=\"24px\" viewBox=\"0 -960 960 960\">\n",
              "    <path d=\"M120-120v-720h720v720H120Zm60-500h600v-160H180v160Zm220 220h160v-160H400v160Zm0 220h160v-160H400v160ZM180-400h160v-160H180v160Zm440 0h160v-160H620v160ZM180-180h160v-160H180v160Zm440 0h160v-160H620v160Z\"/>\n",
              "  </svg>\n",
              "    </button>\n",
              "\n",
              "  <style>\n",
              "    .colab-df-container {\n",
              "      display:flex;\n",
              "      gap: 12px;\n",
              "    }\n",
              "\n",
              "    .colab-df-convert {\n",
              "      background-color: #E8F0FE;\n",
              "      border: none;\n",
              "      border-radius: 50%;\n",
              "      cursor: pointer;\n",
              "      display: none;\n",
              "      fill: #1967D2;\n",
              "      height: 32px;\n",
              "      padding: 0 0 0 0;\n",
              "      width: 32px;\n",
              "    }\n",
              "\n",
              "    .colab-df-convert:hover {\n",
              "      background-color: #E2EBFA;\n",
              "      box-shadow: 0px 1px 2px rgba(60, 64, 67, 0.3), 0px 1px 3px 1px rgba(60, 64, 67, 0.15);\n",
              "      fill: #174EA6;\n",
              "    }\n",
              "\n",
              "    .colab-df-buttons div {\n",
              "      margin-bottom: 4px;\n",
              "    }\n",
              "\n",
              "    [theme=dark] .colab-df-convert {\n",
              "      background-color: #3B4455;\n",
              "      fill: #D2E3FC;\n",
              "    }\n",
              "\n",
              "    [theme=dark] .colab-df-convert:hover {\n",
              "      background-color: #434B5C;\n",
              "      box-shadow: 0px 1px 3px 1px rgba(0, 0, 0, 0.15);\n",
              "      filter: drop-shadow(0px 1px 2px rgba(0, 0, 0, 0.3));\n",
              "      fill: #FFFFFF;\n",
              "    }\n",
              "  </style>\n",
              "\n",
              "    <script>\n",
              "      const buttonEl =\n",
              "        document.querySelector('#df-d0cb798d-a1df-455f-96c7-e832028d44d9 button.colab-df-convert');\n",
              "      buttonEl.style.display =\n",
              "        google.colab.kernel.accessAllowed ? 'block' : 'none';\n",
              "\n",
              "      async function convertToInteractive(key) {\n",
              "        const element = document.querySelector('#df-d0cb798d-a1df-455f-96c7-e832028d44d9');\n",
              "        const dataTable =\n",
              "          await google.colab.kernel.invokeFunction('convertToInteractive',\n",
              "                                                    [key], {});\n",
              "        if (!dataTable) return;\n",
              "\n",
              "        const docLinkHtml = 'Like what you see? Visit the ' +\n",
              "          '<a target=\"_blank\" href=https://colab.research.google.com/notebooks/data_table.ipynb>data table notebook</a>'\n",
              "          + ' to learn more about interactive tables.';\n",
              "        element.innerHTML = '';\n",
              "        dataTable['output_type'] = 'display_data';\n",
              "        await google.colab.output.renderOutput(dataTable, element);\n",
              "        const docLink = document.createElement('div');\n",
              "        docLink.innerHTML = docLinkHtml;\n",
              "        element.appendChild(docLink);\n",
              "      }\n",
              "    </script>\n",
              "  </div>\n",
              "\n",
              "\n",
              "    <div id=\"df-690094ad-624b-4ebe-99dd-dfbf756be128\">\n",
              "      <button class=\"colab-df-quickchart\" onclick=\"quickchart('df-690094ad-624b-4ebe-99dd-dfbf756be128')\"\n",
              "                title=\"Suggest charts\"\n",
              "                style=\"display:none;\">\n",
              "\n",
              "<svg xmlns=\"http://www.w3.org/2000/svg\" height=\"24px\"viewBox=\"0 0 24 24\"\n",
              "     width=\"24px\">\n",
              "    <g>\n",
              "        <path d=\"M19 3H5c-1.1 0-2 .9-2 2v14c0 1.1.9 2 2 2h14c1.1 0 2-.9 2-2V5c0-1.1-.9-2-2-2zM9 17H7v-7h2v7zm4 0h-2V7h2v10zm4 0h-2v-4h2v4z\"/>\n",
              "    </g>\n",
              "</svg>\n",
              "      </button>\n",
              "\n",
              "<style>\n",
              "  .colab-df-quickchart {\n",
              "      --bg-color: #E8F0FE;\n",
              "      --fill-color: #1967D2;\n",
              "      --hover-bg-color: #E2EBFA;\n",
              "      --hover-fill-color: #174EA6;\n",
              "      --disabled-fill-color: #AAA;\n",
              "      --disabled-bg-color: #DDD;\n",
              "  }\n",
              "\n",
              "  [theme=dark] .colab-df-quickchart {\n",
              "      --bg-color: #3B4455;\n",
              "      --fill-color: #D2E3FC;\n",
              "      --hover-bg-color: #434B5C;\n",
              "      --hover-fill-color: #FFFFFF;\n",
              "      --disabled-bg-color: #3B4455;\n",
              "      --disabled-fill-color: #666;\n",
              "  }\n",
              "\n",
              "  .colab-df-quickchart {\n",
              "    background-color: var(--bg-color);\n",
              "    border: none;\n",
              "    border-radius: 50%;\n",
              "    cursor: pointer;\n",
              "    display: none;\n",
              "    fill: var(--fill-color);\n",
              "    height: 32px;\n",
              "    padding: 0;\n",
              "    width: 32px;\n",
              "  }\n",
              "\n",
              "  .colab-df-quickchart:hover {\n",
              "    background-color: var(--hover-bg-color);\n",
              "    box-shadow: 0 1px 2px rgba(60, 64, 67, 0.3), 0 1px 3px 1px rgba(60, 64, 67, 0.15);\n",
              "    fill: var(--button-hover-fill-color);\n",
              "  }\n",
              "\n",
              "  .colab-df-quickchart-complete:disabled,\n",
              "  .colab-df-quickchart-complete:disabled:hover {\n",
              "    background-color: var(--disabled-bg-color);\n",
              "    fill: var(--disabled-fill-color);\n",
              "    box-shadow: none;\n",
              "  }\n",
              "\n",
              "  .colab-df-spinner {\n",
              "    border: 2px solid var(--fill-color);\n",
              "    border-color: transparent;\n",
              "    border-bottom-color: var(--fill-color);\n",
              "    animation:\n",
              "      spin 1s steps(1) infinite;\n",
              "  }\n",
              "\n",
              "  @keyframes spin {\n",
              "    0% {\n",
              "      border-color: transparent;\n",
              "      border-bottom-color: var(--fill-color);\n",
              "      border-left-color: var(--fill-color);\n",
              "    }\n",
              "    20% {\n",
              "      border-color: transparent;\n",
              "      border-left-color: var(--fill-color);\n",
              "      border-top-color: var(--fill-color);\n",
              "    }\n",
              "    30% {\n",
              "      border-color: transparent;\n",
              "      border-left-color: var(--fill-color);\n",
              "      border-top-color: var(--fill-color);\n",
              "      border-right-color: var(--fill-color);\n",
              "    }\n",
              "    40% {\n",
              "      border-color: transparent;\n",
              "      border-right-color: var(--fill-color);\n",
              "      border-top-color: var(--fill-color);\n",
              "    }\n",
              "    60% {\n",
              "      border-color: transparent;\n",
              "      border-right-color: var(--fill-color);\n",
              "    }\n",
              "    80% {\n",
              "      border-color: transparent;\n",
              "      border-right-color: var(--fill-color);\n",
              "      border-bottom-color: var(--fill-color);\n",
              "    }\n",
              "    90% {\n",
              "      border-color: transparent;\n",
              "      border-bottom-color: var(--fill-color);\n",
              "    }\n",
              "  }\n",
              "</style>\n",
              "\n",
              "      <script>\n",
              "        async function quickchart(key) {\n",
              "          const quickchartButtonEl =\n",
              "            document.querySelector('#' + key + ' button');\n",
              "          quickchartButtonEl.disabled = true;  // To prevent multiple clicks.\n",
              "          quickchartButtonEl.classList.add('colab-df-spinner');\n",
              "          try {\n",
              "            const charts = await google.colab.kernel.invokeFunction(\n",
              "                'suggestCharts', [key], {});\n",
              "          } catch (error) {\n",
              "            console.error('Error during call to suggestCharts:', error);\n",
              "          }\n",
              "          quickchartButtonEl.classList.remove('colab-df-spinner');\n",
              "          quickchartButtonEl.classList.add('colab-df-quickchart-complete');\n",
              "        }\n",
              "        (() => {\n",
              "          let quickchartButtonEl =\n",
              "            document.querySelector('#df-690094ad-624b-4ebe-99dd-dfbf756be128 button');\n",
              "          quickchartButtonEl.style.display =\n",
              "            google.colab.kernel.accessAllowed ? 'block' : 'none';\n",
              "        })();\n",
              "      </script>\n",
              "    </div>\n",
              "\n",
              "    </div>\n",
              "  </div>\n"
            ],
            "application/vnd.google.colaboratory.intrinsic+json": {
              "type": "dataframe",
              "variable_name": "dailyret"
            }
          },
          "metadata": {},
          "execution_count": 6
        }
      ],
      "source": [
        "dailyret = pd.read_csv(folder + \"/Targets/daily_crsp_sanitized.csv\")\n",
        "dailyret['date'] = pd.to_datetime(dailyret['date'], format = \"%Y-%m-%d\")\n",
        "dailyret = dailyret[dailyret['date'] >= '2000-01-31']\n",
        "dailyret.head(2)"
      ]
    },
    {
      "cell_type": "code",
      "execution_count": 7,
      "id": "17c554fd-2b82-44b2-b275-118f8800a382",
      "metadata": {
        "colab": {
          "base_uri": "https://localhost:8080/",
          "height": 111
        },
        "id": "17c554fd-2b82-44b2-b275-118f8800a382",
        "outputId": "3b8a19ad-b992-4d4d-f50b-6902ae0a462d"
      },
      "outputs": [
        {
          "output_type": "execute_result",
          "data": {
            "text/plain": [
              "   gvkey LINKTYPE  PERMNO  PERMCO     LINKDT  LINKENDDT\n",
              "0   1000       LU   25881   23369 1970-11-13 1978-06-30\n",
              "1   1001       LU   10015    6398 1983-09-20 1986-07-31"
            ],
            "text/html": [
              "\n",
              "  <div id=\"df-cc5231e8-817f-4557-b669-1fdc31ea2099\" class=\"colab-df-container\">\n",
              "    <div>\n",
              "<style scoped>\n",
              "    .dataframe tbody tr th:only-of-type {\n",
              "        vertical-align: middle;\n",
              "    }\n",
              "\n",
              "    .dataframe tbody tr th {\n",
              "        vertical-align: top;\n",
              "    }\n",
              "\n",
              "    .dataframe thead th {\n",
              "        text-align: right;\n",
              "    }\n",
              "</style>\n",
              "<table border=\"1\" class=\"dataframe\">\n",
              "  <thead>\n",
              "    <tr style=\"text-align: right;\">\n",
              "      <th></th>\n",
              "      <th>gvkey</th>\n",
              "      <th>LINKTYPE</th>\n",
              "      <th>PERMNO</th>\n",
              "      <th>PERMCO</th>\n",
              "      <th>LINKDT</th>\n",
              "      <th>LINKENDDT</th>\n",
              "    </tr>\n",
              "  </thead>\n",
              "  <tbody>\n",
              "    <tr>\n",
              "      <th>0</th>\n",
              "      <td>1000</td>\n",
              "      <td>LU</td>\n",
              "      <td>25881</td>\n",
              "      <td>23369</td>\n",
              "      <td>1970-11-13</td>\n",
              "      <td>1978-06-30</td>\n",
              "    </tr>\n",
              "    <tr>\n",
              "      <th>1</th>\n",
              "      <td>1001</td>\n",
              "      <td>LU</td>\n",
              "      <td>10015</td>\n",
              "      <td>6398</td>\n",
              "      <td>1983-09-20</td>\n",
              "      <td>1986-07-31</td>\n",
              "    </tr>\n",
              "  </tbody>\n",
              "</table>\n",
              "</div>\n",
              "    <div class=\"colab-df-buttons\">\n",
              "\n",
              "  <div class=\"colab-df-container\">\n",
              "    <button class=\"colab-df-convert\" onclick=\"convertToInteractive('df-cc5231e8-817f-4557-b669-1fdc31ea2099')\"\n",
              "            title=\"Convert this dataframe to an interactive table.\"\n",
              "            style=\"display:none;\">\n",
              "\n",
              "  <svg xmlns=\"http://www.w3.org/2000/svg\" height=\"24px\" viewBox=\"0 -960 960 960\">\n",
              "    <path d=\"M120-120v-720h720v720H120Zm60-500h600v-160H180v160Zm220 220h160v-160H400v160Zm0 220h160v-160H400v160ZM180-400h160v-160H180v160Zm440 0h160v-160H620v160ZM180-180h160v-160H180v160Zm440 0h160v-160H620v160Z\"/>\n",
              "  </svg>\n",
              "    </button>\n",
              "\n",
              "  <style>\n",
              "    .colab-df-container {\n",
              "      display:flex;\n",
              "      gap: 12px;\n",
              "    }\n",
              "\n",
              "    .colab-df-convert {\n",
              "      background-color: #E8F0FE;\n",
              "      border: none;\n",
              "      border-radius: 50%;\n",
              "      cursor: pointer;\n",
              "      display: none;\n",
              "      fill: #1967D2;\n",
              "      height: 32px;\n",
              "      padding: 0 0 0 0;\n",
              "      width: 32px;\n",
              "    }\n",
              "\n",
              "    .colab-df-convert:hover {\n",
              "      background-color: #E2EBFA;\n",
              "      box-shadow: 0px 1px 2px rgba(60, 64, 67, 0.3), 0px 1px 3px 1px rgba(60, 64, 67, 0.15);\n",
              "      fill: #174EA6;\n",
              "    }\n",
              "\n",
              "    .colab-df-buttons div {\n",
              "      margin-bottom: 4px;\n",
              "    }\n",
              "\n",
              "    [theme=dark] .colab-df-convert {\n",
              "      background-color: #3B4455;\n",
              "      fill: #D2E3FC;\n",
              "    }\n",
              "\n",
              "    [theme=dark] .colab-df-convert:hover {\n",
              "      background-color: #434B5C;\n",
              "      box-shadow: 0px 1px 3px 1px rgba(0, 0, 0, 0.15);\n",
              "      filter: drop-shadow(0px 1px 2px rgba(0, 0, 0, 0.3));\n",
              "      fill: #FFFFFF;\n",
              "    }\n",
              "  </style>\n",
              "\n",
              "    <script>\n",
              "      const buttonEl =\n",
              "        document.querySelector('#df-cc5231e8-817f-4557-b669-1fdc31ea2099 button.colab-df-convert');\n",
              "      buttonEl.style.display =\n",
              "        google.colab.kernel.accessAllowed ? 'block' : 'none';\n",
              "\n",
              "      async function convertToInteractive(key) {\n",
              "        const element = document.querySelector('#df-cc5231e8-817f-4557-b669-1fdc31ea2099');\n",
              "        const dataTable =\n",
              "          await google.colab.kernel.invokeFunction('convertToInteractive',\n",
              "                                                    [key], {});\n",
              "        if (!dataTable) return;\n",
              "\n",
              "        const docLinkHtml = 'Like what you see? Visit the ' +\n",
              "          '<a target=\"_blank\" href=https://colab.research.google.com/notebooks/data_table.ipynb>data table notebook</a>'\n",
              "          + ' to learn more about interactive tables.';\n",
              "        element.innerHTML = '';\n",
              "        dataTable['output_type'] = 'display_data';\n",
              "        await google.colab.output.renderOutput(dataTable, element);\n",
              "        const docLink = document.createElement('div');\n",
              "        docLink.innerHTML = docLinkHtml;\n",
              "        element.appendChild(docLink);\n",
              "      }\n",
              "    </script>\n",
              "  </div>\n",
              "\n",
              "\n",
              "    <div id=\"df-5f0ca974-f863-4d62-9122-f56fda013c10\">\n",
              "      <button class=\"colab-df-quickchart\" onclick=\"quickchart('df-5f0ca974-f863-4d62-9122-f56fda013c10')\"\n",
              "                title=\"Suggest charts\"\n",
              "                style=\"display:none;\">\n",
              "\n",
              "<svg xmlns=\"http://www.w3.org/2000/svg\" height=\"24px\"viewBox=\"0 0 24 24\"\n",
              "     width=\"24px\">\n",
              "    <g>\n",
              "        <path d=\"M19 3H5c-1.1 0-2 .9-2 2v14c0 1.1.9 2 2 2h14c1.1 0 2-.9 2-2V5c0-1.1-.9-2-2-2zM9 17H7v-7h2v7zm4 0h-2V7h2v10zm4 0h-2v-4h2v4z\"/>\n",
              "    </g>\n",
              "</svg>\n",
              "      </button>\n",
              "\n",
              "<style>\n",
              "  .colab-df-quickchart {\n",
              "      --bg-color: #E8F0FE;\n",
              "      --fill-color: #1967D2;\n",
              "      --hover-bg-color: #E2EBFA;\n",
              "      --hover-fill-color: #174EA6;\n",
              "      --disabled-fill-color: #AAA;\n",
              "      --disabled-bg-color: #DDD;\n",
              "  }\n",
              "\n",
              "  [theme=dark] .colab-df-quickchart {\n",
              "      --bg-color: #3B4455;\n",
              "      --fill-color: #D2E3FC;\n",
              "      --hover-bg-color: #434B5C;\n",
              "      --hover-fill-color: #FFFFFF;\n",
              "      --disabled-bg-color: #3B4455;\n",
              "      --disabled-fill-color: #666;\n",
              "  }\n",
              "\n",
              "  .colab-df-quickchart {\n",
              "    background-color: var(--bg-color);\n",
              "    border: none;\n",
              "    border-radius: 50%;\n",
              "    cursor: pointer;\n",
              "    display: none;\n",
              "    fill: var(--fill-color);\n",
              "    height: 32px;\n",
              "    padding: 0;\n",
              "    width: 32px;\n",
              "  }\n",
              "\n",
              "  .colab-df-quickchart:hover {\n",
              "    background-color: var(--hover-bg-color);\n",
              "    box-shadow: 0 1px 2px rgba(60, 64, 67, 0.3), 0 1px 3px 1px rgba(60, 64, 67, 0.15);\n",
              "    fill: var(--button-hover-fill-color);\n",
              "  }\n",
              "\n",
              "  .colab-df-quickchart-complete:disabled,\n",
              "  .colab-df-quickchart-complete:disabled:hover {\n",
              "    background-color: var(--disabled-bg-color);\n",
              "    fill: var(--disabled-fill-color);\n",
              "    box-shadow: none;\n",
              "  }\n",
              "\n",
              "  .colab-df-spinner {\n",
              "    border: 2px solid var(--fill-color);\n",
              "    border-color: transparent;\n",
              "    border-bottom-color: var(--fill-color);\n",
              "    animation:\n",
              "      spin 1s steps(1) infinite;\n",
              "  }\n",
              "\n",
              "  @keyframes spin {\n",
              "    0% {\n",
              "      border-color: transparent;\n",
              "      border-bottom-color: var(--fill-color);\n",
              "      border-left-color: var(--fill-color);\n",
              "    }\n",
              "    20% {\n",
              "      border-color: transparent;\n",
              "      border-left-color: var(--fill-color);\n",
              "      border-top-color: var(--fill-color);\n",
              "    }\n",
              "    30% {\n",
              "      border-color: transparent;\n",
              "      border-left-color: var(--fill-color);\n",
              "      border-top-color: var(--fill-color);\n",
              "      border-right-color: var(--fill-color);\n",
              "    }\n",
              "    40% {\n",
              "      border-color: transparent;\n",
              "      border-right-color: var(--fill-color);\n",
              "      border-top-color: var(--fill-color);\n",
              "    }\n",
              "    60% {\n",
              "      border-color: transparent;\n",
              "      border-right-color: var(--fill-color);\n",
              "    }\n",
              "    80% {\n",
              "      border-color: transparent;\n",
              "      border-right-color: var(--fill-color);\n",
              "      border-bottom-color: var(--fill-color);\n",
              "    }\n",
              "    90% {\n",
              "      border-color: transparent;\n",
              "      border-bottom-color: var(--fill-color);\n",
              "    }\n",
              "  }\n",
              "</style>\n",
              "\n",
              "      <script>\n",
              "        async function quickchart(key) {\n",
              "          const quickchartButtonEl =\n",
              "            document.querySelector('#' + key + ' button');\n",
              "          quickchartButtonEl.disabled = true;  // To prevent multiple clicks.\n",
              "          quickchartButtonEl.classList.add('colab-df-spinner');\n",
              "          try {\n",
              "            const charts = await google.colab.kernel.invokeFunction(\n",
              "                'suggestCharts', [key], {});\n",
              "          } catch (error) {\n",
              "            console.error('Error during call to suggestCharts:', error);\n",
              "          }\n",
              "          quickchartButtonEl.classList.remove('colab-df-spinner');\n",
              "          quickchartButtonEl.classList.add('colab-df-quickchart-complete');\n",
              "        }\n",
              "        (() => {\n",
              "          let quickchartButtonEl =\n",
              "            document.querySelector('#df-5f0ca974-f863-4d62-9122-f56fda013c10 button');\n",
              "          quickchartButtonEl.style.display =\n",
              "            google.colab.kernel.accessAllowed ? 'block' : 'none';\n",
              "        })();\n",
              "      </script>\n",
              "    </div>\n",
              "\n",
              "    </div>\n",
              "  </div>\n"
            ],
            "application/vnd.google.colaboratory.intrinsic+json": {
              "type": "dataframe",
              "variable_name": "linking",
              "summary": "{\n  \"name\": \"linking\",\n  \"rows\": 33385,\n  \"fields\": [\n    {\n      \"column\": \"gvkey\",\n      \"properties\": {\n        \"dtype\": \"number\",\n        \"std\": 58960,\n        \"min\": 1000,\n        \"max\": 356289,\n        \"num_unique_values\": 28809,\n        \"samples\": [\n          29446,\n          25649,\n          35331\n        ],\n        \"semantic_type\": \"\",\n        \"description\": \"\"\n      }\n    },\n    {\n      \"column\": \"LINKTYPE\",\n      \"properties\": {\n        \"dtype\": \"category\",\n        \"num_unique_values\": 2,\n        \"samples\": [\n          \"LC\",\n          \"LU\"\n        ],\n        \"semantic_type\": \"\",\n        \"description\": \"\"\n      }\n    },\n    {\n      \"column\": \"PERMNO\",\n      \"properties\": {\n        \"dtype\": \"number\",\n        \"std\": 29931,\n        \"min\": 10000,\n        \"max\": 93436,\n        \"num_unique_values\": 29362,\n        \"samples\": [\n          75713,\n          80443\n        ],\n        \"semantic_type\": \"\",\n        \"description\": \"\"\n      }\n    },\n    {\n      \"column\": \"PERMCO\",\n      \"properties\": {\n        \"dtype\": \"number\",\n        \"std\": 19602,\n        \"min\": 2,\n        \"max\": 60123,\n        \"num_unique_values\": 28683,\n        \"samples\": [\n          52845,\n          37148\n        ],\n        \"semantic_type\": \"\",\n        \"description\": \"\"\n      }\n    },\n    {\n      \"column\": \"LINKDT\",\n      \"properties\": {\n        \"dtype\": \"date\",\n        \"min\": \"1949-07-01 00:00:00\",\n        \"max\": \"2024-12-31 00:00:00\",\n        \"num_unique_values\": 10428,\n        \"samples\": [\n          \"2015-04-07 00:00:00\",\n          \"2007-07-26 00:00:00\"\n        ],\n        \"semantic_type\": \"\",\n        \"description\": \"\"\n      }\n    },\n    {\n      \"column\": \"LINKENDDT\",\n      \"properties\": {\n        \"dtype\": \"date\",\n        \"min\": \"1958-12-23 00:00:00\",\n        \"max\": \"2099-12-31 00:00:00\",\n        \"num_unique_values\": 7007,\n        \"samples\": [\n          \"1998-05-08 00:00:00\",\n          \"2007-04-03 00:00:00\"\n        ],\n        \"semantic_type\": \"\",\n        \"description\": \"\"\n      }\n    }\n  ]\n}"
            }
          },
          "metadata": {},
          "execution_count": 7
        }
      ],
      "source": [
        "linking = pd.read_csv(folder + \"/linking_table_sanitized.csv\")\n",
        "linking['LINKDT'] = pd.to_datetime(linking['LINKDT'], format = \"%Y-%m-%d\")\n",
        "linking['LINKENDDT'] = pd.to_datetime(linking['LINKENDDT'], format = \"%Y-%m-%d\")\n",
        "linking.head(2)"
      ]
    },
    {
      "cell_type": "code",
      "source": [
        "fgv = firmchar.gvkey.unique()\n",
        "lgv = linking.gvkey.unique()\n",
        "print(f\"There are {len(fgv)} unique gvkey values in firm characteristics dataset, \\n with {len(lgv)} unique in linking table, and only {len(set(lgv) & set(fgv))} in intersection of these two\")"
      ],
      "metadata": {
        "colab": {
          "base_uri": "https://localhost:8080/"
        },
        "id": "cNqduJRh7vae",
        "outputId": "cca22ab8-64c7-4465-a30f-905b9a5b9f50"
      },
      "id": "cNqduJRh7vae",
      "execution_count": 8,
      "outputs": [
        {
          "output_type": "stream",
          "name": "stdout",
          "text": [
            "There are 32455 unique gvkey values in firm characteristics dataset, \n",
            " with 28809 unique in linking table, and only 17589 in intersection of these two\n"
          ]
        }
      ]
    },
    {
      "cell_type": "markdown",
      "source": [
        "### We build our first simple benchmark"
      ],
      "metadata": {
        "id": "j4BYrFzgDNP_"
      },
      "id": "j4BYrFzgDNP_"
    },
    {
      "cell_type": "code",
      "source": [
        "def slice_dataframes(dailyret: pd.DataFrame, firmchar: pd.DataFrame, min_date: str, max_date: str, is_training: bool = True) -> tuple:\n",
        "    \"\"\"\n",
        "    Slices two dataframes based on a date range.\n",
        "\n",
        "    Args:\n",
        "        dailyret (pd.DataFrame): DataFrame with daily data and 'date' column.\n",
        "        firmchar (pd.DataFrame): DataFrame with monthly data and 'date' column.\n",
        "        min_date (str): Start date for slicing (inclusive).\n",
        "        max_date (str): End date for slicing (inclusive for training, inclusive for testing).\n",
        "        is_training (bool): Flag to indicate if slicing is for training (True) or testing (False).\n",
        "\n",
        "    Returns:\n",
        "        tuple: Sliced dailyret and firmchar DataFrames.\n",
        "    \"\"\"\n",
        "    if is_training:\n",
        "        # For training: include both min_date and max_date\n",
        "        dailyret_sliced = dailyret[(dailyret['date'] >= min_date) & (dailyret['date'] <= max_date)].copy()\n",
        "        firmchar_sliced = firmchar[(firmchar['date'] >= min_date) & (firmchar['date'] <= max_date)].copy()\n",
        "    else:\n",
        "        # For testing: start forecasting for the next day after training, BUT we assume that we know the latest update of the factors as of EoM\n",
        "        dailyret_sliced = dailyret[(dailyret['date'] > min_date) & (dailyret['date'] < max_date)].copy()\n",
        "        firmchar_sliced = firmchar[(firmchar['date'] >= min_date) & (firmchar['date'] < max_date)].copy()\n",
        "    return dailyret_sliced, firmchar_sliced\n",
        "\n",
        "def process_dataframe(df: pd.DataFrame, nan_threshold: float = 0.3) -> tuple:\n",
        "    \"\"\"\n",
        "    Processes a DataFrame by dropping columns with high NaN percentage and filling NaNs with cross-sectional means.\n",
        "\n",
        "    Args:\n",
        "        df (pd.DataFrame): Input DataFrame.\n",
        "        nan_threshold (float): Threshold for dropping columns based on NaN percentage (default: 0.3).\n",
        "\n",
        "    Returns:\n",
        "        tuple: Processed DataFrame and dictionary of cross-sectional means.\n",
        "    \"\"\"\n",
        "    # Calculate NaN percentage per column\n",
        "    nan_pct = df.isna().mean()\n",
        "    cols_to_drop = nan_pct[nan_pct > nan_threshold].index\n",
        "    df_processed = df.drop(columns=cols_to_drop)\n",
        "\n",
        "    # Calculate cross-sectional means (excluding 'date', 'gvkey', 'DlyRet')\n",
        "    exclude_cols = ['date', 'gvkey', 'DlyRet', 'PERMCO',  'PERMNO',  'SICCD', 'NAICS']\n",
        "    feature_cols = [col for col in df_processed.columns if col not in exclude_cols]\n",
        "    cs_means = df_processed[feature_cols].mean()\n",
        "\n",
        "    # Fill NaNs with cross-sectional means\n",
        "    for col in feature_cols:\n",
        "        df_processed[col] = df_processed[col].fillna(cs_means[col])\n",
        "\n",
        "    return df_processed, cs_means, cols_to_drop"
      ],
      "metadata": {
        "id": "3GFfTMRHDLxS"
      },
      "id": "3GFfTMRHDLxS",
      "execution_count": 9,
      "outputs": []
    },
    {
      "cell_type": "code",
      "source": [
        "def train_model(train_df: pd.DataFrame) -> LinearRegression:\n",
        "    \"\"\"\n",
        "    Trains a Linear Regression model on the processed DataFrame.\n",
        "\n",
        "    Args:\n",
        "        train_df (pd.DataFrame): Processed DataFrame with 'DlyRet' as target.\n",
        "\n",
        "    Returns:\n",
        "        LinearRegression: Trained model.\n",
        "        final_feature_columns: final columns used in the training\n",
        "    \"\"\"\n",
        "    feature_cols = [col for col in train_df.columns if col not in ['date', 'gvkey', 'DlyRet', 'PERMCO',\n",
        "                                                                   'PERMNO',  'SICCD', 'NAICS' ]]\n",
        "    X = train_df[feature_cols]\n",
        "    y = train_df['DlyRet']\n",
        "    model = LinearRegression()\n",
        "    model.fit(X, y)\n",
        "    return model, feature_cols\n",
        "\n",
        "def normalize_weights(predictions: pd.Series) -> pd.Series:\n",
        "    \"\"\"\n",
        "    Applies threshold to predictions and normalizes them to sum to 1 within each date.\n",
        "\n",
        "    Args:\n",
        "        predictions (pd.Series): Predicted returns with 'date' and 'PERMCO' and 'PERMNO' in index.\n",
        "\n",
        "    Returns:\n",
        "        pd.Series: Normalized weights.\n",
        "    \"\"\"\n",
        "\n",
        "    # Normalize within each date\n",
        "    weights = predictions.groupby('date')[['prediction']].transform(lambda x: x / x.sum() if x.sum() != 0 else 0)\n",
        "    return weights"
      ],
      "metadata": {
        "id": "EjJt8zkwDLt7"
      },
      "id": "EjJt8zkwDLt7",
      "execution_count": 10,
      "outputs": []
    },
    {
      "cell_type": "code",
      "source": [
        "def portfolio_returns(dailyret: pd.DataFrame, firmchar: pd.DataFrame, window: int,\n",
        "                      ) -> tuple:\n",
        "    \"\"\"\n",
        "    Computes portfolio returns using a rolling window strategy with Linear Regression.\n",
        "\n",
        "    Args:\n",
        "        dailyret (pd.DataFrame): DataFrame with daily returns and 'date' column.\n",
        "        firmchar (pd.DataFrame): DataFrame with monthly characteristics and 'date' column.\n",
        "        window (int): Number of months for training window.\n",
        "\n",
        "    Returns:\n",
        "        tuple: Time-series of portfolio returns (DataFrame) and first evaluation date.\n",
        "    \"\"\"\n",
        "    unique_dates = sorted(firmchar['date'].unique())\n",
        "\n",
        "    if window < 2:\n",
        "        raise ValueError(\"Window size must be at least 2.\")\n",
        "\n",
        "    portfolio_returns = []\n",
        "    first_eval_date = None\n",
        "\n",
        "    for i in tqdm(range(window, len(unique_dates) - 6)): ### we will stop 6 months before the end of data because, based on the graph, there are more and more NaNs\n",
        "\n",
        "        train_dates = unique_dates[i - window:i]\n",
        "        test_date = unique_dates[i]\n",
        "        min_train_date = min(train_dates)\n",
        "        max_train_date = max(train_dates)\n",
        "        print(\"Max train date = \",max_train_date, \"Test date = \", test_date)\n",
        "\n",
        "        train_dailyret, train_firmchar = slice_dataframes(dailyret, firmchar, min_date=min_train_date, max_date=max_train_date, is_training=True)\n",
        "\n",
        "        train_merged = merge_all_data_frames(train_dailyret, train_firmchar, jkp_factors=None, linking_table=linking).reset_index().drop(columns=['index_y', 'index', 'index_x'])\n",
        "\n",
        "        factorcolumns = train_firmchar.columns[2:]\n",
        "        train_merged = train_merged.dropna(subset=factorcolumns, how='all').reset_index(drop=True)\n",
        "        #### I want to train only on those stocks where I had at least 1 column with non-NaN values\n",
        "\n",
        "        train_processed, cs_means, cols_to_drop = process_dataframe(train_merged)\n",
        "\n",
        "        model, columns_in_training = train_model(train_processed)\n",
        "\n",
        "        test_dailyret, test_firmchar = slice_dataframes(dailyret, firmchar, min_date=max_train_date, max_date=test_date, is_training=False)\n",
        "        test_merged = merge_all_data_frames(test_dailyret, test_firmchar, jkp_factors=None, linking_table=linking).reset_index().drop(columns=['index_y', 'index', 'index_x'])\n",
        "\n",
        "        test_processed = test_merged.drop(columns=cols_to_drop)\n",
        "\n",
        "        test_processed = test_processed[train_processed.columns]\n",
        "\n",
        "        feature_cols = [col for col in test_processed.columns if col not in ['date', 'gvkey', 'DlyRet', 'PERMCO',\n",
        "                                                                             'PERMNO',  'SICCD', 'NAICS']]\n",
        "        for col in feature_cols:\n",
        "            if col in cs_means:\n",
        "                test_processed[col] = test_processed[col].fillna(cs_means[col])\n",
        "\n",
        "        X_test = test_processed[columns_in_training]\n",
        "\n",
        "        predictions = pd.concat([pd.DataFrame(model.predict(X_test), columns = ['prediction']), test_processed[['date', 'PERMCO', 'PERMNO']]], axis=1)\n",
        "\n",
        "        weights = normalize_weights(predictions)\n",
        "\n",
        "        test_processed['weight'] = weights.prediction\n",
        "        test_processed['weighted_return'] = test_processed['weight'] * test_processed['DlyRet']\n",
        "\n",
        "        daily_portfolio_returns = test_processed.groupby('date')['weighted_return'].sum().reset_index()\n",
        "\n",
        "        portfolio_returns.append(daily_portfolio_returns)\n",
        "\n",
        "        gc.collect()\n",
        "\n",
        "        if first_eval_date is None:\n",
        "            first_eval_date = test_date\n",
        "\n",
        "    portfolio_returns_df = pd.concat(portfolio_returns, ignore_index=True)\n",
        "    portfolio_returns_df['date'] = pd.to_datetime(portfolio_returns_df['date'])\n",
        "\n",
        "    return portfolio_returns_df, first_eval_date"
      ],
      "metadata": {
        "id": "K3kiFaRkDLq4"
      },
      "id": "K3kiFaRkDLq4",
      "execution_count": 11,
      "outputs": []
    },
    {
      "cell_type": "code",
      "source": [
        "portfolio_returns_df, first_date = portfolio_returns(dailyret.drop(columns = ['sprtrn']), firmchar, window=6)"
      ],
      "metadata": {
        "colab": {
          "base_uri": "https://localhost:8080/"
        },
        "collapsed": true,
        "id": "cPSkaS5oDLnm",
        "outputId": "2c702e8a-7d3a-4cfe-bccd-cc07ab86f035"
      },
      "id": "cPSkaS5oDLnm",
      "execution_count": 12,
      "outputs": [
        {
          "output_type": "stream",
          "name": "stderr",
          "text": [
            "\r  0%|          | 0/292 [00:00<?, ?it/s]"
          ]
        },
        {
          "output_type": "stream",
          "name": "stdout",
          "text": [
            "Max train date =  2000-06-30 00:00:00 Test date =  2000-07-31 00:00:00\n"
          ]
        },
        {
          "output_type": "stream",
          "name": "stderr",
          "text": [
            "\r  0%|          | 1/292 [00:10<48:59, 10.10s/it]"
          ]
        },
        {
          "output_type": "stream",
          "name": "stdout",
          "text": [
            "Max train date =  2000-07-31 00:00:00 Test date =  2000-08-31 00:00:00\n"
          ]
        },
        {
          "output_type": "stream",
          "name": "stderr",
          "text": [
            "\r  1%|          | 2/292 [00:23<59:27, 12.30s/it]"
          ]
        },
        {
          "output_type": "stream",
          "name": "stdout",
          "text": [
            "Max train date =  2000-08-31 00:00:00 Test date =  2000-09-30 00:00:00\n"
          ]
        },
        {
          "output_type": "stream",
          "name": "stderr",
          "text": [
            "\r  1%|          | 3/292 [00:37<1:01:36, 12.79s/it]"
          ]
        },
        {
          "output_type": "stream",
          "name": "stdout",
          "text": [
            "Max train date =  2000-09-30 00:00:00 Test date =  2000-10-31 00:00:00\n"
          ]
        },
        {
          "output_type": "stream",
          "name": "stderr",
          "text": [
            "\r  1%|▏         | 4/292 [00:45<53:06, 11.07s/it]  "
          ]
        },
        {
          "output_type": "stream",
          "name": "stdout",
          "text": [
            "Max train date =  2000-10-31 00:00:00 Test date =  2000-11-30 00:00:00\n"
          ]
        },
        {
          "output_type": "stream",
          "name": "stderr",
          "text": [
            "\r  2%|▏         | 5/292 [00:55<50:43, 10.60s/it]"
          ]
        },
        {
          "output_type": "stream",
          "name": "stdout",
          "text": [
            "Max train date =  2000-11-30 00:00:00 Test date =  2000-12-31 00:00:00\n"
          ]
        },
        {
          "output_type": "stream",
          "name": "stderr",
          "text": [
            "\r  2%|▏         | 6/292 [01:06<51:49, 10.87s/it]"
          ]
        },
        {
          "output_type": "stream",
          "name": "stdout",
          "text": [
            "Max train date =  2000-12-31 00:00:00 Test date =  2001-01-31 00:00:00\n"
          ]
        },
        {
          "output_type": "stream",
          "name": "stderr",
          "text": [
            "\r  2%|▏         | 7/292 [01:14<47:12,  9.94s/it]"
          ]
        },
        {
          "output_type": "stream",
          "name": "stdout",
          "text": [
            "Max train date =  2001-01-31 00:00:00 Test date =  2001-02-28 00:00:00\n"
          ]
        },
        {
          "output_type": "stream",
          "name": "stderr",
          "text": [
            "\r  3%|▎         | 8/292 [01:24<46:07,  9.74s/it]"
          ]
        },
        {
          "output_type": "stream",
          "name": "stdout",
          "text": [
            "Max train date =  2001-02-28 00:00:00 Test date =  2001-03-31 00:00:00\n"
          ]
        },
        {
          "output_type": "stream",
          "name": "stderr",
          "text": [
            "\r  3%|▎         | 9/292 [01:35<48:49, 10.35s/it]"
          ]
        },
        {
          "output_type": "stream",
          "name": "stdout",
          "text": [
            "Max train date =  2001-03-31 00:00:00 Test date =  2001-04-30 00:00:00\n"
          ]
        },
        {
          "output_type": "stream",
          "name": "stderr",
          "text": [
            "\r  3%|▎         | 10/292 [01:43<45:06,  9.60s/it]"
          ]
        },
        {
          "output_type": "stream",
          "name": "stdout",
          "text": [
            "Max train date =  2001-04-30 00:00:00 Test date =  2001-05-31 00:00:00\n"
          ]
        },
        {
          "output_type": "stream",
          "name": "stderr",
          "text": [
            "\r  4%|▍         | 11/292 [01:53<44:34,  9.52s/it]"
          ]
        },
        {
          "output_type": "stream",
          "name": "stdout",
          "text": [
            "Max train date =  2001-05-31 00:00:00 Test date =  2001-06-30 00:00:00\n"
          ]
        },
        {
          "output_type": "stream",
          "name": "stderr",
          "text": [
            "\r  4%|▍         | 12/292 [02:05<47:41, 10.22s/it]"
          ]
        },
        {
          "output_type": "stream",
          "name": "stdout",
          "text": [
            "Max train date =  2001-06-30 00:00:00 Test date =  2001-07-31 00:00:00\n"
          ]
        },
        {
          "output_type": "stream",
          "name": "stderr",
          "text": [
            "\r  4%|▍         | 13/292 [02:12<43:54,  9.44s/it]"
          ]
        },
        {
          "output_type": "stream",
          "name": "stdout",
          "text": [
            "Max train date =  2001-07-31 00:00:00 Test date =  2001-08-31 00:00:00\n"
          ]
        },
        {
          "output_type": "stream",
          "name": "stderr",
          "text": [
            "\r  5%|▍         | 14/292 [02:21<43:13,  9.33s/it]"
          ]
        },
        {
          "output_type": "stream",
          "name": "stdout",
          "text": [
            "Max train date =  2001-08-31 00:00:00 Test date =  2001-09-30 00:00:00\n"
          ]
        },
        {
          "output_type": "stream",
          "name": "stderr",
          "text": [
            "\r  5%|▌         | 15/292 [02:31<44:20,  9.60s/it]"
          ]
        },
        {
          "output_type": "stream",
          "name": "stdout",
          "text": [
            "Max train date =  2001-09-30 00:00:00 Test date =  2001-10-31 00:00:00\n"
          ]
        },
        {
          "output_type": "stream",
          "name": "stderr",
          "text": [
            "\r  5%|▌         | 16/292 [02:39<41:23,  9.00s/it]"
          ]
        },
        {
          "output_type": "stream",
          "name": "stdout",
          "text": [
            "Max train date =  2001-10-31 00:00:00 Test date =  2001-11-30 00:00:00\n"
          ]
        },
        {
          "output_type": "stream",
          "name": "stderr",
          "text": [
            "\r  6%|▌         | 17/292 [02:49<41:56,  9.15s/it]"
          ]
        },
        {
          "output_type": "stream",
          "name": "stdout",
          "text": [
            "Max train date =  2001-11-30 00:00:00 Test date =  2001-12-31 00:00:00\n"
          ]
        },
        {
          "output_type": "stream",
          "name": "stderr",
          "text": [
            "\r  6%|▌         | 18/292 [02:57<41:16,  9.04s/it]"
          ]
        },
        {
          "output_type": "stream",
          "name": "stdout",
          "text": [
            "Max train date =  2001-12-31 00:00:00 Test date =  2002-01-31 00:00:00\n"
          ]
        },
        {
          "output_type": "stream",
          "name": "stderr",
          "text": [
            "\r  7%|▋         | 19/292 [03:05<39:35,  8.70s/it]"
          ]
        },
        {
          "output_type": "stream",
          "name": "stdout",
          "text": [
            "Max train date =  2002-01-31 00:00:00 Test date =  2002-02-28 00:00:00\n"
          ]
        },
        {
          "output_type": "stream",
          "name": "stderr",
          "text": [
            "\r  7%|▋         | 20/292 [03:14<38:55,  8.58s/it]"
          ]
        },
        {
          "output_type": "stream",
          "name": "stdout",
          "text": [
            "Max train date =  2002-02-28 00:00:00 Test date =  2002-03-31 00:00:00\n"
          ]
        },
        {
          "output_type": "stream",
          "name": "stderr",
          "text": [
            "\r  7%|▋         | 21/292 [03:24<40:57,  9.07s/it]"
          ]
        },
        {
          "output_type": "stream",
          "name": "stdout",
          "text": [
            "Max train date =  2002-03-31 00:00:00 Test date =  2002-04-30 00:00:00\n"
          ]
        },
        {
          "output_type": "stream",
          "name": "stderr",
          "text": [
            "\r  8%|▊         | 22/292 [03:33<40:39,  9.04s/it]"
          ]
        },
        {
          "output_type": "stream",
          "name": "stdout",
          "text": [
            "Max train date =  2002-04-30 00:00:00 Test date =  2002-05-31 00:00:00\n"
          ]
        },
        {
          "output_type": "stream",
          "name": "stderr",
          "text": [
            "\r  8%|▊         | 23/292 [03:41<39:13,  8.75s/it]"
          ]
        },
        {
          "output_type": "stream",
          "name": "stdout",
          "text": [
            "Max train date =  2002-05-31 00:00:00 Test date =  2002-06-30 00:00:00\n"
          ]
        },
        {
          "output_type": "stream",
          "name": "stderr",
          "text": [
            "\r  8%|▊         | 24/292 [03:51<40:23,  9.04s/it]"
          ]
        },
        {
          "output_type": "stream",
          "name": "stdout",
          "text": [
            "Max train date =  2002-06-30 00:00:00 Test date =  2002-07-31 00:00:00\n"
          ]
        },
        {
          "output_type": "stream",
          "name": "stderr",
          "text": [
            "\r  9%|▊         | 25/292 [03:59<39:27,  8.87s/it]"
          ]
        },
        {
          "output_type": "stream",
          "name": "stdout",
          "text": [
            "Max train date =  2002-07-31 00:00:00 Test date =  2002-08-31 00:00:00\n"
          ]
        },
        {
          "output_type": "stream",
          "name": "stderr",
          "text": [
            "\r  9%|▉         | 26/292 [04:07<38:27,  8.67s/it]"
          ]
        },
        {
          "output_type": "stream",
          "name": "stdout",
          "text": [
            "Max train date =  2002-08-31 00:00:00 Test date =  2002-09-30 00:00:00\n"
          ]
        },
        {
          "output_type": "stream",
          "name": "stderr",
          "text": [
            "\r  9%|▉         | 27/292 [04:17<39:45,  9.00s/it]"
          ]
        },
        {
          "output_type": "stream",
          "name": "stdout",
          "text": [
            "Max train date =  2002-09-30 00:00:00 Test date =  2002-10-31 00:00:00\n"
          ]
        },
        {
          "output_type": "stream",
          "name": "stderr",
          "text": [
            "\r 10%|▉         | 28/292 [04:24<37:19,  8.48s/it]"
          ]
        },
        {
          "output_type": "stream",
          "name": "stdout",
          "text": [
            "Max train date =  2002-10-31 00:00:00 Test date =  2002-11-30 00:00:00\n"
          ]
        },
        {
          "output_type": "stream",
          "name": "stderr",
          "text": [
            "\r 10%|▉         | 29/292 [04:33<37:12,  8.49s/it]"
          ]
        },
        {
          "output_type": "stream",
          "name": "stdout",
          "text": [
            "Max train date =  2002-11-30 00:00:00 Test date =  2002-12-31 00:00:00\n"
          ]
        },
        {
          "output_type": "stream",
          "name": "stderr",
          "text": [
            "\r 10%|█         | 30/292 [04:46<43:10,  9.89s/it]"
          ]
        },
        {
          "output_type": "stream",
          "name": "stdout",
          "text": [
            "Max train date =  2002-12-31 00:00:00 Test date =  2003-01-31 00:00:00\n"
          ]
        },
        {
          "output_type": "stream",
          "name": "stderr",
          "text": [
            "\r 11%|█         | 31/292 [04:54<40:13,  9.25s/it]"
          ]
        },
        {
          "output_type": "stream",
          "name": "stdout",
          "text": [
            "Max train date =  2003-01-31 00:00:00 Test date =  2003-02-28 00:00:00\n"
          ]
        },
        {
          "output_type": "stream",
          "name": "stderr",
          "text": [
            "\r 11%|█         | 32/292 [05:03<39:53,  9.21s/it]"
          ]
        },
        {
          "output_type": "stream",
          "name": "stdout",
          "text": [
            "Max train date =  2003-02-28 00:00:00 Test date =  2003-03-31 00:00:00\n"
          ]
        },
        {
          "output_type": "stream",
          "name": "stderr",
          "text": [
            "\r 11%|█▏        | 33/292 [05:11<38:41,  8.96s/it]"
          ]
        },
        {
          "output_type": "stream",
          "name": "stdout",
          "text": [
            "Max train date =  2003-03-31 00:00:00 Test date =  2003-04-30 00:00:00\n"
          ]
        },
        {
          "output_type": "stream",
          "name": "stderr",
          "text": [
            "\r 12%|█▏        | 34/292 [05:21<40:04,  9.32s/it]"
          ]
        },
        {
          "output_type": "stream",
          "name": "stdout",
          "text": [
            "Max train date =  2003-04-30 00:00:00 Test date =  2003-05-31 00:00:00\n"
          ]
        },
        {
          "output_type": "stream",
          "name": "stderr",
          "text": [
            "\r 12%|█▏        | 35/292 [05:36<46:36, 10.88s/it]"
          ]
        },
        {
          "output_type": "stream",
          "name": "stdout",
          "text": [
            "Max train date =  2003-05-31 00:00:00 Test date =  2003-06-30 00:00:00\n"
          ]
        },
        {
          "output_type": "stream",
          "name": "stderr",
          "text": [
            "\r 12%|█▏        | 36/292 [05:49<49:50, 11.68s/it]"
          ]
        },
        {
          "output_type": "stream",
          "name": "stdout",
          "text": [
            "Max train date =  2003-06-30 00:00:00 Test date =  2003-07-31 00:00:00\n"
          ]
        },
        {
          "output_type": "stream",
          "name": "stderr",
          "text": [
            "\r 13%|█▎        | 37/292 [05:56<43:47, 10.30s/it]"
          ]
        },
        {
          "output_type": "stream",
          "name": "stdout",
          "text": [
            "Max train date =  2003-07-31 00:00:00 Test date =  2003-08-31 00:00:00\n"
          ]
        },
        {
          "output_type": "stream",
          "name": "stderr",
          "text": [
            "\r 13%|█▎        | 38/292 [06:05<40:50,  9.65s/it]"
          ]
        },
        {
          "output_type": "stream",
          "name": "stdout",
          "text": [
            "Max train date =  2003-08-31 00:00:00 Test date =  2003-09-30 00:00:00\n"
          ]
        },
        {
          "output_type": "stream",
          "name": "stderr",
          "text": [
            "\r 13%|█▎        | 39/292 [06:13<39:03,  9.26s/it]"
          ]
        },
        {
          "output_type": "stream",
          "name": "stdout",
          "text": [
            "Max train date =  2003-09-30 00:00:00 Test date =  2003-10-31 00:00:00\n"
          ]
        },
        {
          "output_type": "stream",
          "name": "stderr",
          "text": [
            "\r 14%|█▎        | 40/292 [06:20<36:21,  8.66s/it]"
          ]
        },
        {
          "output_type": "stream",
          "name": "stdout",
          "text": [
            "Max train date =  2003-10-31 00:00:00 Test date =  2003-11-30 00:00:00\n"
          ]
        },
        {
          "output_type": "stream",
          "name": "stderr",
          "text": [
            "\r 14%|█▍        | 41/292 [06:29<36:42,  8.77s/it]"
          ]
        },
        {
          "output_type": "stream",
          "name": "stdout",
          "text": [
            "Max train date =  2003-11-30 00:00:00 Test date =  2003-12-31 00:00:00\n"
          ]
        },
        {
          "output_type": "stream",
          "name": "stderr",
          "text": [
            "\r 14%|█▍        | 42/292 [06:38<36:07,  8.67s/it]"
          ]
        },
        {
          "output_type": "stream",
          "name": "stdout",
          "text": [
            "Max train date =  2003-12-31 00:00:00 Test date =  2004-01-31 00:00:00\n"
          ]
        },
        {
          "output_type": "stream",
          "name": "stderr",
          "text": [
            "\r 15%|█▍        | 43/292 [06:46<35:37,  8.58s/it]"
          ]
        },
        {
          "output_type": "stream",
          "name": "stdout",
          "text": [
            "Max train date =  2004-01-31 00:00:00 Test date =  2004-02-29 00:00:00\n"
          ]
        },
        {
          "output_type": "stream",
          "name": "stderr",
          "text": [
            "\r 15%|█▌        | 44/292 [06:53<33:46,  8.17s/it]"
          ]
        },
        {
          "output_type": "stream",
          "name": "stdout",
          "text": [
            "Max train date =  2004-02-29 00:00:00 Test date =  2004-03-31 00:00:00\n"
          ]
        },
        {
          "output_type": "stream",
          "name": "stderr",
          "text": [
            "\r 15%|█▌        | 45/292 [07:03<35:00,  8.50s/it]"
          ]
        },
        {
          "output_type": "stream",
          "name": "stdout",
          "text": [
            "Max train date =  2004-03-31 00:00:00 Test date =  2004-04-30 00:00:00\n"
          ]
        },
        {
          "output_type": "stream",
          "name": "stderr",
          "text": [
            "\r 16%|█▌        | 46/292 [07:09<32:46,  7.99s/it]"
          ]
        },
        {
          "output_type": "stream",
          "name": "stdout",
          "text": [
            "Max train date =  2004-04-30 00:00:00 Test date =  2004-05-31 00:00:00\n"
          ]
        },
        {
          "output_type": "stream",
          "name": "stderr",
          "text": [
            "\r 16%|█▌        | 47/292 [07:18<33:03,  8.10s/it]"
          ]
        },
        {
          "output_type": "stream",
          "name": "stdout",
          "text": [
            "Max train date =  2004-05-31 00:00:00 Test date =  2004-06-30 00:00:00\n"
          ]
        },
        {
          "output_type": "stream",
          "name": "stderr",
          "text": [
            "\r 16%|█▋        | 48/292 [07:27<34:34,  8.50s/it]"
          ]
        },
        {
          "output_type": "stream",
          "name": "stdout",
          "text": [
            "Max train date =  2004-06-30 00:00:00 Test date =  2004-07-31 00:00:00\n"
          ]
        },
        {
          "output_type": "stream",
          "name": "stderr",
          "text": [
            "\r 17%|█▋        | 49/292 [07:35<33:18,  8.22s/it]"
          ]
        },
        {
          "output_type": "stream",
          "name": "stdout",
          "text": [
            "Max train date =  2004-07-31 00:00:00 Test date =  2004-08-31 00:00:00\n"
          ]
        },
        {
          "output_type": "stream",
          "name": "stderr",
          "text": [
            "\r 17%|█▋        | 50/292 [07:44<34:20,  8.51s/it]"
          ]
        },
        {
          "output_type": "stream",
          "name": "stdout",
          "text": [
            "Max train date =  2004-08-31 00:00:00 Test date =  2004-09-30 00:00:00\n"
          ]
        },
        {
          "output_type": "stream",
          "name": "stderr",
          "text": [
            "\r 17%|█▋        | 51/292 [07:53<34:55,  8.69s/it]"
          ]
        },
        {
          "output_type": "stream",
          "name": "stdout",
          "text": [
            "Max train date =  2004-09-30 00:00:00 Test date =  2004-10-31 00:00:00\n"
          ]
        },
        {
          "output_type": "stream",
          "name": "stderr",
          "text": [
            "\r 18%|█▊        | 52/292 [08:03<36:35,  9.15s/it]"
          ]
        },
        {
          "output_type": "stream",
          "name": "stdout",
          "text": [
            "Max train date =  2004-10-31 00:00:00 Test date =  2004-11-30 00:00:00\n"
          ]
        },
        {
          "output_type": "stream",
          "name": "stderr",
          "text": [
            "\r 18%|█▊        | 53/292 [08:12<36:06,  9.06s/it]"
          ]
        },
        {
          "output_type": "stream",
          "name": "stdout",
          "text": [
            "Max train date =  2004-11-30 00:00:00 Test date =  2004-12-31 00:00:00\n"
          ]
        },
        {
          "output_type": "stream",
          "name": "stderr",
          "text": [
            "\r 18%|█▊        | 54/292 [08:22<36:30,  9.20s/it]"
          ]
        },
        {
          "output_type": "stream",
          "name": "stdout",
          "text": [
            "Max train date =  2004-12-31 00:00:00 Test date =  2005-01-31 00:00:00\n"
          ]
        },
        {
          "output_type": "stream",
          "name": "stderr",
          "text": [
            "\r 19%|█▉        | 55/292 [08:31<35:59,  9.11s/it]"
          ]
        },
        {
          "output_type": "stream",
          "name": "stdout",
          "text": [
            "Max train date =  2005-01-31 00:00:00 Test date =  2005-02-28 00:00:00\n"
          ]
        },
        {
          "output_type": "stream",
          "name": "stderr",
          "text": [
            "\r 19%|█▉        | 56/292 [08:39<34:31,  8.78s/it]"
          ]
        },
        {
          "output_type": "stream",
          "name": "stdout",
          "text": [
            "Max train date =  2005-02-28 00:00:00 Test date =  2005-03-31 00:00:00\n"
          ]
        },
        {
          "output_type": "stream",
          "name": "stderr",
          "text": [
            "\r 20%|█▉        | 57/292 [08:48<35:35,  9.09s/it]"
          ]
        },
        {
          "output_type": "stream",
          "name": "stdout",
          "text": [
            "Max train date =  2005-03-31 00:00:00 Test date =  2005-04-30 00:00:00\n"
          ]
        },
        {
          "output_type": "stream",
          "name": "stderr",
          "text": [
            "\r 20%|█▉        | 58/292 [08:55<32:57,  8.45s/it]"
          ]
        },
        {
          "output_type": "stream",
          "name": "stdout",
          "text": [
            "Max train date =  2005-04-30 00:00:00 Test date =  2005-05-31 00:00:00\n"
          ]
        },
        {
          "output_type": "stream",
          "name": "stderr",
          "text": [
            "\r 20%|██        | 59/292 [09:04<32:38,  8.41s/it]"
          ]
        },
        {
          "output_type": "stream",
          "name": "stdout",
          "text": [
            "Max train date =  2005-05-31 00:00:00 Test date =  2005-06-30 00:00:00\n"
          ]
        },
        {
          "output_type": "stream",
          "name": "stderr",
          "text": [
            "\r 21%|██        | 60/292 [09:13<34:10,  8.84s/it]"
          ]
        },
        {
          "output_type": "stream",
          "name": "stdout",
          "text": [
            "Max train date =  2005-06-30 00:00:00 Test date =  2005-07-31 00:00:00\n"
          ]
        },
        {
          "output_type": "stream",
          "name": "stderr",
          "text": [
            "\r 21%|██        | 61/292 [09:21<32:53,  8.55s/it]"
          ]
        },
        {
          "output_type": "stream",
          "name": "stdout",
          "text": [
            "Max train date =  2005-07-31 00:00:00 Test date =  2005-08-31 00:00:00\n"
          ]
        },
        {
          "output_type": "stream",
          "name": "stderr",
          "text": [
            "\r 21%|██        | 62/292 [09:31<34:14,  8.93s/it]"
          ]
        },
        {
          "output_type": "stream",
          "name": "stdout",
          "text": [
            "Max train date =  2005-08-31 00:00:00 Test date =  2005-09-30 00:00:00\n"
          ]
        },
        {
          "output_type": "stream",
          "name": "stderr",
          "text": [
            "\r 22%|██▏       | 63/292 [09:41<35:16,  9.24s/it]"
          ]
        },
        {
          "output_type": "stream",
          "name": "stdout",
          "text": [
            "Max train date =  2005-09-30 00:00:00 Test date =  2005-10-31 00:00:00\n"
          ]
        },
        {
          "output_type": "stream",
          "name": "stderr",
          "text": [
            "\r 22%|██▏       | 64/292 [09:49<34:01,  8.95s/it]"
          ]
        },
        {
          "output_type": "stream",
          "name": "stdout",
          "text": [
            "Max train date =  2005-10-31 00:00:00 Test date =  2005-11-30 00:00:00\n"
          ]
        },
        {
          "output_type": "stream",
          "name": "stderr",
          "text": [
            "\r 22%|██▏       | 65/292 [10:00<35:51,  9.48s/it]"
          ]
        },
        {
          "output_type": "stream",
          "name": "stdout",
          "text": [
            "Max train date =  2005-11-30 00:00:00 Test date =  2005-12-31 00:00:00\n"
          ]
        },
        {
          "output_type": "stream",
          "name": "stderr",
          "text": [
            "\r 23%|██▎       | 66/292 [10:10<36:30,  9.69s/it]"
          ]
        },
        {
          "output_type": "stream",
          "name": "stdout",
          "text": [
            "Max train date =  2005-12-31 00:00:00 Test date =  2006-01-31 00:00:00\n"
          ]
        },
        {
          "output_type": "stream",
          "name": "stderr",
          "text": [
            "\r 23%|██▎       | 67/292 [10:18<34:36,  9.23s/it]"
          ]
        },
        {
          "output_type": "stream",
          "name": "stdout",
          "text": [
            "Max train date =  2006-01-31 00:00:00 Test date =  2006-02-28 00:00:00\n"
          ]
        },
        {
          "output_type": "stream",
          "name": "stderr",
          "text": [
            "\r 23%|██▎       | 68/292 [10:29<35:43,  9.57s/it]"
          ]
        },
        {
          "output_type": "stream",
          "name": "stdout",
          "text": [
            "Max train date =  2006-02-28 00:00:00 Test date =  2006-03-31 00:00:00\n"
          ]
        },
        {
          "output_type": "stream",
          "name": "stderr",
          "text": [
            "\r 24%|██▎       | 69/292 [10:38<35:36,  9.58s/it]"
          ]
        },
        {
          "output_type": "stream",
          "name": "stdout",
          "text": [
            "Max train date =  2006-03-31 00:00:00 Test date =  2006-04-30 00:00:00\n"
          ]
        },
        {
          "output_type": "stream",
          "name": "stderr",
          "text": [
            "\r 24%|██▍       | 70/292 [10:46<33:45,  9.12s/it]"
          ]
        },
        {
          "output_type": "stream",
          "name": "stdout",
          "text": [
            "Max train date =  2006-04-30 00:00:00 Test date =  2006-05-31 00:00:00\n"
          ]
        },
        {
          "output_type": "stream",
          "name": "stderr",
          "text": [
            "\r 24%|██▍       | 71/292 [10:56<34:12,  9.29s/it]"
          ]
        },
        {
          "output_type": "stream",
          "name": "stdout",
          "text": [
            "Max train date =  2006-05-31 00:00:00 Test date =  2006-06-30 00:00:00\n"
          ]
        },
        {
          "output_type": "stream",
          "name": "stderr",
          "text": [
            "\r 25%|██▍       | 72/292 [11:06<35:03,  9.56s/it]"
          ]
        },
        {
          "output_type": "stream",
          "name": "stdout",
          "text": [
            "Max train date =  2006-06-30 00:00:00 Test date =  2006-07-31 00:00:00\n"
          ]
        },
        {
          "output_type": "stream",
          "name": "stderr",
          "text": [
            "\r 25%|██▌       | 73/292 [11:15<33:34,  9.20s/it]"
          ]
        },
        {
          "output_type": "stream",
          "name": "stdout",
          "text": [
            "Max train date =  2006-07-31 00:00:00 Test date =  2006-08-31 00:00:00\n"
          ]
        },
        {
          "output_type": "stream",
          "name": "stderr",
          "text": [
            "\r 25%|██▌       | 74/292 [11:24<33:30,  9.22s/it]"
          ]
        },
        {
          "output_type": "stream",
          "name": "stdout",
          "text": [
            "Max train date =  2006-08-31 00:00:00 Test date =  2006-09-30 00:00:00\n"
          ]
        },
        {
          "output_type": "stream",
          "name": "stderr",
          "text": [
            "\r 26%|██▌       | 75/292 [11:35<34:54,  9.65s/it]"
          ]
        },
        {
          "output_type": "stream",
          "name": "stdout",
          "text": [
            "Max train date =  2006-09-30 00:00:00 Test date =  2006-10-31 00:00:00\n"
          ]
        },
        {
          "output_type": "stream",
          "name": "stderr",
          "text": [
            "\r 26%|██▌       | 76/292 [11:44<33:59,  9.44s/it]"
          ]
        },
        {
          "output_type": "stream",
          "name": "stdout",
          "text": [
            "Max train date =  2006-10-31 00:00:00 Test date =  2006-11-30 00:00:00\n"
          ]
        },
        {
          "output_type": "stream",
          "name": "stderr",
          "text": [
            "\r 26%|██▋       | 77/292 [11:53<33:40,  9.40s/it]"
          ]
        },
        {
          "output_type": "stream",
          "name": "stdout",
          "text": [
            "Max train date =  2006-11-30 00:00:00 Test date =  2006-12-31 00:00:00\n"
          ]
        },
        {
          "output_type": "stream",
          "name": "stderr",
          "text": [
            "\r 27%|██▋       | 78/292 [12:04<35:10,  9.86s/it]"
          ]
        },
        {
          "output_type": "stream",
          "name": "stdout",
          "text": [
            "Max train date =  2006-12-31 00:00:00 Test date =  2007-01-31 00:00:00\n"
          ]
        },
        {
          "output_type": "stream",
          "name": "stderr",
          "text": [
            "\r 27%|██▋       | 79/292 [12:13<34:04,  9.60s/it]"
          ]
        },
        {
          "output_type": "stream",
          "name": "stdout",
          "text": [
            "Max train date =  2007-01-31 00:00:00 Test date =  2007-02-28 00:00:00\n"
          ]
        },
        {
          "output_type": "stream",
          "name": "stderr",
          "text": [
            "\r 27%|██▋       | 80/292 [12:26<37:20, 10.57s/it]"
          ]
        },
        {
          "output_type": "stream",
          "name": "stdout",
          "text": [
            "Max train date =  2007-02-28 00:00:00 Test date =  2007-03-31 00:00:00\n"
          ]
        },
        {
          "output_type": "stream",
          "name": "stderr",
          "text": [
            "\r 28%|██▊       | 81/292 [12:36<37:28, 10.65s/it]"
          ]
        },
        {
          "output_type": "stream",
          "name": "stdout",
          "text": [
            "Max train date =  2007-03-31 00:00:00 Test date =  2007-04-30 00:00:00\n"
          ]
        },
        {
          "output_type": "stream",
          "name": "stderr",
          "text": [
            "\r 28%|██▊       | 82/292 [12:45<35:01, 10.01s/it]"
          ]
        },
        {
          "output_type": "stream",
          "name": "stdout",
          "text": [
            "Max train date =  2007-04-30 00:00:00 Test date =  2007-05-31 00:00:00\n"
          ]
        },
        {
          "output_type": "stream",
          "name": "stderr",
          "text": [
            "\r 28%|██▊       | 83/292 [12:55<34:22,  9.87s/it]"
          ]
        },
        {
          "output_type": "stream",
          "name": "stdout",
          "text": [
            "Max train date =  2007-05-31 00:00:00 Test date =  2007-06-30 00:00:00\n"
          ]
        },
        {
          "output_type": "stream",
          "name": "stderr",
          "text": [
            "\r 29%|██▉       | 84/292 [13:05<34:45, 10.03s/it]"
          ]
        },
        {
          "output_type": "stream",
          "name": "stdout",
          "text": [
            "Max train date =  2007-06-30 00:00:00 Test date =  2007-07-31 00:00:00\n"
          ]
        },
        {
          "output_type": "stream",
          "name": "stderr",
          "text": [
            "\r 29%|██▉       | 85/292 [13:14<33:32,  9.72s/it]"
          ]
        },
        {
          "output_type": "stream",
          "name": "stdout",
          "text": [
            "Max train date =  2007-07-31 00:00:00 Test date =  2007-08-31 00:00:00\n"
          ]
        },
        {
          "output_type": "stream",
          "name": "stderr",
          "text": [
            "\r 29%|██▉       | 86/292 [13:23<32:37,  9.50s/it]"
          ]
        },
        {
          "output_type": "stream",
          "name": "stdout",
          "text": [
            "Max train date =  2007-08-31 00:00:00 Test date =  2007-09-30 00:00:00\n"
          ]
        },
        {
          "output_type": "stream",
          "name": "stderr",
          "text": [
            "\r 30%|██▉       | 87/292 [13:34<33:53,  9.92s/it]"
          ]
        },
        {
          "output_type": "stream",
          "name": "stdout",
          "text": [
            "Max train date =  2007-09-30 00:00:00 Test date =  2007-10-31 00:00:00\n"
          ]
        },
        {
          "output_type": "stream",
          "name": "stderr",
          "text": [
            "\r 30%|███       | 88/292 [13:43<32:56,  9.69s/it]"
          ]
        },
        {
          "output_type": "stream",
          "name": "stdout",
          "text": [
            "Max train date =  2007-10-31 00:00:00 Test date =  2007-11-30 00:00:00\n"
          ]
        },
        {
          "output_type": "stream",
          "name": "stderr",
          "text": [
            "\r 30%|███       | 89/292 [13:52<32:18,  9.55s/it]"
          ]
        },
        {
          "output_type": "stream",
          "name": "stdout",
          "text": [
            "Max train date =  2007-11-30 00:00:00 Test date =  2007-12-31 00:00:00\n"
          ]
        },
        {
          "output_type": "stream",
          "name": "stderr",
          "text": [
            "\r 31%|███       | 90/292 [14:03<33:05,  9.83s/it]"
          ]
        },
        {
          "output_type": "stream",
          "name": "stdout",
          "text": [
            "Max train date =  2007-12-31 00:00:00 Test date =  2008-01-31 00:00:00\n"
          ]
        },
        {
          "output_type": "stream",
          "name": "stderr",
          "text": [
            "\r 31%|███       | 91/292 [14:12<32:12,  9.62s/it]"
          ]
        },
        {
          "output_type": "stream",
          "name": "stdout",
          "text": [
            "Max train date =  2008-01-31 00:00:00 Test date =  2008-02-29 00:00:00\n"
          ]
        },
        {
          "output_type": "stream",
          "name": "stderr",
          "text": [
            "\r 32%|███▏      | 92/292 [14:20<30:59,  9.30s/it]"
          ]
        },
        {
          "output_type": "stream",
          "name": "stdout",
          "text": [
            "Max train date =  2008-02-29 00:00:00 Test date =  2008-03-31 00:00:00\n"
          ]
        },
        {
          "output_type": "stream",
          "name": "stderr",
          "text": [
            "\r 32%|███▏      | 93/292 [14:31<31:48,  9.59s/it]"
          ]
        },
        {
          "output_type": "stream",
          "name": "stdout",
          "text": [
            "Max train date =  2008-03-31 00:00:00 Test date =  2008-04-30 00:00:00\n"
          ]
        },
        {
          "output_type": "stream",
          "name": "stderr",
          "text": [
            "\r 32%|███▏      | 94/292 [14:40<31:27,  9.53s/it]"
          ]
        },
        {
          "output_type": "stream",
          "name": "stdout",
          "text": [
            "Max train date =  2008-04-30 00:00:00 Test date =  2008-05-31 00:00:00\n"
          ]
        },
        {
          "output_type": "stream",
          "name": "stderr",
          "text": [
            "\r 33%|███▎      | 95/292 [14:49<30:19,  9.24s/it]"
          ]
        },
        {
          "output_type": "stream",
          "name": "stdout",
          "text": [
            "Max train date =  2008-05-31 00:00:00 Test date =  2008-06-30 00:00:00\n"
          ]
        },
        {
          "output_type": "stream",
          "name": "stderr",
          "text": [
            "\r 33%|███▎      | 96/292 [14:59<31:13,  9.56s/it]"
          ]
        },
        {
          "output_type": "stream",
          "name": "stdout",
          "text": [
            "Max train date =  2008-06-30 00:00:00 Test date =  2008-07-31 00:00:00\n"
          ]
        },
        {
          "output_type": "stream",
          "name": "stderr",
          "text": [
            "\r 33%|███▎      | 97/292 [15:08<30:40,  9.44s/it]"
          ]
        },
        {
          "output_type": "stream",
          "name": "stdout",
          "text": [
            "Max train date =  2008-07-31 00:00:00 Test date =  2008-08-31 00:00:00\n"
          ]
        },
        {
          "output_type": "stream",
          "name": "stderr",
          "text": [
            "\r 34%|███▎      | 98/292 [15:18<31:27,  9.73s/it]"
          ]
        },
        {
          "output_type": "stream",
          "name": "stdout",
          "text": [
            "Max train date =  2008-08-31 00:00:00 Test date =  2008-09-30 00:00:00\n"
          ]
        },
        {
          "output_type": "stream",
          "name": "stderr",
          "text": [
            "\r 34%|███▍      | 99/292 [15:29<32:12, 10.01s/it]"
          ]
        },
        {
          "output_type": "stream",
          "name": "stdout",
          "text": [
            "Max train date =  2008-09-30 00:00:00 Test date =  2008-10-31 00:00:00\n"
          ]
        },
        {
          "output_type": "stream",
          "name": "stderr",
          "text": [
            "\r 34%|███▍      | 100/292 [15:39<31:45,  9.93s/it]"
          ]
        },
        {
          "output_type": "stream",
          "name": "stdout",
          "text": [
            "Max train date =  2008-10-31 00:00:00 Test date =  2008-11-30 00:00:00\n"
          ]
        },
        {
          "output_type": "stream",
          "name": "stderr",
          "text": [
            "\r 35%|███▍      | 101/292 [15:47<30:22,  9.54s/it]"
          ]
        },
        {
          "output_type": "stream",
          "name": "stdout",
          "text": [
            "Max train date =  2008-11-30 00:00:00 Test date =  2008-12-31 00:00:00\n"
          ]
        },
        {
          "output_type": "stream",
          "name": "stderr",
          "text": [
            "\r 35%|███▍      | 102/292 [15:58<30:45,  9.71s/it]"
          ]
        },
        {
          "output_type": "stream",
          "name": "stdout",
          "text": [
            "Max train date =  2008-12-31 00:00:00 Test date =  2009-01-31 00:00:00\n"
          ]
        },
        {
          "output_type": "stream",
          "name": "stderr",
          "text": [
            "\r 35%|███▌      | 103/292 [16:06<29:48,  9.46s/it]"
          ]
        },
        {
          "output_type": "stream",
          "name": "stdout",
          "text": [
            "Max train date =  2009-01-31 00:00:00 Test date =  2009-02-28 00:00:00\n"
          ]
        },
        {
          "output_type": "stream",
          "name": "stderr",
          "text": [
            "\r 36%|███▌      | 104/292 [16:15<28:44,  9.17s/it]"
          ]
        },
        {
          "output_type": "stream",
          "name": "stdout",
          "text": [
            "Max train date =  2009-02-28 00:00:00 Test date =  2009-03-31 00:00:00\n"
          ]
        },
        {
          "output_type": "stream",
          "name": "stderr",
          "text": [
            "\r 36%|███▌      | 105/292 [16:25<29:36,  9.50s/it]"
          ]
        },
        {
          "output_type": "stream",
          "name": "stdout",
          "text": [
            "Max train date =  2009-03-31 00:00:00 Test date =  2009-04-30 00:00:00\n"
          ]
        },
        {
          "output_type": "stream",
          "name": "stderr",
          "text": [
            "\r 36%|███▋      | 106/292 [16:32<27:17,  8.81s/it]"
          ]
        },
        {
          "output_type": "stream",
          "name": "stdout",
          "text": [
            "Max train date =  2009-04-30 00:00:00 Test date =  2009-05-31 00:00:00\n"
          ]
        },
        {
          "output_type": "stream",
          "name": "stderr",
          "text": [
            "\r 37%|███▋      | 107/292 [16:41<27:00,  8.76s/it]"
          ]
        },
        {
          "output_type": "stream",
          "name": "stdout",
          "text": [
            "Max train date =  2009-05-31 00:00:00 Test date =  2009-06-30 00:00:00\n"
          ]
        },
        {
          "output_type": "stream",
          "name": "stderr",
          "text": [
            "\r 37%|███▋      | 108/292 [16:52<28:55,  9.43s/it]"
          ]
        },
        {
          "output_type": "stream",
          "name": "stdout",
          "text": [
            "Max train date =  2009-06-30 00:00:00 Test date =  2009-07-31 00:00:00\n"
          ]
        },
        {
          "output_type": "stream",
          "name": "stderr",
          "text": [
            "\r 37%|███▋      | 109/292 [16:59<26:39,  8.74s/it]"
          ]
        },
        {
          "output_type": "stream",
          "name": "stdout",
          "text": [
            "Max train date =  2009-07-31 00:00:00 Test date =  2009-08-31 00:00:00\n"
          ]
        },
        {
          "output_type": "stream",
          "name": "stderr",
          "text": [
            "\r 38%|███▊      | 110/292 [17:09<27:09,  8.95s/it]"
          ]
        },
        {
          "output_type": "stream",
          "name": "stdout",
          "text": [
            "Max train date =  2009-08-31 00:00:00 Test date =  2009-09-30 00:00:00\n"
          ]
        },
        {
          "output_type": "stream",
          "name": "stderr",
          "text": [
            "\r 38%|███▊      | 111/292 [17:18<27:26,  9.10s/it]"
          ]
        },
        {
          "output_type": "stream",
          "name": "stdout",
          "text": [
            "Max train date =  2009-09-30 00:00:00 Test date =  2009-10-31 00:00:00\n"
          ]
        },
        {
          "output_type": "stream",
          "name": "stderr",
          "text": [
            "\r 38%|███▊      | 112/292 [17:26<25:56,  8.65s/it]"
          ]
        },
        {
          "output_type": "stream",
          "name": "stdout",
          "text": [
            "Max train date =  2009-10-31 00:00:00 Test date =  2009-11-30 00:00:00\n"
          ]
        },
        {
          "output_type": "stream",
          "name": "stderr",
          "text": [
            "\r 39%|███▊      | 113/292 [17:36<26:51,  9.00s/it]"
          ]
        },
        {
          "output_type": "stream",
          "name": "stdout",
          "text": [
            "Max train date =  2009-11-30 00:00:00 Test date =  2009-12-31 00:00:00\n"
          ]
        },
        {
          "output_type": "stream",
          "name": "stderr",
          "text": [
            "\r 39%|███▉      | 114/292 [17:45<26:41,  9.00s/it]"
          ]
        },
        {
          "output_type": "stream",
          "name": "stdout",
          "text": [
            "Max train date =  2009-12-31 00:00:00 Test date =  2010-01-31 00:00:00\n"
          ]
        },
        {
          "output_type": "stream",
          "name": "stderr",
          "text": [
            "\r 39%|███▉      | 115/292 [17:53<25:44,  8.72s/it]"
          ]
        },
        {
          "output_type": "stream",
          "name": "stdout",
          "text": [
            "Max train date =  2010-01-31 00:00:00 Test date =  2010-02-28 00:00:00\n"
          ]
        },
        {
          "output_type": "stream",
          "name": "stderr",
          "text": [
            "\r 40%|███▉      | 116/292 [18:00<24:43,  8.43s/it]"
          ]
        },
        {
          "output_type": "stream",
          "name": "stdout",
          "text": [
            "Max train date =  2010-02-28 00:00:00 Test date =  2010-03-31 00:00:00\n"
          ]
        },
        {
          "output_type": "stream",
          "name": "stderr",
          "text": [
            "\r 40%|████      | 117/292 [18:11<26:53,  9.22s/it]"
          ]
        },
        {
          "output_type": "stream",
          "name": "stdout",
          "text": [
            "Max train date =  2010-03-31 00:00:00 Test date =  2010-04-30 00:00:00\n"
          ]
        },
        {
          "output_type": "stream",
          "name": "stderr",
          "text": [
            "\r 40%|████      | 118/292 [18:22<27:46,  9.58s/it]"
          ]
        },
        {
          "output_type": "stream",
          "name": "stdout",
          "text": [
            "Max train date =  2010-04-30 00:00:00 Test date =  2010-05-31 00:00:00\n"
          ]
        },
        {
          "output_type": "stream",
          "name": "stderr",
          "text": [
            "\r 41%|████      | 119/292 [18:30<26:00,  9.02s/it]"
          ]
        },
        {
          "output_type": "stream",
          "name": "stdout",
          "text": [
            "Max train date =  2010-05-31 00:00:00 Test date =  2010-06-30 00:00:00\n"
          ]
        },
        {
          "output_type": "stream",
          "name": "stderr",
          "text": [
            "\r 41%|████      | 120/292 [18:39<26:07,  9.11s/it]"
          ]
        },
        {
          "output_type": "stream",
          "name": "stdout",
          "text": [
            "Max train date =  2010-06-30 00:00:00 Test date =  2010-07-31 00:00:00\n"
          ]
        },
        {
          "output_type": "stream",
          "name": "stderr",
          "text": [
            "\r 41%|████▏     | 121/292 [18:46<24:18,  8.53s/it]"
          ]
        },
        {
          "output_type": "stream",
          "name": "stdout",
          "text": [
            "Max train date =  2010-07-31 00:00:00 Test date =  2010-08-31 00:00:00\n"
          ]
        },
        {
          "output_type": "stream",
          "name": "stderr",
          "text": [
            "\r 42%|████▏     | 122/292 [18:55<24:09,  8.53s/it]"
          ]
        },
        {
          "output_type": "stream",
          "name": "stdout",
          "text": [
            "Max train date =  2010-08-31 00:00:00 Test date =  2010-09-30 00:00:00\n"
          ]
        },
        {
          "output_type": "stream",
          "name": "stderr",
          "text": [
            "\r 42%|████▏     | 123/292 [19:06<26:05,  9.27s/it]"
          ]
        },
        {
          "output_type": "stream",
          "name": "stdout",
          "text": [
            "Max train date =  2010-09-30 00:00:00 Test date =  2010-10-31 00:00:00\n"
          ]
        },
        {
          "output_type": "stream",
          "name": "stderr",
          "text": [
            "\r 42%|████▏     | 124/292 [19:13<24:04,  8.60s/it]"
          ]
        },
        {
          "output_type": "stream",
          "name": "stdout",
          "text": [
            "Max train date =  2010-10-31 00:00:00 Test date =  2010-11-30 00:00:00\n"
          ]
        },
        {
          "output_type": "stream",
          "name": "stderr",
          "text": [
            "\r 43%|████▎     | 125/292 [19:22<24:13,  8.70s/it]"
          ]
        },
        {
          "output_type": "stream",
          "name": "stdout",
          "text": [
            "Max train date =  2010-11-30 00:00:00 Test date =  2010-12-31 00:00:00\n"
          ]
        },
        {
          "output_type": "stream",
          "name": "stderr",
          "text": [
            "\r 43%|████▎     | 126/292 [19:31<24:25,  8.83s/it]"
          ]
        },
        {
          "output_type": "stream",
          "name": "stdout",
          "text": [
            "Max train date =  2010-12-31 00:00:00 Test date =  2011-01-31 00:00:00\n"
          ]
        },
        {
          "output_type": "stream",
          "name": "stderr",
          "text": [
            "\r 43%|████▎     | 127/292 [19:39<23:30,  8.55s/it]"
          ]
        },
        {
          "output_type": "stream",
          "name": "stdout",
          "text": [
            "Max train date =  2011-01-31 00:00:00 Test date =  2011-02-28 00:00:00\n"
          ]
        },
        {
          "output_type": "stream",
          "name": "stderr",
          "text": [
            "\r 44%|████▍     | 128/292 [19:48<24:26,  8.94s/it]"
          ]
        },
        {
          "output_type": "stream",
          "name": "stdout",
          "text": [
            "Max train date =  2011-02-28 00:00:00 Test date =  2011-03-31 00:00:00\n"
          ]
        },
        {
          "output_type": "stream",
          "name": "stderr",
          "text": [
            "\r 44%|████▍     | 129/292 [19:57<24:08,  8.89s/it]"
          ]
        },
        {
          "output_type": "stream",
          "name": "stdout",
          "text": [
            "Max train date =  2011-03-31 00:00:00 Test date =  2011-04-30 00:00:00\n"
          ]
        },
        {
          "output_type": "stream",
          "name": "stderr",
          "text": [
            "\r 45%|████▍     | 130/292 [20:05<23:21,  8.65s/it]"
          ]
        },
        {
          "output_type": "stream",
          "name": "stdout",
          "text": [
            "Max train date =  2011-04-30 00:00:00 Test date =  2011-05-31 00:00:00\n"
          ]
        },
        {
          "output_type": "stream",
          "name": "stderr",
          "text": [
            "\r 45%|████▍     | 131/292 [20:13<22:22,  8.34s/it]"
          ]
        },
        {
          "output_type": "stream",
          "name": "stdout",
          "text": [
            "Max train date =  2011-05-31 00:00:00 Test date =  2011-06-30 00:00:00\n"
          ]
        },
        {
          "output_type": "stream",
          "name": "stderr",
          "text": [
            "\r 45%|████▌     | 132/292 [20:22<23:01,  8.63s/it]"
          ]
        },
        {
          "output_type": "stream",
          "name": "stdout",
          "text": [
            "Max train date =  2011-06-30 00:00:00 Test date =  2011-07-31 00:00:00\n"
          ]
        },
        {
          "output_type": "stream",
          "name": "stderr",
          "text": [
            "\r 46%|████▌     | 133/292 [20:30<22:21,  8.44s/it]"
          ]
        },
        {
          "output_type": "stream",
          "name": "stdout",
          "text": [
            "Max train date =  2011-07-31 00:00:00 Test date =  2011-08-31 00:00:00\n"
          ]
        },
        {
          "output_type": "stream",
          "name": "stderr",
          "text": [
            "\r 46%|████▌     | 134/292 [20:39<22:17,  8.46s/it]"
          ]
        },
        {
          "output_type": "stream",
          "name": "stdout",
          "text": [
            "Max train date =  2011-08-31 00:00:00 Test date =  2011-09-30 00:00:00\n"
          ]
        },
        {
          "output_type": "stream",
          "name": "stderr",
          "text": [
            "\r 46%|████▌     | 135/292 [20:49<23:57,  9.15s/it]"
          ]
        },
        {
          "output_type": "stream",
          "name": "stdout",
          "text": [
            "Max train date =  2011-09-30 00:00:00 Test date =  2011-10-31 00:00:00\n"
          ]
        },
        {
          "output_type": "stream",
          "name": "stderr",
          "text": [
            "\r 47%|████▋     | 136/292 [20:57<22:20,  8.59s/it]"
          ]
        },
        {
          "output_type": "stream",
          "name": "stdout",
          "text": [
            "Max train date =  2011-10-31 00:00:00 Test date =  2011-11-30 00:00:00\n"
          ]
        },
        {
          "output_type": "stream",
          "name": "stderr",
          "text": [
            "\r 47%|████▋     | 137/292 [21:05<22:17,  8.63s/it]"
          ]
        },
        {
          "output_type": "stream",
          "name": "stdout",
          "text": [
            "Max train date =  2011-11-30 00:00:00 Test date =  2011-12-31 00:00:00\n"
          ]
        },
        {
          "output_type": "stream",
          "name": "stderr",
          "text": [
            "\r 47%|████▋     | 138/292 [21:17<24:27,  9.53s/it]"
          ]
        },
        {
          "output_type": "stream",
          "name": "stdout",
          "text": [
            "Max train date =  2011-12-31 00:00:00 Test date =  2012-01-31 00:00:00\n"
          ]
        },
        {
          "output_type": "stream",
          "name": "stderr",
          "text": [
            "\r 48%|████▊     | 139/292 [21:24<22:25,  8.79s/it]"
          ]
        },
        {
          "output_type": "stream",
          "name": "stdout",
          "text": [
            "Max train date =  2012-01-31 00:00:00 Test date =  2012-02-29 00:00:00\n"
          ]
        },
        {
          "output_type": "stream",
          "name": "stderr",
          "text": [
            "\r 48%|████▊     | 140/292 [21:34<22:47,  9.00s/it]"
          ]
        },
        {
          "output_type": "stream",
          "name": "stdout",
          "text": [
            "Max train date =  2012-02-29 00:00:00 Test date =  2012-03-31 00:00:00\n"
          ]
        },
        {
          "output_type": "stream",
          "name": "stderr",
          "text": [
            "\r 48%|████▊     | 141/292 [21:42<22:17,  8.86s/it]"
          ]
        },
        {
          "output_type": "stream",
          "name": "stdout",
          "text": [
            "Max train date =  2012-03-31 00:00:00 Test date =  2012-04-30 00:00:00\n"
          ]
        },
        {
          "output_type": "stream",
          "name": "stderr",
          "text": [
            "\r 49%|████▊     | 142/292 [21:50<21:18,  8.52s/it]"
          ]
        },
        {
          "output_type": "stream",
          "name": "stdout",
          "text": [
            "Max train date =  2012-04-30 00:00:00 Test date =  2012-05-31 00:00:00\n"
          ]
        },
        {
          "output_type": "stream",
          "name": "stderr",
          "text": [
            "\r 49%|████▉     | 143/292 [21:57<20:26,  8.23s/it]"
          ]
        },
        {
          "output_type": "stream",
          "name": "stdout",
          "text": [
            "Max train date =  2012-05-31 00:00:00 Test date =  2012-06-30 00:00:00\n"
          ]
        },
        {
          "output_type": "stream",
          "name": "stderr",
          "text": [
            "\r 49%|████▉     | 144/292 [22:07<21:04,  8.54s/it]"
          ]
        },
        {
          "output_type": "stream",
          "name": "stdout",
          "text": [
            "Max train date =  2012-06-30 00:00:00 Test date =  2012-07-31 00:00:00\n"
          ]
        },
        {
          "output_type": "stream",
          "name": "stderr",
          "text": [
            "\r 50%|████▉     | 145/292 [22:14<20:19,  8.30s/it]"
          ]
        },
        {
          "output_type": "stream",
          "name": "stdout",
          "text": [
            "Max train date =  2012-07-31 00:00:00 Test date =  2012-08-31 00:00:00\n"
          ]
        },
        {
          "output_type": "stream",
          "name": "stderr",
          "text": [
            "\r 50%|█████     | 146/292 [22:23<20:06,  8.26s/it]"
          ]
        },
        {
          "output_type": "stream",
          "name": "stdout",
          "text": [
            "Max train date =  2012-08-31 00:00:00 Test date =  2012-09-30 00:00:00\n"
          ]
        },
        {
          "output_type": "stream",
          "name": "stderr",
          "text": [
            "\r 50%|█████     | 147/292 [22:33<21:29,  8.90s/it]"
          ]
        },
        {
          "output_type": "stream",
          "name": "stdout",
          "text": [
            "Max train date =  2012-09-30 00:00:00 Test date =  2012-10-31 00:00:00\n"
          ]
        },
        {
          "output_type": "stream",
          "name": "stderr",
          "text": [
            "\r 51%|█████     | 148/292 [22:40<19:54,  8.29s/it]"
          ]
        },
        {
          "output_type": "stream",
          "name": "stdout",
          "text": [
            "Max train date =  2012-10-31 00:00:00 Test date =  2012-11-30 00:00:00\n"
          ]
        },
        {
          "output_type": "stream",
          "name": "stderr",
          "text": [
            "\r 51%|█████     | 149/292 [22:49<20:01,  8.40s/it]"
          ]
        },
        {
          "output_type": "stream",
          "name": "stdout",
          "text": [
            "Max train date =  2012-11-30 00:00:00 Test date =  2012-12-31 00:00:00\n"
          ]
        },
        {
          "output_type": "stream",
          "name": "stderr",
          "text": [
            "\r 51%|█████▏    | 150/292 [22:57<20:00,  8.46s/it]"
          ]
        },
        {
          "output_type": "stream",
          "name": "stdout",
          "text": [
            "Max train date =  2012-12-31 00:00:00 Test date =  2013-01-31 00:00:00\n"
          ]
        },
        {
          "output_type": "stream",
          "name": "stderr",
          "text": [
            "\r 52%|█████▏    | 151/292 [23:05<19:07,  8.14s/it]"
          ]
        },
        {
          "output_type": "stream",
          "name": "stdout",
          "text": [
            "Max train date =  2013-01-31 00:00:00 Test date =  2013-02-28 00:00:00\n"
          ]
        },
        {
          "output_type": "stream",
          "name": "stderr",
          "text": [
            "\r 52%|█████▏    | 152/292 [23:12<18:38,  7.99s/it]"
          ]
        },
        {
          "output_type": "stream",
          "name": "stdout",
          "text": [
            "Max train date =  2013-02-28 00:00:00 Test date =  2013-03-31 00:00:00\n"
          ]
        },
        {
          "output_type": "stream",
          "name": "stderr",
          "text": [
            "\r 52%|█████▏    | 153/292 [23:21<19:02,  8.22s/it]"
          ]
        },
        {
          "output_type": "stream",
          "name": "stdout",
          "text": [
            "Max train date =  2013-03-31 00:00:00 Test date =  2013-04-30 00:00:00\n"
          ]
        },
        {
          "output_type": "stream",
          "name": "stderr",
          "text": [
            "\r 53%|█████▎    | 154/292 [23:29<18:34,  8.08s/it]"
          ]
        },
        {
          "output_type": "stream",
          "name": "stdout",
          "text": [
            "Max train date =  2013-04-30 00:00:00 Test date =  2013-05-31 00:00:00\n"
          ]
        },
        {
          "output_type": "stream",
          "name": "stderr",
          "text": [
            "\r 53%|█████▎    | 155/292 [23:37<18:21,  8.04s/it]"
          ]
        },
        {
          "output_type": "stream",
          "name": "stdout",
          "text": [
            "Max train date =  2013-05-31 00:00:00 Test date =  2013-06-30 00:00:00\n"
          ]
        },
        {
          "output_type": "stream",
          "name": "stderr",
          "text": [
            "\r 53%|█████▎    | 156/292 [23:47<19:32,  8.62s/it]"
          ]
        },
        {
          "output_type": "stream",
          "name": "stdout",
          "text": [
            "Max train date =  2013-06-30 00:00:00 Test date =  2013-07-31 00:00:00\n"
          ]
        },
        {
          "output_type": "stream",
          "name": "stderr",
          "text": [
            "\r 54%|█████▍    | 157/292 [23:53<18:09,  8.07s/it]"
          ]
        },
        {
          "output_type": "stream",
          "name": "stdout",
          "text": [
            "Max train date =  2013-07-31 00:00:00 Test date =  2013-08-31 00:00:00\n"
          ]
        },
        {
          "output_type": "stream",
          "name": "stderr",
          "text": [
            "\r 54%|█████▍    | 158/292 [24:02<18:23,  8.23s/it]"
          ]
        },
        {
          "output_type": "stream",
          "name": "stdout",
          "text": [
            "Max train date =  2013-08-31 00:00:00 Test date =  2013-09-30 00:00:00\n"
          ]
        },
        {
          "output_type": "stream",
          "name": "stderr",
          "text": [
            "\r 54%|█████▍    | 159/292 [24:13<20:08,  9.09s/it]"
          ]
        },
        {
          "output_type": "stream",
          "name": "stdout",
          "text": [
            "Max train date =  2013-09-30 00:00:00 Test date =  2013-10-31 00:00:00\n"
          ]
        },
        {
          "output_type": "stream",
          "name": "stderr",
          "text": [
            "\r 55%|█████▍    | 160/292 [24:20<18:48,  8.55s/it]"
          ]
        },
        {
          "output_type": "stream",
          "name": "stdout",
          "text": [
            "Max train date =  2013-10-31 00:00:00 Test date =  2013-11-30 00:00:00\n"
          ]
        },
        {
          "output_type": "stream",
          "name": "stderr",
          "text": [
            "\r 55%|█████▌    | 161/292 [24:30<19:21,  8.87s/it]"
          ]
        },
        {
          "output_type": "stream",
          "name": "stdout",
          "text": [
            "Max train date =  2013-11-30 00:00:00 Test date =  2013-12-31 00:00:00\n"
          ]
        },
        {
          "output_type": "stream",
          "name": "stderr",
          "text": [
            "\r 55%|█████▌    | 162/292 [24:39<19:08,  8.84s/it]"
          ]
        },
        {
          "output_type": "stream",
          "name": "stdout",
          "text": [
            "Max train date =  2013-12-31 00:00:00 Test date =  2014-01-31 00:00:00\n"
          ]
        },
        {
          "output_type": "stream",
          "name": "stderr",
          "text": [
            "\r 56%|█████▌    | 163/292 [24:47<18:19,  8.52s/it]"
          ]
        },
        {
          "output_type": "stream",
          "name": "stdout",
          "text": [
            "Max train date =  2014-01-31 00:00:00 Test date =  2014-02-28 00:00:00\n"
          ]
        },
        {
          "output_type": "stream",
          "name": "stderr",
          "text": [
            "\r 56%|█████▌    | 164/292 [24:54<17:35,  8.25s/it]"
          ]
        },
        {
          "output_type": "stream",
          "name": "stdout",
          "text": [
            "Max train date =  2014-02-28 00:00:00 Test date =  2014-03-31 00:00:00\n"
          ]
        },
        {
          "output_type": "stream",
          "name": "stderr",
          "text": [
            "\r 57%|█████▋    | 165/292 [25:03<18:03,  8.53s/it]"
          ]
        },
        {
          "output_type": "stream",
          "name": "stdout",
          "text": [
            "Max train date =  2014-03-31 00:00:00 Test date =  2014-04-30 00:00:00\n"
          ]
        },
        {
          "output_type": "stream",
          "name": "stderr",
          "text": [
            "\r 57%|█████▋    | 166/292 [25:11<17:39,  8.41s/it]"
          ]
        },
        {
          "output_type": "stream",
          "name": "stdout",
          "text": [
            "Max train date =  2014-04-30 00:00:00 Test date =  2014-05-31 00:00:00\n"
          ]
        },
        {
          "output_type": "stream",
          "name": "stderr",
          "text": [
            "\r 57%|█████▋    | 167/292 [25:19<17:13,  8.27s/it]"
          ]
        },
        {
          "output_type": "stream",
          "name": "stdout",
          "text": [
            "Max train date =  2014-05-31 00:00:00 Test date =  2014-06-30 00:00:00\n"
          ]
        },
        {
          "output_type": "stream",
          "name": "stderr",
          "text": [
            "\r 58%|█████▊    | 168/292 [25:30<18:20,  8.88s/it]"
          ]
        },
        {
          "output_type": "stream",
          "name": "stdout",
          "text": [
            "Max train date =  2014-06-30 00:00:00 Test date =  2014-07-31 00:00:00\n"
          ]
        },
        {
          "output_type": "stream",
          "name": "stderr",
          "text": [
            "\r 58%|█████▊    | 169/292 [25:37<16:59,  8.29s/it]"
          ]
        },
        {
          "output_type": "stream",
          "name": "stdout",
          "text": [
            "Max train date =  2014-07-31 00:00:00 Test date =  2014-08-31 00:00:00\n"
          ]
        },
        {
          "output_type": "stream",
          "name": "stderr",
          "text": [
            "\r 58%|█████▊    | 170/292 [25:45<17:07,  8.42s/it]"
          ]
        },
        {
          "output_type": "stream",
          "name": "stdout",
          "text": [
            "Max train date =  2014-08-31 00:00:00 Test date =  2014-09-30 00:00:00\n"
          ]
        },
        {
          "output_type": "stream",
          "name": "stderr",
          "text": [
            "\r 59%|█████▊    | 171/292 [25:55<17:37,  8.74s/it]"
          ]
        },
        {
          "output_type": "stream",
          "name": "stdout",
          "text": [
            "Max train date =  2014-09-30 00:00:00 Test date =  2014-10-31 00:00:00\n"
          ]
        },
        {
          "output_type": "stream",
          "name": "stderr",
          "text": [
            "\r 59%|█████▉    | 172/292 [26:03<16:54,  8.46s/it]"
          ]
        },
        {
          "output_type": "stream",
          "name": "stdout",
          "text": [
            "Max train date =  2014-10-31 00:00:00 Test date =  2014-11-30 00:00:00\n"
          ]
        },
        {
          "output_type": "stream",
          "name": "stderr",
          "text": [
            "\r 59%|█████▉    | 173/292 [26:13<17:44,  8.95s/it]"
          ]
        },
        {
          "output_type": "stream",
          "name": "stdout",
          "text": [
            "Max train date =  2014-11-30 00:00:00 Test date =  2014-12-31 00:00:00\n"
          ]
        },
        {
          "output_type": "stream",
          "name": "stderr",
          "text": [
            "\r 60%|█████▉    | 174/292 [26:22<17:34,  8.93s/it]"
          ]
        },
        {
          "output_type": "stream",
          "name": "stdout",
          "text": [
            "Max train date =  2014-12-31 00:00:00 Test date =  2015-01-31 00:00:00\n"
          ]
        },
        {
          "output_type": "stream",
          "name": "stderr",
          "text": [
            "\r 60%|█████▉    | 175/292 [26:29<16:44,  8.58s/it]"
          ]
        },
        {
          "output_type": "stream",
          "name": "stdout",
          "text": [
            "Max train date =  2015-01-31 00:00:00 Test date =  2015-02-28 00:00:00\n"
          ]
        },
        {
          "output_type": "stream",
          "name": "stderr",
          "text": [
            "\r 60%|██████    | 176/292 [26:37<16:10,  8.37s/it]"
          ]
        },
        {
          "output_type": "stream",
          "name": "stdout",
          "text": [
            "Max train date =  2015-02-28 00:00:00 Test date =  2015-03-31 00:00:00\n"
          ]
        },
        {
          "output_type": "stream",
          "name": "stderr",
          "text": [
            "\r 61%|██████    | 177/292 [26:47<16:35,  8.65s/it]"
          ]
        },
        {
          "output_type": "stream",
          "name": "stdout",
          "text": [
            "Max train date =  2015-03-31 00:00:00 Test date =  2015-04-30 00:00:00\n"
          ]
        },
        {
          "output_type": "stream",
          "name": "stderr",
          "text": [
            "\r 61%|██████    | 178/292 [26:55<16:09,  8.51s/it]"
          ]
        },
        {
          "output_type": "stream",
          "name": "stdout",
          "text": [
            "Max train date =  2015-04-30 00:00:00 Test date =  2015-05-31 00:00:00\n"
          ]
        },
        {
          "output_type": "stream",
          "name": "stderr",
          "text": [
            "\r 61%|██████▏   | 179/292 [27:04<16:16,  8.64s/it]"
          ]
        },
        {
          "output_type": "stream",
          "name": "stdout",
          "text": [
            "Max train date =  2015-05-31 00:00:00 Test date =  2015-06-30 00:00:00\n"
          ]
        },
        {
          "output_type": "stream",
          "name": "stderr",
          "text": [
            "\r 62%|██████▏   | 180/292 [27:14<17:02,  9.13s/it]"
          ]
        },
        {
          "output_type": "stream",
          "name": "stdout",
          "text": [
            "Max train date =  2015-06-30 00:00:00 Test date =  2015-07-31 00:00:00\n"
          ]
        },
        {
          "output_type": "stream",
          "name": "stderr",
          "text": [
            "\r 62%|██████▏   | 181/292 [27:21<15:48,  8.54s/it]"
          ]
        },
        {
          "output_type": "stream",
          "name": "stdout",
          "text": [
            "Max train date =  2015-07-31 00:00:00 Test date =  2015-08-31 00:00:00\n"
          ]
        },
        {
          "output_type": "stream",
          "name": "stderr",
          "text": [
            "\r 62%|██████▏   | 182/292 [27:30<15:45,  8.59s/it]"
          ]
        },
        {
          "output_type": "stream",
          "name": "stdout",
          "text": [
            "Max train date =  2015-08-31 00:00:00 Test date =  2015-09-30 00:00:00\n"
          ]
        },
        {
          "output_type": "stream",
          "name": "stderr",
          "text": [
            "\r 63%|██████▎   | 183/292 [27:41<16:50,  9.27s/it]"
          ]
        },
        {
          "output_type": "stream",
          "name": "stdout",
          "text": [
            "Max train date =  2015-09-30 00:00:00 Test date =  2015-10-31 00:00:00\n"
          ]
        },
        {
          "output_type": "stream",
          "name": "stderr",
          "text": [
            "\r 63%|██████▎   | 184/292 [27:48<15:46,  8.77s/it]"
          ]
        },
        {
          "output_type": "stream",
          "name": "stdout",
          "text": [
            "Max train date =  2015-10-31 00:00:00 Test date =  2015-11-30 00:00:00\n"
          ]
        },
        {
          "output_type": "stream",
          "name": "stderr",
          "text": [
            "\r 63%|██████▎   | 185/292 [27:58<16:02,  8.99s/it]"
          ]
        },
        {
          "output_type": "stream",
          "name": "stdout",
          "text": [
            "Max train date =  2015-11-30 00:00:00 Test date =  2015-12-31 00:00:00\n"
          ]
        },
        {
          "output_type": "stream",
          "name": "stderr",
          "text": [
            "\r 64%|██████▎   | 186/292 [28:07<16:07,  9.12s/it]"
          ]
        },
        {
          "output_type": "stream",
          "name": "stdout",
          "text": [
            "Max train date =  2015-12-31 00:00:00 Test date =  2016-01-31 00:00:00\n"
          ]
        },
        {
          "output_type": "stream",
          "name": "stderr",
          "text": [
            "\r 64%|██████▍   | 187/292 [28:15<15:12,  8.69s/it]"
          ]
        },
        {
          "output_type": "stream",
          "name": "stdout",
          "text": [
            "Max train date =  2016-01-31 00:00:00 Test date =  2016-02-29 00:00:00\n"
          ]
        },
        {
          "output_type": "stream",
          "name": "stderr",
          "text": [
            "\r 64%|██████▍   | 188/292 [28:26<16:23,  9.46s/it]"
          ]
        },
        {
          "output_type": "stream",
          "name": "stdout",
          "text": [
            "Max train date =  2016-02-29 00:00:00 Test date =  2016-03-31 00:00:00\n"
          ]
        },
        {
          "output_type": "stream",
          "name": "stderr",
          "text": [
            "\r 65%|██████▍   | 189/292 [28:36<16:28,  9.60s/it]"
          ]
        },
        {
          "output_type": "stream",
          "name": "stdout",
          "text": [
            "Max train date =  2016-03-31 00:00:00 Test date =  2016-04-30 00:00:00\n"
          ]
        },
        {
          "output_type": "stream",
          "name": "stderr",
          "text": [
            "\r 65%|██████▌   | 190/292 [28:44<15:23,  9.05s/it]"
          ]
        },
        {
          "output_type": "stream",
          "name": "stdout",
          "text": [
            "Max train date =  2016-04-30 00:00:00 Test date =  2016-05-31 00:00:00\n"
          ]
        },
        {
          "output_type": "stream",
          "name": "stderr",
          "text": [
            "\r 65%|██████▌   | 191/292 [28:53<15:17,  9.08s/it]"
          ]
        },
        {
          "output_type": "stream",
          "name": "stdout",
          "text": [
            "Max train date =  2016-05-31 00:00:00 Test date =  2016-06-30 00:00:00\n"
          ]
        },
        {
          "output_type": "stream",
          "name": "stderr",
          "text": [
            "\r 66%|██████▌   | 192/292 [29:02<15:17,  9.17s/it]"
          ]
        },
        {
          "output_type": "stream",
          "name": "stdout",
          "text": [
            "Max train date =  2016-06-30 00:00:00 Test date =  2016-07-31 00:00:00\n"
          ]
        },
        {
          "output_type": "stream",
          "name": "stderr",
          "text": [
            "\r 66%|██████▌   | 193/292 [29:11<14:49,  8.98s/it]"
          ]
        },
        {
          "output_type": "stream",
          "name": "stdout",
          "text": [
            "Max train date =  2016-07-31 00:00:00 Test date =  2016-08-31 00:00:00\n"
          ]
        },
        {
          "output_type": "stream",
          "name": "stderr",
          "text": [
            "\r 66%|██████▋   | 194/292 [29:19<14:15,  8.72s/it]"
          ]
        },
        {
          "output_type": "stream",
          "name": "stdout",
          "text": [
            "Max train date =  2016-08-31 00:00:00 Test date =  2016-09-30 00:00:00\n"
          ]
        },
        {
          "output_type": "stream",
          "name": "stderr",
          "text": [
            "\r 67%|██████▋   | 195/292 [29:29<14:33,  9.00s/it]"
          ]
        },
        {
          "output_type": "stream",
          "name": "stdout",
          "text": [
            "Max train date =  2016-09-30 00:00:00 Test date =  2016-10-31 00:00:00\n"
          ]
        },
        {
          "output_type": "stream",
          "name": "stderr",
          "text": [
            "\r 67%|██████▋   | 196/292 [29:38<14:41,  9.19s/it]"
          ]
        },
        {
          "output_type": "stream",
          "name": "stdout",
          "text": [
            "Max train date =  2016-10-31 00:00:00 Test date =  2016-11-30 00:00:00\n"
          ]
        },
        {
          "output_type": "stream",
          "name": "stderr",
          "text": [
            "\r 67%|██████▋   | 197/292 [29:48<14:44,  9.31s/it]"
          ]
        },
        {
          "output_type": "stream",
          "name": "stdout",
          "text": [
            "Max train date =  2016-11-30 00:00:00 Test date =  2016-12-31 00:00:00\n"
          ]
        },
        {
          "output_type": "stream",
          "name": "stderr",
          "text": [
            "\r 68%|██████▊   | 198/292 [30:00<15:41, 10.01s/it]"
          ]
        },
        {
          "output_type": "stream",
          "name": "stdout",
          "text": [
            "Max train date =  2016-12-31 00:00:00 Test date =  2017-01-31 00:00:00\n"
          ]
        },
        {
          "output_type": "stream",
          "name": "stderr",
          "text": [
            "\r 68%|██████▊   | 199/292 [30:07<14:11,  9.15s/it]"
          ]
        },
        {
          "output_type": "stream",
          "name": "stdout",
          "text": [
            "Max train date =  2017-01-31 00:00:00 Test date =  2017-02-28 00:00:00\n"
          ]
        },
        {
          "output_type": "stream",
          "name": "stderr",
          "text": [
            "\r 68%|██████▊   | 200/292 [30:15<13:46,  8.99s/it]"
          ]
        },
        {
          "output_type": "stream",
          "name": "stdout",
          "text": [
            "Max train date =  2017-02-28 00:00:00 Test date =  2017-03-31 00:00:00\n"
          ]
        },
        {
          "output_type": "stream",
          "name": "stderr",
          "text": [
            "\r 69%|██████▉   | 201/292 [30:26<14:35,  9.62s/it]"
          ]
        },
        {
          "output_type": "stream",
          "name": "stdout",
          "text": [
            "Max train date =  2017-03-31 00:00:00 Test date =  2017-04-30 00:00:00\n"
          ]
        },
        {
          "output_type": "stream",
          "name": "stderr",
          "text": [
            "\r 69%|██████▉   | 202/292 [30:33<13:16,  8.85s/it]"
          ]
        },
        {
          "output_type": "stream",
          "name": "stdout",
          "text": [
            "Max train date =  2017-04-30 00:00:00 Test date =  2017-05-31 00:00:00\n"
          ]
        },
        {
          "output_type": "stream",
          "name": "stderr",
          "text": [
            "\r 70%|██████▉   | 203/292 [30:43<13:20,  8.99s/it]"
          ]
        },
        {
          "output_type": "stream",
          "name": "stdout",
          "text": [
            "Max train date =  2017-05-31 00:00:00 Test date =  2017-06-30 00:00:00\n"
          ]
        },
        {
          "output_type": "stream",
          "name": "stderr",
          "text": [
            "\r 70%|██████▉   | 204/292 [30:52<13:17,  9.06s/it]"
          ]
        },
        {
          "output_type": "stream",
          "name": "stdout",
          "text": [
            "Max train date =  2017-06-30 00:00:00 Test date =  2017-07-31 00:00:00\n"
          ]
        },
        {
          "output_type": "stream",
          "name": "stderr",
          "text": [
            "\r 70%|███████   | 205/292 [31:00<12:33,  8.66s/it]"
          ]
        },
        {
          "output_type": "stream",
          "name": "stdout",
          "text": [
            "Max train date =  2017-07-31 00:00:00 Test date =  2017-08-31 00:00:00\n"
          ]
        },
        {
          "output_type": "stream",
          "name": "stderr",
          "text": [
            "\r 71%|███████   | 206/292 [31:09<12:53,  8.99s/it]"
          ]
        },
        {
          "output_type": "stream",
          "name": "stdout",
          "text": [
            "Max train date =  2017-08-31 00:00:00 Test date =  2017-09-30 00:00:00\n"
          ]
        },
        {
          "output_type": "stream",
          "name": "stderr",
          "text": [
            "\r 71%|███████   | 207/292 [31:19<13:03,  9.21s/it]"
          ]
        },
        {
          "output_type": "stream",
          "name": "stdout",
          "text": [
            "Max train date =  2017-09-30 00:00:00 Test date =  2017-10-31 00:00:00\n"
          ]
        },
        {
          "output_type": "stream",
          "name": "stderr",
          "text": [
            "\r 71%|███████   | 208/292 [31:28<12:32,  8.96s/it]"
          ]
        },
        {
          "output_type": "stream",
          "name": "stdout",
          "text": [
            "Max train date =  2017-10-31 00:00:00 Test date =  2017-11-30 00:00:00\n"
          ]
        },
        {
          "output_type": "stream",
          "name": "stderr",
          "text": [
            "\r 72%|███████▏  | 209/292 [31:36<12:06,  8.75s/it]"
          ]
        },
        {
          "output_type": "stream",
          "name": "stdout",
          "text": [
            "Max train date =  2017-11-30 00:00:00 Test date =  2017-12-31 00:00:00\n"
          ]
        },
        {
          "output_type": "stream",
          "name": "stderr",
          "text": [
            "\r 72%|███████▏  | 210/292 [31:45<12:15,  8.97s/it]"
          ]
        },
        {
          "output_type": "stream",
          "name": "stdout",
          "text": [
            "Max train date =  2017-12-31 00:00:00 Test date =  2018-01-31 00:00:00\n"
          ]
        },
        {
          "output_type": "stream",
          "name": "stderr",
          "text": [
            "\r 72%|███████▏  | 211/292 [31:55<12:12,  9.05s/it]"
          ]
        },
        {
          "output_type": "stream",
          "name": "stdout",
          "text": [
            "Max train date =  2018-01-31 00:00:00 Test date =  2018-02-28 00:00:00\n"
          ]
        },
        {
          "output_type": "stream",
          "name": "stderr",
          "text": [
            "\r 73%|███████▎  | 212/292 [32:02<11:35,  8.70s/it]"
          ]
        },
        {
          "output_type": "stream",
          "name": "stdout",
          "text": [
            "Max train date =  2018-02-28 00:00:00 Test date =  2018-03-31 00:00:00\n"
          ]
        },
        {
          "output_type": "stream",
          "name": "stderr",
          "text": [
            "\r 73%|███████▎  | 213/292 [32:12<11:49,  8.98s/it]"
          ]
        },
        {
          "output_type": "stream",
          "name": "stdout",
          "text": [
            "Max train date =  2018-03-31 00:00:00 Test date =  2018-04-30 00:00:00\n"
          ]
        },
        {
          "output_type": "stream",
          "name": "stderr",
          "text": [
            "\r 73%|███████▎  | 214/292 [32:19<10:50,  8.34s/it]"
          ]
        },
        {
          "output_type": "stream",
          "name": "stdout",
          "text": [
            "Max train date =  2018-04-30 00:00:00 Test date =  2018-05-31 00:00:00\n"
          ]
        },
        {
          "output_type": "stream",
          "name": "stderr",
          "text": [
            "\r 74%|███████▎  | 215/292 [32:27<10:41,  8.33s/it]"
          ]
        },
        {
          "output_type": "stream",
          "name": "stdout",
          "text": [
            "Max train date =  2018-05-31 00:00:00 Test date =  2018-06-30 00:00:00\n"
          ]
        },
        {
          "output_type": "stream",
          "name": "stderr",
          "text": [
            "\r 74%|███████▍  | 216/292 [32:40<12:09,  9.60s/it]"
          ]
        },
        {
          "output_type": "stream",
          "name": "stdout",
          "text": [
            "Max train date =  2018-06-30 00:00:00 Test date =  2018-07-31 00:00:00\n"
          ]
        },
        {
          "output_type": "stream",
          "name": "stderr",
          "text": [
            "\r 74%|███████▍  | 217/292 [32:48<11:18,  9.04s/it]"
          ]
        },
        {
          "output_type": "stream",
          "name": "stdout",
          "text": [
            "Max train date =  2018-07-31 00:00:00 Test date =  2018-08-31 00:00:00\n"
          ]
        },
        {
          "output_type": "stream",
          "name": "stderr",
          "text": [
            "\r 75%|███████▍  | 218/292 [32:58<11:34,  9.39s/it]"
          ]
        },
        {
          "output_type": "stream",
          "name": "stdout",
          "text": [
            "Max train date =  2018-08-31 00:00:00 Test date =  2018-09-30 00:00:00\n"
          ]
        },
        {
          "output_type": "stream",
          "name": "stderr",
          "text": [
            "\r 75%|███████▌  | 219/292 [33:07<11:27,  9.42s/it]"
          ]
        },
        {
          "output_type": "stream",
          "name": "stdout",
          "text": [
            "Max train date =  2018-09-30 00:00:00 Test date =  2018-10-31 00:00:00\n"
          ]
        },
        {
          "output_type": "stream",
          "name": "stderr",
          "text": [
            "\r 75%|███████▌  | 220/292 [33:15<10:42,  8.92s/it]"
          ]
        },
        {
          "output_type": "stream",
          "name": "stdout",
          "text": [
            "Max train date =  2018-10-31 00:00:00 Test date =  2018-11-30 00:00:00\n"
          ]
        },
        {
          "output_type": "stream",
          "name": "stderr",
          "text": [
            "\r 76%|███████▌  | 221/292 [33:25<10:56,  9.25s/it]"
          ]
        },
        {
          "output_type": "stream",
          "name": "stdout",
          "text": [
            "Max train date =  2018-11-30 00:00:00 Test date =  2018-12-31 00:00:00\n"
          ]
        },
        {
          "output_type": "stream",
          "name": "stderr",
          "text": [
            "\r 76%|███████▌  | 222/292 [33:34<10:41,  9.16s/it]"
          ]
        },
        {
          "output_type": "stream",
          "name": "stdout",
          "text": [
            "Max train date =  2018-12-31 00:00:00 Test date =  2019-01-31 00:00:00\n"
          ]
        },
        {
          "output_type": "stream",
          "name": "stderr",
          "text": [
            "\r 76%|███████▋  | 223/292 [33:42<10:08,  8.82s/it]"
          ]
        },
        {
          "output_type": "stream",
          "name": "stdout",
          "text": [
            "Max train date =  2019-01-31 00:00:00 Test date =  2019-02-28 00:00:00\n"
          ]
        },
        {
          "output_type": "stream",
          "name": "stderr",
          "text": [
            "\r 77%|███████▋  | 224/292 [33:50<09:45,  8.61s/it]"
          ]
        },
        {
          "output_type": "stream",
          "name": "stdout",
          "text": [
            "Max train date =  2019-02-28 00:00:00 Test date =  2019-03-31 00:00:00\n"
          ]
        },
        {
          "output_type": "stream",
          "name": "stderr",
          "text": [
            "\r 77%|███████▋  | 225/292 [34:00<09:55,  8.89s/it]"
          ]
        },
        {
          "output_type": "stream",
          "name": "stdout",
          "text": [
            "Max train date =  2019-03-31 00:00:00 Test date =  2019-04-30 00:00:00\n"
          ]
        },
        {
          "output_type": "stream",
          "name": "stderr",
          "text": [
            "\r 77%|███████▋  | 226/292 [34:08<09:33,  8.69s/it]"
          ]
        },
        {
          "output_type": "stream",
          "name": "stdout",
          "text": [
            "Max train date =  2019-04-30 00:00:00 Test date =  2019-05-31 00:00:00\n"
          ]
        },
        {
          "output_type": "stream",
          "name": "stderr",
          "text": [
            "\r 78%|███████▊  | 227/292 [34:16<09:13,  8.52s/it]"
          ]
        },
        {
          "output_type": "stream",
          "name": "stdout",
          "text": [
            "Max train date =  2019-05-31 00:00:00 Test date =  2019-06-30 00:00:00\n"
          ]
        },
        {
          "output_type": "stream",
          "name": "stderr",
          "text": [
            "\r 78%|███████▊  | 228/292 [34:26<09:33,  8.96s/it]"
          ]
        },
        {
          "output_type": "stream",
          "name": "stdout",
          "text": [
            "Max train date =  2019-06-30 00:00:00 Test date =  2019-07-31 00:00:00\n"
          ]
        },
        {
          "output_type": "stream",
          "name": "stderr",
          "text": [
            "\r 78%|███████▊  | 229/292 [34:33<08:47,  8.37s/it]"
          ]
        },
        {
          "output_type": "stream",
          "name": "stdout",
          "text": [
            "Max train date =  2019-07-31 00:00:00 Test date =  2019-08-31 00:00:00\n"
          ]
        },
        {
          "output_type": "stream",
          "name": "stderr",
          "text": [
            "\r 79%|███████▉  | 230/292 [34:42<08:45,  8.47s/it]"
          ]
        },
        {
          "output_type": "stream",
          "name": "stdout",
          "text": [
            "Max train date =  2019-08-31 00:00:00 Test date =  2019-09-30 00:00:00\n"
          ]
        },
        {
          "output_type": "stream",
          "name": "stderr",
          "text": [
            "\r 79%|███████▉  | 231/292 [34:53<09:21,  9.20s/it]"
          ]
        },
        {
          "output_type": "stream",
          "name": "stdout",
          "text": [
            "Max train date =  2019-09-30 00:00:00 Test date =  2019-10-31 00:00:00\n"
          ]
        },
        {
          "output_type": "stream",
          "name": "stderr",
          "text": [
            "\r 79%|███████▉  | 232/292 [35:00<08:40,  8.68s/it]"
          ]
        },
        {
          "output_type": "stream",
          "name": "stdout",
          "text": [
            "Max train date =  2019-10-31 00:00:00 Test date =  2019-11-30 00:00:00\n"
          ]
        },
        {
          "output_type": "stream",
          "name": "stderr",
          "text": [
            "\r 80%|███████▉  | 233/292 [35:09<08:45,  8.91s/it]"
          ]
        },
        {
          "output_type": "stream",
          "name": "stdout",
          "text": [
            "Max train date =  2019-11-30 00:00:00 Test date =  2019-12-31 00:00:00\n"
          ]
        },
        {
          "output_type": "stream",
          "name": "stderr",
          "text": [
            "\r 80%|████████  | 234/292 [35:19<08:43,  9.03s/it]"
          ]
        },
        {
          "output_type": "stream",
          "name": "stdout",
          "text": [
            "Max train date =  2019-12-31 00:00:00 Test date =  2020-01-31 00:00:00\n"
          ]
        },
        {
          "output_type": "stream",
          "name": "stderr",
          "text": [
            "\r 80%|████████  | 235/292 [35:27<08:17,  8.72s/it]"
          ]
        },
        {
          "output_type": "stream",
          "name": "stdout",
          "text": [
            "Max train date =  2020-01-31 00:00:00 Test date =  2020-02-29 00:00:00\n"
          ]
        },
        {
          "output_type": "stream",
          "name": "stderr",
          "text": [
            "\r 81%|████████  | 236/292 [35:38<08:45,  9.39s/it]"
          ]
        },
        {
          "output_type": "stream",
          "name": "stdout",
          "text": [
            "Max train date =  2020-02-29 00:00:00 Test date =  2020-03-31 00:00:00\n"
          ]
        },
        {
          "output_type": "stream",
          "name": "stderr",
          "text": [
            "\r 81%|████████  | 237/292 [35:47<08:29,  9.27s/it]"
          ]
        },
        {
          "output_type": "stream",
          "name": "stdout",
          "text": [
            "Max train date =  2020-03-31 00:00:00 Test date =  2020-04-30 00:00:00\n"
          ]
        },
        {
          "output_type": "stream",
          "name": "stderr",
          "text": [
            "\r 82%|████████▏ | 238/292 [35:55<08:02,  8.94s/it]"
          ]
        },
        {
          "output_type": "stream",
          "name": "stdout",
          "text": [
            "Max train date =  2020-04-30 00:00:00 Test date =  2020-05-31 00:00:00\n"
          ]
        },
        {
          "output_type": "stream",
          "name": "stderr",
          "text": [
            "\r 82%|████████▏ | 239/292 [36:03<07:37,  8.62s/it]"
          ]
        },
        {
          "output_type": "stream",
          "name": "stdout",
          "text": [
            "Max train date =  2020-05-31 00:00:00 Test date =  2020-06-30 00:00:00\n"
          ]
        },
        {
          "output_type": "stream",
          "name": "stderr",
          "text": [
            "\r 82%|████████▏ | 240/292 [36:12<07:41,  8.87s/it]"
          ]
        },
        {
          "output_type": "stream",
          "name": "stdout",
          "text": [
            "Max train date =  2020-06-30 00:00:00 Test date =  2020-07-31 00:00:00\n"
          ]
        },
        {
          "output_type": "stream",
          "name": "stderr",
          "text": [
            "\r 83%|████████▎ | 241/292 [36:21<07:25,  8.73s/it]"
          ]
        },
        {
          "output_type": "stream",
          "name": "stdout",
          "text": [
            "Max train date =  2020-07-31 00:00:00 Test date =  2020-08-31 00:00:00\n"
          ]
        },
        {
          "output_type": "stream",
          "name": "stderr",
          "text": [
            "\r 83%|████████▎ | 242/292 [36:29<07:10,  8.61s/it]"
          ]
        },
        {
          "output_type": "stream",
          "name": "stdout",
          "text": [
            "Max train date =  2020-08-31 00:00:00 Test date =  2020-09-30 00:00:00\n"
          ]
        },
        {
          "output_type": "stream",
          "name": "stderr",
          "text": [
            "\r 83%|████████▎ | 243/292 [36:39<07:25,  9.10s/it]"
          ]
        },
        {
          "output_type": "stream",
          "name": "stdout",
          "text": [
            "Max train date =  2020-09-30 00:00:00 Test date =  2020-10-31 00:00:00\n"
          ]
        },
        {
          "output_type": "stream",
          "name": "stderr",
          "text": [
            "\r 84%|████████▎ | 244/292 [36:47<06:53,  8.61s/it]"
          ]
        },
        {
          "output_type": "stream",
          "name": "stdout",
          "text": [
            "Max train date =  2020-10-31 00:00:00 Test date =  2020-11-30 00:00:00\n"
          ]
        },
        {
          "output_type": "stream",
          "name": "stderr",
          "text": [
            "\r 84%|████████▍ | 245/292 [36:56<06:51,  8.75s/it]"
          ]
        },
        {
          "output_type": "stream",
          "name": "stdout",
          "text": [
            "Max train date =  2020-11-30 00:00:00 Test date =  2020-12-31 00:00:00\n"
          ]
        },
        {
          "output_type": "stream",
          "name": "stderr",
          "text": [
            "\r 84%|████████▍ | 246/292 [37:07<07:18,  9.52s/it]"
          ]
        },
        {
          "output_type": "stream",
          "name": "stdout",
          "text": [
            "Max train date =  2020-12-31 00:00:00 Test date =  2021-01-31 00:00:00\n"
          ]
        },
        {
          "output_type": "stream",
          "name": "stderr",
          "text": [
            "\r 85%|████████▍ | 247/292 [37:15<06:40,  8.90s/it]"
          ]
        },
        {
          "output_type": "stream",
          "name": "stdout",
          "text": [
            "Max train date =  2021-01-31 00:00:00 Test date =  2021-02-28 00:00:00\n"
          ]
        },
        {
          "output_type": "stream",
          "name": "stderr",
          "text": [
            "\r 85%|████████▍ | 248/292 [37:24<06:33,  8.94s/it]"
          ]
        },
        {
          "output_type": "stream",
          "name": "stdout",
          "text": [
            "Max train date =  2021-02-28 00:00:00 Test date =  2021-03-31 00:00:00\n"
          ]
        },
        {
          "output_type": "stream",
          "name": "stderr",
          "text": [
            "\r 85%|████████▌ | 249/292 [37:34<06:43,  9.39s/it]"
          ]
        },
        {
          "output_type": "stream",
          "name": "stdout",
          "text": [
            "Max train date =  2021-03-31 00:00:00 Test date =  2021-04-30 00:00:00\n"
          ]
        },
        {
          "output_type": "stream",
          "name": "stderr",
          "text": [
            "\r 86%|████████▌ | 250/292 [37:42<06:13,  8.88s/it]"
          ]
        },
        {
          "output_type": "stream",
          "name": "stdout",
          "text": [
            "Max train date =  2021-04-30 00:00:00 Test date =  2021-05-31 00:00:00\n"
          ]
        },
        {
          "output_type": "stream",
          "name": "stderr",
          "text": [
            "\r 86%|████████▌ | 251/292 [37:52<06:17,  9.21s/it]"
          ]
        },
        {
          "output_type": "stream",
          "name": "stdout",
          "text": [
            "Max train date =  2021-05-31 00:00:00 Test date =  2021-06-30 00:00:00\n"
          ]
        },
        {
          "output_type": "stream",
          "name": "stderr",
          "text": [
            "\r 86%|████████▋ | 252/292 [38:01<06:13,  9.34s/it]"
          ]
        },
        {
          "output_type": "stream",
          "name": "stdout",
          "text": [
            "Max train date =  2021-06-30 00:00:00 Test date =  2021-07-31 00:00:00\n"
          ]
        },
        {
          "output_type": "stream",
          "name": "stderr",
          "text": [
            "\r 87%|████████▋ | 253/292 [38:10<05:56,  9.14s/it]"
          ]
        },
        {
          "output_type": "stream",
          "name": "stdout",
          "text": [
            "Max train date =  2021-07-31 00:00:00 Test date =  2021-08-31 00:00:00\n"
          ]
        },
        {
          "output_type": "stream",
          "name": "stderr",
          "text": [
            "\r 87%|████████▋ | 254/292 [38:22<06:16,  9.90s/it]"
          ]
        },
        {
          "output_type": "stream",
          "name": "stdout",
          "text": [
            "Max train date =  2021-08-31 00:00:00 Test date =  2021-09-30 00:00:00\n"
          ]
        },
        {
          "output_type": "stream",
          "name": "stderr",
          "text": [
            "\r 87%|████████▋ | 255/292 [38:33<06:18, 10.22s/it]"
          ]
        },
        {
          "output_type": "stream",
          "name": "stdout",
          "text": [
            "Max train date =  2021-09-30 00:00:00 Test date =  2021-10-31 00:00:00\n"
          ]
        },
        {
          "output_type": "stream",
          "name": "stderr",
          "text": [
            "\r 88%|████████▊ | 256/292 [38:43<06:11, 10.31s/it]"
          ]
        },
        {
          "output_type": "stream",
          "name": "stdout",
          "text": [
            "Max train date =  2021-10-31 00:00:00 Test date =  2021-11-30 00:00:00\n"
          ]
        },
        {
          "output_type": "stream",
          "name": "stderr",
          "text": [
            "\r 88%|████████▊ | 257/292 [38:54<06:05, 10.45s/it]"
          ]
        },
        {
          "output_type": "stream",
          "name": "stdout",
          "text": [
            "Max train date =  2021-11-30 00:00:00 Test date =  2021-12-31 00:00:00\n"
          ]
        },
        {
          "output_type": "stream",
          "name": "stderr",
          "text": [
            "\r 88%|████████▊ | 258/292 [39:06<06:16, 11.07s/it]"
          ]
        },
        {
          "output_type": "stream",
          "name": "stdout",
          "text": [
            "Max train date =  2021-12-31 00:00:00 Test date =  2022-01-31 00:00:00\n"
          ]
        },
        {
          "output_type": "stream",
          "name": "stderr",
          "text": [
            "\r 89%|████████▊ | 259/292 [39:16<05:46, 10.49s/it]"
          ]
        },
        {
          "output_type": "stream",
          "name": "stdout",
          "text": [
            "Max train date =  2022-01-31 00:00:00 Test date =  2022-02-28 00:00:00\n"
          ]
        },
        {
          "output_type": "stream",
          "name": "stderr",
          "text": [
            "\r 89%|████████▉ | 260/292 [39:26<05:30, 10.33s/it]"
          ]
        },
        {
          "output_type": "stream",
          "name": "stdout",
          "text": [
            "Max train date =  2022-02-28 00:00:00 Test date =  2022-03-31 00:00:00\n"
          ]
        },
        {
          "output_type": "stream",
          "name": "stderr",
          "text": [
            "\r 89%|████████▉ | 261/292 [39:38<05:38, 10.92s/it]"
          ]
        },
        {
          "output_type": "stream",
          "name": "stdout",
          "text": [
            "Max train date =  2022-03-31 00:00:00 Test date =  2022-04-30 00:00:00\n"
          ]
        },
        {
          "output_type": "stream",
          "name": "stderr",
          "text": [
            "\r 90%|████████▉ | 262/292 [39:48<05:17, 10.57s/it]"
          ]
        },
        {
          "output_type": "stream",
          "name": "stdout",
          "text": [
            "Max train date =  2022-04-30 00:00:00 Test date =  2022-05-31 00:00:00\n"
          ]
        },
        {
          "output_type": "stream",
          "name": "stderr",
          "text": [
            "\r 90%|█████████ | 263/292 [39:57<04:59, 10.33s/it]"
          ]
        },
        {
          "output_type": "stream",
          "name": "stdout",
          "text": [
            "Max train date =  2022-05-31 00:00:00 Test date =  2022-06-30 00:00:00\n"
          ]
        },
        {
          "output_type": "stream",
          "name": "stderr",
          "text": [
            "\r 90%|█████████ | 264/292 [40:09<04:56, 10.61s/it]"
          ]
        },
        {
          "output_type": "stream",
          "name": "stdout",
          "text": [
            "Max train date =  2022-06-30 00:00:00 Test date =  2022-07-31 00:00:00\n"
          ]
        },
        {
          "output_type": "stream",
          "name": "stderr",
          "text": [
            "\r 91%|█████████ | 265/292 [40:19<04:47, 10.66s/it]"
          ]
        },
        {
          "output_type": "stream",
          "name": "stdout",
          "text": [
            "Max train date =  2022-07-31 00:00:00 Test date =  2022-08-31 00:00:00\n"
          ]
        },
        {
          "output_type": "stream",
          "name": "stderr",
          "text": [
            "\r 91%|█████████ | 266/292 [40:29<04:30, 10.42s/it]"
          ]
        },
        {
          "output_type": "stream",
          "name": "stdout",
          "text": [
            "Max train date =  2022-08-31 00:00:00 Test date =  2022-09-30 00:00:00\n"
          ]
        },
        {
          "output_type": "stream",
          "name": "stderr",
          "text": [
            "\r 91%|█████████▏| 267/292 [40:41<04:27, 10.71s/it]"
          ]
        },
        {
          "output_type": "stream",
          "name": "stdout",
          "text": [
            "Max train date =  2022-09-30 00:00:00 Test date =  2022-10-31 00:00:00\n"
          ]
        },
        {
          "output_type": "stream",
          "name": "stderr",
          "text": [
            "\r 92%|█████████▏| 268/292 [40:51<04:12, 10.51s/it]"
          ]
        },
        {
          "output_type": "stream",
          "name": "stdout",
          "text": [
            "Max train date =  2022-10-31 00:00:00 Test date =  2022-11-30 00:00:00\n"
          ]
        },
        {
          "output_type": "stream",
          "name": "stderr",
          "text": [
            "\r 92%|█████████▏| 269/292 [41:03<04:12, 10.96s/it]"
          ]
        },
        {
          "output_type": "stream",
          "name": "stdout",
          "text": [
            "Max train date =  2022-11-30 00:00:00 Test date =  2022-12-31 00:00:00\n"
          ]
        },
        {
          "output_type": "stream",
          "name": "stderr",
          "text": [
            "\r 92%|█████████▏| 270/292 [41:15<04:11, 11.42s/it]"
          ]
        },
        {
          "output_type": "stream",
          "name": "stdout",
          "text": [
            "Max train date =  2022-12-31 00:00:00 Test date =  2023-01-31 00:00:00\n"
          ]
        },
        {
          "output_type": "stream",
          "name": "stderr",
          "text": [
            "\r 93%|█████████▎| 271/292 [41:25<03:47, 10.82s/it]"
          ]
        },
        {
          "output_type": "stream",
          "name": "stdout",
          "text": [
            "Max train date =  2023-01-31 00:00:00 Test date =  2023-02-28 00:00:00\n"
          ]
        },
        {
          "output_type": "stream",
          "name": "stderr",
          "text": [
            "\r 93%|█████████▎| 272/292 [41:35<03:35, 10.77s/it]"
          ]
        },
        {
          "output_type": "stream",
          "name": "stdout",
          "text": [
            "Max train date =  2023-02-28 00:00:00 Test date =  2023-03-31 00:00:00\n"
          ]
        },
        {
          "output_type": "stream",
          "name": "stderr",
          "text": [
            "\r 93%|█████████▎| 273/292 [41:48<03:34, 11.29s/it]"
          ]
        },
        {
          "output_type": "stream",
          "name": "stdout",
          "text": [
            "Max train date =  2023-03-31 00:00:00 Test date =  2023-04-30 00:00:00\n"
          ]
        },
        {
          "output_type": "stream",
          "name": "stderr",
          "text": [
            "\r 94%|█████████▍| 274/292 [41:56<03:08, 10.48s/it]"
          ]
        },
        {
          "output_type": "stream",
          "name": "stdout",
          "text": [
            "Max train date =  2023-04-30 00:00:00 Test date =  2023-05-31 00:00:00\n"
          ]
        },
        {
          "output_type": "stream",
          "name": "stderr",
          "text": [
            "\r 94%|█████████▍| 275/292 [42:06<02:56, 10.36s/it]"
          ]
        },
        {
          "output_type": "stream",
          "name": "stdout",
          "text": [
            "Max train date =  2023-05-31 00:00:00 Test date =  2023-06-30 00:00:00\n"
          ]
        },
        {
          "output_type": "stream",
          "name": "stderr",
          "text": [
            "\r 95%|█████████▍| 276/292 [42:19<02:55, 10.94s/it]"
          ]
        },
        {
          "output_type": "stream",
          "name": "stdout",
          "text": [
            "Max train date =  2023-06-30 00:00:00 Test date =  2023-07-31 00:00:00\n"
          ]
        },
        {
          "output_type": "stream",
          "name": "stderr",
          "text": [
            "\r 95%|█████████▍| 277/292 [42:27<02:32, 10.19s/it]"
          ]
        },
        {
          "output_type": "stream",
          "name": "stdout",
          "text": [
            "Max train date =  2023-07-31 00:00:00 Test date =  2023-08-31 00:00:00\n"
          ]
        },
        {
          "output_type": "stream",
          "name": "stderr",
          "text": [
            "\r 95%|█████████▌| 278/292 [42:37<02:22, 10.18s/it]"
          ]
        },
        {
          "output_type": "stream",
          "name": "stdout",
          "text": [
            "Max train date =  2023-08-31 00:00:00 Test date =  2023-09-30 00:00:00\n"
          ]
        },
        {
          "output_type": "stream",
          "name": "stderr",
          "text": [
            "\r 96%|█████████▌| 279/292 [42:50<02:20, 10.84s/it]"
          ]
        },
        {
          "output_type": "stream",
          "name": "stdout",
          "text": [
            "Max train date =  2023-09-30 00:00:00 Test date =  2023-10-31 00:00:00\n"
          ]
        },
        {
          "output_type": "stream",
          "name": "stderr",
          "text": [
            "\r 96%|█████████▌| 280/292 [42:59<02:03, 10.29s/it]"
          ]
        },
        {
          "output_type": "stream",
          "name": "stdout",
          "text": [
            "Max train date =  2023-10-31 00:00:00 Test date =  2023-11-30 00:00:00\n"
          ]
        },
        {
          "output_type": "stream",
          "name": "stderr",
          "text": [
            "\r 96%|█████████▌| 281/292 [43:09<01:53, 10.34s/it]"
          ]
        },
        {
          "output_type": "stream",
          "name": "stdout",
          "text": [
            "Max train date =  2023-11-30 00:00:00 Test date =  2023-12-31 00:00:00\n"
          ]
        },
        {
          "output_type": "stream",
          "name": "stderr",
          "text": [
            "\r 97%|█████████▋| 282/292 [43:21<01:46, 10.69s/it]"
          ]
        },
        {
          "output_type": "stream",
          "name": "stdout",
          "text": [
            "Max train date =  2023-12-31 00:00:00 Test date =  2024-01-31 00:00:00\n"
          ]
        },
        {
          "output_type": "stream",
          "name": "stderr",
          "text": [
            "\r 97%|█████████▋| 283/292 [43:31<01:35, 10.63s/it]"
          ]
        },
        {
          "output_type": "stream",
          "name": "stdout",
          "text": [
            "Max train date =  2024-01-31 00:00:00 Test date =  2024-02-29 00:00:00\n"
          ]
        },
        {
          "output_type": "stream",
          "name": "stderr",
          "text": [
            "\r 97%|█████████▋| 284/292 [43:41<01:22, 10.28s/it]"
          ]
        },
        {
          "output_type": "stream",
          "name": "stdout",
          "text": [
            "Max train date =  2024-02-29 00:00:00 Test date =  2024-03-31 00:00:00\n"
          ]
        },
        {
          "output_type": "stream",
          "name": "stderr",
          "text": [
            "\r 98%|█████████▊| 285/292 [43:52<01:13, 10.48s/it]"
          ]
        },
        {
          "output_type": "stream",
          "name": "stdout",
          "text": [
            "Max train date =  2024-03-31 00:00:00 Test date =  2024-04-30 00:00:00\n"
          ]
        },
        {
          "output_type": "stream",
          "name": "stderr",
          "text": [
            "\r 98%|█████████▊| 286/292 [44:02<01:03, 10.55s/it]"
          ]
        },
        {
          "output_type": "stream",
          "name": "stdout",
          "text": [
            "Max train date =  2024-04-30 00:00:00 Test date =  2024-05-31 00:00:00\n"
          ]
        },
        {
          "output_type": "stream",
          "name": "stderr",
          "text": [
            "\r 98%|█████████▊| 287/292 [44:12<00:51, 10.23s/it]"
          ]
        },
        {
          "output_type": "stream",
          "name": "stdout",
          "text": [
            "Max train date =  2024-05-31 00:00:00 Test date =  2024-06-30 00:00:00\n"
          ]
        },
        {
          "output_type": "stream",
          "name": "stderr",
          "text": [
            "\r 99%|█████████▊| 288/292 [44:23<00:41, 10.41s/it]"
          ]
        },
        {
          "output_type": "stream",
          "name": "stdout",
          "text": [
            "Max train date =  2024-06-30 00:00:00 Test date =  2024-07-31 00:00:00\n"
          ]
        },
        {
          "output_type": "stream",
          "name": "stderr",
          "text": [
            "\r 99%|█████████▉| 289/292 [44:33<00:30, 10.25s/it]"
          ]
        },
        {
          "output_type": "stream",
          "name": "stdout",
          "text": [
            "Max train date =  2024-07-31 00:00:00 Test date =  2024-08-31 00:00:00\n"
          ]
        },
        {
          "output_type": "stream",
          "name": "stderr",
          "text": [
            "\r 99%|█████████▉| 290/292 [44:43<00:20, 10.22s/it]"
          ]
        },
        {
          "output_type": "stream",
          "name": "stdout",
          "text": [
            "Max train date =  2024-08-31 00:00:00 Test date =  2024-09-30 00:00:00\n"
          ]
        },
        {
          "output_type": "stream",
          "name": "stderr",
          "text": [
            "\r100%|█████████▉| 291/292 [44:54<00:10, 10.50s/it]"
          ]
        },
        {
          "output_type": "stream",
          "name": "stdout",
          "text": [
            "Max train date =  2024-09-30 00:00:00 Test date =  2024-10-31 00:00:00\n"
          ]
        },
        {
          "output_type": "stream",
          "name": "stderr",
          "text": [
            "100%|██████████| 292/292 [45:04<00:00,  9.26s/it]\n"
          ]
        }
      ]
    },
    {
      "cell_type": "code",
      "source": [
        "portfolio_returns_df.head(2)"
      ],
      "metadata": {
        "colab": {
          "base_uri": "https://localhost:8080/",
          "height": 111
        },
        "id": "iQUIQLi9DLYg",
        "outputId": "e3df8f35-4bfb-474c-9805-9d230044ddf0"
      },
      "id": "iQUIQLi9DLYg",
      "execution_count": 15,
      "outputs": [
        {
          "output_type": "execute_result",
          "data": {
            "text/plain": [
              "        date  weighted_return\n",
              "0 2000-07-03         0.015256\n",
              "1 2000-07-05        -0.009739"
            ],
            "text/html": [
              "\n",
              "  <div id=\"df-579c260a-e1b0-47b4-88fe-298a7e0db217\" class=\"colab-df-container\">\n",
              "    <div>\n",
              "<style scoped>\n",
              "    .dataframe tbody tr th:only-of-type {\n",
              "        vertical-align: middle;\n",
              "    }\n",
              "\n",
              "    .dataframe tbody tr th {\n",
              "        vertical-align: top;\n",
              "    }\n",
              "\n",
              "    .dataframe thead th {\n",
              "        text-align: right;\n",
              "    }\n",
              "</style>\n",
              "<table border=\"1\" class=\"dataframe\">\n",
              "  <thead>\n",
              "    <tr style=\"text-align: right;\">\n",
              "      <th></th>\n",
              "      <th>date</th>\n",
              "      <th>weighted_return</th>\n",
              "    </tr>\n",
              "  </thead>\n",
              "  <tbody>\n",
              "    <tr>\n",
              "      <th>0</th>\n",
              "      <td>2000-07-03</td>\n",
              "      <td>0.015256</td>\n",
              "    </tr>\n",
              "    <tr>\n",
              "      <th>1</th>\n",
              "      <td>2000-07-05</td>\n",
              "      <td>-0.009739</td>\n",
              "    </tr>\n",
              "  </tbody>\n",
              "</table>\n",
              "</div>\n",
              "    <div class=\"colab-df-buttons\">\n",
              "\n",
              "  <div class=\"colab-df-container\">\n",
              "    <button class=\"colab-df-convert\" onclick=\"convertToInteractive('df-579c260a-e1b0-47b4-88fe-298a7e0db217')\"\n",
              "            title=\"Convert this dataframe to an interactive table.\"\n",
              "            style=\"display:none;\">\n",
              "\n",
              "  <svg xmlns=\"http://www.w3.org/2000/svg\" height=\"24px\" viewBox=\"0 -960 960 960\">\n",
              "    <path d=\"M120-120v-720h720v720H120Zm60-500h600v-160H180v160Zm220 220h160v-160H400v160Zm0 220h160v-160H400v160ZM180-400h160v-160H180v160Zm440 0h160v-160H620v160ZM180-180h160v-160H180v160Zm440 0h160v-160H620v160Z\"/>\n",
              "  </svg>\n",
              "    </button>\n",
              "\n",
              "  <style>\n",
              "    .colab-df-container {\n",
              "      display:flex;\n",
              "      gap: 12px;\n",
              "    }\n",
              "\n",
              "    .colab-df-convert {\n",
              "      background-color: #E8F0FE;\n",
              "      border: none;\n",
              "      border-radius: 50%;\n",
              "      cursor: pointer;\n",
              "      display: none;\n",
              "      fill: #1967D2;\n",
              "      height: 32px;\n",
              "      padding: 0 0 0 0;\n",
              "      width: 32px;\n",
              "    }\n",
              "\n",
              "    .colab-df-convert:hover {\n",
              "      background-color: #E2EBFA;\n",
              "      box-shadow: 0px 1px 2px rgba(60, 64, 67, 0.3), 0px 1px 3px 1px rgba(60, 64, 67, 0.15);\n",
              "      fill: #174EA6;\n",
              "    }\n",
              "\n",
              "    .colab-df-buttons div {\n",
              "      margin-bottom: 4px;\n",
              "    }\n",
              "\n",
              "    [theme=dark] .colab-df-convert {\n",
              "      background-color: #3B4455;\n",
              "      fill: #D2E3FC;\n",
              "    }\n",
              "\n",
              "    [theme=dark] .colab-df-convert:hover {\n",
              "      background-color: #434B5C;\n",
              "      box-shadow: 0px 1px 3px 1px rgba(0, 0, 0, 0.15);\n",
              "      filter: drop-shadow(0px 1px 2px rgba(0, 0, 0, 0.3));\n",
              "      fill: #FFFFFF;\n",
              "    }\n",
              "  </style>\n",
              "\n",
              "    <script>\n",
              "      const buttonEl =\n",
              "        document.querySelector('#df-579c260a-e1b0-47b4-88fe-298a7e0db217 button.colab-df-convert');\n",
              "      buttonEl.style.display =\n",
              "        google.colab.kernel.accessAllowed ? 'block' : 'none';\n",
              "\n",
              "      async function convertToInteractive(key) {\n",
              "        const element = document.querySelector('#df-579c260a-e1b0-47b4-88fe-298a7e0db217');\n",
              "        const dataTable =\n",
              "          await google.colab.kernel.invokeFunction('convertToInteractive',\n",
              "                                                    [key], {});\n",
              "        if (!dataTable) return;\n",
              "\n",
              "        const docLinkHtml = 'Like what you see? Visit the ' +\n",
              "          '<a target=\"_blank\" href=https://colab.research.google.com/notebooks/data_table.ipynb>data table notebook</a>'\n",
              "          + ' to learn more about interactive tables.';\n",
              "        element.innerHTML = '';\n",
              "        dataTable['output_type'] = 'display_data';\n",
              "        await google.colab.output.renderOutput(dataTable, element);\n",
              "        const docLink = document.createElement('div');\n",
              "        docLink.innerHTML = docLinkHtml;\n",
              "        element.appendChild(docLink);\n",
              "      }\n",
              "    </script>\n",
              "  </div>\n",
              "\n",
              "\n",
              "    <div id=\"df-5e9b37f6-dab9-48b3-a34a-dad3a01e39d9\">\n",
              "      <button class=\"colab-df-quickchart\" onclick=\"quickchart('df-5e9b37f6-dab9-48b3-a34a-dad3a01e39d9')\"\n",
              "                title=\"Suggest charts\"\n",
              "                style=\"display:none;\">\n",
              "\n",
              "<svg xmlns=\"http://www.w3.org/2000/svg\" height=\"24px\"viewBox=\"0 0 24 24\"\n",
              "     width=\"24px\">\n",
              "    <g>\n",
              "        <path d=\"M19 3H5c-1.1 0-2 .9-2 2v14c0 1.1.9 2 2 2h14c1.1 0 2-.9 2-2V5c0-1.1-.9-2-2-2zM9 17H7v-7h2v7zm4 0h-2V7h2v10zm4 0h-2v-4h2v4z\"/>\n",
              "    </g>\n",
              "</svg>\n",
              "      </button>\n",
              "\n",
              "<style>\n",
              "  .colab-df-quickchart {\n",
              "      --bg-color: #E8F0FE;\n",
              "      --fill-color: #1967D2;\n",
              "      --hover-bg-color: #E2EBFA;\n",
              "      --hover-fill-color: #174EA6;\n",
              "      --disabled-fill-color: #AAA;\n",
              "      --disabled-bg-color: #DDD;\n",
              "  }\n",
              "\n",
              "  [theme=dark] .colab-df-quickchart {\n",
              "      --bg-color: #3B4455;\n",
              "      --fill-color: #D2E3FC;\n",
              "      --hover-bg-color: #434B5C;\n",
              "      --hover-fill-color: #FFFFFF;\n",
              "      --disabled-bg-color: #3B4455;\n",
              "      --disabled-fill-color: #666;\n",
              "  }\n",
              "\n",
              "  .colab-df-quickchart {\n",
              "    background-color: var(--bg-color);\n",
              "    border: none;\n",
              "    border-radius: 50%;\n",
              "    cursor: pointer;\n",
              "    display: none;\n",
              "    fill: var(--fill-color);\n",
              "    height: 32px;\n",
              "    padding: 0;\n",
              "    width: 32px;\n",
              "  }\n",
              "\n",
              "  .colab-df-quickchart:hover {\n",
              "    background-color: var(--hover-bg-color);\n",
              "    box-shadow: 0 1px 2px rgba(60, 64, 67, 0.3), 0 1px 3px 1px rgba(60, 64, 67, 0.15);\n",
              "    fill: var(--button-hover-fill-color);\n",
              "  }\n",
              "\n",
              "  .colab-df-quickchart-complete:disabled,\n",
              "  .colab-df-quickchart-complete:disabled:hover {\n",
              "    background-color: var(--disabled-bg-color);\n",
              "    fill: var(--disabled-fill-color);\n",
              "    box-shadow: none;\n",
              "  }\n",
              "\n",
              "  .colab-df-spinner {\n",
              "    border: 2px solid var(--fill-color);\n",
              "    border-color: transparent;\n",
              "    border-bottom-color: var(--fill-color);\n",
              "    animation:\n",
              "      spin 1s steps(1) infinite;\n",
              "  }\n",
              "\n",
              "  @keyframes spin {\n",
              "    0% {\n",
              "      border-color: transparent;\n",
              "      border-bottom-color: var(--fill-color);\n",
              "      border-left-color: var(--fill-color);\n",
              "    }\n",
              "    20% {\n",
              "      border-color: transparent;\n",
              "      border-left-color: var(--fill-color);\n",
              "      border-top-color: var(--fill-color);\n",
              "    }\n",
              "    30% {\n",
              "      border-color: transparent;\n",
              "      border-left-color: var(--fill-color);\n",
              "      border-top-color: var(--fill-color);\n",
              "      border-right-color: var(--fill-color);\n",
              "    }\n",
              "    40% {\n",
              "      border-color: transparent;\n",
              "      border-right-color: var(--fill-color);\n",
              "      border-top-color: var(--fill-color);\n",
              "    }\n",
              "    60% {\n",
              "      border-color: transparent;\n",
              "      border-right-color: var(--fill-color);\n",
              "    }\n",
              "    80% {\n",
              "      border-color: transparent;\n",
              "      border-right-color: var(--fill-color);\n",
              "      border-bottom-color: var(--fill-color);\n",
              "    }\n",
              "    90% {\n",
              "      border-color: transparent;\n",
              "      border-bottom-color: var(--fill-color);\n",
              "    }\n",
              "  }\n",
              "</style>\n",
              "\n",
              "      <script>\n",
              "        async function quickchart(key) {\n",
              "          const quickchartButtonEl =\n",
              "            document.querySelector('#' + key + ' button');\n",
              "          quickchartButtonEl.disabled = true;  // To prevent multiple clicks.\n",
              "          quickchartButtonEl.classList.add('colab-df-spinner');\n",
              "          try {\n",
              "            const charts = await google.colab.kernel.invokeFunction(\n",
              "                'suggestCharts', [key], {});\n",
              "          } catch (error) {\n",
              "            console.error('Error during call to suggestCharts:', error);\n",
              "          }\n",
              "          quickchartButtonEl.classList.remove('colab-df-spinner');\n",
              "          quickchartButtonEl.classList.add('colab-df-quickchart-complete');\n",
              "        }\n",
              "        (() => {\n",
              "          let quickchartButtonEl =\n",
              "            document.querySelector('#df-5e9b37f6-dab9-48b3-a34a-dad3a01e39d9 button');\n",
              "          quickchartButtonEl.style.display =\n",
              "            google.colab.kernel.accessAllowed ? 'block' : 'none';\n",
              "        })();\n",
              "      </script>\n",
              "    </div>\n",
              "\n",
              "    </div>\n",
              "  </div>\n"
            ],
            "application/vnd.google.colaboratory.intrinsic+json": {
              "type": "dataframe",
              "variable_name": "portfolio_returns_df",
              "summary": "{\n  \"name\": \"portfolio_returns_df\",\n  \"rows\": 5916,\n  \"fields\": [\n    {\n      \"column\": \"date\",\n      \"properties\": {\n        \"dtype\": \"date\",\n        \"min\": \"2000-07-03 00:00:00\",\n        \"max\": \"2024-10-30 00:00:00\",\n        \"num_unique_values\": 5916,\n        \"samples\": [\n          \"2024-04-29 00:00:00\",\n          \"2007-06-12 00:00:00\",\n          \"2024-05-08 00:00:00\"\n        ],\n        \"semantic_type\": \"\",\n        \"description\": \"\"\n      }\n    },\n    {\n      \"column\": \"weighted_return\",\n      \"properties\": {\n        \"dtype\": \"number\",\n        \"std\": 0.012935147050028104,\n        \"min\": -0.40352077021351734,\n        \"max\": 0.11311748600772431,\n        \"num_unique_values\": 5916,\n        \"samples\": [\n          0.010905475712737,\n          -0.010294509110772235,\n          -0.001509910713320702\n        ],\n        \"semantic_type\": \"\",\n        \"description\": \"\"\n      }\n    }\n  ]\n}"
            }
          },
          "metadata": {},
          "execution_count": 15
        }
      ]
    },
    {
      "cell_type": "code",
      "source": [
        "portfolio_returns_df.to_csv(folder + '/base_benchmark.csv')"
      ],
      "metadata": {
        "id": "D2L3I5GjDLUT"
      },
      "id": "D2L3I5GjDLUT",
      "execution_count": 14,
      "outputs": []
    },
    {
      "cell_type": "markdown",
      "source": [
        "### First benchmark - SP index"
      ],
      "metadata": {
        "id": "F5gUgmalsB27"
      },
      "id": "F5gUgmalsB27"
    },
    {
      "cell_type": "code",
      "source": [
        "def sharpe_ratio(returns):\n",
        "  \"\"\"\n",
        "  The data is at daily frequency, hence we multiply by sqrt(250)\n",
        "  \"\"\"\n",
        "  return np.round(np.sqrt(250) * returns.mean() / returns.std(), 2)"
      ],
      "metadata": {
        "id": "gOsTQ2Isz2pe"
      },
      "id": "gOsTQ2Isz2pe",
      "execution_count": 17,
      "outputs": []
    },
    {
      "cell_type": "code",
      "execution_count": 22,
      "id": "20356391-30d9-4a96-a6ce-38803b61bb09",
      "metadata": {
        "colab": {
          "base_uri": "https://localhost:8080/",
          "height": 872
        },
        "id": "20356391-30d9-4a96-a6ce-38803b61bb09",
        "outputId": "a9211aa1-3a9c-4f1d-9dfb-0d7d95864a16"
      },
      "outputs": [
        {
          "output_type": "display_data",
          "data": {
            "text/plain": [
              "<Figure size 1500x1000 with 1 Axes>"
            ],
            "image/png": "[encoded data removed]"
          },
          "metadata": {}
        }
      ],
      "source": [
        "sp500 = dailyret[['date', 'sprtrn']].drop_duplicates(\"date\")\n",
        "sp500 = sp500[sp500.date >= first_date].reset_index(drop=True)\n",
        "sp500[\"cumulative_1dollar\"] = (sp500['sprtrn'] + 1).cumprod()\n",
        "\n",
        "portfolio_returns_df[\"cumulative_1dollar\"] = (portfolio_returns_df['weighted_return'] + 1).cumprod()\n",
        "\n",
        "sharpe_SP = sharpe_ratio(sp500['sprtrn'])\n",
        "sharpe_benchmark = sharpe_ratio(portfolio_returns_df[\"weighted_return\"])\n",
        "\n",
        "fig, ax = plt.subplots(figsize = (15, 10))\n",
        "sns.lineplot(x = sp500['date'],\n",
        "             y = sp500['cumulative_1dollar'])\n",
        "sns.lineplot(x = portfolio_returns_df['date'],\n",
        "             y = portfolio_returns_df['cumulative_1dollar'])\n",
        "plt.xlabel(\"Date\")\n",
        "plt.ylabel(f\"Cumulative value of 1 dollar\")\n",
        "plt.title(f\"Cumulative value of 1 dollar invested in SP (SR = {sharpe_SP}) vs constructed benchmark (SR = {sharpe_benchmark})\")\n",
        "plt.show()\n"
      ]
    },
    {
      "cell_type": "code",
      "source": [],
      "metadata": {
        "id": "unTh5Iwe_33-"
      },
      "id": "unTh5Iwe_33-",
      "execution_count": null,
      "outputs": []
    }
  ],
  "metadata": {
    "kernelspec": {
      "display_name": "Python 3",
      "name": "python3"
    },
    "language_info": {
      "codemirror_mode": {
        "name": "ipython",
        "version": 3
      },
      "file_extension": ".py",
      "mimetype": "text/x-python",
      "name": "python",
      "nbconvert_exporter": "python",
      "pygments_lexer": "ipython3",
      "version": "3.12.8"
    },
    "colab": {
      "provenance": []
    }
  },
  "nbformat": 4,
  "nbformat_minor": 5
}