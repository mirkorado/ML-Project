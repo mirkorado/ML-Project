{
 "cells": [
  {
   "cell_type": "code",
   "execution_count": 1,
   "metadata": {
    "executionInfo": {
     "elapsed": 9244,
     "status": "ok",
     "timestamp": 1749567167967,
     "user": {
      "displayName": "Mirko Rado",
      "userId": "09310665357187365654"
     },
     "user_tz": -120
    },
    "id": "CqzdbFF2-wrs"
   },
   "outputs": [],
   "source": [
    "import torch\n",
    "import numpy as np\n",
    "import pandas as pd\n",
    "import DNN_utils as utils\n",
    "import matplotlib.pyplot as plt\n",
    "import seaborn as sns\n",
    "import os\n",
    "from sklearn.linear_model import LinearRegression\n",
    "from datetime import datetime\n",
    "from tqdm import tqdm\n",
    "import torch.nn as nn\n",
    "import torch.nn.functional as F\n",
    "import random\n",
    "from torch.utils.data import Dataset, DataLoader\n",
    "from sklearn.preprocessing import StandardScaler\n",
    "from sklearn.model_selection import train_test_split\n",
    "import gc\n",
    "from importlib import reload"
   ]
  },
  {
   "cell_type": "code",
   "execution_count": 2,
   "metadata": {
    "colab": {
     "base_uri": "https://localhost:8080/"
    },
    "executionInfo": {
     "elapsed": 992,
     "status": "ok",
     "timestamp": 1749567180421,
     "user": {
      "displayName": "Mirko Rado",
      "userId": "09310665357187365654"
     },
     "user_tz": -120
    },
    "id": "jnIz8GWK-yNh",
    "outputId": "29a5381d-185d-48b5-f7b1-64de2d2430af"
   },
   "outputs": [],
   "source": [
    "# IF EXECUTING ON COLLAB UNCOMMENT THIS CELL\n",
    "\n",
    "#import os\n",
    "#from google.colab import drive\n",
    "#drive.mount('/content/gdrive')\n",
    "#folder = '/content/gdrive/My Drive/Data ML Project'\n",
    "#os.chdir(folder)\n",
    "#print(torch.cuda.is_available())\n",
    "\n",
    "# Set these right after importing torch, before any other operations\n",
    "torch.set_num_threads(os.cpu_count())\n",
    "torch.set_num_interop_threads(os.cpu_count())\n",
    "path = 'Targets/daily_crsp_sanitized.csv'"
   ]
  },
  {
   "cell_type": "code",
   "execution_count": 3,
   "metadata": {
    "colab": {
     "base_uri": "https://localhost:8080/",
     "height": 423
    },
    "executionInfo": {
     "elapsed": 8953,
     "status": "ok",
     "timestamp": 1749567191293,
     "user": {
      "displayName": "Mirko Rado",
      "userId": "09310665357187365654"
     },
     "user_tz": -120
    },
    "id": "ixOUuFbM1fqe",
    "outputId": "cd15f372-0fc0-4603-f438-473cf27d7f37"
   },
   "outputs": [
    {
     "data": {
      "text/html": [
       "<div>\n",
       "<style scoped>\n",
       "    .dataframe tbody tr th:only-of-type {\n",
       "        vertical-align: middle;\n",
       "    }\n",
       "\n",
       "    .dataframe tbody tr th {\n",
       "        vertical-align: top;\n",
       "    }\n",
       "\n",
       "    .dataframe thead th {\n",
       "        text-align: right;\n",
       "    }\n",
       "</style>\n",
       "<table border=\"1\" class=\"dataframe\">\n",
       "  <thead>\n",
       "    <tr style=\"text-align: right;\">\n",
       "      <th></th>\n",
       "      <th>date</th>\n",
       "      <th>PERMCO</th>\n",
       "      <th>PERMNO</th>\n",
       "      <th>SICCD</th>\n",
       "      <th>NAICS</th>\n",
       "      <th>DlyRet</th>\n",
       "      <th>sprtrn</th>\n",
       "      <th>sprtrn_lag1</th>\n",
       "    </tr>\n",
       "  </thead>\n",
       "  <tbody>\n",
       "    <tr>\n",
       "      <th>0</th>\n",
       "      <td>2000-01-31</td>\n",
       "      <td>5</td>\n",
       "      <td>15580</td>\n",
       "      <td>6320</td>\n",
       "      <td>0</td>\n",
       "      <td>-0.068182</td>\n",
       "      <td>0.025218</td>\n",
       "      <td>0.000000</td>\n",
       "    </tr>\n",
       "    <tr>\n",
       "      <th>1</th>\n",
       "      <td>2000-01-31</td>\n",
       "      <td>7</td>\n",
       "      <td>14593</td>\n",
       "      <td>3573</td>\n",
       "      <td>0</td>\n",
       "      <td>0.020910</td>\n",
       "      <td>0.025218</td>\n",
       "      <td>0.000000</td>\n",
       "    </tr>\n",
       "    <tr>\n",
       "      <th>2</th>\n",
       "      <td>2000-01-31</td>\n",
       "      <td>25</td>\n",
       "      <td>62770</td>\n",
       "      <td>6711</td>\n",
       "      <td>0</td>\n",
       "      <td>0.041045</td>\n",
       "      <td>0.025218</td>\n",
       "      <td>0.000000</td>\n",
       "    </tr>\n",
       "    <tr>\n",
       "      <th>3</th>\n",
       "      <td>2000-01-31</td>\n",
       "      <td>29</td>\n",
       "      <td>59184</td>\n",
       "      <td>2082</td>\n",
       "      <td>0</td>\n",
       "      <td>0.011236</td>\n",
       "      <td>0.025218</td>\n",
       "      <td>0.000000</td>\n",
       "    </tr>\n",
       "    <tr>\n",
       "      <th>4</th>\n",
       "      <td>2000-01-31</td>\n",
       "      <td>33</td>\n",
       "      <td>59248</td>\n",
       "      <td>2082</td>\n",
       "      <td>0</td>\n",
       "      <td>0.034667</td>\n",
       "      <td>0.025218</td>\n",
       "      <td>0.000000</td>\n",
       "    </tr>\n",
       "    <tr>\n",
       "      <th>...</th>\n",
       "      <td>...</td>\n",
       "      <td>...</td>\n",
       "      <td>...</td>\n",
       "      <td>...</td>\n",
       "      <td>...</td>\n",
       "      <td>...</td>\n",
       "      <td>...</td>\n",
       "      <td>...</td>\n",
       "    </tr>\n",
       "    <tr>\n",
       "      <th>9841513</th>\n",
       "      <td>2005-06-16</td>\n",
       "      <td>20809</td>\n",
       "      <td>23915</td>\n",
       "      <td>2621</td>\n",
       "      <td>322121</td>\n",
       "      <td>0.005097</td>\n",
       "      <td>0.003630</td>\n",
       "      <td>0.002218</td>\n",
       "    </tr>\n",
       "    <tr>\n",
       "      <th>9841514</th>\n",
       "      <td>2005-06-16</td>\n",
       "      <td>20812</td>\n",
       "      <td>47888</td>\n",
       "      <td>7373</td>\n",
       "      <td>541512</td>\n",
       "      <td>-0.023644</td>\n",
       "      <td>0.003630</td>\n",
       "      <td>0.002218</td>\n",
       "    </tr>\n",
       "    <tr>\n",
       "      <th>9841515</th>\n",
       "      <td>2005-06-16</td>\n",
       "      <td>20813</td>\n",
       "      <td>69999</td>\n",
       "      <td>6726</td>\n",
       "      <td>525990</td>\n",
       "      <td>-0.002842</td>\n",
       "      <td>0.003630</td>\n",
       "      <td>0.002218</td>\n",
       "    </tr>\n",
       "    <tr>\n",
       "      <th>9841516</th>\n",
       "      <td>2005-06-16</td>\n",
       "      <td>20818</td>\n",
       "      <td>16424</td>\n",
       "      <td>3421</td>\n",
       "      <td>332211</td>\n",
       "      <td>-0.000768</td>\n",
       "      <td>0.003630</td>\n",
       "      <td>0.002218</td>\n",
       "    </tr>\n",
       "    <tr>\n",
       "      <th>9841517</th>\n",
       "      <td>2005-06-16</td>\n",
       "      <td>20819</td>\n",
       "      <td>57154</td>\n",
       "      <td>2621</td>\n",
       "      <td>322121</td>\n",
       "      <td>-0.002479</td>\n",
       "      <td>0.003630</td>\n",
       "      <td>0.002218</td>\n",
       "    </tr>\n",
       "  </tbody>\n",
       "</table>\n",
       "<p>9841518 rows × 8 columns</p>\n",
       "</div>"
      ],
      "text/plain": [
       "              date  PERMCO  PERMNO  SICCD   NAICS    DlyRet    sprtrn  \\\n",
       "0       2000-01-31       5   15580   6320       0 -0.068182  0.025218   \n",
       "1       2000-01-31       7   14593   3573       0  0.020910  0.025218   \n",
       "2       2000-01-31      25   62770   6711       0  0.041045  0.025218   \n",
       "3       2000-01-31      29   59184   2082       0  0.011236  0.025218   \n",
       "4       2000-01-31      33   59248   2082       0  0.034667  0.025218   \n",
       "...            ...     ...     ...    ...     ...       ...       ...   \n",
       "9841513 2005-06-16   20809   23915   2621  322121  0.005097  0.003630   \n",
       "9841514 2005-06-16   20812   47888   7373  541512 -0.023644  0.003630   \n",
       "9841515 2005-06-16   20813   69999   6726  525990 -0.002842  0.003630   \n",
       "9841516 2005-06-16   20818   16424   3421  332211 -0.000768  0.003630   \n",
       "9841517 2005-06-16   20819   57154   2621  322121 -0.002479  0.003630   \n",
       "\n",
       "         sprtrn_lag1  \n",
       "0           0.000000  \n",
       "1           0.000000  \n",
       "2           0.000000  \n",
       "3           0.000000  \n",
       "4           0.000000  \n",
       "...              ...  \n",
       "9841513     0.002218  \n",
       "9841514     0.002218  \n",
       "9841515     0.002218  \n",
       "9841516     0.002218  \n",
       "9841517     0.002218  \n",
       "\n",
       "[9841518 rows x 8 columns]"
      ]
     },
     "execution_count": 3,
     "metadata": {},
     "output_type": "execute_result"
    }
   ],
   "source": [
    "daily = utils.read_daily_returns(path, nrows=10000000, low_quantile=0.005, up_quantile=0.995)\n",
    "daily"
   ]
  },
  {
   "cell_type": "code",
   "execution_count": 4,
   "metadata": {},
   "outputs": [
    {
     "data": {
      "text/plain": [
       "0          2000-01\n",
       "8329       2000-02\n",
       "174757     2000-03\n",
       "365885     2000-04\n",
       "523862     2000-05\n",
       "            ...   \n",
       "9205863    2005-02\n",
       "9333674    2005-03\n",
       "9481683    2005-04\n",
       "9622885    2005-05\n",
       "9764141    2005-06\n",
       "Name: year_month, Length: 66, dtype: period[M]"
      ]
     },
     "execution_count": 4,
     "metadata": {},
     "output_type": "execute_result"
    }
   ],
   "source": [
    "# Get data frame of unique months\n",
    "daily['year_month'] = daily['date'].dt.to_period('M')\n",
    "unique_months = daily['year_month'].drop_duplicates().sort_values()\n",
    "unique_months"
   ]
  },
  {
   "cell_type": "code",
   "execution_count": 5,
   "metadata": {},
   "outputs": [
    {
     "name": "stdout",
     "output_type": "stream",
     "text": [
      "Training from 2000-01 to 2000-07. Testing on 2000-08.\n",
      "['sprtrn_lag1', 'DlyRet_lag1', 'DlyRet_roll_10', 'DlyRet_roll_20', 'DlyRet_roll_30']\n",
      "Starting training with 516 train batches, 47 test batches\n"
     ]
    },
    {
     "name": "stderr",
     "output_type": "stream",
     "text": [
      "Training:  20%|███████                            | 1/5 [00:19<01:19, 19.83s/it]"
     ]
    },
    {
     "name": "stdout",
     "output_type": "stream",
     "text": [
      "Epoch 1/5, Loss: -0.0742, Train Sharpe: 0.0095, Test Sharpe: 0.0512, Avg Weight: 0.0002, Max Weight: 0.0008\n"
     ]
    },
    {
     "name": "stderr",
     "output_type": "stream",
     "text": [
      "Training:  60%|█████████████████████              | 3/5 [01:00<00:40, 20.05s/it]"
     ]
    },
    {
     "name": "stdout",
     "output_type": "stream",
     "text": [
      "Epoch 3/5, Loss: -0.0981, Train Sharpe: 0.0530, Test Sharpe: 0.0706, Avg Weight: 0.0002, Max Weight: 0.0026\n"
     ]
    },
    {
     "name": "stderr",
     "output_type": "stream",
     "text": [
      "Training: 100%|███████████████████████████████████| 5/5 [01:36<00:00, 19.26s/it]"
     ]
    },
    {
     "name": "stdout",
     "output_type": "stream",
     "text": [
      "Epoch 5/5, Loss: -0.1136, Train Sharpe: 0.0579, Test Sharpe: 0.0697, Avg Weight: 0.0002, Max Weight: 0.0026\n",
      "Training completed! Best test Sharpe ratio: 0.0714\n",
      "Training from 2000-02 to 2000-08. Testing on 2000-09.\n"
     ]
    },
    {
     "name": "stderr",
     "output_type": "stream",
     "text": [
      "\n"
     ]
    },
    {
     "name": "stdout",
     "output_type": "stream",
     "text": [
      "['sprtrn_lag1', 'DlyRet_lag1', 'DlyRet_roll_10', 'DlyRet_roll_20', 'DlyRet_roll_30']\n",
      "Starting training with 606 train batches, 41 test batches\n"
     ]
    },
    {
     "name": "stderr",
     "output_type": "stream",
     "text": [
      "Training:  20%|███████                            | 1/5 [00:22<01:30, 22.65s/it]"
     ]
    },
    {
     "name": "stdout",
     "output_type": "stream",
     "text": [
      "Epoch 1/5, Loss: -0.0816, Train Sharpe: 0.0208, Test Sharpe: -0.0275, Avg Weight: 0.0002, Max Weight: 0.0008\n"
     ]
    },
    {
     "name": "stderr",
     "output_type": "stream",
     "text": [
      "Training:  60%|█████████████████████              | 3/5 [01:05<00:43, 21.58s/it]"
     ]
    },
    {
     "name": "stdout",
     "output_type": "stream",
     "text": [
      "Epoch 3/5, Loss: -0.1073, Train Sharpe: 0.0481, Test Sharpe: -0.0006, Avg Weight: 0.0002, Max Weight: 0.0013\n"
     ]
    },
    {
     "name": "stderr",
     "output_type": "stream",
     "text": [
      "Training: 100%|███████████████████████████████████| 5/5 [01:48<00:00, 21.66s/it]"
     ]
    },
    {
     "name": "stdout",
     "output_type": "stream",
     "text": [
      "Epoch 5/5, Loss: -0.1215, Train Sharpe: 0.0552, Test Sharpe: 0.0046, Avg Weight: 0.0002, Max Weight: 0.0016\n",
      "Training completed! Best test Sharpe ratio: 0.0046\n",
      "Training from 2000-03 to 2000-09. Testing on 2000-10.\n"
     ]
    },
    {
     "name": "stderr",
     "output_type": "stream",
     "text": [
      "\n"
     ]
    },
    {
     "name": "stdout",
     "output_type": "stream",
     "text": [
      "['sprtrn_lag1', 'DlyRet_lag1', 'DlyRet_roll_10', 'DlyRet_roll_20', 'DlyRet_roll_30']\n",
      "Starting training with 606 train batches, 45 test batches\n"
     ]
    },
    {
     "name": "stderr",
     "output_type": "stream",
     "text": [
      "Training:  20%|███████                            | 1/5 [00:21<01:24, 21.19s/it]"
     ]
    },
    {
     "name": "stdout",
     "output_type": "stream",
     "text": [
      "Epoch 1/5, Loss: -0.0722, Train Sharpe: 0.0244, Test Sharpe: -0.0075, Avg Weight: 0.0002, Max Weight: 0.0014\n"
     ]
    },
    {
     "name": "stderr",
     "output_type": "stream",
     "text": [
      "Training:  60%|█████████████████████              | 3/5 [01:00<00:40, 20.10s/it]"
     ]
    },
    {
     "name": "stdout",
     "output_type": "stream",
     "text": [
      "Epoch 3/5, Loss: -0.1121, Train Sharpe: 0.0553, Test Sharpe: 0.0254, Avg Weight: 0.0002, Max Weight: 0.0019\n"
     ]
    },
    {
     "name": "stderr",
     "output_type": "stream",
     "text": [
      "Training: 100%|███████████████████████████████████| 5/5 [01:44<00:00, 20.92s/it]"
     ]
    },
    {
     "name": "stdout",
     "output_type": "stream",
     "text": [
      "Epoch 5/5, Loss: -0.1230, Train Sharpe: 0.0640, Test Sharpe: 0.0285, Avg Weight: 0.0002, Max Weight: 0.0025\n",
      "Training completed! Best test Sharpe ratio: 0.0312\n",
      "Training from 2000-04 to 2000-10. Testing on 2000-11.\n"
     ]
    },
    {
     "name": "stderr",
     "output_type": "stream",
     "text": [
      "\n"
     ]
    },
    {
     "name": "stdout",
     "output_type": "stream",
     "text": [
      "['sprtrn_lag1', 'DlyRet_lag1', 'DlyRet_roll_10', 'DlyRet_roll_20', 'DlyRet_roll_30']\n",
      "Starting training with 602 train batches, 43 test batches\n"
     ]
    },
    {
     "name": "stderr",
     "output_type": "stream",
     "text": [
      "Training:  20%|███████                            | 1/5 [00:23<01:33, 23.41s/it]"
     ]
    },
    {
     "name": "stdout",
     "output_type": "stream",
     "text": [
      "Epoch 1/5, Loss: -0.0693, Train Sharpe: 0.0388, Test Sharpe: -0.0357, Avg Weight: 0.0002, Max Weight: 0.0033\n"
     ]
    },
    {
     "name": "stderr",
     "output_type": "stream",
     "text": [
      "Training:  60%|█████████████████████              | 3/5 [01:09<00:45, 22.90s/it]"
     ]
    },
    {
     "name": "stdout",
     "output_type": "stream",
     "text": [
      "Epoch 3/5, Loss: -0.1148, Train Sharpe: 0.0623, Test Sharpe: -0.0066, Avg Weight: 0.0002, Max Weight: 0.0041\n"
     ]
    },
    {
     "name": "stderr",
     "output_type": "stream",
     "text": [
      "Training: 100%|███████████████████████████████████| 5/5 [01:52<00:00, 22.56s/it]"
     ]
    },
    {
     "name": "stdout",
     "output_type": "stream",
     "text": [
      "Epoch 5/5, Loss: -0.1235, Train Sharpe: 0.0669, Test Sharpe: -0.0034, Avg Weight: 0.0002, Max Weight: 0.0043\n",
      "Training completed! Best test Sharpe ratio: -0.0029\n",
      "Training from 2000-05 to 2000-11. Testing on 2000-12.\n"
     ]
    },
    {
     "name": "stderr",
     "output_type": "stream",
     "text": [
      "\n"
     ]
    },
    {
     "name": "stdout",
     "output_type": "stream",
     "text": [
      "['sprtrn_lag1', 'DlyRet_lag1', 'DlyRet_roll_10', 'DlyRet_roll_20', 'DlyRet_roll_30']\n",
      "Starting training with 610 train batches, 40 test batches\n"
     ]
    },
    {
     "name": "stderr",
     "output_type": "stream",
     "text": [
      "Training:  20%|███████                            | 1/5 [00:21<01:27, 21.81s/it]"
     ]
    },
    {
     "name": "stdout",
     "output_type": "stream",
     "text": [
      "Epoch 1/5, Loss: -0.0580, Train Sharpe: 0.0152, Test Sharpe: 0.0204, Avg Weight: 0.0002, Max Weight: 0.0055\n"
     ]
    },
    {
     "name": "stderr",
     "output_type": "stream",
     "text": [
      "Training:  60%|█████████████████████              | 3/5 [01:03<00:42, 21.07s/it]"
     ]
    },
    {
     "name": "stdout",
     "output_type": "stream",
     "text": [
      "Epoch 3/5, Loss: -0.1105, Train Sharpe: 0.0580, Test Sharpe: 0.0428, Avg Weight: 0.0002, Max Weight: 0.0090\n"
     ]
    },
    {
     "name": "stderr",
     "output_type": "stream",
     "text": [
      "Training: 100%|███████████████████████████████████| 5/5 [01:41<00:00, 20.33s/it]"
     ]
    },
    {
     "name": "stdout",
     "output_type": "stream",
     "text": [
      "Epoch 5/5, Loss: -0.1204, Train Sharpe: 0.0618, Test Sharpe: 0.0420, Avg Weight: 0.0002, Max Weight: 0.0093\n",
      "Training completed! Best test Sharpe ratio: 0.0428\n",
      "Training from 2000-06 to 2000-12. Testing on 2001-01.\n"
     ]
    },
    {
     "name": "stderr",
     "output_type": "stream",
     "text": [
      "\n"
     ]
    },
    {
     "name": "stdout",
     "output_type": "stream",
     "text": [
      "['sprtrn_lag1', 'DlyRet_lag1', 'DlyRet_roll_10', 'DlyRet_roll_20', 'DlyRet_roll_30']\n",
      "Starting training with 600 train batches, 42 test batches\n"
     ]
    },
    {
     "name": "stderr",
     "output_type": "stream",
     "text": [
      "Training:  20%|███████                            | 1/5 [00:18<01:15, 18.95s/it]"
     ]
    },
    {
     "name": "stdout",
     "output_type": "stream",
     "text": [
      "Epoch 1/5, Loss: -0.0756, Train Sharpe: 0.0287, Test Sharpe: 0.1070, Avg Weight: 0.0002, Max Weight: 0.0019\n"
     ]
    },
    {
     "name": "stderr",
     "output_type": "stream",
     "text": [
      "Training:  60%|█████████████████████              | 3/5 [00:58<00:39, 19.71s/it]"
     ]
    },
    {
     "name": "stdout",
     "output_type": "stream",
     "text": [
      "Epoch 3/5, Loss: -0.1158, Train Sharpe: 0.0544, Test Sharpe: 0.0989, Avg Weight: 0.0002, Max Weight: 0.0019\n"
     ]
    },
    {
     "name": "stderr",
     "output_type": "stream",
     "text": [
      "Training: 100%|███████████████████████████████████| 5/5 [01:41<00:00, 20.32s/it]"
     ]
    },
    {
     "name": "stdout",
     "output_type": "stream",
     "text": [
      "Epoch 5/5, Loss: -0.1227, Train Sharpe: 0.0580, Test Sharpe: 0.0936, Avg Weight: 0.0002, Max Weight: 0.0019\n",
      "Training completed! Best test Sharpe ratio: 0.1070\n",
      "Training from 2000-07 to 2001-01. Testing on 2001-02.\n"
     ]
    },
    {
     "name": "stderr",
     "output_type": "stream",
     "text": [
      "\n"
     ]
    },
    {
     "name": "stdout",
     "output_type": "stream",
     "text": [
      "['sprtrn_lag1', 'DlyRet_lag1', 'DlyRet_roll_10', 'DlyRet_roll_20', 'DlyRet_roll_30']\n",
      "Starting training with 594 train batches, 38 test batches\n"
     ]
    },
    {
     "name": "stderr",
     "output_type": "stream",
     "text": [
      "Training:  20%|███████                            | 1/5 [00:19<01:19, 19.99s/it]"
     ]
    },
    {
     "name": "stdout",
     "output_type": "stream",
     "text": [
      "Epoch 1/5, Loss: -0.0780, Train Sharpe: 0.0054, Test Sharpe: -0.0736, Avg Weight: 0.0002, Max Weight: 0.0015\n"
     ]
    },
    {
     "name": "stderr",
     "output_type": "stream",
     "text": [
      "Training:  60%|█████████████████████              | 3/5 [01:02<00:41, 20.86s/it]"
     ]
    },
    {
     "name": "stdout",
     "output_type": "stream",
     "text": [
      "Epoch 3/5, Loss: -0.1187, Train Sharpe: 0.0391, Test Sharpe: -0.0377, Avg Weight: 0.0002, Max Weight: 0.0020\n"
     ]
    },
    {
     "name": "stderr",
     "output_type": "stream",
     "text": [
      "Training: 100%|███████████████████████████████████| 5/5 [01:39<00:00, 19.92s/it]"
     ]
    },
    {
     "name": "stdout",
     "output_type": "stream",
     "text": [
      "Epoch 5/5, Loss: -0.1275, Train Sharpe: 0.0487, Test Sharpe: -0.0336, Avg Weight: 0.0002, Max Weight: 0.0019\n",
      "Training completed! Best test Sharpe ratio: -0.0336\n",
      "Training from 2000-08 to 2001-02. Testing on 2001-03.\n"
     ]
    },
    {
     "name": "stderr",
     "output_type": "stream",
     "text": [
      "\n"
     ]
    },
    {
     "name": "stdout",
     "output_type": "stream",
     "text": [
      "['sprtrn_lag1', 'DlyRet_lag1', 'DlyRet_roll_10', 'DlyRet_roll_20', 'DlyRet_roll_30']\n",
      "Starting training with 587 train batches, 43 test batches\n"
     ]
    },
    {
     "name": "stderr",
     "output_type": "stream",
     "text": [
      "Training:  20%|███████                            | 1/5 [00:18<01:14, 18.70s/it]"
     ]
    },
    {
     "name": "stdout",
     "output_type": "stream",
     "text": [
      "Epoch 1/5, Loss: -0.0704, Train Sharpe: 0.0133, Test Sharpe: -0.0312, Avg Weight: 0.0002, Max Weight: 0.0015\n"
     ]
    },
    {
     "name": "stderr",
     "output_type": "stream",
     "text": [
      "Training:  60%|█████████████████████              | 3/5 [00:59<00:40, 20.19s/it]"
     ]
    },
    {
     "name": "stdout",
     "output_type": "stream",
     "text": [
      "Epoch 3/5, Loss: -0.1124, Train Sharpe: 0.0593, Test Sharpe: 0.0207, Avg Weight: 0.0002, Max Weight: 0.0025\n"
     ]
    },
    {
     "name": "stderr",
     "output_type": "stream",
     "text": [
      "Training: 100%|███████████████████████████████████| 5/5 [01:39<00:00, 19.83s/it]"
     ]
    },
    {
     "name": "stdout",
     "output_type": "stream",
     "text": [
      "Epoch 5/5, Loss: -0.1238, Train Sharpe: 0.0659, Test Sharpe: 0.0236, Avg Weight: 0.0002, Max Weight: 0.0029\n",
      "Training completed! Best test Sharpe ratio: 0.0236\n",
      "Training from 2000-09 to 2001-03. Testing on 2001-04.\n"
     ]
    },
    {
     "name": "stderr",
     "output_type": "stream",
     "text": [
      "\n"
     ]
    },
    {
     "name": "stdout",
     "output_type": "stream",
     "text": [
      "['sprtrn_lag1', 'DlyRet_lag1', 'DlyRet_roll_10', 'DlyRet_roll_20', 'DlyRet_roll_30']\n",
      "Starting training with 579 train batches, 39 test batches\n"
     ]
    },
    {
     "name": "stderr",
     "output_type": "stream",
     "text": [
      "Training:  20%|███████                            | 1/5 [00:18<01:12, 18.12s/it]"
     ]
    },
    {
     "name": "stdout",
     "output_type": "stream",
     "text": [
      "Epoch 1/5, Loss: -0.0606, Train Sharpe: 0.0159, Test Sharpe: 0.0465, Avg Weight: 0.0002, Max Weight: 0.0034\n"
     ]
    },
    {
     "name": "stderr",
     "output_type": "stream",
     "text": [
      "Training:  60%|█████████████████████              | 3/5 [01:00<00:41, 20.72s/it]"
     ]
    },
    {
     "name": "stdout",
     "output_type": "stream",
     "text": [
      "Epoch 3/5, Loss: -0.1067, Train Sharpe: 0.0573, Test Sharpe: 0.0696, Avg Weight: 0.0002, Max Weight: 0.0058\n"
     ]
    },
    {
     "name": "stderr",
     "output_type": "stream",
     "text": [
      "Training: 100%|███████████████████████████████████| 5/5 [01:43<00:00, 20.61s/it]"
     ]
    },
    {
     "name": "stdout",
     "output_type": "stream",
     "text": [
      "Epoch 5/5, Loss: -0.1179, Train Sharpe: 0.0608, Test Sharpe: 0.0686, Avg Weight: 0.0002, Max Weight: 0.0058\n",
      "Training completed! Best test Sharpe ratio: 0.0696\n",
      "Training from 2000-10 to 2001-04. Testing on 2001-05.\n"
     ]
    },
    {
     "name": "stderr",
     "output_type": "stream",
     "text": [
      "\n"
     ]
    },
    {
     "name": "stdout",
     "output_type": "stream",
     "text": [
      "['sprtrn_lag1', 'DlyRet_lag1', 'DlyRet_roll_10', 'DlyRet_roll_20', 'DlyRet_roll_30']\n",
      "Starting training with 574 train batches, 43 test batches\n"
     ]
    },
    {
     "name": "stderr",
     "output_type": "stream",
     "text": [
      "Training:  20%|███████                            | 1/5 [00:19<01:17, 19.25s/it]"
     ]
    },
    {
     "name": "stdout",
     "output_type": "stream",
     "text": [
      "Epoch 1/5, Loss: -0.0705, Train Sharpe: 0.0143, Test Sharpe: 0.0069, Avg Weight: 0.0002, Max Weight: 0.3774\n"
     ]
    },
    {
     "name": "stderr",
     "output_type": "stream",
     "text": [
      "Training:  60%|█████████████████████              | 3/5 [00:58<00:38, 19.34s/it]"
     ]
    },
    {
     "name": "stdout",
     "output_type": "stream",
     "text": [
      "Epoch 3/5, Loss: -0.1101, Train Sharpe: 0.0442, Test Sharpe: 0.0099, Avg Weight: 0.0002, Max Weight: 0.3390\n"
     ]
    },
    {
     "name": "stderr",
     "output_type": "stream",
     "text": [
      "Training: 100%|███████████████████████████████████| 5/5 [01:36<00:00, 19.32s/it]"
     ]
    },
    {
     "name": "stdout",
     "output_type": "stream",
     "text": [
      "Epoch 5/5, Loss: -0.1198, Train Sharpe: 0.0507, Test Sharpe: 0.0121, Avg Weight: 0.0002, Max Weight: 0.2814\n",
      "Training completed! Best test Sharpe ratio: 0.0121\n",
      "Training from 2000-11 to 2001-05. Testing on 2001-06.\n"
     ]
    },
    {
     "name": "stderr",
     "output_type": "stream",
     "text": [
      "\n"
     ]
    },
    {
     "name": "stdout",
     "output_type": "stream",
     "text": [
      "['sprtrn_lag1', 'DlyRet_lag1', 'DlyRet_roll_10', 'DlyRet_roll_20', 'DlyRet_roll_30']\n",
      "Starting training with 569 train batches, 40 test batches\n"
     ]
    },
    {
     "name": "stderr",
     "output_type": "stream",
     "text": [
      "Training:  20%|███████                            | 1/5 [00:20<01:20, 20.11s/it]"
     ]
    },
    {
     "name": "stdout",
     "output_type": "stream",
     "text": [
      "Epoch 1/5, Loss: -0.0739, Train Sharpe: 0.0141, Test Sharpe: 0.0088, Avg Weight: 0.0002, Max Weight: 0.0006\n"
     ]
    },
    {
     "name": "stderr",
     "output_type": "stream",
     "text": [
      "Training:  60%|█████████████████████              | 3/5 [00:59<00:39, 19.65s/it]"
     ]
    },
    {
     "name": "stdout",
     "output_type": "stream",
     "text": [
      "Epoch 3/5, Loss: -0.1169, Train Sharpe: 0.0518, Test Sharpe: 0.0298, Avg Weight: 0.0002, Max Weight: 0.0008\n"
     ]
    },
    {
     "name": "stderr",
     "output_type": "stream",
     "text": [
      "Training: 100%|███████████████████████████████████| 5/5 [01:37<00:00, 19.42s/it]"
     ]
    },
    {
     "name": "stdout",
     "output_type": "stream",
     "text": [
      "Epoch 5/5, Loss: -0.1266, Train Sharpe: 0.0559, Test Sharpe: 0.0309, Avg Weight: 0.0002, Max Weight: 0.0008\n",
      "Training completed! Best test Sharpe ratio: 0.0309\n",
      "Training from 2000-12 to 2001-06. Testing on 2001-07.\n"
     ]
    },
    {
     "name": "stderr",
     "output_type": "stream",
     "text": [
      "\n"
     ]
    },
    {
     "name": "stdout",
     "output_type": "stream",
     "text": [
      "['sprtrn_lag1', 'DlyRet_lag1', 'DlyRet_roll_10', 'DlyRet_roll_20', 'DlyRet_roll_30']\n",
      "Starting training with 564 train batches, 40 test batches\n"
     ]
    },
    {
     "name": "stderr",
     "output_type": "stream",
     "text": [
      "Training:  20%|███████                            | 1/5 [00:17<01:09, 17.47s/it]"
     ]
    },
    {
     "name": "stdout",
     "output_type": "stream",
     "text": [
      "Epoch 1/5, Loss: -0.0841, Train Sharpe: 0.0306, Test Sharpe: -0.0249, Avg Weight: 0.0002, Max Weight: 0.0012\n"
     ]
    },
    {
     "name": "stderr",
     "output_type": "stream",
     "text": [
      "Training:  60%|█████████████████████              | 3/5 [00:55<00:36, 18.45s/it]"
     ]
    },
    {
     "name": "stdout",
     "output_type": "stream",
     "text": [
      "Epoch 3/5, Loss: -0.1220, Train Sharpe: 0.0640, Test Sharpe: 0.0080, Avg Weight: 0.0002, Max Weight: 0.0021\n"
     ]
    },
    {
     "name": "stderr",
     "output_type": "stream",
     "text": [
      "Training: 100%|███████████████████████████████████| 5/5 [01:32<00:00, 18.53s/it]"
     ]
    },
    {
     "name": "stdout",
     "output_type": "stream",
     "text": [
      "Epoch 5/5, Loss: -0.1301, Train Sharpe: 0.0680, Test Sharpe: 0.0077, Avg Weight: 0.0002, Max Weight: 0.0021\n",
      "Training completed! Best test Sharpe ratio: 0.0080\n",
      "Training from 2001-01 to 2001-07. Testing on 2001-08.\n"
     ]
    },
    {
     "name": "stderr",
     "output_type": "stream",
     "text": [
      "\n"
     ]
    },
    {
     "name": "stdout",
     "output_type": "stream",
     "text": [
      "['sprtrn_lag1', 'DlyRet_lag1', 'DlyRet_roll_10', 'DlyRet_roll_20', 'DlyRet_roll_30']\n",
      "Starting training with 563 train batches, 43 test batches\n"
     ]
    },
    {
     "name": "stderr",
     "output_type": "stream",
     "text": [
      "Training:  20%|███████                            | 1/5 [00:18<01:13, 18.30s/it]"
     ]
    },
    {
     "name": "stdout",
     "output_type": "stream",
     "text": [
      "Epoch 1/5, Loss: -0.0786, Train Sharpe: 0.0312, Test Sharpe: -0.0216, Avg Weight: 0.0002, Max Weight: 0.0012\n"
     ]
    },
    {
     "name": "stderr",
     "output_type": "stream",
     "text": [
      "Training:  60%|█████████████████████              | 3/5 [00:59<00:40, 20.10s/it]"
     ]
    },
    {
     "name": "stdout",
     "output_type": "stream",
     "text": [
      "Epoch 3/5, Loss: -0.1158, Train Sharpe: 0.0614, Test Sharpe: 0.0107, Avg Weight: 0.0002, Max Weight: 0.0017\n"
     ]
    },
    {
     "name": "stderr",
     "output_type": "stream",
     "text": [
      "Training: 100%|███████████████████████████████████| 5/5 [01:41<00:00, 20.22s/it]"
     ]
    },
    {
     "name": "stdout",
     "output_type": "stream",
     "text": [
      "Epoch 5/5, Loss: -0.1254, Train Sharpe: 0.0662, Test Sharpe: 0.0121, Avg Weight: 0.0002, Max Weight: 0.0014\n",
      "Training completed! Best test Sharpe ratio: 0.0167\n",
      "Training from 2001-02 to 2001-08. Testing on 2001-09.\n"
     ]
    },
    {
     "name": "stderr",
     "output_type": "stream",
     "text": [
      "\n"
     ]
    },
    {
     "name": "stdout",
     "output_type": "stream",
     "text": [
      "['sprtrn_lag1', 'DlyRet_lag1', 'DlyRet_roll_10', 'DlyRet_roll_20', 'DlyRet_roll_30']\n",
      "Starting training with 566 train batches, 28 test batches\n"
     ]
    },
    {
     "name": "stderr",
     "output_type": "stream",
     "text": [
      "Training:  20%|███████                            | 1/5 [00:19<01:18, 19.56s/it]"
     ]
    },
    {
     "name": "stdout",
     "output_type": "stream",
     "text": [
      "Epoch 1/5, Loss: -0.0694, Train Sharpe: 0.0154, Test Sharpe: -0.0913, Avg Weight: 0.0002, Max Weight: 0.0024\n"
     ]
    },
    {
     "name": "stderr",
     "output_type": "stream",
     "text": [
      "Training:  60%|█████████████████████              | 3/5 [00:59<00:39, 19.75s/it]"
     ]
    },
    {
     "name": "stdout",
     "output_type": "stream",
     "text": [
      "Epoch 3/5, Loss: -0.1053, Train Sharpe: 0.0525, Test Sharpe: -0.0445, Avg Weight: 0.0002, Max Weight: 0.0022\n"
     ]
    },
    {
     "name": "stderr",
     "output_type": "stream",
     "text": [
      "Training: 100%|███████████████████████████████████| 5/5 [01:40<00:00, 20.12s/it]"
     ]
    },
    {
     "name": "stdout",
     "output_type": "stream",
     "text": [
      "Epoch 5/5, Loss: -0.1168, Train Sharpe: 0.0573, Test Sharpe: -0.0433, Avg Weight: 0.0002, Max Weight: 0.0022\n",
      "Training completed! Best test Sharpe ratio: -0.0429\n",
      "Training from 2001-03 to 2001-09. Testing on 2001-10.\n"
     ]
    },
    {
     "name": "stderr",
     "output_type": "stream",
     "text": [
      "\n"
     ]
    },
    {
     "name": "stdout",
     "output_type": "stream",
     "text": [
      "['sprtrn_lag1', 'DlyRet_lag1', 'DlyRet_roll_10', 'DlyRet_roll_20', 'DlyRet_roll_30']\n",
      "Starting training with 547 train batches, 43 test batches\n"
     ]
    },
    {
     "name": "stderr",
     "output_type": "stream",
     "text": [
      "Training:  20%|███████                            | 1/5 [00:17<01:09, 17.38s/it]"
     ]
    },
    {
     "name": "stdout",
     "output_type": "stream",
     "text": [
      "Epoch 1/5, Loss: -0.0685, Train Sharpe: 0.0080, Test Sharpe: 0.0399, Avg Weight: 0.0002, Max Weight: 0.0046\n"
     ]
    },
    {
     "name": "stderr",
     "output_type": "stream",
     "text": [
      "Training:  60%|█████████████████████              | 3/5 [00:51<00:34, 17.22s/it]"
     ]
    },
    {
     "name": "stdout",
     "output_type": "stream",
     "text": [
      "Epoch 3/5, Loss: -0.1020, Train Sharpe: 0.0422, Test Sharpe: 0.0541, Avg Weight: 0.0002, Max Weight: 0.0198\n"
     ]
    },
    {
     "name": "stderr",
     "output_type": "stream",
     "text": [
      "Training: 100%|███████████████████████████████████| 5/5 [01:30<00:00, 18.05s/it]"
     ]
    },
    {
     "name": "stdout",
     "output_type": "stream",
     "text": [
      "Epoch 5/5, Loss: -0.1120, Train Sharpe: 0.0480, Test Sharpe: 0.0561, Avg Weight: 0.0002, Max Weight: 0.0287\n",
      "Training completed! Best test Sharpe ratio: 0.0563\n",
      "Training from 2001-04 to 2001-10. Testing on 2001-11.\n"
     ]
    },
    {
     "name": "stderr",
     "output_type": "stream",
     "text": [
      "\n"
     ]
    },
    {
     "name": "stdout",
     "output_type": "stream",
     "text": [
      "['sprtrn_lag1', 'DlyRet_lag1', 'DlyRet_roll_10', 'DlyRet_roll_20', 'DlyRet_roll_30']\n",
      "Starting training with 546 train batches, 39 test batches\n"
     ]
    },
    {
     "name": "stderr",
     "output_type": "stream",
     "text": [
      "Training:  20%|███████                            | 1/5 [00:19<01:19, 19.93s/it]"
     ]
    },
    {
     "name": "stdout",
     "output_type": "stream",
     "text": [
      "Epoch 1/5, Loss: -0.0773, Train Sharpe: 0.0097, Test Sharpe: 0.0733, Avg Weight: 0.0002, Max Weight: 0.0011\n"
     ]
    },
    {
     "name": "stderr",
     "output_type": "stream",
     "text": [
      "Training:  60%|█████████████████████              | 3/5 [00:58<00:38, 19.36s/it]"
     ]
    },
    {
     "name": "stdout",
     "output_type": "stream",
     "text": [
      "Epoch 3/5, Loss: -0.1098, Train Sharpe: 0.0381, Test Sharpe: 0.0813, Avg Weight: 0.0002, Max Weight: 0.0019\n"
     ]
    },
    {
     "name": "stderr",
     "output_type": "stream",
     "text": [
      "Training: 100%|███████████████████████████████████| 5/5 [01:39<00:00, 19.87s/it]"
     ]
    },
    {
     "name": "stdout",
     "output_type": "stream",
     "text": [
      "Epoch 5/5, Loss: -0.1165, Train Sharpe: 0.0502, Test Sharpe: 0.0808, Avg Weight: 0.0002, Max Weight: 0.0019\n",
      "Training completed! Best test Sharpe ratio: 0.0813\n",
      "Training from 2001-05 to 2001-11. Testing on 2001-12.\n"
     ]
    },
    {
     "name": "stderr",
     "output_type": "stream",
     "text": [
      "\n"
     ]
    },
    {
     "name": "stdout",
     "output_type": "stream",
     "text": [
      "['sprtrn_lag1', 'DlyRet_lag1', 'DlyRet_roll_10', 'DlyRet_roll_20', 'DlyRet_roll_30']\n",
      "Starting training with 545 train batches, 37 test batches\n"
     ]
    },
    {
     "name": "stderr",
     "output_type": "stream",
     "text": [
      "Training:  20%|███████                            | 1/5 [00:18<01:12, 18.01s/it]"
     ]
    },
    {
     "name": "stdout",
     "output_type": "stream",
     "text": [
      "Epoch 1/5, Loss: -0.0815, Train Sharpe: 0.0064, Test Sharpe: 0.0585, Avg Weight: 0.0002, Max Weight: 0.0011\n"
     ]
    },
    {
     "name": "stderr",
     "output_type": "stream",
     "text": [
      "Training:  60%|█████████████████████              | 3/5 [00:56<00:37, 18.89s/it]"
     ]
    },
    {
     "name": "stdout",
     "output_type": "stream",
     "text": [
      "Epoch 3/5, Loss: -0.1132, Train Sharpe: 0.0345, Test Sharpe: 0.0773, Avg Weight: 0.0002, Max Weight: 0.0014\n"
     ]
    },
    {
     "name": "stderr",
     "output_type": "stream",
     "text": [
      "Training: 100%|███████████████████████████████████| 5/5 [01:41<00:00, 20.28s/it]"
     ]
    },
    {
     "name": "stdout",
     "output_type": "stream",
     "text": [
      "Epoch 5/5, Loss: -0.1200, Train Sharpe: 0.0411, Test Sharpe: 0.0802, Avg Weight: 0.0002, Max Weight: 0.0017\n",
      "Training completed! Best test Sharpe ratio: 0.0802\n",
      "Training from 2001-06 to 2001-12. Testing on 2002-01.\n"
     ]
    },
    {
     "name": "stderr",
     "output_type": "stream",
     "text": [
      "\n"
     ]
    },
    {
     "name": "stdout",
     "output_type": "stream",
     "text": [
      "['sprtrn_lag1', 'DlyRet_lag1', 'DlyRet_roll_10', 'DlyRet_roll_20', 'DlyRet_roll_30']\n",
      "Starting training with 534 train batches, 39 test batches\n"
     ]
    },
    {
     "name": "stderr",
     "output_type": "stream",
     "text": [
      "Training:  20%|███████                            | 1/5 [00:20<01:23, 20.94s/it]"
     ]
    },
    {
     "name": "stdout",
     "output_type": "stream",
     "text": [
      "Epoch 1/5, Loss: -0.0829, Train Sharpe: 0.0070, Test Sharpe: 0.0088, Avg Weight: 0.0003, Max Weight: 0.0987\n"
     ]
    },
    {
     "name": "stderr",
     "output_type": "stream",
     "text": [
      "Training:  60%|█████████████████████              | 3/5 [00:54<00:35, 17.89s/it]"
     ]
    },
    {
     "name": "stdout",
     "output_type": "stream",
     "text": [
      "Epoch 3/5, Loss: -0.1138, Train Sharpe: 0.0338, Test Sharpe: 0.0182, Avg Weight: 0.0003, Max Weight: 0.1502\n"
     ]
    },
    {
     "name": "stderr",
     "output_type": "stream",
     "text": [
      "Training: 100%|███████████████████████████████████| 5/5 [01:29<00:00, 17.97s/it]"
     ]
    },
    {
     "name": "stdout",
     "output_type": "stream",
     "text": [
      "Epoch 5/5, Loss: -0.1194, Train Sharpe: 0.0377, Test Sharpe: 0.0181, Avg Weight: 0.0003, Max Weight: 0.1502\n",
      "Training completed! Best test Sharpe ratio: 0.0182\n",
      "Training from 2001-07 to 2002-01. Testing on 2002-02.\n"
     ]
    },
    {
     "name": "stderr",
     "output_type": "stream",
     "text": [
      "\n"
     ]
    },
    {
     "name": "stdout",
     "output_type": "stream",
     "text": [
      "['sprtrn_lag1', 'DlyRet_lag1', 'DlyRet_roll_10', 'DlyRet_roll_20', 'DlyRet_roll_30']\n",
      "Starting training with 531 train batches, 35 test batches\n"
     ]
    },
    {
     "name": "stderr",
     "output_type": "stream",
     "text": [
      "Training:  20%|███████                            | 1/5 [00:19<01:16, 19.09s/it]"
     ]
    },
    {
     "name": "stdout",
     "output_type": "stream",
     "text": [
      "Epoch 1/5, Loss: -0.0886, Train Sharpe: 0.0092, Test Sharpe: -0.0296, Avg Weight: 0.0003, Max Weight: 0.0033\n"
     ]
    },
    {
     "name": "stderr",
     "output_type": "stream",
     "text": [
      "Training:  60%|█████████████████████              | 3/5 [00:58<00:39, 19.68s/it]"
     ]
    },
    {
     "name": "stdout",
     "output_type": "stream",
     "text": [
      "Epoch 3/5, Loss: -0.1080, Train Sharpe: 0.0415, Test Sharpe: -0.0006, Avg Weight: 0.0003, Max Weight: 0.0031\n"
     ]
    },
    {
     "name": "stderr",
     "output_type": "stream",
     "text": [
      "Training: 100%|███████████████████████████████████| 5/5 [01:34<00:00, 19.00s/it]"
     ]
    },
    {
     "name": "stdout",
     "output_type": "stream",
     "text": [
      "Epoch 5/5, Loss: -0.1204, Train Sharpe: 0.0482, Test Sharpe: 0.0075, Avg Weight: 0.0003, Max Weight: 0.0038\n",
      "Training completed! Best test Sharpe ratio: 0.0075\n",
      "Training from 2001-08 to 2002-02. Testing on 2002-03.\n"
     ]
    },
    {
     "name": "stderr",
     "output_type": "stream",
     "text": [
      "\n"
     ]
    },
    {
     "name": "stdout",
     "output_type": "stream",
     "text": [
      "['sprtrn_lag1', 'DlyRet_lag1', 'DlyRet_roll_10', 'DlyRet_roll_20', 'DlyRet_roll_30']\n",
      "Starting training with 520 train batches, 36 test batches\n"
     ]
    },
    {
     "name": "stderr",
     "output_type": "stream",
     "text": [
      "Training:  20%|███████                            | 1/5 [00:16<01:07, 16.96s/it]"
     ]
    },
    {
     "name": "stdout",
     "output_type": "stream",
     "text": [
      "Epoch 1/5, Loss: -0.0813, Train Sharpe: 0.0052, Test Sharpe: 0.0752, Avg Weight: 0.0002, Max Weight: 0.0010\n"
     ]
    },
    {
     "name": "stderr",
     "output_type": "stream",
     "text": [
      "Training:  60%|█████████████████████              | 3/5 [00:51<00:34, 17.31s/it]"
     ]
    },
    {
     "name": "stdout",
     "output_type": "stream",
     "text": [
      "Epoch 3/5, Loss: -0.1040, Train Sharpe: 0.0432, Test Sharpe: 0.0882, Avg Weight: 0.0002, Max Weight: 0.0016\n"
     ]
    },
    {
     "name": "stderr",
     "output_type": "stream",
     "text": [
      "Training: 100%|███████████████████████████████████| 5/5 [01:26<00:00, 17.25s/it]"
     ]
    },
    {
     "name": "stdout",
     "output_type": "stream",
     "text": [
      "Epoch 5/5, Loss: -0.1169, Train Sharpe: 0.0523, Test Sharpe: 0.0831, Avg Weight: 0.0002, Max Weight: 0.0016\n",
      "Training completed! Best test Sharpe ratio: 0.0882\n",
      "Training from 2001-09 to 2002-03. Testing on 2002-04.\n"
     ]
    },
    {
     "name": "stderr",
     "output_type": "stream",
     "text": [
      "\n"
     ]
    },
    {
     "name": "stdout",
     "output_type": "stream",
     "text": [
      "['sprtrn_lag1', 'DlyRet_lag1', 'DlyRet_roll_10', 'DlyRet_roll_20', 'DlyRet_roll_30']\n",
      "Starting training with 506 train batches, 40 test batches\n"
     ]
    },
    {
     "name": "stderr",
     "output_type": "stream",
     "text": [
      "Training:  20%|███████                            | 1/5 [00:17<01:09, 17.41s/it]"
     ]
    },
    {
     "name": "stdout",
     "output_type": "stream",
     "text": [
      "Epoch 1/5, Loss: -0.1007, Train Sharpe: 0.0215, Test Sharpe: -0.0000, Avg Weight: 0.0002, Max Weight: 0.0035\n"
     ]
    },
    {
     "name": "stderr",
     "output_type": "stream",
     "text": [
      "Training:  60%|█████████████████████              | 3/5 [00:51<00:34, 17.24s/it]"
     ]
    },
    {
     "name": "stdout",
     "output_type": "stream",
     "text": [
      "Epoch 3/5, Loss: -0.1014, Train Sharpe: 0.0447, Test Sharpe: 0.0227, Avg Weight: 0.0002, Max Weight: 0.0031\n"
     ]
    },
    {
     "name": "stderr",
     "output_type": "stream",
     "text": [
      "Training: 100%|███████████████████████████████████| 5/5 [01:26<00:00, 17.24s/it]"
     ]
    },
    {
     "name": "stdout",
     "output_type": "stream",
     "text": [
      "Epoch 5/5, Loss: -0.1219, Train Sharpe: 0.0509, Test Sharpe: 0.0290, Avg Weight: 0.0002, Max Weight: 0.0030\n",
      "Training completed! Best test Sharpe ratio: 0.0290\n",
      "Training from 2001-10 to 2002-04. Testing on 2002-05.\n"
     ]
    },
    {
     "name": "stderr",
     "output_type": "stream",
     "text": [
      "\n"
     ]
    },
    {
     "name": "stdout",
     "output_type": "stream",
     "text": [
      "['sprtrn_lag1', 'DlyRet_lag1', 'DlyRet_roll_10', 'DlyRet_roll_20', 'DlyRet_roll_30']\n",
      "Starting training with 529 train batches, 39 test batches\n"
     ]
    },
    {
     "name": "stderr",
     "output_type": "stream",
     "text": [
      "Training:  20%|███████                            | 1/5 [00:17<01:09, 17.36s/it]"
     ]
    },
    {
     "name": "stdout",
     "output_type": "stream",
     "text": [
      "Epoch 1/5, Loss: -0.1024, Train Sharpe: 0.0445, Test Sharpe: -0.0094, Avg Weight: 0.0002, Max Weight: 0.0008\n"
     ]
    },
    {
     "name": "stderr",
     "output_type": "stream",
     "text": [
      "Training:  60%|█████████████████████              | 3/5 [00:52<00:35, 17.70s/it]"
     ]
    },
    {
     "name": "stdout",
     "output_type": "stream",
     "text": [
      "Epoch 3/5, Loss: -0.1350, Train Sharpe: 0.0730, Test Sharpe: 0.0249, Avg Weight: 0.0002, Max Weight: 0.0013\n"
     ]
    },
    {
     "name": "stderr",
     "output_type": "stream",
     "text": [
      "Training: 100%|███████████████████████████████████| 5/5 [01:36<00:00, 19.27s/it]"
     ]
    },
    {
     "name": "stdout",
     "output_type": "stream",
     "text": [
      "Epoch 5/5, Loss: -0.1408, Train Sharpe: 0.0772, Test Sharpe: 0.0270, Avg Weight: 0.0002, Max Weight: 0.0018\n",
      "Training completed! Best test Sharpe ratio: 0.0270\n",
      "Training from 2001-11 to 2002-05. Testing on 2002-06.\n"
     ]
    },
    {
     "name": "stderr",
     "output_type": "stream",
     "text": [
      "\n"
     ]
    },
    {
     "name": "stdout",
     "output_type": "stream",
     "text": [
      "['sprtrn_lag1', 'DlyRet_lag1', 'DlyRet_roll_10', 'DlyRet_roll_20', 'DlyRet_roll_30']\n",
      "Starting training with 522 train batches, 36 test batches\n"
     ]
    },
    {
     "name": "stderr",
     "output_type": "stream",
     "text": [
      "Training:  20%|███████                            | 1/5 [00:16<01:04, 16.17s/it]"
     ]
    },
    {
     "name": "stdout",
     "output_type": "stream",
     "text": [
      "Epoch 1/5, Loss: -0.0964, Train Sharpe: 0.0397, Test Sharpe: -0.0403, Avg Weight: 0.0002, Max Weight: 0.0024\n"
     ]
    },
    {
     "name": "stderr",
     "output_type": "stream",
     "text": [
      "Training:  60%|█████████████████████              | 3/5 [00:49<00:33, 16.61s/it]"
     ]
    },
    {
     "name": "stdout",
     "output_type": "stream",
     "text": [
      "Epoch 3/5, Loss: -0.1247, Train Sharpe: 0.0676, Test Sharpe: -0.0005, Avg Weight: 0.0002, Max Weight: 0.0051\n"
     ]
    },
    {
     "name": "stderr",
     "output_type": "stream",
     "text": [
      "Training: 100%|███████████████████████████████████| 5/5 [01:22<00:00, 16.48s/it]"
     ]
    },
    {
     "name": "stdout",
     "output_type": "stream",
     "text": [
      "Epoch 5/5, Loss: -0.1353, Train Sharpe: 0.0717, Test Sharpe: 0.0052, Avg Weight: 0.0002, Max Weight: 0.0060\n",
      "Training completed! Best test Sharpe ratio: 0.0052\n",
      "Training from 2001-12 to 2002-06. Testing on 2002-07.\n"
     ]
    },
    {
     "name": "stderr",
     "output_type": "stream",
     "text": [
      "\n"
     ]
    },
    {
     "name": "stdout",
     "output_type": "stream",
     "text": [
      "['sprtrn_lag1', 'DlyRet_lag1', 'DlyRet_roll_10', 'DlyRet_roll_20', 'DlyRet_roll_30']\n",
      "Starting training with 516 train batches, 39 test batches\n"
     ]
    },
    {
     "name": "stderr",
     "output_type": "stream",
     "text": [
      "Training:  20%|███████                            | 1/5 [00:16<01:04, 16.24s/it]"
     ]
    },
    {
     "name": "stdout",
     "output_type": "stream",
     "text": [
      "Epoch 1/5, Loss: -0.0809, Train Sharpe: 0.0262, Test Sharpe: -0.0375, Avg Weight: 0.0002, Max Weight: 0.0035\n"
     ]
    },
    {
     "name": "stderr",
     "output_type": "stream",
     "text": [
      "Training:  60%|█████████████████████              | 3/5 [00:49<00:32, 16.50s/it]"
     ]
    },
    {
     "name": "stdout",
     "output_type": "stream",
     "text": [
      "Epoch 3/5, Loss: -0.1124, Train Sharpe: 0.0551, Test Sharpe: 0.0174, Avg Weight: 0.0002, Max Weight: 0.0063\n"
     ]
    },
    {
     "name": "stderr",
     "output_type": "stream",
     "text": [
      "Training: 100%|███████████████████████████████████| 5/5 [01:22<00:00, 16.45s/it]"
     ]
    },
    {
     "name": "stdout",
     "output_type": "stream",
     "text": [
      "Epoch 5/5, Loss: -0.1231, Train Sharpe: 0.0591, Test Sharpe: 0.0162, Avg Weight: 0.0002, Max Weight: 0.0063\n",
      "Training completed! Best test Sharpe ratio: 0.0174\n",
      "Training from 2002-01 to 2002-07. Testing on 2002-08.\n"
     ]
    },
    {
     "name": "stderr",
     "output_type": "stream",
     "text": [
      "\n"
     ]
    },
    {
     "name": "stdout",
     "output_type": "stream",
     "text": [
      "['sprtrn_lag1', 'DlyRet_lag1', 'DlyRet_roll_10', 'DlyRet_roll_20', 'DlyRet_roll_30']\n",
      "Starting training with 520 train batches, 39 test batches\n"
     ]
    },
    {
     "name": "stderr",
     "output_type": "stream",
     "text": [
      "Training:  20%|███████                            | 1/5 [00:16<01:05, 16.33s/it]"
     ]
    },
    {
     "name": "stdout",
     "output_type": "stream",
     "text": [
      "Epoch 1/5, Loss: -0.0660, Train Sharpe: 0.0087, Test Sharpe: 0.0096, Avg Weight: 0.0002, Max Weight: 0.0271\n"
     ]
    },
    {
     "name": "stderr",
     "output_type": "stream",
     "text": [
      "Training:  60%|█████████████████████              | 3/5 [00:49<00:32, 16.38s/it]"
     ]
    },
    {
     "name": "stdout",
     "output_type": "stream",
     "text": [
      "Epoch 3/5, Loss: -0.1022, Train Sharpe: 0.0484, Test Sharpe: 0.0559, Avg Weight: 0.0002, Max Weight: 0.0109\n"
     ]
    },
    {
     "name": "stderr",
     "output_type": "stream",
     "text": [
      "Training: 100%|███████████████████████████████████| 5/5 [01:22<00:00, 16.42s/it]"
     ]
    },
    {
     "name": "stdout",
     "output_type": "stream",
     "text": [
      "Epoch 5/5, Loss: -0.1136, Train Sharpe: 0.0504, Test Sharpe: 0.0567, Avg Weight: 0.0002, Max Weight: 0.0123\n",
      "Training completed! Best test Sharpe ratio: 0.0567\n",
      "Training from 2002-02 to 2002-08. Testing on 2002-09.\n"
     ]
    },
    {
     "name": "stderr",
     "output_type": "stream",
     "text": [
      "\n"
     ]
    },
    {
     "name": "stdout",
     "output_type": "stream",
     "text": [
      "['sprtrn_lag1', 'DlyRet_lag1', 'DlyRet_roll_10', 'DlyRet_roll_20', 'DlyRet_roll_30']\n",
      "Starting training with 521 train batches, 35 test batches\n"
     ]
    },
    {
     "name": "stderr",
     "output_type": "stream",
     "text": [
      "Training:  20%|███████                            | 1/5 [00:16<01:04, 16.11s/it]"
     ]
    },
    {
     "name": "stdout",
     "output_type": "stream",
     "text": [
      "Epoch 1/5, Loss: -0.0636, Train Sharpe: 0.0004, Test Sharpe: -0.0630, Avg Weight: 0.0002, Max Weight: 0.0016\n"
     ]
    },
    {
     "name": "stderr",
     "output_type": "stream",
     "text": [
      "Training:  60%|█████████████████████              | 3/5 [00:48<00:32, 16.21s/it]"
     ]
    },
    {
     "name": "stdout",
     "output_type": "stream",
     "text": [
      "Epoch 3/5, Loss: -0.1001, Train Sharpe: 0.0426, Test Sharpe: -0.0071, Avg Weight: 0.0002, Max Weight: 0.0012\n"
     ]
    },
    {
     "name": "stderr",
     "output_type": "stream",
     "text": [
      "Training: 100%|███████████████████████████████████| 5/5 [01:21<00:00, 16.21s/it]"
     ]
    },
    {
     "name": "stdout",
     "output_type": "stream",
     "text": [
      "Epoch 5/5, Loss: -0.1135, Train Sharpe: 0.0501, Test Sharpe: 0.0037, Avg Weight: 0.0002, Max Weight: 0.0015\n",
      "Training completed! Best test Sharpe ratio: 0.0037\n",
      "Training from 2002-03 to 2002-09. Testing on 2002-10.\n"
     ]
    },
    {
     "name": "stderr",
     "output_type": "stream",
     "text": [
      "\n"
     ]
    },
    {
     "name": "stdout",
     "output_type": "stream",
     "text": [
      "['sprtrn_lag1', 'DlyRet_lag1', 'DlyRet_roll_10', 'DlyRet_roll_20', 'DlyRet_roll_30']\n",
      "Starting training with 522 train batches, 40 test batches\n"
     ]
    },
    {
     "name": "stderr",
     "output_type": "stream",
     "text": [
      "Training:  20%|███████                            | 1/5 [00:16<01:05, 16.33s/it]"
     ]
    },
    {
     "name": "stdout",
     "output_type": "stream",
     "text": [
      "Epoch 1/5, Loss: -0.0636, Train Sharpe: 0.0076, Test Sharpe: 0.0294, Avg Weight: 0.0002, Max Weight: 0.0027\n"
     ]
    },
    {
     "name": "stderr",
     "output_type": "stream",
     "text": [
      "Training:  60%|█████████████████████              | 3/5 [00:49<00:32, 16.35s/it]"
     ]
    },
    {
     "name": "stdout",
     "output_type": "stream",
     "text": [
      "Epoch 3/5, Loss: -0.0969, Train Sharpe: 0.0473, Test Sharpe: 0.0742, Avg Weight: 0.0002, Max Weight: 0.0058\n"
     ]
    },
    {
     "name": "stderr",
     "output_type": "stream",
     "text": [
      "Training: 100%|███████████████████████████████████| 5/5 [01:21<00:00, 16.33s/it]"
     ]
    },
    {
     "name": "stdout",
     "output_type": "stream",
     "text": [
      "Epoch 5/5, Loss: -0.1110, Train Sharpe: 0.0502, Test Sharpe: 0.0729, Avg Weight: 0.0002, Max Weight: 0.0062\n",
      "Training completed! Best test Sharpe ratio: 0.0752\n",
      "Training from 2002-04 to 2002-10. Testing on 2002-11.\n"
     ]
    },
    {
     "name": "stderr",
     "output_type": "stream",
     "text": [
      "\n"
     ]
    },
    {
     "name": "stdout",
     "output_type": "stream",
     "text": [
      "['sprtrn_lag1', 'DlyRet_lag1', 'DlyRet_roll_10', 'DlyRet_roll_20', 'DlyRet_roll_30']\n",
      "Starting training with 530 train batches, 35 test batches\n"
     ]
    },
    {
     "name": "stderr",
     "output_type": "stream",
     "text": [
      "Training:  20%|███████                            | 1/5 [00:16<01:06, 16.75s/it]"
     ]
    },
    {
     "name": "stdout",
     "output_type": "stream",
     "text": [
      "Epoch 1/5, Loss: -0.0500, Train Sharpe: -0.0063, Test Sharpe: 0.0897, Avg Weight: 0.0002, Max Weight: 0.0018\n"
     ]
    },
    {
     "name": "stderr",
     "output_type": "stream",
     "text": [
      "Training:  60%|█████████████████████              | 3/5 [00:49<00:33, 16.60s/it]"
     ]
    },
    {
     "name": "stdout",
     "output_type": "stream",
     "text": [
      "Epoch 3/5, Loss: -0.0973, Train Sharpe: 0.0263, Test Sharpe: 0.1000, Avg Weight: 0.0002, Max Weight: 0.0021\n"
     ]
    },
    {
     "name": "stderr",
     "output_type": "stream",
     "text": [
      "Training: 100%|███████████████████████████████████| 5/5 [01:22<00:00, 16.54s/it]"
     ]
    },
    {
     "name": "stdout",
     "output_type": "stream",
     "text": [
      "Epoch 5/5, Loss: -0.1089, Train Sharpe: 0.0353, Test Sharpe: 0.0947, Avg Weight: 0.0002, Max Weight: 0.0021\n",
      "Training completed! Best test Sharpe ratio: 0.1032\n",
      "Training from 2002-05 to 2002-11. Testing on 2002-12.\n"
     ]
    },
    {
     "name": "stderr",
     "output_type": "stream",
     "text": [
      "\n"
     ]
    },
    {
     "name": "stdout",
     "output_type": "stream",
     "text": [
      "['sprtrn_lag1', 'DlyRet_lag1', 'DlyRet_roll_10', 'DlyRet_roll_20', 'DlyRet_roll_30']\n",
      "Starting training with 521 train batches, 37 test batches\n"
     ]
    },
    {
     "name": "stderr",
     "output_type": "stream",
     "text": [
      "Training:  20%|███████                            | 1/5 [00:16<01:06, 16.75s/it]"
     ]
    },
    {
     "name": "stdout",
     "output_type": "stream",
     "text": [
      "Epoch 1/5, Loss: -0.0637, Train Sharpe: -0.0082, Test Sharpe: -0.0339, Avg Weight: 0.0003, Max Weight: 0.0047\n"
     ]
    },
    {
     "name": "stderr",
     "output_type": "stream",
     "text": [
      "Training:  60%|█████████████████████              | 3/5 [00:49<00:32, 16.32s/it]"
     ]
    },
    {
     "name": "stdout",
     "output_type": "stream",
     "text": [
      "Epoch 3/5, Loss: -0.0974, Train Sharpe: 0.0224, Test Sharpe: -0.0061, Avg Weight: 0.0003, Max Weight: 0.0044\n"
     ]
    },
    {
     "name": "stderr",
     "output_type": "stream",
     "text": [
      "Training: 100%|███████████████████████████████████| 5/5 [01:21<00:00, 16.38s/it]"
     ]
    },
    {
     "name": "stdout",
     "output_type": "stream",
     "text": [
      "Epoch 5/5, Loss: -0.1133, Train Sharpe: 0.0299, Test Sharpe: -0.0024, Avg Weight: 0.0003, Max Weight: 0.0043\n",
      "Training completed! Best test Sharpe ratio: -0.0024\n",
      "Training from 2002-06 to 2002-12. Testing on 2003-01.\n"
     ]
    },
    {
     "name": "stderr",
     "output_type": "stream",
     "text": [
      "\n"
     ]
    },
    {
     "name": "stdout",
     "output_type": "stream",
     "text": [
      "['sprtrn_lag1', 'DlyRet_lag1', 'DlyRet_roll_10', 'DlyRet_roll_20', 'DlyRet_roll_30']\n",
      "Starting training with 515 train batches, 36 test batches\n"
     ]
    },
    {
     "name": "stderr",
     "output_type": "stream",
     "text": [
      "Training:  20%|███████                            | 1/5 [00:15<01:03, 15.91s/it]"
     ]
    },
    {
     "name": "stdout",
     "output_type": "stream",
     "text": [
      "Epoch 1/5, Loss: -0.0573, Train Sharpe: -0.0104, Test Sharpe: 0.0065, Avg Weight: 0.0002, Max Weight: 0.0006\n"
     ]
    },
    {
     "name": "stderr",
     "output_type": "stream",
     "text": [
      "Training:  60%|█████████████████████              | 3/5 [00:48<00:32, 16.26s/it]"
     ]
    },
    {
     "name": "stdout",
     "output_type": "stream",
     "text": [
      "Epoch 3/5, Loss: -0.0867, Train Sharpe: 0.0399, Test Sharpe: 0.0397, Avg Weight: 0.0002, Max Weight: 0.0027\n"
     ]
    },
    {
     "name": "stderr",
     "output_type": "stream",
     "text": [
      "Training: 100%|███████████████████████████████████| 5/5 [01:20<00:00, 16.12s/it]"
     ]
    },
    {
     "name": "stdout",
     "output_type": "stream",
     "text": [
      "Epoch 5/5, Loss: -0.1109, Train Sharpe: 0.0501, Test Sharpe: 0.0479, Avg Weight: 0.0002, Max Weight: 0.0030\n",
      "Training completed! Best test Sharpe ratio: 0.0479\n",
      "Training from 2002-07 to 2003-01. Testing on 2003-02.\n"
     ]
    },
    {
     "name": "stderr",
     "output_type": "stream",
     "text": [
      "\n"
     ]
    },
    {
     "name": "stdout",
     "output_type": "stream",
     "text": [
      "['sprtrn_lag1', 'DlyRet_lag1', 'DlyRet_roll_10', 'DlyRet_roll_20', 'DlyRet_roll_30']\n",
      "Starting training with 516 train batches, 33 test batches\n"
     ]
    },
    {
     "name": "stderr",
     "output_type": "stream",
     "text": [
      "Training:  20%|███████                            | 1/5 [00:16<01:04, 16.16s/it]"
     ]
    },
    {
     "name": "stdout",
     "output_type": "stream",
     "text": [
      "Epoch 1/5, Loss: -0.0658, Train Sharpe: -0.0001, Test Sharpe: -0.0176, Avg Weight: 0.0002, Max Weight: 0.0026\n"
     ]
    },
    {
     "name": "stderr",
     "output_type": "stream",
     "text": [
      "Training:  60%|█████████████████████              | 3/5 [00:47<00:31, 15.86s/it]"
     ]
    },
    {
     "name": "stdout",
     "output_type": "stream",
     "text": [
      "Epoch 3/5, Loss: -0.0980, Train Sharpe: 0.0513, Test Sharpe: 0.0284, Avg Weight: 0.0002, Max Weight: 0.0062\n"
     ]
    },
    {
     "name": "stderr",
     "output_type": "stream",
     "text": [
      "Training: 100%|███████████████████████████████████| 5/5 [01:19<00:00, 15.98s/it]"
     ]
    },
    {
     "name": "stdout",
     "output_type": "stream",
     "text": [
      "Epoch 5/5, Loss: -0.1157, Train Sharpe: 0.0561, Test Sharpe: 0.0315, Avg Weight: 0.0002, Max Weight: 0.0092\n",
      "Training completed! Best test Sharpe ratio: 0.0315\n",
      "Training from 2002-08 to 2003-02. Testing on 2003-03.\n"
     ]
    },
    {
     "name": "stderr",
     "output_type": "stream",
     "text": [
      "\n"
     ]
    },
    {
     "name": "stdout",
     "output_type": "stream",
     "text": [
      "['sprtrn_lag1', 'DlyRet_lag1', 'DlyRet_roll_10', 'DlyRet_roll_20', 'DlyRet_roll_30']\n",
      "Starting training with 503 train batches, 36 test batches\n"
     ]
    },
    {
     "name": "stderr",
     "output_type": "stream",
     "text": [
      "Training:  20%|███████                            | 1/5 [00:15<01:02, 15.71s/it]"
     ]
    },
    {
     "name": "stdout",
     "output_type": "stream",
     "text": [
      "Epoch 1/5, Loss: -0.0693, Train Sharpe: 0.0110, Test Sharpe: 0.0150, Avg Weight: 0.0002, Max Weight: 0.0022\n"
     ]
    },
    {
     "name": "stderr",
     "output_type": "stream",
     "text": [
      "Training:  60%|█████████████████████              | 3/5 [00:47<00:31, 15.92s/it]"
     ]
    },
    {
     "name": "stdout",
     "output_type": "stream",
     "text": [
      "Epoch 3/5, Loss: -0.1057, Train Sharpe: 0.0589, Test Sharpe: 0.0476, Avg Weight: 0.0002, Max Weight: 0.0043\n"
     ]
    },
    {
     "name": "stderr",
     "output_type": "stream",
     "text": [
      "Training: 100%|███████████████████████████████████| 5/5 [01:19<00:00, 15.93s/it]"
     ]
    },
    {
     "name": "stdout",
     "output_type": "stream",
     "text": [
      "Epoch 5/5, Loss: -0.1203, Train Sharpe: 0.0607, Test Sharpe: 0.0484, Avg Weight: 0.0002, Max Weight: 0.0041\n",
      "Training completed! Best test Sharpe ratio: 0.0495\n",
      "Training from 2002-09 to 2003-03. Testing on 2003-04.\n"
     ]
    },
    {
     "name": "stderr",
     "output_type": "stream",
     "text": [
      "\n"
     ]
    },
    {
     "name": "stdout",
     "output_type": "stream",
     "text": [
      "['sprtrn_lag1', 'DlyRet_lag1', 'DlyRet_roll_10', 'DlyRet_roll_20', 'DlyRet_roll_30']\n",
      "Starting training with 497 train batches, 36 test batches\n"
     ]
    },
    {
     "name": "stderr",
     "output_type": "stream",
     "text": [
      "Training:  20%|███████                            | 1/5 [00:15<01:02, 15.58s/it]"
     ]
    },
    {
     "name": "stdout",
     "output_type": "stream",
     "text": [
      "Epoch 1/5, Loss: -0.0703, Train Sharpe: 0.0132, Test Sharpe: 0.0931, Avg Weight: 0.0003, Max Weight: 0.0040\n"
     ]
    },
    {
     "name": "stderr",
     "output_type": "stream",
     "text": [
      "Training:  60%|█████████████████████              | 3/5 [00:52<00:36, 18.04s/it]"
     ]
    },
    {
     "name": "stdout",
     "output_type": "stream",
     "text": [
      "Epoch 3/5, Loss: -0.1086, Train Sharpe: 0.0539, Test Sharpe: 0.0951, Avg Weight: 0.0003, Max Weight: 0.0056\n"
     ]
    },
    {
     "name": "stderr",
     "output_type": "stream",
     "text": [
      "Training: 100%|███████████████████████████████████| 5/5 [01:26<00:00, 17.23s/it]"
     ]
    },
    {
     "name": "stdout",
     "output_type": "stream",
     "text": [
      "Epoch 5/5, Loss: -0.1193, Train Sharpe: 0.0594, Test Sharpe: 0.0834, Avg Weight: 0.0003, Max Weight: 0.0056\n",
      "Training completed! Best test Sharpe ratio: 0.0986\n",
      "Training from 2002-10 to 2003-04. Testing on 2003-05.\n"
     ]
    },
    {
     "name": "stderr",
     "output_type": "stream",
     "text": [
      "\n"
     ]
    },
    {
     "name": "stdout",
     "output_type": "stream",
     "text": [
      "['sprtrn_lag1', 'DlyRet_lag1', 'DlyRet_roll_10', 'DlyRet_roll_20', 'DlyRet_roll_30']\n",
      "Starting training with 498 train batches, 35 test batches\n"
     ]
    },
    {
     "name": "stderr",
     "output_type": "stream",
     "text": [
      "Training:  20%|███████                            | 1/5 [00:16<01:04, 16.08s/it]"
     ]
    },
    {
     "name": "stdout",
     "output_type": "stream",
     "text": [
      "Epoch 1/5, Loss: -0.0849, Train Sharpe: 0.0341, Test Sharpe: 0.1230, Avg Weight: 0.0002, Max Weight: 0.0007\n"
     ]
    },
    {
     "name": "stderr",
     "output_type": "stream",
     "text": [
      "Training:  60%|█████████████████████              | 3/5 [00:47<00:31, 15.92s/it]"
     ]
    },
    {
     "name": "stdout",
     "output_type": "stream",
     "text": [
      "Epoch 3/5, Loss: -0.1139, Train Sharpe: 0.0572, Test Sharpe: 0.1333, Avg Weight: 0.0002, Max Weight: 0.0005\n"
     ]
    },
    {
     "name": "stderr",
     "output_type": "stream",
     "text": [
      "Training: 100%|███████████████████████████████████| 5/5 [01:20<00:00, 16.04s/it]"
     ]
    },
    {
     "name": "stdout",
     "output_type": "stream",
     "text": [
      "Epoch 5/5, Loss: -0.1336, Train Sharpe: 0.0653, Test Sharpe: 0.1296, Avg Weight: 0.0002, Max Weight: 0.0005\n",
      "Training completed! Best test Sharpe ratio: 0.1333\n",
      "Training from 2002-11 to 2003-05. Testing on 2003-06.\n"
     ]
    },
    {
     "name": "stderr",
     "output_type": "stream",
     "text": [
      "\n"
     ]
    },
    {
     "name": "stdout",
     "output_type": "stream",
     "text": [
      "['sprtrn_lag1', 'DlyRet_lag1', 'DlyRet_roll_10', 'DlyRet_roll_20', 'DlyRet_roll_30']\n",
      "Starting training with 489 train batches, 35 test batches\n"
     ]
    },
    {
     "name": "stderr",
     "output_type": "stream",
     "text": [
      "Training:  20%|███████                            | 1/5 [00:15<01:03, 15.83s/it]"
     ]
    },
    {
     "name": "stdout",
     "output_type": "stream",
     "text": [
      "Epoch 1/5, Loss: -0.1059, Train Sharpe: 0.0456, Test Sharpe: 0.0532, Avg Weight: 0.0002, Max Weight: 0.0005\n"
     ]
    },
    {
     "name": "stderr",
     "output_type": "stream",
     "text": [
      "Training:  60%|█████████████████████              | 3/5 [00:47<00:31, 15.64s/it]"
     ]
    },
    {
     "name": "stdout",
     "output_type": "stream",
     "text": [
      "Epoch 3/5, Loss: -0.1324, Train Sharpe: 0.0609, Test Sharpe: 0.0623, Avg Weight: 0.0002, Max Weight: 0.0005\n"
     ]
    },
    {
     "name": "stderr",
     "output_type": "stream",
     "text": [
      "Training: 100%|███████████████████████████████████| 5/5 [01:18<00:00, 15.69s/it]"
     ]
    },
    {
     "name": "stdout",
     "output_type": "stream",
     "text": [
      "Epoch 5/5, Loss: -0.1448, Train Sharpe: 0.0668, Test Sharpe: 0.0670, Avg Weight: 0.0002, Max Weight: 0.0006\n",
      "Training completed! Best test Sharpe ratio: 0.0670\n",
      "Training from 2002-12 to 2003-06. Testing on 2003-07.\n"
     ]
    },
    {
     "name": "stderr",
     "output_type": "stream",
     "text": [
      "\n"
     ]
    },
    {
     "name": "stdout",
     "output_type": "stream",
     "text": [
      "['sprtrn_lag1', 'DlyRet_lag1', 'DlyRet_roll_10', 'DlyRet_roll_20', 'DlyRet_roll_30']\n",
      "Starting training with 489 train batches, 37 test batches\n"
     ]
    },
    {
     "name": "stderr",
     "output_type": "stream",
     "text": [
      "Training:  20%|███████                            | 1/5 [00:16<01:04, 16.02s/it]"
     ]
    },
    {
     "name": "stdout",
     "output_type": "stream",
     "text": [
      "Epoch 1/5, Loss: -0.1023, Train Sharpe: 0.0376, Test Sharpe: 0.0628, Avg Weight: 0.0002, Max Weight: 0.0015\n"
     ]
    },
    {
     "name": "stderr",
     "output_type": "stream",
     "text": [
      "Training:  60%|█████████████████████              | 3/5 [00:47<00:31, 15.92s/it]"
     ]
    },
    {
     "name": "stdout",
     "output_type": "stream",
     "text": [
      "Epoch 3/5, Loss: -0.1171, Train Sharpe: 0.0555, Test Sharpe: 0.0730, Avg Weight: 0.0002, Max Weight: 0.0017\n"
     ]
    },
    {
     "name": "stderr",
     "output_type": "stream",
     "text": [
      "Training: 100%|███████████████████████████████████| 5/5 [01:19<00:00, 15.93s/it]"
     ]
    },
    {
     "name": "stdout",
     "output_type": "stream",
     "text": [
      "Epoch 5/5, Loss: -0.1348, Train Sharpe: 0.0617, Test Sharpe: 0.0760, Avg Weight: 0.0002, Max Weight: 0.0018\n",
      "Training completed! Best test Sharpe ratio: 0.0760\n",
      "Training from 2003-01 to 2003-07. Testing on 2003-08.\n"
     ]
    },
    {
     "name": "stderr",
     "output_type": "stream",
     "text": [
      "\n"
     ]
    },
    {
     "name": "stdout",
     "output_type": "stream",
     "text": [
      "['sprtrn_lag1', 'DlyRet_lag1', 'DlyRet_roll_10', 'DlyRet_roll_20', 'DlyRet_roll_30']\n",
      "Starting training with 490 train batches, 35 test batches\n"
     ]
    },
    {
     "name": "stderr",
     "output_type": "stream",
     "text": [
      "Training:  20%|███████                            | 1/5 [00:15<01:03, 15.90s/it]"
     ]
    },
    {
     "name": "stdout",
     "output_type": "stream",
     "text": [
      "Epoch 1/5, Loss: -0.1132, Train Sharpe: 0.0540, Test Sharpe: 0.0622, Avg Weight: 0.0002, Max Weight: 0.0009\n"
     ]
    },
    {
     "name": "stderr",
     "output_type": "stream",
     "text": [
      "Training:  60%|█████████████████████              | 3/5 [00:56<00:39, 19.83s/it]"
     ]
    },
    {
     "name": "stdout",
     "output_type": "stream",
     "text": [
      "Epoch 3/5, Loss: -0.1365, Train Sharpe: 0.0677, Test Sharpe: 0.0729, Avg Weight: 0.0002, Max Weight: 0.0010\n"
     ]
    },
    {
     "name": "stderr",
     "output_type": "stream",
     "text": [
      "Training: 100%|███████████████████████████████████| 5/5 [01:27<00:00, 17.48s/it]"
     ]
    },
    {
     "name": "stdout",
     "output_type": "stream",
     "text": [
      "Epoch 5/5, Loss: -0.1468, Train Sharpe: 0.0742, Test Sharpe: 0.0753, Avg Weight: 0.0002, Max Weight: 0.0013\n",
      "Training completed! Best test Sharpe ratio: 0.0753\n",
      "Training from 2003-02 to 2003-08. Testing on 2003-09.\n"
     ]
    },
    {
     "name": "stderr",
     "output_type": "stream",
     "text": [
      "\n"
     ]
    },
    {
     "name": "stdout",
     "output_type": "stream",
     "text": [
      "['sprtrn_lag1', 'DlyRet_lag1', 'DlyRet_roll_10', 'DlyRet_roll_20', 'DlyRet_roll_30']\n",
      "Starting training with 487 train batches, 35 test batches\n"
     ]
    },
    {
     "name": "stderr",
     "output_type": "stream",
     "text": [
      "Training:  20%|███████                            | 1/5 [00:16<01:04, 16.14s/it]"
     ]
    },
    {
     "name": "stdout",
     "output_type": "stream",
     "text": [
      "Epoch 1/5, Loss: -0.1266, Train Sharpe: 0.0620, Test Sharpe: 0.0287, Avg Weight: 0.0002, Max Weight: 0.0008\n"
     ]
    },
    {
     "name": "stderr",
     "output_type": "stream",
     "text": [
      "Training:  60%|█████████████████████              | 3/5 [00:47<00:31, 15.77s/it]"
     ]
    },
    {
     "name": "stdout",
     "output_type": "stream",
     "text": [
      "Epoch 3/5, Loss: -0.1412, Train Sharpe: 0.0762, Test Sharpe: 0.0348, Avg Weight: 0.0002, Max Weight: 0.0009\n"
     ]
    },
    {
     "name": "stderr",
     "output_type": "stream",
     "text": [
      "Training: 100%|███████████████████████████████████| 5/5 [01:18<00:00, 15.74s/it]"
     ]
    },
    {
     "name": "stdout",
     "output_type": "stream",
     "text": [
      "Epoch 5/5, Loss: -0.1528, Train Sharpe: 0.0797, Test Sharpe: 0.0399, Avg Weight: 0.0002, Max Weight: 0.0009\n",
      "Training completed! Best test Sharpe ratio: 0.0399\n",
      "Training from 2003-03 to 2003-09. Testing on 2003-10.\n"
     ]
    },
    {
     "name": "stderr",
     "output_type": "stream",
     "text": [
      "\n"
     ]
    },
    {
     "name": "stdout",
     "output_type": "stream",
     "text": [
      "['sprtrn_lag1', 'DlyRet_lag1', 'DlyRet_roll_10', 'DlyRet_roll_20', 'DlyRet_roll_30']\n",
      "Starting training with 491 train batches, 38 test batches\n"
     ]
    },
    {
     "name": "stderr",
     "output_type": "stream",
     "text": [
      "Training:  20%|███████                            | 1/5 [00:15<01:02, 15.56s/it]"
     ]
    },
    {
     "name": "stdout",
     "output_type": "stream",
     "text": [
      "Epoch 1/5, Loss: -0.1360, Train Sharpe: 0.0696, Test Sharpe: 0.0941, Avg Weight: 0.0002, Max Weight: 0.0006\n"
     ]
    },
    {
     "name": "stderr",
     "output_type": "stream",
     "text": [
      "Training:  60%|█████████████████████              | 3/5 [00:47<00:31, 15.78s/it]"
     ]
    },
    {
     "name": "stdout",
     "output_type": "stream",
     "text": [
      "Epoch 3/5, Loss: -0.1467, Train Sharpe: 0.0837, Test Sharpe: 0.0995, Avg Weight: 0.0002, Max Weight: 0.0009\n"
     ]
    },
    {
     "name": "stderr",
     "output_type": "stream",
     "text": [
      "Training: 100%|███████████████████████████████████| 5/5 [01:18<00:00, 15.74s/it]"
     ]
    },
    {
     "name": "stdout",
     "output_type": "stream",
     "text": [
      "Epoch 5/5, Loss: -0.1587, Train Sharpe: 0.0892, Test Sharpe: 0.0974, Avg Weight: 0.0002, Max Weight: 0.0009\n",
      "Training completed! Best test Sharpe ratio: 0.1001\n",
      "Training from 2003-04 to 2003-10. Testing on 2003-11.\n"
     ]
    },
    {
     "name": "stderr",
     "output_type": "stream",
     "text": [
      "\n"
     ]
    },
    {
     "name": "stdout",
     "output_type": "stream",
     "text": [
      "['sprtrn_lag1', 'DlyRet_lag1', 'DlyRet_roll_10', 'DlyRet_roll_20', 'DlyRet_roll_30']\n",
      "Starting training with 496 train batches, 32 test batches\n"
     ]
    },
    {
     "name": "stderr",
     "output_type": "stream",
     "text": [
      "Training:  20%|███████                            | 1/5 [00:16<01:05, 16.40s/it]"
     ]
    },
    {
     "name": "stdout",
     "output_type": "stream",
     "text": [
      "Epoch 1/5, Loss: -0.1425, Train Sharpe: 0.0825, Test Sharpe: 0.0501, Avg Weight: 0.0003, Max Weight: 0.0089\n"
     ]
    },
    {
     "name": "stderr",
     "output_type": "stream",
     "text": [
      "Training:  60%|█████████████████████              | 3/5 [00:47<00:31, 15.81s/it]"
     ]
    },
    {
     "name": "stdout",
     "output_type": "stream",
     "text": [
      "Epoch 3/5, Loss: -0.1595, Train Sharpe: 0.0859, Test Sharpe: 0.0492, Avg Weight: 0.0003, Max Weight: 0.0089\n"
     ]
    },
    {
     "name": "stderr",
     "output_type": "stream",
     "text": [
      "Training: 100%|███████████████████████████████████| 5/5 [01:19<00:00, 15.82s/it]"
     ]
    },
    {
     "name": "stdout",
     "output_type": "stream",
     "text": [
      "Epoch 5/5, Loss: -0.1678, Train Sharpe: 0.0960, Test Sharpe: 0.0549, Avg Weight: 0.0003, Max Weight: 0.0126\n",
      "Training completed! Best test Sharpe ratio: 0.0549\n",
      "Training from 2003-05 to 2003-11. Testing on 2003-12.\n"
     ]
    },
    {
     "name": "stderr",
     "output_type": "stream",
     "text": [
      "\n"
     ]
    },
    {
     "name": "stdout",
     "output_type": "stream",
     "text": [
      "['sprtrn_lag1', 'DlyRet_lag1', 'DlyRet_roll_10', 'DlyRet_roll_20', 'DlyRet_roll_30']\n",
      "Starting training with 488 train batches, 36 test batches\n"
     ]
    },
    {
     "name": "stderr",
     "output_type": "stream",
     "text": [
      "Training:  20%|███████                            | 1/5 [00:15<01:02, 15.55s/it]"
     ]
    },
    {
     "name": "stdout",
     "output_type": "stream",
     "text": [
      "Epoch 1/5, Loss: -0.1435, Train Sharpe: 0.0748, Test Sharpe: 0.0510, Avg Weight: 0.0002, Max Weight: 0.0004\n"
     ]
    },
    {
     "name": "stderr",
     "output_type": "stream",
     "text": [
      "Training:  60%|█████████████████████              | 3/5 [00:46<00:31, 15.58s/it]"
     ]
    },
    {
     "name": "stdout",
     "output_type": "stream",
     "text": [
      "Epoch 3/5, Loss: -0.1527, Train Sharpe: 0.0795, Test Sharpe: 0.0526, Avg Weight: 0.0002, Max Weight: 0.0005\n"
     ]
    },
    {
     "name": "stderr",
     "output_type": "stream",
     "text": [
      "Training: 100%|███████████████████████████████████| 5/5 [01:17<00:00, 15.57s/it]"
     ]
    },
    {
     "name": "stdout",
     "output_type": "stream",
     "text": [
      "Epoch 5/5, Loss: -0.1603, Train Sharpe: 0.0865, Test Sharpe: 0.0611, Avg Weight: 0.0002, Max Weight: 0.0007\n",
      "Training completed! Best test Sharpe ratio: 0.0611\n",
      "Training from 2003-06 to 2003-12. Testing on 2004-01.\n"
     ]
    },
    {
     "name": "stderr",
     "output_type": "stream",
     "text": [
      "\n"
     ]
    },
    {
     "name": "stdout",
     "output_type": "stream",
     "text": [
      "['sprtrn_lag1', 'DlyRet_lag1', 'DlyRet_roll_10', 'DlyRet_roll_20', 'DlyRet_roll_30']\n",
      "Starting training with 489 train batches, 33 test batches\n"
     ]
    },
    {
     "name": "stderr",
     "output_type": "stream",
     "text": [
      "Training:  20%|███████                            | 1/5 [00:15<01:01, 15.43s/it]"
     ]
    },
    {
     "name": "stdout",
     "output_type": "stream",
     "text": [
      "Epoch 1/5, Loss: -0.1277, Train Sharpe: 0.0636, Test Sharpe: 0.0850, Avg Weight: 0.0002, Max Weight: 0.0006\n"
     ]
    },
    {
     "name": "stderr",
     "output_type": "stream",
     "text": [
      "Training:  60%|█████████████████████              | 3/5 [00:46<00:30, 15.48s/it]"
     ]
    },
    {
     "name": "stdout",
     "output_type": "stream",
     "text": [
      "Epoch 3/5, Loss: -0.1403, Train Sharpe: 0.0651, Test Sharpe: 0.0850, Avg Weight: 0.0002, Max Weight: 0.0007\n"
     ]
    },
    {
     "name": "stderr",
     "output_type": "stream",
     "text": [
      "Training: 100%|███████████████████████████████████| 5/5 [01:17<00:00, 15.58s/it]"
     ]
    },
    {
     "name": "stdout",
     "output_type": "stream",
     "text": [
      "Epoch 5/5, Loss: -0.1437, Train Sharpe: 0.0718, Test Sharpe: 0.0865, Avg Weight: 0.0002, Max Weight: 0.0008\n",
      "Training completed! Best test Sharpe ratio: 0.0865\n",
      "Training from 2003-07 to 2004-01. Testing on 2004-02.\n"
     ]
    },
    {
     "name": "stderr",
     "output_type": "stream",
     "text": [
      "\n"
     ]
    },
    {
     "name": "stdout",
     "output_type": "stream",
     "text": [
      "['sprtrn_lag1', 'DlyRet_lag1', 'DlyRet_roll_10', 'DlyRet_roll_20', 'DlyRet_roll_30']\n",
      "Starting training with 485 train batches, 32 test batches\n"
     ]
    },
    {
     "name": "stderr",
     "output_type": "stream",
     "text": [
      "Training:  20%|███████                            | 1/5 [00:15<01:01, 15.36s/it]"
     ]
    },
    {
     "name": "stdout",
     "output_type": "stream",
     "text": [
      "Epoch 1/5, Loss: -0.1343, Train Sharpe: 0.0683, Test Sharpe: 0.0247, Avg Weight: 0.0003, Max Weight: 0.0050\n"
     ]
    },
    {
     "name": "stderr",
     "output_type": "stream",
     "text": [
      "Training:  60%|█████████████████████              | 3/5 [00:46<00:30, 15.36s/it]"
     ]
    },
    {
     "name": "stdout",
     "output_type": "stream",
     "text": [
      "Epoch 3/5, Loss: -0.1458, Train Sharpe: 0.0690, Test Sharpe: 0.0243, Avg Weight: 0.0003, Max Weight: 0.0050\n"
     ]
    },
    {
     "name": "stderr",
     "output_type": "stream",
     "text": [
      "Training: 100%|███████████████████████████████████| 5/5 [01:16<00:00, 15.35s/it]"
     ]
    },
    {
     "name": "stdout",
     "output_type": "stream",
     "text": [
      "Epoch 5/5, Loss: -0.1479, Train Sharpe: 0.0722, Test Sharpe: 0.0272, Avg Weight: 0.0003, Max Weight: 0.0071\n",
      "Training completed! Best test Sharpe ratio: 0.0272\n",
      "Training from 2003-08 to 2004-02. Testing on 2004-03.\n"
     ]
    },
    {
     "name": "stderr",
     "output_type": "stream",
     "text": [
      "\n"
     ]
    },
    {
     "name": "stdout",
     "output_type": "stream",
     "text": [
      "['sprtrn_lag1', 'DlyRet_lag1', 'DlyRet_roll_10', 'DlyRet_roll_20', 'DlyRet_roll_30']\n",
      "Starting training with 475 train batches, 38 test batches\n"
     ]
    },
    {
     "name": "stderr",
     "output_type": "stream",
     "text": [
      "Training:  20%|███████                            | 1/5 [00:15<01:00, 15.10s/it]"
     ]
    },
    {
     "name": "stdout",
     "output_type": "stream",
     "text": [
      "Epoch 1/5, Loss: -0.1276, Train Sharpe: 0.0637, Test Sharpe: 0.0092, Avg Weight: 0.0002, Max Weight: 0.0007\n"
     ]
    },
    {
     "name": "stderr",
     "output_type": "stream",
     "text": [
      "Training:  60%|█████████████████████              | 3/5 [00:45<00:30, 15.23s/it]"
     ]
    },
    {
     "name": "stdout",
     "output_type": "stream",
     "text": [
      "Epoch 3/5, Loss: -0.1412, Train Sharpe: 0.0672, Test Sharpe: 0.0105, Avg Weight: 0.0002, Max Weight: 0.0008\n"
     ]
    },
    {
     "name": "stderr",
     "output_type": "stream",
     "text": [
      "Training: 100%|███████████████████████████████████| 5/5 [01:16<00:00, 15.24s/it]"
     ]
    },
    {
     "name": "stdout",
     "output_type": "stream",
     "text": [
      "Epoch 5/5, Loss: -0.1456, Train Sharpe: 0.0741, Test Sharpe: 0.0212, Avg Weight: 0.0002, Max Weight: 0.0010\n",
      "Training completed! Best test Sharpe ratio: 0.0212\n",
      "Training from 2003-09 to 2004-03. Testing on 2004-04.\n"
     ]
    },
    {
     "name": "stderr",
     "output_type": "stream",
     "text": [
      "\n"
     ]
    },
    {
     "name": "stdout",
     "output_type": "stream",
     "text": [
      "['sprtrn_lag1', 'DlyRet_lag1', 'DlyRet_roll_10', 'DlyRet_roll_20', 'DlyRet_roll_30']\n",
      "Starting training with 481 train batches, 35 test batches\n"
     ]
    },
    {
     "name": "stderr",
     "output_type": "stream",
     "text": [
      "Training:  20%|███████                            | 1/5 [00:15<01:01, 15.35s/it]"
     ]
    },
    {
     "name": "stdout",
     "output_type": "stream",
     "text": [
      "Epoch 1/5, Loss: -0.1206, Train Sharpe: 0.0539, Test Sharpe: -0.0571, Avg Weight: 0.0002, Max Weight: 0.0023\n"
     ]
    },
    {
     "name": "stderr",
     "output_type": "stream",
     "text": [
      "Training:  60%|█████████████████████              | 3/5 [00:46<00:30, 15.45s/it]"
     ]
    },
    {
     "name": "stdout",
     "output_type": "stream",
     "text": [
      "Epoch 3/5, Loss: -0.1307, Train Sharpe: 0.0575, Test Sharpe: -0.0618, Avg Weight: 0.0002, Max Weight: 0.0023\n"
     ]
    },
    {
     "name": "stderr",
     "output_type": "stream",
     "text": [
      "Training: 100%|███████████████████████████████████| 5/5 [01:17<00:00, 15.44s/it]"
     ]
    },
    {
     "name": "stdout",
     "output_type": "stream",
     "text": [
      "Epoch 5/5, Loss: -0.1346, Train Sharpe: 0.0652, Test Sharpe: -0.0547, Avg Weight: 0.0002, Max Weight: 0.0017\n",
      "Training completed! Best test Sharpe ratio: -0.0547\n",
      "Training from 2003-10 to 2004-04. Testing on 2004-05.\n"
     ]
    },
    {
     "name": "stderr",
     "output_type": "stream",
     "text": [
      "\n"
     ]
    },
    {
     "name": "stdout",
     "output_type": "stream",
     "text": [
      "['sprtrn_lag1', 'DlyRet_lag1', 'DlyRet_roll_10', 'DlyRet_roll_20', 'DlyRet_roll_30']\n",
      "Starting training with 481 train batches, 33 test batches\n"
     ]
    },
    {
     "name": "stderr",
     "output_type": "stream",
     "text": [
      "Training:  20%|███████                            | 1/5 [00:15<01:00, 15.20s/it]"
     ]
    },
    {
     "name": "stdout",
     "output_type": "stream",
     "text": [
      "Epoch 1/5, Loss: -0.1119, Train Sharpe: 0.0034, Test Sharpe: 0.0006, Avg Weight: 0.0002, Max Weight: 0.1984\n"
     ]
    },
    {
     "name": "stderr",
     "output_type": "stream",
     "text": [
      "Training:  60%|█████████████████████              | 3/5 [00:46<00:30, 15.44s/it]"
     ]
    },
    {
     "name": "stdout",
     "output_type": "stream",
     "text": [
      "Epoch 3/5, Loss: -0.1123, Train Sharpe: 0.0279, Test Sharpe: 0.0021, Avg Weight: 0.0002, Max Weight: 0.0058\n"
     ]
    },
    {
     "name": "stderr",
     "output_type": "stream",
     "text": [
      "Training: 100%|███████████████████████████████████| 5/5 [01:16<00:00, 15.35s/it]"
     ]
    },
    {
     "name": "stdout",
     "output_type": "stream",
     "text": [
      "Epoch 5/5, Loss: -0.1143, Train Sharpe: 0.0360, Test Sharpe: 0.0060, Avg Weight: 0.0002, Max Weight: 0.0010\n",
      "Training completed! Best test Sharpe ratio: 0.0060\n",
      "Training from 2003-11 to 2004-05. Testing on 2004-06.\n"
     ]
    },
    {
     "name": "stderr",
     "output_type": "stream",
     "text": [
      "\n"
     ]
    },
    {
     "name": "stdout",
     "output_type": "stream",
     "text": [
      "['sprtrn_lag1', 'DlyRet_lag1', 'DlyRet_roll_10', 'DlyRet_roll_20', 'DlyRet_roll_30']\n",
      "Starting training with 471 train batches, 35 test batches\n"
     ]
    },
    {
     "name": "stderr",
     "output_type": "stream",
     "text": [
      "Training:  20%|███████                            | 1/5 [00:18<01:12, 18.21s/it]"
     ]
    },
    {
     "name": "stdout",
     "output_type": "stream",
     "text": [
      "Epoch 1/5, Loss: -0.0892, Train Sharpe: 0.0197, Test Sharpe: 0.0306, Avg Weight: 0.0002, Max Weight: 0.0032\n"
     ]
    },
    {
     "name": "stderr",
     "output_type": "stream",
     "text": [
      "Training:  60%|█████████████████████              | 3/5 [00:48<00:31, 15.98s/it]"
     ]
    },
    {
     "name": "stdout",
     "output_type": "stream",
     "text": [
      "Epoch 3/5, Loss: -0.0985, Train Sharpe: 0.0246, Test Sharpe: 0.0360, Avg Weight: 0.0002, Max Weight: 0.0017\n"
     ]
    },
    {
     "name": "stderr",
     "output_type": "stream",
     "text": [
      "Training: 100%|███████████████████████████████████| 5/5 [01:19<00:00, 15.83s/it]"
     ]
    },
    {
     "name": "stdout",
     "output_type": "stream",
     "text": [
      "Epoch 5/5, Loss: -0.0974, Train Sharpe: 0.0245, Test Sharpe: 0.0364, Avg Weight: 0.0002, Max Weight: 0.0019\n",
      "Training completed! Best test Sharpe ratio: 0.0364\n",
      "Training from 2003-12 to 2004-06. Testing on 2004-07.\n"
     ]
    },
    {
     "name": "stderr",
     "output_type": "stream",
     "text": [
      "\n"
     ]
    },
    {
     "name": "stdout",
     "output_type": "stream",
     "text": [
      "['sprtrn_lag1', 'DlyRet_lag1', 'DlyRet_roll_10', 'DlyRet_roll_20', 'DlyRet_roll_30']\n",
      "Starting training with 477 train batches, 35 test batches\n"
     ]
    },
    {
     "name": "stderr",
     "output_type": "stream",
     "text": [
      "Training:  20%|███████                            | 1/5 [00:15<01:02, 15.72s/it]"
     ]
    },
    {
     "name": "stdout",
     "output_type": "stream",
     "text": [
      "Epoch 1/5, Loss: -0.0889, Train Sharpe: 0.0226, Test Sharpe: -0.0624, Avg Weight: 0.0002, Max Weight: 0.0012\n"
     ]
    },
    {
     "name": "stderr",
     "output_type": "stream",
     "text": [
      "Training:  60%|█████████████████████              | 3/5 [00:46<00:31, 15.53s/it]"
     ]
    },
    {
     "name": "stdout",
     "output_type": "stream",
     "text": [
      "Epoch 3/5, Loss: -0.0962, Train Sharpe: 0.0232, Test Sharpe: -0.0621, Avg Weight: 0.0002, Max Weight: 0.0011\n"
     ]
    },
    {
     "name": "stderr",
     "output_type": "stream",
     "text": [
      "Training: 100%|███████████████████████████████████| 5/5 [01:17<00:00, 15.58s/it]"
     ]
    },
    {
     "name": "stdout",
     "output_type": "stream",
     "text": [
      "Epoch 5/5, Loss: -0.0984, Train Sharpe: 0.0274, Test Sharpe: -0.0595, Avg Weight: 0.0002, Max Weight: 0.0013\n",
      "Training completed! Best test Sharpe ratio: -0.0595\n",
      "Training from 2004-01 to 2004-07. Testing on 2004-08.\n"
     ]
    },
    {
     "name": "stderr",
     "output_type": "stream",
     "text": [
      "\n"
     ]
    },
    {
     "name": "stdout",
     "output_type": "stream",
     "text": [
      "['sprtrn_lag1', 'DlyRet_lag1', 'DlyRet_roll_10', 'DlyRet_roll_20', 'DlyRet_roll_30']\n",
      "Starting training with 474 train batches, 36 test batches\n"
     ]
    },
    {
     "name": "stderr",
     "output_type": "stream",
     "text": [
      "Training:  20%|███████                            | 1/5 [00:15<01:01, 15.37s/it]"
     ]
    },
    {
     "name": "stdout",
     "output_type": "stream",
     "text": [
      "Epoch 1/5, Loss: -0.0719, Train Sharpe: 0.0020, Test Sharpe: -0.0000, Avg Weight: 0.0002, Max Weight: 0.0014\n"
     ]
    },
    {
     "name": "stderr",
     "output_type": "stream",
     "text": [
      "Training:  60%|█████████████████████              | 3/5 [00:45<00:30, 15.26s/it]"
     ]
    },
    {
     "name": "stdout",
     "output_type": "stream",
     "text": [
      "Epoch 3/5, Loss: -0.0779, Train Sharpe: 0.0118, Test Sharpe: 0.0105, Avg Weight: 0.0002, Max Weight: 0.0007\n"
     ]
    },
    {
     "name": "stderr",
     "output_type": "stream",
     "text": [
      "Training: 100%|███████████████████████████████████| 5/5 [01:17<00:00, 15.47s/it]"
     ]
    },
    {
     "name": "stdout",
     "output_type": "stream",
     "text": [
      "Epoch 5/5, Loss: -0.0882, Train Sharpe: 0.0247, Test Sharpe: 0.0286, Avg Weight: 0.0002, Max Weight: 0.0012\n",
      "Training completed! Best test Sharpe ratio: 0.0286\n",
      "Training from 2004-02 to 2004-08. Testing on 2004-09.\n"
     ]
    },
    {
     "name": "stderr",
     "output_type": "stream",
     "text": [
      "\n"
     ]
    },
    {
     "name": "stdout",
     "output_type": "stream",
     "text": [
      "['sprtrn_lag1', 'DlyRet_lag1', 'DlyRet_roll_10', 'DlyRet_roll_20', 'DlyRet_roll_30']\n",
      "Starting training with 481 train batches, 35 test batches\n"
     ]
    },
    {
     "name": "stderr",
     "output_type": "stream",
     "text": [
      "Training:  20%|███████                            | 1/5 [00:16<01:07, 16.95s/it]"
     ]
    },
    {
     "name": "stdout",
     "output_type": "stream",
     "text": [
      "Epoch 1/5, Loss: -0.0653, Train Sharpe: -0.0012, Test Sharpe: 0.0493, Avg Weight: 0.0002, Max Weight: 0.0048\n"
     ]
    },
    {
     "name": "stderr",
     "output_type": "stream",
     "text": [
      "Training:  60%|█████████████████████              | 3/5 [00:53<00:35, 17.87s/it]"
     ]
    },
    {
     "name": "stdout",
     "output_type": "stream",
     "text": [
      "Epoch 3/5, Loss: -0.0746, Train Sharpe: 0.0066, Test Sharpe: 0.0523, Avg Weight: 0.0002, Max Weight: 0.0047\n"
     ]
    },
    {
     "name": "stderr",
     "output_type": "stream",
     "text": [
      "Training: 100%|███████████████████████████████████| 5/5 [01:28<00:00, 17.69s/it]"
     ]
    },
    {
     "name": "stdout",
     "output_type": "stream",
     "text": [
      "Epoch 5/5, Loss: -0.0832, Train Sharpe: 0.0183, Test Sharpe: 0.0519, Avg Weight: 0.0002, Max Weight: 0.0047\n",
      "Training completed! Best test Sharpe ratio: 0.0545\n",
      "Training from 2004-03 to 2004-09. Testing on 2004-10.\n"
     ]
    },
    {
     "name": "stderr",
     "output_type": "stream",
     "text": [
      "\n"
     ]
    },
    {
     "name": "stdout",
     "output_type": "stream",
     "text": [
      "['sprtrn_lag1', 'DlyRet_lag1', 'DlyRet_roll_10', 'DlyRet_roll_20', 'DlyRet_roll_30']\n",
      "Starting training with 487 train batches, 35 test batches\n"
     ]
    },
    {
     "name": "stderr",
     "output_type": "stream",
     "text": [
      "Training:  20%|███████                            | 1/5 [00:17<01:08, 17.19s/it]"
     ]
    },
    {
     "name": "stdout",
     "output_type": "stream",
     "text": [
      "Epoch 1/5, Loss: -0.0696, Train Sharpe: -0.0008, Test Sharpe: 0.0336, Avg Weight: 0.0002, Max Weight: 0.0016\n"
     ]
    },
    {
     "name": "stderr",
     "output_type": "stream",
     "text": [
      "Training:  60%|█████████████████████              | 3/5 [00:51<00:34, 17.23s/it]"
     ]
    },
    {
     "name": "stdout",
     "output_type": "stream",
     "text": [
      "Epoch 3/5, Loss: -0.0761, Train Sharpe: 0.0077, Test Sharpe: 0.0359, Avg Weight: 0.0002, Max Weight: 0.0022\n"
     ]
    },
    {
     "name": "stderr",
     "output_type": "stream",
     "text": [
      "Training: 100%|███████████████████████████████████| 5/5 [01:25<00:00, 17.14s/it]"
     ]
    },
    {
     "name": "stdout",
     "output_type": "stream",
     "text": [
      "Epoch 5/5, Loss: -0.0822, Train Sharpe: 0.0204, Test Sharpe: 0.0408, Avg Weight: 0.0002, Max Weight: 0.0025\n",
      "Training completed! Best test Sharpe ratio: 0.0408\n",
      "Training from 2004-04 to 2004-10. Testing on 2004-11.\n"
     ]
    },
    {
     "name": "stderr",
     "output_type": "stream",
     "text": [
      "\n"
     ]
    },
    {
     "name": "stdout",
     "output_type": "stream",
     "text": [
      "['sprtrn_lag1', 'DlyRet_lag1', 'DlyRet_roll_10', 'DlyRet_roll_20', 'DlyRet_roll_30']\n",
      "Starting training with 481 train batches, 35 test batches\n"
     ]
    },
    {
     "name": "stderr",
     "output_type": "stream",
     "text": [
      "Training:  20%|███████                            | 1/5 [00:16<01:06, 16.61s/it]"
     ]
    },
    {
     "name": "stdout",
     "output_type": "stream",
     "text": [
      "Epoch 1/5, Loss: -0.0772, Train Sharpe: 0.0031, Test Sharpe: 0.0968, Avg Weight: 0.0002, Max Weight: 0.0011\n"
     ]
    },
    {
     "name": "stderr",
     "output_type": "stream",
     "text": [
      "Training:  60%|█████████████████████              | 3/5 [00:51<00:34, 17.11s/it]"
     ]
    },
    {
     "name": "stdout",
     "output_type": "stream",
     "text": [
      "Epoch 3/5, Loss: -0.0744, Train Sharpe: 0.0039, Test Sharpe: 0.0978, Avg Weight: 0.0002, Max Weight: 0.0008\n"
     ]
    },
    {
     "name": "stderr",
     "output_type": "stream",
     "text": [
      "Training: 100%|███████████████████████████████████| 5/5 [01:25<00:00, 17.07s/it]"
     ]
    },
    {
     "name": "stdout",
     "output_type": "stream",
     "text": [
      "Epoch 5/5, Loss: -0.0852, Train Sharpe: 0.0159, Test Sharpe: 0.0952, Avg Weight: 0.0002, Max Weight: 0.0008\n",
      "Training completed! Best test Sharpe ratio: 0.1001\n",
      "Training from 2004-05 to 2004-11. Testing on 2004-12.\n"
     ]
    },
    {
     "name": "stderr",
     "output_type": "stream",
     "text": [
      "\n"
     ]
    },
    {
     "name": "stdout",
     "output_type": "stream",
     "text": [
      "['sprtrn_lag1', 'DlyRet_lag1', 'DlyRet_roll_10', 'DlyRet_roll_20', 'DlyRet_roll_30']\n",
      "Starting training with 481 train batches, 37 test batches\n"
     ]
    },
    {
     "name": "stderr",
     "output_type": "stream",
     "text": [
      "Training:  20%|███████                            | 1/5 [00:17<01:08, 17.10s/it]"
     ]
    },
    {
     "name": "stdout",
     "output_type": "stream",
     "text": [
      "Epoch 1/5, Loss: -0.0989, Train Sharpe: 0.0272, Test Sharpe: 0.0696, Avg Weight: 0.0003, Max Weight: 0.0028\n"
     ]
    },
    {
     "name": "stderr",
     "output_type": "stream",
     "text": [
      "Training:  60%|█████████████████████              | 3/5 [00:51<00:34, 17.13s/it]"
     ]
    },
    {
     "name": "stdout",
     "output_type": "stream",
     "text": [
      "Epoch 3/5, Loss: -0.1089, Train Sharpe: 0.0315, Test Sharpe: 0.0704, Avg Weight: 0.0003, Max Weight: 0.0033\n"
     ]
    },
    {
     "name": "stderr",
     "output_type": "stream",
     "text": [
      "Training: 100%|███████████████████████████████████| 5/5 [01:27<00:00, 17.47s/it]"
     ]
    },
    {
     "name": "stdout",
     "output_type": "stream",
     "text": [
      "Epoch 5/5, Loss: -0.1173, Train Sharpe: 0.0414, Test Sharpe: 0.0754, Avg Weight: 0.0003, Max Weight: 0.0034\n",
      "Training completed! Best test Sharpe ratio: 0.0754\n",
      "Training from 2004-06 to 2004-12. Testing on 2005-01.\n"
     ]
    },
    {
     "name": "stderr",
     "output_type": "stream",
     "text": [
      "\n"
     ]
    },
    {
     "name": "stdout",
     "output_type": "stream",
     "text": [
      "['sprtrn_lag1', 'DlyRet_lag1', 'DlyRet_roll_10', 'DlyRet_roll_20', 'DlyRet_roll_30']\n",
      "Starting training with 488 train batches, 33 test batches\n"
     ]
    },
    {
     "name": "stderr",
     "output_type": "stream",
     "text": [
      "Training:  20%|███████                            | 1/5 [00:16<01:06, 16.65s/it]"
     ]
    },
    {
     "name": "stdout",
     "output_type": "stream",
     "text": [
      "Epoch 1/5, Loss: -0.1115, Train Sharpe: 0.0375, Test Sharpe: -0.0463, Avg Weight: 0.0002, Max Weight: 0.0005\n"
     ]
    },
    {
     "name": "stderr",
     "output_type": "stream",
     "text": [
      "Training:  60%|█████████████████████              | 3/5 [00:52<00:35, 17.75s/it]"
     ]
    },
    {
     "name": "stdout",
     "output_type": "stream",
     "text": [
      "Epoch 3/5, Loss: -0.1163, Train Sharpe: 0.0399, Test Sharpe: -0.0460, Avg Weight: 0.0002, Max Weight: 0.0005\n"
     ]
    },
    {
     "name": "stderr",
     "output_type": "stream",
     "text": [
      "Training: 100%|███████████████████████████████████| 5/5 [01:27<00:00, 17.57s/it]"
     ]
    },
    {
     "name": "stdout",
     "output_type": "stream",
     "text": [
      "Epoch 5/5, Loss: -0.1261, Train Sharpe: 0.0467, Test Sharpe: -0.0421, Avg Weight: 0.0002, Max Weight: 0.0005\n",
      "Training completed! Best test Sharpe ratio: -0.0421\n",
      "Training from 2004-07 to 2005-01. Testing on 2005-02.\n"
     ]
    },
    {
     "name": "stderr",
     "output_type": "stream",
     "text": [
      "\n"
     ]
    },
    {
     "name": "stdout",
     "output_type": "stream",
     "text": [
      "['sprtrn_lag1', 'DlyRet_lag1', 'DlyRet_roll_10', 'DlyRet_roll_20', 'DlyRet_roll_30']\n",
      "Starting training with 485 train batches, 32 test batches\n"
     ]
    },
    {
     "name": "stderr",
     "output_type": "stream",
     "text": [
      "Training:  20%|███████                            | 1/5 [00:25<01:42, 25.73s/it]"
     ]
    },
    {
     "name": "stdout",
     "output_type": "stream",
     "text": [
      "Epoch 1/5, Loss: -0.0960, Train Sharpe: 0.0272, Test Sharpe: 0.0253, Avg Weight: 0.0003, Max Weight: 0.0020\n"
     ]
    },
    {
     "name": "stderr",
     "output_type": "stream",
     "text": [
      "Training:  60%|█████████████████████              | 3/5 [01:00<00:38, 19.42s/it]"
     ]
    },
    {
     "name": "stdout",
     "output_type": "stream",
     "text": [
      "Epoch 3/5, Loss: -0.1086, Train Sharpe: 0.0357, Test Sharpe: 0.0262, Avg Weight: 0.0003, Max Weight: 0.0023\n"
     ]
    },
    {
     "name": "stderr",
     "output_type": "stream",
     "text": [
      "Training: 100%|███████████████████████████████████| 5/5 [01:33<00:00, 18.76s/it]"
     ]
    },
    {
     "name": "stdout",
     "output_type": "stream",
     "text": [
      "Epoch 5/5, Loss: -0.1197, Train Sharpe: 0.0481, Test Sharpe: 0.0345, Avg Weight: 0.0003, Max Weight: 0.0026\n",
      "Training completed! Best test Sharpe ratio: 0.0345\n",
      "Training from 2004-08 to 2005-02. Testing on 2005-03.\n"
     ]
    },
    {
     "name": "stderr",
     "output_type": "stream",
     "text": [
      "\n"
     ]
    },
    {
     "name": "stdout",
     "output_type": "stream",
     "text": [
      "['sprtrn_lag1', 'DlyRet_lag1', 'DlyRet_roll_10', 'DlyRet_roll_20', 'DlyRet_roll_30']\n",
      "Starting training with 479 train batches, 37 test batches\n"
     ]
    },
    {
     "name": "stderr",
     "output_type": "stream",
     "text": [
      "Training:  20%|███████                            | 1/5 [00:19<01:18, 19.61s/it]"
     ]
    },
    {
     "name": "stdout",
     "output_type": "stream",
     "text": [
      "Epoch 1/5, Loss: -0.1103, Train Sharpe: 0.0416, Test Sharpe: -0.0420, Avg Weight: 0.0002, Max Weight: 0.0045\n"
     ]
    },
    {
     "name": "stderr",
     "output_type": "stream",
     "text": [
      "Training:  60%|█████████████████████              | 3/5 [00:54<00:35, 17.88s/it]"
     ]
    },
    {
     "name": "stdout",
     "output_type": "stream",
     "text": [
      "Epoch 3/5, Loss: -0.1206, Train Sharpe: 0.0478, Test Sharpe: -0.0369, Avg Weight: 0.0002, Max Weight: 0.0042\n"
     ]
    },
    {
     "name": "stderr",
     "output_type": "stream",
     "text": [
      "Training: 100%|███████████████████████████████████| 5/5 [01:27<00:00, 17.43s/it]"
     ]
    },
    {
     "name": "stdout",
     "output_type": "stream",
     "text": [
      "Epoch 5/5, Loss: -0.1274, Train Sharpe: 0.0561, Test Sharpe: -0.0278, Avg Weight: 0.0002, Max Weight: 0.0040\n",
      "Training completed! Best test Sharpe ratio: -0.0278\n",
      "Training from 2004-09 to 2005-03. Testing on 2005-04.\n"
     ]
    },
    {
     "name": "stderr",
     "output_type": "stream",
     "text": [
      "\n"
     ]
    },
    {
     "name": "stdout",
     "output_type": "stream",
     "text": [
      "['sprtrn_lag1', 'DlyRet_lag1', 'DlyRet_roll_10', 'DlyRet_roll_20', 'DlyRet_roll_30']\n",
      "Starting training with 479 train batches, 35 test batches\n"
     ]
    },
    {
     "name": "stderr",
     "output_type": "stream",
     "text": [
      "Training:  20%|███████                            | 1/5 [00:18<01:15, 18.98s/it]"
     ]
    },
    {
     "name": "stdout",
     "output_type": "stream",
     "text": [
      "Epoch 1/5, Loss: -0.1024, Train Sharpe: 0.0223, Test Sharpe: -0.0342, Avg Weight: 0.0002, Max Weight: 0.0036\n"
     ]
    },
    {
     "name": "stderr",
     "output_type": "stream",
     "text": [
      "Training:  60%|█████████████████████              | 3/5 [00:54<00:36, 18.10s/it]"
     ]
    },
    {
     "name": "stdout",
     "output_type": "stream",
     "text": [
      "Epoch 3/5, Loss: -0.1085, Train Sharpe: 0.0362, Test Sharpe: -0.0396, Avg Weight: 0.0002, Max Weight: 0.0068\n"
     ]
    },
    {
     "name": "stderr",
     "output_type": "stream",
     "text": [
      "Training: 100%|███████████████████████████████████| 5/5 [01:26<00:00, 17.36s/it]"
     ]
    },
    {
     "name": "stdout",
     "output_type": "stream",
     "text": [
      "Epoch 5/5, Loss: -0.1174, Train Sharpe: 0.0453, Test Sharpe: -0.0311, Avg Weight: 0.0002, Max Weight: 0.0068\n",
      "Training completed! Best test Sharpe ratio: -0.0249\n",
      "Training from 2004-10 to 2005-04. Testing on 2005-05.\n"
     ]
    },
    {
     "name": "stderr",
     "output_type": "stream",
     "text": [
      "\n"
     ]
    },
    {
     "name": "stdout",
     "output_type": "stream",
     "text": [
      "['sprtrn_lag1', 'DlyRet_lag1', 'DlyRet_roll_10', 'DlyRet_roll_20', 'DlyRet_roll_30']\n",
      "Starting training with 480 train batches, 35 test batches\n"
     ]
    },
    {
     "name": "stderr",
     "output_type": "stream",
     "text": [
      "Training:  20%|███████                            | 1/5 [00:16<01:04, 16.04s/it]"
     ]
    },
    {
     "name": "stdout",
     "output_type": "stream",
     "text": [
      "Epoch 1/5, Loss: -0.0840, Train Sharpe: 0.0050, Test Sharpe: 0.0282, Avg Weight: 0.0002, Max Weight: 0.0115\n"
     ]
    },
    {
     "name": "stderr",
     "output_type": "stream",
     "text": [
      "Training:  60%|█████████████████████              | 3/5 [00:47<00:31, 16.00s/it]"
     ]
    },
    {
     "name": "stdout",
     "output_type": "stream",
     "text": [
      "Epoch 3/5, Loss: -0.0861, Train Sharpe: 0.0096, Test Sharpe: 0.0343, Avg Weight: 0.0002, Max Weight: 0.0129\n"
     ]
    },
    {
     "name": "stderr",
     "output_type": "stream",
     "text": [
      "Training: 100%|███████████████████████████████████| 5/5 [01:22<00:00, 16.42s/it]"
     ]
    },
    {
     "name": "stdout",
     "output_type": "stream",
     "text": [
      "Epoch 5/5, Loss: -0.0907, Train Sharpe: 0.0145, Test Sharpe: 0.0320, Avg Weight: 0.0002, Max Weight: 0.0129\n",
      "Training completed! Best test Sharpe ratio: 0.0343\n",
      "Training from 2004-11 to 2005-05. Testing on 2005-06.\n"
     ]
    },
    {
     "name": "stderr",
     "output_type": "stream",
     "text": [
      "\n"
     ]
    },
    {
     "name": "stdout",
     "output_type": "stream",
     "text": [
      "['sprtrn_lag1', 'DlyRet_lag1', 'DlyRet_roll_10', 'DlyRet_roll_20', 'DlyRet_roll_30']\n",
      "Starting training with 480 train batches, 19 test batches\n"
     ]
    },
    {
     "name": "stderr",
     "output_type": "stream",
     "text": [
      "Training:  20%|███████                            | 1/5 [00:15<01:03, 15.77s/it]"
     ]
    },
    {
     "name": "stdout",
     "output_type": "stream",
     "text": [
      "Epoch 1/5, Loss: -0.0833, Train Sharpe: 0.0172, Test Sharpe: 0.0813, Avg Weight: 0.0002, Max Weight: 0.0005\n"
     ]
    },
    {
     "name": "stderr",
     "output_type": "stream",
     "text": [
      "Training:  60%|█████████████████████              | 3/5 [00:47<00:31, 15.84s/it]"
     ]
    },
    {
     "name": "stdout",
     "output_type": "stream",
     "text": [
      "Epoch 3/5, Loss: -0.0895, Train Sharpe: 0.0208, Test Sharpe: 0.0748, Avg Weight: 0.0002, Max Weight: 0.0005\n"
     ]
    },
    {
     "name": "stderr",
     "output_type": "stream",
     "text": [
      "Training: 100%|███████████████████████████████████| 5/5 [01:19<00:00, 15.93s/it]"
     ]
    },
    {
     "name": "stdout",
     "output_type": "stream",
     "text": [
      "Epoch 5/5, Loss: -0.0969, Train Sharpe: 0.0278, Test Sharpe: 0.0871, Avg Weight: 0.0002, Max Weight: 0.0005\n",
      "Training completed! Best test Sharpe ratio: 0.0871\n"
     ]
    },
    {
     "name": "stderr",
     "output_type": "stream",
     "text": [
      "\n"
     ]
    }
   ],
   "source": [
    "# Keeping track of the return over all the data\n",
    "reload(utils)\n",
    "all_strategy_returns = []\n",
    "\n",
    "for i in range(0, len(unique_months) - 6):\n",
    "\n",
    "    # Train on 6 months of data and test on 1 month\n",
    "    train_start = unique_months.iloc[i]\n",
    "    train_end = unique_months.iloc[i+5]\n",
    "    test_month = unique_months.iloc[i+6]\n",
    "\n",
    "    print(f'Training from {train_start} to {train_end}. Testing on {test_month}.')\n",
    "    \n",
    "    # Filter data\n",
    "    train_mask = (daily['year_month'] >= train_start) & (daily['year_month'] <= train_end)\n",
    "    test_mask = daily['year_month'] == test_month\n",
    "\n",
    "    tr_df = daily[train_mask].copy()\n",
    "    te_df = daily[test_mask].copy()\n",
    "\n",
    "    # Prepare the data: construct lagged returns, rolling window averages\n",
    "    train_df, test_df, features, cat_features = utils.prepare_data(tr_df, te_df, lagged_num=1, rolling_window=True)\n",
    "   \n",
    "    epochs = 5\n",
    "    max_weight = 0.05  # No stock >5% weight\n",
    "    diversification_lambda = 0.01  # Strength of penalty\n",
    "    temperature = 1.0  # Softmax temperature (lower = more diversification)\n",
    "    train_losses, test_losses, train_sharpes, test_sharpes, raw_predictions, weights = utils.train_DNN(train_df, test_df, features, cat_features, \n",
    "                                                                                                   epochs=epochs, max_weight=max_weight, \n",
    "                                                                                                   diversification_lambda=diversification_lambda, \n",
    "                                                                                                   temperature=temperature)\n",
    "    # Deduct transaction costs \n",
    "    TC_RATE = 0.003 # 0.30% of traded notional value\n",
    "    alpha = 100\n",
    "\n",
    "    test_df['weight'] = weights.values\n",
    "    test_df['weight_change'] = np.abs(test_df['weight'].diff().fillna(0.0))\n",
    "    test_df['tc_cost'] = test_df['weight_change'].apply(lambda x: utils.progressive_cost(x, base_tc=TC_RATE, alpha=alpha))\n",
    "    test_df['strategy_return'] = test_df['weight'] * test_df['DlyRet'] - test_df['tc_cost']\n",
    "    mean_daily_returns = test_df.groupby('date')['strategy_return'].sum()\n",
    "\n",
    "    all_strategy_returns.append(mean_daily_returns)\n",
    "    gc.collect() # Memory clean-up\n",
    "\n",
    "# Concatenate all windows into one Series\n",
    "combined_returns = pd.concat(all_strategy_returns)\n",
    "\n"
   ]
  },
  {
   "cell_type": "code",
   "execution_count": 6,
   "metadata": {},
   "outputs": [
    {
     "data": {
      "image/png": "[encoded data removed]",
      "text/plain": [
       "<Figure size 1000x600 with 1 Axes>"
      ]
     },
     "metadata": {},
     "output_type": "display_data"
    }
   ],
   "source": [
    "# Plot the cumulative returns of the strategy and compare with the S&P 500 index\n",
    "cumulative_returns = (1 + combined_returns).cumprod() \n",
    "sp_ret = daily.groupby('date')['sprtrn'].mean()\n",
    "\n",
    "strat_start = unique_months.iloc[7].to_timestamp()\n",
    "sp_ret = sp_ret.loc[strat_start:]\n",
    "\n",
    "cumulative_sp500 = (1 + sp_ret).cumprod()\n",
    "\n",
    "# Combine into a single DataFrame for easy plotting\n",
    "combined = pd.DataFrame({\n",
    "    'Strategy': cumulative_returns,\n",
    "    'S&P 500': cumulative_sp500\n",
    "})\n",
    "\n",
    "# Sharpe ratio\n",
    "strat_sharpe = utils.compute_sharpe(combined_returns)\n",
    "sp_sharpe = utils.compute_sharpe(sp_ret)\n",
    "\n",
    "# Plot\n",
    "combined.plot(figsize=(10, 6), title=f'Cumulative Returns: Strategy (Sharpe={strat_sharpe:.2f}) vs S&P 500 (Sharpe={sp_sharpe:.2f} ')\n",
    "plt.ylabel('Cumulative Return')\n",
    "plt.grid(True)\n",
    "plt.show()"
   ]
  },
  {
   "cell_type": "code",
   "execution_count": 22,
   "metadata": {},
   "outputs": [
    {
     "data": {
      "text/plain": [
       "Timestamp('2005-06-16 00:00:00')"
      ]
     },
     "execution_count": 22,
     "metadata": {},
     "output_type": "execute_result"
    }
   ],
   "source": [
    "end_date = sp_ret.index.max()\n",
    "end_date"
   ]
  },
  {
   "cell_type": "code",
   "execution_count": 27,
   "metadata": {},
   "outputs": [
    {
     "data": {
      "text/html": [
       "<div>\n",
       "<style scoped>\n",
       "    .dataframe tbody tr th:only-of-type {\n",
       "        vertical-align: middle;\n",
       "    }\n",
       "\n",
       "    .dataframe tbody tr th {\n",
       "        vertical-align: top;\n",
       "    }\n",
       "\n",
       "    .dataframe thead th {\n",
       "        text-align: right;\n",
       "    }\n",
       "</style>\n",
       "<table border=\"1\" class=\"dataframe\">\n",
       "  <thead>\n",
       "    <tr style=\"text-align: right;\">\n",
       "      <th></th>\n",
       "      <th>cumulative_1dollar</th>\n",
       "    </tr>\n",
       "    <tr>\n",
       "      <th>date</th>\n",
       "      <th></th>\n",
       "    </tr>\n",
       "  </thead>\n",
       "  <tbody>\n",
       "    <tr>\n",
       "      <th>2000-07-03</th>\n",
       "      <td>0.997942</td>\n",
       "    </tr>\n",
       "    <tr>\n",
       "      <th>2000-07-05</th>\n",
       "      <td>0.997489</td>\n",
       "    </tr>\n",
       "    <tr>\n",
       "      <th>2000-07-06</th>\n",
       "      <td>0.996326</td>\n",
       "    </tr>\n",
       "    <tr>\n",
       "      <th>2000-07-07</th>\n",
       "      <td>1.000691</td>\n",
       "    </tr>\n",
       "    <tr>\n",
       "      <th>2000-07-10</th>\n",
       "      <td>1.013719</td>\n",
       "    </tr>\n",
       "    <tr>\n",
       "      <th>...</th>\n",
       "      <td>...</td>\n",
       "    </tr>\n",
       "    <tr>\n",
       "      <th>2005-06-10</th>\n",
       "      <td>2.359190</td>\n",
       "    </tr>\n",
       "    <tr>\n",
       "      <th>2005-06-13</th>\n",
       "      <td>2.365178</td>\n",
       "    </tr>\n",
       "    <tr>\n",
       "      <th>2005-06-14</th>\n",
       "      <td>2.375978</td>\n",
       "    </tr>\n",
       "    <tr>\n",
       "      <th>2005-06-15</th>\n",
       "      <td>2.384848</td>\n",
       "    </tr>\n",
       "    <tr>\n",
       "      <th>2005-06-16</th>\n",
       "      <td>2.403684</td>\n",
       "    </tr>\n",
       "  </tbody>\n",
       "</table>\n",
       "<p>1204 rows × 1 columns</p>\n",
       "</div>"
      ],
      "text/plain": [
       "            cumulative_1dollar\n",
       "date                          \n",
       "2000-07-03            0.997942\n",
       "2000-07-05            0.997489\n",
       "2000-07-06            0.996326\n",
       "2000-07-07            1.000691\n",
       "2000-07-10            1.013719\n",
       "...                        ...\n",
       "2005-06-10            2.359190\n",
       "2005-06-13            2.365178\n",
       "2005-06-14            2.375978\n",
       "2005-06-15            2.384848\n",
       "2005-06-16            2.403684\n",
       "\n",
       "[1204 rows x 1 columns]"
      ]
     },
     "execution_count": 27,
     "metadata": {},
     "output_type": "execute_result"
    }
   ],
   "source": [
    "regression = pd.read_csv('base_benchmark_regul.csv', usecols=['date', 'cumulative_1dollar'])\n",
    "regression['date'] = pd.to_datetime(regression['date'], format=\"%Y-%m-%d\")\n",
    "regression = regression.loc[regression['date'] <= end_date]\n",
    "regression = regression.set_index('date')\n",
    "regression"
   ]
  },
  {
   "cell_type": "code",
   "execution_count": 36,
   "metadata": {},
   "outputs": [
    {
     "data": {
      "text/plain": [
       "pandas.core.series.Series"
      ]
     },
     "execution_count": 36,
     "metadata": {},
     "output_type": "execute_result"
    }
   ],
   "source": [
    "type(pd.Series(regression['cumulative_1dollar']))"
   ]
  },
  {
   "cell_type": "code",
   "execution_count": 38,
   "metadata": {},
   "outputs": [
    {
     "data": {
      "image/png": "[encoded data removed]",
      "text/plain": [
       "<Figure size 1000x600 with 1 Axes>"
      ]
     },
     "metadata": {},
     "output_type": "display_data"
    }
   ],
   "source": [
    "# Combine into a single DataFrame for easy plotting\n",
    "combined = pd.DataFrame({\n",
    "    'Strategy': cumulative_returns,\n",
    "    'S&P 500': cumulative_sp500,\n",
    "    'regression': pd.Series(regression['cumulative_1dollar'])\n",
    "})\n",
    "\n",
    "# Sharpe ratio\n",
    "strat_sharpe = np.sqrt(combined_returns.shape[0]) * (combined_returns.mean() / combined_returns.std())\n",
    "sp_sharpe = np.sqrt(sp_ret.shape[0]) * (sp_ret.mean() / sp_ret.std())\n",
    "\n",
    "# Plot\n",
    "combined.plot(figsize=(10, 6), title=f'Cumulative Returns: Strategy (Sharpe={strat_sharpe}) vs S&P 500 (Sharpe={sp_sharpe} ')\n",
    "plt.ylabel('Cumulative Return')\n",
    "plt.grid(True)\n",
    "plt.show()\n",
    "\n"
   ]
  },
  {
   "cell_type": "code",
   "execution_count": 41,
   "metadata": {},
   "outputs": [
    {
     "name": "stdout",
     "output_type": "stream",
     "text": [
      "Training from 2000-01 to 2000-07. Testing on 2000-08.\n",
      "['sprtrn_lag1', 'DlyRet_lag1', 'DlyRet_roll_10', 'DlyRet_roll_20', 'DlyRet_roll_30']\n",
      "Starting training with 516 train batches, 47 test batches\n"
     ]
    },
    {
     "name": "stderr",
     "output_type": "stream",
     "text": [
      "Training:  20%|███████                            | 1/5 [00:21<01:25, 21.42s/it]"
     ]
    },
    {
     "name": "stdout",
     "output_type": "stream",
     "text": [
      "Epoch 1/5, Loss: -0.0712, Train Sharpe: 0.0113, Test Sharpe: 0.0421, Avg Weight: 0.0002, Max Weight: 0.0011\n"
     ]
    },
    {
     "name": "stderr",
     "output_type": "stream",
     "text": [
      "Training:  60%|█████████████████████              | 3/5 [01:01<00:41, 20.59s/it]"
     ]
    },
    {
     "name": "stdout",
     "output_type": "stream",
     "text": [
      "Epoch 3/5, Loss: -0.1039, Train Sharpe: 0.0555, Test Sharpe: 0.0652, Avg Weight: 0.0002, Max Weight: 0.0026\n"
     ]
    },
    {
     "name": "stderr",
     "output_type": "stream",
     "text": [
      "Training: 100%|███████████████████████████████████| 5/5 [01:41<00:00, 20.24s/it]"
     ]
    },
    {
     "name": "stdout",
     "output_type": "stream",
     "text": [
      "Epoch 5/5, Loss: -0.1168, Train Sharpe: 0.0623, Test Sharpe: 0.0654, Avg Weight: 0.0002, Max Weight: 0.0049\n",
      "Training completed! Best test Sharpe ratio: 0.0654\n"
     ]
    },
    {
     "name": "stderr",
     "output_type": "stream",
     "text": [
      "\n"
     ]
    },
    {
     "name": "stdout",
     "output_type": "stream",
     "text": [
      "Training from 2000-02 to 2000-08. Testing on 2000-09.\n",
      "['sprtrn_lag1', 'DlyRet_lag1', 'DlyRet_roll_10', 'DlyRet_roll_20', 'DlyRet_roll_30']\n",
      "Starting training with 606 train batches, 41 test batches\n"
     ]
    },
    {
     "name": "stderr",
     "output_type": "stream",
     "text": [
      "Training:  20%|███████                            | 1/5 [00:22<01:28, 22.04s/it]"
     ]
    },
    {
     "name": "stdout",
     "output_type": "stream",
     "text": [
      "Epoch 1/5, Loss: -0.0803, Train Sharpe: 0.0168, Test Sharpe: -0.0304, Avg Weight: 0.0002, Max Weight: 0.0008\n"
     ]
    },
    {
     "name": "stderr",
     "output_type": "stream",
     "text": [
      "Training:  60%|█████████████████████              | 3/5 [01:10<00:46, 23.44s/it]"
     ]
    },
    {
     "name": "stdout",
     "output_type": "stream",
     "text": [
      "Epoch 3/5, Loss: -0.1010, Train Sharpe: 0.0457, Test Sharpe: 0.0085, Avg Weight: 0.0002, Max Weight: 0.0015\n"
     ]
    },
    {
     "name": "stderr",
     "output_type": "stream",
     "text": [
      "Training: 100%|███████████████████████████████████| 5/5 [01:53<00:00, 22.79s/it]"
     ]
    },
    {
     "name": "stdout",
     "output_type": "stream",
     "text": [
      "Epoch 5/5, Loss: -0.1198, Train Sharpe: 0.0539, Test Sharpe: 0.0159, Avg Weight: 0.0002, Max Weight: 0.0017\n",
      "Training completed! Best test Sharpe ratio: 0.0159\n"
     ]
    },
    {
     "name": "stderr",
     "output_type": "stream",
     "text": [
      "\n"
     ]
    },
    {
     "name": "stdout",
     "output_type": "stream",
     "text": [
      "Training from 2000-03 to 2000-09. Testing on 2000-10.\n",
      "['sprtrn_lag1', 'DlyRet_lag1', 'DlyRet_roll_10', 'DlyRet_roll_20', 'DlyRet_roll_30']\n",
      "Starting training with 606 train batches, 45 test batches\n"
     ]
    },
    {
     "name": "stderr",
     "output_type": "stream",
     "text": [
      "Training:  20%|███████                            | 1/5 [00:21<01:27, 22.00s/it]"
     ]
    },
    {
     "name": "stdout",
     "output_type": "stream",
     "text": [
      "Epoch 1/5, Loss: -0.0682, Train Sharpe: 0.0094, Test Sharpe: -0.0219, Avg Weight: 0.0002, Max Weight: 0.0013\n"
     ]
    },
    {
     "name": "stderr",
     "output_type": "stream",
     "text": [
      "Training:  60%|█████████████████████              | 3/5 [01:05<00:43, 21.74s/it]"
     ]
    },
    {
     "name": "stdout",
     "output_type": "stream",
     "text": [
      "Epoch 3/5, Loss: -0.1100, Train Sharpe: 0.0552, Test Sharpe: 0.0319, Avg Weight: 0.0002, Max Weight: 0.0029\n"
     ]
    },
    {
     "name": "stderr",
     "output_type": "stream",
     "text": [
      "Training: 100%|███████████████████████████████████| 5/5 [01:51<00:00, 22.26s/it]"
     ]
    },
    {
     "name": "stdout",
     "output_type": "stream",
     "text": [
      "Epoch 5/5, Loss: -0.1225, Train Sharpe: 0.0646, Test Sharpe: 0.0368, Avg Weight: 0.0002, Max Weight: 0.0037\n",
      "Training completed! Best test Sharpe ratio: 0.0378\n"
     ]
    },
    {
     "name": "stderr",
     "output_type": "stream",
     "text": [
      "\n"
     ]
    },
    {
     "name": "stdout",
     "output_type": "stream",
     "text": [
      "Training from 2000-04 to 2000-10. Testing on 2000-11.\n",
      "['sprtrn_lag1', 'DlyRet_lag1', 'DlyRet_roll_10', 'DlyRet_roll_20', 'DlyRet_roll_30']\n",
      "Starting training with 602 train batches, 43 test batches\n"
     ]
    },
    {
     "name": "stderr",
     "output_type": "stream",
     "text": [
      "Training:  20%|███████                            | 1/5 [00:23<01:32, 23.13s/it]"
     ]
    },
    {
     "name": "stdout",
     "output_type": "stream",
     "text": [
      "Epoch 1/5, Loss: -0.0684, Train Sharpe: 0.0162, Test Sharpe: -0.0626, Avg Weight: 0.0002, Max Weight: 0.0031\n"
     ]
    },
    {
     "name": "stderr",
     "output_type": "stream",
     "text": [
      "Training:  60%|█████████████████████              | 3/5 [01:09<00:46, 23.42s/it]"
     ]
    },
    {
     "name": "stdout",
     "output_type": "stream",
     "text": [
      "Epoch 3/5, Loss: -0.1134, Train Sharpe: 0.0620, Test Sharpe: -0.0137, Avg Weight: 0.0002, Max Weight: 0.0038\n"
     ]
    },
    {
     "name": "stderr",
     "output_type": "stream",
     "text": [
      "Training: 100%|███████████████████████████████████| 5/5 [01:57<00:00, 23.58s/it]"
     ]
    },
    {
     "name": "stdout",
     "output_type": "stream",
     "text": [
      "Epoch 5/5, Loss: -0.1237, Train Sharpe: 0.0671, Test Sharpe: -0.0064, Avg Weight: 0.0002, Max Weight: 0.0041\n",
      "Training completed! Best test Sharpe ratio: -0.0064\n"
     ]
    },
    {
     "name": "stderr",
     "output_type": "stream",
     "text": [
      "\n"
     ]
    }
   ],
   "source": [
    "# Keeping track of the return over all the data\n",
    "reload(utils)\n",
    "all_strategy_returns = []\n",
    "\n",
    "for i in range(0, 11 - 6 - 1):\n",
    "\n",
    "    # Train on 6 months of data and test on 1 month\n",
    "    train_start = unique_months.iloc[i]\n",
    "    train_end = unique_months.iloc[i+6]\n",
    "    test_month = unique_months.iloc[i+7]\n",
    "\n",
    "    print(f'Training from {train_start} to {train_end}. Testing on {test_month}.')\n",
    "    \n",
    "    # Filter data\n",
    "    train_mask = (daily['year_month'] >= train_start) & (daily['year_month'] <= train_end)\n",
    "    test_mask = daily['year_month'] == test_month\n",
    "\n",
    "    tr_df = daily[train_mask].copy()\n",
    "    te_df = daily[test_mask].copy()\n",
    "\n",
    "    # Prepare the data: construct lagged returns, rolling window averages\n",
    "    train_df, test_df, features, cat_features = utils.prepare_data(tr_df, te_df, lagged_num=1, rolling_window=True)\n",
    "   \n",
    "    epochs = 5\n",
    "    max_weight = 0.05  # No stock >5% weight\n",
    "    diversification_lambda = 0.01  # Strength of penalty\n",
    "    temperature = 1.0  # Softmax temperature (lower = more diversification)\n",
    "    train_losses, test_losses, train_sharpes, test_sharpes, raw_predictions, weights = utils.train_DNN(train_df, test_df, features, cat_features, \n",
    "                                                                                                   epochs=epochs, max_weight=max_weight, \n",
    "                                                                                                   diversification_lambda=diversification_lambda, \n",
    "                                                                                                   temperature=temperature)\n",
    "    # Deduct transaction costs \n",
    "    TC_RATE = 0.003 # 0.20% of traded notional value\n",
    "    alpha = 100\n",
    "\n",
    "    test_df['weight'] = weights.values\n",
    "    test_df['weight_change'] = np.abs(test_df['weight'].diff().fillna(0.0))\n",
    "    #test_df['tc_cost'] = test_df['weight_change'].apply(utils.progressive_cost) * TC_RATE # Apply increasing costs relative to trade size\n",
    "    test_df['tc_cost'] = test_df['weight_change'].apply(lambda x: utils.progressive_cost(x, base_tc=TC_RATE, alpha=alpha))\n",
    "    test_df['strategy_return'] = test_df['weight'] * test_df['DlyRet'] - test_df['tc_cost']\n",
    "    mean_daily_returns = test_df.groupby('date')['strategy_return'].sum()\n",
    "\n",
    "    all_strategy_returns.append(mean_daily_returns)\n",
    "    gc.collect() # Memory clean-up\n",
    "\n",
    "# Concatenate all windows into one Series\n",
    "combined_returns = pd.concat(all_strategy_returns)\n",
    "\n"
   ]
  },
  {
   "cell_type": "code",
   "execution_count": 43,
   "metadata": {},
   "outputs": [
    {
     "data": {
      "image/png": "[encoded data removed]",
      "text/plain": [
       "<Figure size 1000x600 with 1 Axes>"
      ]
     },
     "metadata": {},
     "output_type": "display_data"
    }
   ],
   "source": [
    "# Plot the cumulative returns of the strategy and compare with the S&P 500 index\n",
    "cumulative_returns = (1 + combined_returns).cumprod() \n",
    "sp_ret = daily.groupby('date')['sprtrn'].mean()\n",
    "\n",
    "strat_start = unique_months.iloc[7].to_timestamp()\n",
    "sp_ret = sp_ret.loc[strat_start:'2000-12-01']\n",
    "\n",
    "cumulative_sp500 = (1 + sp_ret).cumprod()\n",
    "\n",
    "# Combine into a single DataFrame for easy plotting\n",
    "combined = pd.DataFrame({\n",
    "    'Strategy': cumulative_returns,\n",
    "    'S&P 500': cumulative_sp500\n",
    "})\n",
    "\n",
    "# Sharpe ratio\n",
    "strat_sharpe = np.sqrt(combined_returns.shape[0]) * (combined_returns.mean() / combined_returns.std())\n",
    "sp_sharpe = np.sqrt(sp_ret.shape[0]) * (sp_ret.mean() / sp_ret.std())\n",
    "\n",
    "# Plot\n",
    "combined.plot(figsize=(10, 6), title=f'Cumulative Returns: Strategy (Sharpe={strat_sharpe}) vs S&P 500 (Sharpe={sp_sharpe} ')\n",
    "plt.ylabel('Cumulative Return')\n",
    "plt.grid(True)\n",
    "plt.show()"
   ]
  },
  {
   "cell_type": "code",
   "execution_count": null,
   "metadata": {},
   "outputs": [],
   "source": []
  }
 ],
 "metadata": {
  "accelerator": "GPU",
  "colab": {
   "gpuType": "T4",
   "provenance": []
  },
  "kernelspec": {
   "display_name": "Python 3 (ipykernel)",
   "language": "python",
   "name": "python3"
  },
  "language_info": {
   "codemirror_mode": {
    "name": "ipython",
    "version": 3
   },
   "file_extension": ".py",
   "mimetype": "text/x-python",
   "name": "python",
   "nbconvert_exporter": "python",
   "pygments_lexer": "ipython3",
   "version": "3.12.9"
  }
 },
 "nbformat": 4,
 "nbformat_minor": 4
}
