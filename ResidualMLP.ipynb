{
 "cells": [
  {
   "cell_type": "code",
   "execution_count": 1,
   "metadata": {
    "executionInfo": {
     "elapsed": 9244,
     "status": "ok",
     "timestamp": 1749567167967,
     "user": {
      "displayName": "Mirko Rado",
      "userId": "09310665357187365654"
     },
     "user_tz": -120
    },
    "id": "CqzdbFF2-wrs"
   },
   "outputs": [],
   "source": [
    "import torch\n",
    "import numpy as np\n",
    "import pandas as pd\n",
    "import DNN_utils as utils\n",
    "import matplotlib.pyplot as plt\n",
    "import seaborn as sns\n",
    "import os\n",
    "from sklearn.linear_model import LinearRegression\n",
    "from datetime import datetime\n",
    "from tqdm import tqdm\n",
    "import torch.nn as nn\n",
    "import torch.nn.functional as F\n",
    "import random\n",
    "from torch.utils.data import Dataset, DataLoader\n",
    "from sklearn.preprocessing import StandardScaler\n",
    "from sklearn.model_selection import train_test_split\n",
    "import gc\n",
    "from importlib import reload"
   ]
  },
  {
   "cell_type": "code",
   "execution_count": 2,
   "metadata": {
    "colab": {
     "base_uri": "https://localhost:8080/"
    },
    "executionInfo": {
     "elapsed": 992,
     "status": "ok",
     "timestamp": 1749567180421,
     "user": {
      "displayName": "Mirko Rado",
      "userId": "09310665357187365654"
     },
     "user_tz": -120
    },
    "id": "jnIz8GWK-yNh",
    "outputId": "29a5381d-185d-48b5-f7b1-64de2d2430af"
   },
   "outputs": [],
   "source": [
    "# IF EXECUTING ON COLLAB UNCOMMENT THIS CELL\n",
    "\n",
    "#import os\n",
    "#from google.colab import drive\n",
    "#drive.mount('/content/gdrive')\n",
    "#folder = '/content/gdrive/My Drive/Data ML Project'\n",
    "#os.chdir(folder)\n",
    "#print(torch.cuda.is_available())\n",
    "\n",
    "# Set these right after importing torch, before any other operations\n",
    "torch.set_num_threads(os.cpu_count())\n",
    "torch.set_num_interop_threads(os.cpu_count())\n",
    "path = 'Targets/daily_crsp_sanitized.csv'"
   ]
  },
  {
   "cell_type": "code",
   "execution_count": 3,
   "metadata": {
    "colab": {
     "base_uri": "https://localhost:8080/",
     "height": 423
    },
    "executionInfo": {
     "elapsed": 8953,
     "status": "ok",
     "timestamp": 1749567191293,
     "user": {
      "displayName": "Mirko Rado",
      "userId": "09310665357187365654"
     },
     "user_tz": -120
    },
    "id": "ixOUuFbM1fqe",
    "outputId": "cd15f372-0fc0-4603-f438-473cf27d7f37"
   },
   "outputs": [
    {
     "name": "stdout",
     "output_type": "stream",
     "text": [
      "Number of daily return outliers: 18,415\n"
     ]
    },
    {
     "data": {
      "text/html": [
       "<div>\n",
       "<style scoped>\n",
       "    .dataframe tbody tr th:only-of-type {\n",
       "        vertical-align: middle;\n",
       "    }\n",
       "\n",
       "    .dataframe tbody tr th {\n",
       "        vertical-align: top;\n",
       "    }\n",
       "\n",
       "    .dataframe thead th {\n",
       "        text-align: right;\n",
       "    }\n",
       "</style>\n",
       "<table border=\"1\" class=\"dataframe\">\n",
       "  <thead>\n",
       "    <tr style=\"text-align: right;\">\n",
       "      <th></th>\n",
       "      <th>date</th>\n",
       "      <th>PERMCO</th>\n",
       "      <th>PERMNO</th>\n",
       "      <th>SICCD</th>\n",
       "      <th>NAICS</th>\n",
       "      <th>DlyRet</th>\n",
       "      <th>sprtrn</th>\n",
       "      <th>sprtrn_lag1</th>\n",
       "    </tr>\n",
       "  </thead>\n",
       "  <tbody>\n",
       "    <tr>\n",
       "      <th>0</th>\n",
       "      <td>2000-01-31</td>\n",
       "      <td>5</td>\n",
       "      <td>15580</td>\n",
       "      <td>6320</td>\n",
       "      <td>0</td>\n",
       "      <td>-0.068182</td>\n",
       "      <td>0.025218</td>\n",
       "      <td>0.000000</td>\n",
       "    </tr>\n",
       "    <tr>\n",
       "      <th>1</th>\n",
       "      <td>2000-01-31</td>\n",
       "      <td>7</td>\n",
       "      <td>14593</td>\n",
       "      <td>3573</td>\n",
       "      <td>0</td>\n",
       "      <td>0.020910</td>\n",
       "      <td>0.025218</td>\n",
       "      <td>0.000000</td>\n",
       "    </tr>\n",
       "    <tr>\n",
       "      <th>2</th>\n",
       "      <td>2000-01-31</td>\n",
       "      <td>25</td>\n",
       "      <td>62770</td>\n",
       "      <td>6711</td>\n",
       "      <td>0</td>\n",
       "      <td>0.041045</td>\n",
       "      <td>0.025218</td>\n",
       "      <td>0.000000</td>\n",
       "    </tr>\n",
       "    <tr>\n",
       "      <th>3</th>\n",
       "      <td>2000-01-31</td>\n",
       "      <td>29</td>\n",
       "      <td>59184</td>\n",
       "      <td>2082</td>\n",
       "      <td>0</td>\n",
       "      <td>0.011236</td>\n",
       "      <td>0.025218</td>\n",
       "      <td>0.000000</td>\n",
       "    </tr>\n",
       "    <tr>\n",
       "      <th>4</th>\n",
       "      <td>2000-01-31</td>\n",
       "      <td>33</td>\n",
       "      <td>59248</td>\n",
       "      <td>2082</td>\n",
       "      <td>0</td>\n",
       "      <td>0.034667</td>\n",
       "      <td>0.025218</td>\n",
       "      <td>0.000000</td>\n",
       "    </tr>\n",
       "    <tr>\n",
       "      <th>...</th>\n",
       "      <td>...</td>\n",
       "      <td>...</td>\n",
       "      <td>...</td>\n",
       "      <td>...</td>\n",
       "      <td>...</td>\n",
       "      <td>...</td>\n",
       "      <td>...</td>\n",
       "      <td>...</td>\n",
       "    </tr>\n",
       "    <tr>\n",
       "      <th>1841513</th>\n",
       "      <td>2000-12-13</td>\n",
       "      <td>16265</td>\n",
       "      <td>86321</td>\n",
       "      <td>6310</td>\n",
       "      <td>0</td>\n",
       "      <td>0.057471</td>\n",
       "      <td>-0.008161</td>\n",
       "      <td>-0.006535</td>\n",
       "    </tr>\n",
       "    <tr>\n",
       "      <th>1841514</th>\n",
       "      <td>2000-12-13</td>\n",
       "      <td>16266</td>\n",
       "      <td>86324</td>\n",
       "      <td>7370</td>\n",
       "      <td>0</td>\n",
       "      <td>-0.063291</td>\n",
       "      <td>-0.008161</td>\n",
       "      <td>-0.006535</td>\n",
       "    </tr>\n",
       "    <tr>\n",
       "      <th>1841515</th>\n",
       "      <td>2000-12-13</td>\n",
       "      <td>16267</td>\n",
       "      <td>86337</td>\n",
       "      <td>3660</td>\n",
       "      <td>0</td>\n",
       "      <td>-0.101449</td>\n",
       "      <td>-0.008161</td>\n",
       "      <td>-0.006535</td>\n",
       "    </tr>\n",
       "    <tr>\n",
       "      <th>1841516</th>\n",
       "      <td>2000-12-13</td>\n",
       "      <td>16268</td>\n",
       "      <td>86339</td>\n",
       "      <td>4899</td>\n",
       "      <td>0</td>\n",
       "      <td>0.009456</td>\n",
       "      <td>-0.008161</td>\n",
       "      <td>-0.006535</td>\n",
       "    </tr>\n",
       "    <tr>\n",
       "      <th>1841517</th>\n",
       "      <td>2000-12-13</td>\n",
       "      <td>16269</td>\n",
       "      <td>86316</td>\n",
       "      <td>6410</td>\n",
       "      <td>0</td>\n",
       "      <td>-0.046512</td>\n",
       "      <td>-0.008161</td>\n",
       "      <td>-0.006535</td>\n",
       "    </tr>\n",
       "  </tbody>\n",
       "</table>\n",
       "<p>1841518 rows × 8 columns</p>\n",
       "</div>"
      ],
      "text/plain": [
       "              date  PERMCO  PERMNO  SICCD  NAICS    DlyRet    sprtrn  \\\n",
       "0       2000-01-31       5   15580   6320      0 -0.068182  0.025218   \n",
       "1       2000-01-31       7   14593   3573      0  0.020910  0.025218   \n",
       "2       2000-01-31      25   62770   6711      0  0.041045  0.025218   \n",
       "3       2000-01-31      29   59184   2082      0  0.011236  0.025218   \n",
       "4       2000-01-31      33   59248   2082      0  0.034667  0.025218   \n",
       "...            ...     ...     ...    ...    ...       ...       ...   \n",
       "1841513 2000-12-13   16265   86321   6310      0  0.057471 -0.008161   \n",
       "1841514 2000-12-13   16266   86324   7370      0 -0.063291 -0.008161   \n",
       "1841515 2000-12-13   16267   86337   3660      0 -0.101449 -0.008161   \n",
       "1841516 2000-12-13   16268   86339   4899      0  0.009456 -0.008161   \n",
       "1841517 2000-12-13   16269   86316   6410      0 -0.046512 -0.008161   \n",
       "\n",
       "         sprtrn_lag1  \n",
       "0           0.000000  \n",
       "1           0.000000  \n",
       "2           0.000000  \n",
       "3           0.000000  \n",
       "4           0.000000  \n",
       "...              ...  \n",
       "1841513    -0.006535  \n",
       "1841514    -0.006535  \n",
       "1841515    -0.006535  \n",
       "1841516    -0.006535  \n",
       "1841517    -0.006535  \n",
       "\n",
       "[1841518 rows x 8 columns]"
      ]
     },
     "execution_count": 3,
     "metadata": {},
     "output_type": "execute_result"
    }
   ],
   "source": [
    "daily = utils.read_daily_returns(path, nrows=2000000, low_quantile=0.005, up_quantile=0.995)\n",
    "daily"
   ]
  },
  {
   "cell_type": "code",
   "execution_count": 4,
   "metadata": {},
   "outputs": [
    {
     "data": {
      "text/plain": [
       "0          2000-01\n",
       "8329       2000-02\n",
       "174757     2000-03\n",
       "365885     2000-04\n",
       "523862     2000-05\n",
       "706883     2000-06\n",
       "889939     2000-07\n",
       "1056371    2000-08\n",
       "1248826    2000-09\n",
       "1415409    2000-10\n",
       "1598244    2000-11\n",
       "1771577    2000-12\n",
       "Name: year_month, dtype: period[M]"
      ]
     },
     "execution_count": 4,
     "metadata": {},
     "output_type": "execute_result"
    }
   ],
   "source": [
    "# Get data frame of unique months\n",
    "daily['year_month'] = daily['date'].dt.to_period('M')\n",
    "unique_months = daily['year_month'].drop_duplicates().sort_values()\n",
    "unique_months"
   ]
  },
  {
   "cell_type": "code",
   "execution_count": 5,
   "metadata": {},
   "outputs": [
    {
     "name": "stdout",
     "output_type": "stream",
     "text": [
      "Training from 2000-01 to 2000-06. Testing on 2000-07.\n",
      "['sprtrn_lag1', 'DlyRet_lag1', 'DlyRet_roll_10', 'DlyRet_roll_20', 'DlyRet_roll_30']\n",
      "Starting training with 435 train batches, 41 test batches\n"
     ]
    },
    {
     "name": "stderr",
     "output_type": "stream",
     "text": [
      "Training:  20%|███████                            | 1/5 [00:15<01:03, 15.99s/it]"
     ]
    },
    {
     "name": "stdout",
     "output_type": "stream",
     "text": [
      "Epoch 1/5, Loss: -0.0791, Train fit: 0.0115, Test fit: -0.0049, Avg Weight: 0.0002, Max Weight: 0.0006\n"
     ]
    },
    {
     "name": "stderr",
     "output_type": "stream",
     "text": [
      "Training:  60%|█████████████████████              | 3/5 [00:46<00:30, 15.49s/it]"
     ]
    },
    {
     "name": "stdout",
     "output_type": "stream",
     "text": [
      "Epoch 3/5, Loss: -0.0855, Train fit: 0.0299, Test fit: 0.0195, Avg Weight: 0.0002, Max Weight: 0.0007\n"
     ]
    },
    {
     "name": "stderr",
     "output_type": "stream",
     "text": [
      "Training: 100%|███████████████████████████████████| 5/5 [01:16<00:00, 15.26s/it]"
     ]
    },
    {
     "name": "stdout",
     "output_type": "stream",
     "text": [
      "Epoch 5/5, Loss: -0.1051, Train fit: 0.0473, Test fit: 0.0409, Avg Weight: 0.0002, Max Weight: 0.0013\n",
      "Training completed! Best test Sharpe ratio: 0.0409\n",
      "Training from 2000-02 to 2000-07. Testing on 2000-08.\n"
     ]
    },
    {
     "name": "stderr",
     "output_type": "stream",
     "text": [
      "\n"
     ]
    },
    {
     "name": "stdout",
     "output_type": "stream",
     "text": [
      "['sprtrn_lag1', 'DlyRet_lag1', 'DlyRet_roll_10', 'DlyRet_roll_20', 'DlyRet_roll_30']\n",
      "Starting training with 512 train batches, 47 test batches\n"
     ]
    },
    {
     "name": "stderr",
     "output_type": "stream",
     "text": [
      "Training:  20%|███████                            | 1/5 [00:21<01:27, 21.87s/it]"
     ]
    },
    {
     "name": "stdout",
     "output_type": "stream",
     "text": [
      "Epoch 1/5, Loss: -0.0774, Train fit: 0.0109, Test fit: 0.0515, Avg Weight: 0.0002, Max Weight: 0.0009\n"
     ]
    },
    {
     "name": "stderr",
     "output_type": "stream",
     "text": [
      "Training:  60%|█████████████████████              | 3/5 [01:00<00:39, 19.92s/it]"
     ]
    },
    {
     "name": "stdout",
     "output_type": "stream",
     "text": [
      "Epoch 3/5, Loss: -0.1012, Train fit: 0.0499, Test fit: 0.0752, Avg Weight: 0.0002, Max Weight: 0.0025\n"
     ]
    },
    {
     "name": "stderr",
     "output_type": "stream",
     "text": [
      "Training: 100%|███████████████████████████████████| 5/5 [01:39<00:00, 19.96s/it]"
     ]
    },
    {
     "name": "stdout",
     "output_type": "stream",
     "text": [
      "Epoch 5/5, Loss: -0.1147, Train fit: 0.0537, Test fit: 0.0769, Avg Weight: 0.0002, Max Weight: 0.0019\n",
      "Training completed! Best test Sharpe ratio: 0.0777\n",
      "Training from 2000-03 to 2000-08. Testing on 2000-09.\n"
     ]
    },
    {
     "name": "stderr",
     "output_type": "stream",
     "text": [
      "\n"
     ]
    },
    {
     "name": "stdout",
     "output_type": "stream",
     "text": [
      "['sprtrn_lag1', 'DlyRet_lag1', 'DlyRet_roll_10', 'DlyRet_roll_20', 'DlyRet_roll_30']\n",
      "Starting training with 525 train batches, 41 test batches\n"
     ]
    },
    {
     "name": "stderr",
     "output_type": "stream",
     "text": [
      "Training:  20%|███████                            | 1/5 [00:19<01:19, 19.76s/it]"
     ]
    },
    {
     "name": "stdout",
     "output_type": "stream",
     "text": [
      "Epoch 1/5, Loss: -0.0760, Train fit: 0.0203, Test fit: -0.0041, Avg Weight: 0.0002, Max Weight: 0.0007\n"
     ]
    },
    {
     "name": "stderr",
     "output_type": "stream",
     "text": [
      "Training:  60%|█████████████████████              | 3/5 [00:59<00:40, 20.07s/it]"
     ]
    },
    {
     "name": "stdout",
     "output_type": "stream",
     "text": [
      "Epoch 3/5, Loss: -0.1051, Train fit: 0.0440, Test fit: 0.0194, Avg Weight: 0.0002, Max Weight: 0.0009\n"
     ]
    },
    {
     "name": "stderr",
     "output_type": "stream",
     "text": [
      "Training: 100%|███████████████████████████████████| 5/5 [01:37<00:00, 19.47s/it]"
     ]
    },
    {
     "name": "stdout",
     "output_type": "stream",
     "text": [
      "Epoch 5/5, Loss: -0.1183, Train fit: 0.0493, Test fit: 0.0230, Avg Weight: 0.0002, Max Weight: 0.0011\n",
      "Training completed! Best test Sharpe ratio: 0.0252\n",
      "Training from 2000-04 to 2000-09. Testing on 2000-10.\n"
     ]
    },
    {
     "name": "stderr",
     "output_type": "stream",
     "text": [
      "\n"
     ]
    },
    {
     "name": "stdout",
     "output_type": "stream",
     "text": [
      "['sprtrn_lag1', 'DlyRet_lag1', 'DlyRet_roll_10', 'DlyRet_roll_20', 'DlyRet_roll_30']\n",
      "Starting training with 513 train batches, 45 test batches\n"
     ]
    },
    {
     "name": "stderr",
     "output_type": "stream",
     "text": [
      "Training:  20%|███████                            | 1/5 [00:19<01:16, 19.05s/it]"
     ]
    },
    {
     "name": "stdout",
     "output_type": "stream",
     "text": [
      "Epoch 1/5, Loss: -0.0697, Train fit: 0.0170, Test fit: -0.0145, Avg Weight: 0.0002, Max Weight: 0.0012\n"
     ]
    },
    {
     "name": "stderr",
     "output_type": "stream",
     "text": [
      "Training:  60%|█████████████████████              | 3/5 [00:58<00:39, 19.72s/it]"
     ]
    },
    {
     "name": "stdout",
     "output_type": "stream",
     "text": [
      "Epoch 3/5, Loss: -0.1072, Train fit: 0.0573, Test fit: 0.0398, Avg Weight: 0.0002, Max Weight: 0.0023\n"
     ]
    },
    {
     "name": "stderr",
     "output_type": "stream",
     "text": [
      "Training: 100%|███████████████████████████████████| 5/5 [01:34<00:00, 18.83s/it]"
     ]
    },
    {
     "name": "stdout",
     "output_type": "stream",
     "text": [
      "Epoch 5/5, Loss: -0.1224, Train fit: 0.0636, Test fit: 0.0451, Avg Weight: 0.0002, Max Weight: 0.0023\n",
      "Training completed! Best test Sharpe ratio: 0.0454\n",
      "Training from 2000-05 to 2000-10. Testing on 2000-11.\n"
     ]
    },
    {
     "name": "stderr",
     "output_type": "stream",
     "text": [
      "\n"
     ]
    },
    {
     "name": "stdout",
     "output_type": "stream",
     "text": [
      "['sprtrn_lag1', 'DlyRet_lag1', 'DlyRet_roll_10', 'DlyRet_roll_20', 'DlyRet_roll_30']\n",
      "Starting training with 525 train batches, 43 test batches\n"
     ]
    },
    {
     "name": "stderr",
     "output_type": "stream",
     "text": [
      "Training:  20%|███████                            | 1/5 [00:18<01:12, 18.02s/it]"
     ]
    },
    {
     "name": "stdout",
     "output_type": "stream",
     "text": [
      "Epoch 1/5, Loss: -0.0664, Train fit: 0.0109, Test fit: -0.0541, Avg Weight: 0.0002, Max Weight: 0.0038\n"
     ]
    },
    {
     "name": "stderr",
     "output_type": "stream",
     "text": [
      "Training:  60%|█████████████████████              | 3/5 [00:54<00:36, 18.23s/it]"
     ]
    },
    {
     "name": "stdout",
     "output_type": "stream",
     "text": [
      "Epoch 3/5, Loss: -0.1082, Train fit: 0.0566, Test fit: -0.0005, Avg Weight: 0.0002, Max Weight: 0.0037\n"
     ]
    },
    {
     "name": "stderr",
     "output_type": "stream",
     "text": [
      "Training: 100%|███████████████████████████████████| 5/5 [01:34<00:00, 18.87s/it]"
     ]
    },
    {
     "name": "stdout",
     "output_type": "stream",
     "text": [
      "Epoch 5/5, Loss: -0.1236, Train fit: 0.0651, Test fit: 0.0123, Avg Weight: 0.0002, Max Weight: 0.0042\n",
      "Training completed! Best test Sharpe ratio: 0.0123\n",
      "Training from 2000-06 to 2000-11. Testing on 2000-12.\n"
     ]
    },
    {
     "name": "stderr",
     "output_type": "stream",
     "text": [
      "\n"
     ]
    },
    {
     "name": "stdout",
     "output_type": "stream",
     "text": [
      "['sprtrn_lag1', 'DlyRet_lag1', 'DlyRet_roll_10', 'DlyRet_roll_20', 'DlyRet_roll_30']\n",
      "Starting training with 520 train batches, 18 test batches\n"
     ]
    },
    {
     "name": "stderr",
     "output_type": "stream",
     "text": [
      "Training:  20%|███████                            | 1/5 [00:17<01:11, 17.84s/it]"
     ]
    },
    {
     "name": "stdout",
     "output_type": "stream",
     "text": [
      "Epoch 1/5, Loss: -0.0710, Train fit: 0.0102, Test fit: 0.0308, Avg Weight: 0.0003, Max Weight: 0.0219\n"
     ]
    },
    {
     "name": "stderr",
     "output_type": "stream",
     "text": [
      "Training:  60%|█████████████████████              | 3/5 [00:52<00:35, 17.71s/it]"
     ]
    },
    {
     "name": "stdout",
     "output_type": "stream",
     "text": [
      "Epoch 3/5, Loss: -0.1099, Train fit: 0.0549, Test fit: 0.0597, Avg Weight: 0.0003, Max Weight: 0.0200\n"
     ]
    },
    {
     "name": "stderr",
     "output_type": "stream",
     "text": [
      "Training: 100%|███████████████████████████████████| 5/5 [01:31<00:00, 18.26s/it]"
     ]
    },
    {
     "name": "stdout",
     "output_type": "stream",
     "text": [
      "Epoch 5/5, Loss: -0.1216, Train fit: 0.0616, Test fit: 0.0609, Avg Weight: 0.0003, Max Weight: 0.0220\n",
      "Training completed! Best test Sharpe ratio: 0.0629\n"
     ]
    },
    {
     "name": "stderr",
     "output_type": "stream",
     "text": [
      "\n"
     ]
    }
   ],
   "source": [
    "# Keeping track of the return over all the data\n",
    "reload(utils)\n",
    "all_strategy_returns = []\n",
    "\n",
    "for i in range(0, len(unique_months) - 6):\n",
    "\n",
    "    # Train on 6 months of data and test on 1 month\n",
    "    train_start = unique_months.iloc[i]\n",
    "    train_end = unique_months.iloc[i+5]\n",
    "    test_month = unique_months.iloc[i+6]\n",
    "\n",
    "    print(f'Training from {train_start} to {train_end}. Testing on {test_month}.')\n",
    "    \n",
    "    # Filter data\n",
    "    train_mask = (daily['year_month'] >= train_start) & (daily['year_month'] <= train_end)\n",
    "    test_mask = daily['year_month'] == test_month\n",
    "\n",
    "    tr_df = daily[train_mask].copy()\n",
    "    te_df = daily[test_mask].copy()\n",
    "\n",
    "    # Prepare the data: construct lagged returns, rolling window averages\n",
    "    train_df, test_df, features, cat_features = utils.prepare_data(tr_df, te_df, lagged_num=1, rolling_window=True)\n",
    "   \n",
    "    epochs = 4 # It appears it is the ideal trade-off between precision and runtime\n",
    "    max_weight = 0.05  # No stock >5% weight\n",
    "    diversification_lambda = 0.01  # Strength of penalty\n",
    "    temperature = 1.0  # Softmax temperature (lower = more diversification)\n",
    "    train_losses, test_losses, train_sharpes, test_sharpes, raw_predictions, weights = utils.train_DNN(train_df, test_df, features, cat_features, \n",
    "                                                                                                   epochs=epochs, max_weight=max_weight, \n",
    "                                                                                                   diversification_lambda=diversification_lambda, \n",
    "                                                                                                   temperature=temperature)\n",
    "    # Deduct transaction costs \n",
    "    TC_RATE = 0.003 # 0.30% of traded notional value\n",
    "    alpha = 100\n",
    "\n",
    "    test_df['weight'] = weights.values\n",
    "    test_df['weight_change'] = np.abs(test_df['weight'].diff().fillna(0.0))\n",
    "    test_df['tc_cost'] = test_df['weight_change'].apply(lambda x: utils.progressive_cost(x, base_tc=TC_RATE, alpha=alpha))\n",
    "    test_df['strategy_return'] = test_df['weight'] * test_df['DlyRet'] - test_df['tc_cost']\n",
    "    mean_daily_returns = test_df.groupby('date')['strategy_return'].sum()\n",
    "\n",
    "    all_strategy_returns.append(mean_daily_returns)\n",
    "    gc.collect() # Memory clean-up\n",
    "\n",
    "# Concatenate all windows into one Series\n",
    "combined_returns = pd.concat(all_strategy_returns)\n",
    "\n"
   ]
  },
  {
   "cell_type": "code",
   "execution_count": 6,
   "metadata": {},
   "outputs": [
    {
     "data": {
      "image/png": "[encoded data removed]",
      "text/plain": [
       "<Figure size 1000x600 with 1 Axes>"
      ]
     },
     "metadata": {},
     "output_type": "display_data"
    }
   ],
   "source": [
    "# Plot the cumulative returns of the strategy and compare with the S&P 500 index\n",
    "cumulative_returns = (1 + combined_returns).cumprod() \n",
    "sp_ret = daily.groupby('date')['sprtrn'].mean()\n",
    "\n",
    "strat_start = unique_months.iloc[6].to_timestamp()\n",
    "sp_ret = sp_ret.loc[strat_start:]\n",
    "\n",
    "cumulative_sp500 = (1 + sp_ret).cumprod()\n",
    "\n",
    "# Combine into a single DataFrame for easy plotting\n",
    "combined = pd.DataFrame({\n",
    "    'Strategy': cumulative_returns,\n",
    "    'S&P 500': cumulative_sp500\n",
    "})\n",
    "\n",
    "# Sharpe ratio\n",
    "strat_sharpe = utils.compute_sharpe(combined_returns)\n",
    "sp_sharpe = utils.compute_sharpe(sp_ret)\n",
    "\n",
    "# Plot\n",
    "combined.plot(figsize=(10, 6), title=f'Cumulative Returns: Strategy (Sharpe={strat_sharpe:.2f}) vs S&P 500 (Sharpe={sp_sharpe:.2f}) ')\n",
    "plt.ylabel('Cumulative Return')\n",
    "plt.grid(True)\n",
    "plt.show()"
   ]
  },
  {
   "cell_type": "markdown",
   "metadata": {},
   "source": [
    "# ------------------------------------------------------------------------------------------------------------------"
   ]
  },
  {
   "cell_type": "markdown",
   "metadata": {},
   "source": [
    "# Let's add firm characteristics"
   ]
  },
  {
   "cell_type": "code",
   "execution_count": 7,
   "metadata": {},
   "outputs": [
    {
     "name": "stderr",
     "output_type": "stream",
     "text": [
      "Processing PERMNOs: 100%|████████████████| 14465/14465 [00:34<00:00, 414.21it/s]\n"
     ]
    },
    {
     "data": {
      "text/html": [
       "<div>\n",
       "<style scoped>\n",
       "    .dataframe tbody tr th:only-of-type {\n",
       "        vertical-align: middle;\n",
       "    }\n",
       "\n",
       "    .dataframe tbody tr th {\n",
       "        vertical-align: top;\n",
       "    }\n",
       "\n",
       "    .dataframe thead th {\n",
       "        text-align: right;\n",
       "    }\n",
       "</style>\n",
       "<table border=\"1\" class=\"dataframe\">\n",
       "  <thead>\n",
       "    <tr style=\"text-align: right;\">\n",
       "      <th></th>\n",
       "      <th>date</th>\n",
       "      <th>PERMCO</th>\n",
       "      <th>PERMNO</th>\n",
       "      <th>SICCD</th>\n",
       "      <th>NAICS</th>\n",
       "      <th>DlyRet</th>\n",
       "      <th>sprtrn</th>\n",
       "      <th>sprtrn_lag1</th>\n",
       "      <th>year_month</th>\n",
       "      <th>pls_index</th>\n",
       "    </tr>\n",
       "  </thead>\n",
       "  <tbody>\n",
       "    <tr>\n",
       "      <th>0</th>\n",
       "      <td>2000-01-31</td>\n",
       "      <td>7975</td>\n",
       "      <td>10025</td>\n",
       "      <td>3070</td>\n",
       "      <td>0</td>\n",
       "      <td>0.025126</td>\n",
       "      <td>0.025218</td>\n",
       "      <td>0.000000</td>\n",
       "      <td>2000-01</td>\n",
       "      <td>-2.952353</td>\n",
       "    </tr>\n",
       "    <tr>\n",
       "      <th>1</th>\n",
       "      <td>2000-02-01</td>\n",
       "      <td>7975</td>\n",
       "      <td>10025</td>\n",
       "      <td>3070</td>\n",
       "      <td>0</td>\n",
       "      <td>0.019608</td>\n",
       "      <td>0.010628</td>\n",
       "      <td>0.025218</td>\n",
       "      <td>2000-02</td>\n",
       "      <td>-2.250024</td>\n",
       "    </tr>\n",
       "    <tr>\n",
       "      <th>2</th>\n",
       "      <td>2000-02-02</td>\n",
       "      <td>7975</td>\n",
       "      <td>10025</td>\n",
       "      <td>3070</td>\n",
       "      <td>0</td>\n",
       "      <td>0.030769</td>\n",
       "      <td>-0.000114</td>\n",
       "      <td>0.010628</td>\n",
       "      <td>2000-02</td>\n",
       "      <td>-2.250024</td>\n",
       "    </tr>\n",
       "    <tr>\n",
       "      <th>3</th>\n",
       "      <td>2000-02-03</td>\n",
       "      <td>7975</td>\n",
       "      <td>10025</td>\n",
       "      <td>3070</td>\n",
       "      <td>0</td>\n",
       "      <td>0.000000</td>\n",
       "      <td>0.011248</td>\n",
       "      <td>-0.000114</td>\n",
       "      <td>2000-02</td>\n",
       "      <td>-2.250024</td>\n",
       "    </tr>\n",
       "    <tr>\n",
       "      <th>4</th>\n",
       "      <td>2000-02-04</td>\n",
       "      <td>7975</td>\n",
       "      <td>10025</td>\n",
       "      <td>3070</td>\n",
       "      <td>0</td>\n",
       "      <td>0.007463</td>\n",
       "      <td>-0.000421</td>\n",
       "      <td>0.011248</td>\n",
       "      <td>2000-02</td>\n",
       "      <td>-2.250024</td>\n",
       "    </tr>\n",
       "    <tr>\n",
       "      <th>...</th>\n",
       "      <td>...</td>\n",
       "      <td>...</td>\n",
       "      <td>...</td>\n",
       "      <td>...</td>\n",
       "      <td>...</td>\n",
       "      <td>...</td>\n",
       "      <td>...</td>\n",
       "      <td>...</td>\n",
       "      <td>...</td>\n",
       "      <td>...</td>\n",
       "    </tr>\n",
       "    <tr>\n",
       "      <th>1568407</th>\n",
       "      <td>2000-12-06</td>\n",
       "      <td>18404</td>\n",
       "      <td>87759</td>\n",
       "      <td>3860</td>\n",
       "      <td>0</td>\n",
       "      <td>0.006250</td>\n",
       "      <td>-0.018220</td>\n",
       "      <td>0.038922</td>\n",
       "      <td>2000-12</td>\n",
       "      <td>-3.378646</td>\n",
       "    </tr>\n",
       "    <tr>\n",
       "      <th>1568408</th>\n",
       "      <td>2000-12-07</td>\n",
       "      <td>18404</td>\n",
       "      <td>87759</td>\n",
       "      <td>3860</td>\n",
       "      <td>0</td>\n",
       "      <td>-0.031056</td>\n",
       "      <td>-0.005853</td>\n",
       "      <td>-0.018220</td>\n",
       "      <td>2000-12</td>\n",
       "      <td>-3.378646</td>\n",
       "    </tr>\n",
       "    <tr>\n",
       "      <th>1568409</th>\n",
       "      <td>2000-12-08</td>\n",
       "      <td>18404</td>\n",
       "      <td>87759</td>\n",
       "      <td>3860</td>\n",
       "      <td>0</td>\n",
       "      <td>0.000000</td>\n",
       "      <td>0.019605</td>\n",
       "      <td>-0.005853</td>\n",
       "      <td>2000-12</td>\n",
       "      <td>-3.378646</td>\n",
       "    </tr>\n",
       "    <tr>\n",
       "      <th>1568410</th>\n",
       "      <td>2000-12-11</td>\n",
       "      <td>18404</td>\n",
       "      <td>87759</td>\n",
       "      <td>3860</td>\n",
       "      <td>0</td>\n",
       "      <td>0.000000</td>\n",
       "      <td>0.007526</td>\n",
       "      <td>0.019605</td>\n",
       "      <td>2000-12</td>\n",
       "      <td>-3.378646</td>\n",
       "    </tr>\n",
       "    <tr>\n",
       "      <th>1568411</th>\n",
       "      <td>2000-12-12</td>\n",
       "      <td>18404</td>\n",
       "      <td>87759</td>\n",
       "      <td>3860</td>\n",
       "      <td>0</td>\n",
       "      <td>0.012821</td>\n",
       "      <td>-0.006535</td>\n",
       "      <td>0.007526</td>\n",
       "      <td>2000-12</td>\n",
       "      <td>-3.378646</td>\n",
       "    </tr>\n",
       "  </tbody>\n",
       "</table>\n",
       "<p>1568412 rows × 10 columns</p>\n",
       "</div>"
      ],
      "text/plain": [
       "              date  PERMCO  PERMNO  SICCD  NAICS    DlyRet    sprtrn  \\\n",
       "0       2000-01-31    7975   10025   3070      0  0.025126  0.025218   \n",
       "1       2000-02-01    7975   10025   3070      0  0.019608  0.010628   \n",
       "2       2000-02-02    7975   10025   3070      0  0.030769 -0.000114   \n",
       "3       2000-02-03    7975   10025   3070      0  0.000000  0.011248   \n",
       "4       2000-02-04    7975   10025   3070      0  0.007463 -0.000421   \n",
       "...            ...     ...     ...    ...    ...       ...       ...   \n",
       "1568407 2000-12-06   18404   87759   3860      0  0.006250 -0.018220   \n",
       "1568408 2000-12-07   18404   87759   3860      0 -0.031056 -0.005853   \n",
       "1568409 2000-12-08   18404   87759   3860      0  0.000000  0.019605   \n",
       "1568410 2000-12-11   18404   87759   3860      0  0.000000  0.007526   \n",
       "1568411 2000-12-12   18404   87759   3860      0  0.012821 -0.006535   \n",
       "\n",
       "         sprtrn_lag1 year_month  pls_index  \n",
       "0           0.000000    2000-01  -2.952353  \n",
       "1           0.025218    2000-02  -2.250024  \n",
       "2           0.010628    2000-02  -2.250024  \n",
       "3          -0.000114    2000-02  -2.250024  \n",
       "4           0.011248    2000-02  -2.250024  \n",
       "...              ...        ...        ...  \n",
       "1568407     0.038922    2000-12  -3.378646  \n",
       "1568408    -0.018220    2000-12  -3.378646  \n",
       "1568409    -0.005853    2000-12  -3.378646  \n",
       "1568410     0.019605    2000-12  -3.378646  \n",
       "1568411     0.007526    2000-12  -3.378646  \n",
       "\n",
       "[1568412 rows x 10 columns]"
      ]
     },
     "execution_count": 7,
     "metadata": {},
     "output_type": "execute_result"
    }
   ],
   "source": [
    "index = pd.read_csv('Predictors/FirmCharacIndex.csv')\n",
    "gc.collect()\n",
    "merged_data = utils.memory_efficient_merge(index, daily)\n",
    "merged_data = merged_data.drop(columns=['PERMNO_y'])\n",
    "merged_data = merged_data.rename(columns={'PERMNO_x': 'PERMNO'})\n",
    "merged_data"
   ]
  },
  {
   "cell_type": "code",
   "execution_count": 8,
   "metadata": {},
   "outputs": [
    {
     "name": "stdout",
     "output_type": "stream",
     "text": [
      "Training from 2000-01 to 2000-06. Testing on 2000-07.\n",
      "['sprtrn_lag1', 'pls_index', 'DlyRet_lag1', 'DlyRet_roll_10', 'DlyRet_roll_20', 'DlyRet_roll_30']\n",
      "Starting training with 372 train batches, 35 test batches\n"
     ]
    },
    {
     "name": "stderr",
     "output_type": "stream",
     "text": [
      "Training:  20%|███████                            | 1/5 [00:14<00:59, 14.83s/it]"
     ]
    },
    {
     "name": "stdout",
     "output_type": "stream",
     "text": [
      "Epoch 1/5, Loss: -0.0861, Train fit: 0.0201, Test fit: 0.0117, Avg Weight: 0.0002, Max Weight: 0.0063\n"
     ]
    },
    {
     "name": "stderr",
     "output_type": "stream",
     "text": [
      "Training:  60%|█████████████████████              | 3/5 [00:41<00:27, 13.64s/it]"
     ]
    },
    {
     "name": "stdout",
     "output_type": "stream",
     "text": [
      "Epoch 3/5, Loss: -0.1082, Train fit: 0.0447, Test fit: 0.0255, Avg Weight: 0.0002, Max Weight: 0.0177\n"
     ]
    },
    {
     "name": "stderr",
     "output_type": "stream",
     "text": [
      "Training: 100%|███████████████████████████████████| 5/5 [01:09<00:00, 13.99s/it]"
     ]
    },
    {
     "name": "stdout",
     "output_type": "stream",
     "text": [
      "Epoch 5/5, Loss: -0.1282, Train fit: 0.0579, Test fit: 0.0372, Avg Weight: 0.0002, Max Weight: 0.0157\n",
      "Training completed! Best test Sharpe ratio: 0.0372\n",
      "Training from 2000-02 to 2000-07. Testing on 2000-08.\n"
     ]
    },
    {
     "name": "stderr",
     "output_type": "stream",
     "text": [
      "\n"
     ]
    },
    {
     "name": "stdout",
     "output_type": "stream",
     "text": [
      "['sprtrn_lag1', 'pls_index', 'DlyRet_lag1', 'DlyRet_roll_10', 'DlyRet_roll_20', 'DlyRet_roll_30']\n",
      "Starting training with 438 train batches, 41 test batches\n"
     ]
    },
    {
     "name": "stderr",
     "output_type": "stream",
     "text": [
      "Training:  20%|███████                            | 1/5 [00:16<01:07, 16.90s/it]"
     ]
    },
    {
     "name": "stdout",
     "output_type": "stream",
     "text": [
      "Epoch 1/5, Loss: -0.0869, Train fit: 0.0167, Test fit: 0.0499, Avg Weight: 0.0003, Max Weight: 0.0222\n"
     ]
    },
    {
     "name": "stderr",
     "output_type": "stream",
     "text": [
      "Training:  60%|█████████████████████              | 3/5 [00:52<00:35, 17.70s/it]"
     ]
    },
    {
     "name": "stdout",
     "output_type": "stream",
     "text": [
      "Epoch 3/5, Loss: -0.1189, Train fit: 0.0427, Test fit: 0.0666, Avg Weight: 0.0003, Max Weight: 0.0400\n"
     ]
    },
    {
     "name": "stderr",
     "output_type": "stream",
     "text": [
      "Training: 100%|███████████████████████████████████| 5/5 [01:23<00:00, 16.72s/it]"
     ]
    },
    {
     "name": "stdout",
     "output_type": "stream",
     "text": [
      "Epoch 5/5, Loss: -0.1297, Train fit: 0.0540, Test fit: 0.0659, Avg Weight: 0.0003, Max Weight: 0.0400\n",
      "Training completed! Best test Sharpe ratio: 0.0666\n",
      "Training from 2000-03 to 2000-08. Testing on 2000-09.\n"
     ]
    },
    {
     "name": "stderr",
     "output_type": "stream",
     "text": [
      "\n"
     ]
    },
    {
     "name": "stdout",
     "output_type": "stream",
     "text": [
      "['sprtrn_lag1', 'pls_index', 'DlyRet_lag1', 'DlyRet_roll_10', 'DlyRet_roll_20', 'DlyRet_roll_30']\n",
      "Starting training with 448 train batches, 35 test batches\n"
     ]
    },
    {
     "name": "stderr",
     "output_type": "stream",
     "text": [
      "Training:  20%|███████                            | 1/5 [00:17<01:11, 17.92s/it]"
     ]
    },
    {
     "name": "stdout",
     "output_type": "stream",
     "text": [
      "Epoch 1/5, Loss: -0.0927, Train fit: 0.0229, Test fit: -0.0095, Avg Weight: 0.0002, Max Weight: 0.0014\n"
     ]
    },
    {
     "name": "stderr",
     "output_type": "stream",
     "text": [
      "Training:  60%|█████████████████████              | 3/5 [00:54<00:36, 18.36s/it]"
     ]
    },
    {
     "name": "stdout",
     "output_type": "stream",
     "text": [
      "Epoch 3/5, Loss: -0.1265, Train fit: 0.0506, Test fit: 0.0215, Avg Weight: 0.0002, Max Weight: 0.0027\n"
     ]
    },
    {
     "name": "stderr",
     "output_type": "stream",
     "text": [
      "Training: 100%|███████████████████████████████████| 5/5 [01:29<00:00, 17.92s/it]"
     ]
    },
    {
     "name": "stdout",
     "output_type": "stream",
     "text": [
      "Epoch 5/5, Loss: -0.1364, Train fit: 0.0564, Test fit: 0.0284, Avg Weight: 0.0002, Max Weight: 0.0028\n",
      "Training completed! Best test Sharpe ratio: 0.0284\n",
      "Training from 2000-04 to 2000-09. Testing on 2000-10.\n"
     ]
    },
    {
     "name": "stderr",
     "output_type": "stream",
     "text": [
      "\n"
     ]
    },
    {
     "name": "stdout",
     "output_type": "stream",
     "text": [
      "['sprtrn_lag1', 'pls_index', 'DlyRet_lag1', 'DlyRet_roll_10', 'DlyRet_roll_20', 'DlyRet_roll_30']\n",
      "Starting training with 438 train batches, 38 test batches\n"
     ]
    },
    {
     "name": "stderr",
     "output_type": "stream",
     "text": [
      "Training:  20%|███████                            | 1/5 [00:14<00:59, 14.80s/it]"
     ]
    },
    {
     "name": "stdout",
     "output_type": "stream",
     "text": [
      "Epoch 1/5, Loss: -0.0841, Train fit: 0.0170, Test fit: -0.0115, Avg Weight: 0.0002, Max Weight: 0.0029\n"
     ]
    },
    {
     "name": "stderr",
     "output_type": "stream",
     "text": [
      "Training:  60%|█████████████████████              | 3/5 [00:49<00:33, 16.96s/it]"
     ]
    },
    {
     "name": "stdout",
     "output_type": "stream",
     "text": [
      "Epoch 3/5, Loss: -0.1196, Train fit: 0.0524, Test fit: 0.0374, Avg Weight: 0.0002, Max Weight: 0.0031\n"
     ]
    },
    {
     "name": "stderr",
     "output_type": "stream",
     "text": [
      "Training: 100%|███████████████████████████████████| 5/5 [01:23<00:00, 16.69s/it]"
     ]
    },
    {
     "name": "stdout",
     "output_type": "stream",
     "text": [
      "Epoch 5/5, Loss: -0.1295, Train fit: 0.0570, Test fit: 0.0435, Avg Weight: 0.0002, Max Weight: 0.0036\n",
      "Training completed! Best test Sharpe ratio: 0.0435\n",
      "Training from 2000-05 to 2000-10. Testing on 2000-11.\n"
     ]
    },
    {
     "name": "stderr",
     "output_type": "stream",
     "text": [
      "\n"
     ]
    },
    {
     "name": "stdout",
     "output_type": "stream",
     "text": [
      "['sprtrn_lag1', 'pls_index', 'DlyRet_lag1', 'DlyRet_roll_10', 'DlyRet_roll_20', 'DlyRet_roll_30']\n",
      "Starting training with 447 train batches, 36 test batches\n"
     ]
    },
    {
     "name": "stderr",
     "output_type": "stream",
     "text": [
      "Training:  20%|███████                            | 1/5 [00:16<01:04, 16.05s/it]"
     ]
    },
    {
     "name": "stdout",
     "output_type": "stream",
     "text": [
      "Epoch 1/5, Loss: -0.0848, Train fit: 0.0323, Test fit: -0.0366, Avg Weight: 0.0002, Max Weight: 0.0019\n"
     ]
    },
    {
     "name": "stderr",
     "output_type": "stream",
     "text": [
      "Training:  60%|█████████████████████              | 3/5 [00:47<00:31, 15.71s/it]"
     ]
    },
    {
     "name": "stdout",
     "output_type": "stream",
     "text": [
      "Epoch 3/5, Loss: -0.1269, Train fit: 0.0565, Test fit: 0.0023, Avg Weight: 0.0002, Max Weight: 0.0027\n"
     ]
    },
    {
     "name": "stderr",
     "output_type": "stream",
     "text": [
      "Training: 100%|███████████████████████████████████| 5/5 [01:16<00:00, 15.38s/it]"
     ]
    },
    {
     "name": "stdout",
     "output_type": "stream",
     "text": [
      "Epoch 5/5, Loss: -0.1331, Train fit: 0.0584, Test fit: 0.0102, Avg Weight: 0.0002, Max Weight: 0.0025\n",
      "Training completed! Best test Sharpe ratio: 0.0102\n",
      "Training from 2000-06 to 2000-11. Testing on 2000-12.\n"
     ]
    },
    {
     "name": "stderr",
     "output_type": "stream",
     "text": [
      "\n"
     ]
    },
    {
     "name": "stdout",
     "output_type": "stream",
     "text": [
      "['sprtrn_lag1', 'pls_index', 'DlyRet_lag1', 'DlyRet_roll_10', 'DlyRet_roll_20', 'DlyRet_roll_30']\n",
      "Starting training with 442 train batches, 15 test batches\n"
     ]
    },
    {
     "name": "stderr",
     "output_type": "stream",
     "text": [
      "Training:  20%|███████                            | 1/5 [00:14<00:56, 14.10s/it]"
     ]
    },
    {
     "name": "stdout",
     "output_type": "stream",
     "text": [
      "Epoch 1/5, Loss: -0.0759, Train fit: 0.0089, Test fit: 0.0725, Avg Weight: 0.0003, Max Weight: 0.0044\n"
     ]
    },
    {
     "name": "stderr",
     "output_type": "stream",
     "text": [
      "Training:  60%|█████████████████████              | 3/5 [00:45<00:30, 15.47s/it]"
     ]
    },
    {
     "name": "stdout",
     "output_type": "stream",
     "text": [
      "Epoch 3/5, Loss: -0.1133, Train fit: 0.0490, Test fit: 0.0853, Avg Weight: 0.0003, Max Weight: 0.0047\n"
     ]
    },
    {
     "name": "stderr",
     "output_type": "stream",
     "text": [
      "Training: 100%|███████████████████████████████████| 5/5 [01:16<00:00, 15.24s/it]"
     ]
    },
    {
     "name": "stdout",
     "output_type": "stream",
     "text": [
      "Epoch 5/5, Loss: -0.1225, Train fit: 0.0522, Test fit: 0.0916, Avg Weight: 0.0003, Max Weight: 0.0049\n",
      "Training completed! Best test Sharpe ratio: 0.0916\n"
     ]
    },
    {
     "name": "stderr",
     "output_type": "stream",
     "text": [
      "\n"
     ]
    }
   ],
   "source": [
    "# Keeping track of the return over all the data\n",
    "reload(utils)\n",
    "all_strategy_returns = []\n",
    "\n",
    "for i in range(0, len(unique_months) - 6):\n",
    "\n",
    "    # Train on 6 months of data and test on 1 month\n",
    "    train_start = unique_months.iloc[i]\n",
    "    train_end = unique_months.iloc[i+5]\n",
    "    test_month = unique_months.iloc[i+6]\n",
    "\n",
    "    print(f'Training from {train_start} to {train_end}. Testing on {test_month}.')\n",
    "    \n",
    "    # Filter data\n",
    "    train_mask = (merged_data['year_month'] >= train_start) & (merged_data['year_month'] <= train_end)\n",
    "    test_mask = merged_data['year_month'] == test_month\n",
    "\n",
    "    tr_df = merged_data[train_mask].copy()\n",
    "    te_df = merged_data[test_mask].copy()\n",
    "\n",
    "    # Prepare the data: construct lagged returns, rolling window averages\n",
    "    train_df, test_df, features, cat_features = utils.prepare_data(tr_df, te_df, lagged_num=1, rolling_window=True)\n",
    "   \n",
    "    epochs = 5\n",
    "    max_weight = 0.05  # No stock >5% weight\n",
    "    diversification_lambda = 0.01  # Strength of penalty\n",
    "    temperature = 1.0  # Softmax temperature (lower = more diversification)\n",
    "    train_losses, test_losses, train_sharpes, test_sharpes, raw_predictions, weights = utils.train_DNN(train_df, test_df, features, cat_features, \n",
    "                                                                                                   epochs=epochs, max_weight=max_weight, \n",
    "                                                                                                   diversification_lambda=diversification_lambda, \n",
    "                                                                                                   temperature=temperature)\n",
    "    # Deduct transaction costs \n",
    "    TC_RATE = 0.003 # 0.30% of traded notional value\n",
    "    alpha = 100\n",
    "\n",
    "    test_df['weight'] = weights.values\n",
    "    test_df['weight_change'] = np.abs(test_df['weight'].diff().fillna(0.0))\n",
    "    test_df['tc_cost'] = test_df['weight_change'].apply(lambda x: utils.progressive_cost(x, base_tc=TC_RATE, alpha=alpha))\n",
    "    test_df['strategy_return'] = test_df['weight'] * test_df['DlyRet'] - test_df['tc_cost']\n",
    "    mean_daily_returns = test_df.groupby('date')['strategy_return'].sum()\n",
    "\n",
    "    all_strategy_returns.append(mean_daily_returns)\n",
    "    gc.collect() # Memory clean-up\n",
    "\n",
    "# Concatenate all windows into one Series\n",
    "combined_returns = pd.concat(all_strategy_returns)\n",
    "\n"
   ]
  },
  {
   "cell_type": "code",
   "execution_count": 9,
   "metadata": {},
   "outputs": [
    {
     "data": {
      "image/png": "[encoded data removed]",
      "text/plain": [
       "<Figure size 1000x600 with 1 Axes>"
      ]
     },
     "metadata": {},
     "output_type": "display_data"
    }
   ],
   "source": [
    "# Plot the cumulative returns of the strategy and compare with the S&P 500 index\n",
    "cumulative_returns = (1 + combined_returns).cumprod() \n",
    "sp_ret = daily.groupby('date')['sprtrn'].mean()\n",
    "\n",
    "strat_start = unique_months.iloc[6].to_timestamp()\n",
    "sp_ret = sp_ret.loc[strat_start:]\n",
    "\n",
    "cumulative_sp500 = (1 + sp_ret).cumprod()\n",
    "\n",
    "# Combine into a single DataFrame for easy plotting\n",
    "combined = pd.DataFrame({\n",
    "    'Strategy': cumulative_returns,\n",
    "    'S&P 500': cumulative_sp500\n",
    "})\n",
    "\n",
    "# Sharpe ratio\n",
    "strat_sharpe = utils.compute_sharpe(combined_returns)\n",
    "sp_sharpe = utils.compute_sharpe(sp_ret)\n",
    "\n",
    "# Plot\n",
    "combined.plot(figsize=(10, 6), title=f'Cumulative Returns: Strategy (Sharpe={strat_sharpe:.2f}) vs S&P 500 (Sharpe={sp_sharpe:.2f}) ')\n",
    "plt.ylabel('Cumulative Return')\n",
    "plt.grid(True)\n",
    "plt.show()"
   ]
  },
  {
   "cell_type": "markdown",
   "metadata": {},
   "source": [
    "# Let's use linear rank loss instead"
   ]
  },
  {
   "cell_type": "code",
   "execution_count": 10,
   "metadata": {},
   "outputs": [
    {
     "name": "stdout",
     "output_type": "stream",
     "text": [
      "Training from 2000-01 to 2000-06. Testing on 2000-07.\n",
      "['sprtrn_lag1', 'pls_index', 'DlyRet_lag1', 'DlyRet_roll_10', 'DlyRet_roll_20', 'DlyRet_roll_30']\n",
      "Starting training with 372 train batches, 35 test batches\n"
     ]
    },
    {
     "name": "stderr",
     "output_type": "stream",
     "text": [
      "Training:  17%|█████▊                             | 1/6 [00:26<02:14, 27.00s/it]"
     ]
    },
    {
     "name": "stdout",
     "output_type": "stream",
     "text": [
      "Epoch 1/6, Loss: -0.0054, Train fit: 0.0122, Test fit: 0.0084, Avg Weight: 0.0002, Max Weight: 0.0119\n"
     ]
    },
    {
     "name": "stderr",
     "output_type": "stream",
     "text": [
      "Training:  50%|█████████████████▌                 | 3/6 [01:15<01:13, 24.64s/it]"
     ]
    },
    {
     "name": "stdout",
     "output_type": "stream",
     "text": [
      "Epoch 3/6, Loss: -0.0111, Train fit: 0.0147, Test fit: 0.0125, Avg Weight: 0.0002, Max Weight: 0.0120\n"
     ]
    },
    {
     "name": "stderr",
     "output_type": "stream",
     "text": [
      "Training:  83%|█████████████████████████████▏     | 5/6 [02:05<00:24, 24.82s/it]"
     ]
    },
    {
     "name": "stdout",
     "output_type": "stream",
     "text": [
      "Epoch 5/6, Loss: -0.0134, Train fit: 0.0187, Test fit: 0.0133, Avg Weight: 0.0002, Max Weight: 0.0120\n"
     ]
    },
    {
     "name": "stderr",
     "output_type": "stream",
     "text": [
      "Training: 100%|███████████████████████████████████| 6/6 [02:30<00:00, 25.04s/it]"
     ]
    },
    {
     "name": "stdout",
     "output_type": "stream",
     "text": [
      "Epoch 6/6, Loss: -0.0175, Train fit: 0.0304, Test fit: 0.0197, Avg Weight: 0.0002, Max Weight: 0.0120\n",
      "Training completed! Best test Sharpe ratio: 0.0197\n",
      "Training from 2000-02 to 2000-07. Testing on 2000-08.\n"
     ]
    },
    {
     "name": "stderr",
     "output_type": "stream",
     "text": [
      "\n"
     ]
    },
    {
     "name": "stdout",
     "output_type": "stream",
     "text": [
      "['sprtrn_lag1', 'pls_index', 'DlyRet_lag1', 'DlyRet_roll_10', 'DlyRet_roll_20', 'DlyRet_roll_30']\n",
      "Starting training with 438 train batches, 41 test batches\n"
     ]
    },
    {
     "name": "stderr",
     "output_type": "stream",
     "text": [
      "Training:  17%|█████▊                             | 1/6 [00:28<02:23, 28.78s/it]"
     ]
    },
    {
     "name": "stdout",
     "output_type": "stream",
     "text": [
      "Epoch 1/6, Loss: -0.0068, Train fit: 0.0122, Test fit: 0.0311, Avg Weight: 0.0003, Max Weight: 0.1334\n"
     ]
    },
    {
     "name": "stderr",
     "output_type": "stream",
     "text": [
      "Training:  50%|█████████████████▌                 | 3/6 [01:27<01:27, 29.07s/it]"
     ]
    },
    {
     "name": "stdout",
     "output_type": "stream",
     "text": [
      "Epoch 3/6, Loss: -0.0121, Train fit: 0.0149, Test fit: 0.0288, Avg Weight: 0.0003, Max Weight: 0.1346\n"
     ]
    },
    {
     "name": "stderr",
     "output_type": "stream",
     "text": [
      "Training:  83%|█████████████████████████████▏     | 5/6 [02:23<00:28, 28.38s/it]"
     ]
    },
    {
     "name": "stdout",
     "output_type": "stream",
     "text": [
      "Epoch 5/6, Loss: -0.0164, Train fit: 0.0260, Test fit: 0.0401, Avg Weight: 0.0003, Max Weight: 0.1385\n"
     ]
    },
    {
     "name": "stderr",
     "output_type": "stream",
     "text": [
      "Training: 100%|███████████████████████████████████| 6/6 [02:55<00:00, 29.32s/it]"
     ]
    },
    {
     "name": "stdout",
     "output_type": "stream",
     "text": [
      "Epoch 6/6, Loss: -0.0240, Train fit: 0.0305, Test fit: 0.0312, Avg Weight: 0.0003, Max Weight: 0.1385\n",
      "Training completed! Best test Sharpe ratio: 0.0401\n",
      "Training from 2000-03 to 2000-08. Testing on 2000-09.\n"
     ]
    },
    {
     "name": "stderr",
     "output_type": "stream",
     "text": [
      "\n"
     ]
    },
    {
     "name": "stdout",
     "output_type": "stream",
     "text": [
      "['sprtrn_lag1', 'pls_index', 'DlyRet_lag1', 'DlyRet_roll_10', 'DlyRet_roll_20', 'DlyRet_roll_30']\n",
      "Starting training with 448 train batches, 35 test batches\n"
     ]
    },
    {
     "name": "stderr",
     "output_type": "stream",
     "text": [
      "Training:  17%|█████▊                             | 1/6 [00:26<02:10, 26.05s/it]"
     ]
    },
    {
     "name": "stdout",
     "output_type": "stream",
     "text": [
      "Epoch 1/6, Loss: -0.0108, Train fit: 0.0177, Test fit: 0.0089, Avg Weight: 0.0002, Max Weight: 0.0052\n"
     ]
    },
    {
     "name": "stderr",
     "output_type": "stream",
     "text": [
      "Training:  50%|█████████████████▌                 | 3/6 [01:27<01:28, 29.63s/it]"
     ]
    },
    {
     "name": "stdout",
     "output_type": "stream",
     "text": [
      "Epoch 3/6, Loss: -0.0160, Train fit: 0.0230, Test fit: 0.0072, Avg Weight: 0.0002, Max Weight: 0.0052\n"
     ]
    },
    {
     "name": "stderr",
     "output_type": "stream",
     "text": [
      "Training:  83%|█████████████████████████████▏     | 5/6 [02:25<00:29, 29.14s/it]"
     ]
    },
    {
     "name": "stdout",
     "output_type": "stream",
     "text": [
      "Epoch 5/6, Loss: -0.0290, Train fit: 0.0354, Test fit: 0.0245, Avg Weight: 0.0002, Max Weight: 0.0052\n"
     ]
    },
    {
     "name": "stderr",
     "output_type": "stream",
     "text": [
      "Training: 100%|███████████████████████████████████| 6/6 [02:55<00:00, 29.18s/it]"
     ]
    },
    {
     "name": "stdout",
     "output_type": "stream",
     "text": [
      "Epoch 6/6, Loss: -0.0352, Train fit: 0.0493, Test fit: 0.0357, Avg Weight: 0.0002, Max Weight: 0.0052\n",
      "Training completed! Best test Sharpe ratio: 0.0357\n",
      "Training from 2000-04 to 2000-09. Testing on 2000-10.\n"
     ]
    },
    {
     "name": "stderr",
     "output_type": "stream",
     "text": [
      "\n"
     ]
    },
    {
     "name": "stdout",
     "output_type": "stream",
     "text": [
      "['sprtrn_lag1', 'pls_index', 'DlyRet_lag1', 'DlyRet_roll_10', 'DlyRet_roll_20', 'DlyRet_roll_30']\n",
      "Starting training with 438 train batches, 38 test batches\n"
     ]
    },
    {
     "name": "stderr",
     "output_type": "stream",
     "text": [
      "Training:  17%|█████▊                             | 1/6 [00:30<02:31, 30.27s/it]"
     ]
    },
    {
     "name": "stdout",
     "output_type": "stream",
     "text": [
      "Epoch 1/6, Loss: -0.0081, Train fit: 0.0155, Test fit: -0.0005, Avg Weight: 0.0002, Max Weight: 0.0145\n"
     ]
    },
    {
     "name": "stderr",
     "output_type": "stream",
     "text": [
      "Training:  50%|█████████████████▌                 | 3/6 [01:28<01:28, 29.61s/it]"
     ]
    },
    {
     "name": "stdout",
     "output_type": "stream",
     "text": [
      "Epoch 3/6, Loss: -0.0159, Train fit: 0.0263, Test fit: 0.0092, Avg Weight: 0.0002, Max Weight: 0.0145\n"
     ]
    },
    {
     "name": "stderr",
     "output_type": "stream",
     "text": [
      "Training:  83%|█████████████████████████████▏     | 5/6 [02:29<00:29, 29.98s/it]"
     ]
    },
    {
     "name": "stdout",
     "output_type": "stream",
     "text": [
      "Epoch 5/6, Loss: -0.0350, Train fit: 0.0514, Test fit: 0.0538, Avg Weight: 0.0002, Max Weight: 0.0145\n"
     ]
    },
    {
     "name": "stderr",
     "output_type": "stream",
     "text": [
      "Training: 100%|███████████████████████████████████| 6/6 [02:59<00:00, 29.91s/it]"
     ]
    },
    {
     "name": "stdout",
     "output_type": "stream",
     "text": [
      "Epoch 6/6, Loss: -0.0451, Train fit: 0.0544, Test fit: 0.0544, Avg Weight: 0.0002, Max Weight: 0.0145\n",
      "Training completed! Best test Sharpe ratio: 0.0544\n",
      "Training from 2000-05 to 2000-10. Testing on 2000-11.\n"
     ]
    },
    {
     "name": "stderr",
     "output_type": "stream",
     "text": [
      "\n"
     ]
    },
    {
     "name": "stdout",
     "output_type": "stream",
     "text": [
      "['sprtrn_lag1', 'pls_index', 'DlyRet_lag1', 'DlyRet_roll_10', 'DlyRet_roll_20', 'DlyRet_roll_30']\n",
      "Starting training with 447 train batches, 36 test batches\n"
     ]
    },
    {
     "name": "stderr",
     "output_type": "stream",
     "text": [
      "Training:  17%|█████▊                             | 1/6 [00:27<02:19, 28.00s/it]"
     ]
    },
    {
     "name": "stdout",
     "output_type": "stream",
     "text": [
      "Epoch 1/6, Loss: -0.0083, Train fit: 0.0114, Test fit: -0.0084, Avg Weight: 0.0002, Max Weight: 0.0065\n"
     ]
    },
    {
     "name": "stderr",
     "output_type": "stream",
     "text": [
      "Training:  50%|█████████████████▌                 | 3/6 [01:29<01:30, 30.14s/it]"
     ]
    },
    {
     "name": "stdout",
     "output_type": "stream",
     "text": [
      "Epoch 3/6, Loss: -0.0105, Train fit: 0.0148, Test fit: -0.0058, Avg Weight: 0.0002, Max Weight: 0.0065\n"
     ]
    },
    {
     "name": "stderr",
     "output_type": "stream",
     "text": [
      "Training:  83%|█████████████████████████████▏     | 5/6 [02:37<00:32, 32.31s/it]"
     ]
    },
    {
     "name": "stdout",
     "output_type": "stream",
     "text": [
      "Epoch 5/6, Loss: -0.0138, Train fit: 0.0229, Test fit: 0.0014, Avg Weight: 0.0002, Max Weight: 0.0065\n"
     ]
    },
    {
     "name": "stderr",
     "output_type": "stream",
     "text": [
      "Training: 100%|███████████████████████████████████| 6/6 [03:15<00:00, 32.60s/it]"
     ]
    },
    {
     "name": "stdout",
     "output_type": "stream",
     "text": [
      "Epoch 6/6, Loss: -0.0225, Train fit: 0.0342, Test fit: 0.0120, Avg Weight: 0.0002, Max Weight: 0.0065\n",
      "Training completed! Best test Sharpe ratio: 0.0120\n",
      "Training from 2000-06 to 2000-11. Testing on 2000-12.\n"
     ]
    },
    {
     "name": "stderr",
     "output_type": "stream",
     "text": [
      "\n"
     ]
    },
    {
     "name": "stdout",
     "output_type": "stream",
     "text": [
      "['sprtrn_lag1', 'pls_index', 'DlyRet_lag1', 'DlyRet_roll_10', 'DlyRet_roll_20', 'DlyRet_roll_30']\n",
      "Starting training with 442 train batches, 15 test batches\n"
     ]
    },
    {
     "name": "stderr",
     "output_type": "stream",
     "text": [
      "Training:  17%|█████▊                             | 1/6 [00:27<02:16, 27.21s/it]"
     ]
    },
    {
     "name": "stdout",
     "output_type": "stream",
     "text": [
      "Epoch 1/6, Loss: -0.0033, Train fit: 0.0090, Test fit: 0.0267, Avg Weight: 0.0003, Max Weight: 0.0082\n"
     ]
    },
    {
     "name": "stderr",
     "output_type": "stream",
     "text": [
      "Training:  50%|█████████████████▌                 | 3/6 [01:22<01:23, 27.79s/it]"
     ]
    },
    {
     "name": "stdout",
     "output_type": "stream",
     "text": [
      "Epoch 3/6, Loss: -0.0128, Train fit: 0.0264, Test fit: 0.0420, Avg Weight: 0.0003, Max Weight: 0.0082\n"
     ]
    },
    {
     "name": "stderr",
     "output_type": "stream",
     "text": [
      "Training:  83%|█████████████████████████████▏     | 5/6 [02:18<00:27, 27.64s/it]"
     ]
    },
    {
     "name": "stdout",
     "output_type": "stream",
     "text": [
      "Epoch 5/6, Loss: -0.0423, Train fit: 0.0546, Test fit: 0.0765, Avg Weight: 0.0003, Max Weight: 0.0082\n"
     ]
    },
    {
     "name": "stderr",
     "output_type": "stream",
     "text": [
      "Training: 100%|███████████████████████████████████| 6/6 [02:45<00:00, 27.51s/it]"
     ]
    },
    {
     "name": "stdout",
     "output_type": "stream",
     "text": [
      "Epoch 6/6, Loss: -0.0479, Train fit: 0.0558, Test fit: 0.0769, Avg Weight: 0.0003, Max Weight: 0.0082\n",
      "Training completed! Best test Sharpe ratio: 0.0769\n"
     ]
    },
    {
     "name": "stderr",
     "output_type": "stream",
     "text": [
      "\n"
     ]
    }
   ],
   "source": [
    "# Keeping track of the return over all the data\n",
    "reload(utils)\n",
    "all_strategy_returns = []\n",
    "\n",
    "for i in range(0, len(unique_months) - 6):\n",
    "\n",
    "    # Train on 6 months of data and test on 1 month\n",
    "    train_start = unique_months.iloc[i]\n",
    "    train_end = unique_months.iloc[i+5]\n",
    "    test_month = unique_months.iloc[i+6]\n",
    "\n",
    "    print(f'Training from {train_start} to {train_end}. Testing on {test_month}.')\n",
    "    \n",
    "    # Filter data\n",
    "    train_mask = (merged_data['year_month'] >= train_start) & (merged_data['year_month'] <= train_end)\n",
    "    test_mask = merged_data['year_month'] == test_month\n",
    "\n",
    "    tr_df = merged_data[train_mask].copy()\n",
    "    te_df = merged_data[test_mask].copy()\n",
    "\n",
    "    # Prepare the data: construct lagged returns, rolling window averages\n",
    "    train_df, test_df, features, cat_features = utils.prepare_data(tr_df, te_df, lagged_num=1, rolling_window=True)\n",
    "   \n",
    "    epochs = 6 # Optimal trade-off for this strategy\n",
    "    train_losses, test_losses, train_sharpes, test_sharpes, raw_predictions, weights = utils.train_DNN(train_df, test_df, features, cat_features, \n",
    "                                                                                                   epochs=epochs, loss_function = 'lin_rank')\n",
    "    \n",
    "    # Deduct transaction costs \n",
    "    TC_RATE = 0.003 # 0.30% of traded notional value\n",
    "    alpha = 100\n",
    "\n",
    "    test_df['weight'] = weights.values\n",
    "    test_df['weight_change'] = np.abs(test_df['weight'].diff().fillna(0.0))\n",
    "    test_df['tc_cost'] = test_df['weight_change'].apply(lambda x: utils.progressive_cost(x, base_tc=TC_RATE, alpha=alpha))\n",
    "    test_df['strategy_return'] = test_df['weight'] * test_df['DlyRet'] - test_df['tc_cost']\n",
    "    mean_daily_returns = test_df.groupby('date')['strategy_return'].sum()\n",
    "\n",
    "    all_strategy_returns.append(mean_daily_returns)\n",
    "    gc.collect() # Memory clean-up\n",
    "\n",
    "# Concatenate all windows into one Series\n",
    "combined_returns = pd.concat(all_strategy_returns)\n",
    "\n"
   ]
  },
  {
   "cell_type": "code",
   "execution_count": 11,
   "metadata": {},
   "outputs": [
    {
     "data": {
      "image/png": "[encoded data removed]",
      "text/plain": [
       "<Figure size 1000x600 with 1 Axes>"
      ]
     },
     "metadata": {},
     "output_type": "display_data"
    }
   ],
   "source": [
    "# Plot the cumulative returns of the strategy and compare with the S&P 500 index\n",
    "cumulative_returns = (1 + combined_returns).cumprod() \n",
    "sp_ret = daily.groupby('date')['sprtrn'].mean()\n",
    "\n",
    "strat_start = unique_months.iloc[6].to_timestamp()\n",
    "sp_ret = sp_ret.loc[strat_start:]\n",
    "\n",
    "cumulative_sp500 = (1 + sp_ret).cumprod()\n",
    "\n",
    "# Combine into a single DataFrame for easy plotting\n",
    "combined = pd.DataFrame({\n",
    "    'Strategy': cumulative_returns,\n",
    "    'S&P 500': cumulative_sp500\n",
    "})\n",
    "\n",
    "# Sharpe ratio\n",
    "strat_sharpe = utils.compute_sharpe(combined_returns)\n",
    "sp_sharpe = utils.compute_sharpe(sp_ret)\n",
    "\n",
    "# Plot\n",
    "combined.plot(figsize=(10, 6), title=f'Cumulative Returns: Strategy (Sharpe={strat_sharpe:.2f}) vs S&P 500 (Sharpe={sp_sharpe:.2f}) ')\n",
    "plt.ylabel('Cumulative Return')\n",
    "plt.grid(True)\n",
    "plt.show()"
   ]
  },
  {
   "cell_type": "code",
   "execution_count": 12,
   "metadata": {},
   "outputs": [
    {
     "name": "stdout",
     "output_type": "stream",
     "text": [
      "Training from 2000-01 to 2000-06. Testing on 2000-07.\n",
      "['sprtrn_lag1', 'DlyRet_lag1', 'DlyRet_roll_10', 'DlyRet_roll_20', 'DlyRet_roll_30']\n",
      "Starting training with 435 train batches, 41 test batches\n"
     ]
    },
    {
     "name": "stderr",
     "output_type": "stream",
     "text": [
      "Training:  17%|█████▊                             | 1/6 [00:28<02:22, 28.59s/it]"
     ]
    },
    {
     "name": "stdout",
     "output_type": "stream",
     "text": [
      "Epoch 1/6, Loss: -0.0035, Train fit: 0.0144, Test fit: -0.0053, Avg Weight: 0.0002, Max Weight: 0.0077\n"
     ]
    },
    {
     "name": "stderr",
     "output_type": "stream",
     "text": [
      "Training:  50%|█████████████████▌                 | 3/6 [01:27<01:27, 29.14s/it]"
     ]
    },
    {
     "name": "stdout",
     "output_type": "stream",
     "text": [
      "Epoch 3/6, Loss: -0.0194, Train fit: 0.0258, Test fit: 0.0145, Avg Weight: 0.0002, Max Weight: 0.0077\n"
     ]
    },
    {
     "name": "stderr",
     "output_type": "stream",
     "text": [
      "Training:  83%|█████████████████████████████▏     | 5/6 [02:28<00:29, 29.86s/it]"
     ]
    },
    {
     "name": "stdout",
     "output_type": "stream",
     "text": [
      "Epoch 5/6, Loss: -0.0367, Train fit: 0.0493, Test fit: 0.0474, Avg Weight: 0.0002, Max Weight: 0.0077\n"
     ]
    },
    {
     "name": "stderr",
     "output_type": "stream",
     "text": [
      "Training: 100%|███████████████████████████████████| 6/6 [02:56<00:00, 29.36s/it]"
     ]
    },
    {
     "name": "stdout",
     "output_type": "stream",
     "text": [
      "Epoch 6/6, Loss: -0.0413, Train fit: 0.0517, Test fit: 0.0516, Avg Weight: 0.0002, Max Weight: 0.0077\n",
      "Training completed! Best test Sharpe ratio: 0.0516\n",
      "Training from 2000-02 to 2000-07. Testing on 2000-08.\n"
     ]
    },
    {
     "name": "stderr",
     "output_type": "stream",
     "text": [
      "\n"
     ]
    },
    {
     "name": "stdout",
     "output_type": "stream",
     "text": [
      "['sprtrn_lag1', 'DlyRet_lag1', 'DlyRet_roll_10', 'DlyRet_roll_20', 'DlyRet_roll_30']\n",
      "Starting training with 512 train batches, 47 test batches\n"
     ]
    },
    {
     "name": "stderr",
     "output_type": "stream",
     "text": [
      "Training:  17%|█████▊                             | 1/6 [00:34<02:50, 34.19s/it]"
     ]
    },
    {
     "name": "stdout",
     "output_type": "stream",
     "text": [
      "Epoch 1/6, Loss: -0.0022, Train fit: 0.0112, Test fit: 0.0327, Avg Weight: 0.0002, Max Weight: 0.0049\n"
     ]
    },
    {
     "name": "stderr",
     "output_type": "stream",
     "text": [
      "Training:  50%|█████████████████▌                 | 3/6 [01:42<01:42, 34.11s/it]"
     ]
    },
    {
     "name": "stdout",
     "output_type": "stream",
     "text": [
      "Epoch 3/6, Loss: -0.0155, Train fit: 0.0339, Test fit: 0.0438, Avg Weight: 0.0002, Max Weight: 0.0063\n"
     ]
    },
    {
     "name": "stderr",
     "output_type": "stream",
     "text": [
      "Training:  83%|█████████████████████████████▏     | 5/6 [02:45<00:32, 32.72s/it]"
     ]
    },
    {
     "name": "stdout",
     "output_type": "stream",
     "text": [
      "Epoch 5/6, Loss: -0.0408, Train fit: 0.0514, Test fit: 0.0638, Avg Weight: 0.0002, Max Weight: 0.0049\n"
     ]
    },
    {
     "name": "stderr",
     "output_type": "stream",
     "text": [
      "Training: 100%|███████████████████████████████████| 6/6 [03:17<00:00, 32.92s/it]"
     ]
    },
    {
     "name": "stdout",
     "output_type": "stream",
     "text": [
      "Epoch 6/6, Loss: -0.0444, Train fit: 0.0527, Test fit: 0.0639, Avg Weight: 0.0002, Max Weight: 0.0049\n",
      "Training completed! Best test Sharpe ratio: 0.0639\n",
      "Training from 2000-03 to 2000-08. Testing on 2000-09.\n"
     ]
    },
    {
     "name": "stderr",
     "output_type": "stream",
     "text": [
      "\n"
     ]
    },
    {
     "name": "stdout",
     "output_type": "stream",
     "text": [
      "['sprtrn_lag1', 'DlyRet_lag1', 'DlyRet_roll_10', 'DlyRet_roll_20', 'DlyRet_roll_30']\n",
      "Starting training with 525 train batches, 41 test batches\n"
     ]
    },
    {
     "name": "stderr",
     "output_type": "stream",
     "text": [
      "Training:  17%|█████▊                             | 1/6 [00:31<02:36, 31.20s/it]"
     ]
    },
    {
     "name": "stdout",
     "output_type": "stream",
     "text": [
      "Epoch 1/6, Loss: -0.0045, Train fit: 0.0198, Test fit: 0.0125, Avg Weight: 0.0002, Max Weight: 0.0073\n"
     ]
    },
    {
     "name": "stderr",
     "output_type": "stream",
     "text": [
      "Training:  50%|█████████████████▌                 | 3/6 [01:33<01:33, 31.28s/it]"
     ]
    },
    {
     "name": "stdout",
     "output_type": "stream",
     "text": [
      "Epoch 3/6, Loss: -0.0172, Train fit: 0.0228, Test fit: 0.0132, Avg Weight: 0.0002, Max Weight: 0.0073\n"
     ]
    },
    {
     "name": "stderr",
     "output_type": "stream",
     "text": [
      "Training:  83%|█████████████████████████████▏     | 5/6 [02:36<00:31, 31.39s/it]"
     ]
    },
    {
     "name": "stdout",
     "output_type": "stream",
     "text": [
      "Epoch 5/6, Loss: -0.0399, Train fit: 0.0474, Test fit: 0.0405, Avg Weight: 0.0002, Max Weight: 0.0073\n"
     ]
    },
    {
     "name": "stderr",
     "output_type": "stream",
     "text": [
      "Training: 100%|███████████████████████████████████| 6/6 [03:10<00:00, 31.76s/it]"
     ]
    },
    {
     "name": "stdout",
     "output_type": "stream",
     "text": [
      "Epoch 6/6, Loss: -0.0437, Train fit: 0.0518, Test fit: 0.0442, Avg Weight: 0.0002, Max Weight: 0.0073\n",
      "Training completed! Best test Sharpe ratio: 0.0442\n",
      "Training from 2000-04 to 2000-09. Testing on 2000-10.\n"
     ]
    },
    {
     "name": "stderr",
     "output_type": "stream",
     "text": [
      "\n"
     ]
    },
    {
     "name": "stdout",
     "output_type": "stream",
     "text": [
      "['sprtrn_lag1', 'DlyRet_lag1', 'DlyRet_roll_10', 'DlyRet_roll_20', 'DlyRet_roll_30']\n",
      "Starting training with 513 train batches, 45 test batches\n"
     ]
    },
    {
     "name": "stderr",
     "output_type": "stream",
     "text": [
      "Training:  17%|█████▊                             | 1/6 [00:29<02:27, 29.48s/it]"
     ]
    },
    {
     "name": "stdout",
     "output_type": "stream",
     "text": [
      "Epoch 1/6, Loss: -0.0059, Train fit: 0.0281, Test fit: 0.0144, Avg Weight: 0.0002, Max Weight: 0.0076\n"
     ]
    },
    {
     "name": "stderr",
     "output_type": "stream",
     "text": [
      "Training:  50%|█████████████████▌                 | 3/6 [01:28<01:29, 29.68s/it]"
     ]
    },
    {
     "name": "stdout",
     "output_type": "stream",
     "text": [
      "Epoch 3/6, Loss: -0.0277, Train fit: 0.0488, Test fit: 0.0499, Avg Weight: 0.0002, Max Weight: 0.0076\n"
     ]
    },
    {
     "name": "stderr",
     "output_type": "stream",
     "text": [
      "Training:  83%|█████████████████████████████▏     | 5/6 [02:28<00:29, 29.75s/it]"
     ]
    },
    {
     "name": "stdout",
     "output_type": "stream",
     "text": [
      "Epoch 5/6, Loss: -0.0456, Train fit: 0.0537, Test fit: 0.0538, Avg Weight: 0.0002, Max Weight: 0.0076\n"
     ]
    },
    {
     "name": "stderr",
     "output_type": "stream",
     "text": [
      "Training: 100%|███████████████████████████████████| 6/6 [02:58<00:00, 29.68s/it]"
     ]
    },
    {
     "name": "stdout",
     "output_type": "stream",
     "text": [
      "Epoch 6/6, Loss: -0.0466, Train fit: 0.0529, Test fit: 0.0555, Avg Weight: 0.0002, Max Weight: 0.0076\n",
      "Training completed! Best test Sharpe ratio: 0.0555\n",
      "Training from 2000-05 to 2000-10. Testing on 2000-11.\n"
     ]
    },
    {
     "name": "stderr",
     "output_type": "stream",
     "text": [
      "\n"
     ]
    },
    {
     "name": "stdout",
     "output_type": "stream",
     "text": [
      "['sprtrn_lag1', 'DlyRet_lag1', 'DlyRet_roll_10', 'DlyRet_roll_20', 'DlyRet_roll_30']\n",
      "Starting training with 525 train batches, 43 test batches\n"
     ]
    },
    {
     "name": "stderr",
     "output_type": "stream",
     "text": [
      "Training:  17%|█████▊                             | 1/6 [00:30<02:30, 30.01s/it]"
     ]
    },
    {
     "name": "stdout",
     "output_type": "stream",
     "text": [
      "Epoch 1/6, Loss: -0.0061, Train fit: 0.0170, Test fit: -0.0032, Avg Weight: 0.0002, Max Weight: 0.0152\n"
     ]
    },
    {
     "name": "stderr",
     "output_type": "stream",
     "text": [
      "Training:  50%|█████████████████▌                 | 3/6 [01:30<01:30, 30.00s/it]"
     ]
    },
    {
     "name": "stdout",
     "output_type": "stream",
     "text": [
      "Epoch 3/6, Loss: -0.0456, Train fit: 0.0545, Test fit: 0.0300, Avg Weight: 0.0002, Max Weight: 0.0152\n"
     ]
    },
    {
     "name": "stderr",
     "output_type": "stream",
     "text": [
      "Training:  83%|█████████████████████████████▏     | 5/6 [02:30<00:30, 30.11s/it]"
     ]
    },
    {
     "name": "stdout",
     "output_type": "stream",
     "text": [
      "Epoch 5/6, Loss: -0.0479, Train fit: 0.0571, Test fit: 0.0316, Avg Weight: 0.0002, Max Weight: 0.0152\n"
     ]
    },
    {
     "name": "stderr",
     "output_type": "stream",
     "text": [
      "Training: 100%|███████████████████████████████████| 6/6 [03:00<00:00, 30.14s/it]"
     ]
    },
    {
     "name": "stdout",
     "output_type": "stream",
     "text": [
      "Epoch 6/6, Loss: -0.0495, Train fit: 0.0593, Test fit: 0.0322, Avg Weight: 0.0002, Max Weight: 0.0152\n",
      "Training completed! Best test Sharpe ratio: 0.0322\n",
      "Training from 2000-06 to 2000-11. Testing on 2000-12.\n"
     ]
    },
    {
     "name": "stderr",
     "output_type": "stream",
     "text": [
      "\n"
     ]
    },
    {
     "name": "stdout",
     "output_type": "stream",
     "text": [
      "['sprtrn_lag1', 'DlyRet_lag1', 'DlyRet_roll_10', 'DlyRet_roll_20', 'DlyRet_roll_30']\n",
      "Starting training with 520 train batches, 18 test batches\n"
     ]
    },
    {
     "name": "stderr",
     "output_type": "stream",
     "text": [
      "Training:  17%|█████▊                             | 1/6 [00:26<02:11, 26.28s/it]"
     ]
    },
    {
     "name": "stdout",
     "output_type": "stream",
     "text": [
      "Epoch 1/6, Loss: 0.0018, Train fit: 0.0140, Test fit: 0.0273, Avg Weight: 0.0003, Max Weight: 0.0638\n"
     ]
    },
    {
     "name": "stderr",
     "output_type": "stream",
     "text": [
      "Training:  50%|█████████████████▌                 | 3/6 [01:19<01:19, 26.51s/it]"
     ]
    },
    {
     "name": "stdout",
     "output_type": "stream",
     "text": [
      "Epoch 3/6, Loss: -0.0371, Train fit: 0.0483, Test fit: 0.0429, Avg Weight: 0.0003, Max Weight: 0.0635\n"
     ]
    },
    {
     "name": "stderr",
     "output_type": "stream",
     "text": [
      "Training:  83%|█████████████████████████████▏     | 5/6 [02:12<00:26, 26.38s/it]"
     ]
    },
    {
     "name": "stdout",
     "output_type": "stream",
     "text": [
      "Epoch 5/6, Loss: -0.0462, Train fit: 0.0520, Test fit: 0.0431, Avg Weight: 0.0003, Max Weight: 0.0635\n"
     ]
    },
    {
     "name": "stderr",
     "output_type": "stream",
     "text": [
      "Training: 100%|███████████████████████████████████| 6/6 [02:38<00:00, 26.39s/it]"
     ]
    },
    {
     "name": "stdout",
     "output_type": "stream",
     "text": [
      "Epoch 6/6, Loss: -0.0486, Train fit: 0.0497, Test fit: 0.0421, Avg Weight: 0.0003, Max Weight: 0.0635\n",
      "Training completed! Best test Sharpe ratio: 0.0435\n"
     ]
    },
    {
     "name": "stderr",
     "output_type": "stream",
     "text": [
      "\n"
     ]
    }
   ],
   "source": [
    "# Keeping track of the return over all the data\n",
    "reload(utils)\n",
    "all_strategy_returns = []\n",
    "\n",
    "for i in range(0, len(unique_months) - 6):\n",
    "\n",
    "    # Train on 6 months of data and test on 1 month\n",
    "    train_start = unique_months.iloc[i]\n",
    "    train_end = unique_months.iloc[i+5]\n",
    "    test_month = unique_months.iloc[i+6]\n",
    "\n",
    "    print(f'Training from {train_start} to {train_end}. Testing on {test_month}.')\n",
    "    \n",
    "    # Filter data\n",
    "    train_mask = (daily['year_month'] >= train_start) & (daily['year_month'] <= train_end)\n",
    "    test_mask = daily['year_month'] == test_month\n",
    "\n",
    "    tr_df = daily[train_mask].copy()\n",
    "    te_df = daily[test_mask].copy()\n",
    "\n",
    "    # Prepare the data: construct lagged returns, rolling window averages\n",
    "    train_df, test_df, features, cat_features = utils.prepare_data(tr_df, te_df, lagged_num=1, rolling_window=True)\n",
    "   \n",
    "    epochs = 6 # Optimal trade-off for this strategy\n",
    "    train_losses, test_losses, train_sharpes, test_sharpes, raw_predictions, weights = utils.train_DNN(train_df, test_df, features, cat_features, \n",
    "                                                                                                   epochs=epochs, loss_function = 'lin_rank')\n",
    "    \n",
    "    # Deduct transaction costs \n",
    "    TC_RATE = 0.003 # 0.30% of traded notional value\n",
    "    alpha = 100\n",
    "\n",
    "    test_df['weight'] = weights.values\n",
    "    test_df['weight_change'] = np.abs(test_df['weight'].diff().fillna(0.0))\n",
    "    test_df['tc_cost'] = test_df['weight_change'].apply(lambda x: utils.progressive_cost(x, base_tc=TC_RATE, alpha=alpha))\n",
    "    test_df['strategy_return'] = test_df['weight'] * test_df['DlyRet'] - test_df['tc_cost']\n",
    "    mean_daily_returns = test_df.groupby('date')['strategy_return'].sum()\n",
    "\n",
    "    all_strategy_returns.append(mean_daily_returns)\n",
    "    gc.collect() # Memory clean-up\n",
    "\n",
    "# Concatenate all windows into one Series\n",
    "combined_returns = pd.concat(all_strategy_returns)\n",
    "\n"
   ]
  },
  {
   "cell_type": "code",
   "execution_count": 13,
   "metadata": {},
   "outputs": [
    {
     "data": {
      "image/png": "[encoded data removed]",
      "text/plain": [
       "<Figure size 1000x600 with 1 Axes>"
      ]
     },
     "metadata": {},
     "output_type": "display_data"
    }
   ],
   "source": [
    "# Plot the cumulative returns of the strategy and compare with the S&P 500 index\n",
    "cumulative_returns = (1 + combined_returns).cumprod() \n",
    "sp_ret = daily.groupby('date')['sprtrn'].mean()\n",
    "\n",
    "strat_start = unique_months.iloc[6].to_timestamp()\n",
    "sp_ret = sp_ret.loc[strat_start:]\n",
    "\n",
    "cumulative_sp500 = (1 + sp_ret).cumprod()\n",
    "\n",
    "# Combine into a single DataFrame for easy plotting\n",
    "combined = pd.DataFrame({\n",
    "    'Strategy': cumulative_returns,\n",
    "    'S&P 500': cumulative_sp500\n",
    "})\n",
    "\n",
    "# Sharpe ratio\n",
    "strat_sharpe = utils.compute_sharpe(combined_returns)\n",
    "sp_sharpe = utils.compute_sharpe(sp_ret)\n",
    "\n",
    "# Plot\n",
    "combined.plot(figsize=(10, 6), title=f'Cumulative Returns: Strategy (Sharpe={strat_sharpe:.2f}) vs S&P 500 (Sharpe={sp_sharpe:.2f}) ')\n",
    "plt.ylabel('Cumulative Return')\n",
    "plt.grid(True)\n",
    "plt.show()"
   ]
  },
  {
   "cell_type": "code",
   "execution_count": null,
   "metadata": {},
   "outputs": [],
   "source": []
  }
 ],
 "metadata": {
  "accelerator": "GPU",
  "colab": {
   "gpuType": "T4",
   "provenance": []
  },
  "kernelspec": {
   "display_name": "Python 3 (ipykernel)",
   "language": "python",
   "name": "python3"
  },
  "language_info": {
   "codemirror_mode": {
    "name": "ipython",
    "version": 3
   },
   "file_extension": ".py",
   "mimetype": "text/x-python",
   "name": "python",
   "nbconvert_exporter": "python",
   "pygments_lexer": "ipython3",
   "version": "3.12.9"
  }
 },
 "nbformat": 4,
 "nbformat_minor": 4
}
