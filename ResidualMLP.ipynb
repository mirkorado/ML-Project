{
 "cells": [
  {
   "cell_type": "code",
   "execution_count": 1,
   "metadata": {
    "executionInfo": {
     "elapsed": 9244,
     "status": "ok",
     "timestamp": 1749567167967,
     "user": {
      "displayName": "Mirko Rado",
      "userId": "09310665357187365654"
     },
     "user_tz": -120
    },
    "id": "CqzdbFF2-wrs"
   },
   "outputs": [],
   "source": [
    "import torch\n",
    "import numpy as np\n",
    "import pandas as pd\n",
    "import DNN_utils as utils\n",
    "import matplotlib.pyplot as plt\n",
    "import seaborn as sns\n",
    "import os\n",
    "from sklearn.linear_model import LinearRegression\n",
    "from datetime import datetime\n",
    "from tqdm import tqdm\n",
    "import torch.nn as nn\n",
    "import torch.nn.functional as F\n",
    "import random\n",
    "from torch.utils.data import Dataset, DataLoader\n",
    "from sklearn.preprocessing import StandardScaler\n",
    "from sklearn.model_selection import train_test_split"
   ]
  },
  {
   "cell_type": "code",
   "execution_count": 2,
   "metadata": {
    "colab": {
     "base_uri": "https://localhost:8080/"
    },
    "executionInfo": {
     "elapsed": 992,
     "status": "ok",
     "timestamp": 1749567180421,
     "user": {
      "displayName": "Mirko Rado",
      "userId": "09310665357187365654"
     },
     "user_tz": -120
    },
    "id": "jnIz8GWK-yNh",
    "outputId": "29a5381d-185d-48b5-f7b1-64de2d2430af"
   },
   "outputs": [],
   "source": [
    "# IF EXECUTING ON COLLAB UNCOMMENT THIS CELL\n",
    "\n",
    "#import os\n",
    "#from google.colab import drive\n",
    "#drive.mount('/content/gdrive')\n",
    "#folder = '/content/gdrive/My Drive/Data ML Project'\n",
    "#os.chdir(folder)\n",
    "#print(torch.cuda.is_available())\n",
    "\n",
    "# Set these right after importing torch, before any other operations\n",
    "torch.set_num_threads(os.cpu_count())\n",
    "torch.set_num_interop_threads(os.cpu_count())\n"
   ]
  },
  {
   "cell_type": "code",
   "execution_count": 3,
   "metadata": {
    "colab": {
     "base_uri": "https://localhost:8080/",
     "height": 423
    },
    "executionInfo": {
     "elapsed": 8953,
     "status": "ok",
     "timestamp": 1749567191293,
     "user": {
      "displayName": "Mirko Rado",
      "userId": "09310665357187365654"
     },
     "user_tz": -120
    },
    "id": "ixOUuFbM1fqe",
    "outputId": "cd15f372-0fc0-4603-f438-473cf27d7f37"
   },
   "outputs": [
    {
     "data": {
      "text/html": [
       "<div>\n",
       "<style scoped>\n",
       "    .dataframe tbody tr th:only-of-type {\n",
       "        vertical-align: middle;\n",
       "    }\n",
       "\n",
       "    .dataframe tbody tr th {\n",
       "        vertical-align: top;\n",
       "    }\n",
       "\n",
       "    .dataframe thead th {\n",
       "        text-align: right;\n",
       "    }\n",
       "</style>\n",
       "<table border=\"1\" class=\"dataframe\">\n",
       "  <thead>\n",
       "    <tr style=\"text-align: right;\">\n",
       "      <th></th>\n",
       "      <th>date</th>\n",
       "      <th>PERMCO</th>\n",
       "      <th>PERMNO</th>\n",
       "      <th>SICCD</th>\n",
       "      <th>NAICS</th>\n",
       "      <th>DlyRet</th>\n",
       "      <th>sprtrn</th>\n",
       "    </tr>\n",
       "  </thead>\n",
       "  <tbody>\n",
       "    <tr>\n",
       "      <th>158482</th>\n",
       "      <td>2000-01-31</td>\n",
       "      <td>5</td>\n",
       "      <td>15580</td>\n",
       "      <td>6320</td>\n",
       "      <td>0</td>\n",
       "      <td>-0.068182</td>\n",
       "      <td>0.025218</td>\n",
       "    </tr>\n",
       "    <tr>\n",
       "      <th>158483</th>\n",
       "      <td>2000-01-31</td>\n",
       "      <td>7</td>\n",
       "      <td>14593</td>\n",
       "      <td>3573</td>\n",
       "      <td>0</td>\n",
       "      <td>0.020910</td>\n",
       "      <td>0.025218</td>\n",
       "    </tr>\n",
       "    <tr>\n",
       "      <th>158484</th>\n",
       "      <td>2000-01-31</td>\n",
       "      <td>25</td>\n",
       "      <td>62770</td>\n",
       "      <td>6711</td>\n",
       "      <td>0</td>\n",
       "      <td>0.041045</td>\n",
       "      <td>0.025218</td>\n",
       "    </tr>\n",
       "    <tr>\n",
       "      <th>158485</th>\n",
       "      <td>2000-01-31</td>\n",
       "      <td>29</td>\n",
       "      <td>59184</td>\n",
       "      <td>2082</td>\n",
       "      <td>0</td>\n",
       "      <td>0.011236</td>\n",
       "      <td>0.025218</td>\n",
       "    </tr>\n",
       "    <tr>\n",
       "      <th>158486</th>\n",
       "      <td>2000-01-31</td>\n",
       "      <td>33</td>\n",
       "      <td>59248</td>\n",
       "      <td>2082</td>\n",
       "      <td>0</td>\n",
       "      <td>0.034667</td>\n",
       "      <td>0.025218</td>\n",
       "    </tr>\n",
       "    <tr>\n",
       "      <th>...</th>\n",
       "      <td>...</td>\n",
       "      <td>...</td>\n",
       "      <td>...</td>\n",
       "      <td>...</td>\n",
       "      <td>...</td>\n",
       "      <td>...</td>\n",
       "      <td>...</td>\n",
       "    </tr>\n",
       "    <tr>\n",
       "      <th>1599995</th>\n",
       "      <td>2000-10-05</td>\n",
       "      <td>7557</td>\n",
       "      <td>87426</td>\n",
       "      <td>3442</td>\n",
       "      <td>0</td>\n",
       "      <td>0.000000</td>\n",
       "      <td>0.001367</td>\n",
       "    </tr>\n",
       "    <tr>\n",
       "      <th>1599996</th>\n",
       "      <td>2000-10-05</td>\n",
       "      <td>7558</td>\n",
       "      <td>90879</td>\n",
       "      <td>8090</td>\n",
       "      <td>0</td>\n",
       "      <td>0.051095</td>\n",
       "      <td>0.001367</td>\n",
       "    </tr>\n",
       "    <tr>\n",
       "      <th>1599997</th>\n",
       "      <td>2000-10-05</td>\n",
       "      <td>7569</td>\n",
       "      <td>86685</td>\n",
       "      <td>6020</td>\n",
       "      <td>0</td>\n",
       "      <td>0.007500</td>\n",
       "      <td>0.001367</td>\n",
       "    </tr>\n",
       "    <tr>\n",
       "      <th>1599998</th>\n",
       "      <td>2000-10-05</td>\n",
       "      <td>7572</td>\n",
       "      <td>89675</td>\n",
       "      <td>3312</td>\n",
       "      <td>0</td>\n",
       "      <td>-0.050463</td>\n",
       "      <td>0.001367</td>\n",
       "    </tr>\n",
       "    <tr>\n",
       "      <th>1599999</th>\n",
       "      <td>2000-10-05</td>\n",
       "      <td>7585</td>\n",
       "      <td>87039</td>\n",
       "      <td>6020</td>\n",
       "      <td>0</td>\n",
       "      <td>-0.000816</td>\n",
       "      <td>0.001367</td>\n",
       "    </tr>\n",
       "  </tbody>\n",
       "</table>\n",
       "<p>1441518 rows × 7 columns</p>\n",
       "</div>"
      ],
      "text/plain": [
       "              date  PERMCO  PERMNO  SICCD  NAICS    DlyRet    sprtrn\n",
       "158482  2000-01-31       5   15580   6320      0 -0.068182  0.025218\n",
       "158483  2000-01-31       7   14593   3573      0  0.020910  0.025218\n",
       "158484  2000-01-31      25   62770   6711      0  0.041045  0.025218\n",
       "158485  2000-01-31      29   59184   2082      0  0.011236  0.025218\n",
       "158486  2000-01-31      33   59248   2082      0  0.034667  0.025218\n",
       "...            ...     ...     ...    ...    ...       ...       ...\n",
       "1599995 2000-10-05    7557   87426   3442      0  0.000000  0.001367\n",
       "1599996 2000-10-05    7558   90879   8090      0  0.051095  0.001367\n",
       "1599997 2000-10-05    7569   86685   6020      0  0.007500  0.001367\n",
       "1599998 2000-10-05    7572   89675   3312      0 -0.050463  0.001367\n",
       "1599999 2000-10-05    7585   87039   6020      0 -0.000816  0.001367\n",
       "\n",
       "[1441518 rows x 7 columns]"
      ]
     },
     "execution_count": 3,
     "metadata": {},
     "output_type": "execute_result"
    }
   ],
   "source": [
    "daily = pd.read_csv(\"Targets/daily_crsp_sanitized.csv\", nrows = 1600000)\n",
    "daily['date'] = pd.to_datetime(daily['date'], format = \"%Y-%m-%d\")\n",
    "daily = daily[daily['date'] >= '2000-01-31'] # Start at the end of January to align with predictors data\n",
    "daily"
   ]
  },
  {
   "cell_type": "code",
   "execution_count": 4,
   "metadata": {},
   "outputs": [
    {
     "data": {
      "text/plain": [
       "158482     2000-01\n",
       "166811     2000-02\n",
       "333239     2000-03\n",
       "524367     2000-04\n",
       "682344     2000-05\n",
       "865365     2000-06\n",
       "1048421    2000-07\n",
       "1214853    2000-08\n",
       "1407308    2000-09\n",
       "1573891    2000-10\n",
       "Name: year_month, dtype: period[M]"
      ]
     },
     "execution_count": 4,
     "metadata": {},
     "output_type": "execute_result"
    }
   ],
   "source": [
    "# Get data frame of unique months\n",
    "daily['year_month'] = daily['date'].dt.to_period('M')\n",
    "unique_months = daily['year_month'].drop_duplicates().sort_values()\n",
    "unique_months"
   ]
  },
  {
   "cell_type": "code",
   "execution_count": 5,
   "metadata": {},
   "outputs": [
    {
     "data": {
      "text/html": [
       "<div>\n",
       "<style scoped>\n",
       "    .dataframe tbody tr th:only-of-type {\n",
       "        vertical-align: middle;\n",
       "    }\n",
       "\n",
       "    .dataframe tbody tr th {\n",
       "        vertical-align: top;\n",
       "    }\n",
       "\n",
       "    .dataframe thead th {\n",
       "        text-align: right;\n",
       "    }\n",
       "</style>\n",
       "<table border=\"1\" class=\"dataframe\">\n",
       "  <thead>\n",
       "    <tr style=\"text-align: right;\">\n",
       "      <th></th>\n",
       "      <th>Unnamed: 0</th>\n",
       "      <th>date</th>\n",
       "      <th>PERMNO</th>\n",
       "      <th>gvkey</th>\n",
       "      <th>pls_index</th>\n",
       "    </tr>\n",
       "  </thead>\n",
       "  <tbody>\n",
       "    <tr>\n",
       "      <th>0</th>\n",
       "      <td>0</td>\n",
       "      <td>2000-01-31</td>\n",
       "      <td>10025</td>\n",
       "      <td>11903</td>\n",
       "      <td>-3.107469</td>\n",
       "    </tr>\n",
       "    <tr>\n",
       "      <th>1</th>\n",
       "      <td>1</td>\n",
       "      <td>2000-01-31</td>\n",
       "      <td>10089</td>\n",
       "      <td>12143</td>\n",
       "      <td>-1.304217</td>\n",
       "    </tr>\n",
       "    <tr>\n",
       "      <th>2</th>\n",
       "      <td>2</td>\n",
       "      <td>2000-01-31</td>\n",
       "      <td>10155</td>\n",
       "      <td>12094</td>\n",
       "      <td>-2.892794</td>\n",
       "    </tr>\n",
       "    <tr>\n",
       "      <th>3</th>\n",
       "      <td>3</td>\n",
       "      <td>2000-01-31</td>\n",
       "      <td>10182</td>\n",
       "      <td>12171</td>\n",
       "      <td>5.863377</td>\n",
       "    </tr>\n",
       "    <tr>\n",
       "      <th>4</th>\n",
       "      <td>4</td>\n",
       "      <td>2000-01-31</td>\n",
       "      <td>10256</td>\n",
       "      <td>12226</td>\n",
       "      <td>-3.608628</td>\n",
       "    </tr>\n",
       "    <tr>\n",
       "      <th>...</th>\n",
       "      <td>...</td>\n",
       "      <td>...</td>\n",
       "      <td>...</td>\n",
       "      <td>...</td>\n",
       "      <td>...</td>\n",
       "    </tr>\n",
       "    <tr>\n",
       "      <th>520167</th>\n",
       "      <td>520167</td>\n",
       "      <td>2024-12-31</td>\n",
       "      <td>93426</td>\n",
       "      <td>185138</td>\n",
       "      <td>-0.052260</td>\n",
       "    </tr>\n",
       "    <tr>\n",
       "      <th>520168</th>\n",
       "      <td>520168</td>\n",
       "      <td>2024-12-31</td>\n",
       "      <td>93427</td>\n",
       "      <td>179583</td>\n",
       "      <td>3.371618</td>\n",
       "    </tr>\n",
       "    <tr>\n",
       "      <th>520169</th>\n",
       "      <td>520169</td>\n",
       "      <td>2024-12-31</td>\n",
       "      <td>93429</td>\n",
       "      <td>184500</td>\n",
       "      <td>5.908846</td>\n",
       "    </tr>\n",
       "    <tr>\n",
       "      <th>520170</th>\n",
       "      <td>520170</td>\n",
       "      <td>2024-12-31</td>\n",
       "      <td>93434</td>\n",
       "      <td>184259</td>\n",
       "      <td>-4.831854</td>\n",
       "    </tr>\n",
       "    <tr>\n",
       "      <th>520171</th>\n",
       "      <td>520171</td>\n",
       "      <td>2024-12-31</td>\n",
       "      <td>93436</td>\n",
       "      <td>184996</td>\n",
       "      <td>4.696742</td>\n",
       "    </tr>\n",
       "  </tbody>\n",
       "</table>\n",
       "<p>520172 rows × 5 columns</p>\n",
       "</div>"
      ],
      "text/plain": [
       "        Unnamed: 0        date  PERMNO   gvkey  pls_index\n",
       "0                0  2000-01-31   10025   11903  -3.107469\n",
       "1                1  2000-01-31   10089   12143  -1.304217\n",
       "2                2  2000-01-31   10155   12094  -2.892794\n",
       "3                3  2000-01-31   10182   12171   5.863377\n",
       "4                4  2000-01-31   10256   12226  -3.608628\n",
       "...            ...         ...     ...     ...        ...\n",
       "520167      520167  2024-12-31   93426  185138  -0.052260\n",
       "520168      520168  2024-12-31   93427  179583   3.371618\n",
       "520169      520169  2024-12-31   93429  184500   5.908846\n",
       "520170      520170  2024-12-31   93434  184259  -4.831854\n",
       "520171      520171  2024-12-31   93436  184996   4.696742\n",
       "\n",
       "[520172 rows x 5 columns]"
      ]
     },
     "execution_count": 5,
     "metadata": {},
     "output_type": "execute_result"
    }
   ],
   "source": [
    "index_df = pd.read_csv('Predictors/FirmCharacIndex.csv')\n",
    "index_df"
   ]
  },
  {
   "cell_type": "code",
   "execution_count": 7,
   "metadata": {},
   "outputs": [
    {
     "name": "stdout",
     "output_type": "stream",
     "text": [
      "Processing 7762 common PERMNOs...\n",
      "Processing PERMNO 1/7762\n",
      "Processing PERMNO 1001/7762\n",
      "Processing PERMNO 2001/7762\n",
      "Processing PERMNO 3001/7762\n",
      "Processing PERMNO 4001/7762\n",
      "Processing PERMNO 5001/7762\n",
      "Processing PERMNO 6001/7762\n",
      "Processing PERMNO 7001/7762\n",
      "Adding 1242 PERMNOs without PLS data...\n",
      "Combining results...\n"
     ]
    },
    {
     "data": {
      "text/html": [
       "<div>\n",
       "<style scoped>\n",
       "    .dataframe tbody tr th:only-of-type {\n",
       "        vertical-align: middle;\n",
       "    }\n",
       "\n",
       "    .dataframe tbody tr th {\n",
       "        vertical-align: top;\n",
       "    }\n",
       "\n",
       "    .dataframe thead th {\n",
       "        text-align: right;\n",
       "    }\n",
       "</style>\n",
       "<table border=\"1\" class=\"dataframe\">\n",
       "  <thead>\n",
       "    <tr style=\"text-align: right;\">\n",
       "      <th></th>\n",
       "      <th>date</th>\n",
       "      <th>PERMCO</th>\n",
       "      <th>PERMNO</th>\n",
       "      <th>SICCD</th>\n",
       "      <th>NAICS</th>\n",
       "      <th>DlyRet</th>\n",
       "      <th>sprtrn</th>\n",
       "      <th>year_month</th>\n",
       "      <th>pls_index</th>\n",
       "    </tr>\n",
       "  </thead>\n",
       "  <tbody>\n",
       "    <tr>\n",
       "      <th>0</th>\n",
       "      <td>2000-01-31</td>\n",
       "      <td>7953</td>\n",
       "      <td>10001</td>\n",
       "      <td>4920</td>\n",
       "      <td>0</td>\n",
       "      <td>-0.029851</td>\n",
       "      <td>0.025218</td>\n",
       "      <td>2000-01</td>\n",
       "      <td>0.000000</td>\n",
       "    </tr>\n",
       "    <tr>\n",
       "      <th>1</th>\n",
       "      <td>2000-01-31</td>\n",
       "      <td>7954</td>\n",
       "      <td>10002</td>\n",
       "      <td>6020</td>\n",
       "      <td>0</td>\n",
       "      <td>-0.005236</td>\n",
       "      <td>0.025218</td>\n",
       "      <td>2000-01</td>\n",
       "      <td>0.000000</td>\n",
       "    </tr>\n",
       "    <tr>\n",
       "      <th>2</th>\n",
       "      <td>2000-01-31</td>\n",
       "      <td>7965</td>\n",
       "      <td>10009</td>\n",
       "      <td>6030</td>\n",
       "      <td>0</td>\n",
       "      <td>-0.004255</td>\n",
       "      <td>0.025218</td>\n",
       "      <td>2000-01</td>\n",
       "      <td>0.000000</td>\n",
       "    </tr>\n",
       "    <tr>\n",
       "      <th>3</th>\n",
       "      <td>2000-01-31</td>\n",
       "      <td>7969</td>\n",
       "      <td>10012</td>\n",
       "      <td>3670</td>\n",
       "      <td>0</td>\n",
       "      <td>-0.033333</td>\n",
       "      <td>0.025218</td>\n",
       "      <td>2000-01</td>\n",
       "      <td>0.000000</td>\n",
       "    </tr>\n",
       "    <tr>\n",
       "      <th>4</th>\n",
       "      <td>2000-01-31</td>\n",
       "      <td>1728</td>\n",
       "      <td>10016</td>\n",
       "      <td>3560</td>\n",
       "      <td>0</td>\n",
       "      <td>0.038168</td>\n",
       "      <td>0.025218</td>\n",
       "      <td>2000-01</td>\n",
       "      <td>0.000000</td>\n",
       "    </tr>\n",
       "    <tr>\n",
       "      <th>...</th>\n",
       "      <td>...</td>\n",
       "      <td>...</td>\n",
       "      <td>...</td>\n",
       "      <td>...</td>\n",
       "      <td>...</td>\n",
       "      <td>...</td>\n",
       "      <td>...</td>\n",
       "      <td>...</td>\n",
       "      <td>...</td>\n",
       "    </tr>\n",
       "    <tr>\n",
       "      <th>1441513</th>\n",
       "      <td>2000-10-05</td>\n",
       "      <td>7428</td>\n",
       "      <td>92690</td>\n",
       "      <td>6798</td>\n",
       "      <td>0</td>\n",
       "      <td>-0.006711</td>\n",
       "      <td>0.001367</td>\n",
       "      <td>2000-10</td>\n",
       "      <td>0.710286</td>\n",
       "    </tr>\n",
       "    <tr>\n",
       "      <th>1441514</th>\n",
       "      <td>2000-10-05</td>\n",
       "      <td>7407</td>\n",
       "      <td>92807</td>\n",
       "      <td>6020</td>\n",
       "      <td>0</td>\n",
       "      <td>0.000000</td>\n",
       "      <td>0.001367</td>\n",
       "      <td>2000-10</td>\n",
       "      <td>0.117273</td>\n",
       "    </tr>\n",
       "    <tr>\n",
       "      <th>1441515</th>\n",
       "      <td>2000-10-05</td>\n",
       "      <td>7378</td>\n",
       "      <td>92874</td>\n",
       "      <td>3690</td>\n",
       "      <td>0</td>\n",
       "      <td>-0.059701</td>\n",
       "      <td>0.001367</td>\n",
       "      <td>2000-10</td>\n",
       "      <td>-0.907260</td>\n",
       "    </tr>\n",
       "    <tr>\n",
       "      <th>1441516</th>\n",
       "      <td>2000-10-05</td>\n",
       "      <td>7323</td>\n",
       "      <td>92930</td>\n",
       "      <td>3714</td>\n",
       "      <td>0</td>\n",
       "      <td>-0.011321</td>\n",
       "      <td>0.001367</td>\n",
       "      <td>2000-10</td>\n",
       "      <td>4.626466</td>\n",
       "    </tr>\n",
       "    <tr>\n",
       "      <th>1441517</th>\n",
       "      <td>2000-10-05</td>\n",
       "      <td>7427</td>\n",
       "      <td>93105</td>\n",
       "      <td>6020</td>\n",
       "      <td>0</td>\n",
       "      <td>-0.036364</td>\n",
       "      <td>0.001367</td>\n",
       "      <td>2000-10</td>\n",
       "      <td>3.157743</td>\n",
       "    </tr>\n",
       "  </tbody>\n",
       "</table>\n",
       "<p>1441518 rows × 9 columns</p>\n",
       "</div>"
      ],
      "text/plain": [
       "              date  PERMCO  PERMNO  SICCD  NAICS    DlyRet    sprtrn  \\\n",
       "0       2000-01-31    7953   10001   4920      0 -0.029851  0.025218   \n",
       "1       2000-01-31    7954   10002   6020      0 -0.005236  0.025218   \n",
       "2       2000-01-31    7965   10009   6030      0 -0.004255  0.025218   \n",
       "3       2000-01-31    7969   10012   3670      0 -0.033333  0.025218   \n",
       "4       2000-01-31    1728   10016   3560      0  0.038168  0.025218   \n",
       "...            ...     ...     ...    ...    ...       ...       ...   \n",
       "1441513 2000-10-05    7428   92690   6798      0 -0.006711  0.001367   \n",
       "1441514 2000-10-05    7407   92807   6020      0  0.000000  0.001367   \n",
       "1441515 2000-10-05    7378   92874   3690      0 -0.059701  0.001367   \n",
       "1441516 2000-10-05    7323   92930   3714      0 -0.011321  0.001367   \n",
       "1441517 2000-10-05    7427   93105   6020      0 -0.036364  0.001367   \n",
       "\n",
       "        year_month  pls_index  \n",
       "0          2000-01   0.000000  \n",
       "1          2000-01   0.000000  \n",
       "2          2000-01   0.000000  \n",
       "3          2000-01   0.000000  \n",
       "4          2000-01   0.000000  \n",
       "...            ...        ...  \n",
       "1441513    2000-10   0.710286  \n",
       "1441514    2000-10   0.117273  \n",
       "1441515    2000-10  -0.907260  \n",
       "1441516    2000-10   4.626466  \n",
       "1441517    2000-10   3.157743  \n",
       "\n",
       "[1441518 rows x 9 columns]"
      ]
     },
     "execution_count": 7,
     "metadata": {},
     "output_type": "execute_result"
    }
   ],
   "source": [
    "merged = utils.merge_pls_with_asof(daily, index_df)\n",
    "merged = merged.fillna(0)\n",
    "merged"
   ]
  },
  {
   "cell_type": "code",
   "execution_count": 8,
   "metadata": {
    "executionInfo": {
     "elapsed": 5212,
     "status": "ok",
     "timestamp": 1749567208636,
     "user": {
      "displayName": "Mirko Rado",
      "userId": "09310665357187365654"
     },
     "user_tz": -120
    },
    "id": "Nan5o3EE9zt3"
   },
   "outputs": [
    {
     "name": "stdout",
     "output_type": "stream",
     "text": [
      "Training from 2000-01 to 2000-07. Testing on 2000-08.\n",
      "['DlyRet', 'sprtrn', 'pls_index', 'DlyRet_lag1', 'DlyRet_roll_10', 'DlyRet_roll_20', 'DlyRet_roll_30']\n",
      "Starting training with 516 train batches, 47 test batches\n"
     ]
    },
    {
     "name": "stderr",
     "output_type": "stream",
     "text": [
      "Training:  25%|████████▊                          | 1/4 [00:18<00:54, 18.17s/it]"
     ]
    },
    {
     "name": "stdout",
     "output_type": "stream",
     "text": [
      "Epoch 1/4, Loss: -0.7709, Train Sharpe: 1.6904, Test Sharpe: 1.5166\n"
     ]
    },
    {
     "name": "stderr",
     "output_type": "stream",
     "text": [
      "Training:  75%|██████████████████████████▎        | 3/4 [00:53<00:17, 17.86s/it]"
     ]
    },
    {
     "name": "stdout",
     "output_type": "stream",
     "text": [
      "Epoch 3/4, Loss: -1.8320, Train Sharpe: 2.1324, Test Sharpe: 1.9333\n"
     ]
    },
    {
     "name": "stderr",
     "output_type": "stream",
     "text": [
      "Training: 100%|███████████████████████████████████| 4/4 [01:11<00:00, 17.80s/it]"
     ]
    },
    {
     "name": "stdout",
     "output_type": "stream",
     "text": [
      "Epoch 4/4, Loss: -1.9225, Train Sharpe: 2.1975, Test Sharpe: 1.9968\n",
      "Training completed! Best test Sharpe ratio: 1.9968\n",
      "Training from 2000-02 to 2000-08. Testing on 2000-09.\n"
     ]
    },
    {
     "name": "stderr",
     "output_type": "stream",
     "text": [
      "\n"
     ]
    },
    {
     "name": "stdout",
     "output_type": "stream",
     "text": [
      "['DlyRet', 'sprtrn', 'pls_index', 'DlyRet_lag1', 'DlyRet_roll_10', 'DlyRet_roll_20', 'DlyRet_roll_30']\n",
      "Starting training with 606 train batches, 41 test batches\n"
     ]
    },
    {
     "name": "stderr",
     "output_type": "stream",
     "text": [
      "Training:  25%|████████▊                          | 1/4 [00:20<01:01, 20.43s/it]"
     ]
    },
    {
     "name": "stdout",
     "output_type": "stream",
     "text": [
      "Epoch 1/4, Loss: -0.8479, Train Sharpe: 1.8217, Test Sharpe: 1.7333\n"
     ]
    },
    {
     "name": "stderr",
     "output_type": "stream",
     "text": [
      "Training:  75%|██████████████████████████▎        | 3/4 [01:05<00:22, 22.27s/it]"
     ]
    },
    {
     "name": "stdout",
     "output_type": "stream",
     "text": [
      "Epoch 3/4, Loss: -1.8443, Train Sharpe: 2.1677, Test Sharpe: 2.0546\n"
     ]
    },
    {
     "name": "stderr",
     "output_type": "stream",
     "text": [
      "Training: 100%|███████████████████████████████████| 4/4 [01:25<00:00, 21.31s/it]"
     ]
    },
    {
     "name": "stdout",
     "output_type": "stream",
     "text": [
      "Epoch 4/4, Loss: -1.9078, Train Sharpe: 2.1524, Test Sharpe: 2.0401\n",
      "Training completed! Best test Sharpe ratio: 2.0546\n",
      "Training from 2000-03 to 2000-09. Testing on 2000-10.\n"
     ]
    },
    {
     "name": "stderr",
     "output_type": "stream",
     "text": [
      "\n"
     ]
    },
    {
     "name": "stdout",
     "output_type": "stream",
     "text": [
      "['DlyRet', 'sprtrn', 'pls_index', 'DlyRet_lag1', 'DlyRet_roll_10', 'DlyRet_roll_20', 'DlyRet_roll_30']\n",
      "Starting training with 606 train batches, 7 test batches\n"
     ]
    },
    {
     "name": "stderr",
     "output_type": "stream",
     "text": [
      "Training:  25%|████████▊                          | 1/4 [00:19<00:58, 19.56s/it]"
     ]
    },
    {
     "name": "stdout",
     "output_type": "stream",
     "text": [
      "Epoch 1/4, Loss: -0.8532, Train Sharpe: 1.7051, Test Sharpe: 1.7183\n"
     ]
    },
    {
     "name": "stderr",
     "output_type": "stream",
     "text": [
      "Training:  75%|██████████████████████████▎        | 3/4 [00:57<00:19, 19.12s/it]"
     ]
    },
    {
     "name": "stdout",
     "output_type": "stream",
     "text": [
      "Epoch 3/4, Loss: -1.8257, Train Sharpe: 2.0000, Test Sharpe: 2.0093\n"
     ]
    },
    {
     "name": "stderr",
     "output_type": "stream",
     "text": [
      "Training: 100%|███████████████████████████████████| 4/4 [01:16<00:00, 19.21s/it]"
     ]
    },
    {
     "name": "stdout",
     "output_type": "stream",
     "text": [
      "Epoch 4/4, Loss: -1.8970, Train Sharpe: 2.1006, Test Sharpe: 2.1115\n",
      "Training completed! Best test Sharpe ratio: 2.1115\n"
     ]
    },
    {
     "name": "stderr",
     "output_type": "stream",
     "text": [
      "\n"
     ]
    }
   ],
   "source": [
    "# Keeping track of the return over all the data\n",
    "all_strategy_returns = []\n",
    "\n",
    "for i in range(0, len(unique_months) - 6 - 1):\n",
    "\n",
    "    # Train on 6 months of data and test on 1 month\n",
    "    train_start = unique_months.iloc[i]\n",
    "    train_end = unique_months.iloc[i+6]\n",
    "    test_month = unique_months.iloc[i+7]\n",
    "\n",
    "    print(f'Training from {train_start} to {train_end}. Testing on {test_month}.')\n",
    "    \n",
    "    # Filter data\n",
    "    train_mask = (merged['year_month'] >= train_start) & (merged['year_month'] <= train_end)\n",
    "    test_mask = merged['year_month'] == test_month\n",
    "\n",
    "    tr_df = merged[train_mask].copy()\n",
    "    te_df = merged[test_mask].copy()\n",
    "\n",
    "    # Prepare the data: construct lagged returns, rolling window averages\n",
    "    train_df, test_df, features, cat_features = utils.prepare_data(tr_df, te_df, lagged_num=1, rolling_window=True)\n",
    "\n",
    "    #print(test_df.shape)\n",
    "    \n",
    "    train_losses, test_losses, train_sharpes, test_sharpes, strat_returns = utils.train_DNN(train_df, test_df, features, cat_features, epochs=4)\n",
    "\n",
    "    #print(strat_returns.shape)\n",
    "    # Right after getting strat_returns\n",
    "    #print(f\"strat_returns stats: min={strat_returns.min()}, max={strat_returns.max()}, nan_count={strat_returns.isna().sum()}\")\n",
    "    #print(f\"strat_returns shape: {strat_returns.shape}\")\n",
    "    #print(f\"test_df shape: {test_df.shape}\")\n",
    "\n",
    "    # Add strat_returns as a new column to test_df\n",
    "    #test_df['strat_return'] = strat_returns \n",
    "\n",
    "    # After assigning to test_df\n",
    "    test_df['strat_return'] = strat_returns.values \n",
    "    #print(f\"test_df['strat_return'] nan_count: {test_df['strat_return'].isna().sum()}\")\n",
    "\n",
    "    # Calculate mean returns by date\n",
    "    mean_daily_returns = test_df.groupby('date')['strat_return'].mean()\n",
    "\n",
    "    # Check if the groupby operation is the issue\n",
    "    #mean_daily_returns = test_df.groupby('date')['strat_return'].mean()\n",
    "    #print(f\"mean_daily_returns nan_count: {mean_daily_returns.isna().sum()}\")\n",
    "    \n",
    "    #print(mean_daily_returns.shape)\n",
    "    all_strategy_returns.append(mean_daily_returns)\n",
    "\n",
    "\n",
    "\n",
    "\n",
    "\n",
    "\n",
    "# Concatenate all windows into one Series\n",
    "combined_returns = pd.concat(all_strategy_returns)\n",
    "\n"
   ]
  },
  {
   "cell_type": "code",
   "execution_count": 9,
   "metadata": {},
   "outputs": [
    {
     "data": {
      "text/plain": [
       "date\n",
       "2000-08-01    0.084564\n",
       "2000-08-02    0.083120\n",
       "2000-08-03    0.083824\n",
       "2000-08-04    0.082608\n",
       "2000-08-07    0.083871\n",
       "2000-08-08    0.082700\n",
       "2000-08-09    0.082445\n",
       "2000-08-10    0.081843\n",
       "2000-08-11    0.080832\n",
       "2000-08-14    0.082539\n",
       "2000-08-15    0.082775\n",
       "2000-08-16    0.081867\n",
       "2000-08-17    0.080206\n",
       "2000-08-18    0.079622\n",
       "2000-08-21    0.081146\n",
       "2000-08-22    0.080276\n",
       "2000-08-23    0.081286\n",
       "2000-08-24    0.080970\n",
       "2000-08-25    0.078774\n",
       "2000-08-28    0.081721\n",
       "2000-08-29    0.080855\n",
       "2000-08-30    0.081136\n",
       "2000-08-31    0.083239\n",
       "2000-09-01    0.083332\n",
       "2000-09-05    0.086507\n",
       "2000-09-06    0.086683\n",
       "2000-09-07    0.084976\n",
       "2000-09-08    0.086630\n",
       "2000-09-11    0.085632\n",
       "2000-09-12    0.083739\n",
       "2000-09-13    0.083975\n",
       "2000-09-14    0.083846\n",
       "2000-09-15    0.086447\n",
       "2000-09-18    0.090021\n",
       "2000-09-19    0.087135\n",
       "2000-09-20    0.085278\n",
       "2000-09-21    0.086014\n",
       "2000-09-22    0.087952\n",
       "2000-09-25    0.087181\n",
       "2000-09-26    0.087318\n",
       "2000-09-27    0.085883\n",
       "2000-09-28    0.087959\n",
       "2000-09-29    0.088447\n",
       "2000-10-02    0.078253\n",
       "2000-10-03    0.075215\n",
       "2000-10-04    0.074309\n",
       "2000-10-05    0.072605\n",
       "Name: strat_return, dtype: float32"
      ]
     },
     "execution_count": 9,
     "metadata": {},
     "output_type": "execute_result"
    }
   ],
   "source": [
    "combined_returns"
   ]
  },
  {
   "cell_type": "code",
   "execution_count": 10,
   "metadata": {},
   "outputs": [
    {
     "data": {
      "text/plain": [
       "<Axes: title={'center': 'Cumulative Strategy Returns'}, xlabel='date'>"
      ]
     },
     "execution_count": 10,
     "metadata": {},
     "output_type": "execute_result"
    },
    {
     "data": {
      "image/png": "[encoded data removed]",
      "text/plain": [
       "<Figure size 640x480 with 1 Axes>"
      ]
     },
     "metadata": {},
     "output_type": "display_data"
    }
   ],
   "source": [
    "# Handle duplicate dates (if any) by taking the mean\n",
    "#combined_returns = combined_returns.groupby(level=0).mean()\n",
    "\n",
    "# Sort by date to ensure chronological order\n",
    "combined_returns = combined_returns.sort_index()\n",
    "\n",
    "# Convert to DataFrame and calculate cumulative returns\n",
    "results_df = pd.DataFrame({\n",
    "    'daily_return': combined_returns,\n",
    "    'cumulative_return': (1 + combined_returns).cumprod() - 1  # Geometric compounding\n",
    "})\n",
    "\n",
    "# Now you can plot:\n",
    "results_df['cumulative_return'].plot(title='Cumulative Strategy Returns')"
   ]
  },
  {
   "cell_type": "code",
   "execution_count": null,
   "metadata": {},
   "outputs": [],
   "source": []
  }
 ],
 "metadata": {
  "accelerator": "GPU",
  "colab": {
   "gpuType": "T4",
   "provenance": []
  },
  "kernelspec": {
   "display_name": "Python 3 (ipykernel)",
   "language": "python",
   "name": "python3"
  },
  "language_info": {
   "codemirror_mode": {
    "name": "ipython",
    "version": 3
   },
   "file_extension": ".py",
   "mimetype": "text/x-python",
   "name": "python",
   "nbconvert_exporter": "python",
   "pygments_lexer": "ipython3",
   "version": "3.12.9"
  }
 },
 "nbformat": 4,
 "nbformat_minor": 4
}
