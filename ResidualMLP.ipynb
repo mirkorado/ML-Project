{
 "cells": [
  {
   "cell_type": "code",
   "execution_count": 1,
   "metadata": {
    "executionInfo": {
     "elapsed": 9244,
     "status": "ok",
     "timestamp": 1749567167967,
     "user": {
      "displayName": "Mirko Rado",
      "userId": "09310665357187365654"
     },
     "user_tz": -120
    },
    "id": "CqzdbFF2-wrs"
   },
   "outputs": [],
   "source": [
    "import torch\n",
    "import numpy as np\n",
    "import pandas as pd\n",
    "import DNN_utils as utils\n",
    "import matplotlib.pyplot as plt\n",
    "import seaborn as sns\n",
    "import os\n",
    "from sklearn.linear_model import LinearRegression\n",
    "from datetime import datetime\n",
    "from tqdm import tqdm\n",
    "import torch.nn as nn\n",
    "import torch.nn.functional as F\n",
    "import random\n",
    "from torch.utils.data import Dataset, DataLoader\n",
    "from sklearn.preprocessing import StandardScaler\n",
    "from sklearn.model_selection import train_test_split\n",
    "import gc\n",
    "from importlib import reload"
   ]
  },
  {
   "cell_type": "code",
   "execution_count": 2,
   "metadata": {
    "colab": {
     "base_uri": "https://localhost:8080/"
    },
    "executionInfo": {
     "elapsed": 992,
     "status": "ok",
     "timestamp": 1749567180421,
     "user": {
      "displayName": "Mirko Rado",
      "userId": "09310665357187365654"
     },
     "user_tz": -120
    },
    "id": "jnIz8GWK-yNh",
    "outputId": "29a5381d-185d-48b5-f7b1-64de2d2430af"
   },
   "outputs": [],
   "source": [
    "# IF EXECUTING ON COLLAB UNCOMMENT THIS CELL\n",
    "\n",
    "#import os\n",
    "#from google.colab import drive\n",
    "#drive.mount('/content/gdrive')\n",
    "#folder = '/content/gdrive/My Drive/Data ML Project'\n",
    "#os.chdir(folder)\n",
    "#print(torch.cuda.is_available())\n",
    "\n",
    "# Set these right after importing torch, before any other operations\n",
    "torch.set_num_threads(os.cpu_count())\n",
    "torch.set_num_interop_threads(os.cpu_count())\n",
    "path = 'Targets/daily_crsp_sanitized.csv'"
   ]
  },
  {
   "cell_type": "code",
   "execution_count": 3,
   "metadata": {
    "colab": {
     "base_uri": "https://localhost:8080/",
     "height": 423
    },
    "executionInfo": {
     "elapsed": 8953,
     "status": "ok",
     "timestamp": 1749567191293,
     "user": {
      "displayName": "Mirko Rado",
      "userId": "09310665357187365654"
     },
     "user_tz": -120
    },
    "id": "ixOUuFbM1fqe",
    "outputId": "cd15f372-0fc0-4603-f438-473cf27d7f37"
   },
   "outputs": [
    {
     "data": {
      "text/html": [
       "<div>\n",
       "<style scoped>\n",
       "    .dataframe tbody tr th:only-of-type {\n",
       "        vertical-align: middle;\n",
       "    }\n",
       "\n",
       "    .dataframe tbody tr th {\n",
       "        vertical-align: top;\n",
       "    }\n",
       "\n",
       "    .dataframe thead th {\n",
       "        text-align: right;\n",
       "    }\n",
       "</style>\n",
       "<table border=\"1\" class=\"dataframe\">\n",
       "  <thead>\n",
       "    <tr style=\"text-align: right;\">\n",
       "      <th></th>\n",
       "      <th>date</th>\n",
       "      <th>PERMCO</th>\n",
       "      <th>PERMNO</th>\n",
       "      <th>SICCD</th>\n",
       "      <th>NAICS</th>\n",
       "      <th>DlyRet</th>\n",
       "      <th>sprtrn</th>\n",
       "      <th>sprtrn_lag1</th>\n",
       "    </tr>\n",
       "  </thead>\n",
       "  <tbody>\n",
       "    <tr>\n",
       "      <th>0</th>\n",
       "      <td>2000-01-31</td>\n",
       "      <td>5</td>\n",
       "      <td>15580</td>\n",
       "      <td>6320</td>\n",
       "      <td>0</td>\n",
       "      <td>-0.068182</td>\n",
       "      <td>0.025218</td>\n",
       "      <td>0.000000</td>\n",
       "    </tr>\n",
       "    <tr>\n",
       "      <th>1</th>\n",
       "      <td>2000-01-31</td>\n",
       "      <td>7</td>\n",
       "      <td>14593</td>\n",
       "      <td>3573</td>\n",
       "      <td>0</td>\n",
       "      <td>0.020910</td>\n",
       "      <td>0.025218</td>\n",
       "      <td>0.000000</td>\n",
       "    </tr>\n",
       "    <tr>\n",
       "      <th>2</th>\n",
       "      <td>2000-01-31</td>\n",
       "      <td>25</td>\n",
       "      <td>62770</td>\n",
       "      <td>6711</td>\n",
       "      <td>0</td>\n",
       "      <td>0.041045</td>\n",
       "      <td>0.025218</td>\n",
       "      <td>0.000000</td>\n",
       "    </tr>\n",
       "    <tr>\n",
       "      <th>3</th>\n",
       "      <td>2000-01-31</td>\n",
       "      <td>29</td>\n",
       "      <td>59184</td>\n",
       "      <td>2082</td>\n",
       "      <td>0</td>\n",
       "      <td>0.011236</td>\n",
       "      <td>0.025218</td>\n",
       "      <td>0.000000</td>\n",
       "    </tr>\n",
       "    <tr>\n",
       "      <th>4</th>\n",
       "      <td>2000-01-31</td>\n",
       "      <td>33</td>\n",
       "      <td>59248</td>\n",
       "      <td>2082</td>\n",
       "      <td>0</td>\n",
       "      <td>0.034667</td>\n",
       "      <td>0.025218</td>\n",
       "      <td>0.000000</td>\n",
       "    </tr>\n",
       "    <tr>\n",
       "      <th>...</th>\n",
       "      <td>...</td>\n",
       "      <td>...</td>\n",
       "      <td>...</td>\n",
       "      <td>...</td>\n",
       "      <td>...</td>\n",
       "      <td>...</td>\n",
       "      <td>...</td>\n",
       "      <td>...</td>\n",
       "    </tr>\n",
       "    <tr>\n",
       "      <th>9841513</th>\n",
       "      <td>2005-06-16</td>\n",
       "      <td>20809</td>\n",
       "      <td>23915</td>\n",
       "      <td>2621</td>\n",
       "      <td>322121</td>\n",
       "      <td>0.005097</td>\n",
       "      <td>0.003630</td>\n",
       "      <td>0.002218</td>\n",
       "    </tr>\n",
       "    <tr>\n",
       "      <th>9841514</th>\n",
       "      <td>2005-06-16</td>\n",
       "      <td>20812</td>\n",
       "      <td>47888</td>\n",
       "      <td>7373</td>\n",
       "      <td>541512</td>\n",
       "      <td>-0.023644</td>\n",
       "      <td>0.003630</td>\n",
       "      <td>0.002218</td>\n",
       "    </tr>\n",
       "    <tr>\n",
       "      <th>9841515</th>\n",
       "      <td>2005-06-16</td>\n",
       "      <td>20813</td>\n",
       "      <td>69999</td>\n",
       "      <td>6726</td>\n",
       "      <td>525990</td>\n",
       "      <td>-0.002842</td>\n",
       "      <td>0.003630</td>\n",
       "      <td>0.002218</td>\n",
       "    </tr>\n",
       "    <tr>\n",
       "      <th>9841516</th>\n",
       "      <td>2005-06-16</td>\n",
       "      <td>20818</td>\n",
       "      <td>16424</td>\n",
       "      <td>3421</td>\n",
       "      <td>332211</td>\n",
       "      <td>-0.000768</td>\n",
       "      <td>0.003630</td>\n",
       "      <td>0.002218</td>\n",
       "    </tr>\n",
       "    <tr>\n",
       "      <th>9841517</th>\n",
       "      <td>2005-06-16</td>\n",
       "      <td>20819</td>\n",
       "      <td>57154</td>\n",
       "      <td>2621</td>\n",
       "      <td>322121</td>\n",
       "      <td>-0.002479</td>\n",
       "      <td>0.003630</td>\n",
       "      <td>0.002218</td>\n",
       "    </tr>\n",
       "  </tbody>\n",
       "</table>\n",
       "<p>9841518 rows × 8 columns</p>\n",
       "</div>"
      ],
      "text/plain": [
       "              date  PERMCO  PERMNO  SICCD   NAICS    DlyRet    sprtrn  \\\n",
       "0       2000-01-31       5   15580   6320       0 -0.068182  0.025218   \n",
       "1       2000-01-31       7   14593   3573       0  0.020910  0.025218   \n",
       "2       2000-01-31      25   62770   6711       0  0.041045  0.025218   \n",
       "3       2000-01-31      29   59184   2082       0  0.011236  0.025218   \n",
       "4       2000-01-31      33   59248   2082       0  0.034667  0.025218   \n",
       "...            ...     ...     ...    ...     ...       ...       ...   \n",
       "9841513 2005-06-16   20809   23915   2621  322121  0.005097  0.003630   \n",
       "9841514 2005-06-16   20812   47888   7373  541512 -0.023644  0.003630   \n",
       "9841515 2005-06-16   20813   69999   6726  525990 -0.002842  0.003630   \n",
       "9841516 2005-06-16   20818   16424   3421  332211 -0.000768  0.003630   \n",
       "9841517 2005-06-16   20819   57154   2621  322121 -0.002479  0.003630   \n",
       "\n",
       "         sprtrn_lag1  \n",
       "0           0.000000  \n",
       "1           0.000000  \n",
       "2           0.000000  \n",
       "3           0.000000  \n",
       "4           0.000000  \n",
       "...              ...  \n",
       "9841513     0.002218  \n",
       "9841514     0.002218  \n",
       "9841515     0.002218  \n",
       "9841516     0.002218  \n",
       "9841517     0.002218  \n",
       "\n",
       "[9841518 rows x 8 columns]"
      ]
     },
     "execution_count": 3,
     "metadata": {},
     "output_type": "execute_result"
    }
   ],
   "source": [
    "daily = utils.read_daily_returns(path, nrows=10000000, low_quantile=0.005, up_quantile=0.995)\n",
    "daily"
   ]
  },
  {
   "cell_type": "code",
   "execution_count": 4,
   "metadata": {},
   "outputs": [
    {
     "data": {
      "text/plain": [
       "0          2000-01\n",
       "8329       2000-02\n",
       "174757     2000-03\n",
       "365885     2000-04\n",
       "523862     2000-05\n",
       "            ...   \n",
       "9205863    2005-02\n",
       "9333674    2005-03\n",
       "9481683    2005-04\n",
       "9622885    2005-05\n",
       "9764141    2005-06\n",
       "Name: year_month, Length: 66, dtype: period[M]"
      ]
     },
     "execution_count": 4,
     "metadata": {},
     "output_type": "execute_result"
    }
   ],
   "source": [
    "# Get data frame of unique months\n",
    "daily['year_month'] = daily['date'].dt.to_period('M')\n",
    "unique_months = daily['year_month'].drop_duplicates().sort_values()\n",
    "unique_months"
   ]
  },
  {
   "cell_type": "code",
   "execution_count": null,
   "metadata": {},
   "outputs": [
    {
     "name": "stdout",
     "output_type": "stream",
     "text": [
      "Training from 2000-01 to 2000-07. Testing on 2000-08.\n",
      "['sprtrn_lag1', 'DlyRet_lag1', 'DlyRet_roll_10', 'DlyRet_roll_20', 'DlyRet_roll_30']\n",
      "Starting training with 516 train batches, 47 test batches\n"
     ]
    },
    {
     "name": "stderr",
     "output_type": "stream",
     "text": [
      "Training:  20%|███████                            | 1/5 [00:19<01:19, 19.83s/it]"
     ]
    },
    {
     "name": "stdout",
     "output_type": "stream",
     "text": [
      "Epoch 1/5, Loss: -0.0742, Train Sharpe: 0.0095, Test Sharpe: 0.0512, Avg Weight: 0.0002, Max Weight: 0.0008\n"
     ]
    },
    {
     "name": "stderr",
     "output_type": "stream",
     "text": [
      "Training:  60%|█████████████████████              | 3/5 [01:00<00:40, 20.05s/it]"
     ]
    },
    {
     "name": "stdout",
     "output_type": "stream",
     "text": [
      "Epoch 3/5, Loss: -0.0981, Train Sharpe: 0.0530, Test Sharpe: 0.0706, Avg Weight: 0.0002, Max Weight: 0.0026\n"
     ]
    },
    {
     "name": "stderr",
     "output_type": "stream",
     "text": [
      "Training: 100%|███████████████████████████████████| 5/5 [01:36<00:00, 19.26s/it]"
     ]
    },
    {
     "name": "stdout",
     "output_type": "stream",
     "text": [
      "Epoch 5/5, Loss: -0.1136, Train Sharpe: 0.0579, Test Sharpe: 0.0697, Avg Weight: 0.0002, Max Weight: 0.0026\n",
      "Training completed! Best test Sharpe ratio: 0.0714\n",
      "Training from 2000-02 to 2000-08. Testing on 2000-09.\n"
     ]
    },
    {
     "name": "stderr",
     "output_type": "stream",
     "text": [
      "\n"
     ]
    },
    {
     "name": "stdout",
     "output_type": "stream",
     "text": [
      "['sprtrn_lag1', 'DlyRet_lag1', 'DlyRet_roll_10', 'DlyRet_roll_20', 'DlyRet_roll_30']\n",
      "Starting training with 606 train batches, 41 test batches\n"
     ]
    },
    {
     "name": "stderr",
     "output_type": "stream",
     "text": [
      "Training:  20%|███████                            | 1/5 [00:22<01:30, 22.65s/it]"
     ]
    },
    {
     "name": "stdout",
     "output_type": "stream",
     "text": [
      "Epoch 1/5, Loss: -0.0816, Train Sharpe: 0.0208, Test Sharpe: -0.0275, Avg Weight: 0.0002, Max Weight: 0.0008\n"
     ]
    },
    {
     "name": "stderr",
     "output_type": "stream",
     "text": [
      "Training:  60%|█████████████████████              | 3/5 [01:05<00:43, 21.58s/it]"
     ]
    },
    {
     "name": "stdout",
     "output_type": "stream",
     "text": [
      "Epoch 3/5, Loss: -0.1073, Train Sharpe: 0.0481, Test Sharpe: -0.0006, Avg Weight: 0.0002, Max Weight: 0.0013\n"
     ]
    },
    {
     "name": "stderr",
     "output_type": "stream",
     "text": [
      "Training: 100%|███████████████████████████████████| 5/5 [01:48<00:00, 21.66s/it]"
     ]
    },
    {
     "name": "stdout",
     "output_type": "stream",
     "text": [
      "Epoch 5/5, Loss: -0.1215, Train Sharpe: 0.0552, Test Sharpe: 0.0046, Avg Weight: 0.0002, Max Weight: 0.0016\n",
      "Training completed! Best test Sharpe ratio: 0.0046\n",
      "Training from 2000-03 to 2000-09. Testing on 2000-10.\n"
     ]
    },
    {
     "name": "stderr",
     "output_type": "stream",
     "text": [
      "\n"
     ]
    },
    {
     "name": "stdout",
     "output_type": "stream",
     "text": [
      "['sprtrn_lag1', 'DlyRet_lag1', 'DlyRet_roll_10', 'DlyRet_roll_20', 'DlyRet_roll_30']\n",
      "Starting training with 606 train batches, 45 test batches\n"
     ]
    },
    {
     "name": "stderr",
     "output_type": "stream",
     "text": [
      "Training:  20%|███████                            | 1/5 [00:21<01:24, 21.19s/it]"
     ]
    },
    {
     "name": "stdout",
     "output_type": "stream",
     "text": [
      "Epoch 1/5, Loss: -0.0722, Train Sharpe: 0.0244, Test Sharpe: -0.0075, Avg Weight: 0.0002, Max Weight: 0.0014\n"
     ]
    },
    {
     "name": "stderr",
     "output_type": "stream",
     "text": [
      "Training:  60%|█████████████████████              | 3/5 [01:00<00:40, 20.10s/it]"
     ]
    },
    {
     "name": "stdout",
     "output_type": "stream",
     "text": [
      "Epoch 3/5, Loss: -0.1121, Train Sharpe: 0.0553, Test Sharpe: 0.0254, Avg Weight: 0.0002, Max Weight: 0.0019\n"
     ]
    },
    {
     "name": "stderr",
     "output_type": "stream",
     "text": [
      "Training: 100%|███████████████████████████████████| 5/5 [01:44<00:00, 20.92s/it]"
     ]
    },
    {
     "name": "stdout",
     "output_type": "stream",
     "text": [
      "Epoch 5/5, Loss: -0.1230, Train Sharpe: 0.0640, Test Sharpe: 0.0285, Avg Weight: 0.0002, Max Weight: 0.0025\n",
      "Training completed! Best test Sharpe ratio: 0.0312\n",
      "Training from 2000-04 to 2000-10. Testing on 2000-11.\n"
     ]
    },
    {
     "name": "stderr",
     "output_type": "stream",
     "text": [
      "\n"
     ]
    },
    {
     "name": "stdout",
     "output_type": "stream",
     "text": [
      "['sprtrn_lag1', 'DlyRet_lag1', 'DlyRet_roll_10', 'DlyRet_roll_20', 'DlyRet_roll_30']\n",
      "Starting training with 602 train batches, 43 test batches\n"
     ]
    },
    {
     "name": "stderr",
     "output_type": "stream",
     "text": [
      "Training:  20%|███████                            | 1/5 [00:23<01:33, 23.41s/it]"
     ]
    },
    {
     "name": "stdout",
     "output_type": "stream",
     "text": [
      "Epoch 1/5, Loss: -0.0693, Train Sharpe: 0.0388, Test Sharpe: -0.0357, Avg Weight: 0.0002, Max Weight: 0.0033\n"
     ]
    },
    {
     "name": "stderr",
     "output_type": "stream",
     "text": [
      "Training:  60%|█████████████████████              | 3/5 [01:09<00:45, 22.90s/it]"
     ]
    },
    {
     "name": "stdout",
     "output_type": "stream",
     "text": [
      "Epoch 3/5, Loss: -0.1148, Train Sharpe: 0.0623, Test Sharpe: -0.0066, Avg Weight: 0.0002, Max Weight: 0.0041\n"
     ]
    },
    {
     "name": "stderr",
     "output_type": "stream",
     "text": [
      "Training: 100%|███████████████████████████████████| 5/5 [01:52<00:00, 22.56s/it]"
     ]
    },
    {
     "name": "stdout",
     "output_type": "stream",
     "text": [
      "Epoch 5/5, Loss: -0.1235, Train Sharpe: 0.0669, Test Sharpe: -0.0034, Avg Weight: 0.0002, Max Weight: 0.0043\n",
      "Training completed! Best test Sharpe ratio: -0.0029\n",
      "Training from 2000-05 to 2000-11. Testing on 2000-12.\n"
     ]
    },
    {
     "name": "stderr",
     "output_type": "stream",
     "text": [
      "\n"
     ]
    },
    {
     "name": "stdout",
     "output_type": "stream",
     "text": [
      "['sprtrn_lag1', 'DlyRet_lag1', 'DlyRet_roll_10', 'DlyRet_roll_20', 'DlyRet_roll_30']\n",
      "Starting training with 610 train batches, 40 test batches\n"
     ]
    },
    {
     "name": "stderr",
     "output_type": "stream",
     "text": [
      "Training:  20%|███████                            | 1/5 [00:21<01:27, 21.81s/it]"
     ]
    },
    {
     "name": "stdout",
     "output_type": "stream",
     "text": [
      "Epoch 1/5, Loss: -0.0580, Train Sharpe: 0.0152, Test Sharpe: 0.0204, Avg Weight: 0.0002, Max Weight: 0.0055\n"
     ]
    },
    {
     "name": "stderr",
     "output_type": "stream",
     "text": [
      "Training:  60%|█████████████████████              | 3/5 [01:03<00:42, 21.07s/it]"
     ]
    },
    {
     "name": "stdout",
     "output_type": "stream",
     "text": [
      "Epoch 3/5, Loss: -0.1105, Train Sharpe: 0.0580, Test Sharpe: 0.0428, Avg Weight: 0.0002, Max Weight: 0.0090\n"
     ]
    },
    {
     "name": "stderr",
     "output_type": "stream",
     "text": [
      "Training: 100%|███████████████████████████████████| 5/5 [01:41<00:00, 20.33s/it]"
     ]
    },
    {
     "name": "stdout",
     "output_type": "stream",
     "text": [
      "Epoch 5/5, Loss: -0.1204, Train Sharpe: 0.0618, Test Sharpe: 0.0420, Avg Weight: 0.0002, Max Weight: 0.0093\n",
      "Training completed! Best test Sharpe ratio: 0.0428\n",
      "Training from 2000-06 to 2000-12. Testing on 2001-01.\n"
     ]
    },
    {
     "name": "stderr",
     "output_type": "stream",
     "text": [
      "\n"
     ]
    },
    {
     "name": "stdout",
     "output_type": "stream",
     "text": [
      "['sprtrn_lag1', 'DlyRet_lag1', 'DlyRet_roll_10', 'DlyRet_roll_20', 'DlyRet_roll_30']\n",
      "Starting training with 600 train batches, 42 test batches\n"
     ]
    },
    {
     "name": "stderr",
     "output_type": "stream",
     "text": [
      "Training:  20%|███████                            | 1/5 [00:18<01:15, 18.95s/it]"
     ]
    },
    {
     "name": "stdout",
     "output_type": "stream",
     "text": [
      "Epoch 1/5, Loss: -0.0756, Train Sharpe: 0.0287, Test Sharpe: 0.1070, Avg Weight: 0.0002, Max Weight: 0.0019\n"
     ]
    },
    {
     "name": "stderr",
     "output_type": "stream",
     "text": [
      "Training:  60%|█████████████████████              | 3/5 [00:58<00:39, 19.71s/it]"
     ]
    },
    {
     "name": "stdout",
     "output_type": "stream",
     "text": [
      "Epoch 3/5, Loss: -0.1158, Train Sharpe: 0.0544, Test Sharpe: 0.0989, Avg Weight: 0.0002, Max Weight: 0.0019\n"
     ]
    },
    {
     "name": "stderr",
     "output_type": "stream",
     "text": [
      "Training: 100%|███████████████████████████████████| 5/5 [01:41<00:00, 20.32s/it]"
     ]
    },
    {
     "name": "stdout",
     "output_type": "stream",
     "text": [
      "Epoch 5/5, Loss: -0.1227, Train Sharpe: 0.0580, Test Sharpe: 0.0936, Avg Weight: 0.0002, Max Weight: 0.0019\n",
      "Training completed! Best test Sharpe ratio: 0.1070\n",
      "Training from 2000-07 to 2001-01. Testing on 2001-02.\n"
     ]
    },
    {
     "name": "stderr",
     "output_type": "stream",
     "text": [
      "\n"
     ]
    },
    {
     "name": "stdout",
     "output_type": "stream",
     "text": [
      "['sprtrn_lag1', 'DlyRet_lag1', 'DlyRet_roll_10', 'DlyRet_roll_20', 'DlyRet_roll_30']\n",
      "Starting training with 594 train batches, 38 test batches\n"
     ]
    },
    {
     "name": "stderr",
     "output_type": "stream",
     "text": [
      "Training:  20%|███████                            | 1/5 [00:19<01:19, 19.99s/it]"
     ]
    },
    {
     "name": "stdout",
     "output_type": "stream",
     "text": [
      "Epoch 1/5, Loss: -0.0780, Train Sharpe: 0.0054, Test Sharpe: -0.0736, Avg Weight: 0.0002, Max Weight: 0.0015\n"
     ]
    },
    {
     "name": "stderr",
     "output_type": "stream",
     "text": [
      "Training:  60%|█████████████████████              | 3/5 [01:02<00:41, 20.86s/it]"
     ]
    },
    {
     "name": "stdout",
     "output_type": "stream",
     "text": [
      "Epoch 3/5, Loss: -0.1187, Train Sharpe: 0.0391, Test Sharpe: -0.0377, Avg Weight: 0.0002, Max Weight: 0.0020\n"
     ]
    },
    {
     "name": "stderr",
     "output_type": "stream",
     "text": [
      "Training: 100%|███████████████████████████████████| 5/5 [01:39<00:00, 19.92s/it]"
     ]
    },
    {
     "name": "stdout",
     "output_type": "stream",
     "text": [
      "Epoch 5/5, Loss: -0.1275, Train Sharpe: 0.0487, Test Sharpe: -0.0336, Avg Weight: 0.0002, Max Weight: 0.0019\n",
      "Training completed! Best test Sharpe ratio: -0.0336\n",
      "Training from 2000-08 to 2001-02. Testing on 2001-03.\n"
     ]
    },
    {
     "name": "stderr",
     "output_type": "stream",
     "text": [
      "\n"
     ]
    },
    {
     "name": "stdout",
     "output_type": "stream",
     "text": [
      "['sprtrn_lag1', 'DlyRet_lag1', 'DlyRet_roll_10', 'DlyRet_roll_20', 'DlyRet_roll_30']\n",
      "Starting training with 587 train batches, 43 test batches\n"
     ]
    },
    {
     "name": "stderr",
     "output_type": "stream",
     "text": [
      "Training:  20%|███████                            | 1/5 [00:18<01:14, 18.70s/it]"
     ]
    },
    {
     "name": "stdout",
     "output_type": "stream",
     "text": [
      "Epoch 1/5, Loss: -0.0704, Train Sharpe: 0.0133, Test Sharpe: -0.0312, Avg Weight: 0.0002, Max Weight: 0.0015\n"
     ]
    },
    {
     "name": "stderr",
     "output_type": "stream",
     "text": [
      "Training:  60%|█████████████████████              | 3/5 [00:59<00:40, 20.19s/it]"
     ]
    },
    {
     "name": "stdout",
     "output_type": "stream",
     "text": [
      "Epoch 3/5, Loss: -0.1124, Train Sharpe: 0.0593, Test Sharpe: 0.0207, Avg Weight: 0.0002, Max Weight: 0.0025\n"
     ]
    }
   ],
   "source": [
    "# Keeping track of the return over all the data\n",
    "reload(utils)\n",
    "all_strategy_returns = []\n",
    "\n",
    "for i in range(0, len(unique_months) - 6 - 1):\n",
    "\n",
    "    # Train on 6 months of data and test on 1 month\n",
    "    train_start = unique_months.iloc[i]\n",
    "    train_end = unique_months.iloc[i+6]\n",
    "    test_month = unique_months.iloc[i+7]\n",
    "\n",
    "    print(f'Training from {train_start} to {train_end}. Testing on {test_month}.')\n",
    "    \n",
    "    # Filter data\n",
    "    train_mask = (daily['year_month'] >= train_start) & (daily['year_month'] <= train_end)\n",
    "    test_mask = daily['year_month'] == test_month\n",
    "\n",
    "    tr_df = daily[train_mask].copy()\n",
    "    te_df = daily[test_mask].copy()\n",
    "\n",
    "    # Prepare the data: construct lagged returns, rolling window averages\n",
    "    train_df, test_df, features, cat_features = utils.prepare_data(tr_df, te_df, lagged_num=1, rolling_window=True)\n",
    "   \n",
    "    epochs = 5\n",
    "    max_weight = 0.05  # No stock >5% weight\n",
    "    diversification_lambda = 0.01  # Strength of penalty\n",
    "    temperature = 1.0  # Softmax temperature (lower = more diversification)\n",
    "    train_losses, test_losses, train_sharpes, test_sharpes, raw_predictions, weights = utils.train_DNN(train_df, test_df, features, cat_features, \n",
    "                                                                                                   epochs=epochs, max_weight=max_weight, \n",
    "                                                                                                   diversification_lambda=diversification_lambda, \n",
    "                                                                                                   temperature=temperature)\n",
    "    # Deduct transaction costs \n",
    "    TC_RATE = 0.003 # 0.20% of traded notional value\n",
    "\n",
    "    test_df['weight'] = weights.values\n",
    "    test_df['weight_change'] = np.abs(test_df['weight'].diff().fillna(0.0))\n",
    "    test_df['tc_cost'] = test_df['weight_change'].apply(utils.progressive_cost) * TC_RATE # Apply increasing costs relative to trade size\n",
    "    test_df['strategy_return'] = test_df['weight'] * test_df['DlyRet'] - test_df['tc_cost']\n",
    "    mean_daily_returns = test_df.groupby('date')['strategy_return'].sum()\n",
    "\n",
    "    all_strategy_returns.append(mean_daily_returns)\n",
    "    gc.collect() # Memory clean-up\n",
    "\n",
    "# Concatenate all windows into one Series\n",
    "combined_returns = pd.concat(all_strategy_returns)\n",
    "\n"
   ]
  },
  {
   "cell_type": "code",
   "execution_count": 6,
   "metadata": {},
   "outputs": [
    {
     "data": {
      "image/png": "[encoded data removed]",
      "text/plain": [
       "<Figure size 1000x600 with 1 Axes>"
      ]
     },
     "metadata": {},
     "output_type": "display_data"
    }
   ],
   "source": [
    "# Plot the cumulative returns of the strategy and compare with the S&P 500 index\n",
    "cumulative_returns = (1 + combined_returns).cumprod() \n",
    "sp_ret = daily.groupby('date')['sprtrn'].mean()\n",
    "\n",
    "strat_start = unique_months.iloc[7].to_timestamp()\n",
    "sp_ret = sp_ret.loc[strat_start:]\n",
    "\n",
    "cumulative_sp500 = (1 + sp_ret).cumprod()\n",
    "\n",
    "# Combine into a single DataFrame for easy plotting\n",
    "combined = pd.DataFrame({\n",
    "    'Strategy': cumulative_returns,\n",
    "    'S&P 500': cumulative_sp500\n",
    "})\n",
    "\n",
    "# Sharpe ratio\n",
    "strat_sharpe = np.sqrt(combined_returns.shape[0]) * (combined_returns.mean() / combined_returns.std())\n",
    "sp_sharpe = np.sqrt(sp_ret.shape[0]) * (sp_ret.mean() / sp_ret.std())\n",
    "\n",
    "# Plot\n",
    "combined.plot(figsize=(10, 6), title=f'Cumulative Returns: Strategy (Sharpe={strat_sharpe}) vs S&P 500 (Sharpe={sp_sharpe} ')\n",
    "plt.ylabel('Cumulative Return')\n",
    "plt.grid(True)\n",
    "plt.show()"
   ]
  },
  {
   "cell_type": "code",
   "execution_count": 11,
   "metadata": {},
   "outputs": [
    {
     "data": {
      "text/plain": [
       "date\n",
       "2000-08-01   -0.010199\n",
       "2000-08-02    0.011040\n",
       "2000-08-03    0.003920\n",
       "2000-08-04    0.031780\n",
       "2000-08-07    0.024365\n",
       "                ...   \n",
       "2000-12-07    0.017940\n",
       "2000-12-08    0.099359\n",
       "2000-12-11    0.044720\n",
       "2000-12-12    0.026630\n",
       "2000-12-13    0.057143\n",
       "Name: strategy_return, Length: 95, dtype: float64"
      ]
     },
     "execution_count": 11,
     "metadata": {},
     "output_type": "execute_result"
    }
   ],
   "source": [
    "combined_returns"
   ]
  },
  {
   "cell_type": "code",
   "execution_count": 8,
   "metadata": {},
   "outputs": [
    {
     "data": {
      "text/plain": [
       "<Axes: title={'center': 'Cumulative Strategy Returns'}, xlabel='date'>"
      ]
     },
     "execution_count": 8,
     "metadata": {},
     "output_type": "execute_result"
    },
    {
     "data": {
      "image/png": "[encoded data removed]",
      "text/plain": [
       "<Figure size 640x480 with 1 Axes>"
      ]
     },
     "metadata": {},
     "output_type": "display_data"
    }
   ],
   "source": [
    "combined_returns = combined_returns.sort_index()\n",
    "\n",
    "# Convert to DataFrame and calculate cumulative returns\n",
    "results_df = pd.DataFrame({\n",
    "    'daily_return': combined_returns,\n",
    "    'cumulative_return': (1 + combined_returns).cumprod() - 1  # Geometric compounding\n",
    "})\n",
    "\n",
    "# Now you can plot:\n",
    "results_df['cumulative_return'].plot(title='Cumulative Strategy Returns')"
   ]
  },
  {
   "cell_type": "code",
   "execution_count": 9,
   "metadata": {},
   "outputs": [
    {
     "data": {
      "text/plain": [
       "date\n",
       "2000-08-01   -0.013437\n",
       "2000-08-02    0.086483\n",
       "2000-08-03   -0.035922\n",
       "2000-08-04    0.126855\n",
       "2000-08-07    0.206109\n",
       "                ...   \n",
       "2000-12-07   -0.053528\n",
       "2000-12-08    0.179131\n",
       "2000-12-11    0.034629\n",
       "2000-12-12    0.110182\n",
       "2000-12-13    0.047174\n",
       "Name: strategy_return, Length: 95, dtype: float64"
      ]
     },
     "execution_count": 9,
     "metadata": {},
     "output_type": "execute_result"
    }
   ],
   "source": [
    "combined_returns"
   ]
  },
  {
   "cell_type": "code",
   "execution_count": 10,
   "metadata": {},
   "outputs": [
    {
     "data": {
      "text/plain": [
       "<Axes: title={'center': 'Cumulative Strategy Returns'}, xlabel='date'>"
      ]
     },
     "execution_count": 10,
     "metadata": {},
     "output_type": "execute_result"
    },
    {
     "data": {
      "image/png": "[encoded data removed]",
      "text/plain": [
       "<Figure size 640x480 with 1 Axes>"
      ]
     },
     "metadata": {},
     "output_type": "display_data"
    }
   ],
   "source": [
    "results_df['cumulative_return'].iloc[0:20].plot(title='Cumulative Strategy Returns')"
   ]
  },
  {
   "cell_type": "code",
   "execution_count": 11,
   "metadata": {},
   "outputs": [
    {
     "data": {
      "text/plain": [
       "np.float64(7.2866841729047085)"
      ]
     },
     "execution_count": 11,
     "metadata": {},
     "output_type": "execute_result"
    }
   ],
   "source": [
    "sharpe = np.sqrt(95) * (combined_returns.mean() / mean_daily_returns.std())\n",
    "sharpe"
   ]
  },
  {
   "cell_type": "code",
   "execution_count": 14,
   "metadata": {},
   "outputs": [
    {
     "data": {
      "text/plain": [
       "date          2000-03-06 00:00:00\n",
       "PERMCO                      13537\n",
       "PERMNO                      81283\n",
       "SICCD                        3570\n",
       "NAICS                           0\n",
       "DlyRet                   4.045455\n",
       "sprtrn                  -0.012695\n",
       "year_month                2000-03\n",
       "Name: 361324, dtype: object"
      ]
     },
     "execution_count": 14,
     "metadata": {},
     "output_type": "execute_result"
    }
   ],
   "source": [
    "max_row = daily.loc[daily['DlyRet'].idxmax()]\n",
    "max_row"
   ]
  },
  {
   "cell_type": "code",
   "execution_count": 5,
   "metadata": {},
   "outputs": [
    {
     "data": {
      "text/html": [
       "<div>\n",
       "<style scoped>\n",
       "    .dataframe tbody tr th:only-of-type {\n",
       "        vertical-align: middle;\n",
       "    }\n",
       "\n",
       "    .dataframe tbody tr th {\n",
       "        vertical-align: top;\n",
       "    }\n",
       "\n",
       "    .dataframe thead th {\n",
       "        text-align: right;\n",
       "    }\n",
       "</style>\n",
       "<table border=\"1\" class=\"dataframe\">\n",
       "  <thead>\n",
       "    <tr style=\"text-align: right;\">\n",
       "      <th></th>\n",
       "      <th>Unnamed: 0</th>\n",
       "      <th>date</th>\n",
       "      <th>PERMNO</th>\n",
       "      <th>gvkey</th>\n",
       "      <th>pls_index</th>\n",
       "    </tr>\n",
       "  </thead>\n",
       "  <tbody>\n",
       "    <tr>\n",
       "      <th>0</th>\n",
       "      <td>0</td>\n",
       "      <td>2000-01-31</td>\n",
       "      <td>10025</td>\n",
       "      <td>11903</td>\n",
       "      <td>-3.107469</td>\n",
       "    </tr>\n",
       "    <tr>\n",
       "      <th>1</th>\n",
       "      <td>1</td>\n",
       "      <td>2000-01-31</td>\n",
       "      <td>10089</td>\n",
       "      <td>12143</td>\n",
       "      <td>-1.304217</td>\n",
       "    </tr>\n",
       "    <tr>\n",
       "      <th>2</th>\n",
       "      <td>2</td>\n",
       "      <td>2000-01-31</td>\n",
       "      <td>10155</td>\n",
       "      <td>12094</td>\n",
       "      <td>-2.892794</td>\n",
       "    </tr>\n",
       "    <tr>\n",
       "      <th>3</th>\n",
       "      <td>3</td>\n",
       "      <td>2000-01-31</td>\n",
       "      <td>10182</td>\n",
       "      <td>12171</td>\n",
       "      <td>5.863377</td>\n",
       "    </tr>\n",
       "    <tr>\n",
       "      <th>4</th>\n",
       "      <td>4</td>\n",
       "      <td>2000-01-31</td>\n",
       "      <td>10256</td>\n",
       "      <td>12226</td>\n",
       "      <td>-3.608628</td>\n",
       "    </tr>\n",
       "    <tr>\n",
       "      <th>...</th>\n",
       "      <td>...</td>\n",
       "      <td>...</td>\n",
       "      <td>...</td>\n",
       "      <td>...</td>\n",
       "      <td>...</td>\n",
       "    </tr>\n",
       "    <tr>\n",
       "      <th>520167</th>\n",
       "      <td>520167</td>\n",
       "      <td>2024-12-31</td>\n",
       "      <td>93426</td>\n",
       "      <td>185138</td>\n",
       "      <td>-0.052260</td>\n",
       "    </tr>\n",
       "    <tr>\n",
       "      <th>520168</th>\n",
       "      <td>520168</td>\n",
       "      <td>2024-12-31</td>\n",
       "      <td>93427</td>\n",
       "      <td>179583</td>\n",
       "      <td>3.371618</td>\n",
       "    </tr>\n",
       "    <tr>\n",
       "      <th>520169</th>\n",
       "      <td>520169</td>\n",
       "      <td>2024-12-31</td>\n",
       "      <td>93429</td>\n",
       "      <td>184500</td>\n",
       "      <td>5.908846</td>\n",
       "    </tr>\n",
       "    <tr>\n",
       "      <th>520170</th>\n",
       "      <td>520170</td>\n",
       "      <td>2024-12-31</td>\n",
       "      <td>93434</td>\n",
       "      <td>184259</td>\n",
       "      <td>-4.831854</td>\n",
       "    </tr>\n",
       "    <tr>\n",
       "      <th>520171</th>\n",
       "      <td>520171</td>\n",
       "      <td>2024-12-31</td>\n",
       "      <td>93436</td>\n",
       "      <td>184996</td>\n",
       "      <td>4.696742</td>\n",
       "    </tr>\n",
       "  </tbody>\n",
       "</table>\n",
       "<p>520172 rows × 5 columns</p>\n",
       "</div>"
      ],
      "text/plain": [
       "        Unnamed: 0        date  PERMNO   gvkey  pls_index\n",
       "0                0  2000-01-31   10025   11903  -3.107469\n",
       "1                1  2000-01-31   10089   12143  -1.304217\n",
       "2                2  2000-01-31   10155   12094  -2.892794\n",
       "3                3  2000-01-31   10182   12171   5.863377\n",
       "4                4  2000-01-31   10256   12226  -3.608628\n",
       "...            ...         ...     ...     ...        ...\n",
       "520167      520167  2024-12-31   93426  185138  -0.052260\n",
       "520168      520168  2024-12-31   93427  179583   3.371618\n",
       "520169      520169  2024-12-31   93429  184500   5.908846\n",
       "520170      520170  2024-12-31   93434  184259  -4.831854\n",
       "520171      520171  2024-12-31   93436  184996   4.696742\n",
       "\n",
       "[520172 rows x 5 columns]"
      ]
     },
     "execution_count": 5,
     "metadata": {},
     "output_type": "execute_result"
    }
   ],
   "source": [
    "index_df = pd.read_csv('Predictors/FirmCharacIndex.csv')\n",
    "index_df"
   ]
  },
  {
   "cell_type": "code",
   "execution_count": 6,
   "metadata": {},
   "outputs": [
    {
     "name": "stdout",
     "output_type": "stream",
     "text": [
      "Processing 7762 common PERMNOs...\n",
      "Processing PERMNO 1/7762\n",
      "Processing PERMNO 1001/7762\n",
      "Processing PERMNO 2001/7762\n",
      "Processing PERMNO 3001/7762\n",
      "Processing PERMNO 4001/7762\n",
      "Processing PERMNO 5001/7762\n",
      "Processing PERMNO 6001/7762\n",
      "Processing PERMNO 7001/7762\n",
      "Adding 1242 PERMNOs without PLS data...\n",
      "Combining results...\n"
     ]
    },
    {
     "data": {
      "text/html": [
       "<div>\n",
       "<style scoped>\n",
       "    .dataframe tbody tr th:only-of-type {\n",
       "        vertical-align: middle;\n",
       "    }\n",
       "\n",
       "    .dataframe tbody tr th {\n",
       "        vertical-align: top;\n",
       "    }\n",
       "\n",
       "    .dataframe thead th {\n",
       "        text-align: right;\n",
       "    }\n",
       "</style>\n",
       "<table border=\"1\" class=\"dataframe\">\n",
       "  <thead>\n",
       "    <tr style=\"text-align: right;\">\n",
       "      <th></th>\n",
       "      <th>date</th>\n",
       "      <th>PERMCO</th>\n",
       "      <th>PERMNO</th>\n",
       "      <th>SICCD</th>\n",
       "      <th>NAICS</th>\n",
       "      <th>DlyRet</th>\n",
       "      <th>sprtrn</th>\n",
       "      <th>year_month</th>\n",
       "      <th>pls_index</th>\n",
       "    </tr>\n",
       "  </thead>\n",
       "  <tbody>\n",
       "    <tr>\n",
       "      <th>0</th>\n",
       "      <td>2000-01-31</td>\n",
       "      <td>7953</td>\n",
       "      <td>10001</td>\n",
       "      <td>4920</td>\n",
       "      <td>0</td>\n",
       "      <td>-0.029851</td>\n",
       "      <td>0.025218</td>\n",
       "      <td>2000-01</td>\n",
       "      <td>0.000000</td>\n",
       "    </tr>\n",
       "    <tr>\n",
       "      <th>1</th>\n",
       "      <td>2000-01-31</td>\n",
       "      <td>7954</td>\n",
       "      <td>10002</td>\n",
       "      <td>6020</td>\n",
       "      <td>0</td>\n",
       "      <td>-0.005236</td>\n",
       "      <td>0.025218</td>\n",
       "      <td>2000-01</td>\n",
       "      <td>0.000000</td>\n",
       "    </tr>\n",
       "    <tr>\n",
       "      <th>2</th>\n",
       "      <td>2000-01-31</td>\n",
       "      <td>7965</td>\n",
       "      <td>10009</td>\n",
       "      <td>6030</td>\n",
       "      <td>0</td>\n",
       "      <td>-0.004255</td>\n",
       "      <td>0.025218</td>\n",
       "      <td>2000-01</td>\n",
       "      <td>0.000000</td>\n",
       "    </tr>\n",
       "    <tr>\n",
       "      <th>3</th>\n",
       "      <td>2000-01-31</td>\n",
       "      <td>7969</td>\n",
       "      <td>10012</td>\n",
       "      <td>3670</td>\n",
       "      <td>0</td>\n",
       "      <td>-0.033333</td>\n",
       "      <td>0.025218</td>\n",
       "      <td>2000-01</td>\n",
       "      <td>0.000000</td>\n",
       "    </tr>\n",
       "    <tr>\n",
       "      <th>4</th>\n",
       "      <td>2000-01-31</td>\n",
       "      <td>1728</td>\n",
       "      <td>10016</td>\n",
       "      <td>3560</td>\n",
       "      <td>0</td>\n",
       "      <td>0.038168</td>\n",
       "      <td>0.025218</td>\n",
       "      <td>2000-01</td>\n",
       "      <td>0.000000</td>\n",
       "    </tr>\n",
       "    <tr>\n",
       "      <th>...</th>\n",
       "      <td>...</td>\n",
       "      <td>...</td>\n",
       "      <td>...</td>\n",
       "      <td>...</td>\n",
       "      <td>...</td>\n",
       "      <td>...</td>\n",
       "      <td>...</td>\n",
       "      <td>...</td>\n",
       "      <td>...</td>\n",
       "    </tr>\n",
       "    <tr>\n",
       "      <th>1441513</th>\n",
       "      <td>2000-10-05</td>\n",
       "      <td>7428</td>\n",
       "      <td>92690</td>\n",
       "      <td>6798</td>\n",
       "      <td>0</td>\n",
       "      <td>-0.006711</td>\n",
       "      <td>0.001367</td>\n",
       "      <td>2000-10</td>\n",
       "      <td>0.710286</td>\n",
       "    </tr>\n",
       "    <tr>\n",
       "      <th>1441514</th>\n",
       "      <td>2000-10-05</td>\n",
       "      <td>7407</td>\n",
       "      <td>92807</td>\n",
       "      <td>6020</td>\n",
       "      <td>0</td>\n",
       "      <td>0.000000</td>\n",
       "      <td>0.001367</td>\n",
       "      <td>2000-10</td>\n",
       "      <td>0.117273</td>\n",
       "    </tr>\n",
       "    <tr>\n",
       "      <th>1441515</th>\n",
       "      <td>2000-10-05</td>\n",
       "      <td>7378</td>\n",
       "      <td>92874</td>\n",
       "      <td>3690</td>\n",
       "      <td>0</td>\n",
       "      <td>-0.059701</td>\n",
       "      <td>0.001367</td>\n",
       "      <td>2000-10</td>\n",
       "      <td>-0.907260</td>\n",
       "    </tr>\n",
       "    <tr>\n",
       "      <th>1441516</th>\n",
       "      <td>2000-10-05</td>\n",
       "      <td>7323</td>\n",
       "      <td>92930</td>\n",
       "      <td>3714</td>\n",
       "      <td>0</td>\n",
       "      <td>-0.011321</td>\n",
       "      <td>0.001367</td>\n",
       "      <td>2000-10</td>\n",
       "      <td>4.626466</td>\n",
       "    </tr>\n",
       "    <tr>\n",
       "      <th>1441517</th>\n",
       "      <td>2000-10-05</td>\n",
       "      <td>7427</td>\n",
       "      <td>93105</td>\n",
       "      <td>6020</td>\n",
       "      <td>0</td>\n",
       "      <td>-0.036364</td>\n",
       "      <td>0.001367</td>\n",
       "      <td>2000-10</td>\n",
       "      <td>3.157743</td>\n",
       "    </tr>\n",
       "  </tbody>\n",
       "</table>\n",
       "<p>1441518 rows × 9 columns</p>\n",
       "</div>"
      ],
      "text/plain": [
       "              date  PERMCO  PERMNO  SICCD  NAICS    DlyRet    sprtrn  \\\n",
       "0       2000-01-31    7953   10001   4920      0 -0.029851  0.025218   \n",
       "1       2000-01-31    7954   10002   6020      0 -0.005236  0.025218   \n",
       "2       2000-01-31    7965   10009   6030      0 -0.004255  0.025218   \n",
       "3       2000-01-31    7969   10012   3670      0 -0.033333  0.025218   \n",
       "4       2000-01-31    1728   10016   3560      0  0.038168  0.025218   \n",
       "...            ...     ...     ...    ...    ...       ...       ...   \n",
       "1441513 2000-10-05    7428   92690   6798      0 -0.006711  0.001367   \n",
       "1441514 2000-10-05    7407   92807   6020      0  0.000000  0.001367   \n",
       "1441515 2000-10-05    7378   92874   3690      0 -0.059701  0.001367   \n",
       "1441516 2000-10-05    7323   92930   3714      0 -0.011321  0.001367   \n",
       "1441517 2000-10-05    7427   93105   6020      0 -0.036364  0.001367   \n",
       "\n",
       "        year_month  pls_index  \n",
       "0          2000-01   0.000000  \n",
       "1          2000-01   0.000000  \n",
       "2          2000-01   0.000000  \n",
       "3          2000-01   0.000000  \n",
       "4          2000-01   0.000000  \n",
       "...            ...        ...  \n",
       "1441513    2000-10   0.710286  \n",
       "1441514    2000-10   0.117273  \n",
       "1441515    2000-10  -0.907260  \n",
       "1441516    2000-10   4.626466  \n",
       "1441517    2000-10   3.157743  \n",
       "\n",
       "[1441518 rows x 9 columns]"
      ]
     },
     "execution_count": 6,
     "metadata": {},
     "output_type": "execute_result"
    }
   ],
   "source": [
    "merged = utils.merge_pls_with_asof(daily, index_df)\n",
    "merged = merged.fillna(0)\n",
    "merged"
   ]
  },
  {
   "cell_type": "code",
   "execution_count": 7,
   "metadata": {
    "executionInfo": {
     "elapsed": 5212,
     "status": "ok",
     "timestamp": 1749567208636,
     "user": {
      "displayName": "Mirko Rado",
      "userId": "09310665357187365654"
     },
     "user_tz": -120
    },
    "id": "Nan5o3EE9zt3"
   },
   "outputs": [
    {
     "name": "stdout",
     "output_type": "stream",
     "text": [
      "Training from 2000-01 to 2000-07. Testing on 2000-08.\n",
      "['DlyRet', 'sprtrn', 'pls_index', 'DlyRet_lag1', 'DlyRet_roll_10', 'DlyRet_roll_20', 'DlyRet_roll_30']\n",
      "Starting training with 516 train batches, 47 test batches\n"
     ]
    },
    {
     "name": "stderr",
     "output_type": "stream",
     "text": [
      "Training:  25%|████████▊                          | 1/4 [00:17<00:51, 17.09s/it]"
     ]
    },
    {
     "name": "stdout",
     "output_type": "stream",
     "text": [
      "Epoch 1/4, Loss: -0.6767, Train Sharpe: 1.3908, Test Sharpe: 1.2096\n"
     ]
    },
    {
     "name": "stderr",
     "output_type": "stream",
     "text": [
      "Training:  75%|██████████████████████████▎        | 3/4 [00:54<00:18, 18.29s/it]"
     ]
    },
    {
     "name": "stdout",
     "output_type": "stream",
     "text": [
      "Epoch 3/4, Loss: -1.3135, Train Sharpe: 1.6550, Test Sharpe: 1.4923\n"
     ]
    },
    {
     "name": "stderr",
     "output_type": "stream",
     "text": [
      "Training: 100%|███████████████████████████████████| 4/4 [01:10<00:00, 17.58s/it]"
     ]
    },
    {
     "name": "stdout",
     "output_type": "stream",
     "text": [
      "Epoch 4/4, Loss: -1.3689, Train Sharpe: 1.6328, Test Sharpe: 1.4852\n",
      "Training completed! Best test Sharpe ratio: 1.4923\n"
     ]
    },
    {
     "name": "stderr",
     "output_type": "stream",
     "text": [
      "\n"
     ]
    },
    {
     "ename": "NameError",
     "evalue": "name 'strat_returns' is not defined",
     "output_type": "error",
     "traceback": [
      "\u001b[0;31m---------------------------------------------------------------------------\u001b[0m",
      "\u001b[0;31mNameError\u001b[0m                                 Traceback (most recent call last)",
      "Cell \u001b[0;32mIn[7], line 37\u001b[0m\n\u001b[1;32m     25\u001b[0m train_losses, test_losses, train_sharpes, test_sharpes, raw_predictions \u001b[38;5;241m=\u001b[39m utils\u001b[38;5;241m.\u001b[39mtrain_DNN(train_df, test_df, features, cat_features, epochs\u001b[38;5;241m=\u001b[39m\u001b[38;5;241m4\u001b[39m)\n\u001b[1;32m     27\u001b[0m \u001b[38;5;66;03m#print(strat_returns.shape)\u001b[39;00m\n\u001b[1;32m     28\u001b[0m \u001b[38;5;66;03m# Right after getting strat_returns\u001b[39;00m\n\u001b[1;32m     29\u001b[0m \u001b[38;5;66;03m#print(f\"strat_returns stats: min={strat_returns.min()}, max={strat_returns.max()}, nan_count={strat_returns.isna().sum()}\")\u001b[39;00m\n\u001b[0;32m   (...)\u001b[0m\n\u001b[1;32m     35\u001b[0m \n\u001b[1;32m     36\u001b[0m \u001b[38;5;66;03m# After assigning to test_df\u001b[39;00m\n\u001b[0;32m---> 37\u001b[0m test_df[\u001b[38;5;124m'\u001b[39m\u001b[38;5;124mstrat_return\u001b[39m\u001b[38;5;124m'\u001b[39m] \u001b[38;5;241m=\u001b[39m strat_returns\u001b[38;5;241m.\u001b[39mvalues \n\u001b[1;32m     38\u001b[0m \u001b[38;5;66;03m#print(f\"test_df['strat_return'] nan_count: {test_df['strat_return'].isna().sum()}\")\u001b[39;00m\n\u001b[1;32m     39\u001b[0m \n\u001b[1;32m     40\u001b[0m \u001b[38;5;66;03m# Calculate mean returns by date\u001b[39;00m\n\u001b[1;32m     41\u001b[0m mean_daily_returns \u001b[38;5;241m=\u001b[39m test_df\u001b[38;5;241m.\u001b[39mgroupby(\u001b[38;5;124m'\u001b[39m\u001b[38;5;124mdate\u001b[39m\u001b[38;5;124m'\u001b[39m)[\u001b[38;5;124m'\u001b[39m\u001b[38;5;124mstrat_return\u001b[39m\u001b[38;5;124m'\u001b[39m]\u001b[38;5;241m.\u001b[39mmean()\n",
      "\u001b[0;31mNameError\u001b[0m: name 'strat_returns' is not defined"
     ]
    }
   ],
   "source": [
    "# Keeping track of the return over all the data\n",
    "all_raw_predictions = []\n",
    "\n",
    "for i in range(0, len(unique_months) - 6 - 1):\n",
    "\n",
    "    # Train on 6 months of data and test on 1 month\n",
    "    train_start = unique_months.iloc[i]\n",
    "    train_end = unique_months.iloc[i+6]\n",
    "    test_month = unique_months.iloc[i+7]\n",
    "\n",
    "    print(f'Training from {train_start} to {train_end}. Testing on {test_month}.')\n",
    "    \n",
    "    # Filter data\n",
    "    train_mask = (merged['year_month'] >= train_start) & (merged['year_month'] <= train_end)\n",
    "    test_mask = merged['year_month'] == test_month\n",
    "\n",
    "    tr_df = merged[train_mask].copy()\n",
    "    te_df = merged[test_mask].copy()\n",
    "\n",
    "    # Prepare the data: construct lagged returns, rolling window averages\n",
    "    train_df, test_df, features, cat_features = utils.prepare_data(tr_df, te_df, lagged_num=1, rolling_window=True)\n",
    "\n",
    "    #print(test_df.shape)\n",
    "    \n",
    "    train_losses, test_losses, train_sharpes, test_sharpes, raw_predictions = utils.train_DNN(train_df, test_df, features, cat_features, epochs=4)\n",
    "\n",
    "    #print(strat_returns.shape)\n",
    "    # Right after getting strat_returns\n",
    "    #print(f\"strat_returns stats: min={strat_returns.min()}, max={strat_returns.max()}, nan_count={strat_returns.isna().sum()}\")\n",
    "    #print(f\"strat_returns shape: {strat_returns.shape}\")\n",
    "    #print(f\"test_df shape: {test_df.shape}\")\n",
    "\n",
    "    # Add strat_returns as a new column to test_df\n",
    "    #test_df['strat_return'] = strat_returns \n",
    "\n",
    "    # After assigning to test_df\n",
    "    test_df['strat_return'] = strat_returns.values \n",
    "    #print(f\"test_df['strat_return'] nan_count: {test_df['strat_return'].isna().sum()}\")\n",
    "\n",
    "    # Calculate mean returns by date\n",
    "    mean_daily_returns = test_df.groupby('date')['strat_return'].mean()\n",
    "\n",
    "    # Check if the groupby operation is the issue\n",
    "    #mean_daily_returns = test_df.groupby('date')['strat_return'].mean()\n",
    "    #print(f\"mean_daily_returns nan_count: {mean_daily_returns.isna().sum()}\")\n",
    "    \n",
    "    #print(mean_daily_returns.shape)\n",
    "    all_strategy_returns.append(mean_daily_returns)\n",
    "\n",
    "\n",
    "\n",
    "\n",
    "\n",
    "\n",
    "# Concatenate all windows into one Series\n",
    "combined_returns = pd.concat(all_strategy_returns)\n",
    "\n"
   ]
  },
  {
   "cell_type": "code",
   "execution_count": null,
   "metadata": {},
   "outputs": [],
   "source": [
    "combined_returns"
   ]
  },
  {
   "cell_type": "code",
   "execution_count": 8,
   "metadata": {},
   "outputs": [
    {
     "ename": "NameError",
     "evalue": "name 'combined_returns' is not defined",
     "output_type": "error",
     "traceback": [
      "\u001b[0;31m---------------------------------------------------------------------------\u001b[0m",
      "\u001b[0;31mNameError\u001b[0m                                 Traceback (most recent call last)",
      "Cell \u001b[0;32mIn[8], line 5\u001b[0m\n\u001b[1;32m      1\u001b[0m \u001b[38;5;66;03m# Handle duplicate dates (if any) by taking the mean\u001b[39;00m\n\u001b[1;32m      2\u001b[0m \u001b[38;5;66;03m#combined_returns = combined_returns.groupby(level=0).mean()\u001b[39;00m\n\u001b[1;32m      3\u001b[0m \n\u001b[1;32m      4\u001b[0m \u001b[38;5;66;03m# Sort by date to ensure chronological order\u001b[39;00m\n\u001b[0;32m----> 5\u001b[0m combined_returns \u001b[38;5;241m=\u001b[39m combined_returns\u001b[38;5;241m.\u001b[39msort_index()\n\u001b[1;32m      7\u001b[0m \u001b[38;5;66;03m# Convert to DataFrame and calculate cumulative returns\u001b[39;00m\n\u001b[1;32m      8\u001b[0m results_df \u001b[38;5;241m=\u001b[39m pd\u001b[38;5;241m.\u001b[39mDataFrame({\n\u001b[1;32m      9\u001b[0m     \u001b[38;5;124m'\u001b[39m\u001b[38;5;124mdaily_return\u001b[39m\u001b[38;5;124m'\u001b[39m: combined_returns,\n\u001b[1;32m     10\u001b[0m     \u001b[38;5;124m'\u001b[39m\u001b[38;5;124mcumulative_return\u001b[39m\u001b[38;5;124m'\u001b[39m: (\u001b[38;5;241m1\u001b[39m \u001b[38;5;241m+\u001b[39m combined_returns)\u001b[38;5;241m.\u001b[39mcumprod() \u001b[38;5;241m-\u001b[39m \u001b[38;5;241m1\u001b[39m  \u001b[38;5;66;03m# Geometric compounding\u001b[39;00m\n\u001b[1;32m     11\u001b[0m })\n",
      "\u001b[0;31mNameError\u001b[0m: name 'combined_returns' is not defined"
     ]
    }
   ],
   "source": [
    "# Handle duplicate dates (if any) by taking the mean\n",
    "#combined_returns = combined_returns.groupby(level=0).mean()\n",
    "\n",
    "# Sort by date to ensure chronological order\n",
    "combined_returns = combined_returns.sort_index()\n",
    "\n",
    "# Convert to DataFrame and calculate cumulative returns\n",
    "results_df = pd.DataFrame({\n",
    "    'daily_return': combined_returns,\n",
    "    'cumulative_return': (1 + combined_returns).cumprod() - 1  # Geometric compounding\n",
    "})\n",
    "\n",
    "# Now you can plot:\n",
    "results_df['cumulative_return'].plot(title='Cumulative Strategy Returns')"
   ]
  },
  {
   "cell_type": "code",
   "execution_count": null,
   "metadata": {},
   "outputs": [],
   "source": []
  }
 ],
 "metadata": {
  "accelerator": "GPU",
  "colab": {
   "gpuType": "T4",
   "provenance": []
  },
  "kernelspec": {
   "display_name": "Python 3 (ipykernel)",
   "language": "python",
   "name": "python3"
  },
  "language_info": {
   "codemirror_mode": {
    "name": "ipython",
    "version": 3
   },
   "file_extension": ".py",
   "mimetype": "text/x-python",
   "name": "python",
   "nbconvert_exporter": "python",
   "pygments_lexer": "ipython3",
   "version": "3.12.9"
  }
 },
 "nbformat": 4,
 "nbformat_minor": 4
}
