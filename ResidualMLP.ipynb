{
 "cells": [
  {
   "cell_type": "code",
   "execution_count": 1,
   "metadata": {
    "executionInfo": {
     "elapsed": 9244,
     "status": "ok",
     "timestamp": 1749567167967,
     "user": {
      "displayName": "Mirko Rado",
      "userId": "09310665357187365654"
     },
     "user_tz": -120
    },
    "id": "CqzdbFF2-wrs"
   },
   "outputs": [],
   "source": [
    "import torch\n",
    "import numpy as np\n",
    "import pandas as pd\n",
    "import DNN_utils as utils\n",
    "import matplotlib.pyplot as plt\n",
    "import seaborn as sns\n",
    "import os\n",
    "from sklearn.linear_model import LinearRegression\n",
    "from datetime import datetime\n",
    "from tqdm import tqdm\n",
    "import torch.nn as nn\n",
    "import torch.nn.functional as F\n",
    "import random\n",
    "from torch.utils.data import Dataset, DataLoader\n",
    "from sklearn.preprocessing import StandardScaler\n",
    "from sklearn.model_selection import train_test_split\n",
    "import gc\n",
    "from importlib import reload"
   ]
  },
  {
   "cell_type": "code",
   "execution_count": 2,
   "metadata": {
    "colab": {
     "base_uri": "https://localhost:8080/"
    },
    "executionInfo": {
     "elapsed": 992,
     "status": "ok",
     "timestamp": 1749567180421,
     "user": {
      "displayName": "Mirko Rado",
      "userId": "09310665357187365654"
     },
     "user_tz": -120
    },
    "id": "jnIz8GWK-yNh",
    "outputId": "29a5381d-185d-48b5-f7b1-64de2d2430af"
   },
   "outputs": [],
   "source": [
    "# IF EXECUTING ON COLLAB UNCOMMENT THIS CELL\n",
    "\n",
    "#import os\n",
    "#from google.colab import drive\n",
    "#drive.mount('/content/gdrive')\n",
    "#folder = '/content/gdrive/My Drive/Data ML Project'\n",
    "#os.chdir(folder)\n",
    "#print(torch.cuda.is_available())\n",
    "\n",
    "# Set these right after importing torch, before any other operations\n",
    "torch.set_num_threads(os.cpu_count())\n",
    "torch.set_num_interop_threads(os.cpu_count())\n",
    "path = 'Targets/daily_crsp_sanitized.csv'"
   ]
  },
  {
   "cell_type": "code",
   "execution_count": 3,
   "metadata": {
    "colab": {
     "base_uri": "https://localhost:8080/",
     "height": 423
    },
    "executionInfo": {
     "elapsed": 8953,
     "status": "ok",
     "timestamp": 1749567191293,
     "user": {
      "displayName": "Mirko Rado",
      "userId": "09310665357187365654"
     },
     "user_tz": -120
    },
    "id": "ixOUuFbM1fqe",
    "outputId": "cd15f372-0fc0-4603-f438-473cf27d7f37"
   },
   "outputs": [
    {
     "name": "stdout",
     "output_type": "stream",
     "text": [
      "Number of daily return outliers: 465,274\n"
     ]
    },
    {
     "data": {
      "text/html": [
       "<div>\n",
       "<style scoped>\n",
       "    .dataframe tbody tr th:only-of-type {\n",
       "        vertical-align: middle;\n",
       "    }\n",
       "\n",
       "    .dataframe tbody tr th {\n",
       "        vertical-align: top;\n",
       "    }\n",
       "\n",
       "    .dataframe thead th {\n",
       "        text-align: right;\n",
       "    }\n",
       "</style>\n",
       "<table border=\"1\" class=\"dataframe\">\n",
       "  <thead>\n",
       "    <tr style=\"text-align: right;\">\n",
       "      <th></th>\n",
       "      <th>date</th>\n",
       "      <th>PERMCO</th>\n",
       "      <th>PERMNO</th>\n",
       "      <th>SICCD</th>\n",
       "      <th>NAICS</th>\n",
       "      <th>DlyRet</th>\n",
       "      <th>sprtrn</th>\n",
       "      <th>sprtrn_lag1</th>\n",
       "    </tr>\n",
       "  </thead>\n",
       "  <tbody>\n",
       "    <tr>\n",
       "      <th>0</th>\n",
       "      <td>2000-01-31</td>\n",
       "      <td>5</td>\n",
       "      <td>15580</td>\n",
       "      <td>6320</td>\n",
       "      <td>0</td>\n",
       "      <td>-0.068182</td>\n",
       "      <td>0.025218</td>\n",
       "      <td>0.000000</td>\n",
       "    </tr>\n",
       "    <tr>\n",
       "      <th>1</th>\n",
       "      <td>2000-01-31</td>\n",
       "      <td>7</td>\n",
       "      <td>14593</td>\n",
       "      <td>3573</td>\n",
       "      <td>0</td>\n",
       "      <td>0.020910</td>\n",
       "      <td>0.025218</td>\n",
       "      <td>0.000000</td>\n",
       "    </tr>\n",
       "    <tr>\n",
       "      <th>2</th>\n",
       "      <td>2000-01-31</td>\n",
       "      <td>25</td>\n",
       "      <td>62770</td>\n",
       "      <td>6711</td>\n",
       "      <td>0</td>\n",
       "      <td>0.041045</td>\n",
       "      <td>0.025218</td>\n",
       "      <td>0.000000</td>\n",
       "    </tr>\n",
       "    <tr>\n",
       "      <th>3</th>\n",
       "      <td>2000-01-31</td>\n",
       "      <td>29</td>\n",
       "      <td>59184</td>\n",
       "      <td>2082</td>\n",
       "      <td>0</td>\n",
       "      <td>0.011236</td>\n",
       "      <td>0.025218</td>\n",
       "      <td>0.000000</td>\n",
       "    </tr>\n",
       "    <tr>\n",
       "      <th>4</th>\n",
       "      <td>2000-01-31</td>\n",
       "      <td>33</td>\n",
       "      <td>59248</td>\n",
       "      <td>2082</td>\n",
       "      <td>0</td>\n",
       "      <td>0.034667</td>\n",
       "      <td>0.025218</td>\n",
       "      <td>0.000000</td>\n",
       "    </tr>\n",
       "    <tr>\n",
       "      <th>...</th>\n",
       "      <td>...</td>\n",
       "      <td>...</td>\n",
       "      <td>...</td>\n",
       "      <td>...</td>\n",
       "      <td>...</td>\n",
       "      <td>...</td>\n",
       "      <td>...</td>\n",
       "      <td>...</td>\n",
       "    </tr>\n",
       "    <tr>\n",
       "      <th>46530040</th>\n",
       "      <td>2024-12-31</td>\n",
       "      <td>60118</td>\n",
       "      <td>26023</td>\n",
       "      <td>9999</td>\n",
       "      <td>0</td>\n",
       "      <td>-0.000393</td>\n",
       "      <td>-0.004285</td>\n",
       "      <td>-0.010702</td>\n",
       "    </tr>\n",
       "    <tr>\n",
       "      <th>46530041</th>\n",
       "      <td>2024-12-31</td>\n",
       "      <td>60120</td>\n",
       "      <td>26027</td>\n",
       "      <td>9999</td>\n",
       "      <td>523910</td>\n",
       "      <td>-0.133929</td>\n",
       "      <td>-0.004285</td>\n",
       "      <td>-0.010702</td>\n",
       "    </tr>\n",
       "    <tr>\n",
       "      <th>46530042</th>\n",
       "      <td>2024-12-31</td>\n",
       "      <td>60121</td>\n",
       "      <td>26034</td>\n",
       "      <td>9999</td>\n",
       "      <td>0</td>\n",
       "      <td>0.108590</td>\n",
       "      <td>-0.004285</td>\n",
       "      <td>-0.010702</td>\n",
       "    </tr>\n",
       "    <tr>\n",
       "      <th>46530043</th>\n",
       "      <td>2024-12-31</td>\n",
       "      <td>60122</td>\n",
       "      <td>26035</td>\n",
       "      <td>9999</td>\n",
       "      <td>551112</td>\n",
       "      <td>-0.034979</td>\n",
       "      <td>-0.004285</td>\n",
       "      <td>-0.010702</td>\n",
       "    </tr>\n",
       "    <tr>\n",
       "      <th>46530044</th>\n",
       "      <td>2024-12-31</td>\n",
       "      <td>60123</td>\n",
       "      <td>26037</td>\n",
       "      <td>0</td>\n",
       "      <td>423610</td>\n",
       "      <td>0.059333</td>\n",
       "      <td>-0.004285</td>\n",
       "      <td>-0.010702</td>\n",
       "    </tr>\n",
       "  </tbody>\n",
       "</table>\n",
       "<p>46530045 rows × 8 columns</p>\n",
       "</div>"
      ],
      "text/plain": [
       "               date  PERMCO  PERMNO  SICCD   NAICS    DlyRet    sprtrn  \\\n",
       "0        2000-01-31       5   15580   6320       0 -0.068182  0.025218   \n",
       "1        2000-01-31       7   14593   3573       0  0.020910  0.025218   \n",
       "2        2000-01-31      25   62770   6711       0  0.041045  0.025218   \n",
       "3        2000-01-31      29   59184   2082       0  0.011236  0.025218   \n",
       "4        2000-01-31      33   59248   2082       0  0.034667  0.025218   \n",
       "...             ...     ...     ...    ...     ...       ...       ...   \n",
       "46530040 2024-12-31   60118   26023   9999       0 -0.000393 -0.004285   \n",
       "46530041 2024-12-31   60120   26027   9999  523910 -0.133929 -0.004285   \n",
       "46530042 2024-12-31   60121   26034   9999       0  0.108590 -0.004285   \n",
       "46530043 2024-12-31   60122   26035   9999  551112 -0.034979 -0.004285   \n",
       "46530044 2024-12-31   60123   26037      0  423610  0.059333 -0.004285   \n",
       "\n",
       "          sprtrn_lag1  \n",
       "0            0.000000  \n",
       "1            0.000000  \n",
       "2            0.000000  \n",
       "3            0.000000  \n",
       "4            0.000000  \n",
       "...               ...  \n",
       "46530040    -0.010702  \n",
       "46530041    -0.010702  \n",
       "46530042    -0.010702  \n",
       "46530043    -0.010702  \n",
       "46530044    -0.010702  \n",
       "\n",
       "[46530045 rows x 8 columns]"
      ]
     },
     "execution_count": 3,
     "metadata": {},
     "output_type": "execute_result"
    }
   ],
   "source": [
    "daily = utils.read_daily_returns(path, low_quantile=0.005, up_quantile=0.995)\n",
    "daily"
   ]
  },
  {
   "cell_type": "code",
   "execution_count": 4,
   "metadata": {},
   "outputs": [
    {
     "data": {
      "text/plain": [
       "0           2000-01\n",
       "8329        2000-02\n",
       "174757      2000-03\n",
       "365885      2000-04\n",
       "523862      2000-05\n",
       "             ...   \n",
       "45509829    2024-08\n",
       "45719273    2024-09\n",
       "45910745    2024-10\n",
       "46132558    2024-11\n",
       "46325971    2024-12\n",
       "Name: year_month, Length: 300, dtype: period[M]"
      ]
     },
     "execution_count": 4,
     "metadata": {},
     "output_type": "execute_result"
    }
   ],
   "source": [
    "# Get data frame of unique months\n",
    "daily['year_month'] = daily['date'].dt.to_period('M')\n",
    "unique_months = daily['year_month'].drop_duplicates().sort_values()\n",
    "unique_months"
   ]
  },
  {
   "cell_type": "markdown",
   "metadata": {},
   "source": [
    "# Let's run the model on the whole period, without firm characteristics"
   ]
  },
  {
   "cell_type": "code",
   "execution_count": 5,
   "metadata": {},
   "outputs": [
    {
     "name": "stdout",
     "output_type": "stream",
     "text": [
      "Training from 2000-01 to 2000-06. Testing on 2000-07.\n",
      "['sprtrn_lag1', 'DlyRet_lag1', 'DlyRet_roll_10', 'DlyRet_roll_20', 'DlyRet_roll_30']\n",
      "Starting training with 435 train batches, 41 test batches\n"
     ]
    },
    {
     "name": "stderr",
     "output_type": "stream",
     "text": [
      "Training:  25%|████████▊                          | 1/4 [00:14<00:42, 14.15s/it]"
     ]
    },
    {
     "name": "stdout",
     "output_type": "stream",
     "text": [
      "Epoch 1/4, Loss: -0.0616, Train fit: 0.0004, Test fit: -0.0212, Avg Weight: 0.0002, Max Weight: 0.0007\n"
     ]
    },
    {
     "name": "stderr",
     "output_type": "stream",
     "text": [
      "Training:  75%|██████████████████████████▎        | 3/4 [00:41<00:13, 13.70s/it]"
     ]
    },
    {
     "name": "stdout",
     "output_type": "stream",
     "text": [
      "Epoch 3/4, Loss: -0.0784, Train fit: 0.0287, Test fit: 0.0210, Avg Weight: 0.0002, Max Weight: 0.0009\n"
     ]
    },
    {
     "name": "stderr",
     "output_type": "stream",
     "text": [
      "Training: 100%|███████████████████████████████████| 4/4 [00:55<00:00, 13.86s/it]"
     ]
    },
    {
     "name": "stdout",
     "output_type": "stream",
     "text": [
      "Epoch 4/4, Loss: -0.0970, Train fit: 0.0432, Test fit: 0.0390, Avg Weight: 0.0002, Max Weight: 0.0012\n",
      "Training completed! Best test Sharpe ratio: 0.0390\n",
      "Training from 2000-02 to 2000-07. Testing on 2000-08.\n"
     ]
    },
    {
     "name": "stderr",
     "output_type": "stream",
     "text": [
      "\n"
     ]
    },
    {
     "name": "stdout",
     "output_type": "stream",
     "text": [
      "['sprtrn_lag1', 'DlyRet_lag1', 'DlyRet_roll_10', 'DlyRet_roll_20', 'DlyRet_roll_30']\n",
      "Starting training with 512 train batches, 47 test batches\n"
     ]
    },
    {
     "name": "stderr",
     "output_type": "stream",
     "text": [
      "Training:  25%|████████▊                          | 1/4 [00:16<00:50, 16.72s/it]"
     ]
    },
    {
     "name": "stdout",
     "output_type": "stream",
     "text": [
      "Epoch 1/4, Loss: -0.0712, Train fit: 0.0103, Test fit: 0.0513, Avg Weight: 0.0002, Max Weight: 0.0018\n"
     ]
    },
    {
     "name": "stderr",
     "output_type": "stream",
     "text": [
      "Training:  75%|██████████████████████████▎        | 3/4 [00:49<00:16, 16.38s/it]"
     ]
    },
    {
     "name": "stdout",
     "output_type": "stream",
     "text": [
      "Epoch 3/4, Loss: -0.1042, Train fit: 0.0550, Test fit: 0.0749, Avg Weight: 0.0002, Max Weight: 0.0025\n"
     ]
    },
    {
     "name": "stderr",
     "output_type": "stream",
     "text": [
      "Training: 100%|███████████████████████████████████| 4/4 [01:05<00:00, 16.38s/it]"
     ]
    },
    {
     "name": "stdout",
     "output_type": "stream",
     "text": [
      "Epoch 4/4, Loss: -0.1152, Train fit: 0.0580, Test fit: 0.0768, Avg Weight: 0.0002, Max Weight: 0.0024\n",
      "Training completed! Best test Sharpe ratio: 0.0768\n",
      "Training from 2000-03 to 2000-08. Testing on 2000-09.\n"
     ]
    },
    {
     "name": "stderr",
     "output_type": "stream",
     "text": [
      "\n"
     ]
    },
    {
     "name": "stdout",
     "output_type": "stream",
     "text": [
      "['sprtrn_lag1', 'DlyRet_lag1', 'DlyRet_roll_10', 'DlyRet_roll_20', 'DlyRet_roll_30']\n",
      "Starting training with 525 train batches, 41 test batches\n"
     ]
    },
    {
     "name": "stderr",
     "output_type": "stream",
     "text": [
      "Training:  25%|████████▊                          | 1/4 [00:16<00:49, 16.43s/it]"
     ]
    },
    {
     "name": "stdout",
     "output_type": "stream",
     "text": [
      "Epoch 1/4, Loss: -0.0714, Train fit: 0.0121, Test fit: -0.0178, Avg Weight: 0.0002, Max Weight: 0.0007\n"
     ]
    },
    {
     "name": "stderr",
     "output_type": "stream",
     "text": [
      "Training:  75%|██████████████████████████▎        | 3/4 [00:52<00:17, 17.68s/it]"
     ]
    },
    {
     "name": "stdout",
     "output_type": "stream",
     "text": [
      "Epoch 3/4, Loss: -0.1109, Train fit: 0.0460, Test fit: 0.0183, Avg Weight: 0.0002, Max Weight: 0.0010\n"
     ]
    },
    {
     "name": "stderr",
     "output_type": "stream",
     "text": [
      "Training: 100%|███████████████████████████████████| 4/4 [01:10<00:00, 17.71s/it]"
     ]
    },
    {
     "name": "stdout",
     "output_type": "stream",
     "text": [
      "Epoch 4/4, Loss: -0.1179, Train fit: 0.0517, Test fit: 0.0241, Avg Weight: 0.0002, Max Weight: 0.0010\n",
      "Training completed! Best test Sharpe ratio: 0.0241\n",
      "Training from 2000-04 to 2000-09. Testing on 2000-10.\n"
     ]
    },
    {
     "name": "stderr",
     "output_type": "stream",
     "text": [
      "\n"
     ]
    },
    {
     "name": "stdout",
     "output_type": "stream",
     "text": [
      "['sprtrn_lag1', 'DlyRet_lag1', 'DlyRet_roll_10', 'DlyRet_roll_20', 'DlyRet_roll_30']\n",
      "Starting training with 513 train batches, 45 test batches\n"
     ]
    },
    {
     "name": "stderr",
     "output_type": "stream",
     "text": [
      "Training:  25%|████████▊                          | 1/4 [00:16<00:49, 16.51s/it]"
     ]
    },
    {
     "name": "stdout",
     "output_type": "stream",
     "text": [
      "Epoch 1/4, Loss: -0.0679, Train fit: 0.0057, Test fit: -0.0102, Avg Weight: 0.0002, Max Weight: 0.0108\n"
     ]
    },
    {
     "name": "stderr",
     "output_type": "stream",
     "text": [
      "Training:  75%|██████████████████████████▎        | 3/4 [00:50<00:16, 16.72s/it]"
     ]
    },
    {
     "name": "stdout",
     "output_type": "stream",
     "text": [
      "Epoch 3/4, Loss: -0.1081, Train fit: 0.0551, Test fit: 0.0370, Avg Weight: 0.0002, Max Weight: 0.0026\n"
     ]
    },
    {
     "name": "stderr",
     "output_type": "stream",
     "text": [
      "Training: 100%|███████████████████████████████████| 4/4 [01:06<00:00, 16.61s/it]"
     ]
    },
    {
     "name": "stdout",
     "output_type": "stream",
     "text": [
      "Epoch 4/4, Loss: -0.1181, Train fit: 0.0570, Test fit: 0.0404, Avg Weight: 0.0002, Max Weight: 0.0032\n",
      "Training completed! Best test Sharpe ratio: 0.0404\n",
      "Training from 2000-05 to 2000-10. Testing on 2000-11.\n"
     ]
    },
    {
     "name": "stderr",
     "output_type": "stream",
     "text": [
      "\n"
     ]
    },
    {
     "name": "stdout",
     "output_type": "stream",
     "text": [
      "['sprtrn_lag1', 'DlyRet_lag1', 'DlyRet_roll_10', 'DlyRet_roll_20', 'DlyRet_roll_30']\n",
      "Starting training with 525 train batches, 43 test batches\n"
     ]
    },
    {
     "name": "stderr",
     "output_type": "stream",
     "text": [
      "Training:  25%|████████▊                          | 1/4 [00:16<00:50, 16.82s/it]"
     ]
    },
    {
     "name": "stdout",
     "output_type": "stream",
     "text": [
      "Epoch 1/4, Loss: -0.0653, Train fit: 0.0101, Test fit: -0.0591, Avg Weight: 0.0002, Max Weight: 0.0021\n"
     ]
    },
    {
     "name": "stderr",
     "output_type": "stream",
     "text": [
      "Training:  75%|██████████████████████████▎        | 3/4 [00:50<00:16, 16.90s/it]"
     ]
    },
    {
     "name": "stdout",
     "output_type": "stream",
     "text": [
      "Epoch 3/4, Loss: -0.1154, Train fit: 0.0638, Test fit: 0.0065, Avg Weight: 0.0002, Max Weight: 0.0030\n"
     ]
    },
    {
     "name": "stderr",
     "output_type": "stream",
     "text": [
      "Training: 100%|███████████████████████████████████| 4/4 [01:07<00:00, 16.91s/it]"
     ]
    },
    {
     "name": "stdout",
     "output_type": "stream",
     "text": [
      "Epoch 4/4, Loss: -0.1222, Train fit: 0.0651, Test fit: 0.0125, Avg Weight: 0.0002, Max Weight: 0.0034\n",
      "Training completed! Best test Sharpe ratio: 0.0125\n",
      "Training from 2000-06 to 2000-11. Testing on 2000-12.\n"
     ]
    },
    {
     "name": "stderr",
     "output_type": "stream",
     "text": [
      "\n"
     ]
    },
    {
     "name": "stdout",
     "output_type": "stream",
     "text": [
      "['sprtrn_lag1', 'DlyRet_lag1', 'DlyRet_roll_10', 'DlyRet_roll_20', 'DlyRet_roll_30']\n",
      "Starting training with 520 train batches, 40 test batches\n"
     ]
    },
    {
     "name": "stderr",
     "output_type": "stream",
     "text": [
      "Training:  25%|████████▊                          | 1/4 [00:16<00:49, 16.49s/it]"
     ]
    },
    {
     "name": "stdout",
     "output_type": "stream",
     "text": [
      "Epoch 1/4, Loss: -0.0697, Train fit: 0.0080, Test fit: 0.0257, Avg Weight: 0.0002, Max Weight: 0.0022\n"
     ]
    },
    {
     "name": "stderr",
     "output_type": "stream",
     "text": [
      "Training:  75%|██████████████████████████▎        | 3/4 [00:49<00:16, 16.48s/it]"
     ]
    },
    {
     "name": "stdout",
     "output_type": "stream",
     "text": [
      "Epoch 3/4, Loss: -0.1102, Train fit: 0.0592, Test fit: 0.0574, Avg Weight: 0.0002, Max Weight: 0.0058\n"
     ]
    },
    {
     "name": "stderr",
     "output_type": "stream",
     "text": [
      "Training: 100%|███████████████████████████████████| 4/4 [01:06<00:00, 16.58s/it]"
     ]
    },
    {
     "name": "stdout",
     "output_type": "stream",
     "text": [
      "Epoch 4/4, Loss: -0.1175, Train fit: 0.0617, Test fit: 0.0585, Avg Weight: 0.0002, Max Weight: 0.0062\n",
      "Training completed! Best test Sharpe ratio: 0.0585\n",
      "Training from 2000-07 to 2000-12. Testing on 2001-01.\n"
     ]
    },
    {
     "name": "stderr",
     "output_type": "stream",
     "text": [
      "\n"
     ]
    },
    {
     "name": "stdout",
     "output_type": "stream",
     "text": [
      "['sprtrn_lag1', 'DlyRet_lag1', 'DlyRet_roll_10', 'DlyRet_roll_20', 'DlyRet_roll_30']\n",
      "Starting training with 511 train batches, 42 test batches\n"
     ]
    },
    {
     "name": "stderr",
     "output_type": "stream",
     "text": [
      "Training:  25%|████████▊                          | 1/4 [00:17<00:52, 17.44s/it]"
     ]
    },
    {
     "name": "stdout",
     "output_type": "stream",
     "text": [
      "Epoch 1/4, Loss: -0.0682, Train fit: 0.0170, Test fit: 0.0749, Avg Weight: 0.0002, Max Weight: 0.0032\n"
     ]
    },
    {
     "name": "stderr",
     "output_type": "stream",
     "text": [
      "Training:  75%|██████████████████████████▎        | 3/4 [00:49<00:16, 16.39s/it]"
     ]
    },
    {
     "name": "stdout",
     "output_type": "stream",
     "text": [
      "Epoch 3/4, Loss: -0.1078, Train fit: 0.0432, Test fit: 0.0930, Avg Weight: 0.0002, Max Weight: 0.0025\n"
     ]
    },
    {
     "name": "stderr",
     "output_type": "stream",
     "text": [
      "Training: 100%|███████████████████████████████████| 4/4 [01:06<00:00, 16.59s/it]"
     ]
    },
    {
     "name": "stdout",
     "output_type": "stream",
     "text": [
      "Epoch 4/4, Loss: -0.1136, Train fit: 0.0436, Test fit: 0.0894, Avg Weight: 0.0002, Max Weight: 0.0025\n",
      "Training completed! Best test Sharpe ratio: 0.0940\n",
      "Training from 2000-08 to 2001-01. Testing on 2001-02.\n"
     ]
    },
    {
     "name": "stderr",
     "output_type": "stream",
     "text": [
      "\n"
     ]
    },
    {
     "name": "stdout",
     "output_type": "stream",
     "text": [
      "['sprtrn_lag1', 'DlyRet_lag1', 'DlyRet_roll_10', 'DlyRet_roll_20', 'DlyRet_roll_30']\n",
      "Starting training with 512 train batches, 38 test batches\n"
     ]
    },
    {
     "name": "stderr",
     "output_type": "stream",
     "text": [
      "Training:  25%|████████▊                          | 1/4 [00:15<00:47, 15.98s/it]"
     ]
    },
    {
     "name": "stdout",
     "output_type": "stream",
     "text": [
      "Epoch 1/4, Loss: -0.0733, Train fit: 0.0032, Test fit: -0.0760, Avg Weight: 0.0002, Max Weight: 0.0019\n"
     ]
    },
    {
     "name": "stderr",
     "output_type": "stream",
     "text": [
      "Training:  75%|██████████████████████████▎        | 3/4 [00:48<00:16, 16.16s/it]"
     ]
    },
    {
     "name": "stdout",
     "output_type": "stream",
     "text": [
      "Epoch 3/4, Loss: -0.1132, Train fit: 0.0362, Test fit: -0.0361, Avg Weight: 0.0002, Max Weight: 0.0017\n"
     ]
    },
    {
     "name": "stderr",
     "output_type": "stream",
     "text": [
      "Training: 100%|███████████████████████████████████| 4/4 [01:04<00:00, 16.24s/it]"
     ]
    },
    {
     "name": "stdout",
     "output_type": "stream",
     "text": [
      "Epoch 4/4, Loss: -0.1197, Train fit: 0.0407, Test fit: -0.0309, Avg Weight: 0.0002, Max Weight: 0.0019\n",
      "Training completed! Best test Sharpe ratio: -0.0309\n",
      "Training from 2000-09 to 2001-02. Testing on 2001-03.\n"
     ]
    },
    {
     "name": "stderr",
     "output_type": "stream",
     "text": [
      "\n"
     ]
    },
    {
     "name": "stdout",
     "output_type": "stream",
     "text": [
      "['sprtrn_lag1', 'DlyRet_lag1', 'DlyRet_roll_10', 'DlyRet_roll_20', 'DlyRet_roll_30']\n",
      "Starting training with 493 train batches, 43 test batches\n"
     ]
    },
    {
     "name": "stderr",
     "output_type": "stream",
     "text": [
      "Training:  25%|████████▊                          | 1/4 [00:15<00:46, 15.55s/it]"
     ]
    },
    {
     "name": "stdout",
     "output_type": "stream",
     "text": [
      "Epoch 1/4, Loss: -0.0554, Train fit: 0.0010, Test fit: -0.0224, Avg Weight: 0.0002, Max Weight: 0.0019\n"
     ]
    },
    {
     "name": "stderr",
     "output_type": "stream",
     "text": [
      "Training:  75%|██████████████████████████▎        | 3/4 [00:47<00:15, 15.76s/it]"
     ]
    },
    {
     "name": "stdout",
     "output_type": "stream",
     "text": [
      "Epoch 3/4, Loss: -0.1020, Train fit: 0.0545, Test fit: 0.0450, Avg Weight: 0.0002, Max Weight: 0.0028\n"
     ]
    },
    {
     "name": "stderr",
     "output_type": "stream",
     "text": [
      "Training: 100%|███████████████████████████████████| 4/4 [01:02<00:00, 15.67s/it]"
     ]
    },
    {
     "name": "stdout",
     "output_type": "stream",
     "text": [
      "Epoch 4/4, Loss: -0.1115, Train fit: 0.0565, Test fit: 0.0456, Avg Weight: 0.0002, Max Weight: 0.0019\n",
      "Training completed! Best test Sharpe ratio: 0.0456\n",
      "Training from 2000-10 to 2001-03. Testing on 2001-04.\n"
     ]
    },
    {
     "name": "stderr",
     "output_type": "stream",
     "text": [
      "\n"
     ]
    },
    {
     "name": "stdout",
     "output_type": "stream",
     "text": [
      "['sprtrn_lag1', 'DlyRet_lag1', 'DlyRet_roll_10', 'DlyRet_roll_20', 'DlyRet_roll_30']\n",
      "Starting training with 497 train batches, 39 test batches\n"
     ]
    },
    {
     "name": "stderr",
     "output_type": "stream",
     "text": [
      "Training:  25%|████████▊                          | 1/4 [00:15<00:46, 15.55s/it]"
     ]
    },
    {
     "name": "stdout",
     "output_type": "stream",
     "text": [
      "Epoch 1/4, Loss: -0.0557, Train fit: 0.0145, Test fit: 0.0451, Avg Weight: 0.0002, Max Weight: 0.0040\n"
     ]
    },
    {
     "name": "stderr",
     "output_type": "stream",
     "text": [
      "Training:  75%|██████████████████████████▎        | 3/4 [00:47<00:15, 15.93s/it]"
     ]
    },
    {
     "name": "stdout",
     "output_type": "stream",
     "text": [
      "Epoch 3/4, Loss: -0.1016, Train fit: 0.0561, Test fit: 0.0762, Avg Weight: 0.0002, Max Weight: 0.0054\n"
     ]
    },
    {
     "name": "stderr",
     "output_type": "stream",
     "text": [
      "Training: 100%|███████████████████████████████████| 4/4 [01:03<00:00, 15.88s/it]"
     ]
    },
    {
     "name": "stdout",
     "output_type": "stream",
     "text": [
      "Epoch 4/4, Loss: -0.1100, Train fit: 0.0584, Test fit: 0.0738, Avg Weight: 0.0002, Max Weight: 0.0054\n",
      "Training completed! Best test Sharpe ratio: 0.0762\n",
      "Training from 2000-11 to 2001-04. Testing on 2001-05.\n"
     ]
    },
    {
     "name": "stderr",
     "output_type": "stream",
     "text": [
      "\n"
     ]
    },
    {
     "name": "stdout",
     "output_type": "stream",
     "text": [
      "['sprtrn_lag1', 'DlyRet_lag1', 'DlyRet_roll_10', 'DlyRet_roll_20', 'DlyRet_roll_30']\n",
      "Starting training with 485 train batches, 43 test batches\n"
     ]
    },
    {
     "name": "stderr",
     "output_type": "stream",
     "text": [
      "Training:  25%|████████▊                          | 1/4 [00:15<00:46, 15.44s/it]"
     ]
    },
    {
     "name": "stdout",
     "output_type": "stream",
     "text": [
      "Epoch 1/4, Loss: -0.0638, Train fit: 0.0065, Test fit: 0.0129, Avg Weight: 0.0002, Max Weight: 0.2622\n"
     ]
    },
    {
     "name": "stderr",
     "output_type": "stream",
     "text": [
      "Training:  75%|██████████████████████████▎        | 3/4 [00:55<00:19, 19.63s/it]"
     ]
    },
    {
     "name": "stdout",
     "output_type": "stream",
     "text": [
      "Epoch 3/4, Loss: -0.1058, Train fit: 0.0417, Test fit: 0.0163, Avg Weight: 0.0002, Max Weight: 0.2994\n"
     ]
    },
    {
     "name": "stderr",
     "output_type": "stream",
     "text": [
      "Training: 100%|███████████████████████████████████| 4/4 [01:10<00:00, 17.72s/it]"
     ]
    },
    {
     "name": "stdout",
     "output_type": "stream",
     "text": [
      "Epoch 4/4, Loss: -0.1148, Train fit: 0.0493, Test fit: 0.0273, Avg Weight: 0.0002, Max Weight: 0.2869\n",
      "Training completed! Best test Sharpe ratio: 0.0273\n",
      "Training from 2000-12 to 2001-05. Testing on 2001-06.\n"
     ]
    },
    {
     "name": "stderr",
     "output_type": "stream",
     "text": [
      "\n"
     ]
    },
    {
     "name": "stdout",
     "output_type": "stream",
     "text": [
      "['sprtrn_lag1', 'DlyRet_lag1', 'DlyRet_roll_10', 'DlyRet_roll_20', 'DlyRet_roll_30']\n",
      "Starting training with 484 train batches, 40 test batches\n"
     ]
    },
    {
     "name": "stderr",
     "output_type": "stream",
     "text": [
      "Training:  25%|████████▊                          | 1/4 [00:15<00:45, 15.11s/it]"
     ]
    },
    {
     "name": "stdout",
     "output_type": "stream",
     "text": [
      "Epoch 1/4, Loss: -0.0836, Train fit: 0.0266, Test fit: 0.0128, Avg Weight: 0.0002, Max Weight: 0.0006\n"
     ]
    },
    {
     "name": "stderr",
     "output_type": "stream",
     "text": [
      "Training:  75%|██████████████████████████▎        | 3/4 [00:45<00:15, 15.17s/it]"
     ]
    },
    {
     "name": "stdout",
     "output_type": "stream",
     "text": [
      "Epoch 3/4, Loss: -0.1119, Train fit: 0.0517, Test fit: 0.0299, Avg Weight: 0.0002, Max Weight: 0.0007\n"
     ]
    },
    {
     "name": "stderr",
     "output_type": "stream",
     "text": [
      "Training: 100%|███████████████████████████████████| 4/4 [01:01<00:00, 15.43s/it]"
     ]
    },
    {
     "name": "stdout",
     "output_type": "stream",
     "text": [
      "Epoch 4/4, Loss: -0.1258, Train fit: 0.0601, Test fit: 0.0350, Avg Weight: 0.0002, Max Weight: 0.0007\n",
      "Training completed! Best test Sharpe ratio: 0.0350\n",
      "Training from 2001-01 to 2001-06. Testing on 2001-07.\n"
     ]
    },
    {
     "name": "stderr",
     "output_type": "stream",
     "text": [
      "\n"
     ]
    },
    {
     "name": "stdout",
     "output_type": "stream",
     "text": [
      "['sprtrn_lag1', 'DlyRet_lag1', 'DlyRet_roll_10', 'DlyRet_roll_20', 'DlyRet_roll_30']\n",
      "Starting training with 484 train batches, 40 test batches\n"
     ]
    },
    {
     "name": "stderr",
     "output_type": "stream",
     "text": [
      "Training:  25%|████████▊                          | 1/4 [00:14<00:44, 14.93s/it]"
     ]
    },
    {
     "name": "stdout",
     "output_type": "stream",
     "text": [
      "Epoch 1/4, Loss: -0.0898, Train fit: 0.0314, Test fit: -0.0084, Avg Weight: 0.0002, Max Weight: 0.0016\n"
     ]
    },
    {
     "name": "stderr",
     "output_type": "stream",
     "text": [
      "Training:  75%|██████████████████████████▎        | 3/4 [00:45<00:15, 15.21s/it]"
     ]
    },
    {
     "name": "stdout",
     "output_type": "stream",
     "text": [
      "Epoch 3/4, Loss: -0.1176, Train fit: 0.0605, Test fit: 0.0173, Avg Weight: 0.0002, Max Weight: 0.0018\n"
     ]
    },
    {
     "name": "stderr",
     "output_type": "stream",
     "text": [
      "Training: 100%|███████████████████████████████████| 4/4 [01:00<00:00, 15.18s/it]"
     ]
    },
    {
     "name": "stdout",
     "output_type": "stream",
     "text": [
      "Epoch 4/4, Loss: -0.1261, Train fit: 0.0658, Test fit: 0.0259, Avg Weight: 0.0002, Max Weight: 0.0019\n",
      "Training completed! Best test Sharpe ratio: 0.0259\n",
      "Training from 2001-02 to 2001-07. Testing on 2001-08.\n"
     ]
    },
    {
     "name": "stderr",
     "output_type": "stream",
     "text": [
      "\n"
     ]
    },
    {
     "name": "stdout",
     "output_type": "stream",
     "text": [
      "['sprtrn_lag1', 'DlyRet_lag1', 'DlyRet_roll_10', 'DlyRet_roll_20', 'DlyRet_roll_30']\n",
      "Starting training with 480 train batches, 43 test batches\n"
     ]
    },
    {
     "name": "stderr",
     "output_type": "stream",
     "text": [
      "Training:  25%|████████▊                          | 1/4 [00:15<00:45, 15.16s/it]"
     ]
    },
    {
     "name": "stdout",
     "output_type": "stream",
     "text": [
      "Epoch 1/4, Loss: -0.0718, Train fit: 0.0134, Test fit: -0.0100, Avg Weight: 0.0002, Max Weight: 0.0009\n"
     ]
    },
    {
     "name": "stderr",
     "output_type": "stream",
     "text": [
      "Training:  75%|██████████████████████████▎        | 3/4 [00:45<00:15, 15.17s/it]"
     ]
    },
    {
     "name": "stdout",
     "output_type": "stream",
     "text": [
      "Epoch 3/4, Loss: -0.1026, Train fit: 0.0505, Test fit: 0.0292, Avg Weight: 0.0002, Max Weight: 0.0014\n"
     ]
    },
    {
     "name": "stderr",
     "output_type": "stream",
     "text": [
      "Training: 100%|███████████████████████████████████| 4/4 [01:00<00:00, 15.18s/it]"
     ]
    },
    {
     "name": "stdout",
     "output_type": "stream",
     "text": [
      "Epoch 4/4, Loss: -0.1135, Train fit: 0.0535, Test fit: 0.0341, Avg Weight: 0.0002, Max Weight: 0.0013\n",
      "Training completed! Best test Sharpe ratio: 0.0341\n",
      "Training from 2001-03 to 2001-08. Testing on 2001-09.\n"
     ]
    },
    {
     "name": "stderr",
     "output_type": "stream",
     "text": [
      "\n"
     ]
    },
    {
     "name": "stdout",
     "output_type": "stream",
     "text": [
      "['sprtrn_lag1', 'DlyRet_lag1', 'DlyRet_roll_10', 'DlyRet_roll_20', 'DlyRet_roll_30']\n",
      "Starting training with 491 train batches, 28 test batches\n"
     ]
    },
    {
     "name": "stderr",
     "output_type": "stream",
     "text": [
      "Training:  25%|████████▊                          | 1/4 [00:15<00:45, 15.07s/it]"
     ]
    },
    {
     "name": "stdout",
     "output_type": "stream",
     "text": [
      "Epoch 1/4, Loss: -0.0774, Train fit: 0.0216, Test fit: -0.0737, Avg Weight: 0.0002, Max Weight: 0.0026\n"
     ]
    },
    {
     "name": "stderr",
     "output_type": "stream",
     "text": [
      "Training:  75%|██████████████████████████▎        | 3/4 [00:46<00:15, 15.39s/it]"
     ]
    },
    {
     "name": "stdout",
     "output_type": "stream",
     "text": [
      "Epoch 3/4, Loss: -0.1074, Train fit: 0.0587, Test fit: -0.0354, Avg Weight: 0.0002, Max Weight: 0.0021\n"
     ]
    },
    {
     "name": "stderr",
     "output_type": "stream",
     "text": [
      "Training: 100%|███████████████████████████████████| 4/4 [01:00<00:00, 15.20s/it]"
     ]
    },
    {
     "name": "stdout",
     "output_type": "stream",
     "text": [
      "Epoch 4/4, Loss: -0.1153, Train fit: 0.0624, Test fit: -0.0349, Avg Weight: 0.0002, Max Weight: 0.0021\n",
      "Training completed! Best test Sharpe ratio: -0.0349\n",
      "Training from 2001-04 to 2001-09. Testing on 2001-10.\n"
     ]
    },
    {
     "name": "stderr",
     "output_type": "stream",
     "text": [
      "\n"
     ]
    },
    {
     "name": "stdout",
     "output_type": "stream",
     "text": [
      "['sprtrn_lag1', 'DlyRet_lag1', 'DlyRet_roll_10', 'DlyRet_roll_20', 'DlyRet_roll_30']\n",
      "Starting training with 461 train batches, 43 test batches\n"
     ]
    },
    {
     "name": "stderr",
     "output_type": "stream",
     "text": [
      "Training:  25%|████████▊                          | 1/4 [00:18<00:55, 18.43s/it]"
     ]
    },
    {
     "name": "stdout",
     "output_type": "stream",
     "text": [
      "Epoch 1/4, Loss: -0.0718, Train fit: 0.0036, Test fit: 0.0419, Avg Weight: 0.0002, Max Weight: 0.0028\n"
     ]
    },
    {
     "name": "stderr",
     "output_type": "stream",
     "text": [
      "Training:  75%|██████████████████████████▎        | 3/4 [00:48<00:15, 15.85s/it]"
     ]
    },
    {
     "name": "stdout",
     "output_type": "stream",
     "text": [
      "Epoch 3/4, Loss: -0.0905, Train fit: 0.0321, Test fit: 0.0508, Avg Weight: 0.0002, Max Weight: 0.0088\n"
     ]
    },
    {
     "name": "stderr",
     "output_type": "stream",
     "text": [
      "Training: 100%|███████████████████████████████████| 4/4 [01:03<00:00, 15.85s/it]"
     ]
    },
    {
     "name": "stdout",
     "output_type": "stream",
     "text": [
      "Epoch 4/4, Loss: -0.1027, Train fit: 0.0342, Test fit: 0.0444, Avg Weight: 0.0002, Max Weight: 0.0088\n",
      "Training completed! Best test Sharpe ratio: 0.0508\n",
      "Training from 2001-05 to 2001-10. Testing on 2001-11.\n"
     ]
    },
    {
     "name": "stderr",
     "output_type": "stream",
     "text": [
      "\n"
     ]
    },
    {
     "name": "stdout",
     "output_type": "stream",
     "text": [
      "['sprtrn_lag1', 'DlyRet_lag1', 'DlyRet_roll_10', 'DlyRet_roll_20', 'DlyRet_roll_30']\n",
      "Starting training with 469 train batches, 39 test batches\n"
     ]
    },
    {
     "name": "stderr",
     "output_type": "stream",
     "text": [
      "Training:  25%|████████▊                          | 1/4 [00:15<00:45, 15.01s/it]"
     ]
    },
    {
     "name": "stdout",
     "output_type": "stream",
     "text": [
      "Epoch 1/4, Loss: -0.0689, Train fit: -0.0032, Test fit: 0.0713, Avg Weight: 0.0002, Max Weight: 0.0012\n"
     ]
    },
    {
     "name": "stderr",
     "output_type": "stream",
     "text": [
      "Training:  75%|██████████████████████████▎        | 3/4 [00:45<00:15, 15.04s/it]"
     ]
    },
    {
     "name": "stdout",
     "output_type": "stream",
     "text": [
      "Epoch 3/4, Loss: -0.1015, Train fit: 0.0342, Test fit: 0.0889, Avg Weight: 0.0002, Max Weight: 0.0025\n"
     ]
    },
    {
     "name": "stderr",
     "output_type": "stream",
     "text": [
      "Training: 100%|███████████████████████████████████| 4/4 [00:59<00:00, 14.94s/it]"
     ]
    },
    {
     "name": "stdout",
     "output_type": "stream",
     "text": [
      "Epoch 4/4, Loss: -0.1087, Train fit: 0.0418, Test fit: 0.0855, Avg Weight: 0.0002, Max Weight: 0.0025\n",
      "Training completed! Best test Sharpe ratio: 0.0889\n",
      "Training from 2001-06 to 2001-11. Testing on 2001-12.\n"
     ]
    },
    {
     "name": "stderr",
     "output_type": "stream",
     "text": [
      "\n"
     ]
    },
    {
     "name": "stdout",
     "output_type": "stream",
     "text": [
      "['sprtrn_lag1', 'DlyRet_lag1', 'DlyRet_roll_10', 'DlyRet_roll_20', 'DlyRet_roll_30']\n",
      "Starting training with 461 train batches, 37 test batches\n"
     ]
    },
    {
     "name": "stderr",
     "output_type": "stream",
     "text": [
      "Training:  25%|████████▊                          | 1/4 [00:15<00:45, 15.05s/it]"
     ]
    },
    {
     "name": "stdout",
     "output_type": "stream",
     "text": [
      "Epoch 1/4, Loss: -0.0745, Train fit: -0.0031, Test fit: 0.0586, Avg Weight: 0.0002, Max Weight: 0.0010\n"
     ]
    },
    {
     "name": "stderr",
     "output_type": "stream",
     "text": [
      "Training:  75%|██████████████████████████▎        | 3/4 [00:44<00:14, 14.69s/it]"
     ]
    },
    {
     "name": "stdout",
     "output_type": "stream",
     "text": [
      "Epoch 3/4, Loss: -0.1035, Train fit: 0.0271, Test fit: 0.0775, Avg Weight: 0.0002, Max Weight: 0.0014\n"
     ]
    },
    {
     "name": "stderr",
     "output_type": "stream",
     "text": [
      "Training: 100%|███████████████████████████████████| 4/4 [00:58<00:00, 14.75s/it]"
     ]
    },
    {
     "name": "stdout",
     "output_type": "stream",
     "text": [
      "Epoch 4/4, Loss: -0.1100, Train fit: 0.0336, Test fit: 0.0803, Avg Weight: 0.0002, Max Weight: 0.0014\n",
      "Training completed! Best test Sharpe ratio: 0.0803\n",
      "Training from 2001-07 to 2001-12. Testing on 2002-01.\n"
     ]
    },
    {
     "name": "stderr",
     "output_type": "stream",
     "text": [
      "\n"
     ]
    },
    {
     "name": "stdout",
     "output_type": "stream",
     "text": [
      "['sprtrn_lag1', 'DlyRet_lag1', 'DlyRet_roll_10', 'DlyRet_roll_20', 'DlyRet_roll_30']\n",
      "Starting training with 455 train batches, 39 test batches\n"
     ]
    },
    {
     "name": "stderr",
     "output_type": "stream",
     "text": [
      "Training:  25%|████████▊                          | 1/4 [00:14<00:44, 14.96s/it]"
     ]
    },
    {
     "name": "stdout",
     "output_type": "stream",
     "text": [
      "Epoch 1/4, Loss: -0.0887, Train fit: 0.0024, Test fit: 0.0073, Avg Weight: 0.0003, Max Weight: 0.0916\n"
     ]
    },
    {
     "name": "stderr",
     "output_type": "stream",
     "text": [
      "Training:  75%|██████████████████████████▎        | 3/4 [00:43<00:14, 14.60s/it]"
     ]
    },
    {
     "name": "stdout",
     "output_type": "stream",
     "text": [
      "Epoch 3/4, Loss: -0.1074, Train fit: 0.0288, Test fit: 0.0237, Avg Weight: 0.0003, Max Weight: 0.1152\n"
     ]
    },
    {
     "name": "stderr",
     "output_type": "stream",
     "text": [
      "Training: 100%|███████████████████████████████████| 4/4 [00:58<00:00, 14.62s/it]"
     ]
    },
    {
     "name": "stdout",
     "output_type": "stream",
     "text": [
      "Epoch 4/4, Loss: -0.1117, Train fit: 0.0316, Test fit: 0.0255, Avg Weight: 0.0003, Max Weight: 0.1196\n",
      "Training completed! Best test Sharpe ratio: 0.0255\n",
      "Training from 2001-08 to 2002-01. Testing on 2002-02.\n"
     ]
    },
    {
     "name": "stderr",
     "output_type": "stream",
     "text": [
      "\n"
     ]
    },
    {
     "name": "stdout",
     "output_type": "stream",
     "text": [
      "['sprtrn_lag1', 'DlyRet_lag1', 'DlyRet_roll_10', 'DlyRet_roll_20', 'DlyRet_roll_30']\n",
      "Starting training with 452 train batches, 35 test batches\n"
     ]
    },
    {
     "name": "stderr",
     "output_type": "stream",
     "text": [
      "Training:  25%|████████▊                          | 1/4 [00:14<00:43, 14.52s/it]"
     ]
    },
    {
     "name": "stdout",
     "output_type": "stream",
     "text": [
      "Epoch 1/4, Loss: -0.0942, Train fit: 0.0129, Test fit: -0.0228, Avg Weight: 0.0003, Max Weight: 0.0041\n"
     ]
    },
    {
     "name": "stderr",
     "output_type": "stream",
     "text": [
      "Training:  75%|██████████████████████████▎        | 3/4 [00:43<00:14, 14.32s/it]"
     ]
    },
    {
     "name": "stdout",
     "output_type": "stream",
     "text": [
      "Epoch 3/4, Loss: -0.1172, Train fit: 0.0487, Test fit: 0.0175, Avg Weight: 0.0003, Max Weight: 0.0043\n"
     ]
    },
    {
     "name": "stderr",
     "output_type": "stream",
     "text": [
      "Training: 100%|███████████████████████████████████| 4/4 [01:06<00:00, 16.65s/it]"
     ]
    },
    {
     "name": "stdout",
     "output_type": "stream",
     "text": [
      "Epoch 4/4, Loss: -0.1198, Train fit: 0.0510, Test fit: 0.0193, Avg Weight: 0.0003, Max Weight: 0.0040\n",
      "Training completed! Best test Sharpe ratio: 0.0193\n",
      "Training from 2001-09 to 2002-02. Testing on 2002-03.\n"
     ]
    },
    {
     "name": "stderr",
     "output_type": "stream",
     "text": [
      "\n"
     ]
    },
    {
     "name": "stdout",
     "output_type": "stream",
     "text": [
      "['sprtrn_lag1', 'DlyRet_lag1', 'DlyRet_roll_10', 'DlyRet_roll_20', 'DlyRet_roll_30']\n",
      "Starting training with 435 train batches, 36 test batches\n"
     ]
    },
    {
     "name": "stderr",
     "output_type": "stream",
     "text": [
      "Training:  25%|████████▊                          | 1/4 [00:13<00:41, 13.82s/it]"
     ]
    },
    {
     "name": "stdout",
     "output_type": "stream",
     "text": [
      "Epoch 1/4, Loss: -0.0951, Train fit: 0.0111, Test fit: 0.0769, Avg Weight: 0.0002, Max Weight: 0.0009\n"
     ]
    },
    {
     "name": "stderr",
     "output_type": "stream",
     "text": [
      "Training:  75%|██████████████████████████▎        | 3/4 [00:41<00:13, 13.67s/it]"
     ]
    },
    {
     "name": "stdout",
     "output_type": "stream",
     "text": [
      "Epoch 3/4, Loss: -0.0910, Train fit: 0.0368, Test fit: 0.0927, Avg Weight: 0.0002, Max Weight: 0.0011\n"
     ]
    },
    {
     "name": "stderr",
     "output_type": "stream",
     "text": [
      "Training: 100%|███████████████████████████████████| 4/4 [00:55<00:00, 13.82s/it]"
     ]
    },
    {
     "name": "stdout",
     "output_type": "stream",
     "text": [
      "Epoch 4/4, Loss: -0.1044, Train fit: 0.0464, Test fit: 0.0940, Avg Weight: 0.0002, Max Weight: 0.0014\n",
      "Training completed! Best test Sharpe ratio: 0.0940\n",
      "Training from 2001-10 to 2002-03. Testing on 2002-04.\n"
     ]
    },
    {
     "name": "stderr",
     "output_type": "stream",
     "text": [
      "\n"
     ]
    },
    {
     "name": "stdout",
     "output_type": "stream",
     "text": [
      "['sprtrn_lag1', 'DlyRet_lag1', 'DlyRet_roll_10', 'DlyRet_roll_20', 'DlyRet_roll_30']\n",
      "Starting training with 451 train batches, 40 test batches\n"
     ]
    },
    {
     "name": "stderr",
     "output_type": "stream",
     "text": [
      "Training:  25%|████████▊                          | 1/4 [00:14<00:43, 14.44s/it]"
     ]
    },
    {
     "name": "stdout",
     "output_type": "stream",
     "text": [
      "Epoch 1/4, Loss: -0.1057, Train fit: 0.0461, Test fit: 0.0079, Avg Weight: 0.0002, Max Weight: 0.0032\n"
     ]
    },
    {
     "name": "stderr",
     "output_type": "stream",
     "text": [
      "Training:  75%|██████████████████████████▎        | 3/4 [00:43<00:14, 14.32s/it]"
     ]
    },
    {
     "name": "stdout",
     "output_type": "stream",
     "text": [
      "Epoch 3/4, Loss: -0.1259, Train fit: 0.0661, Test fit: 0.0318, Avg Weight: 0.0002, Max Weight: 0.0029\n"
     ]
    },
    {
     "name": "stderr",
     "output_type": "stream",
     "text": [
      "Training: 100%|███████████████████████████████████| 4/4 [00:57<00:00, 14.41s/it]"
     ]
    },
    {
     "name": "stdout",
     "output_type": "stream",
     "text": [
      "Epoch 4/4, Loss: -0.1368, Train fit: 0.0702, Test fit: 0.0367, Avg Weight: 0.0002, Max Weight: 0.0030\n",
      "Training completed! Best test Sharpe ratio: 0.0367\n",
      "Training from 2001-11 to 2002-04. Testing on 2002-05.\n"
     ]
    },
    {
     "name": "stderr",
     "output_type": "stream",
     "text": [
      "\n"
     ]
    },
    {
     "name": "stdout",
     "output_type": "stream",
     "text": [
      "['sprtrn_lag1', 'DlyRet_lag1', 'DlyRet_roll_10', 'DlyRet_roll_20', 'DlyRet_roll_30']\n",
      "Starting training with 444 train batches, 39 test batches\n"
     ]
    },
    {
     "name": "stderr",
     "output_type": "stream",
     "text": [
      "Training:  25%|████████▊                          | 1/4 [00:13<00:41, 13.91s/it]"
     ]
    },
    {
     "name": "stdout",
     "output_type": "stream",
     "text": [
      "Epoch 1/4, Loss: -0.1056, Train fit: 0.0453, Test fit: 0.0092, Avg Weight: 0.0002, Max Weight: 0.0015\n"
     ]
    },
    {
     "name": "stderr",
     "output_type": "stream",
     "text": [
      "Training:  75%|██████████████████████████▎        | 3/4 [00:42<00:14, 14.15s/it]"
     ]
    },
    {
     "name": "stdout",
     "output_type": "stream",
     "text": [
      "Epoch 3/4, Loss: -0.1331, Train fit: 0.0717, Test fit: 0.0372, Avg Weight: 0.0002, Max Weight: 0.0014\n"
     ]
    },
    {
     "name": "stderr",
     "output_type": "stream",
     "text": [
      "Training: 100%|███████████████████████████████████| 4/4 [00:56<00:00, 14.16s/it]"
     ]
    },
    {
     "name": "stdout",
     "output_type": "stream",
     "text": [
      "Epoch 4/4, Loss: -0.1370, Train fit: 0.0748, Test fit: 0.0413, Avg Weight: 0.0002, Max Weight: 0.0017\n",
      "Training completed! Best test Sharpe ratio: 0.0413\n",
      "Training from 2001-12 to 2002-05. Testing on 2002-06.\n"
     ]
    },
    {
     "name": "stderr",
     "output_type": "stream",
     "text": [
      "\n"
     ]
    },
    {
     "name": "stdout",
     "output_type": "stream",
     "text": [
      "['sprtrn_lag1', 'DlyRet_lag1', 'DlyRet_roll_10', 'DlyRet_roll_20', 'DlyRet_roll_30']\n",
      "Starting training with 445 train batches, 36 test batches\n"
     ]
    },
    {
     "name": "stderr",
     "output_type": "stream",
     "text": [
      "Training:  25%|████████▊                          | 1/4 [00:14<00:42, 14.14s/it]"
     ]
    },
    {
     "name": "stdout",
     "output_type": "stream",
     "text": [
      "Epoch 1/4, Loss: -0.0851, Train fit: 0.0362, Test fit: -0.0268, Avg Weight: 0.0002, Max Weight: 0.0033\n"
     ]
    },
    {
     "name": "stderr",
     "output_type": "stream",
     "text": [
      "Training:  75%|██████████████████████████▎        | 3/4 [00:42<00:14, 14.13s/it]"
     ]
    },
    {
     "name": "stdout",
     "output_type": "stream",
     "text": [
      "Epoch 3/4, Loss: -0.1201, Train fit: 0.0645, Test fit: 0.0169, Avg Weight: 0.0002, Max Weight: 0.0048\n"
     ]
    },
    {
     "name": "stderr",
     "output_type": "stream",
     "text": [
      "Training: 100%|███████████████████████████████████| 4/4 [00:56<00:00, 14.22s/it]"
     ]
    },
    {
     "name": "stdout",
     "output_type": "stream",
     "text": [
      "Epoch 4/4, Loss: -0.1233, Train fit: 0.0677, Test fit: 0.0184, Avg Weight: 0.0002, Max Weight: 0.0037\n",
      "Training completed! Best test Sharpe ratio: 0.0184\n",
      "Training from 2002-01 to 2002-06. Testing on 2002-07.\n"
     ]
    },
    {
     "name": "stderr",
     "output_type": "stream",
     "text": [
      "\n"
     ]
    },
    {
     "name": "stdout",
     "output_type": "stream",
     "text": [
      "['sprtrn_lag1', 'DlyRet_lag1', 'DlyRet_roll_10', 'DlyRet_roll_20', 'DlyRet_roll_30']\n",
      "Starting training with 443 train batches, 39 test batches\n"
     ]
    },
    {
     "name": "stderr",
     "output_type": "stream",
     "text": [
      "Training:  25%|████████▊                          | 1/4 [00:13<00:41, 13.85s/it]"
     ]
    },
    {
     "name": "stdout",
     "output_type": "stream",
     "text": [
      "Epoch 1/4, Loss: -0.0723, Train fit: 0.0201, Test fit: -0.0368, Avg Weight: 0.0002, Max Weight: 0.0031\n"
     ]
    },
    {
     "name": "stderr",
     "output_type": "stream",
     "text": [
      "Training:  75%|██████████████████████████▎        | 3/4 [00:42<00:14, 14.35s/it]"
     ]
    },
    {
     "name": "stdout",
     "output_type": "stream",
     "text": [
      "Epoch 3/4, Loss: -0.1027, Train fit: 0.0532, Test fit: 0.0099, Avg Weight: 0.0002, Max Weight: 0.0043\n"
     ]
    },
    {
     "name": "stderr",
     "output_type": "stream",
     "text": [
      "Training: 100%|███████████████████████████████████| 4/4 [00:56<00:00, 14.17s/it]"
     ]
    },
    {
     "name": "stdout",
     "output_type": "stream",
     "text": [
      "Epoch 4/4, Loss: -0.1139, Train fit: 0.0556, Test fit: 0.0102, Avg Weight: 0.0002, Max Weight: 0.0042\n",
      "Training completed! Best test Sharpe ratio: 0.0102\n",
      "Training from 2002-02 to 2002-07. Testing on 2002-08.\n"
     ]
    },
    {
     "name": "stderr",
     "output_type": "stream",
     "text": [
      "\n"
     ]
    },
    {
     "name": "stdout",
     "output_type": "stream",
     "text": [
      "['sprtrn_lag1', 'DlyRet_lag1', 'DlyRet_roll_10', 'DlyRet_roll_20', 'DlyRet_roll_30']\n",
      "Starting training with 444 train batches, 39 test batches\n"
     ]
    },
    {
     "name": "stderr",
     "output_type": "stream",
     "text": [
      "Training:  25%|████████▊                          | 1/4 [00:14<00:43, 14.38s/it]"
     ]
    },
    {
     "name": "stdout",
     "output_type": "stream",
     "text": [
      "Epoch 1/4, Loss: -0.0629, Train fit: -0.0079, Test fit: 0.0102, Avg Weight: 0.0002, Max Weight: 0.0050\n"
     ]
    },
    {
     "name": "stderr",
     "output_type": "stream",
     "text": [
      "Training:  75%|██████████████████████████▎        | 3/4 [00:43<00:14, 14.53s/it]"
     ]
    },
    {
     "name": "stdout",
     "output_type": "stream",
     "text": [
      "Epoch 3/4, Loss: -0.0914, Train fit: 0.0337, Test fit: 0.0562, Avg Weight: 0.0002, Max Weight: 0.0061\n"
     ]
    },
    {
     "name": "stderr",
     "output_type": "stream",
     "text": [
      "Training: 100%|███████████████████████████████████| 4/4 [00:57<00:00, 14.44s/it]"
     ]
    },
    {
     "name": "stdout",
     "output_type": "stream",
     "text": [
      "Epoch 4/4, Loss: -0.1035, Train fit: 0.0423, Test fit: 0.0604, Avg Weight: 0.0002, Max Weight: 0.0091\n",
      "Training completed! Best test Sharpe ratio: 0.0604\n",
      "Training from 2002-03 to 2002-08. Testing on 2002-09.\n"
     ]
    },
    {
     "name": "stderr",
     "output_type": "stream",
     "text": [
      "\n"
     ]
    },
    {
     "name": "stdout",
     "output_type": "stream",
     "text": [
      "['sprtrn_lag1', 'DlyRet_lag1', 'DlyRet_roll_10', 'DlyRet_roll_20', 'DlyRet_roll_30']\n",
      "Starting training with 453 train batches, 35 test batches\n"
     ]
    },
    {
     "name": "stderr",
     "output_type": "stream",
     "text": [
      "Training:  25%|████████▊                          | 1/4 [00:14<00:43, 14.40s/it]"
     ]
    },
    {
     "name": "stdout",
     "output_type": "stream",
     "text": [
      "Epoch 1/4, Loss: -0.0635, Train fit: -0.0085, Test fit: -0.0682, Avg Weight: 0.0002, Max Weight: 0.0009\n"
     ]
    },
    {
     "name": "stderr",
     "output_type": "stream",
     "text": [
      "Training:  75%|██████████████████████████▎        | 3/4 [00:43<00:14, 14.41s/it]"
     ]
    },
    {
     "name": "stdout",
     "output_type": "stream",
     "text": [
      "Epoch 3/4, Loss: -0.0946, Train fit: 0.0408, Test fit: 0.0011, Avg Weight: 0.0002, Max Weight: 0.0015\n"
     ]
    },
    {
     "name": "stderr",
     "output_type": "stream",
     "text": [
      "Training: 100%|███████████████████████████████████| 4/4 [00:57<00:00, 14.42s/it]"
     ]
    },
    {
     "name": "stdout",
     "output_type": "stream",
     "text": [
      "Epoch 4/4, Loss: -0.1093, Train fit: 0.0480, Test fit: 0.0112, Avg Weight: 0.0002, Max Weight: 0.0012\n",
      "Training completed! Best test Sharpe ratio: 0.0112\n",
      "Training from 2002-04 to 2002-09. Testing on 2002-10.\n"
     ]
    },
    {
     "name": "stderr",
     "output_type": "stream",
     "text": [
      "\n"
     ]
    },
    {
     "name": "stdout",
     "output_type": "stream",
     "text": [
      "['sprtrn_lag1', 'DlyRet_lag1', 'DlyRet_roll_10', 'DlyRet_roll_20', 'DlyRet_roll_30']\n",
      "Starting training with 451 train batches, 40 test batches\n"
     ]
    },
    {
     "name": "stderr",
     "output_type": "stream",
     "text": [
      "Training:  25%|████████▊                          | 1/4 [00:14<00:44, 14.86s/it]"
     ]
    },
    {
     "name": "stdout",
     "output_type": "stream",
     "text": [
      "Epoch 1/4, Loss: -0.0440, Train fit: -0.0112, Test fit: 0.0200, Avg Weight: 0.0002, Max Weight: 0.0059\n"
     ]
    },
    {
     "name": "stderr",
     "output_type": "stream",
     "text": [
      "Training:  75%|██████████████████████████▎        | 3/4 [00:44<00:14, 14.65s/it]"
     ]
    },
    {
     "name": "stdout",
     "output_type": "stream",
     "text": [
      "Epoch 3/4, Loss: -0.0632, Train fit: 0.0322, Test fit: 0.0617, Avg Weight: 0.0002, Max Weight: 0.0045\n"
     ]
    },
    {
     "name": "stderr",
     "output_type": "stream",
     "text": [
      "Training: 100%|███████████████████████████████████| 4/4 [00:58<00:00, 14.61s/it]"
     ]
    },
    {
     "name": "stdout",
     "output_type": "stream",
     "text": [
      "Epoch 4/4, Loss: -0.0856, Train fit: 0.0456, Test fit: 0.0750, Avg Weight: 0.0002, Max Weight: 0.0052\n",
      "Training completed! Best test Sharpe ratio: 0.0750\n",
      "Training from 2002-05 to 2002-10. Testing on 2002-11.\n"
     ]
    },
    {
     "name": "stderr",
     "output_type": "stream",
     "text": [
      "\n"
     ]
    },
    {
     "name": "stdout",
     "output_type": "stream",
     "text": [
      "['sprtrn_lag1', 'DlyRet_lag1', 'DlyRet_roll_10', 'DlyRet_roll_20', 'DlyRet_roll_30']\n",
      "Starting training with 452 train batches, 35 test batches\n"
     ]
    },
    {
     "name": "stderr",
     "output_type": "stream",
     "text": [
      "Training:  25%|████████▊                          | 1/4 [00:14<00:44, 14.78s/it]"
     ]
    },
    {
     "name": "stdout",
     "output_type": "stream",
     "text": [
      "Epoch 1/4, Loss: -0.0492, Train fit: -0.0133, Test fit: 0.0783, Avg Weight: 0.0002, Max Weight: 0.0030\n"
     ]
    },
    {
     "name": "stderr",
     "output_type": "stream",
     "text": [
      "Training:  75%|██████████████████████████▎        | 3/4 [00:43<00:14, 14.33s/it]"
     ]
    },
    {
     "name": "stdout",
     "output_type": "stream",
     "text": [
      "Epoch 3/4, Loss: -0.0919, Train fit: 0.0350, Test fit: 0.0996, Avg Weight: 0.0002, Max Weight: 0.0042\n"
     ]
    },
    {
     "name": "stderr",
     "output_type": "stream",
     "text": [
      "Training: 100%|███████████████████████████████████| 4/4 [00:57<00:00, 14.42s/it]"
     ]
    },
    {
     "name": "stdout",
     "output_type": "stream",
     "text": [
      "Epoch 4/4, Loss: -0.1011, Train fit: 0.0345, Test fit: 0.0997, Avg Weight: 0.0002, Max Weight: 0.0042\n",
      "Training completed! Best test Sharpe ratio: 0.0997\n",
      "Training from 2002-06 to 2002-11. Testing on 2002-12.\n"
     ]
    },
    {
     "name": "stderr",
     "output_type": "stream",
     "text": [
      "\n"
     ]
    },
    {
     "name": "stdout",
     "output_type": "stream",
     "text": [
      "['sprtrn_lag1', 'DlyRet_lag1', 'DlyRet_roll_10', 'DlyRet_roll_20', 'DlyRet_roll_30']\n",
      "Starting training with 443 train batches, 37 test batches\n"
     ]
    },
    {
     "name": "stderr",
     "output_type": "stream",
     "text": [
      "Training:  25%|████████▊                          | 1/4 [00:14<00:42, 14.14s/it]"
     ]
    },
    {
     "name": "stdout",
     "output_type": "stream",
     "text": [
      "Epoch 1/4, Loss: -0.0658, Train fit: -0.0123, Test fit: -0.0375, Avg Weight: 0.0003, Max Weight: 0.0038\n"
     ]
    },
    {
     "name": "stderr",
     "output_type": "stream",
     "text": [
      "Training:  75%|██████████████████████████▎        | 3/4 [00:42<00:14, 14.10s/it]"
     ]
    },
    {
     "name": "stdout",
     "output_type": "stream",
     "text": [
      "Epoch 3/4, Loss: -0.0859, Train fit: 0.0192, Test fit: -0.0124, Avg Weight: 0.0003, Max Weight: 0.0043\n"
     ]
    },
    {
     "name": "stderr",
     "output_type": "stream",
     "text": [
      "Training: 100%|███████████████████████████████████| 4/4 [00:56<00:00, 14.11s/it]"
     ]
    },
    {
     "name": "stdout",
     "output_type": "stream",
     "text": [
      "Epoch 4/4, Loss: -0.1010, Train fit: 0.0236, Test fit: -0.0103, Avg Weight: 0.0003, Max Weight: 0.0040\n",
      "Training completed! Best test Sharpe ratio: -0.0103\n",
      "Training from 2002-07 to 2002-12. Testing on 2003-01.\n"
     ]
    },
    {
     "name": "stderr",
     "output_type": "stream",
     "text": [
      "\n"
     ]
    },
    {
     "name": "stdout",
     "output_type": "stream",
     "text": [
      "['sprtrn_lag1', 'DlyRet_lag1', 'DlyRet_roll_10', 'DlyRet_roll_20', 'DlyRet_roll_30']\n",
      "Starting training with 444 train batches, 36 test batches\n"
     ]
    },
    {
     "name": "stderr",
     "output_type": "stream",
     "text": [
      "Training:  25%|████████▊                          | 1/4 [00:14<00:42, 14.24s/it]"
     ]
    },
    {
     "name": "stdout",
     "output_type": "stream",
     "text": [
      "Epoch 1/4, Loss: -0.0637, Train fit: -0.0045, Test fit: 0.0112, Avg Weight: 0.0002, Max Weight: 0.0007\n"
     ]
    },
    {
     "name": "stderr",
     "output_type": "stream",
     "text": [
      "Training:  75%|██████████████████████████▎        | 3/4 [00:42<00:14, 14.30s/it]"
     ]
    },
    {
     "name": "stdout",
     "output_type": "stream",
     "text": [
      "Epoch 3/4, Loss: -0.0897, Train fit: 0.0476, Test fit: 0.0476, Avg Weight: 0.0002, Max Weight: 0.0015\n"
     ]
    },
    {
     "name": "stderr",
     "output_type": "stream",
     "text": [
      "Training: 100%|███████████████████████████████████| 4/4 [00:57<00:00, 14.28s/it]"
     ]
    },
    {
     "name": "stdout",
     "output_type": "stream",
     "text": [
      "Epoch 4/4, Loss: -0.1104, Train fit: 0.0529, Test fit: 0.0502, Avg Weight: 0.0002, Max Weight: 0.0016\n",
      "Training completed! Best test Sharpe ratio: 0.0502\n",
      "Training from 2002-08 to 2003-01. Testing on 2003-02.\n"
     ]
    },
    {
     "name": "stderr",
     "output_type": "stream",
     "text": [
      "\n"
     ]
    },
    {
     "name": "stdout",
     "output_type": "stream",
     "text": [
      "['sprtrn_lag1', 'DlyRet_lag1', 'DlyRet_roll_10', 'DlyRet_roll_20', 'DlyRet_roll_30']\n",
      "Starting training with 439 train batches, 33 test batches\n"
     ]
    },
    {
     "name": "stderr",
     "output_type": "stream",
     "text": [
      "Training:  25%|████████▊                          | 1/4 [00:13<00:41, 13.77s/it]"
     ]
    },
    {
     "name": "stdout",
     "output_type": "stream",
     "text": [
      "Epoch 1/4, Loss: -0.0710, Train fit: 0.0094, Test fit: -0.0137, Avg Weight: 0.0002, Max Weight: 0.0030\n"
     ]
    },
    {
     "name": "stderr",
     "output_type": "stream",
     "text": [
      "Training:  75%|██████████████████████████▎        | 3/4 [00:41<00:13, 13.80s/it]"
     ]
    },
    {
     "name": "stdout",
     "output_type": "stream",
     "text": [
      "Epoch 3/4, Loss: -0.1012, Train fit: 0.0581, Test fit: 0.0316, Avg Weight: 0.0002, Max Weight: 0.0035\n"
     ]
    },
    {
     "name": "stderr",
     "output_type": "stream",
     "text": [
      "Training: 100%|███████████████████████████████████| 4/4 [00:55<00:00, 13.82s/it]"
     ]
    },
    {
     "name": "stdout",
     "output_type": "stream",
     "text": [
      "Epoch 4/4, Loss: -0.1162, Train fit: 0.0631, Test fit: 0.0372, Avg Weight: 0.0002, Max Weight: 0.0043\n",
      "Training completed! Best test Sharpe ratio: 0.0372\n",
      "Training from 2002-09 to 2003-02. Testing on 2003-03.\n"
     ]
    },
    {
     "name": "stderr",
     "output_type": "stream",
     "text": [
      "\n"
     ]
    },
    {
     "name": "stdout",
     "output_type": "stream",
     "text": [
      "['sprtrn_lag1', 'DlyRet_lag1', 'DlyRet_roll_10', 'DlyRet_roll_20', 'DlyRet_roll_30']\n",
      "Starting training with 427 train batches, 36 test batches\n"
     ]
    },
    {
     "name": "stderr",
     "output_type": "stream",
     "text": [
      "Training:  25%|████████▊                          | 1/4 [00:13<00:40, 13.45s/it]"
     ]
    },
    {
     "name": "stdout",
     "output_type": "stream",
     "text": [
      "Epoch 1/4, Loss: -0.0694, Train fit: 0.0065, Test fit: 0.0100, Avg Weight: 0.0002, Max Weight: 0.0015\n"
     ]
    },
    {
     "name": "stderr",
     "output_type": "stream",
     "text": [
      "Training:  75%|██████████████████████████▎        | 3/4 [00:41<00:13, 13.66s/it]"
     ]
    },
    {
     "name": "stdout",
     "output_type": "stream",
     "text": [
      "Epoch 3/4, Loss: -0.0955, Train fit: 0.0517, Test fit: 0.0498, Avg Weight: 0.0002, Max Weight: 0.0020\n"
     ]
    },
    {
     "name": "stderr",
     "output_type": "stream",
     "text": [
      "Training: 100%|███████████████████████████████████| 4/4 [00:54<00:00, 13.69s/it]"
     ]
    },
    {
     "name": "stdout",
     "output_type": "stream",
     "text": [
      "Epoch 4/4, Loss: -0.1107, Train fit: 0.0593, Test fit: 0.0550, Avg Weight: 0.0002, Max Weight: 0.0019\n",
      "Training completed! Best test Sharpe ratio: 0.0550\n",
      "Training from 2002-10 to 2003-03. Testing on 2003-04.\n"
     ]
    },
    {
     "name": "stderr",
     "output_type": "stream",
     "text": [
      "\n"
     ]
    },
    {
     "name": "stdout",
     "output_type": "stream",
     "text": [
      "['sprtrn_lag1', 'DlyRet_lag1', 'DlyRet_roll_10', 'DlyRet_roll_20', 'DlyRet_roll_30']\n",
      "Starting training with 428 train batches, 36 test batches\n"
     ]
    },
    {
     "name": "stderr",
     "output_type": "stream",
     "text": [
      "Training:  25%|████████▊                          | 1/4 [00:13<00:41, 13.68s/it]"
     ]
    },
    {
     "name": "stdout",
     "output_type": "stream",
     "text": [
      "Epoch 1/4, Loss: -0.0746, Train fit: 0.0206, Test fit: 0.0937, Avg Weight: 0.0003, Max Weight: 0.0045\n"
     ]
    },
    {
     "name": "stderr",
     "output_type": "stream",
     "text": [
      "Training:  75%|██████████████████████████▎        | 3/4 [00:41<00:13, 13.79s/it]"
     ]
    },
    {
     "name": "stdout",
     "output_type": "stream",
     "text": [
      "Epoch 3/4, Loss: -0.1106, Train fit: 0.0582, Test fit: 0.1046, Avg Weight: 0.0003, Max Weight: 0.0040\n"
     ]
    },
    {
     "name": "stderr",
     "output_type": "stream",
     "text": [
      "Training: 100%|███████████████████████████████████| 4/4 [00:54<00:00, 13.73s/it]"
     ]
    },
    {
     "name": "stdout",
     "output_type": "stream",
     "text": [
      "Epoch 4/4, Loss: -0.1213, Train fit: 0.0641, Test fit: 0.1025, Avg Weight: 0.0003, Max Weight: 0.0040\n",
      "Training completed! Best test Sharpe ratio: 0.1046\n",
      "Training from 2002-11 to 2003-04. Testing on 2003-05.\n"
     ]
    },
    {
     "name": "stderr",
     "output_type": "stream",
     "text": [
      "\n"
     ]
    },
    {
     "name": "stdout",
     "output_type": "stream",
     "text": [
      "['sprtrn_lag1', 'DlyRet_lag1', 'DlyRet_roll_10', 'DlyRet_roll_20', 'DlyRet_roll_30']\n",
      "Starting training with 419 train batches, 35 test batches\n"
     ]
    },
    {
     "name": "stderr",
     "output_type": "stream",
     "text": [
      "Training:  25%|████████▊                          | 1/4 [00:13<00:39, 13.27s/it]"
     ]
    },
    {
     "name": "stdout",
     "output_type": "stream",
     "text": [
      "Epoch 1/4, Loss: -0.0890, Train fit: 0.0305, Test fit: 0.1315, Avg Weight: 0.0002, Max Weight: 0.0004\n"
     ]
    },
    {
     "name": "stderr",
     "output_type": "stream",
     "text": [
      "Training:  75%|██████████████████████████▎        | 3/4 [00:40<00:13, 13.49s/it]"
     ]
    },
    {
     "name": "stdout",
     "output_type": "stream",
     "text": [
      "Epoch 3/4, Loss: -0.1157, Train fit: 0.0550, Test fit: 0.1359, Avg Weight: 0.0002, Max Weight: 0.0005\n"
     ]
    },
    {
     "name": "stderr",
     "output_type": "stream",
     "text": [
      "Training: 100%|███████████████████████████████████| 4/4 [00:53<00:00, 13.47s/it]"
     ]
    },
    {
     "name": "stdout",
     "output_type": "stream",
     "text": [
      "Epoch 4/4, Loss: -0.1278, Train fit: 0.0596, Test fit: 0.1357, Avg Weight: 0.0002, Max Weight: 0.0005\n",
      "Training completed! Best test Sharpe ratio: 0.1374\n",
      "Training from 2002-12 to 2003-05. Testing on 2003-06.\n"
     ]
    },
    {
     "name": "stderr",
     "output_type": "stream",
     "text": [
      "\n"
     ]
    },
    {
     "name": "stdout",
     "output_type": "stream",
     "text": [
      "['sprtrn_lag1', 'DlyRet_lag1', 'DlyRet_roll_10', 'DlyRet_roll_20', 'DlyRet_roll_30']\n",
      "Starting training with 420 train batches, 35 test batches\n"
     ]
    },
    {
     "name": "stderr",
     "output_type": "stream",
     "text": [
      "Training:  25%|████████▊                          | 1/4 [00:13<00:40, 13.44s/it]"
     ]
    },
    {
     "name": "stdout",
     "output_type": "stream",
     "text": [
      "Epoch 1/4, Loss: -0.0977, Train fit: 0.0328, Test fit: 0.0504, Avg Weight: 0.0002, Max Weight: 0.0005\n"
     ]
    },
    {
     "name": "stderr",
     "output_type": "stream",
     "text": [
      "Training:  75%|██████████████████████████▎        | 3/4 [00:40<00:13, 13.63s/it]"
     ]
    },
    {
     "name": "stdout",
     "output_type": "stream",
     "text": [
      "Epoch 3/4, Loss: -0.1093, Train fit: 0.0405, Test fit: 0.0555, Avg Weight: 0.0002, Max Weight: 0.0005\n"
     ]
    },
    {
     "name": "stderr",
     "output_type": "stream",
     "text": [
      "Training: 100%|███████████████████████████████████| 4/4 [00:54<00:00, 13.51s/it]"
     ]
    },
    {
     "name": "stdout",
     "output_type": "stream",
     "text": [
      "Epoch 4/4, Loss: -0.1223, Train fit: 0.0483, Test fit: 0.0598, Avg Weight: 0.0002, Max Weight: 0.0005\n",
      "Training completed! Best test Sharpe ratio: 0.0598\n",
      "Training from 2003-01 to 2003-06. Testing on 2003-07.\n"
     ]
    },
    {
     "name": "stderr",
     "output_type": "stream",
     "text": [
      "\n"
     ]
    },
    {
     "name": "stdout",
     "output_type": "stream",
     "text": [
      "['sprtrn_lag1', 'DlyRet_lag1', 'DlyRet_roll_10', 'DlyRet_roll_20', 'DlyRet_roll_30']\n",
      "Starting training with 417 train batches, 37 test batches\n"
     ]
    },
    {
     "name": "stderr",
     "output_type": "stream",
     "text": [
      "Training:  25%|████████▊                          | 1/4 [00:13<00:40, 13.39s/it]"
     ]
    },
    {
     "name": "stdout",
     "output_type": "stream",
     "text": [
      "Epoch 1/4, Loss: -0.1143, Train fit: 0.0502, Test fit: 0.0592, Avg Weight: 0.0002, Max Weight: 0.0016\n"
     ]
    },
    {
     "name": "stderr",
     "output_type": "stream",
     "text": [
      "Training:  75%|██████████████████████████▎        | 3/4 [00:40<00:13, 13.40s/it]"
     ]
    },
    {
     "name": "stdout",
     "output_type": "stream",
     "text": [
      "Epoch 3/4, Loss: -0.1249, Train fit: 0.0631, Test fit: 0.0680, Avg Weight: 0.0002, Max Weight: 0.0016\n"
     ]
    },
    {
     "name": "stderr",
     "output_type": "stream",
     "text": [
      "Training: 100%|███████████████████████████████████| 4/4 [00:53<00:00, 13.35s/it]"
     ]
    },
    {
     "name": "stdout",
     "output_type": "stream",
     "text": [
      "Epoch 4/4, Loss: -0.1380, Train fit: 0.0700, Test fit: 0.0714, Avg Weight: 0.0002, Max Weight: 0.0017\n",
      "Training completed! Best test Sharpe ratio: 0.0714\n",
      "Training from 2003-02 to 2003-07. Testing on 2003-08.\n"
     ]
    },
    {
     "name": "stderr",
     "output_type": "stream",
     "text": [
      "\n"
     ]
    },
    {
     "name": "stdout",
     "output_type": "stream",
     "text": [
      "['sprtrn_lag1', 'DlyRet_lag1', 'DlyRet_roll_10', 'DlyRet_roll_20', 'DlyRet_roll_30']\n",
      "Starting training with 418 train batches, 35 test batches\n"
     ]
    },
    {
     "name": "stderr",
     "output_type": "stream",
     "text": [
      "Training:  25%|████████▊                          | 1/4 [00:13<00:40, 13.57s/it]"
     ]
    },
    {
     "name": "stdout",
     "output_type": "stream",
     "text": [
      "Epoch 1/4, Loss: -0.1208, Train fit: 0.0612, Test fit: 0.0622, Avg Weight: 0.0002, Max Weight: 0.0008\n"
     ]
    },
    {
     "name": "stderr",
     "output_type": "stream",
     "text": [
      "Training:  75%|██████████████████████████▎        | 3/4 [00:40<00:13, 13.45s/it]"
     ]
    },
    {
     "name": "stdout",
     "output_type": "stream",
     "text": [
      "Epoch 3/4, Loss: -0.1286, Train fit: 0.0685, Test fit: 0.0673, Avg Weight: 0.0002, Max Weight: 0.0010\n"
     ]
    },
    {
     "name": "stderr",
     "output_type": "stream",
     "text": [
      "Training: 100%|███████████████████████████████████| 4/4 [00:53<00:00, 13.50s/it]"
     ]
    },
    {
     "name": "stdout",
     "output_type": "stream",
     "text": [
      "Epoch 4/4, Loss: -0.1485, Train fit: 0.0755, Test fit: 0.0730, Avg Weight: 0.0002, Max Weight: 0.0012\n",
      "Training completed! Best test Sharpe ratio: 0.0730\n",
      "Training from 2003-03 to 2003-08. Testing on 2003-09.\n"
     ]
    },
    {
     "name": "stderr",
     "output_type": "stream",
     "text": [
      "\n"
     ]
    },
    {
     "name": "stdout",
     "output_type": "stream",
     "text": [
      "['sprtrn_lag1', 'DlyRet_lag1', 'DlyRet_roll_10', 'DlyRet_roll_20', 'DlyRet_roll_30']\n",
      "Starting training with 422 train batches, 35 test batches\n"
     ]
    },
    {
     "name": "stderr",
     "output_type": "stream",
     "text": [
      "Training:  25%|████████▊                          | 1/4 [00:13<00:40, 13.37s/it]"
     ]
    },
    {
     "name": "stdout",
     "output_type": "stream",
     "text": [
      "Epoch 1/4, Loss: -0.1395, Train fit: 0.0750, Test fit: 0.0263, Avg Weight: 0.0002, Max Weight: 0.0007\n"
     ]
    },
    {
     "name": "stderr",
     "output_type": "stream",
     "text": [
      "Training:  75%|██████████████████████████▎        | 3/4 [00:40<00:13, 13.40s/it]"
     ]
    },
    {
     "name": "stdout",
     "output_type": "stream",
     "text": [
      "Epoch 3/4, Loss: -0.1503, Train fit: 0.0774, Test fit: 0.0279, Avg Weight: 0.0002, Max Weight: 0.0007\n"
     ]
    },
    {
     "name": "stderr",
     "output_type": "stream",
     "text": [
      "Training: 100%|███████████████████████████████████| 4/4 [00:54<00:00, 13.51s/it]"
     ]
    },
    {
     "name": "stdout",
     "output_type": "stream",
     "text": [
      "Epoch 4/4, Loss: -0.1547, Train fit: 0.0849, Test fit: 0.0306, Avg Weight: 0.0002, Max Weight: 0.0008\n",
      "Training completed! Best test Sharpe ratio: 0.0306\n",
      "Training from 2003-04 to 2003-09. Testing on 2003-10.\n"
     ]
    },
    {
     "name": "stderr",
     "output_type": "stream",
     "text": [
      "\n"
     ]
    },
    {
     "name": "stdout",
     "output_type": "stream",
     "text": [
      "['sprtrn_lag1', 'DlyRet_lag1', 'DlyRet_roll_10', 'DlyRet_roll_20', 'DlyRet_roll_30']\n",
      "Starting training with 420 train batches, 38 test batches\n"
     ]
    },
    {
     "name": "stderr",
     "output_type": "stream",
     "text": [
      "Training:  25%|████████▊                          | 1/4 [00:13<00:39, 13.33s/it]"
     ]
    },
    {
     "name": "stdout",
     "output_type": "stream",
     "text": [
      "Epoch 1/4, Loss: -0.1462, Train fit: 0.0791, Test fit: 0.0974, Avg Weight: 0.0002, Max Weight: 0.0005\n"
     ]
    },
    {
     "name": "stderr",
     "output_type": "stream",
     "text": [
      "Training:  75%|██████████████████████████▎        | 3/4 [00:40<00:13, 13.48s/it]"
     ]
    },
    {
     "name": "stdout",
     "output_type": "stream",
     "text": [
      "Epoch 3/4, Loss: -0.1563, Train fit: 0.0843, Test fit: 0.1018, Avg Weight: 0.0002, Max Weight: 0.0006\n"
     ]
    },
    {
     "name": "stderr",
     "output_type": "stream",
     "text": [
      "Training: 100%|███████████████████████████████████| 4/4 [00:53<00:00, 13.44s/it]"
     ]
    },
    {
     "name": "stdout",
     "output_type": "stream",
     "text": [
      "Epoch 4/4, Loss: -0.1612, Train fit: 0.0937, Test fit: 0.1079, Avg Weight: 0.0002, Max Weight: 0.0006\n",
      "Training completed! Best test Sharpe ratio: 0.1079\n",
      "Training from 2003-05 to 2003-10. Testing on 2003-11.\n"
     ]
    },
    {
     "name": "stderr",
     "output_type": "stream",
     "text": [
      "\n"
     ]
    },
    {
     "name": "stdout",
     "output_type": "stream",
     "text": [
      "['sprtrn_lag1', 'DlyRet_lag1', 'DlyRet_roll_10', 'DlyRet_roll_20', 'DlyRet_roll_30']\n",
      "Starting training with 425 train batches, 32 test batches\n"
     ]
    },
    {
     "name": "stderr",
     "output_type": "stream",
     "text": [
      "Training:  25%|████████▊                          | 1/4 [00:13<00:40, 13.50s/it]"
     ]
    },
    {
     "name": "stdout",
     "output_type": "stream",
     "text": [
      "Epoch 1/4, Loss: -0.1417, Train fit: 0.0776, Test fit: 0.0517, Avg Weight: 0.0003, Max Weight: 0.0091\n"
     ]
    },
    {
     "name": "stderr",
     "output_type": "stream",
     "text": [
      "Training:  75%|██████████████████████████▎        | 3/4 [00:40<00:13, 13.37s/it]"
     ]
    },
    {
     "name": "stdout",
     "output_type": "stream",
     "text": [
      "Epoch 3/4, Loss: -0.1538, Train fit: 0.0799, Test fit: 0.0536, Avg Weight: 0.0003, Max Weight: 0.0097\n"
     ]
    },
    {
     "name": "stderr",
     "output_type": "stream",
     "text": [
      "Training: 100%|███████████████████████████████████| 4/4 [00:53<00:00, 13.40s/it]"
     ]
    },
    {
     "name": "stdout",
     "output_type": "stream",
     "text": [
      "Epoch 4/4, Loss: -0.1573, Train fit: 0.0877, Test fit: 0.0586, Avg Weight: 0.0003, Max Weight: 0.0099\n",
      "Training completed! Best test Sharpe ratio: 0.0586\n",
      "Training from 2003-06 to 2003-11. Testing on 2003-12.\n"
     ]
    },
    {
     "name": "stderr",
     "output_type": "stream",
     "text": [
      "\n"
     ]
    },
    {
     "name": "stdout",
     "output_type": "stream",
     "text": [
      "['sprtrn_lag1', 'DlyRet_lag1', 'DlyRet_roll_10', 'DlyRet_roll_20', 'DlyRet_roll_30']\n",
      "Starting training with 418 train batches, 36 test batches\n"
     ]
    },
    {
     "name": "stderr",
     "output_type": "stream",
     "text": [
      "Training:  25%|████████▊                          | 1/4 [00:13<00:40, 13.56s/it]"
     ]
    },
    {
     "name": "stdout",
     "output_type": "stream",
     "text": [
      "Epoch 1/4, Loss: -0.1296, Train fit: 0.0647, Test fit: 0.0551, Avg Weight: 0.0002, Max Weight: 0.0004\n"
     ]
    },
    {
     "name": "stderr",
     "output_type": "stream",
     "text": [
      "Training:  75%|██████████████████████████▎        | 3/4 [00:40<00:13, 13.52s/it]"
     ]
    },
    {
     "name": "stdout",
     "output_type": "stream",
     "text": [
      "Epoch 3/4, Loss: -0.1413, Train fit: 0.0665, Test fit: 0.0563, Avg Weight: 0.0002, Max Weight: 0.0005\n"
     ]
    },
    {
     "name": "stderr",
     "output_type": "stream",
     "text": [
      "Training: 100%|███████████████████████████████████| 4/4 [00:54<00:00, 13.52s/it]"
     ]
    },
    {
     "name": "stdout",
     "output_type": "stream",
     "text": [
      "Epoch 4/4, Loss: -0.1428, Train fit: 0.0708, Test fit: 0.0597, Avg Weight: 0.0002, Max Weight: 0.0005\n",
      "Training completed! Best test Sharpe ratio: 0.0597\n",
      "Training from 2003-07 to 2003-12. Testing on 2004-01.\n"
     ]
    },
    {
     "name": "stderr",
     "output_type": "stream",
     "text": [
      "\n"
     ]
    },
    {
     "name": "stdout",
     "output_type": "stream",
     "text": [
      "['sprtrn_lag1', 'DlyRet_lag1', 'DlyRet_roll_10', 'DlyRet_roll_20', 'DlyRet_roll_30']\n",
      "Starting training with 420 train batches, 33 test batches\n"
     ]
    },
    {
     "name": "stderr",
     "output_type": "stream",
     "text": [
      "Training:  25%|████████▊                          | 1/4 [00:13<00:39, 13.20s/it]"
     ]
    },
    {
     "name": "stdout",
     "output_type": "stream",
     "text": [
      "Epoch 1/4, Loss: -0.1267, Train fit: 0.0636, Test fit: 0.0832, Avg Weight: 0.0002, Max Weight: 0.0006\n"
     ]
    },
    {
     "name": "stderr",
     "output_type": "stream",
     "text": [
      "Training:  75%|██████████████████████████▎        | 3/4 [00:39<00:13, 13.33s/it]"
     ]
    },
    {
     "name": "stdout",
     "output_type": "stream",
     "text": [
      "Epoch 3/4, Loss: -0.1416, Train fit: 0.0647, Test fit: 0.0841, Avg Weight: 0.0002, Max Weight: 0.0006\n"
     ]
    },
    {
     "name": "stderr",
     "output_type": "stream",
     "text": [
      "Training: 100%|███████████████████████████████████| 4/4 [00:53<00:00, 13.31s/it]"
     ]
    },
    {
     "name": "stdout",
     "output_type": "stream",
     "text": [
      "Epoch 4/4, Loss: -0.1424, Train fit: 0.0655, Test fit: 0.0839, Avg Weight: 0.0002, Max Weight: 0.0006\n",
      "Training completed! Best test Sharpe ratio: 0.0844\n",
      "Training from 2003-08 to 2004-01. Testing on 2004-02.\n"
     ]
    },
    {
     "name": "stderr",
     "output_type": "stream",
     "text": [
      "\n"
     ]
    },
    {
     "name": "stdout",
     "output_type": "stream",
     "text": [
      "['sprtrn_lag1', 'DlyRet_lag1', 'DlyRet_roll_10', 'DlyRet_roll_20', 'DlyRet_roll_30']\n",
      "Starting training with 413 train batches, 32 test batches\n"
     ]
    },
    {
     "name": "stderr",
     "output_type": "stream",
     "text": [
      "Training:  25%|████████▊                          | 1/4 [00:13<00:39, 13.17s/it]"
     ]
    },
    {
     "name": "stdout",
     "output_type": "stream",
     "text": [
      "Epoch 1/4, Loss: -0.1313, Train fit: 0.0681, Test fit: 0.0246, Avg Weight: 0.0003, Max Weight: 0.0052\n"
     ]
    },
    {
     "name": "stderr",
     "output_type": "stream",
     "text": [
      "Training:  75%|██████████████████████████▎        | 3/4 [00:39<00:13, 13.21s/it]"
     ]
    },
    {
     "name": "stdout",
     "output_type": "stream",
     "text": [
      "Epoch 3/4, Loss: -0.1459, Train fit: 0.0696, Test fit: 0.0252, Avg Weight: 0.0003, Max Weight: 0.0056\n"
     ]
    },
    {
     "name": "stderr",
     "output_type": "stream",
     "text": [
      "Training: 100%|███████████████████████████████████| 4/4 [00:52<00:00, 13.14s/it]"
     ]
    },
    {
     "name": "stdout",
     "output_type": "stream",
     "text": [
      "Epoch 4/4, Loss: -0.1469, Train fit: 0.0706, Test fit: 0.0263, Avg Weight: 0.0003, Max Weight: 0.0054\n",
      "Training completed! Best test Sharpe ratio: 0.0263\n",
      "Training from 2003-09 to 2004-02. Testing on 2004-03.\n"
     ]
    },
    {
     "name": "stderr",
     "output_type": "stream",
     "text": [
      "\n"
     ]
    },
    {
     "name": "stdout",
     "output_type": "stream",
     "text": [
      "['sprtrn_lag1', 'DlyRet_lag1', 'DlyRet_roll_10', 'DlyRet_roll_20', 'DlyRet_roll_30']\n",
      "Starting training with 406 train batches, 38 test batches\n"
     ]
    },
    {
     "name": "stderr",
     "output_type": "stream",
     "text": [
      "Training:  25%|████████▊                          | 1/4 [00:13<00:39, 13.02s/it]"
     ]
    },
    {
     "name": "stdout",
     "output_type": "stream",
     "text": [
      "Epoch 1/4, Loss: -0.1238, Train fit: 0.0609, Test fit: 0.0119, Avg Weight: 0.0002, Max Weight: 0.0007\n"
     ]
    },
    {
     "name": "stderr",
     "output_type": "stream",
     "text": [
      "Training:  75%|██████████████████████████▎        | 3/4 [00:39<00:13, 13.26s/it]"
     ]
    },
    {
     "name": "stdout",
     "output_type": "stream",
     "text": [
      "Epoch 3/4, Loss: -0.1399, Train fit: 0.0661, Test fit: 0.0128, Avg Weight: 0.0002, Max Weight: 0.0008\n"
     ]
    },
    {
     "name": "stderr",
     "output_type": "stream",
     "text": [
      "Training: 100%|███████████████████████████████████| 4/4 [00:52<00:00, 13.21s/it]"
     ]
    },
    {
     "name": "stdout",
     "output_type": "stream",
     "text": [
      "Epoch 4/4, Loss: -0.1413, Train fit: 0.0681, Test fit: 0.0154, Avg Weight: 0.0002, Max Weight: 0.0008\n",
      "Training completed! Best test Sharpe ratio: 0.0154\n",
      "Training from 2003-10 to 2004-03. Testing on 2004-04.\n"
     ]
    },
    {
     "name": "stderr",
     "output_type": "stream",
     "text": [
      "\n"
     ]
    },
    {
     "name": "stdout",
     "output_type": "stream",
     "text": [
      "['sprtrn_lag1', 'DlyRet_lag1', 'DlyRet_roll_10', 'DlyRet_roll_20', 'DlyRet_roll_30']\n",
      "Starting training with 412 train batches, 35 test batches\n"
     ]
    },
    {
     "name": "stderr",
     "output_type": "stream",
     "text": [
      "Training:  25%|████████▊                          | 1/4 [00:13<00:39, 13.10s/it]"
     ]
    },
    {
     "name": "stdout",
     "output_type": "stream",
     "text": [
      "Epoch 1/4, Loss: -0.1156, Train fit: 0.0552, Test fit: -0.0736, Avg Weight: 0.0002, Max Weight: 0.0014\n"
     ]
    },
    {
     "name": "stderr",
     "output_type": "stream",
     "text": [
      "Training:  75%|██████████████████████████▎        | 3/4 [00:39<00:13, 13.37s/it]"
     ]
    },
    {
     "name": "stdout",
     "output_type": "stream",
     "text": [
      "Epoch 3/4, Loss: -0.1331, Train fit: 0.0593, Test fit: -0.0725, Avg Weight: 0.0002, Max Weight: 0.0013\n"
     ]
    },
    {
     "name": "stderr",
     "output_type": "stream",
     "text": [
      "Training: 100%|███████████████████████████████████| 4/4 [00:52<00:00, 13.24s/it]"
     ]
    },
    {
     "name": "stdout",
     "output_type": "stream",
     "text": [
      "Epoch 4/4, Loss: -0.1344, Train fit: 0.0604, Test fit: -0.0743, Avg Weight: 0.0002, Max Weight: 0.0013\n",
      "Training completed! Best test Sharpe ratio: -0.0725\n",
      "Training from 2003-11 to 2004-04. Testing on 2004-05.\n"
     ]
    },
    {
     "name": "stderr",
     "output_type": "stream",
     "text": [
      "\n"
     ]
    },
    {
     "name": "stdout",
     "output_type": "stream",
     "text": [
      "['sprtrn_lag1', 'DlyRet_lag1', 'DlyRet_roll_10', 'DlyRet_roll_20', 'DlyRet_roll_30']\n",
      "Starting training with 406 train batches, 33 test batches\n"
     ]
    },
    {
     "name": "stderr",
     "output_type": "stream",
     "text": [
      "Training:  25%|████████▊                          | 1/4 [00:12<00:38, 12.87s/it]"
     ]
    },
    {
     "name": "stdout",
     "output_type": "stream",
     "text": [
      "Epoch 1/4, Loss: -0.0951, Train fit: 0.0010, Test fit: 0.0014, Avg Weight: 0.0002, Max Weight: 0.2705\n"
     ]
    },
    {
     "name": "stderr",
     "output_type": "stream",
     "text": [
      "Training:  75%|██████████████████████████▎        | 3/4 [00:38<00:12, 12.99s/it]"
     ]
    },
    {
     "name": "stdout",
     "output_type": "stream",
     "text": [
      "Epoch 3/4, Loss: -0.0909, Train fit: 0.0221, Test fit: 0.0047, Avg Weight: 0.0002, Max Weight: 0.0015\n"
     ]
    },
    {
     "name": "stderr",
     "output_type": "stream",
     "text": [
      "Training: 100%|███████████████████████████████████| 4/4 [00:51<00:00, 12.95s/it]"
     ]
    },
    {
     "name": "stdout",
     "output_type": "stream",
     "text": [
      "Epoch 4/4, Loss: -0.0990, Train fit: 0.0206, Test fit: 0.0015, Avg Weight: 0.0002, Max Weight: 0.0015\n",
      "Training completed! Best test Sharpe ratio: 0.0047\n",
      "Training from 2003-12 to 2004-05. Testing on 2004-06.\n"
     ]
    },
    {
     "name": "stderr",
     "output_type": "stream",
     "text": [
      "\n"
     ]
    },
    {
     "name": "stdout",
     "output_type": "stream",
     "text": [
      "['sprtrn_lag1', 'DlyRet_lag1', 'DlyRet_roll_10', 'DlyRet_roll_20', 'DlyRet_roll_30']\n",
      "Starting training with 409 train batches, 35 test batches\n"
     ]
    },
    {
     "name": "stderr",
     "output_type": "stream",
     "text": [
      "Training:  25%|████████▊                          | 1/4 [00:13<00:39, 13.13s/it]"
     ]
    },
    {
     "name": "stdout",
     "output_type": "stream",
     "text": [
      "Epoch 1/4, Loss: -0.0875, Train fit: 0.0163, Test fit: 0.0359, Avg Weight: 0.0002, Max Weight: 0.0016\n"
     ]
    },
    {
     "name": "stderr",
     "output_type": "stream",
     "text": [
      "Training:  75%|██████████████████████████▎        | 3/4 [00:39<00:13, 13.18s/it]"
     ]
    },
    {
     "name": "stdout",
     "output_type": "stream",
     "text": [
      "Epoch 3/4, Loss: -0.0852, Train fit: 0.0105, Test fit: 0.0219, Avg Weight: 0.0002, Max Weight: 0.0021\n"
     ]
    },
    {
     "name": "stderr",
     "output_type": "stream",
     "text": [
      "Training: 100%|███████████████████████████████████| 4/4 [00:52<00:00, 13.12s/it]"
     ]
    },
    {
     "name": "stdout",
     "output_type": "stream",
     "text": [
      "Epoch 4/4, Loss: -0.0869, Train fit: 0.0164, Test fit: 0.0302, Avg Weight: 0.0002, Max Weight: 0.0021\n",
      "Training completed! Best test Sharpe ratio: 0.0390\n",
      "Training from 2004-01 to 2004-06. Testing on 2004-07.\n"
     ]
    },
    {
     "name": "stderr",
     "output_type": "stream",
     "text": [
      "\n"
     ]
    },
    {
     "name": "stdout",
     "output_type": "stream",
     "text": [
      "['sprtrn_lag1', 'DlyRet_lag1', 'DlyRet_roll_10', 'DlyRet_roll_20', 'DlyRet_roll_30']\n",
      "Starting training with 406 train batches, 35 test batches\n"
     ]
    },
    {
     "name": "stderr",
     "output_type": "stream",
     "text": [
      "Training:  25%|████████▊                          | 1/4 [00:12<00:38, 12.95s/it]"
     ]
    },
    {
     "name": "stdout",
     "output_type": "stream",
     "text": [
      "Epoch 1/4, Loss: -0.0727, Train fit: 0.0139, Test fit: -0.0646, Avg Weight: 0.0002, Max Weight: 0.0017\n"
     ]
    },
    {
     "name": "stderr",
     "output_type": "stream",
     "text": [
      "Training:  75%|██████████████████████████▎        | 3/4 [00:38<00:12, 12.93s/it]"
     ]
    },
    {
     "name": "stdout",
     "output_type": "stream",
     "text": [
      "Epoch 3/4, Loss: -0.0849, Train fit: 0.0161, Test fit: -0.0669, Avg Weight: 0.0002, Max Weight: 0.0017\n"
     ]
    },
    {
     "name": "stderr",
     "output_type": "stream",
     "text": [
      "Training: 100%|███████████████████████████████████| 4/4 [00:51<00:00, 12.92s/it]"
     ]
    },
    {
     "name": "stdout",
     "output_type": "stream",
     "text": [
      "Epoch 4/4, Loss: -0.0876, Train fit: 0.0169, Test fit: -0.0670, Avg Weight: 0.0002, Max Weight: 0.0017\n",
      "Training completed! Best test Sharpe ratio: -0.0646\n",
      "Training from 2004-02 to 2004-07. Testing on 2004-08.\n"
     ]
    },
    {
     "name": "stderr",
     "output_type": "stream",
     "text": [
      "\n"
     ]
    },
    {
     "name": "stdout",
     "output_type": "stream",
     "text": [
      "['sprtrn_lag1', 'DlyRet_lag1', 'DlyRet_roll_10', 'DlyRet_roll_20', 'DlyRet_roll_30']\n",
      "Starting training with 409 train batches, 36 test batches\n"
     ]
    },
    {
     "name": "stderr",
     "output_type": "stream",
     "text": [
      "Training:  25%|████████▊                          | 1/4 [00:13<00:39, 13.04s/it]"
     ]
    },
    {
     "name": "stdout",
     "output_type": "stream",
     "text": [
      "Epoch 1/4, Loss: -0.0535, Train fit: -0.0032, Test fit: -0.0058, Avg Weight: 0.0002, Max Weight: 0.0132\n"
     ]
    },
    {
     "name": "stderr",
     "output_type": "stream",
     "text": [
      "Training:  75%|██████████████████████████▎        | 3/4 [00:39<00:13, 13.07s/it]"
     ]
    },
    {
     "name": "stdout",
     "output_type": "stream",
     "text": [
      "Epoch 3/4, Loss: -0.0636, Train fit: -0.0013, Test fit: 0.0081, Avg Weight: 0.0002, Max Weight: 0.0009\n"
     ]
    },
    {
     "name": "stderr",
     "output_type": "stream",
     "text": [
      "Training: 100%|███████████████████████████████████| 4/4 [00:52<00:00, 13.14s/it]"
     ]
    },
    {
     "name": "stdout",
     "output_type": "stream",
     "text": [
      "Epoch 4/4, Loss: -0.0686, Train fit: 0.0039, Test fit: 0.0096, Avg Weight: 0.0002, Max Weight: 0.0014\n",
      "Training completed! Best test Sharpe ratio: 0.0096\n",
      "Training from 2004-03 to 2004-08. Testing on 2004-09.\n"
     ]
    },
    {
     "name": "stderr",
     "output_type": "stream",
     "text": [
      "\n"
     ]
    },
    {
     "name": "stdout",
     "output_type": "stream",
     "text": [
      "['sprtrn_lag1', 'DlyRet_lag1', 'DlyRet_roll_10', 'DlyRet_roll_20', 'DlyRet_roll_30']\n",
      "Starting training with 419 train batches, 35 test batches\n"
     ]
    },
    {
     "name": "stderr",
     "output_type": "stream",
     "text": [
      "Training:  25%|████████▊                          | 1/4 [00:13<00:39, 13.26s/it]"
     ]
    },
    {
     "name": "stdout",
     "output_type": "stream",
     "text": [
      "Epoch 1/4, Loss: -0.0500, Train fit: -0.0106, Test fit: 0.0578, Avg Weight: 0.0002, Max Weight: 0.0028\n"
     ]
    },
    {
     "name": "stderr",
     "output_type": "stream",
     "text": [
      "Training:  75%|██████████████████████████▎        | 3/4 [00:39<00:13, 13.21s/it]"
     ]
    },
    {
     "name": "stdout",
     "output_type": "stream",
     "text": [
      "Epoch 3/4, Loss: -0.0671, Train fit: -0.0005, Test fit: 0.0605, Avg Weight: 0.0002, Max Weight: 0.0023\n"
     ]
    },
    {
     "name": "stderr",
     "output_type": "stream",
     "text": [
      "Training: 100%|███████████████████████████████████| 4/4 [00:53<00:00, 13.35s/it]"
     ]
    },
    {
     "name": "stdout",
     "output_type": "stream",
     "text": [
      "Epoch 4/4, Loss: -0.0709, Train fit: 0.0075, Test fit: 0.0648, Avg Weight: 0.0002, Max Weight: 0.0024\n",
      "Training completed! Best test Sharpe ratio: 0.0648\n",
      "Training from 2004-04 to 2004-09. Testing on 2004-10.\n"
     ]
    },
    {
     "name": "stderr",
     "output_type": "stream",
     "text": [
      "\n"
     ]
    },
    {
     "name": "stdout",
     "output_type": "stream",
     "text": [
      "['sprtrn_lag1', 'DlyRet_lag1', 'DlyRet_roll_10', 'DlyRet_roll_20', 'DlyRet_roll_30']\n",
      "Starting training with 412 train batches, 35 test batches\n"
     ]
    },
    {
     "name": "stderr",
     "output_type": "stream",
     "text": [
      "Training:  25%|████████▊                          | 1/4 [00:13<00:39, 13.12s/it]"
     ]
    },
    {
     "name": "stdout",
     "output_type": "stream",
     "text": [
      "Epoch 1/4, Loss: -0.0741, Train fit: -0.0065, Test fit: 0.0379, Avg Weight: 0.0002, Max Weight: 0.0011\n"
     ]
    },
    {
     "name": "stderr",
     "output_type": "stream",
     "text": [
      "Training:  75%|██████████████████████████▎        | 3/4 [00:39<00:13, 13.08s/it]"
     ]
    },
    {
     "name": "stdout",
     "output_type": "stream",
     "text": [
      "Epoch 3/4, Loss: -0.0711, Train fit: -0.0045, Test fit: 0.0379, Avg Weight: 0.0002, Max Weight: 0.0013\n"
     ]
    },
    {
     "name": "stderr",
     "output_type": "stream",
     "text": [
      "Training: 100%|███████████████████████████████████| 4/4 [00:52<00:00, 13.14s/it]"
     ]
    },
    {
     "name": "stdout",
     "output_type": "stream",
     "text": [
      "Epoch 4/4, Loss: -0.0715, Train fit: 0.0006, Test fit: 0.0406, Avg Weight: 0.0002, Max Weight: 0.0013\n",
      "Training completed! Best test Sharpe ratio: 0.0413\n",
      "Training from 2004-05 to 2004-10. Testing on 2004-11.\n"
     ]
    },
    {
     "name": "stderr",
     "output_type": "stream",
     "text": [
      "\n"
     ]
    },
    {
     "name": "stdout",
     "output_type": "stream",
     "text": [
      "['sprtrn_lag1', 'DlyRet_lag1', 'DlyRet_roll_10', 'DlyRet_roll_20', 'DlyRet_roll_30']\n",
      "Starting training with 412 train batches, 35 test batches\n"
     ]
    },
    {
     "name": "stderr",
     "output_type": "stream",
     "text": [
      "Training:  25%|████████▊                          | 1/4 [00:13<00:40, 13.48s/it]"
     ]
    },
    {
     "name": "stdout",
     "output_type": "stream",
     "text": [
      "Epoch 1/4, Loss: -0.0812, Train fit: 0.0162, Test fit: 0.1036, Avg Weight: 0.0002, Max Weight: 0.0010\n"
     ]
    },
    {
     "name": "stderr",
     "output_type": "stream",
     "text": [
      "Training:  75%|██████████████████████████▎        | 3/4 [00:39<00:13, 13.23s/it]"
     ]
    },
    {
     "name": "stdout",
     "output_type": "stream",
     "text": [
      "Epoch 3/4, Loss: -0.0964, Train fit: 0.0247, Test fit: 0.1001, Avg Weight: 0.0002, Max Weight: 0.0010\n"
     ]
    },
    {
     "name": "stderr",
     "output_type": "stream",
     "text": [
      "Training: 100%|███████████████████████████████████| 4/4 [00:53<00:00, 13.32s/it]"
     ]
    },
    {
     "name": "stdout",
     "output_type": "stream",
     "text": [
      "Epoch 4/4, Loss: -0.1010, Train fit: 0.0314, Test fit: 0.1001, Avg Weight: 0.0002, Max Weight: 0.0010\n",
      "Training completed! Best test Sharpe ratio: 0.1036\n",
      "Training from 2004-06 to 2004-11. Testing on 2004-12.\n"
     ]
    },
    {
     "name": "stderr",
     "output_type": "stream",
     "text": [
      "\n"
     ]
    },
    {
     "name": "stdout",
     "output_type": "stream",
     "text": [
      "['sprtrn_lag1', 'DlyRet_lag1', 'DlyRet_roll_10', 'DlyRet_roll_20', 'DlyRet_roll_30']\n",
      "Starting training with 416 train batches, 37 test batches\n"
     ]
    },
    {
     "name": "stderr",
     "output_type": "stream",
     "text": [
      "Training:  25%|████████▊                          | 1/4 [00:13<00:40, 13.38s/it]"
     ]
    },
    {
     "name": "stdout",
     "output_type": "stream",
     "text": [
      "Epoch 1/4, Loss: -0.1002, Train fit: 0.0321, Test fit: 0.0714, Avg Weight: 0.0003, Max Weight: 0.0033\n"
     ]
    },
    {
     "name": "stderr",
     "output_type": "stream",
     "text": [
      "Training:  75%|██████████████████████████▎        | 3/4 [00:39<00:13, 13.28s/it]"
     ]
    },
    {
     "name": "stdout",
     "output_type": "stream",
     "text": [
      "Epoch 3/4, Loss: -0.1106, Train fit: 0.0351, Test fit: 0.0724, Avg Weight: 0.0003, Max Weight: 0.0032\n"
     ]
    },
    {
     "name": "stderr",
     "output_type": "stream",
     "text": [
      "Training: 100%|███████████████████████████████████| 4/4 [00:53<00:00, 13.39s/it]"
     ]
    },
    {
     "name": "stdout",
     "output_type": "stream",
     "text": [
      "Epoch 4/4, Loss: -0.1170, Train fit: 0.0398, Test fit: 0.0738, Avg Weight: 0.0003, Max Weight: 0.0035\n",
      "Training completed! Best test Sharpe ratio: 0.0738\n",
      "Training from 2004-07 to 2004-12. Testing on 2005-01.\n"
     ]
    },
    {
     "name": "stderr",
     "output_type": "stream",
     "text": [
      "\n"
     ]
    },
    {
     "name": "stdout",
     "output_type": "stream",
     "text": [
      "['sprtrn_lag1', 'DlyRet_lag1', 'DlyRet_roll_10', 'DlyRet_roll_20', 'DlyRet_roll_30']\n",
      "Starting training with 419 train batches, 33 test batches\n"
     ]
    },
    {
     "name": "stderr",
     "output_type": "stream",
     "text": [
      "Training:  25%|████████▊                          | 1/4 [00:13<00:39, 13.26s/it]"
     ]
    },
    {
     "name": "stdout",
     "output_type": "stream",
     "text": [
      "Epoch 1/4, Loss: -0.1079, Train fit: 0.0362, Test fit: -0.0467, Avg Weight: 0.0002, Max Weight: 0.0005\n"
     ]
    },
    {
     "name": "stderr",
     "output_type": "stream",
     "text": [
      "Training:  75%|██████████████████████████▎        | 3/4 [00:40<00:13, 13.41s/it]"
     ]
    },
    {
     "name": "stdout",
     "output_type": "stream",
     "text": [
      "Epoch 3/4, Loss: -0.1170, Train fit: 0.0393, Test fit: -0.0464, Avg Weight: 0.0002, Max Weight: 0.0005\n"
     ]
    },
    {
     "name": "stderr",
     "output_type": "stream",
     "text": [
      "Training: 100%|███████████████████████████████████| 4/4 [00:53<00:00, 13.39s/it]"
     ]
    },
    {
     "name": "stdout",
     "output_type": "stream",
     "text": [
      "Epoch 4/4, Loss: -0.1197, Train fit: 0.0409, Test fit: -0.0446, Avg Weight: 0.0002, Max Weight: 0.0004\n",
      "Training completed! Best test Sharpe ratio: -0.0446\n",
      "Training from 2004-08 to 2005-01. Testing on 2005-02.\n"
     ]
    },
    {
     "name": "stderr",
     "output_type": "stream",
     "text": [
      "\n"
     ]
    },
    {
     "name": "stdout",
     "output_type": "stream",
     "text": [
      "['sprtrn_lag1', 'DlyRet_lag1', 'DlyRet_roll_10', 'DlyRet_roll_20', 'DlyRet_roll_30']\n",
      "Starting training with 416 train batches, 32 test batches\n"
     ]
    },
    {
     "name": "stderr",
     "output_type": "stream",
     "text": [
      "Training:  25%|████████▊                          | 1/4 [00:13<00:39, 13.20s/it]"
     ]
    },
    {
     "name": "stdout",
     "output_type": "stream",
     "text": [
      "Epoch 1/4, Loss: -0.1138, Train fit: 0.0427, Test fit: 0.0359, Avg Weight: 0.0003, Max Weight: 0.0027\n"
     ]
    },
    {
     "name": "stderr",
     "output_type": "stream",
     "text": [
      "Training:  75%|██████████████████████████▎        | 3/4 [00:39<00:13, 13.25s/it]"
     ]
    },
    {
     "name": "stdout",
     "output_type": "stream",
     "text": [
      "Epoch 3/4, Loss: -0.1197, Train fit: 0.0470, Test fit: 0.0419, Avg Weight: 0.0003, Max Weight: 0.0026\n"
     ]
    },
    {
     "name": "stderr",
     "output_type": "stream",
     "text": [
      "Training: 100%|███████████████████████████████████| 4/4 [00:53<00:00, 13.26s/it]"
     ]
    },
    {
     "name": "stdout",
     "output_type": "stream",
     "text": [
      "Epoch 4/4, Loss: -0.1227, Train fit: 0.0526, Test fit: 0.0467, Avg Weight: 0.0003, Max Weight: 0.0027\n",
      "Training completed! Best test Sharpe ratio: 0.0467\n",
      "Training from 2004-09 to 2005-02. Testing on 2005-03.\n"
     ]
    },
    {
     "name": "stderr",
     "output_type": "stream",
     "text": [
      "\n"
     ]
    },
    {
     "name": "stdout",
     "output_type": "stream",
     "text": [
      "['sprtrn_lag1', 'DlyRet_lag1', 'DlyRet_roll_10', 'DlyRet_roll_20', 'DlyRet_roll_30']\n",
      "Starting training with 407 train batches, 37 test batches\n"
     ]
    },
    {
     "name": "stderr",
     "output_type": "stream",
     "text": [
      "Training:  25%|████████▊                          | 1/4 [00:13<00:39, 13.00s/it]"
     ]
    },
    {
     "name": "stdout",
     "output_type": "stream",
     "text": [
      "Epoch 1/4, Loss: -0.1143, Train fit: 0.0497, Test fit: -0.0450, Avg Weight: 0.0002, Max Weight: 0.0043\n"
     ]
    },
    {
     "name": "stderr",
     "output_type": "stream",
     "text": [
      "Training:  75%|██████████████████████████▎        | 3/4 [00:38<00:13, 13.02s/it]"
     ]
    },
    {
     "name": "stdout",
     "output_type": "stream",
     "text": [
      "Epoch 3/4, Loss: -0.1258, Train fit: 0.0519, Test fit: -0.0390, Avg Weight: 0.0002, Max Weight: 0.0044\n"
     ]
    },
    {
     "name": "stderr",
     "output_type": "stream",
     "text": [
      "Training: 100%|███████████████████████████████████| 4/4 [00:52<00:00, 13.04s/it]"
     ]
    },
    {
     "name": "stdout",
     "output_type": "stream",
     "text": [
      "Epoch 4/4, Loss: -0.1283, Train fit: 0.0537, Test fit: -0.0351, Avg Weight: 0.0002, Max Weight: 0.0051\n",
      "Training completed! Best test Sharpe ratio: -0.0351\n",
      "Training from 2004-10 to 2005-03. Testing on 2005-04.\n"
     ]
    },
    {
     "name": "stderr",
     "output_type": "stream",
     "text": [
      "\n"
     ]
    },
    {
     "name": "stdout",
     "output_type": "stream",
     "text": [
      "['sprtrn_lag1', 'DlyRet_lag1', 'DlyRet_roll_10', 'DlyRet_roll_20', 'DlyRet_roll_30']\n",
      "Starting training with 411 train batches, 35 test batches\n"
     ]
    },
    {
     "name": "stderr",
     "output_type": "stream",
     "text": [
      "Training:  25%|████████▊                          | 1/4 [00:13<00:40, 13.50s/it]"
     ]
    },
    {
     "name": "stdout",
     "output_type": "stream",
     "text": [
      "Epoch 1/4, Loss: -0.0923, Train fit: 0.0117, Test fit: -0.0253, Avg Weight: 0.0002, Max Weight: 0.0292\n"
     ]
    },
    {
     "name": "stderr",
     "output_type": "stream",
     "text": [
      "Training:  75%|██████████████████████████▎        | 3/4 [00:39<00:13, 13.13s/it]"
     ]
    },
    {
     "name": "stdout",
     "output_type": "stream",
     "text": [
      "Epoch 3/4, Loss: -0.1012, Train fit: 0.0265, Test fit: -0.0520, Avg Weight: 0.0002, Max Weight: 0.0292\n"
     ]
    },
    {
     "name": "stderr",
     "output_type": "stream",
     "text": [
      "Training: 100%|███████████████████████████████████| 4/4 [00:52<00:00, 13.13s/it]"
     ]
    },
    {
     "name": "stdout",
     "output_type": "stream",
     "text": [
      "Epoch 4/4, Loss: -0.1029, Train fit: 0.0289, Test fit: -0.0480, Avg Weight: 0.0002, Max Weight: 0.0292\n",
      "Training completed! Best test Sharpe ratio: -0.0253\n",
      "Training from 2004-11 to 2005-04. Testing on 2005-05.\n"
     ]
    },
    {
     "name": "stderr",
     "output_type": "stream",
     "text": [
      "\n"
     ]
    },
    {
     "name": "stdout",
     "output_type": "stream",
     "text": [
      "['sprtrn_lag1', 'DlyRet_lag1', 'DlyRet_roll_10', 'DlyRet_roll_20', 'DlyRet_roll_30']\n",
      "Starting training with 411 train batches, 35 test batches\n"
     ]
    },
    {
     "name": "stderr",
     "output_type": "stream",
     "text": [
      "Training:  25%|████████▊                          | 1/4 [00:12<00:38, 12.97s/it]"
     ]
    },
    {
     "name": "stdout",
     "output_type": "stream",
     "text": [
      "Epoch 1/4, Loss: -0.0795, Train fit: 0.0052, Test fit: 0.0338, Avg Weight: 0.0002, Max Weight: 0.0071\n"
     ]
    },
    {
     "name": "stderr",
     "output_type": "stream",
     "text": [
      "Training:  75%|██████████████████████████▎        | 3/4 [00:39<00:13, 13.02s/it]"
     ]
    },
    {
     "name": "stdout",
     "output_type": "stream",
     "text": [
      "Epoch 3/4, Loss: -0.0800, Train fit: 0.0107, Test fit: 0.0404, Avg Weight: 0.0002, Max Weight: 0.0046\n"
     ]
    },
    {
     "name": "stderr",
     "output_type": "stream",
     "text": [
      "Training: 100%|███████████████████████████████████| 4/4 [00:52<00:00, 13.06s/it]"
     ]
    },
    {
     "name": "stdout",
     "output_type": "stream",
     "text": [
      "Epoch 4/4, Loss: -0.0835, Train fit: 0.0124, Test fit: 0.0313, Avg Weight: 0.0002, Max Weight: 0.0046\n",
      "Training completed! Best test Sharpe ratio: 0.0404\n",
      "Training from 2004-12 to 2005-05. Testing on 2005-06.\n"
     ]
    },
    {
     "name": "stderr",
     "output_type": "stream",
     "text": [
      "\n"
     ]
    },
    {
     "name": "stdout",
     "output_type": "stream",
     "text": [
      "['sprtrn_lag1', 'DlyRet_lag1', 'DlyRet_roll_10', 'DlyRet_roll_20', 'DlyRet_roll_30']\n",
      "Starting training with 411 train batches, 37 test batches\n"
     ]
    },
    {
     "name": "stderr",
     "output_type": "stream",
     "text": [
      "Training:  25%|████████▊                          | 1/4 [00:13<00:39, 13.23s/it]"
     ]
    },
    {
     "name": "stdout",
     "output_type": "stream",
     "text": [
      "Epoch 1/4, Loss: -0.0709, Train fit: 0.0024, Test fit: 0.0447, Avg Weight: 0.0002, Max Weight: 0.0045\n"
     ]
    },
    {
     "name": "stderr",
     "output_type": "stream",
     "text": [
      "Training:  75%|██████████████████████████▎        | 3/4 [00:39<00:13, 13.24s/it]"
     ]
    },
    {
     "name": "stdout",
     "output_type": "stream",
     "text": [
      "Epoch 3/4, Loss: -0.0779, Train fit: 0.0062, Test fit: 0.0495, Avg Weight: 0.0002, Max Weight: 0.0043\n"
     ]
    },
    {
     "name": "stderr",
     "output_type": "stream",
     "text": [
      "Training: 100%|███████████████████████████████████| 4/4 [00:53<00:00, 13.25s/it]"
     ]
    },
    {
     "name": "stdout",
     "output_type": "stream",
     "text": [
      "Epoch 4/4, Loss: -0.0811, Train fit: 0.0085, Test fit: 0.0525, Avg Weight: 0.0002, Max Weight: 0.0042\n",
      "Training completed! Best test Sharpe ratio: 0.0525\n",
      "Training from 2005-01 to 2005-06. Testing on 2005-07.\n"
     ]
    },
    {
     "name": "stderr",
     "output_type": "stream",
     "text": [
      "\n"
     ]
    },
    {
     "name": "stdout",
     "output_type": "stream",
     "text": [
      "['sprtrn_lag1', 'DlyRet_lag1', 'DlyRet_roll_10', 'DlyRet_roll_20', 'DlyRet_roll_30']\n",
      "Starting training with 411 train batches, 33 test batches\n"
     ]
    },
    {
     "name": "stderr",
     "output_type": "stream",
     "text": [
      "Training:  25%|████████▊                          | 1/4 [00:13<00:40, 13.35s/it]"
     ]
    },
    {
     "name": "stdout",
     "output_type": "stream",
     "text": [
      "Epoch 1/4, Loss: -0.0651, Train fit: -0.0043, Test fit: 0.0932, Avg Weight: 0.0002, Max Weight: 0.0005\n"
     ]
    },
    {
     "name": "stderr",
     "output_type": "stream",
     "text": [
      "Training:  75%|██████████████████████████▎        | 3/4 [00:39<00:13, 13.12s/it]"
     ]
    },
    {
     "name": "stdout",
     "output_type": "stream",
     "text": [
      "Epoch 3/4, Loss: -0.0699, Train fit: -0.0007, Test fit: 0.0924, Avg Weight: 0.0002, Max Weight: 0.0004\n"
     ]
    },
    {
     "name": "stderr",
     "output_type": "stream",
     "text": [
      "Training: 100%|███████████████████████████████████| 4/4 [00:52<00:00, 13.10s/it]"
     ]
    },
    {
     "name": "stdout",
     "output_type": "stream",
     "text": [
      "Epoch 4/4, Loss: -0.0735, Train fit: 0.0033, Test fit: 0.0898, Avg Weight: 0.0002, Max Weight: 0.0004\n",
      "Training completed! Best test Sharpe ratio: 0.0933\n",
      "Training from 2005-02 to 2005-07. Testing on 2005-08.\n"
     ]
    },
    {
     "name": "stderr",
     "output_type": "stream",
     "text": [
      "\n"
     ]
    },
    {
     "name": "stdout",
     "output_type": "stream",
     "text": [
      "['sprtrn_lag1', 'DlyRet_lag1', 'DlyRet_roll_10', 'DlyRet_roll_20', 'DlyRet_roll_30']\n",
      "Starting training with 411 train batches, 38 test batches\n"
     ]
    },
    {
     "name": "stderr",
     "output_type": "stream",
     "text": [
      "Training:  25%|████████▊                          | 1/4 [00:13<00:40, 13.58s/it]"
     ]
    },
    {
     "name": "stdout",
     "output_type": "stream",
     "text": [
      "Epoch 1/4, Loss: -0.0858, Train fit: 0.0198, Test fit: -0.0109, Avg Weight: 0.0002, Max Weight: 0.0005\n"
     ]
    },
    {
     "name": "stderr",
     "output_type": "stream",
     "text": [
      "Training:  75%|██████████████████████████▎        | 3/4 [00:40<00:13, 13.30s/it]"
     ]
    },
    {
     "name": "stdout",
     "output_type": "stream",
     "text": [
      "Epoch 3/4, Loss: -0.0917, Train fit: 0.0208, Test fit: -0.0099, Avg Weight: 0.0002, Max Weight: 0.0006\n"
     ]
    },
    {
     "name": "stderr",
     "output_type": "stream",
     "text": [
      "Training: 100%|███████████████████████████████████| 4/4 [00:53<00:00, 13.35s/it]"
     ]
    },
    {
     "name": "stdout",
     "output_type": "stream",
     "text": [
      "Epoch 4/4, Loss: -0.0939, Train fit: 0.0215, Test fit: -0.0111, Avg Weight: 0.0002, Max Weight: 0.0006\n",
      "Training completed! Best test Sharpe ratio: -0.0099\n",
      "Training from 2005-03 to 2005-08. Testing on 2005-09.\n"
     ]
    },
    {
     "name": "stderr",
     "output_type": "stream",
     "text": [
      "\n"
     ]
    },
    {
     "name": "stdout",
     "output_type": "stream",
     "text": [
      "['sprtrn_lag1', 'DlyRet_lag1', 'DlyRet_roll_10', 'DlyRet_roll_20', 'DlyRet_roll_30']\n",
      "Starting training with 425 train batches, 35 test batches\n"
     ]
    },
    {
     "name": "stderr",
     "output_type": "stream",
     "text": [
      "Training:  25%|████████▊                          | 1/4 [00:13<00:41, 13.95s/it]"
     ]
    },
    {
     "name": "stdout",
     "output_type": "stream",
     "text": [
      "Epoch 1/4, Loss: -0.0826, Train fit: 0.0128, Test fit: 0.0209, Avg Weight: 0.0002, Max Weight: 0.0009\n"
     ]
    },
    {
     "name": "stderr",
     "output_type": "stream",
     "text": [
      "Training:  75%|██████████████████████████▎        | 3/4 [00:41<00:13, 13.64s/it]"
     ]
    },
    {
     "name": "stdout",
     "output_type": "stream",
     "text": [
      "Epoch 3/4, Loss: -0.0856, Train fit: 0.0155, Test fit: 0.0228, Avg Weight: 0.0002, Max Weight: 0.0009\n"
     ]
    },
    {
     "name": "stderr",
     "output_type": "stream",
     "text": [
      "Training: 100%|███████████████████████████████████| 4/4 [00:54<00:00, 13.60s/it]"
     ]
    },
    {
     "name": "stdout",
     "output_type": "stream",
     "text": [
      "Epoch 4/4, Loss: -0.0896, Train fit: 0.0186, Test fit: 0.0247, Avg Weight: 0.0002, Max Weight: 0.0011\n",
      "Training completed! Best test Sharpe ratio: 0.0247\n",
      "Training from 2005-04 to 2005-09. Testing on 2005-10.\n"
     ]
    },
    {
     "name": "stderr",
     "output_type": "stream",
     "text": [
      "\n"
     ]
    },
    {
     "name": "stdout",
     "output_type": "stream",
     "text": [
      "['sprtrn_lag1', 'DlyRet_lag1', 'DlyRet_roll_10', 'DlyRet_roll_20', 'DlyRet_roll_30']\n",
      "Starting training with 421 train batches, 35 test batches\n"
     ]
    },
    {
     "name": "stderr",
     "output_type": "stream",
     "text": [
      "Training:  25%|████████▊                          | 1/4 [00:13<00:41, 13.74s/it]"
     ]
    },
    {
     "name": "stdout",
     "output_type": "stream",
     "text": [
      "Epoch 1/4, Loss: -0.0889, Train fit: 0.0247, Test fit: -0.0423, Avg Weight: 0.0002, Max Weight: 0.0009\n"
     ]
    },
    {
     "name": "stderr",
     "output_type": "stream",
     "text": [
      "Training:  75%|██████████████████████████▎        | 3/4 [00:40<00:13, 13.46s/it]"
     ]
    },
    {
     "name": "stdout",
     "output_type": "stream",
     "text": [
      "Epoch 3/4, Loss: -0.1011, Train fit: 0.0283, Test fit: -0.0412, Avg Weight: 0.0002, Max Weight: 0.0007\n"
     ]
    },
    {
     "name": "stderr",
     "output_type": "stream",
     "text": [
      "Training: 100%|███████████████████████████████████| 4/4 [00:53<00:00, 13.45s/it]"
     ]
    },
    {
     "name": "stdout",
     "output_type": "stream",
     "text": [
      "Epoch 4/4, Loss: -0.1048, Train fit: 0.0306, Test fit: -0.0373, Avg Weight: 0.0002, Max Weight: 0.0010\n",
      "Training completed! Best test Sharpe ratio: -0.0373\n",
      "Training from 2005-05 to 2005-10. Testing on 2005-11.\n"
     ]
    },
    {
     "name": "stderr",
     "output_type": "stream",
     "text": [
      "\n"
     ]
    },
    {
     "name": "stdout",
     "output_type": "stream",
     "text": [
      "['sprtrn_lag1', 'DlyRet_lag1', 'DlyRet_roll_10', 'DlyRet_roll_20', 'DlyRet_roll_30']\n",
      "Starting training with 422 train batches, 35 test batches\n"
     ]
    },
    {
     "name": "stderr",
     "output_type": "stream",
     "text": [
      "Training:  25%|████████▊                          | 1/4 [00:13<00:40, 13.56s/it]"
     ]
    },
    {
     "name": "stdout",
     "output_type": "stream",
     "text": [
      "Epoch 1/4, Loss: -0.0914, Train fit: 0.0245, Test fit: 0.0415, Avg Weight: 0.0002, Max Weight: 0.0026\n"
     ]
    },
    {
     "name": "stderr",
     "output_type": "stream",
     "text": [
      "Training:  75%|██████████████████████████▎        | 3/4 [00:40<00:13, 13.44s/it]"
     ]
    },
    {
     "name": "stdout",
     "output_type": "stream",
     "text": [
      "Epoch 3/4, Loss: -0.1044, Train fit: 0.0296, Test fit: 0.0435, Avg Weight: 0.0002, Max Weight: 0.0016\n"
     ]
    },
    {
     "name": "stderr",
     "output_type": "stream",
     "text": [
      "Training: 100%|███████████████████████████████████| 4/4 [00:54<00:00, 13.51s/it]"
     ]
    },
    {
     "name": "stdout",
     "output_type": "stream",
     "text": [
      "Epoch 4/4, Loss: -0.1049, Train fit: 0.0340, Test fit: 0.0485, Avg Weight: 0.0002, Max Weight: 0.0014\n",
      "Training completed! Best test Sharpe ratio: 0.0485\n",
      "Training from 2005-06 to 2005-11. Testing on 2005-12.\n"
     ]
    },
    {
     "name": "stderr",
     "output_type": "stream",
     "text": [
      "\n"
     ]
    },
    {
     "name": "stdout",
     "output_type": "stream",
     "text": [
      "['sprtrn_lag1', 'DlyRet_lag1', 'DlyRet_roll_10', 'DlyRet_roll_20', 'DlyRet_roll_30']\n",
      "Starting training with 422 train batches, 35 test batches\n"
     ]
    },
    {
     "name": "stderr",
     "output_type": "stream",
     "text": [
      "Training:  25%|████████▊                          | 1/4 [00:13<00:40, 13.65s/it]"
     ]
    },
    {
     "name": "stdout",
     "output_type": "stream",
     "text": [
      "Epoch 1/4, Loss: -0.0912, Train fit: 0.0237, Test fit: 0.0208, Avg Weight: 0.0002, Max Weight: 0.0007\n"
     ]
    },
    {
     "name": "stderr",
     "output_type": "stream",
     "text": [
      "Training:  75%|██████████████████████████▎        | 3/4 [00:40<00:13, 13.51s/it]"
     ]
    },
    {
     "name": "stdout",
     "output_type": "stream",
     "text": [
      "Epoch 3/4, Loss: -0.0997, Train fit: 0.0269, Test fit: 0.0223, Avg Weight: 0.0002, Max Weight: 0.0006\n"
     ]
    },
    {
     "name": "stderr",
     "output_type": "stream",
     "text": [
      "Training: 100%|███████████████████████████████████| 4/4 [00:54<00:00, 13.54s/it]"
     ]
    },
    {
     "name": "stdout",
     "output_type": "stream",
     "text": [
      "Epoch 4/4, Loss: -0.1001, Train fit: 0.0272, Test fit: 0.0235, Avg Weight: 0.0002, Max Weight: 0.0006\n",
      "Training completed! Best test Sharpe ratio: 0.0235\n",
      "Training from 2005-07 to 2005-12. Testing on 2006-01.\n"
     ]
    },
    {
     "name": "stderr",
     "output_type": "stream",
     "text": [
      "\n"
     ]
    },
    {
     "name": "stdout",
     "output_type": "stream",
     "text": [
      "['sprtrn_lag1', 'DlyRet_lag1', 'DlyRet_roll_10', 'DlyRet_roll_20', 'DlyRet_roll_30']\n",
      "Starting training with 419 train batches, 33 test batches\n"
     ]
    },
    {
     "name": "stderr",
     "output_type": "stream",
     "text": [
      "Training:  25%|████████▊                          | 1/4 [00:13<00:40, 13.66s/it]"
     ]
    },
    {
     "name": "stdout",
     "output_type": "stream",
     "text": [
      "Epoch 1/4, Loss: -0.0878, Train fit: 0.0206, Test fit: 0.1200, Avg Weight: 0.0002, Max Weight: 0.0007\n"
     ]
    },
    {
     "name": "stderr",
     "output_type": "stream",
     "text": [
      "Training:  75%|██████████████████████████▎        | 3/4 [00:40<00:13, 13.32s/it]"
     ]
    },
    {
     "name": "stdout",
     "output_type": "stream",
     "text": [
      "Epoch 3/4, Loss: -0.0942, Train fit: 0.0229, Test fit: 0.1211, Avg Weight: 0.0002, Max Weight: 0.0006\n"
     ]
    },
    {
     "name": "stderr",
     "output_type": "stream",
     "text": [
      "Training: 100%|███████████████████████████████████| 4/4 [00:53<00:00, 13.38s/it]"
     ]
    },
    {
     "name": "stdout",
     "output_type": "stream",
     "text": [
      "Epoch 4/4, Loss: -0.0970, Train fit: 0.0246, Test fit: 0.1191, Avg Weight: 0.0002, Max Weight: 0.0006\n",
      "Training completed! Best test Sharpe ratio: 0.1218\n",
      "Training from 2005-08 to 2006-01. Testing on 2006-02.\n"
     ]
    },
    {
     "name": "stderr",
     "output_type": "stream",
     "text": [
      "\n"
     ]
    },
    {
     "name": "stdout",
     "output_type": "stream",
     "text": [
      "['sprtrn_lag1', 'DlyRet_lag1', 'DlyRet_roll_10', 'DlyRet_roll_20', 'DlyRet_roll_30']\n",
      "Starting training with 419 train batches, 32 test batches\n"
     ]
    },
    {
     "name": "stderr",
     "output_type": "stream",
     "text": [
      "Training:  25%|████████▊                          | 1/4 [00:13<00:40, 13.43s/it]"
     ]
    },
    {
     "name": "stdout",
     "output_type": "stream",
     "text": [
      "Epoch 1/4, Loss: -0.0891, Train fit: 0.0237, Test fit: 0.0062, Avg Weight: 0.0003, Max Weight: 0.0023\n"
     ]
    },
    {
     "name": "stderr",
     "output_type": "stream",
     "text": [
      "Training:  75%|██████████████████████████▎        | 3/4 [00:40<00:13, 13.44s/it]"
     ]
    },
    {
     "name": "stdout",
     "output_type": "stream",
     "text": [
      "Epoch 3/4, Loss: -0.0980, Train fit: 0.0246, Test fit: 0.0043, Avg Weight: 0.0003, Max Weight: 0.0025\n"
     ]
    },
    {
     "name": "stderr",
     "output_type": "stream",
     "text": [
      "Training: 100%|███████████████████████████████████| 4/4 [00:53<00:00, 13.40s/it]"
     ]
    },
    {
     "name": "stdout",
     "output_type": "stream",
     "text": [
      "Epoch 4/4, Loss: -0.0982, Train fit: 0.0252, Test fit: 0.0046, Avg Weight: 0.0003, Max Weight: 0.0025\n",
      "Training completed! Best test Sharpe ratio: 0.0067\n",
      "Training from 2005-09 to 2006-02. Testing on 2006-03.\n"
     ]
    },
    {
     "name": "stderr",
     "output_type": "stream",
     "text": [
      "\n"
     ]
    },
    {
     "name": "stdout",
     "output_type": "stream",
     "text": [
      "['sprtrn_lag1', 'DlyRet_lag1', 'DlyRet_roll_10', 'DlyRet_roll_20', 'DlyRet_roll_30']\n",
      "Starting training with 405 train batches, 38 test batches\n"
     ]
    },
    {
     "name": "stderr",
     "output_type": "stream",
     "text": [
      "Training:  25%|████████▊                          | 1/4 [00:13<00:40, 13.54s/it]"
     ]
    },
    {
     "name": "stdout",
     "output_type": "stream",
     "text": [
      "Epoch 1/4, Loss: -0.0941, Train fit: 0.0283, Test fit: 0.0515, Avg Weight: 0.0002, Max Weight: 0.0007\n"
     ]
    },
    {
     "name": "stderr",
     "output_type": "stream",
     "text": [
      "Training:  75%|██████████████████████████▎        | 3/4 [00:39<00:13, 13.17s/it]"
     ]
    },
    {
     "name": "stdout",
     "output_type": "stream",
     "text": [
      "Epoch 3/4, Loss: -0.1040, Train fit: 0.0299, Test fit: 0.0544, Avg Weight: 0.0002, Max Weight: 0.0005\n"
     ]
    },
    {
     "name": "stderr",
     "output_type": "stream",
     "text": [
      "Training: 100%|███████████████████████████████████| 4/4 [00:52<00:00, 13.19s/it]"
     ]
    },
    {
     "name": "stdout",
     "output_type": "stream",
     "text": [
      "Epoch 4/4, Loss: -0.1058, Train fit: 0.0312, Test fit: 0.0552, Avg Weight: 0.0002, Max Weight: 0.0005\n",
      "Training completed! Best test Sharpe ratio: 0.0552\n",
      "Training from 2005-10 to 2006-03. Testing on 2006-04.\n"
     ]
    },
    {
     "name": "stderr",
     "output_type": "stream",
     "text": [
      "\n"
     ]
    },
    {
     "name": "stdout",
     "output_type": "stream",
     "text": [
      "['sprtrn_lag1', 'DlyRet_lag1', 'DlyRet_roll_10', 'DlyRet_roll_20', 'DlyRet_roll_30']\n",
      "Starting training with 411 train batches, 32 test batches\n"
     ]
    },
    {
     "name": "stderr",
     "output_type": "stream",
     "text": [
      "Training:  25%|████████▊                          | 1/4 [00:13<00:39, 13.31s/it]"
     ]
    },
    {
     "name": "stdout",
     "output_type": "stream",
     "text": [
      "Epoch 1/4, Loss: -0.1029, Train fit: 0.0367, Test fit: 0.0215, Avg Weight: 0.0003, Max Weight: 0.0018\n"
     ]
    },
    {
     "name": "stderr",
     "output_type": "stream",
     "text": [
      "Training:  75%|██████████████████████████▎        | 3/4 [00:39<00:13, 13.10s/it]"
     ]
    },
    {
     "name": "stdout",
     "output_type": "stream",
     "text": [
      "Epoch 3/4, Loss: -0.1119, Train fit: 0.0374, Test fit: 0.0219, Avg Weight: 0.0003, Max Weight: 0.0019\n"
     ]
    },
    {
     "name": "stderr",
     "output_type": "stream",
     "text": [
      "Training: 100%|███████████████████████████████████| 4/4 [00:52<00:00, 13.08s/it]"
     ]
    },
    {
     "name": "stdout",
     "output_type": "stream",
     "text": [
      "Epoch 4/4, Loss: -0.1130, Train fit: 0.0378, Test fit: 0.0220, Avg Weight: 0.0003, Max Weight: 0.0019\n",
      "Training completed! Best test Sharpe ratio: 0.0220\n",
      "Training from 2005-11 to 2006-04. Testing on 2006-05.\n"
     ]
    },
    {
     "name": "stderr",
     "output_type": "stream",
     "text": [
      "\n"
     ]
    },
    {
     "name": "stdout",
     "output_type": "stream",
     "text": [
      "['sprtrn_lag1', 'DlyRet_lag1', 'DlyRet_roll_10', 'DlyRet_roll_20', 'DlyRet_roll_30']\n",
      "Starting training with 405 train batches, 37 test batches\n"
     ]
    },
    {
     "name": "stderr",
     "output_type": "stream",
     "text": [
      "Training:  25%|████████▊                          | 1/4 [00:13<00:40, 13.42s/it]"
     ]
    },
    {
     "name": "stdout",
     "output_type": "stream",
     "text": [
      "Epoch 1/4, Loss: -0.1155, Train fit: 0.0485, Test fit: -0.0558, Avg Weight: 0.0002, Max Weight: 0.0023\n"
     ]
    },
    {
     "name": "stderr",
     "output_type": "stream",
     "text": [
      "Training:  75%|██████████████████████████▎        | 3/4 [00:39<00:13, 13.07s/it]"
     ]
    },
    {
     "name": "stdout",
     "output_type": "stream",
     "text": [
      "Epoch 3/4, Loss: -0.1262, Train fit: 0.0512, Test fit: -0.0583, Avg Weight: 0.0002, Max Weight: 0.0023\n"
     ]
    },
    {
     "name": "stderr",
     "output_type": "stream",
     "text": [
      "Training: 100%|███████████████████████████████████| 4/4 [00:52<00:00, 13.10s/it]"
     ]
    },
    {
     "name": "stdout",
     "output_type": "stream",
     "text": [
      "Epoch 4/4, Loss: -0.1269, Train fit: 0.0515, Test fit: -0.0581, Avg Weight: 0.0002, Max Weight: 0.0023\n",
      "Training completed! Best test Sharpe ratio: -0.0558\n",
      "Training from 2005-12 to 2006-05. Testing on 2006-06.\n"
     ]
    },
    {
     "name": "stderr",
     "output_type": "stream",
     "text": [
      "\n"
     ]
    },
    {
     "name": "stdout",
     "output_type": "stream",
     "text": [
      "['sprtrn_lag1', 'DlyRet_lag1', 'DlyRet_roll_10', 'DlyRet_roll_20', 'DlyRet_roll_30']\n",
      "Starting training with 408 train batches, 37 test batches\n"
     ]
    },
    {
     "name": "stderr",
     "output_type": "stream",
     "text": [
      "Training:  25%|████████▊                          | 1/4 [00:12<00:38, 12.89s/it]"
     ]
    },
    {
     "name": "stdout",
     "output_type": "stream",
     "text": [
      "Epoch 1/4, Loss: -0.0958, Train fit: 0.0256, Test fit: 0.0075, Avg Weight: 0.0002, Max Weight: 0.0020\n"
     ]
    },
    {
     "name": "stderr",
     "output_type": "stream",
     "text": [
      "Training:  75%|██████████████████████████▎        | 3/4 [00:39<00:13, 13.13s/it]"
     ]
    },
    {
     "name": "stdout",
     "output_type": "stream",
     "text": [
      "Epoch 3/4, Loss: -0.1020, Train fit: 0.0280, Test fit: 0.0068, Avg Weight: 0.0002, Max Weight: 0.0019\n"
     ]
    },
    {
     "name": "stderr",
     "output_type": "stream",
     "text": [
      "Training: 100%|███████████████████████████████████| 4/4 [00:52<00:00, 13.11s/it]"
     ]
    },
    {
     "name": "stdout",
     "output_type": "stream",
     "text": [
      "Epoch 4/4, Loss: -0.1044, Train fit: 0.0280, Test fit: 0.0092, Avg Weight: 0.0002, Max Weight: 0.0023\n",
      "Training completed! Best test Sharpe ratio: 0.0092\n",
      "Training from 2006-01 to 2006-06. Testing on 2006-07.\n"
     ]
    },
    {
     "name": "stderr",
     "output_type": "stream",
     "text": [
      "\n"
     ]
    },
    {
     "name": "stdout",
     "output_type": "stream",
     "text": [
      "['sprtrn_lag1', 'DlyRet_lag1', 'DlyRet_roll_10', 'DlyRet_roll_20', 'DlyRet_roll_30']\n",
      "Starting training with 411 train batches, 34 test batches\n"
     ]
    },
    {
     "name": "stderr",
     "output_type": "stream",
     "text": [
      "Training:  25%|████████▊                          | 1/4 [00:13<00:39, 13.27s/it]"
     ]
    },
    {
     "name": "stdout",
     "output_type": "stream",
     "text": [
      "Epoch 1/4, Loss: -0.0751, Train fit: 0.0072, Test fit: 0.0110, Avg Weight: 0.0003, Max Weight: 0.0312\n"
     ]
    },
    {
     "name": "stderr",
     "output_type": "stream",
     "text": [
      "Training:  75%|██████████████████████████▎        | 3/4 [00:39<00:13, 13.22s/it]"
     ]
    },
    {
     "name": "stdout",
     "output_type": "stream",
     "text": [
      "Epoch 3/4, Loss: -0.0880, Train fit: 0.0181, Test fit: 0.0012, Avg Weight: 0.0003, Max Weight: 0.0312\n"
     ]
    },
    {
     "name": "stderr",
     "output_type": "stream",
     "text": [
      "Training: 100%|███████████████████████████████████| 4/4 [00:52<00:00, 13.20s/it]"
     ]
    },
    {
     "name": "stdout",
     "output_type": "stream",
     "text": [
      "Epoch 4/4, Loss: -0.0909, Train fit: 0.0200, Test fit: 0.0032, Avg Weight: 0.0003, Max Weight: 0.0312\n",
      "Training completed! Best test Sharpe ratio: 0.0110\n",
      "Training from 2006-02 to 2006-07. Testing on 2006-08.\n"
     ]
    },
    {
     "name": "stderr",
     "output_type": "stream",
     "text": [
      "\n"
     ]
    },
    {
     "name": "stdout",
     "output_type": "stream",
     "text": [
      "['sprtrn_lag1', 'DlyRet_lag1', 'DlyRet_roll_10', 'DlyRet_roll_20', 'DlyRet_roll_30']\n",
      "Starting training with 412 train batches, 39 test batches\n"
     ]
    },
    {
     "name": "stderr",
     "output_type": "stream",
     "text": [
      "Training:  25%|████████▊                          | 1/4 [00:13<00:41, 13.74s/it]"
     ]
    },
    {
     "name": "stdout",
     "output_type": "stream",
     "text": [
      "Epoch 1/4, Loss: -0.0613, Train fit: 0.0006, Test fit: 0.0332, Avg Weight: 0.0002, Max Weight: 0.0078\n"
     ]
    },
    {
     "name": "stderr",
     "output_type": "stream",
     "text": [
      "Training:  75%|██████████████████████████▎        | 3/4 [00:40<00:13, 13.37s/it]"
     ]
    },
    {
     "name": "stdout",
     "output_type": "stream",
     "text": [
      "Epoch 3/4, Loss: -0.0670, Train fit: 0.0035, Test fit: 0.0336, Avg Weight: 0.0002, Max Weight: 0.0061\n"
     ]
    },
    {
     "name": "stderr",
     "output_type": "stream",
     "text": [
      "Training: 100%|███████████████████████████████████| 4/4 [00:53<00:00, 13.43s/it]"
     ]
    },
    {
     "name": "stdout",
     "output_type": "stream",
     "text": [
      "Epoch 4/4, Loss: -0.0715, Train fit: 0.0057, Test fit: 0.0339, Avg Weight: 0.0002, Max Weight: 0.0055\n",
      "Training completed! Best test Sharpe ratio: 0.0339\n",
      "Training from 2006-03 to 2006-08. Testing on 2006-09.\n"
     ]
    },
    {
     "name": "stderr",
     "output_type": "stream",
     "text": [
      "\n"
     ]
    },
    {
     "name": "stdout",
     "output_type": "stream",
     "text": [
      "['sprtrn_lag1', 'DlyRet_lag1', 'DlyRet_roll_10', 'DlyRet_roll_20', 'DlyRet_roll_30']\n",
      "Starting training with 426 train batches, 34 test batches\n"
     ]
    },
    {
     "name": "stderr",
     "output_type": "stream",
     "text": [
      "Training:  25%|████████▊                          | 1/4 [00:13<00:40, 13.36s/it]"
     ]
    },
    {
     "name": "stdout",
     "output_type": "stream",
     "text": [
      "Epoch 1/4, Loss: -0.0647, Train fit: 0.0029, Test fit: 0.0200, Avg Weight: 0.0003, Max Weight: 0.0046\n"
     ]
    },
    {
     "name": "stderr",
     "output_type": "stream",
     "text": [
      "Training:  75%|██████████████████████████▎        | 3/4 [00:40<00:13, 13.58s/it]"
     ]
    },
    {
     "name": "stdout",
     "output_type": "stream",
     "text": [
      "Epoch 3/4, Loss: -0.0737, Train fit: 0.0070, Test fit: 0.0204, Avg Weight: 0.0003, Max Weight: 0.0039\n"
     ]
    },
    {
     "name": "stderr",
     "output_type": "stream",
     "text": [
      "Training: 100%|███████████████████████████████████| 4/4 [00:54<00:00, 13.55s/it]"
     ]
    },
    {
     "name": "stdout",
     "output_type": "stream",
     "text": [
      "Epoch 4/4, Loss: -0.0750, Train fit: 0.0099, Test fit: 0.0226, Avg Weight: 0.0003, Max Weight: 0.0039\n",
      "Training completed! Best test Sharpe ratio: 0.0226\n",
      "Training from 2006-04 to 2006-09. Testing on 2006-10.\n"
     ]
    },
    {
     "name": "stderr",
     "output_type": "stream",
     "text": [
      "\n"
     ]
    },
    {
     "name": "stdout",
     "output_type": "stream",
     "text": [
      "['sprtrn_lag1', 'DlyRet_lag1', 'DlyRet_roll_10', 'DlyRet_roll_20', 'DlyRet_roll_30']\n",
      "Starting training with 417 train batches, 37 test batches\n"
     ]
    },
    {
     "name": "stderr",
     "output_type": "stream",
     "text": [
      "Training:  25%|████████▊                          | 1/4 [00:13<00:39, 13.26s/it]"
     ]
    },
    {
     "name": "stdout",
     "output_type": "stream",
     "text": [
      "Epoch 1/4, Loss: -0.0590, Train fit: -0.0026, Test fit: 0.0653, Avg Weight: 0.0002, Max Weight: 0.0009\n"
     ]
    },
    {
     "name": "stderr",
     "output_type": "stream",
     "text": [
      "Training:  75%|██████████████████████████▎        | 3/4 [00:40<00:13, 13.43s/it]"
     ]
    },
    {
     "name": "stdout",
     "output_type": "stream",
     "text": [
      "Epoch 3/4, Loss: -0.0658, Train fit: 0.0023, Test fit: 0.0662, Avg Weight: 0.0002, Max Weight: 0.0012\n"
     ]
    },
    {
     "name": "stderr",
     "output_type": "stream",
     "text": [
      "Training: 100%|███████████████████████████████████| 4/4 [00:53<00:00, 13.41s/it]"
     ]
    },
    {
     "name": "stdout",
     "output_type": "stream",
     "text": [
      "Epoch 4/4, Loss: -0.0692, Train fit: 0.0043, Test fit: 0.0652, Avg Weight: 0.0002, Max Weight: 0.0012\n",
      "Training completed! Best test Sharpe ratio: 0.0664\n",
      "Training from 2006-05 to 2006-10. Testing on 2006-11.\n"
     ]
    },
    {
     "name": "stderr",
     "output_type": "stream",
     "text": [
      "\n"
     ]
    },
    {
     "name": "stdout",
     "output_type": "stream",
     "text": [
      "['sprtrn_lag1', 'DlyRet_lag1', 'DlyRet_roll_10', 'DlyRet_roll_20', 'DlyRet_roll_30']\n",
      "Starting training with 427 train batches, 36 test batches\n"
     ]
    },
    {
     "name": "stderr",
     "output_type": "stream",
     "text": [
      "Training:  25%|████████▊                          | 1/4 [00:13<00:41, 13.82s/it]"
     ]
    },
    {
     "name": "stdout",
     "output_type": "stream",
     "text": [
      "Epoch 1/4, Loss: -0.0659, Train fit: 0.0063, Test fit: 0.0490, Avg Weight: 0.0003, Max Weight: 0.0066\n"
     ]
    },
    {
     "name": "stderr",
     "output_type": "stream",
     "text": [
      "Training:  75%|██████████████████████████▎        | 3/4 [00:41<00:13, 13.70s/it]"
     ]
    },
    {
     "name": "stdout",
     "output_type": "stream",
     "text": [
      "Epoch 3/4, Loss: -0.0796, Train fit: 0.0097, Test fit: 0.0499, Avg Weight: 0.0003, Max Weight: 0.0067\n"
     ]
    },
    {
     "name": "stderr",
     "output_type": "stream",
     "text": [
      "Training: 100%|███████████████████████████████████| 4/4 [00:54<00:00, 13.74s/it]"
     ]
    },
    {
     "name": "stdout",
     "output_type": "stream",
     "text": [
      "Epoch 4/4, Loss: -0.0805, Train fit: 0.0128, Test fit: 0.0508, Avg Weight: 0.0003, Max Weight: 0.0074\n",
      "Training completed! Best test Sharpe ratio: 0.0508\n",
      "Training from 2006-06 to 2006-11. Testing on 2006-12.\n"
     ]
    },
    {
     "name": "stderr",
     "output_type": "stream",
     "text": [
      "\n"
     ]
    },
    {
     "name": "stdout",
     "output_type": "stream",
     "text": [
      "['sprtrn_lag1', 'DlyRet_lag1', 'DlyRet_roll_10', 'DlyRet_roll_20', 'DlyRet_roll_30']\n",
      "Starting training with 425 train batches, 34 test batches\n"
     ]
    },
    {
     "name": "stderr",
     "output_type": "stream",
     "text": [
      "Training:  25%|████████▊                          | 1/4 [00:13<00:40, 13.38s/it]"
     ]
    },
    {
     "name": "stdout",
     "output_type": "stream",
     "text": [
      "Epoch 1/4, Loss: -0.0894, Train fit: 0.0281, Test fit: 0.0291, Avg Weight: 0.0002, Max Weight: 0.0011\n"
     ]
    },
    {
     "name": "stderr",
     "output_type": "stream",
     "text": [
      "Training:  75%|██████████████████████████▎        | 3/4 [00:40<00:13, 13.54s/it]"
     ]
    },
    {
     "name": "stdout",
     "output_type": "stream",
     "text": [
      "Epoch 3/4, Loss: -0.0991, Train fit: 0.0302, Test fit: 0.0299, Avg Weight: 0.0002, Max Weight: 0.0011\n"
     ]
    },
    {
     "name": "stderr",
     "output_type": "stream",
     "text": [
      "Training: 100%|███████████████████████████████████| 4/4 [00:54<00:00, 13.53s/it]"
     ]
    },
    {
     "name": "stdout",
     "output_type": "stream",
     "text": [
      "Epoch 4/4, Loss: -0.1004, Train fit: 0.0319, Test fit: 0.0315, Avg Weight: 0.0002, Max Weight: 0.0011\n",
      "Training completed! Best test Sharpe ratio: 0.0315\n",
      "Training from 2006-07 to 2006-12. Testing on 2007-01.\n"
     ]
    },
    {
     "name": "stderr",
     "output_type": "stream",
     "text": [
      "\n"
     ]
    },
    {
     "name": "stdout",
     "output_type": "stream",
     "text": [
      "['sprtrn_lag1', 'DlyRet_lag1', 'DlyRet_roll_10', 'DlyRet_roll_20', 'DlyRet_roll_30']\n",
      "Starting training with 420 train batches, 34 test batches\n"
     ]
    },
    {
     "name": "stderr",
     "output_type": "stream",
     "text": [
      "Training:  25%|████████▊                          | 1/4 [00:13<00:39, 13.32s/it]"
     ]
    },
    {
     "name": "stdout",
     "output_type": "stream",
     "text": [
      "Epoch 1/4, Loss: -0.0964, Train fit: 0.0342, Test fit: 0.0384, Avg Weight: 0.0002, Max Weight: 0.0012\n"
     ]
    },
    {
     "name": "stderr",
     "output_type": "stream",
     "text": [
      "Training:  75%|██████████████████████████▎        | 3/4 [00:40<00:13, 13.38s/it]"
     ]
    },
    {
     "name": "stdout",
     "output_type": "stream",
     "text": [
      "Epoch 3/4, Loss: -0.1059, Train fit: 0.0358, Test fit: 0.0398, Avg Weight: 0.0002, Max Weight: 0.0012\n"
     ]
    },
    {
     "name": "stderr",
     "output_type": "stream",
     "text": [
      "Training: 100%|███████████████████████████████████| 4/4 [00:53<00:00, 13.38s/it]"
     ]
    },
    {
     "name": "stdout",
     "output_type": "stream",
     "text": [
      "Epoch 4/4, Loss: -0.1087, Train fit: 0.0372, Test fit: 0.0405, Avg Weight: 0.0002, Max Weight: 0.0011\n",
      "Training completed! Best test Sharpe ratio: 0.0405\n",
      "Training from 2006-08 to 2007-01. Testing on 2007-02.\n"
     ]
    },
    {
     "name": "stderr",
     "output_type": "stream",
     "text": [
      "\n"
     ]
    },
    {
     "name": "stdout",
     "output_type": "stream",
     "text": [
      "['sprtrn_lag1', 'DlyRet_lag1', 'DlyRet_roll_10', 'DlyRet_roll_20', 'DlyRet_roll_30']\n",
      "Starting training with 420 train batches, 32 test batches\n"
     ]
    },
    {
     "name": "stderr",
     "output_type": "stream",
     "text": [
      "Training:  25%|████████▊                          | 1/4 [00:13<00:39, 13.11s/it]"
     ]
    },
    {
     "name": "stdout",
     "output_type": "stream",
     "text": [
      "Epoch 1/4, Loss: -0.1094, Train fit: 0.0466, Test fit: 0.0030, Avg Weight: 0.0002, Max Weight: 0.0006\n"
     ]
    },
    {
     "name": "stderr",
     "output_type": "stream",
     "text": [
      "Training:  75%|██████████████████████████▎        | 3/4 [00:39<00:13, 13.29s/it]"
     ]
    },
    {
     "name": "stdout",
     "output_type": "stream",
     "text": [
      "Epoch 3/4, Loss: -0.1220, Train fit: 0.0486, Test fit: 0.0047, Avg Weight: 0.0002, Max Weight: 0.0006\n"
     ]
    },
    {
     "name": "stderr",
     "output_type": "stream",
     "text": [
      "Training: 100%|███████████████████████████████████| 4/4 [00:53<00:00, 13.31s/it]"
     ]
    },
    {
     "name": "stdout",
     "output_type": "stream",
     "text": [
      "Epoch 4/4, Loss: -0.1232, Train fit: 0.0495, Test fit: 0.0046, Avg Weight: 0.0002, Max Weight: 0.0006\n",
      "Training completed! Best test Sharpe ratio: 0.0047\n",
      "Training from 2006-09 to 2007-02. Testing on 2007-03.\n"
     ]
    },
    {
     "name": "stderr",
     "output_type": "stream",
     "text": [
      "\n"
     ]
    },
    {
     "name": "stdout",
     "output_type": "stream",
     "text": [
      "['sprtrn_lag1', 'DlyRet_lag1', 'DlyRet_roll_10', 'DlyRet_roll_20', 'DlyRet_roll_30']\n",
      "Starting training with 408 train batches, 38 test batches\n"
     ]
    },
    {
     "name": "stderr",
     "output_type": "stream",
     "text": [
      "Training:  25%|████████▊                          | 1/4 [00:13<00:39, 13.28s/it]"
     ]
    },
    {
     "name": "stdout",
     "output_type": "stream",
     "text": [
      "Epoch 1/4, Loss: -0.1093, Train fit: 0.0276, Test fit: 0.0092, Avg Weight: 0.0003, Max Weight: 0.0406\n"
     ]
    },
    {
     "name": "stderr",
     "output_type": "stream",
     "text": [
      "Training:  75%|██████████████████████████▎        | 3/4 [00:39<00:13, 13.18s/it]"
     ]
    },
    {
     "name": "stdout",
     "output_type": "stream",
     "text": [
      "Epoch 3/4, Loss: -0.1185, Train fit: 0.0420, Test fit: 0.0173, Avg Weight: 0.0003, Max Weight: 0.0105\n"
     ]
    },
    {
     "name": "stderr",
     "output_type": "stream",
     "text": [
      "Training: 100%|███████████████████████████████████| 4/4 [00:53<00:00, 13.28s/it]"
     ]
    },
    {
     "name": "stdout",
     "output_type": "stream",
     "text": [
      "Epoch 4/4, Loss: -0.1198, Train fit: 0.0429, Test fit: 0.0169, Avg Weight: 0.0003, Max Weight: 0.0105\n",
      "Training completed! Best test Sharpe ratio: 0.0173\n",
      "Training from 2006-10 to 2007-03. Testing on 2007-04.\n"
     ]
    },
    {
     "name": "stderr",
     "output_type": "stream",
     "text": [
      "\n"
     ]
    },
    {
     "name": "stdout",
     "output_type": "stream",
     "text": [
      "['sprtrn_lag1', 'DlyRet_lag1', 'DlyRet_roll_10', 'DlyRet_roll_20', 'DlyRet_roll_30']\n",
      "Starting training with 416 train batches, 34 test batches\n"
     ]
    },
    {
     "name": "stderr",
     "output_type": "stream",
     "text": [
      "Training:  25%|████████▊                          | 1/4 [00:13<00:39, 13.27s/it]"
     ]
    },
    {
     "name": "stdout",
     "output_type": "stream",
     "text": [
      "Epoch 1/4, Loss: -0.1062, Train fit: 0.0338, Test fit: 0.0441, Avg Weight: 0.0002, Max Weight: 0.0007\n"
     ]
    },
    {
     "name": "stderr",
     "output_type": "stream",
     "text": [
      "Training:  75%|██████████████████████████▎        | 3/4 [00:39<00:13, 13.15s/it]"
     ]
    },
    {
     "name": "stdout",
     "output_type": "stream",
     "text": [
      "Epoch 3/4, Loss: -0.1176, Train fit: 0.0357, Test fit: 0.0478, Avg Weight: 0.0002, Max Weight: 0.0005\n"
     ]
    },
    {
     "name": "stderr",
     "output_type": "stream",
     "text": [
      "Training: 100%|███████████████████████████████████| 4/4 [00:53<00:00, 13.26s/it]"
     ]
    },
    {
     "name": "stdout",
     "output_type": "stream",
     "text": [
      "Epoch 4/4, Loss: -0.1195, Train fit: 0.0373, Test fit: 0.0528, Avg Weight: 0.0002, Max Weight: 0.0006\n",
      "Training completed! Best test Sharpe ratio: 0.0528\n",
      "Training from 2006-11 to 2007-04. Testing on 2007-05.\n"
     ]
    },
    {
     "name": "stderr",
     "output_type": "stream",
     "text": [
      "\n"
     ]
    },
    {
     "name": "stdout",
     "output_type": "stream",
     "text": [
      "['sprtrn_lag1', 'DlyRet_lag1', 'DlyRet_roll_10', 'DlyRet_roll_20', 'DlyRet_roll_30']\n",
      "Starting training with 410 train batches, 38 test batches\n"
     ]
    },
    {
     "name": "stderr",
     "output_type": "stream",
     "text": [
      "Training:  25%|████████▊                          | 1/4 [00:13<00:39, 13.16s/it]"
     ]
    },
    {
     "name": "stdout",
     "output_type": "stream",
     "text": [
      "Epoch 1/4, Loss: -0.1024, Train fit: 0.0339, Test fit: 0.0395, Avg Weight: 0.0002, Max Weight: 0.0022\n"
     ]
    },
    {
     "name": "stderr",
     "output_type": "stream",
     "text": [
      "Training:  75%|██████████████████████████▎        | 3/4 [00:39<00:13, 13.15s/it]"
     ]
    },
    {
     "name": "stdout",
     "output_type": "stream",
     "text": [
      "Epoch 3/4, Loss: -0.1118, Train fit: 0.0358, Test fit: 0.0422, Avg Weight: 0.0002, Max Weight: 0.0018\n"
     ]
    },
    {
     "name": "stderr",
     "output_type": "stream",
     "text": [
      "Training: 100%|███████████████████████████████████| 4/4 [00:52<00:00, 13.22s/it]"
     ]
    },
    {
     "name": "stdout",
     "output_type": "stream",
     "text": [
      "Epoch 4/4, Loss: -0.1161, Train fit: 0.0368, Test fit: 0.0431, Avg Weight: 0.0002, Max Weight: 0.0020\n",
      "Training completed! Best test Sharpe ratio: 0.0431\n",
      "Training from 2006-12 to 2007-05. Testing on 2007-06.\n"
     ]
    },
    {
     "name": "stderr",
     "output_type": "stream",
     "text": [
      "\n"
     ]
    },
    {
     "name": "stdout",
     "output_type": "stream",
     "text": [
      "['sprtrn_lag1', 'DlyRet_lag1', 'DlyRet_roll_10', 'DlyRet_roll_20', 'DlyRet_roll_30']\n",
      "Starting training with 414 train batches, 36 test batches\n"
     ]
    },
    {
     "name": "stderr",
     "output_type": "stream",
     "text": [
      "Training:  25%|████████▊                          | 1/4 [00:13<00:39, 13.06s/it]"
     ]
    },
    {
     "name": "stdout",
     "output_type": "stream",
     "text": [
      "Epoch 1/4, Loss: -0.1015, Train fit: 0.0317, Test fit: -0.0199, Avg Weight: 0.0002, Max Weight: 0.0008\n"
     ]
    },
    {
     "name": "stderr",
     "output_type": "stream",
     "text": [
      "Training:  75%|██████████████████████████▎        | 3/4 [00:39<00:13, 13.21s/it]"
     ]
    },
    {
     "name": "stdout",
     "output_type": "stream",
     "text": [
      "Epoch 3/4, Loss: -0.1130, Train fit: 0.0338, Test fit: -0.0181, Avg Weight: 0.0002, Max Weight: 0.0008\n"
     ]
    },
    {
     "name": "stderr",
     "output_type": "stream",
     "text": [
      "Training: 100%|███████████████████████████████████| 4/4 [00:52<00:00, 13.14s/it]"
     ]
    },
    {
     "name": "stdout",
     "output_type": "stream",
     "text": [
      "Epoch 4/4, Loss: -0.1142, Train fit: 0.0347, Test fit: -0.0200, Avg Weight: 0.0002, Max Weight: 0.0008\n",
      "Training completed! Best test Sharpe ratio: -0.0181\n",
      "Training from 2007-01 to 2007-06. Testing on 2007-07.\n"
     ]
    },
    {
     "name": "stderr",
     "output_type": "stream",
     "text": [
      "\n"
     ]
    },
    {
     "name": "stdout",
     "output_type": "stream",
     "text": [
      "['sprtrn_lag1', 'DlyRet_lag1', 'DlyRet_roll_10', 'DlyRet_roll_20', 'DlyRet_roll_30']\n",
      "Starting training with 419 train batches, 36 test batches\n"
     ]
    },
    {
     "name": "stderr",
     "output_type": "stream",
     "text": [
      "Training:  25%|████████▊                          | 1/4 [00:13<00:40, 13.52s/it]"
     ]
    },
    {
     "name": "stdout",
     "output_type": "stream",
     "text": [
      "Epoch 1/4, Loss: -0.0955, Train fit: 0.0238, Test fit: -0.0616, Avg Weight: 0.0002, Max Weight: 0.0007\n"
     ]
    },
    {
     "name": "stderr",
     "output_type": "stream",
     "text": [
      "Training:  75%|██████████████████████████▎        | 3/4 [00:40<00:13, 13.43s/it]"
     ]
    },
    {
     "name": "stdout",
     "output_type": "stream",
     "text": [
      "Epoch 3/4, Loss: -0.1055, Train fit: 0.0276, Test fit: -0.0607, Avg Weight: 0.0002, Max Weight: 0.0006\n"
     ]
    },
    {
     "name": "stderr",
     "output_type": "stream",
     "text": [
      "Training: 100%|███████████████████████████████████| 4/4 [00:53<00:00, 13.48s/it]"
     ]
    },
    {
     "name": "stdout",
     "output_type": "stream",
     "text": [
      "Epoch 4/4, Loss: -0.1077, Train fit: 0.0287, Test fit: -0.0584, Avg Weight: 0.0002, Max Weight: 0.0006\n",
      "Training completed! Best test Sharpe ratio: -0.0584\n",
      "Training from 2007-02 to 2007-07. Testing on 2007-08.\n"
     ]
    },
    {
     "name": "stderr",
     "output_type": "stream",
     "text": [
      "\n"
     ]
    },
    {
     "name": "stdout",
     "output_type": "stream",
     "text": [
      "['sprtrn_lag1', 'DlyRet_lag1', 'DlyRet_roll_10', 'DlyRet_roll_20', 'DlyRet_roll_30']\n",
      "Starting training with 423 train batches, 40 test batches\n"
     ]
    },
    {
     "name": "stderr",
     "output_type": "stream",
     "text": [
      "Training:  25%|████████▊                          | 1/4 [00:13<00:41, 13.97s/it]"
     ]
    },
    {
     "name": "stdout",
     "output_type": "stream",
     "text": [
      "Epoch 1/4, Loss: -0.0793, Train fit: 0.0047, Test fit: 0.0005, Avg Weight: 0.0002, Max Weight: 0.0206\n"
     ]
    },
    {
     "name": "stderr",
     "output_type": "stream",
     "text": [
      "Training:  75%|██████████████████████████▎        | 3/4 [00:41<00:13, 13.83s/it]"
     ]
    },
    {
     "name": "stdout",
     "output_type": "stream",
     "text": [
      "Epoch 3/4, Loss: -0.0899, Train fit: 0.0108, Test fit: 0.0028, Avg Weight: 0.0002, Max Weight: 0.0045\n"
     ]
    },
    {
     "name": "stderr",
     "output_type": "stream",
     "text": [
      "Training: 100%|███████████████████████████████████| 4/4 [00:55<00:00, 13.80s/it]"
     ]
    },
    {
     "name": "stdout",
     "output_type": "stream",
     "text": [
      "Epoch 4/4, Loss: -0.0925, Train fit: 0.0121, Test fit: 0.0013, Avg Weight: 0.0002, Max Weight: 0.0045\n",
      "Training completed! Best test Sharpe ratio: 0.0028\n",
      "Training from 2007-03 to 2007-08. Testing on 2007-09.\n"
     ]
    },
    {
     "name": "stderr",
     "output_type": "stream",
     "text": [
      "\n"
     ]
    },
    {
     "name": "stdout",
     "output_type": "stream",
     "text": [
      "['sprtrn_lag1', 'DlyRet_lag1', 'DlyRet_roll_10', 'DlyRet_roll_20', 'DlyRet_roll_30']\n",
      "Starting training with 437 train batches, 33 test batches\n"
     ]
    },
    {
     "name": "stderr",
     "output_type": "stream",
     "text": [
      "Training:  25%|████████▊                          | 1/4 [00:14<00:42, 14.03s/it]"
     ]
    },
    {
     "name": "stdout",
     "output_type": "stream",
     "text": [
      "Epoch 1/4, Loss: -0.0719, Train fit: 0.0050, Test fit: 0.0462, Avg Weight: 0.0003, Max Weight: 0.0029\n"
     ]
    },
    {
     "name": "stderr",
     "output_type": "stream",
     "text": [
      "Training:  75%|██████████████████████████▎        | 3/4 [00:42<00:14, 14.03s/it]"
     ]
    },
    {
     "name": "stdout",
     "output_type": "stream",
     "text": [
      "Epoch 3/4, Loss: -0.0802, Train fit: 0.0077, Test fit: 0.0499, Avg Weight: 0.0003, Max Weight: 0.0024\n"
     ]
    },
    {
     "name": "stderr",
     "output_type": "stream",
     "text": [
      "Training: 100%|███████████████████████████████████| 4/4 [00:56<00:00, 14.01s/it]"
     ]
    },
    {
     "name": "stdout",
     "output_type": "stream",
     "text": [
      "Epoch 4/4, Loss: -0.0858, Train fit: 0.0090, Test fit: 0.0493, Avg Weight: 0.0003, Max Weight: 0.0024\n",
      "Training completed! Best test Sharpe ratio: 0.0499\n",
      "Training from 2007-04 to 2007-09. Testing on 2007-10.\n"
     ]
    },
    {
     "name": "stderr",
     "output_type": "stream",
     "text": [
      "\n"
     ]
    },
    {
     "name": "stdout",
     "output_type": "stream",
     "text": [
      "['sprtrn_lag1', 'DlyRet_lag1', 'DlyRet_roll_10', 'DlyRet_roll_20', 'DlyRet_roll_30']\n",
      "Starting training with 428 train batches, 40 test batches\n"
     ]
    },
    {
     "name": "stderr",
     "output_type": "stream",
     "text": [
      "Training:  25%|████████▊                          | 1/4 [00:13<00:41, 13.78s/it]"
     ]
    },
    {
     "name": "stdout",
     "output_type": "stream",
     "text": [
      "Epoch 1/4, Loss: -0.0806, Train fit: 0.0059, Test fit: 0.0257, Avg Weight: 0.0003, Max Weight: 0.0069\n"
     ]
    },
    {
     "name": "stderr",
     "output_type": "stream",
     "text": [
      "Training:  75%|██████████████████████████▎        | 3/4 [00:41<00:13, 13.79s/it]"
     ]
    },
    {
     "name": "stdout",
     "output_type": "stream",
     "text": [
      "Epoch 3/4, Loss: -0.0791, Train fit: 0.0089, Test fit: 0.0244, Avg Weight: 0.0003, Max Weight: 0.0069\n"
     ]
    },
    {
     "name": "stderr",
     "output_type": "stream",
     "text": [
      "Training: 100%|███████████████████████████████████| 4/4 [00:55<00:00, 13.77s/it]"
     ]
    },
    {
     "name": "stdout",
     "output_type": "stream",
     "text": [
      "Epoch 4/4, Loss: -0.0831, Train fit: 0.0113, Test fit: 0.0290, Avg Weight: 0.0003, Max Weight: 0.0065\n",
      "Training completed! Best test Sharpe ratio: 0.0290\n",
      "Training from 2007-05 to 2007-10. Testing on 2007-11.\n"
     ]
    },
    {
     "name": "stderr",
     "output_type": "stream",
     "text": [
      "\n"
     ]
    },
    {
     "name": "stdout",
     "output_type": "stream",
     "text": [
      "['sprtrn_lag1', 'DlyRet_lag1', 'DlyRet_roll_10', 'DlyRet_roll_20', 'DlyRet_roll_30']\n",
      "Starting training with 438 train batches, 36 test batches\n"
     ]
    },
    {
     "name": "stderr",
     "output_type": "stream",
     "text": [
      "Training:  25%|████████▊                          | 1/4 [00:14<00:42, 14.01s/it]"
     ]
    },
    {
     "name": "stdout",
     "output_type": "stream",
     "text": [
      "Epoch 1/4, Loss: -0.0713, Train fit: 0.0067, Test fit: -0.0816, Avg Weight: 0.0002, Max Weight: 0.0007\n"
     ]
    },
    {
     "name": "stderr",
     "output_type": "stream",
     "text": [
      "Training:  75%|██████████████████████████▎        | 3/4 [00:42<00:14, 14.19s/it]"
     ]
    },
    {
     "name": "stdout",
     "output_type": "stream",
     "text": [
      "Epoch 3/4, Loss: -0.0776, Train fit: 0.0102, Test fit: -0.0780, Avg Weight: 0.0002, Max Weight: 0.0006\n"
     ]
    },
    {
     "name": "stderr",
     "output_type": "stream",
     "text": [
      "Training: 100%|███████████████████████████████████| 4/4 [00:56<00:00, 14.12s/it]"
     ]
    },
    {
     "name": "stdout",
     "output_type": "stream",
     "text": [
      "Epoch 4/4, Loss: -0.0820, Train fit: 0.0128, Test fit: -0.0744, Avg Weight: 0.0002, Max Weight: 0.0006\n",
      "Training completed! Best test Sharpe ratio: -0.0744\n",
      "Training from 2007-06 to 2007-11. Testing on 2007-12.\n"
     ]
    },
    {
     "name": "stderr",
     "output_type": "stream",
     "text": [
      "\n"
     ]
    },
    {
     "name": "stdout",
     "output_type": "stream",
     "text": [
      "['sprtrn_lag1', 'DlyRet_lag1', 'DlyRet_roll_10', 'DlyRet_roll_20', 'DlyRet_roll_30']\n",
      "Starting training with 435 train batches, 35 test batches\n"
     ]
    },
    {
     "name": "stderr",
     "output_type": "stream",
     "text": [
      "Training:  25%|████████▊                          | 1/4 [00:13<00:41, 13.96s/it]"
     ]
    },
    {
     "name": "stdout",
     "output_type": "stream",
     "text": [
      "Epoch 1/4, Loss: -0.0537, Train fit: -0.0059, Test fit: -0.0002, Avg Weight: 0.0003, Max Weight: 0.0055\n"
     ]
    },
    {
     "name": "stderr",
     "output_type": "stream",
     "text": [
      "Training:  75%|██████████████████████████▎        | 3/4 [00:41<00:13, 13.85s/it]"
     ]
    },
    {
     "name": "stdout",
     "output_type": "stream",
     "text": [
      "Epoch 3/4, Loss: -0.0560, Train fit: -0.0034, Test fit: -0.0007, Avg Weight: 0.0003, Max Weight: 0.0213\n"
     ]
    },
    {
     "name": "stderr",
     "output_type": "stream",
     "text": [
      "Training: 100%|███████████████████████████████████| 4/4 [00:55<00:00, 13.88s/it]"
     ]
    },
    {
     "name": "stdout",
     "output_type": "stream",
     "text": [
      "Epoch 4/4, Loss: -0.0578, Train fit: -0.0029, Test fit: 0.0041, Avg Weight: 0.0003, Max Weight: 0.0097\n",
      "Training completed! Best test Sharpe ratio: 0.0041\n",
      "Training from 2007-07 to 2007-12. Testing on 2008-01.\n"
     ]
    },
    {
     "name": "stderr",
     "output_type": "stream",
     "text": [
      "\n"
     ]
    },
    {
     "name": "stdout",
     "output_type": "stream",
     "text": [
      "['sprtrn_lag1', 'DlyRet_lag1', 'DlyRet_roll_10', 'DlyRet_roll_20', 'DlyRet_roll_30']\n",
      "Starting training with 433 train batches, 36 test batches\n"
     ]
    },
    {
     "name": "stderr",
     "output_type": "stream",
     "text": [
      "Training:  25%|████████▊                          | 1/4 [00:13<00:41, 13.69s/it]"
     ]
    },
    {
     "name": "stdout",
     "output_type": "stream",
     "text": [
      "Epoch 1/4, Loss: -0.0553, Train fit: -0.0149, Test fit: -0.0403, Avg Weight: 0.0002, Max Weight: 0.0006\n"
     ]
    },
    {
     "name": "stderr",
     "output_type": "stream",
     "text": [
      "Training:  75%|██████████████████████████▎        | 3/4 [00:41<00:13, 13.90s/it]"
     ]
    },
    {
     "name": "stdout",
     "output_type": "stream",
     "text": [
      "Epoch 3/4, Loss: -0.0592, Train fit: -0.0118, Test fit: -0.0402, Avg Weight: 0.0002, Max Weight: 0.0013\n"
     ]
    },
    {
     "name": "stderr",
     "output_type": "stream",
     "text": [
      "Training: 100%|███████████████████████████████████| 4/4 [00:55<00:00, 13.88s/it]"
     ]
    },
    {
     "name": "stdout",
     "output_type": "stream",
     "text": [
      "Epoch 4/4, Loss: -0.0578, Train fit: -0.0054, Test fit: -0.0371, Avg Weight: 0.0002, Max Weight: 0.0029\n",
      "Training completed! Best test Sharpe ratio: -0.0371\n",
      "Training from 2007-08 to 2008-01. Testing on 2008-02.\n"
     ]
    },
    {
     "name": "stderr",
     "output_type": "stream",
     "text": [
      "\n"
     ]
    },
    {
     "name": "stdout",
     "output_type": "stream",
     "text": [
      "['sprtrn_lag1', 'DlyRet_lag1', 'DlyRet_roll_10', 'DlyRet_roll_20', 'DlyRet_roll_30']\n",
      "Starting training with 433 train batches, 35 test batches\n"
     ]
    },
    {
     "name": "stderr",
     "output_type": "stream",
     "text": [
      "Training:  25%|████████▊                          | 1/4 [00:13<00:41, 13.78s/it]"
     ]
    },
    {
     "name": "stdout",
     "output_type": "stream",
     "text": [
      "Epoch 1/4, Loss: -0.0572, Train fit: -0.0057, Test fit: -0.0198, Avg Weight: 0.0003, Max Weight: 0.0054\n"
     ]
    },
    {
     "name": "stderr",
     "output_type": "stream",
     "text": [
      "Training:  75%|██████████████████████████▎        | 3/4 [00:41<00:13, 13.91s/it]"
     ]
    },
    {
     "name": "stdout",
     "output_type": "stream",
     "text": [
      "Epoch 3/4, Loss: -0.0564, Train fit: -0.0043, Test fit: -0.0037, Avg Weight: 0.0003, Max Weight: 0.0083\n"
     ]
    },
    {
     "name": "stderr",
     "output_type": "stream",
     "text": [
      "Training: 100%|███████████████████████████████████| 4/4 [00:55<00:00, 13.85s/it]"
     ]
    },
    {
     "name": "stdout",
     "output_type": "stream",
     "text": [
      "Epoch 4/4, Loss: -0.0595, Train fit: -0.0017, Test fit: -0.0029, Avg Weight: 0.0003, Max Weight: 0.0083\n",
      "Training completed! Best test Sharpe ratio: -0.0013\n",
      "Training from 2007-09 to 2008-02. Testing on 2008-03.\n"
     ]
    },
    {
     "name": "stderr",
     "output_type": "stream",
     "text": [
      "\n"
     ]
    },
    {
     "name": "stdout",
     "output_type": "stream",
     "text": [
      "['sprtrn_lag1', 'DlyRet_lag1', 'DlyRet_roll_10', 'DlyRet_roll_20', 'DlyRet_roll_30']\n",
      "Starting training with 423 train batches, 35 test batches\n"
     ]
    },
    {
     "name": "stderr",
     "output_type": "stream",
     "text": [
      "Training:  25%|████████▊                          | 1/4 [00:13<00:40, 13.53s/it]"
     ]
    },
    {
     "name": "stdout",
     "output_type": "stream",
     "text": [
      "Epoch 1/4, Loss: -0.0545, Train fit: -0.0126, Test fit: -0.0107, Avg Weight: 0.0003, Max Weight: 0.0121\n"
     ]
    },
    {
     "name": "stderr",
     "output_type": "stream",
     "text": [
      "Training:  75%|██████████████████████████▎        | 3/4 [00:40<00:13, 13.65s/it]"
     ]
    },
    {
     "name": "stdout",
     "output_type": "stream",
     "text": [
      "Epoch 3/4, Loss: -0.0568, Train fit: -0.0026, Test fit: -0.0072, Avg Weight: 0.0003, Max Weight: 0.0125\n"
     ]
    },
    {
     "name": "stderr",
     "output_type": "stream",
     "text": [
      "Training: 100%|███████████████████████████████████| 4/4 [00:54<00:00, 13.62s/it]"
     ]
    },
    {
     "name": "stdout",
     "output_type": "stream",
     "text": [
      "Epoch 4/4, Loss: -0.0565, Train fit: 0.0031, Test fit: -0.0014, Avg Weight: 0.0003, Max Weight: 0.0124\n",
      "Training completed! Best test Sharpe ratio: -0.0014\n",
      "Training from 2007-10 to 2008-03. Testing on 2008-04.\n"
     ]
    },
    {
     "name": "stderr",
     "output_type": "stream",
     "text": [
      "\n"
     ]
    },
    {
     "name": "stdout",
     "output_type": "stream",
     "text": [
      "['sprtrn_lag1', 'DlyRet_lag1', 'DlyRet_roll_10', 'DlyRet_roll_20', 'DlyRet_roll_30']\n",
      "Starting training with 427 train batches, 38 test batches\n"
     ]
    },
    {
     "name": "stderr",
     "output_type": "stream",
     "text": [
      "Training:  25%|████████▊                          | 1/4 [00:13<00:40, 13.54s/it]"
     ]
    },
    {
     "name": "stdout",
     "output_type": "stream",
     "text": [
      "Epoch 1/4, Loss: -0.0427, Train fit: -0.0140, Test fit: 0.0244, Avg Weight: 0.0002, Max Weight: 0.0038\n"
     ]
    },
    {
     "name": "stderr",
     "output_type": "stream",
     "text": [
      "Training:  75%|██████████████████████████▎        | 3/4 [00:41<00:13, 13.92s/it]"
     ]
    },
    {
     "name": "stdout",
     "output_type": "stream",
     "text": [
      "Epoch 3/4, Loss: -0.0487, Train fit: -0.0047, Test fit: 0.0309, Avg Weight: 0.0002, Max Weight: 0.0053\n"
     ]
    },
    {
     "name": "stderr",
     "output_type": "stream",
     "text": [
      "Training: 100%|███████████████████████████████████| 4/4 [00:55<00:00, 13.89s/it]"
     ]
    },
    {
     "name": "stdout",
     "output_type": "stream",
     "text": [
      "Epoch 4/4, Loss: -0.0538, Train fit: -0.0045, Test fit: 0.0269, Avg Weight: 0.0002, Max Weight: 0.0053\n",
      "Training completed! Best test Sharpe ratio: 0.0309\n",
      "Training from 2007-11 to 2008-04. Testing on 2008-05.\n"
     ]
    },
    {
     "name": "stderr",
     "output_type": "stream",
     "text": [
      "\n"
     ]
    },
    {
     "name": "stdout",
     "output_type": "stream",
     "text": [
      "['sprtrn_lag1', 'DlyRet_lag1', 'DlyRet_roll_10', 'DlyRet_roll_20', 'DlyRet_roll_30']\n",
      "Starting training with 423 train batches, 36 test batches\n"
     ]
    },
    {
     "name": "stderr",
     "output_type": "stream",
     "text": [
      "Training:  25%|████████▊                          | 1/4 [00:13<00:40, 13.34s/it]"
     ]
    },
    {
     "name": "stdout",
     "output_type": "stream",
     "text": [
      "Epoch 1/4, Loss: -0.0453, Train fit: -0.0208, Test fit: 0.0448, Avg Weight: 0.0002, Max Weight: 0.0010\n"
     ]
    },
    {
     "name": "stderr",
     "output_type": "stream",
     "text": [
      "Training:  75%|██████████████████████████▎        | 3/4 [00:40<00:13, 13.60s/it]"
     ]
    },
    {
     "name": "stdout",
     "output_type": "stream",
     "text": [
      "Epoch 3/4, Loss: -0.0467, Train fit: -0.0132, Test fit: 0.0456, Avg Weight: 0.0002, Max Weight: 0.0011\n"
     ]
    },
    {
     "name": "stderr",
     "output_type": "stream",
     "text": [
      "Training: 100%|███████████████████████████████████| 4/4 [00:54<00:00, 13.66s/it]"
     ]
    },
    {
     "name": "stdout",
     "output_type": "stream",
     "text": [
      "Epoch 4/4, Loss: -0.0507, Train fit: -0.0081, Test fit: 0.0455, Avg Weight: 0.0002, Max Weight: 0.0011\n",
      "Training completed! Best test Sharpe ratio: 0.0461\n",
      "Training from 2007-12 to 2008-05. Testing on 2008-06.\n"
     ]
    },
    {
     "name": "stderr",
     "output_type": "stream",
     "text": [
      "\n"
     ]
    },
    {
     "name": "stdout",
     "output_type": "stream",
     "text": [
      "['sprtrn_lag1', 'DlyRet_lag1', 'DlyRet_roll_10', 'DlyRet_roll_20', 'DlyRet_roll_30']\n",
      "Starting training with 423 train batches, 36 test batches\n"
     ]
    },
    {
     "name": "stderr",
     "output_type": "stream",
     "text": [
      "Training:  25%|████████▊                          | 1/4 [00:13<00:40, 13.37s/it]"
     ]
    },
    {
     "name": "stdout",
     "output_type": "stream",
     "text": [
      "Epoch 1/4, Loss: -0.0610, Train fit: 0.0018, Test fit: -0.0950, Avg Weight: 0.0002, Max Weight: 0.0009\n"
     ]
    },
    {
     "name": "stderr",
     "output_type": "stream",
     "text": [
      "Training:  75%|██████████████████████████▎        | 3/4 [00:40<00:13, 13.67s/it]"
     ]
    },
    {
     "name": "stdout",
     "output_type": "stream",
     "text": [
      "Epoch 3/4, Loss: -0.0718, Train fit: 0.0083, Test fit: -0.0805, Avg Weight: 0.0002, Max Weight: 0.0009\n"
     ]
    },
    {
     "name": "stderr",
     "output_type": "stream",
     "text": [
      "Training: 100%|███████████████████████████████████| 4/4 [00:54<00:00, 13.70s/it]"
     ]
    },
    {
     "name": "stdout",
     "output_type": "stream",
     "text": [
      "Epoch 4/4, Loss: -0.0748, Train fit: 0.0125, Test fit: -0.0745, Avg Weight: 0.0002, Max Weight: 0.0008\n",
      "Training completed! Best test Sharpe ratio: -0.0745\n",
      "Training from 2008-01 to 2008-06. Testing on 2008-07.\n"
     ]
    },
    {
     "name": "stderr",
     "output_type": "stream",
     "text": [
      "\n"
     ]
    },
    {
     "name": "stdout",
     "output_type": "stream",
     "text": [
      "['sprtrn_lag1', 'DlyRet_lag1', 'DlyRet_roll_10', 'DlyRet_roll_20', 'DlyRet_roll_30']\n",
      "Starting training with 426 train batches, 38 test batches\n"
     ]
    },
    {
     "name": "stderr",
     "output_type": "stream",
     "text": [
      "Training:  25%|████████▊                          | 1/4 [00:13<00:41, 13.91s/it]"
     ]
    },
    {
     "name": "stdout",
     "output_type": "stream",
     "text": [
      "Epoch 1/4, Loss: -0.0600, Train fit: 0.0065, Test fit: -0.0269, Avg Weight: 0.0002, Max Weight: 0.0158\n"
     ]
    },
    {
     "name": "stderr",
     "output_type": "stream",
     "text": [
      "Training:  75%|██████████████████████████▎        | 3/4 [00:41<00:13, 13.94s/it]"
     ]
    },
    {
     "name": "stdout",
     "output_type": "stream",
     "text": [
      "Epoch 3/4, Loss: -0.0591, Train fit: 0.0062, Test fit: -0.0178, Avg Weight: 0.0002, Max Weight: 0.0080\n"
     ]
    },
    {
     "name": "stderr",
     "output_type": "stream",
     "text": [
      "Training: 100%|███████████████████████████████████| 4/4 [00:55<00:00, 13.95s/it]"
     ]
    },
    {
     "name": "stdout",
     "output_type": "stream",
     "text": [
      "Epoch 4/4, Loss: -0.0606, Train fit: 0.0064, Test fit: -0.0102, Avg Weight: 0.0002, Max Weight: 0.0068\n",
      "Training completed! Best test Sharpe ratio: -0.0102\n",
      "Training from 2008-02 to 2008-07. Testing on 2008-08.\n"
     ]
    },
    {
     "name": "stderr",
     "output_type": "stream",
     "text": [
      "\n"
     ]
    },
    {
     "name": "stdout",
     "output_type": "stream",
     "text": [
      "['sprtrn_lag1', 'DlyRet_lag1', 'DlyRet_roll_10', 'DlyRet_roll_20', 'DlyRet_roll_30']\n",
      "Starting training with 429 train batches, 36 test batches\n"
     ]
    },
    {
     "name": "stderr",
     "output_type": "stream",
     "text": [
      "Training:  25%|████████▊                          | 1/4 [00:13<00:41, 13.87s/it]"
     ]
    },
    {
     "name": "stdout",
     "output_type": "stream",
     "text": [
      "Epoch 1/4, Loss: -0.0597, Train fit: -0.0114, Test fit: 0.0160, Avg Weight: 0.0002, Max Weight: 0.0013\n"
     ]
    },
    {
     "name": "stderr",
     "output_type": "stream",
     "text": [
      "Training:  75%|██████████████████████████▎        | 3/4 [00:41<00:13, 13.80s/it]"
     ]
    },
    {
     "name": "stdout",
     "output_type": "stream",
     "text": [
      "Epoch 3/4, Loss: -0.0578, Train fit: 0.0008, Test fit: 0.0081, Avg Weight: 0.0002, Max Weight: 0.0013\n"
     ]
    },
    {
     "name": "stderr",
     "output_type": "stream",
     "text": [
      "Training: 100%|███████████████████████████████████| 4/4 [00:55<00:00, 13.83s/it]"
     ]
    },
    {
     "name": "stdout",
     "output_type": "stream",
     "text": [
      "Epoch 4/4, Loss: -0.0639, Train fit: 0.0056, Test fit: 0.0150, Avg Weight: 0.0002, Max Weight: 0.0013\n",
      "Training completed! Best test Sharpe ratio: 0.0160\n",
      "Training from 2008-03 to 2008-08. Testing on 2008-09.\n"
     ]
    },
    {
     "name": "stderr",
     "output_type": "stream",
     "text": [
      "\n"
     ]
    },
    {
     "name": "stdout",
     "output_type": "stream",
     "text": [
      "['sprtrn_lag1', 'DlyRet_lag1', 'DlyRet_roll_10', 'DlyRet_roll_20', 'DlyRet_roll_30']\n",
      "Starting training with 432 train batches, 36 test batches\n"
     ]
    },
    {
     "name": "stderr",
     "output_type": "stream",
     "text": [
      "Training:  25%|████████▊                          | 1/4 [00:13<00:40, 13.58s/it]"
     ]
    },
    {
     "name": "stdout",
     "output_type": "stream",
     "text": [
      "Epoch 1/4, Loss: -0.0624, Train fit: -0.0036, Test fit: -0.0732, Avg Weight: 0.0002, Max Weight: 0.0020\n"
     ]
    },
    {
     "name": "stderr",
     "output_type": "stream",
     "text": [
      "Training:  75%|██████████████████████████▎        | 3/4 [00:41<00:13, 13.84s/it]"
     ]
    },
    {
     "name": "stdout",
     "output_type": "stream",
     "text": [
      "Epoch 3/4, Loss: -0.0631, Train fit: 0.0062, Test fit: -0.0552, Avg Weight: 0.0002, Max Weight: 0.0021\n"
     ]
    },
    {
     "name": "stderr",
     "output_type": "stream",
     "text": [
      "Training: 100%|███████████████████████████████████| 4/4 [00:55<00:00, 13.83s/it]"
     ]
    },
    {
     "name": "stdout",
     "output_type": "stream",
     "text": [
      "Epoch 4/4, Loss: -0.0711, Train fit: 0.0156, Test fit: -0.0397, Avg Weight: 0.0002, Max Weight: 0.0016\n",
      "Training completed! Best test Sharpe ratio: -0.0397\n",
      "Training from 2008-04 to 2008-09. Testing on 2008-10.\n"
     ]
    },
    {
     "name": "stderr",
     "output_type": "stream",
     "text": [
      "\n"
     ]
    },
    {
     "name": "stdout",
     "output_type": "stream",
     "text": [
      "['sprtrn_lag1', 'DlyRet_lag1', 'DlyRet_roll_10', 'DlyRet_roll_20', 'DlyRet_roll_30']\n",
      "Starting training with 434 train batches, 39 test batches\n"
     ]
    },
    {
     "name": "stderr",
     "output_type": "stream",
     "text": [
      "Training:  25%|████████▊                          | 1/4 [00:14<00:42, 14.23s/it]"
     ]
    },
    {
     "name": "stdout",
     "output_type": "stream",
     "text": [
      "Epoch 1/4, Loss: -0.0546, Train fit: -0.0035, Test fit: -0.0244, Avg Weight: 0.0002, Max Weight: 0.0167\n"
     ]
    },
    {
     "name": "stderr",
     "output_type": "stream",
     "text": [
      "Training:  75%|██████████████████████████▎        | 3/4 [00:42<00:14, 14.09s/it]"
     ]
    },
    {
     "name": "stdout",
     "output_type": "stream",
     "text": [
      "Epoch 3/4, Loss: -0.0565, Train fit: -0.0021, Test fit: -0.0398, Avg Weight: 0.0002, Max Weight: 0.0167\n"
     ]
    },
    {
     "name": "stderr",
     "output_type": "stream",
     "text": [
      "Training: 100%|███████████████████████████████████| 4/4 [00:56<00:00, 14.09s/it]"
     ]
    },
    {
     "name": "stdout",
     "output_type": "stream",
     "text": [
      "Epoch 4/4, Loss: -0.0696, Train fit: 0.0292, Test fit: 0.0020, Avg Weight: 0.0002, Max Weight: 0.0112\n",
      "Training completed! Best test Sharpe ratio: 0.0020\n",
      "Training from 2008-05 to 2008-10. Testing on 2008-11.\n"
     ]
    },
    {
     "name": "stderr",
     "output_type": "stream",
     "text": [
      "\n"
     ]
    },
    {
     "name": "stdout",
     "output_type": "stream",
     "text": [
      "['sprtrn_lag1', 'DlyRet_lag1', 'DlyRet_roll_10', 'DlyRet_roll_20', 'DlyRet_roll_30']\n",
      "Starting training with 436 train batches, 32 test batches\n"
     ]
    },
    {
     "name": "stderr",
     "output_type": "stream",
     "text": [
      "Training:  25%|████████▊                          | 1/4 [00:13<00:41, 13.80s/it]"
     ]
    },
    {
     "name": "stdout",
     "output_type": "stream",
     "text": [
      "Epoch 1/4, Loss: -0.0383, Train fit: -0.0107, Test fit: -0.0225, Avg Weight: 0.0002, Max Weight: 0.0260\n"
     ]
    },
    {
     "name": "stderr",
     "output_type": "stream",
     "text": [
      "Training:  75%|██████████████████████████▎        | 3/4 [00:41<00:13, 13.90s/it]"
     ]
    },
    {
     "name": "stdout",
     "output_type": "stream",
     "text": [
      "Epoch 3/4, Loss: -0.0428, Train fit: -0.0064, Test fit: -0.0168, Avg Weight: 0.0002, Max Weight: 0.0099\n"
     ]
    },
    {
     "name": "stderr",
     "output_type": "stream",
     "text": [
      "Training: 100%|███████████████████████████████████| 4/4 [00:55<00:00, 13.84s/it]"
     ]
    },
    {
     "name": "stdout",
     "output_type": "stream",
     "text": [
      "Epoch 4/4, Loss: -0.0453, Train fit: 0.0089, Test fit: 0.0052, Avg Weight: 0.0002, Max Weight: 0.0214\n",
      "Training completed! Best test Sharpe ratio: 0.0052\n",
      "Training from 2008-06 to 2008-11. Testing on 2008-12.\n"
     ]
    },
    {
     "name": "stderr",
     "output_type": "stream",
     "text": [
      "\n"
     ]
    },
    {
     "name": "stdout",
     "output_type": "stream",
     "text": [
      "['sprtrn_lag1', 'DlyRet_lag1', 'DlyRet_roll_10', 'DlyRet_roll_20', 'DlyRet_roll_30']\n",
      "Starting training with 429 train batches, 37 test batches\n"
     ]
    },
    {
     "name": "stderr",
     "output_type": "stream",
     "text": [
      "Training:  25%|████████▊                          | 1/4 [00:13<00:41, 13.88s/it]"
     ]
    },
    {
     "name": "stdout",
     "output_type": "stream",
     "text": [
      "Epoch 1/4, Loss: -0.0258, Train fit: -0.0209, Test fit: 0.0125, Avg Weight: 0.0002, Max Weight: 0.0160\n"
     ]
    },
    {
     "name": "stderr",
     "output_type": "stream",
     "text": [
      "Training:  75%|██████████████████████████▎        | 3/4 [00:41<00:13, 13.73s/it]"
     ]
    },
    {
     "name": "stdout",
     "output_type": "stream",
     "text": [
      "Epoch 3/4, Loss: -0.0418, Train fit: -0.0034, Test fit: 0.0305, Avg Weight: 0.0002, Max Weight: 0.0100\n"
     ]
    },
    {
     "name": "stderr",
     "output_type": "stream",
     "text": [
      "Training: 100%|███████████████████████████████████| 4/4 [00:55<00:00, 13.83s/it]"
     ]
    },
    {
     "name": "stdout",
     "output_type": "stream",
     "text": [
      "Epoch 4/4, Loss: -0.0478, Train fit: 0.0127, Test fit: 0.0523, Avg Weight: 0.0002, Max Weight: 0.0173\n",
      "Training completed! Best test Sharpe ratio: 0.0523\n",
      "Training from 2008-07 to 2008-12. Testing on 2009-01.\n"
     ]
    },
    {
     "name": "stderr",
     "output_type": "stream",
     "text": [
      "\n"
     ]
    },
    {
     "name": "stdout",
     "output_type": "stream",
     "text": [
      "['sprtrn_lag1', 'DlyRet_lag1', 'DlyRet_roll_10', 'DlyRet_roll_20', 'DlyRet_roll_30']\n",
      "Starting training with 431 train batches, 34 test batches\n"
     ]
    },
    {
     "name": "stderr",
     "output_type": "stream",
     "text": [
      "Training:  25%|████████▊                          | 1/4 [00:14<00:42, 14.09s/it]"
     ]
    },
    {
     "name": "stdout",
     "output_type": "stream",
     "text": [
      "Epoch 1/4, Loss: -0.0490, Train fit: -0.0285, Test fit: -0.0035, Avg Weight: 0.0003, Max Weight: 0.0158\n"
     ]
    },
    {
     "name": "stderr",
     "output_type": "stream",
     "text": [
      "Training:  75%|██████████████████████████▎        | 3/4 [00:41<00:13, 13.60s/it]"
     ]
    },
    {
     "name": "stdout",
     "output_type": "stream",
     "text": [
      "Epoch 3/4, Loss: -0.0606, Train fit: -0.0101, Test fit: 0.0175, Avg Weight: 0.0003, Max Weight: 0.0138\n"
     ]
    },
    {
     "name": "stderr",
     "output_type": "stream",
     "text": [
      "Training: 100%|███████████████████████████████████| 4/4 [00:54<00:00, 13.62s/it]"
     ]
    },
    {
     "name": "stdout",
     "output_type": "stream",
     "text": [
      "Epoch 4/4, Loss: -0.0692, Train fit: -0.0009, Test fit: 0.0244, Avg Weight: 0.0003, Max Weight: 0.0170\n",
      "Training completed! Best test Sharpe ratio: 0.0244\n",
      "Training from 2008-08 to 2009-01. Testing on 2009-02.\n"
     ]
    },
    {
     "name": "stderr",
     "output_type": "stream",
     "text": [
      "\n"
     ]
    },
    {
     "name": "stdout",
     "output_type": "stream",
     "text": [
      "['sprtrn_lag1', 'DlyRet_lag1', 'DlyRet_roll_10', 'DlyRet_roll_20', 'DlyRet_roll_30']\n",
      "Starting training with 422 train batches, 32 test batches\n"
     ]
    },
    {
     "name": "stderr",
     "output_type": "stream",
     "text": [
      "Training:  25%|████████▊                          | 1/4 [00:13<00:40, 13.45s/it]"
     ]
    },
    {
     "name": "stdout",
     "output_type": "stream",
     "text": [
      "Epoch 1/4, Loss: -0.0424, Train fit: -0.0262, Test fit: -0.0570, Avg Weight: 0.0003, Max Weight: 0.0040\n"
     ]
    },
    {
     "name": "stderr",
     "output_type": "stream",
     "text": [
      "Training:  75%|██████████████████████████▎        | 3/4 [00:40<00:13, 13.46s/it]"
     ]
    },
    {
     "name": "stdout",
     "output_type": "stream",
     "text": [
      "Epoch 3/4, Loss: -0.0349, Train fit: -0.0333, Test fit: -0.0686, Avg Weight: 0.0003, Max Weight: 0.0063\n"
     ]
    },
    {
     "name": "stderr",
     "output_type": "stream",
     "text": [
      "Training: 100%|███████████████████████████████████| 4/4 [00:53<00:00, 13.48s/it]"
     ]
    },
    {
     "name": "stdout",
     "output_type": "stream",
     "text": [
      "Epoch 4/4, Loss: -0.0471, Train fit: -0.0283, Test fit: -0.0624, Avg Weight: 0.0003, Max Weight: 0.0063\n",
      "Training completed! Best test Sharpe ratio: -0.0530\n",
      "Training from 2008-09 to 2009-02. Testing on 2009-03.\n"
     ]
    },
    {
     "name": "stderr",
     "output_type": "stream",
     "text": [
      "\n"
     ]
    },
    {
     "name": "stdout",
     "output_type": "stream",
     "text": [
      "['sprtrn_lag1', 'DlyRet_lag1', 'DlyRet_roll_10', 'DlyRet_roll_20', 'DlyRet_roll_30']\n",
      "Starting training with 413 train batches, 36 test batches\n"
     ]
    },
    {
     "name": "stderr",
     "output_type": "stream",
     "text": [
      "Training:  25%|████████▊                          | 1/4 [00:13<00:39, 13.22s/it]"
     ]
    },
    {
     "name": "stdout",
     "output_type": "stream",
     "text": [
      "Epoch 1/4, Loss: -0.0346, Train fit: -0.0325, Test fit: 0.0561, Avg Weight: 0.0002, Max Weight: 0.0027\n"
     ]
    },
    {
     "name": "stderr",
     "output_type": "stream",
     "text": [
      "Training:  75%|██████████████████████████▎        | 3/4 [00:40<00:13, 13.60s/it]"
     ]
    },
    {
     "name": "stdout",
     "output_type": "stream",
     "text": [
      "Epoch 3/4, Loss: -0.0438, Train fit: 0.0177, Test fit: 0.0850, Avg Weight: 0.0002, Max Weight: 0.0106\n"
     ]
    },
    {
     "name": "stderr",
     "output_type": "stream",
     "text": [
      "Training: 100%|███████████████████████████████████| 4/4 [00:54<00:00, 13.62s/it]"
     ]
    },
    {
     "name": "stdout",
     "output_type": "stream",
     "text": [
      "Epoch 4/4, Loss: -0.0654, Train fit: 0.0193, Test fit: 0.1106, Avg Weight: 0.0002, Max Weight: 0.0031\n",
      "Training completed! Best test Sharpe ratio: 0.1106\n",
      "Training from 2008-10 to 2009-03. Testing on 2009-04.\n"
     ]
    },
    {
     "name": "stderr",
     "output_type": "stream",
     "text": [
      "\n"
     ]
    },
    {
     "name": "stdout",
     "output_type": "stream",
     "text": [
      "['sprtrn_lag1', 'DlyRet_lag1', 'DlyRet_roll_10', 'DlyRet_roll_20', 'DlyRet_roll_30']\n",
      "Starting training with 415 train batches, 35 test batches\n"
     ]
    },
    {
     "name": "stderr",
     "output_type": "stream",
     "text": [
      "Training:  25%|████████▊                          | 1/4 [00:13<00:39, 13.13s/it]"
     ]
    },
    {
     "name": "stdout",
     "output_type": "stream",
     "text": [
      "Epoch 1/4, Loss: -0.0332, Train fit: -0.0144, Test fit: 0.0957, Avg Weight: 0.0003, Max Weight: 0.0078\n"
     ]
    },
    {
     "name": "stderr",
     "output_type": "stream",
     "text": [
      "Training:  75%|██████████████████████████▎        | 3/4 [00:39<00:13, 13.25s/it]"
     ]
    },
    {
     "name": "stdout",
     "output_type": "stream",
     "text": [
      "Epoch 3/4, Loss: -0.0457, Train fit: -0.0111, Test fit: 0.1073, Avg Weight: 0.0003, Max Weight: 0.0061\n"
     ]
    },
    {
     "name": "stderr",
     "output_type": "stream",
     "text": [
      "Training: 100%|███████████████████████████████████| 4/4 [00:53<00:00, 13.30s/it]"
     ]
    },
    {
     "name": "stdout",
     "output_type": "stream",
     "text": [
      "Epoch 4/4, Loss: -0.0518, Train fit: -0.0040, Test fit: 0.1083, Avg Weight: 0.0003, Max Weight: 0.0082\n",
      "Training completed! Best test Sharpe ratio: 0.1083\n",
      "Training from 2008-11 to 2009-04. Testing on 2009-05.\n"
     ]
    },
    {
     "name": "stderr",
     "output_type": "stream",
     "text": [
      "\n"
     ]
    },
    {
     "name": "stdout",
     "output_type": "stream",
     "text": [
      "['sprtrn_lag1', 'DlyRet_lag1', 'DlyRet_roll_10', 'DlyRet_roll_20', 'DlyRet_roll_30']\n",
      "Starting training with 406 train batches, 33 test batches\n"
     ]
    },
    {
     "name": "stderr",
     "output_type": "stream",
     "text": [
      "Training:  25%|████████▊                          | 1/4 [00:12<00:38, 12.86s/it]"
     ]
    },
    {
     "name": "stdout",
     "output_type": "stream",
     "text": [
      "Epoch 1/4, Loss: -0.0726, Train fit: 0.0141, Test fit: 0.0882, Avg Weight: 0.0002, Max Weight: 0.0012\n"
     ]
    },
    {
     "name": "stderr",
     "output_type": "stream",
     "text": [
      "Training:  75%|██████████████████████████▎        | 3/4 [00:39<00:13, 13.19s/it]"
     ]
    },
    {
     "name": "stdout",
     "output_type": "stream",
     "text": [
      "Epoch 3/4, Loss: -0.0962, Train fit: 0.0376, Test fit: 0.1162, Avg Weight: 0.0002, Max Weight: 0.0013\n"
     ]
    },
    {
     "name": "stderr",
     "output_type": "stream",
     "text": [
      "Training: 100%|███████████████████████████████████| 4/4 [00:52<00:00, 13.08s/it]"
     ]
    },
    {
     "name": "stdout",
     "output_type": "stream",
     "text": [
      "Epoch 4/4, Loss: -0.1034, Train fit: 0.0470, Test fit: 0.1261, Avg Weight: 0.0002, Max Weight: 0.0013\n",
      "Training completed! Best test Sharpe ratio: 0.1261\n",
      "Training from 2008-12 to 2009-05. Testing on 2009-06.\n"
     ]
    },
    {
     "name": "stderr",
     "output_type": "stream",
     "text": [
      "\n"
     ]
    },
    {
     "name": "stdout",
     "output_type": "stream",
     "text": [
      "['sprtrn_lag1', 'DlyRet_lag1', 'DlyRet_roll_10', 'DlyRet_roll_20', 'DlyRet_roll_30']\n",
      "Starting training with 407 train batches, 36 test batches\n"
     ]
    },
    {
     "name": "stderr",
     "output_type": "stream",
     "text": [
      "Training:  25%|████████▊                          | 1/4 [00:13<00:39, 13.27s/it]"
     ]
    },
    {
     "name": "stdout",
     "output_type": "stream",
     "text": [
      "Epoch 1/4, Loss: -0.0871, Train fit: 0.0441, Test fit: 0.0167, Avg Weight: 0.0002, Max Weight: 0.0011\n"
     ]
    },
    {
     "name": "stderr",
     "output_type": "stream",
     "text": [
      "Training:  75%|██████████████████████████▎        | 3/4 [00:39<00:13, 13.16s/it]"
     ]
    },
    {
     "name": "stdout",
     "output_type": "stream",
     "text": [
      "Epoch 3/4, Loss: -0.1273, Train fit: 0.0718, Test fit: 0.0383, Avg Weight: 0.0002, Max Weight: 0.0010\n"
     ]
    },
    {
     "name": "stderr",
     "output_type": "stream",
     "text": [
      "Training: 100%|███████████████████████████████████| 4/4 [00:52<00:00, 13.18s/it]"
     ]
    },
    {
     "name": "stdout",
     "output_type": "stream",
     "text": [
      "Epoch 4/4, Loss: -0.1430, Train fit: 0.0797, Test fit: 0.0468, Avg Weight: 0.0002, Max Weight: 0.0010\n",
      "Training completed! Best test Sharpe ratio: 0.0468\n",
      "Training from 2009-01 to 2009-06. Testing on 2009-07.\n"
     ]
    },
    {
     "name": "stderr",
     "output_type": "stream",
     "text": [
      "\n"
     ]
    },
    {
     "name": "stdout",
     "output_type": "stream",
     "text": [
      "['sprtrn_lag1', 'DlyRet_lag1', 'DlyRet_roll_10', 'DlyRet_roll_20', 'DlyRet_roll_30']\n",
      "Starting training with 404 train batches, 36 test batches\n"
     ]
    },
    {
     "name": "stderr",
     "output_type": "stream",
     "text": [
      "Training:  25%|████████▊                          | 1/4 [00:12<00:38, 12.76s/it]"
     ]
    },
    {
     "name": "stdout",
     "output_type": "stream",
     "text": [
      "Epoch 1/4, Loss: -0.0992, Train fit: 0.0387, Test fit: 0.0948, Avg Weight: 0.0002, Max Weight: 0.0014\n"
     ]
    },
    {
     "name": "stderr",
     "output_type": "stream",
     "text": [
      "Training:  75%|██████████████████████████▎        | 3/4 [00:39<00:13, 13.13s/it]"
     ]
    },
    {
     "name": "stdout",
     "output_type": "stream",
     "text": [
      "Epoch 3/4, Loss: -0.1202, Train fit: 0.0650, Test fit: 0.1073, Avg Weight: 0.0002, Max Weight: 0.0014\n"
     ]
    },
    {
     "name": "stderr",
     "output_type": "stream",
     "text": [
      "Training: 100%|███████████████████████████████████| 4/4 [00:52<00:00, 13.00s/it]"
     ]
    },
    {
     "name": "stdout",
     "output_type": "stream",
     "text": [
      "Epoch 4/4, Loss: -0.1343, Train fit: 0.0730, Test fit: 0.1098, Avg Weight: 0.0002, Max Weight: 0.0015\n",
      "Training completed! Best test Sharpe ratio: 0.1098\n",
      "Training from 2009-02 to 2009-07. Testing on 2009-08.\n"
     ]
    },
    {
     "name": "stderr",
     "output_type": "stream",
     "text": [
      "\n"
     ]
    },
    {
     "name": "stdout",
     "output_type": "stream",
     "text": [
      "['sprtrn_lag1', 'DlyRet_lag1', 'DlyRet_roll_10', 'DlyRet_roll_20', 'DlyRet_roll_30']\n",
      "Starting training with 409 train batches, 34 test batches\n"
     ]
    },
    {
     "name": "stderr",
     "output_type": "stream",
     "text": [
      "Training:  25%|████████▊                          | 1/4 [00:13<00:39, 13.02s/it]"
     ]
    },
    {
     "name": "stdout",
     "output_type": "stream",
     "text": [
      "Epoch 1/4, Loss: -0.0946, Train fit: 0.0557, Test fit: 0.0462, Avg Weight: 0.0002, Max Weight: 0.0007\n"
     ]
    },
    {
     "name": "stderr",
     "output_type": "stream",
     "text": [
      "Training:  75%|██████████████████████████▎        | 3/4 [00:39<00:13, 13.21s/it]"
     ]
    },
    {
     "name": "stdout",
     "output_type": "stream",
     "text": [
      "Epoch 3/4, Loss: -0.1352, Train fit: 0.0718, Test fit: 0.0575, Avg Weight: 0.0002, Max Weight: 0.0006\n"
     ]
    },
    {
     "name": "stderr",
     "output_type": "stream",
     "text": [
      "Training: 100%|███████████████████████████████████| 4/4 [00:52<00:00, 13.20s/it]"
     ]
    },
    {
     "name": "stdout",
     "output_type": "stream",
     "text": [
      "Epoch 4/4, Loss: -0.1526, Train fit: 0.0833, Test fit: 0.0639, Avg Weight: 0.0002, Max Weight: 0.0005\n",
      "Training completed! Best test Sharpe ratio: 0.0639\n",
      "Training from 2009-03 to 2009-08. Testing on 2009-09.\n"
     ]
    },
    {
     "name": "stderr",
     "output_type": "stream",
     "text": [
      "\n"
     ]
    },
    {
     "name": "stdout",
     "output_type": "stream",
     "text": [
      "['sprtrn_lag1', 'DlyRet_lag1', 'DlyRet_roll_10', 'DlyRet_roll_20', 'DlyRet_roll_30']\n",
      "Starting training with 414 train batches, 34 test batches\n"
     ]
    },
    {
     "name": "stderr",
     "output_type": "stream",
     "text": [
      "Training:  25%|████████▊                          | 1/4 [00:12<00:38, 12.91s/it]"
     ]
    },
    {
     "name": "stdout",
     "output_type": "stream",
     "text": [
      "Epoch 1/4, Loss: -0.1270, Train fit: 0.0819, Test fit: 0.0880, Avg Weight: 0.0002, Max Weight: 0.0007\n"
     ]
    },
    {
     "name": "stderr",
     "output_type": "stream",
     "text": [
      "Training:  75%|██████████████████████████▎        | 3/4 [00:39<00:13, 13.15s/it]"
     ]
    },
    {
     "name": "stdout",
     "output_type": "stream",
     "text": [
      "Epoch 3/4, Loss: -0.1565, Train fit: 0.0869, Test fit: 0.0921, Avg Weight: 0.0002, Max Weight: 0.0007\n"
     ]
    },
    {
     "name": "stderr",
     "output_type": "stream",
     "text": [
      "Training: 100%|███████████████████████████████████| 4/4 [00:52<00:00, 13.16s/it]"
     ]
    },
    {
     "name": "stdout",
     "output_type": "stream",
     "text": [
      "Epoch 4/4, Loss: -0.1672, Train fit: 0.1019, Test fit: 0.0966, Avg Weight: 0.0002, Max Weight: 0.0008\n",
      "Training completed! Best test Sharpe ratio: 0.0966\n",
      "Training from 2009-04 to 2009-09. Testing on 2009-10.\n"
     ]
    },
    {
     "name": "stderr",
     "output_type": "stream",
     "text": [
      "\n"
     ]
    },
    {
     "name": "stdout",
     "output_type": "stream",
     "text": [
      "['sprtrn_lag1', 'DlyRet_lag1', 'DlyRet_roll_10', 'DlyRet_roll_20', 'DlyRet_roll_30']\n",
      "Starting training with 409 train batches, 36 test batches\n"
     ]
    },
    {
     "name": "stderr",
     "output_type": "stream",
     "text": [
      "Training:  25%|████████▊                          | 1/4 [00:12<00:38, 12.98s/it]"
     ]
    },
    {
     "name": "stdout",
     "output_type": "stream",
     "text": [
      "Epoch 1/4, Loss: -0.1425, Train fit: 0.0878, Test fit: -0.0564, Avg Weight: 0.0002, Max Weight: 0.0024\n"
     ]
    },
    {
     "name": "stderr",
     "output_type": "stream",
     "text": [
      "Training:  75%|██████████████████████████▎        | 3/4 [00:39<00:13, 13.23s/it]"
     ]
    },
    {
     "name": "stdout",
     "output_type": "stream",
     "text": [
      "Epoch 3/4, Loss: -0.1672, Train fit: 0.0962, Test fit: -0.0519, Avg Weight: 0.0002, Max Weight: 0.0024\n"
     ]
    },
    {
     "name": "stderr",
     "output_type": "stream",
     "text": [
      "Training: 100%|███████████████████████████████████| 4/4 [00:52<00:00, 13.12s/it]"
     ]
    },
    {
     "name": "stdout",
     "output_type": "stream",
     "text": [
      "Epoch 4/4, Loss: -0.1744, Train fit: 0.1051, Test fit: -0.0442, Avg Weight: 0.0002, Max Weight: 0.0025\n",
      "Training completed! Best test Sharpe ratio: -0.0442\n",
      "Training from 2009-05 to 2009-10. Testing on 2009-11.\n"
     ]
    },
    {
     "name": "stderr",
     "output_type": "stream",
     "text": [
      "\n"
     ]
    },
    {
     "name": "stdout",
     "output_type": "stream",
     "text": [
      "['sprtrn_lag1', 'DlyRet_lag1', 'DlyRet_roll_10', 'DlyRet_roll_20', 'DlyRet_roll_30']\n",
      "Starting training with 411 train batches, 33 test batches\n"
     ]
    },
    {
     "name": "stderr",
     "output_type": "stream",
     "text": [
      "Training:  25%|████████▊                          | 1/4 [00:13<00:39, 13.19s/it]"
     ]
    },
    {
     "name": "stdout",
     "output_type": "stream",
     "text": [
      "Epoch 1/4, Loss: -0.0952, Train fit: 0.0488, Test fit: 0.0264, Avg Weight: 0.0003, Max Weight: 0.0356\n"
     ]
    },
    {
     "name": "stderr",
     "output_type": "stream",
     "text": [
      "Training:  75%|██████████████████████████▎        | 3/4 [00:39<00:13, 13.22s/it]"
     ]
    },
    {
     "name": "stdout",
     "output_type": "stream",
     "text": [
      "Epoch 3/4, Loss: -0.1254, Train fit: 0.0574, Test fit: 0.0263, Avg Weight: 0.0003, Max Weight: 0.0386\n"
     ]
    },
    {
     "name": "stderr",
     "output_type": "stream",
     "text": [
      "Training: 100%|███████████████████████████████████| 4/4 [00:52<00:00, 13.17s/it]"
     ]
    },
    {
     "name": "stdout",
     "output_type": "stream",
     "text": [
      "Epoch 4/4, Loss: -0.1350, Train fit: 0.0708, Test fit: 0.0322, Avg Weight: 0.0003, Max Weight: 0.0368\n",
      "Training completed! Best test Sharpe ratio: 0.0322\n",
      "Training from 2009-06 to 2009-11. Testing on 2009-12.\n"
     ]
    },
    {
     "name": "stderr",
     "output_type": "stream",
     "text": [
      "\n"
     ]
    },
    {
     "name": "stdout",
     "output_type": "stream",
     "text": [
      "['sprtrn_lag1', 'DlyRet_lag1', 'DlyRet_roll_10', 'DlyRet_roll_20', 'DlyRet_roll_30']\n",
      "Starting training with 410 train batches, 36 test batches\n"
     ]
    },
    {
     "name": "stderr",
     "output_type": "stream",
     "text": [
      "Training:  25%|████████▊                          | 1/4 [00:13<00:39, 13.19s/it]"
     ]
    },
    {
     "name": "stdout",
     "output_type": "stream",
     "text": [
      "Epoch 1/4, Loss: -0.0973, Train fit: 0.0406, Test fit: 0.0653, Avg Weight: 0.0002, Max Weight: 0.0019\n"
     ]
    },
    {
     "name": "stderr",
     "output_type": "stream",
     "text": [
      "Training:  75%|██████████████████████████▎        | 3/4 [00:39<00:13, 13.31s/it]"
     ]
    },
    {
     "name": "stdout",
     "output_type": "stream",
     "text": [
      "Epoch 3/4, Loss: -0.1191, Train fit: 0.0486, Test fit: 0.0698, Avg Weight: 0.0002, Max Weight: 0.0018\n"
     ]
    },
    {
     "name": "stderr",
     "output_type": "stream",
     "text": [
      "Training: 100%|███████████████████████████████████| 4/4 [00:52<00:00, 13.18s/it]"
     ]
    },
    {
     "name": "stdout",
     "output_type": "stream",
     "text": [
      "Epoch 4/4, Loss: -0.1235, Train fit: 0.0574, Test fit: 0.0735, Avg Weight: 0.0002, Max Weight: 0.0017\n",
      "Training completed! Best test Sharpe ratio: 0.0735\n",
      "Training from 2009-07 to 2009-12. Testing on 2010-01.\n"
     ]
    },
    {
     "name": "stderr",
     "output_type": "stream",
     "text": [
      "\n"
     ]
    },
    {
     "name": "stdout",
     "output_type": "stream",
     "text": [
      "['sprtrn_lag1', 'DlyRet_lag1', 'DlyRet_roll_10', 'DlyRet_roll_20', 'DlyRet_roll_30']\n",
      "Starting training with 410 train batches, 31 test batches\n"
     ]
    },
    {
     "name": "stderr",
     "output_type": "stream",
     "text": [
      "Training:  25%|████████▊                          | 1/4 [00:12<00:38, 12.92s/it]"
     ]
    },
    {
     "name": "stdout",
     "output_type": "stream",
     "text": [
      "Epoch 1/4, Loss: -0.1061, Train fit: 0.0536, Test fit: -0.0296, Avg Weight: 0.0002, Max Weight: 0.0011\n"
     ]
    },
    {
     "name": "stderr",
     "output_type": "stream",
     "text": [
      "Training:  75%|██████████████████████████▎        | 3/4 [00:39<00:13, 13.07s/it]"
     ]
    },
    {
     "name": "stdout",
     "output_type": "stream",
     "text": [
      "Epoch 3/4, Loss: -0.1318, Train fit: 0.0649, Test fit: -0.0293, Avg Weight: 0.0002, Max Weight: 0.0010\n"
     ]
    },
    {
     "name": "stderr",
     "output_type": "stream",
     "text": [
      "Training: 100%|███████████████████████████████████| 4/4 [00:52<00:00, 13.08s/it]"
     ]
    },
    {
     "name": "stdout",
     "output_type": "stream",
     "text": [
      "Epoch 4/4, Loss: -0.1398, Train fit: 0.0704, Test fit: -0.0260, Avg Weight: 0.0002, Max Weight: 0.0009\n",
      "Training completed! Best test Sharpe ratio: -0.0260\n",
      "Training from 2009-08 to 2010-01. Testing on 2010-02.\n"
     ]
    },
    {
     "name": "stderr",
     "output_type": "stream",
     "text": [
      "\n"
     ]
    },
    {
     "name": "stdout",
     "output_type": "stream",
     "text": [
      "['sprtrn_lag1', 'DlyRet_lag1', 'DlyRet_roll_10', 'DlyRet_roll_20', 'DlyRet_roll_30']\n",
      "Starting training with 401 train batches, 31 test batches\n"
     ]
    },
    {
     "name": "stderr",
     "output_type": "stream",
     "text": [
      "Training:  25%|████████▊                          | 1/4 [00:12<00:37, 12.45s/it]"
     ]
    },
    {
     "name": "stdout",
     "output_type": "stream",
     "text": [
      "Epoch 1/4, Loss: -0.0551, Train fit: 0.0170, Test fit: 0.0348, Avg Weight: 0.0002, Max Weight: 0.0017\n"
     ]
    },
    {
     "name": "stderr",
     "output_type": "stream",
     "text": [
      "Training:  75%|██████████████████████████▎        | 3/4 [00:38<00:12, 12.92s/it]"
     ]
    },
    {
     "name": "stdout",
     "output_type": "stream",
     "text": [
      "Epoch 3/4, Loss: -0.0952, Train fit: 0.0314, Test fit: 0.0559, Avg Weight: 0.0002, Max Weight: 0.0012\n"
     ]
    },
    {
     "name": "stderr",
     "output_type": "stream",
     "text": [
      "Training: 100%|███████████████████████████████████| 4/4 [00:51<00:00, 12.81s/it]"
     ]
    },
    {
     "name": "stdout",
     "output_type": "stream",
     "text": [
      "Epoch 4/4, Loss: -0.1085, Train fit: 0.0357, Test fit: 0.0565, Avg Weight: 0.0002, Max Weight: 0.0012\n",
      "Training completed! Best test Sharpe ratio: 0.0565\n",
      "Training from 2009-09 to 2010-02. Testing on 2010-03.\n"
     ]
    },
    {
     "name": "stderr",
     "output_type": "stream",
     "text": [
      "\n"
     ]
    },
    {
     "name": "stdout",
     "output_type": "stream",
     "text": [
      "['sprtrn_lag1', 'DlyRet_lag1', 'DlyRet_roll_10', 'DlyRet_roll_20', 'DlyRet_roll_30']\n",
      "Starting training with 394 train batches, 37 test batches\n"
     ]
    },
    {
     "name": "stderr",
     "output_type": "stream",
     "text": [
      "Training:  25%|████████▊                          | 1/4 [00:12<00:37, 12.65s/it]"
     ]
    },
    {
     "name": "stdout",
     "output_type": "stream",
     "text": [
      "Epoch 1/4, Loss: -0.0881, Train fit: 0.0277, Test fit: 0.0964, Avg Weight: 0.0002, Max Weight: 0.0007\n"
     ]
    },
    {
     "name": "stderr",
     "output_type": "stream",
     "text": [
      "Training:  75%|██████████████████████████▎        | 3/4 [00:38<00:12, 12.76s/it]"
     ]
    },
    {
     "name": "stdout",
     "output_type": "stream",
     "text": [
      "Epoch 3/4, Loss: -0.0975, Train fit: 0.0308, Test fit: 0.0977, Avg Weight: 0.0002, Max Weight: 0.0005\n"
     ]
    },
    {
     "name": "stderr",
     "output_type": "stream",
     "text": [
      "Training: 100%|███████████████████████████████████| 4/4 [00:51<00:00, 12.78s/it]"
     ]
    },
    {
     "name": "stdout",
     "output_type": "stream",
     "text": [
      "Epoch 4/4, Loss: -0.1070, Train fit: 0.0348, Test fit: 0.0997, Avg Weight: 0.0002, Max Weight: 0.0005\n",
      "Training completed! Best test Sharpe ratio: 0.0997\n",
      "Training from 2009-10 to 2010-03. Testing on 2010-04.\n"
     ]
    },
    {
     "name": "stderr",
     "output_type": "stream",
     "text": [
      "\n"
     ]
    },
    {
     "name": "stdout",
     "output_type": "stream",
     "text": [
      "['sprtrn_lag1', 'DlyRet_lag1', 'DlyRet_roll_10', 'DlyRet_roll_20', 'DlyRet_roll_30']\n",
      "Starting training with 401 train batches, 34 test batches\n"
     ]
    },
    {
     "name": "stderr",
     "output_type": "stream",
     "text": [
      "Training:  25%|████████▊                          | 1/4 [00:12<00:37, 12.61s/it]"
     ]
    },
    {
     "name": "stdout",
     "output_type": "stream",
     "text": [
      "Epoch 1/4, Loss: -0.0853, Train fit: 0.0295, Test fit: 0.0633, Avg Weight: 0.0002, Max Weight: 0.0007\n"
     ]
    },
    {
     "name": "stderr",
     "output_type": "stream",
     "text": [
      "Training:  75%|██████████████████████████▎        | 3/4 [00:38<00:12, 12.88s/it]"
     ]
    },
    {
     "name": "stdout",
     "output_type": "stream",
     "text": [
      "Epoch 3/4, Loss: -0.0915, Train fit: 0.0294, Test fit: 0.0664, Avg Weight: 0.0002, Max Weight: 0.0006\n"
     ]
    },
    {
     "name": "stderr",
     "output_type": "stream",
     "text": [
      "Training: 100%|███████████████████████████████████| 4/4 [00:51<00:00, 12.93s/it]"
     ]
    },
    {
     "name": "stdout",
     "output_type": "stream",
     "text": [
      "Epoch 4/4, Loss: -0.1082, Train fit: 0.0308, Test fit: 0.0658, Avg Weight: 0.0002, Max Weight: 0.0006\n",
      "Training completed! Best test Sharpe ratio: 0.0664\n",
      "Training from 2009-11 to 2010-04. Testing on 2010-05.\n"
     ]
    },
    {
     "name": "stderr",
     "output_type": "stream",
     "text": [
      "\n"
     ]
    },
    {
     "name": "stdout",
     "output_type": "stream",
     "text": [
      "['sprtrn_lag1', 'DlyRet_lag1', 'DlyRet_roll_10', 'DlyRet_roll_20', 'DlyRet_roll_30']\n",
      "Starting training with 398 train batches, 33 test batches\n"
     ]
    },
    {
     "name": "stderr",
     "output_type": "stream",
     "text": [
      "Training:  25%|████████▊                          | 1/4 [00:12<00:37, 12.63s/it]"
     ]
    },
    {
     "name": "stdout",
     "output_type": "stream",
     "text": [
      "Epoch 1/4, Loss: -0.1191, Train fit: 0.0572, Test fit: -0.0813, Avg Weight: 0.0003, Max Weight: 0.0030\n"
     ]
    },
    {
     "name": "stderr",
     "output_type": "stream",
     "text": [
      "Training:  75%|██████████████████████████▎        | 3/4 [00:37<00:12, 12.59s/it]"
     ]
    },
    {
     "name": "stdout",
     "output_type": "stream",
     "text": [
      "Epoch 3/4, Loss: -0.1355, Train fit: 0.0587, Test fit: -0.0819, Avg Weight: 0.0003, Max Weight: 0.0030\n"
     ]
    },
    {
     "name": "stderr",
     "output_type": "stream",
     "text": [
      "Training: 100%|███████████████████████████████████| 4/4 [00:51<00:00, 12.76s/it]"
     ]
    },
    {
     "name": "stdout",
     "output_type": "stream",
     "text": [
      "Epoch 4/4, Loss: -0.1371, Train fit: 0.0613, Test fit: -0.0767, Avg Weight: 0.0003, Max Weight: 0.0030\n",
      "Training completed! Best test Sharpe ratio: -0.0767\n",
      "Training from 2009-12 to 2010-05. Testing on 2010-06.\n"
     ]
    },
    {
     "name": "stderr",
     "output_type": "stream",
     "text": [
      "\n"
     ]
    },
    {
     "name": "stdout",
     "output_type": "stream",
     "text": [
      "['sprtrn_lag1', 'DlyRet_lag1', 'DlyRet_roll_10', 'DlyRet_roll_20', 'DlyRet_roll_30']\n",
      "Starting training with 398 train batches, 36 test batches\n"
     ]
    },
    {
     "name": "stderr",
     "output_type": "stream",
     "text": [
      "Training:  25%|████████▊                          | 1/4 [00:12<00:38, 12.75s/it]"
     ]
    },
    {
     "name": "stdout",
     "output_type": "stream",
     "text": [
      "Epoch 1/4, Loss: -0.0891, Train fit: 0.0235, Test fit: -0.0543, Avg Weight: 0.0002, Max Weight: 0.0019\n"
     ]
    },
    {
     "name": "stderr",
     "output_type": "stream",
     "text": [
      "Training:  75%|██████████████████████████▎        | 3/4 [00:38<00:12, 12.81s/it]"
     ]
    },
    {
     "name": "stdout",
     "output_type": "stream",
     "text": [
      "Epoch 3/4, Loss: -0.1037, Train fit: 0.0270, Test fit: -0.0453, Avg Weight: 0.0002, Max Weight: 0.0015\n"
     ]
    },
    {
     "name": "stderr",
     "output_type": "stream",
     "text": [
      "Training: 100%|███████████████████████████████████| 4/4 [00:51<00:00, 12.93s/it]"
     ]
    },
    {
     "name": "stdout",
     "output_type": "stream",
     "text": [
      "Epoch 4/4, Loss: -0.1092, Train fit: 0.0298, Test fit: -0.0321, Avg Weight: 0.0002, Max Weight: 0.0015\n",
      "Training completed! Best test Sharpe ratio: -0.0321\n",
      "Training from 2010-01 to 2010-06. Testing on 2010-07.\n"
     ]
    },
    {
     "name": "stderr",
     "output_type": "stream",
     "text": [
      "\n"
     ]
    },
    {
     "name": "stdout",
     "output_type": "stream",
     "text": [
      "['sprtrn_lag1', 'DlyRet_lag1', 'DlyRet_roll_10', 'DlyRet_roll_20', 'DlyRet_roll_30']\n",
      "Starting training with 398 train batches, 34 test batches\n"
     ]
    },
    {
     "name": "stderr",
     "output_type": "stream",
     "text": [
      "Training:  25%|████████▊                          | 1/4 [00:12<00:38, 12.74s/it]"
     ]
    },
    {
     "name": "stdout",
     "output_type": "stream",
     "text": [
      "Epoch 1/4, Loss: -0.0757, Train fit: 0.0040, Test fit: 0.0641, Avg Weight: 0.0002, Max Weight: 0.0013\n"
     ]
    },
    {
     "name": "stderr",
     "output_type": "stream",
     "text": [
      "Training:  75%|██████████████████████████▎        | 3/4 [00:38<00:12, 12.82s/it]"
     ]
    },
    {
     "name": "stdout",
     "output_type": "stream",
     "text": [
      "Epoch 3/4, Loss: -0.0640, Train fit: 0.0054, Test fit: 0.0740, Avg Weight: 0.0002, Max Weight: 0.0009\n"
     ]
    },
    {
     "name": "stderr",
     "output_type": "stream",
     "text": [
      "Training: 100%|███████████████████████████████████| 4/4 [00:51<00:00, 12.76s/it]"
     ]
    },
    {
     "name": "stdout",
     "output_type": "stream",
     "text": [
      "Epoch 4/4, Loss: -0.0839, Train fit: 0.0083, Test fit: 0.0771, Avg Weight: 0.0002, Max Weight: 0.0008\n",
      "Training completed! Best test Sharpe ratio: 0.0771\n",
      "Training from 2010-02 to 2010-07. Testing on 2010-08.\n"
     ]
    },
    {
     "name": "stderr",
     "output_type": "stream",
     "text": [
      "\n"
     ]
    },
    {
     "name": "stdout",
     "output_type": "stream",
     "text": [
      "['sprtrn_lag1', 'DlyRet_lag1', 'DlyRet_roll_10', 'DlyRet_roll_20', 'DlyRet_roll_30']\n",
      "Starting training with 405 train batches, 36 test batches\n"
     ]
    },
    {
     "name": "stderr",
     "output_type": "stream",
     "text": [
      "Training:  25%|████████▊                          | 1/4 [00:13<00:39, 13.12s/it]"
     ]
    },
    {
     "name": "stdout",
     "output_type": "stream",
     "text": [
      "Epoch 1/4, Loss: -0.0942, Train fit: 0.0199, Test fit: -0.0430, Avg Weight: 0.0002, Max Weight: 0.0014\n"
     ]
    },
    {
     "name": "stderr",
     "output_type": "stream",
     "text": [
      "Training:  75%|██████████████████████████▎        | 3/4 [00:39<00:13, 13.16s/it]"
     ]
    },
    {
     "name": "stdout",
     "output_type": "stream",
     "text": [
      "Epoch 3/4, Loss: -0.1032, Train fit: 0.0188, Test fit: -0.0288, Avg Weight: 0.0002, Max Weight: 0.0014\n"
     ]
    },
    {
     "name": "stderr",
     "output_type": "stream",
     "text": [
      "Training: 100%|███████████████████████████████████| 4/4 [00:52<00:00, 13.14s/it]"
     ]
    },
    {
     "name": "stdout",
     "output_type": "stream",
     "text": [
      "Epoch 4/4, Loss: -0.1036, Train fit: 0.0212, Test fit: -0.0296, Avg Weight: 0.0002, Max Weight: 0.0014\n",
      "Training completed! Best test Sharpe ratio: -0.0288\n",
      "Training from 2010-03 to 2010-08. Testing on 2010-09.\n"
     ]
    },
    {
     "name": "stderr",
     "output_type": "stream",
     "text": [
      "\n"
     ]
    },
    {
     "name": "stdout",
     "output_type": "stream",
     "text": [
      "['sprtrn_lag1', 'DlyRet_lag1', 'DlyRet_roll_10', 'DlyRet_roll_20', 'DlyRet_roll_30']\n",
      "Starting training with 415 train batches, 34 test batches\n"
     ]
    },
    {
     "name": "stderr",
     "output_type": "stream",
     "text": [
      "Training:  25%|████████▊                          | 1/4 [00:13<00:39, 13.12s/it]"
     ]
    },
    {
     "name": "stdout",
     "output_type": "stream",
     "text": [
      "Epoch 1/4, Loss: -0.0805, Train fit: 0.0064, Test fit: 0.0993, Avg Weight: 0.0002, Max Weight: 0.0013\n"
     ]
    },
    {
     "name": "stderr",
     "output_type": "stream",
     "text": [
      "Training:  75%|██████████████████████████▎        | 3/4 [00:39<00:13, 13.36s/it]"
     ]
    },
    {
     "name": "stdout",
     "output_type": "stream",
     "text": [
      "Epoch 3/4, Loss: -0.0827, Train fit: 0.0102, Test fit: 0.1051, Avg Weight: 0.0002, Max Weight: 0.0012\n"
     ]
    },
    {
     "name": "stderr",
     "output_type": "stream",
     "text": [
      "Training: 100%|███████████████████████████████████| 4/4 [00:53<00:00, 13.29s/it]"
     ]
    },
    {
     "name": "stdout",
     "output_type": "stream",
     "text": [
      "Epoch 4/4, Loss: -0.0865, Train fit: 0.0129, Test fit: 0.1072, Avg Weight: 0.0002, Max Weight: 0.0013\n",
      "Training completed! Best test Sharpe ratio: 0.1072\n",
      "Training from 2010-04 to 2010-09. Testing on 2010-10.\n"
     ]
    },
    {
     "name": "stderr",
     "output_type": "stream",
     "text": [
      "\n"
     ]
    },
    {
     "name": "stdout",
     "output_type": "stream",
     "text": [
      "['sprtrn_lag1', 'DlyRet_lag1', 'DlyRet_roll_10', 'DlyRet_roll_20', 'DlyRet_roll_30']\n",
      "Starting training with 409 train batches, 34 test batches\n"
     ]
    },
    {
     "name": "stderr",
     "output_type": "stream",
     "text": [
      "Training:  25%|████████▊                          | 1/4 [00:13<00:40, 13.46s/it]"
     ]
    },
    {
     "name": "stdout",
     "output_type": "stream",
     "text": [
      "Epoch 1/4, Loss: -0.0696, Train fit: 0.0106, Test fit: 0.0655, Avg Weight: 0.0002, Max Weight: 0.0007\n"
     ]
    },
    {
     "name": "stderr",
     "output_type": "stream",
     "text": [
      "Training:  75%|██████████████████████████▎        | 3/4 [00:39<00:13, 13.27s/it]"
     ]
    },
    {
     "name": "stdout",
     "output_type": "stream",
     "text": [
      "Epoch 3/4, Loss: -0.0865, Train fit: 0.0143, Test fit: 0.0650, Avg Weight: 0.0002, Max Weight: 0.0007\n"
     ]
    },
    {
     "name": "stderr",
     "output_type": "stream",
     "text": [
      "Training: 100%|███████████████████████████████████| 4/4 [00:52<00:00, 13.21s/it]"
     ]
    },
    {
     "name": "stdout",
     "output_type": "stream",
     "text": [
      "Epoch 4/4, Loss: -0.0873, Train fit: 0.0168, Test fit: 0.0690, Avg Weight: 0.0002, Max Weight: 0.0008\n",
      "Training completed! Best test Sharpe ratio: 0.0690\n",
      "Training from 2010-05 to 2010-10. Testing on 2010-11.\n"
     ]
    },
    {
     "name": "stderr",
     "output_type": "stream",
     "text": [
      "\n"
     ]
    },
    {
     "name": "stdout",
     "output_type": "stream",
     "text": [
      "['sprtrn_lag1', 'DlyRet_lag1', 'DlyRet_roll_10', 'DlyRet_roll_20', 'DlyRet_roll_30']\n",
      "Starting training with 409 train batches, 34 test batches\n"
     ]
    },
    {
     "name": "stderr",
     "output_type": "stream",
     "text": [
      "Training:  25%|████████▊                          | 1/4 [00:13<00:39, 13.29s/it]"
     ]
    },
    {
     "name": "stdout",
     "output_type": "stream",
     "text": [
      "Epoch 1/4, Loss: -0.0708, Train fit: 0.0082, Test fit: 0.0087, Avg Weight: 0.0002, Max Weight: 0.0005\n"
     ]
    },
    {
     "name": "stderr",
     "output_type": "stream",
     "text": [
      "Training:  75%|██████████████████████████▎        | 3/4 [00:39<00:13, 13.27s/it]"
     ]
    },
    {
     "name": "stdout",
     "output_type": "stream",
     "text": [
      "Epoch 3/4, Loss: -0.0856, Train fit: 0.0106, Test fit: 0.0116, Avg Weight: 0.0002, Max Weight: 0.0005\n"
     ]
    },
    {
     "name": "stderr",
     "output_type": "stream",
     "text": [
      "Training: 100%|███████████████████████████████████| 4/4 [00:52<00:00, 13.19s/it]"
     ]
    },
    {
     "name": "stdout",
     "output_type": "stream",
     "text": [
      "Epoch 4/4, Loss: -0.0869, Train fit: 0.0122, Test fit: 0.0111, Avg Weight: 0.0002, Max Weight: 0.0005\n",
      "Training completed! Best test Sharpe ratio: 0.0116\n",
      "Training from 2010-06 to 2010-11. Testing on 2010-12.\n"
     ]
    },
    {
     "name": "stderr",
     "output_type": "stream",
     "text": [
      "\n"
     ]
    },
    {
     "name": "stdout",
     "output_type": "stream",
     "text": [
      "['sprtrn_lag1', 'DlyRet_lag1', 'DlyRet_roll_10', 'DlyRet_roll_20', 'DlyRet_roll_30']\n",
      "Starting training with 412 train batches, 36 test batches\n"
     ]
    },
    {
     "name": "stderr",
     "output_type": "stream",
     "text": [
      "Training:  25%|████████▊                          | 1/4 [00:13<00:40, 13.55s/it]"
     ]
    },
    {
     "name": "stdout",
     "output_type": "stream",
     "text": [
      "Epoch 1/4, Loss: -0.0744, Train fit: 0.0211, Test fit: 0.0821, Avg Weight: 0.0002, Max Weight: 0.0052\n"
     ]
    },
    {
     "name": "stderr",
     "output_type": "stream",
     "text": [
      "Training:  75%|██████████████████████████▎        | 3/4 [00:40<00:13, 13.45s/it]"
     ]
    },
    {
     "name": "stdout",
     "output_type": "stream",
     "text": [
      "Epoch 3/4, Loss: -0.0959, Train fit: 0.0283, Test fit: 0.0988, Avg Weight: 0.0002, Max Weight: 0.0008\n"
     ]
    },
    {
     "name": "stderr",
     "output_type": "stream",
     "text": [
      "Training: 100%|███████████████████████████████████| 4/4 [00:53<00:00, 13.39s/it]"
     ]
    },
    {
     "name": "stdout",
     "output_type": "stream",
     "text": [
      "Epoch 4/4, Loss: -0.1027, Train fit: 0.0299, Test fit: 0.0995, Avg Weight: 0.0002, Max Weight: 0.0008\n",
      "Training completed! Best test Sharpe ratio: 0.1008\n",
      "Training from 2010-07 to 2010-12. Testing on 2011-01.\n"
     ]
    },
    {
     "name": "stderr",
     "output_type": "stream",
     "text": [
      "\n"
     ]
    },
    {
     "name": "stdout",
     "output_type": "stream",
     "text": [
      "['sprtrn_lag1', 'DlyRet_lag1', 'DlyRet_roll_10', 'DlyRet_roll_20', 'DlyRet_roll_30']\n",
      "Starting training with 413 train batches, 33 test batches\n"
     ]
    },
    {
     "name": "stderr",
     "output_type": "stream",
     "text": [
      "Training:  25%|████████▊                          | 1/4 [00:13<00:40, 13.49s/it]"
     ]
    },
    {
     "name": "stdout",
     "output_type": "stream",
     "text": [
      "Epoch 1/4, Loss: -0.0952, Train fit: 0.0583, Test fit: 0.0191, Avg Weight: 0.0003, Max Weight: 0.0020\n"
     ]
    },
    {
     "name": "stderr",
     "output_type": "stream",
     "text": [
      "Training:  75%|██████████████████████████▎        | 3/4 [00:39<00:13, 13.30s/it]"
     ]
    },
    {
     "name": "stdout",
     "output_type": "stream",
     "text": [
      "Epoch 3/4, Loss: -0.1326, Train fit: 0.0603, Test fit: 0.0201, Avg Weight: 0.0003, Max Weight: 0.0015\n"
     ]
    },
    {
     "name": "stderr",
     "output_type": "stream",
     "text": [
      "Training: 100%|███████████████████████████████████| 4/4 [00:53<00:00, 13.27s/it]"
     ]
    },
    {
     "name": "stdout",
     "output_type": "stream",
     "text": [
      "Epoch 4/4, Loss: -0.1352, Train fit: 0.0608, Test fit: 0.0203, Avg Weight: 0.0003, Max Weight: 0.0015\n",
      "Training completed! Best test Sharpe ratio: 0.0203\n",
      "Training from 2010-08 to 2011-01. Testing on 2011-02.\n"
     ]
    },
    {
     "name": "stderr",
     "output_type": "stream",
     "text": [
      "\n"
     ]
    },
    {
     "name": "stdout",
     "output_type": "stream",
     "text": [
      "['sprtrn_lag1', 'DlyRet_lag1', 'DlyRet_roll_10', 'DlyRet_roll_20', 'DlyRet_roll_30']\n",
      "Starting training with 409 train batches, 31 test batches\n"
     ]
    },
    {
     "name": "stderr",
     "output_type": "stream",
     "text": [
      "Training:  25%|████████▊                          | 1/4 [00:13<00:39, 13.09s/it]"
     ]
    },
    {
     "name": "stdout",
     "output_type": "stream",
     "text": [
      "Epoch 1/4, Loss: -0.1030, Train fit: 0.0456, Test fit: 0.0624, Avg Weight: 0.0002, Max Weight: 0.0007\n"
     ]
    },
    {
     "name": "stderr",
     "output_type": "stream",
     "text": [
      "Training:  75%|██████████████████████████▎        | 3/4 [00:38<00:12, 12.84s/it]"
     ]
    },
    {
     "name": "stdout",
     "output_type": "stream",
     "text": [
      "Epoch 3/4, Loss: -0.1220, Train fit: 0.0478, Test fit: 0.0649, Avg Weight: 0.0002, Max Weight: 0.0004\n"
     ]
    },
    {
     "name": "stderr",
     "output_type": "stream",
     "text": [
      "Training: 100%|███████████████████████████████████| 4/4 [00:51<00:00, 12.90s/it]"
     ]
    },
    {
     "name": "stdout",
     "output_type": "stream",
     "text": [
      "Epoch 4/4, Loss: -0.1222, Train fit: 0.0484, Test fit: 0.0651, Avg Weight: 0.0002, Max Weight: 0.0004\n",
      "Training completed! Best test Sharpe ratio: 0.0651\n",
      "Training from 2010-09 to 2011-02. Testing on 2011-03.\n"
     ]
    },
    {
     "name": "stderr",
     "output_type": "stream",
     "text": [
      "\n"
     ]
    },
    {
     "name": "stdout",
     "output_type": "stream",
     "text": [
      "['sprtrn_lag1', 'DlyRet_lag1', 'DlyRet_roll_10', 'DlyRet_roll_20', 'DlyRet_roll_30']\n",
      "Starting training with 400 train batches, 38 test batches\n"
     ]
    },
    {
     "name": "stderr",
     "output_type": "stream",
     "text": [
      "Training:  25%|████████▊                          | 1/4 [00:13<00:39, 13.09s/it]"
     ]
    },
    {
     "name": "stdout",
     "output_type": "stream",
     "text": [
      "Epoch 1/4, Loss: -0.1238, Train fit: 0.0713, Test fit: 0.0159, Avg Weight: 0.0002, Max Weight: 0.0025\n"
     ]
    },
    {
     "name": "stderr",
     "output_type": "stream",
     "text": [
      "Training:  75%|██████████████████████████▎        | 3/4 [00:38<00:12, 12.91s/it]"
     ]
    },
    {
     "name": "stdout",
     "output_type": "stream",
     "text": [
      "Epoch 3/4, Loss: -0.1496, Train fit: 0.0750, Test fit: 0.0153, Avg Weight: 0.0002, Max Weight: 0.0025\n"
     ]
    },
    {
     "name": "stderr",
     "output_type": "stream",
     "text": [
      "Training: 100%|███████████████████████████████████| 4/4 [00:51<00:00, 12.91s/it]"
     ]
    },
    {
     "name": "stdout",
     "output_type": "stream",
     "text": [
      "Epoch 4/4, Loss: -0.1502, Train fit: 0.0750, Test fit: 0.0157, Avg Weight: 0.0002, Max Weight: 0.0025\n",
      "Training completed! Best test Sharpe ratio: 0.0159\n",
      "Training from 2010-10 to 2011-03. Testing on 2011-04.\n"
     ]
    },
    {
     "name": "stderr",
     "output_type": "stream",
     "text": [
      "\n"
     ]
    },
    {
     "name": "stdout",
     "output_type": "stream",
     "text": [
      "['sprtrn_lag1', 'DlyRet_lag1', 'DlyRet_roll_10', 'DlyRet_roll_20', 'DlyRet_roll_30']\n",
      "Starting training with 407 train batches, 33 test batches\n"
     ]
    },
    {
     "name": "stderr",
     "output_type": "stream",
     "text": [
      "Training:  25%|████████▊                          | 1/4 [00:12<00:38, 12.94s/it]"
     ]
    },
    {
     "name": "stdout",
     "output_type": "stream",
     "text": [
      "Epoch 1/4, Loss: -0.1024, Train fit: 0.0297, Test fit: 0.0495, Avg Weight: 0.0002, Max Weight: 0.0013\n"
     ]
    },
    {
     "name": "stderr",
     "output_type": "stream",
     "text": [
      "Training:  75%|██████████████████████████▎        | 3/4 [00:38<00:12, 12.88s/it]"
     ]
    },
    {
     "name": "stdout",
     "output_type": "stream",
     "text": [
      "Epoch 3/4, Loss: -0.1226, Train fit: 0.0451, Test fit: 0.0411, Avg Weight: 0.0002, Max Weight: 0.0013\n"
     ]
    },
    {
     "name": "stderr",
     "output_type": "stream",
     "text": [
      "Training: 100%|███████████████████████████████████| 4/4 [00:52<00:00, 13.02s/it]"
     ]
    },
    {
     "name": "stdout",
     "output_type": "stream",
     "text": [
      "Epoch 4/4, Loss: -0.1262, Train fit: 0.0468, Test fit: 0.0420, Avg Weight: 0.0002, Max Weight: 0.0013\n",
      "Training completed! Best test Sharpe ratio: 0.0495\n",
      "Training from 2010-11 to 2011-04. Testing on 2011-05.\n"
     ]
    },
    {
     "name": "stderr",
     "output_type": "stream",
     "text": [
      "\n"
     ]
    },
    {
     "name": "stdout",
     "output_type": "stream",
     "text": [
      "['sprtrn_lag1', 'DlyRet_lag1', 'DlyRet_roll_10', 'DlyRet_roll_20', 'DlyRet_roll_30']\n",
      "Starting training with 404 train batches, 35 test batches\n"
     ]
    },
    {
     "name": "stderr",
     "output_type": "stream",
     "text": [
      "Training:  25%|████████▊                          | 1/4 [00:13<00:39, 13.00s/it]"
     ]
    },
    {
     "name": "stdout",
     "output_type": "stream",
     "text": [
      "Epoch 1/4, Loss: -0.1057, Train fit: 0.0399, Test fit: -0.0120, Avg Weight: 0.0003, Max Weight: 0.0050\n"
     ]
    },
    {
     "name": "stderr",
     "output_type": "stream",
     "text": [
      "Training:  75%|██████████████████████████▎        | 3/4 [00:38<00:12, 12.91s/it]"
     ]
    },
    {
     "name": "stdout",
     "output_type": "stream",
     "text": [
      "Epoch 3/4, Loss: -0.1205, Train fit: 0.0440, Test fit: -0.0155, Avg Weight: 0.0003, Max Weight: 0.0050\n"
     ]
    },
    {
     "name": "stderr",
     "output_type": "stream",
     "text": [
      "Training: 100%|███████████████████████████████████| 4/4 [00:51<00:00, 12.96s/it]"
     ]
    },
    {
     "name": "stdout",
     "output_type": "stream",
     "text": [
      "Epoch 4/4, Loss: -0.1222, Train fit: 0.0442, Test fit: -0.0151, Avg Weight: 0.0003, Max Weight: 0.0050\n",
      "Training completed! Best test Sharpe ratio: -0.0120\n",
      "Training from 2010-12 to 2011-05. Testing on 2011-06.\n"
     ]
    },
    {
     "name": "stderr",
     "output_type": "stream",
     "text": [
      "\n"
     ]
    },
    {
     "name": "stdout",
     "output_type": "stream",
     "text": [
      "['sprtrn_lag1', 'DlyRet_lag1', 'DlyRet_roll_10', 'DlyRet_roll_20', 'DlyRet_roll_30']\n",
      "Starting training with 405 train batches, 36 test batches\n"
     ]
    },
    {
     "name": "stderr",
     "output_type": "stream",
     "text": [
      "Training:  25%|████████▊                          | 1/4 [00:13<00:39, 13.28s/it]"
     ]
    },
    {
     "name": "stdout",
     "output_type": "stream",
     "text": [
      "Epoch 1/4, Loss: -0.1037, Train fit: 0.0292, Test fit: -0.0184, Avg Weight: 0.0002, Max Weight: 0.0011\n"
     ]
    },
    {
     "name": "stderr",
     "output_type": "stream",
     "text": [
      "Training:  75%|██████████████████████████▎        | 3/4 [00:39<00:13, 13.21s/it]"
     ]
    },
    {
     "name": "stdout",
     "output_type": "stream",
     "text": [
      "Epoch 3/4, Loss: -0.1140, Train fit: 0.0337, Test fit: -0.0219, Avg Weight: 0.0002, Max Weight: 0.0011\n"
     ]
    },
    {
     "name": "stderr",
     "output_type": "stream",
     "text": [
      "Training: 100%|███████████████████████████████████| 4/4 [00:52<00:00, 13.22s/it]"
     ]
    },
    {
     "name": "stdout",
     "output_type": "stream",
     "text": [
      "Epoch 4/4, Loss: -0.1163, Train fit: 0.0340, Test fit: -0.0206, Avg Weight: 0.0002, Max Weight: 0.0011\n",
      "Training completed! Best test Sharpe ratio: -0.0184\n",
      "Training from 2011-01 to 2011-06. Testing on 2011-07.\n"
     ]
    },
    {
     "name": "stderr",
     "output_type": "stream",
     "text": [
      "\n"
     ]
    },
    {
     "name": "stdout",
     "output_type": "stream",
     "text": [
      "['sprtrn_lag1', 'DlyRet_lag1', 'DlyRet_roll_10', 'DlyRet_roll_20', 'DlyRet_roll_30']\n",
      "Starting training with 406 train batches, 33 test batches\n"
     ]
    },
    {
     "name": "stderr",
     "output_type": "stream",
     "text": [
      "Training:  25%|████████▊                          | 1/4 [00:12<00:38, 12.72s/it]"
     ]
    },
    {
     "name": "stdout",
     "output_type": "stream",
     "text": [
      "Epoch 1/4, Loss: -0.0899, Train fit: 0.0129, Test fit: -0.0261, Avg Weight: 0.0002, Max Weight: 0.0011\n"
     ]
    },
    {
     "name": "stderr",
     "output_type": "stream",
     "text": [
      "Training:  75%|██████████████████████████▎        | 3/4 [00:39<00:13, 13.03s/it]"
     ]
    },
    {
     "name": "stdout",
     "output_type": "stream",
     "text": [
      "Epoch 3/4, Loss: -0.0920, Train fit: 0.0137, Test fit: -0.0257, Avg Weight: 0.0002, Max Weight: 0.0013\n"
     ]
    },
    {
     "name": "stderr",
     "output_type": "stream",
     "text": [
      "Training: 100%|███████████████████████████████████| 4/4 [00:52<00:00, 13.04s/it]"
     ]
    },
    {
     "name": "stdout",
     "output_type": "stream",
     "text": [
      "Epoch 4/4, Loss: -0.0941, Train fit: 0.0146, Test fit: -0.0263, Avg Weight: 0.0002, Max Weight: 0.0013\n",
      "Training completed! Best test Sharpe ratio: -0.0256\n",
      "Training from 2011-02 to 2011-07. Testing on 2011-08.\n"
     ]
    },
    {
     "name": "stderr",
     "output_type": "stream",
     "text": [
      "\n"
     ]
    },
    {
     "name": "stdout",
     "output_type": "stream",
     "text": [
      "['sprtrn_lag1', 'DlyRet_lag1', 'DlyRet_roll_10', 'DlyRet_roll_20', 'DlyRet_roll_30']\n",
      "Starting training with 407 train batches, 38 test batches\n"
     ]
    },
    {
     "name": "stderr",
     "output_type": "stream",
     "text": [
      "Training:  25%|████████▊                          | 1/4 [00:12<00:38, 12.95s/it]"
     ]
    },
    {
     "name": "stdout",
     "output_type": "stream",
     "text": [
      "Epoch 1/4, Loss: -0.0791, Train fit: 0.0071, Test fit: -0.0187, Avg Weight: 0.0002, Max Weight: 0.0011\n"
     ]
    },
    {
     "name": "stderr",
     "output_type": "stream",
     "text": [
      "Training:  75%|██████████████████████████▎        | 3/4 [00:39<00:13, 13.34s/it]"
     ]
    },
    {
     "name": "stdout",
     "output_type": "stream",
     "text": [
      "Epoch 3/4, Loss: -0.0836, Train fit: 0.0078, Test fit: -0.0202, Avg Weight: 0.0002, Max Weight: 0.0010\n"
     ]
    },
    {
     "name": "stderr",
     "output_type": "stream",
     "text": [
      "Training: 100%|███████████████████████████████████| 4/4 [00:53<00:00, 13.31s/it]"
     ]
    },
    {
     "name": "stdout",
     "output_type": "stream",
     "text": [
      "Epoch 4/4, Loss: -0.0872, Train fit: 0.0087, Test fit: -0.0225, Avg Weight: 0.0002, Max Weight: 0.0010\n",
      "Training completed! Best test Sharpe ratio: -0.0185\n",
      "Training from 2011-03 to 2011-08. Testing on 2011-09.\n"
     ]
    },
    {
     "name": "stderr",
     "output_type": "stream",
     "text": [
      "\n"
     ]
    },
    {
     "name": "stdout",
     "output_type": "stream",
     "text": [
      "['sprtrn_lag1', 'DlyRet_lag1', 'DlyRet_roll_10', 'DlyRet_roll_20', 'DlyRet_roll_30']\n",
      "Starting training with 420 train batches, 35 test batches\n"
     ]
    },
    {
     "name": "stderr",
     "output_type": "stream",
     "text": [
      "Training:  25%|████████▊                          | 1/4 [00:13<00:40, 13.45s/it]"
     ]
    },
    {
     "name": "stdout",
     "output_type": "stream",
     "text": [
      "Epoch 1/4, Loss: -0.0646, Train fit: -0.0055, Test fit: -0.0723, Avg Weight: 0.0002, Max Weight: 0.0017\n"
     ]
    },
    {
     "name": "stderr",
     "output_type": "stream",
     "text": [
      "Training:  75%|██████████████████████████▎        | 3/4 [00:40<00:13, 13.56s/it]"
     ]
    },
    {
     "name": "stdout",
     "output_type": "stream",
     "text": [
      "Epoch 3/4, Loss: -0.0761, Train fit: -0.0020, Test fit: -0.0631, Avg Weight: 0.0002, Max Weight: 0.0018\n"
     ]
    },
    {
     "name": "stderr",
     "output_type": "stream",
     "text": [
      "Training: 100%|███████████████████████████████████| 4/4 [00:54<00:00, 13.52s/it]"
     ]
    },
    {
     "name": "stdout",
     "output_type": "stream",
     "text": [
      "Epoch 4/4, Loss: -0.0768, Train fit: -0.0013, Test fit: -0.0650, Avg Weight: 0.0002, Max Weight: 0.0018\n",
      "Training completed! Best test Sharpe ratio: -0.0631\n",
      "Training from 2011-04 to 2011-09. Testing on 2011-10.\n"
     ]
    },
    {
     "name": "stderr",
     "output_type": "stream",
     "text": [
      "\n"
     ]
    },
    {
     "name": "stdout",
     "output_type": "stream",
     "text": [
      "['sprtrn_lag1', 'DlyRet_lag1', 'DlyRet_roll_10', 'DlyRet_roll_20', 'DlyRet_roll_30']\n",
      "Starting training with 415 train batches, 35 test batches\n"
     ]
    },
    {
     "name": "stderr",
     "output_type": "stream",
     "text": [
      "Training:  25%|████████▊                          | 1/4 [00:13<00:40, 13.34s/it]"
     ]
    },
    {
     "name": "stdout",
     "output_type": "stream",
     "text": [
      "Epoch 1/4, Loss: -0.0400, Train fit: -0.0198, Test fit: 0.0449, Avg Weight: 0.0002, Max Weight: 0.0106\n"
     ]
    },
    {
     "name": "stderr",
     "output_type": "stream",
     "text": [
      "Training:  75%|██████████████████████████▎        | 3/4 [00:40<00:13, 13.43s/it]"
     ]
    },
    {
     "name": "stdout",
     "output_type": "stream",
     "text": [
      "Epoch 3/4, Loss: -0.0582, Train fit: -0.0147, Test fit: 0.0566, Avg Weight: 0.0002, Max Weight: 0.0017\n"
     ]
    },
    {
     "name": "stderr",
     "output_type": "stream",
     "text": [
      "Training: 100%|███████████████████████████████████| 4/4 [00:53<00:00, 13.45s/it]"
     ]
    },
    {
     "name": "stdout",
     "output_type": "stream",
     "text": [
      "Epoch 4/4, Loss: -0.0588, Train fit: -0.0146, Test fit: 0.0574, Avg Weight: 0.0002, Max Weight: 0.0017\n",
      "Training completed! Best test Sharpe ratio: 0.0585\n",
      "Training from 2011-05 to 2011-10. Testing on 2011-11.\n"
     ]
    },
    {
     "name": "stderr",
     "output_type": "stream",
     "text": [
      "\n"
     ]
    },
    {
     "name": "stdout",
     "output_type": "stream",
     "text": [
      "['sprtrn_lag1', 'DlyRet_lag1', 'DlyRet_roll_10', 'DlyRet_roll_20', 'DlyRet_roll_30']\n",
      "Starting training with 419 train batches, 35 test batches\n"
     ]
    },
    {
     "name": "stderr",
     "output_type": "stream",
     "text": [
      "Training:  25%|████████▊                          | 1/4 [00:13<00:39, 13.33s/it]"
     ]
    },
    {
     "name": "stdout",
     "output_type": "stream",
     "text": [
      "Epoch 1/4, Loss: -0.0442, Train fit: -0.0190, Test fit: -0.0071, Avg Weight: 0.0002, Max Weight: 0.0012\n"
     ]
    },
    {
     "name": "stderr",
     "output_type": "stream",
     "text": [
      "Training:  75%|██████████████████████████▎        | 3/4 [00:40<00:13, 13.49s/it]"
     ]
    },
    {
     "name": "stdout",
     "output_type": "stream",
     "text": [
      "Epoch 3/4, Loss: -0.0603, Train fit: -0.0117, Test fit: -0.0066, Avg Weight: 0.0002, Max Weight: 0.0014\n"
     ]
    },
    {
     "name": "stderr",
     "output_type": "stream",
     "text": [
      "Training: 100%|███████████████████████████████████| 4/4 [00:53<00:00, 13.42s/it]"
     ]
    },
    {
     "name": "stdout",
     "output_type": "stream",
     "text": [
      "Epoch 4/4, Loss: -0.0623, Train fit: -0.0089, Test fit: -0.0043, Avg Weight: 0.0002, Max Weight: 0.0014\n",
      "Training completed! Best test Sharpe ratio: -0.0029\n",
      "Training from 2011-06 to 2011-11. Testing on 2011-12.\n"
     ]
    },
    {
     "name": "stderr",
     "output_type": "stream",
     "text": [
      "\n"
     ]
    },
    {
     "name": "stdout",
     "output_type": "stream",
     "text": [
      "['sprtrn_lag1', 'DlyRet_lag1', 'DlyRet_roll_10', 'DlyRet_roll_20', 'DlyRet_roll_30']\n",
      "Starting training with 419 train batches, 35 test batches\n"
     ]
    },
    {
     "name": "stderr",
     "output_type": "stream",
     "text": [
      "Training:  25%|████████▊                          | 1/4 [00:13<00:40, 13.43s/it]"
     ]
    },
    {
     "name": "stdout",
     "output_type": "stream",
     "text": [
      "Epoch 1/4, Loss: -0.0549, Train fit: -0.0125, Test fit: 0.0028, Avg Weight: 0.0002, Max Weight: 0.0017\n"
     ]
    },
    {
     "name": "stderr",
     "output_type": "stream",
     "text": [
      "Training:  75%|██████████████████████████▎        | 3/4 [00:40<00:13, 13.54s/it]"
     ]
    },
    {
     "name": "stdout",
     "output_type": "stream",
     "text": [
      "Epoch 3/4, Loss: -0.0589, Train fit: -0.0050, Test fit: 0.0077, Avg Weight: 0.0002, Max Weight: 0.0019\n"
     ]
    },
    {
     "name": "stderr",
     "output_type": "stream",
     "text": [
      "Training: 100%|███████████████████████████████████| 4/4 [00:53<00:00, 13.50s/it]"
     ]
    },
    {
     "name": "stdout",
     "output_type": "stream",
     "text": [
      "Epoch 4/4, Loss: -0.0626, Train fit: -0.0013, Test fit: 0.0095, Avg Weight: 0.0002, Max Weight: 0.0018\n",
      "Training completed! Best test Sharpe ratio: 0.0095\n",
      "Training from 2011-07 to 2011-12. Testing on 2012-01.\n"
     ]
    },
    {
     "name": "stderr",
     "output_type": "stream",
     "text": [
      "\n"
     ]
    },
    {
     "name": "stdout",
     "output_type": "stream",
     "text": [
      "['sprtrn_lag1', 'DlyRet_lag1', 'DlyRet_roll_10', 'DlyRet_roll_20', 'DlyRet_roll_30']\n",
      "Starting training with 416 train batches, 33 test batches\n"
     ]
    },
    {
     "name": "stderr",
     "output_type": "stream",
     "text": [
      "Training:  25%|████████▊                          | 1/4 [00:13<00:40, 13.36s/it]"
     ]
    },
    {
     "name": "stdout",
     "output_type": "stream",
     "text": [
      "Epoch 1/4, Loss: -0.0450, Train fit: -0.0095, Test fit: 0.0967, Avg Weight: 0.0002, Max Weight: 0.0012\n"
     ]
    },
    {
     "name": "stderr",
     "output_type": "stream",
     "text": [
      "Training:  75%|██████████████████████████▎        | 3/4 [00:40<00:13, 13.42s/it]"
     ]
    },
    {
     "name": "stdout",
     "output_type": "stream",
     "text": [
      "Epoch 3/4, Loss: -0.0601, Train fit: -0.0064, Test fit: 0.0984, Avg Weight: 0.0002, Max Weight: 0.0011\n"
     ]
    },
    {
     "name": "stderr",
     "output_type": "stream",
     "text": [
      "Training: 100%|███████████████████████████████████| 4/4 [00:53<00:00, 13.38s/it]"
     ]
    },
    {
     "name": "stdout",
     "output_type": "stream",
     "text": [
      "Epoch 4/4, Loss: -0.0641, Train fit: -0.0045, Test fit: 0.1016, Avg Weight: 0.0002, Max Weight: 0.0011\n",
      "Training completed! Best test Sharpe ratio: 0.1045\n",
      "Training from 2011-08 to 2012-01. Testing on 2012-02.\n"
     ]
    },
    {
     "name": "stderr",
     "output_type": "stream",
     "text": [
      "\n"
     ]
    },
    {
     "name": "stdout",
     "output_type": "stream",
     "text": [
      "['sprtrn_lag1', 'DlyRet_lag1', 'DlyRet_roll_10', 'DlyRet_roll_20', 'DlyRet_roll_30']\n",
      "Starting training with 416 train batches, 33 test batches\n"
     ]
    },
    {
     "name": "stderr",
     "output_type": "stream",
     "text": [
      "Training:  25%|████████▊                          | 1/4 [00:13<00:39, 13.07s/it]"
     ]
    },
    {
     "name": "stdout",
     "output_type": "stream",
     "text": [
      "Epoch 1/4, Loss: -0.0656, Train fit: 0.0042, Test fit: 0.0600, Avg Weight: 0.0002, Max Weight: 0.0006\n"
     ]
    },
    {
     "name": "stderr",
     "output_type": "stream",
     "text": [
      "Training:  75%|██████████████████████████▎        | 3/4 [00:40<00:13, 13.49s/it]"
     ]
    },
    {
     "name": "stdout",
     "output_type": "stream",
     "text": [
      "Epoch 3/4, Loss: -0.0855, Train fit: 0.0097, Test fit: 0.0573, Avg Weight: 0.0002, Max Weight: 0.0006\n"
     ]
    },
    {
     "name": "stderr",
     "output_type": "stream",
     "text": [
      "Training: 100%|███████████████████████████████████| 4/4 [00:53<00:00, 13.35s/it]"
     ]
    },
    {
     "name": "stdout",
     "output_type": "stream",
     "text": [
      "Epoch 4/4, Loss: -0.0881, Train fit: 0.0138, Test fit: 0.0589, Avg Weight: 0.0002, Max Weight: 0.0006\n",
      "Training completed! Best test Sharpe ratio: 0.0600\n",
      "Training from 2011-09 to 2012-02. Testing on 2012-03.\n"
     ]
    },
    {
     "name": "stderr",
     "output_type": "stream",
     "text": [
      "\n"
     ]
    },
    {
     "name": "stdout",
     "output_type": "stream",
     "text": [
      "['sprtrn_lag1', 'DlyRet_lag1', 'DlyRet_roll_10', 'DlyRet_roll_20', 'DlyRet_roll_30']\n",
      "Starting training with 406 train batches, 37 test batches\n"
     ]
    },
    {
     "name": "stderr",
     "output_type": "stream",
     "text": [
      "Training:  25%|████████▊                          | 1/4 [00:13<00:40, 13.39s/it]"
     ]
    },
    {
     "name": "stdout",
     "output_type": "stream",
     "text": [
      "Epoch 1/4, Loss: -0.0883, Train fit: 0.0237, Test fit: 0.0209, Avg Weight: 0.0003, Max Weight: 0.0047\n"
     ]
    },
    {
     "name": "stderr",
     "output_type": "stream",
     "text": [
      "Training:  75%|██████████████████████████▎        | 3/4 [00:40<00:13, 13.40s/it]"
     ]
    },
    {
     "name": "stdout",
     "output_type": "stream",
     "text": [
      "Epoch 3/4, Loss: -0.0966, Train fit: 0.0262, Test fit: 0.0231, Avg Weight: 0.0003, Max Weight: 0.0041\n"
     ]
    },
    {
     "name": "stderr",
     "output_type": "stream",
     "text": [
      "Training: 100%|███████████████████████████████████| 4/4 [00:53<00:00, 13.34s/it]"
     ]
    },
    {
     "name": "stdout",
     "output_type": "stream",
     "text": [
      "Epoch 4/4, Loss: -0.0976, Train fit: 0.0287, Test fit: 0.0237, Avg Weight: 0.0003, Max Weight: 0.0039\n",
      "Training completed! Best test Sharpe ratio: 0.0237\n",
      "Training from 2011-10 to 2012-03. Testing on 2012-04.\n"
     ]
    },
    {
     "name": "stderr",
     "output_type": "stream",
     "text": [
      "\n"
     ]
    },
    {
     "name": "stdout",
     "output_type": "stream",
     "text": [
      "['sprtrn_lag1', 'DlyRet_lag1', 'DlyRet_roll_10', 'DlyRet_roll_20', 'DlyRet_roll_30']\n",
      "Starting training with 410 train batches, 33 test batches\n"
     ]
    },
    {
     "name": "stderr",
     "output_type": "stream",
     "text": [
      "Training:  25%|████████▊                          | 1/4 [00:13<00:40, 13.36s/it]"
     ]
    },
    {
     "name": "stdout",
     "output_type": "stream",
     "text": [
      "Epoch 1/4, Loss: -0.1080, Train fit: 0.0519, Test fit: -0.0140, Avg Weight: 0.0002, Max Weight: 0.0005\n"
     ]
    },
    {
     "name": "stderr",
     "output_type": "stream",
     "text": [
      "Training:  75%|██████████████████████████▎        | 3/4 [00:39<00:13, 13.31s/it]"
     ]
    },
    {
     "name": "stdout",
     "output_type": "stream",
     "text": [
      "Epoch 3/4, Loss: -0.1237, Train fit: 0.0557, Test fit: -0.0123, Avg Weight: 0.0002, Max Weight: 0.0004\n"
     ]
    },
    {
     "name": "stderr",
     "output_type": "stream",
     "text": [
      "Training: 100%|███████████████████████████████████| 4/4 [00:52<00:00, 13.22s/it]"
     ]
    },
    {
     "name": "stdout",
     "output_type": "stream",
     "text": [
      "Epoch 4/4, Loss: -0.1253, Train fit: 0.0672, Test fit: -0.0043, Avg Weight: 0.0002, Max Weight: 0.0004\n",
      "Training completed! Best test Sharpe ratio: -0.0043\n",
      "Training from 2011-11 to 2012-04. Testing on 2012-05.\n"
     ]
    },
    {
     "name": "stderr",
     "output_type": "stream",
     "text": [
      "\n"
     ]
    },
    {
     "name": "stdout",
     "output_type": "stream",
     "text": [
      "['sprtrn_lag1', 'DlyRet_lag1', 'DlyRet_roll_10', 'DlyRet_roll_20', 'DlyRet_roll_30']\n",
      "Starting training with 407 train batches, 37 test batches\n"
     ]
    },
    {
     "name": "stderr",
     "output_type": "stream",
     "text": [
      "Training:  25%|████████▊                          | 1/4 [00:13<00:39, 13.26s/it]"
     ]
    },
    {
     "name": "stdout",
     "output_type": "stream",
     "text": [
      "Epoch 1/4, Loss: -0.0788, Train fit: 0.0163, Test fit: -0.0650, Avg Weight: 0.0002, Max Weight: 0.0028\n"
     ]
    },
    {
     "name": "stderr",
     "output_type": "stream",
     "text": [
      "Training:  75%|██████████████████████████▎        | 3/4 [00:39<00:13, 13.31s/it]"
     ]
    },
    {
     "name": "stdout",
     "output_type": "stream",
     "text": [
      "Epoch 3/4, Loss: -0.0941, Train fit: 0.0287, Test fit: -0.1021, Avg Weight: 0.0002, Max Weight: 0.0028\n"
     ]
    },
    {
     "name": "stderr",
     "output_type": "stream",
     "text": [
      "Training: 100%|███████████████████████████████████| 4/4 [00:52<00:00, 13.24s/it]"
     ]
    },
    {
     "name": "stdout",
     "output_type": "stream",
     "text": [
      "Epoch 4/4, Loss: -0.0983, Train fit: 0.0312, Test fit: -0.0983, Avg Weight: 0.0002, Max Weight: 0.0028\n",
      "Training completed! Best test Sharpe ratio: -0.0650\n",
      "Training from 2011-12 to 2012-05. Testing on 2012-06.\n"
     ]
    },
    {
     "name": "stderr",
     "output_type": "stream",
     "text": [
      "\n"
     ]
    },
    {
     "name": "stdout",
     "output_type": "stream",
     "text": [
      "['sprtrn_lag1', 'DlyRet_lag1', 'DlyRet_roll_10', 'DlyRet_roll_20', 'DlyRet_roll_30']\n",
      "Starting training with 411 train batches, 35 test batches\n"
     ]
    },
    {
     "name": "stderr",
     "output_type": "stream",
     "text": [
      "Training:  25%|████████▊                          | 1/4 [00:13<00:40, 13.42s/it]"
     ]
    },
    {
     "name": "stdout",
     "output_type": "stream",
     "text": [
      "Epoch 1/4, Loss: -0.0753, Train fit: 0.0081, Test fit: 0.0403, Avg Weight: 0.0002, Max Weight: 0.0014\n"
     ]
    },
    {
     "name": "stderr",
     "output_type": "stream",
     "text": [
      "Training:  75%|██████████████████████████▎        | 3/4 [00:40<00:13, 13.43s/it]"
     ]
    },
    {
     "name": "stdout",
     "output_type": "stream",
     "text": [
      "Epoch 3/4, Loss: -0.0860, Train fit: 0.0144, Test fit: 0.0538, Avg Weight: 0.0002, Max Weight: 0.0007\n"
     ]
    },
    {
     "name": "stderr",
     "output_type": "stream",
     "text": [
      "Training: 100%|███████████████████████████████████| 4/4 [00:53<00:00, 13.41s/it]"
     ]
    },
    {
     "name": "stdout",
     "output_type": "stream",
     "text": [
      "Epoch 4/4, Loss: -0.0878, Train fit: 0.0172, Test fit: 0.0564, Avg Weight: 0.0002, Max Weight: 0.0008\n",
      "Training completed! Best test Sharpe ratio: 0.0564\n",
      "Training from 2012-01 to 2012-06. Testing on 2012-07.\n"
     ]
    },
    {
     "name": "stderr",
     "output_type": "stream",
     "text": [
      "\n"
     ]
    },
    {
     "name": "stdout",
     "output_type": "stream",
     "text": [
      "['sprtrn_lag1', 'DlyRet_lag1', 'DlyRet_roll_10', 'DlyRet_roll_20', 'DlyRet_roll_30']\n",
      "Starting training with 411 train batches, 35 test batches\n"
     ]
    },
    {
     "name": "stderr",
     "output_type": "stream",
     "text": [
      "Training:  25%|████████▊                          | 1/4 [00:12<00:38, 12.97s/it]"
     ]
    },
    {
     "name": "stdout",
     "output_type": "stream",
     "text": [
      "Epoch 1/4, Loss: -0.0921, Train fit: 0.0263, Test fit: 0.0072, Avg Weight: 0.0002, Max Weight: 0.0008\n"
     ]
    },
    {
     "name": "stderr",
     "output_type": "stream",
     "text": [
      "Training:  75%|██████████████████████████▎        | 3/4 [00:47<00:16, 16.40s/it]"
     ]
    },
    {
     "name": "stdout",
     "output_type": "stream",
     "text": [
      "Epoch 3/4, Loss: -0.1015, Train fit: 0.0305, Test fit: 0.0055, Avg Weight: 0.0002, Max Weight: 0.0008\n"
     ]
    },
    {
     "name": "stderr",
     "output_type": "stream",
     "text": [
      "Training: 100%|███████████████████████████████████| 4/4 [01:01<00:00, 15.26s/it]"
     ]
    },
    {
     "name": "stdout",
     "output_type": "stream",
     "text": [
      "Epoch 4/4, Loss: -0.1031, Train fit: 0.0343, Test fit: 0.0089, Avg Weight: 0.0002, Max Weight: 0.0007\n",
      "Training completed! Best test Sharpe ratio: 0.0089\n",
      "Training from 2012-02 to 2012-07. Testing on 2012-08.\n"
     ]
    },
    {
     "name": "stderr",
     "output_type": "stream",
     "text": [
      "\n"
     ]
    },
    {
     "name": "stdout",
     "output_type": "stream",
     "text": [
      "['sprtrn_lag1', 'DlyRet_lag1', 'DlyRet_roll_10', 'DlyRet_roll_20', 'DlyRet_roll_30']\n",
      "Starting training with 415 train batches, 38 test batches\n"
     ]
    },
    {
     "name": "stderr",
     "output_type": "stream",
     "text": [
      "Training:  25%|████████▊                          | 1/4 [00:13<00:41, 13.79s/it]"
     ]
    },
    {
     "name": "stdout",
     "output_type": "stream",
     "text": [
      "Epoch 1/4, Loss: -0.0616, Train fit: 0.0044, Test fit: 0.0356, Avg Weight: 0.0002, Max Weight: 0.0010\n"
     ]
    },
    {
     "name": "stderr",
     "output_type": "stream",
     "text": [
      "Training:  75%|██████████████████████████▎        | 3/4 [00:41<00:13, 13.77s/it]"
     ]
    },
    {
     "name": "stdout",
     "output_type": "stream",
     "text": [
      "Epoch 3/4, Loss: -0.0762, Train fit: 0.0089, Test fit: 0.0385, Avg Weight: 0.0002, Max Weight: 0.0006\n"
     ]
    },
    {
     "name": "stderr",
     "output_type": "stream",
     "text": [
      "Training: 100%|███████████████████████████████████| 4/4 [01:00<00:00, 15.25s/it]"
     ]
    },
    {
     "name": "stdout",
     "output_type": "stream",
     "text": [
      "Epoch 4/4, Loss: -0.0796, Train fit: 0.0141, Test fit: 0.0442, Avg Weight: 0.0002, Max Weight: 0.0007\n",
      "Training completed! Best test Sharpe ratio: 0.0442\n",
      "Training from 2012-03 to 2012-08. Testing on 2012-09.\n"
     ]
    },
    {
     "name": "stderr",
     "output_type": "stream",
     "text": [
      "\n"
     ]
    },
    {
     "name": "stdout",
     "output_type": "stream",
     "text": [
      "['sprtrn_lag1', 'DlyRet_lag1', 'DlyRet_roll_10', 'DlyRet_roll_20', 'DlyRet_roll_30']\n",
      "Starting training with 425 train batches, 32 test batches\n"
     ]
    },
    {
     "name": "stderr",
     "output_type": "stream",
     "text": [
      "Training:  25%|████████▊                          | 1/4 [00:18<00:54, 18.22s/it]"
     ]
    },
    {
     "name": "stdout",
     "output_type": "stream",
     "text": [
      "Epoch 1/4, Loss: -0.0649, Train fit: 0.0015, Test fit: 0.0484, Avg Weight: 0.0003, Max Weight: 0.0169\n"
     ]
    },
    {
     "name": "stderr",
     "output_type": "stream",
     "text": [
      "Training:  75%|██████████████████████████▎        | 3/4 [00:48<00:15, 15.95s/it]"
     ]
    },
    {
     "name": "stdout",
     "output_type": "stream",
     "text": [
      "Epoch 3/4, Loss: -0.0706, Train fit: 0.0051, Test fit: 0.0466, Avg Weight: 0.0003, Max Weight: 0.0169\n"
     ]
    },
    {
     "name": "stderr",
     "output_type": "stream",
     "text": [
      "Training: 100%|███████████████████████████████████| 4/4 [01:03<00:00, 15.88s/it]"
     ]
    },
    {
     "name": "stdout",
     "output_type": "stream",
     "text": [
      "Epoch 4/4, Loss: -0.0761, Train fit: 0.0143, Test fit: 0.0499, Avg Weight: 0.0003, Max Weight: 0.0167\n",
      "Training completed! Best test Sharpe ratio: 0.0499\n",
      "Training from 2012-04 to 2012-09. Testing on 2012-10.\n"
     ]
    },
    {
     "name": "stderr",
     "output_type": "stream",
     "text": [
      "\n"
     ]
    },
    {
     "name": "stdout",
     "output_type": "stream",
     "text": [
      "['sprtrn_lag1', 'DlyRet_lag1', 'DlyRet_roll_10', 'DlyRet_roll_20', 'DlyRet_roll_30']\n",
      "Starting training with 415 train batches, 35 test batches\n"
     ]
    },
    {
     "name": "stderr",
     "output_type": "stream",
     "text": [
      "Training:  25%|████████▊                          | 1/4 [00:16<00:48, 16.11s/it]"
     ]
    },
    {
     "name": "stdout",
     "output_type": "stream",
     "text": [
      "Epoch 1/4, Loss: -0.0736, Train fit: 0.0069, Test fit: -0.0142, Avg Weight: 0.0002, Max Weight: 0.0021\n"
     ]
    },
    {
     "name": "stderr",
     "output_type": "stream",
     "text": [
      "Training:  75%|██████████████████████████▎        | 3/4 [00:48<00:16, 16.16s/it]"
     ]
    },
    {
     "name": "stdout",
     "output_type": "stream",
     "text": [
      "Epoch 3/4, Loss: -0.0794, Train fit: 0.0100, Test fit: -0.0115, Avg Weight: 0.0002, Max Weight: 0.0019\n"
     ]
    },
    {
     "name": "stderr",
     "output_type": "stream",
     "text": [
      "Training: 100%|███████████████████████████████████| 4/4 [01:03<00:00, 15.91s/it]"
     ]
    },
    {
     "name": "stdout",
     "output_type": "stream",
     "text": [
      "Epoch 4/4, Loss: -0.0827, Train fit: 0.0121, Test fit: -0.0115, Avg Weight: 0.0002, Max Weight: 0.0018\n",
      "Training completed! Best test Sharpe ratio: -0.0115\n",
      "Training from 2012-05 to 2012-10. Testing on 2012-11.\n"
     ]
    },
    {
     "name": "stderr",
     "output_type": "stream",
     "text": [
      "\n"
     ]
    },
    {
     "name": "stdout",
     "output_type": "stream",
     "text": [
      "['sprtrn_lag1', 'DlyRet_lag1', 'DlyRet_roll_10', 'DlyRet_roll_20', 'DlyRet_roll_30']\n",
      "Starting training with 417 train batches, 35 test batches\n"
     ]
    },
    {
     "name": "stderr",
     "output_type": "stream",
     "text": [
      "Training:  25%|████████▊                          | 1/4 [00:15<00:45, 15.06s/it]"
     ]
    },
    {
     "name": "stdout",
     "output_type": "stream",
     "text": [
      "Epoch 1/4, Loss: -0.0771, Train fit: 0.0085, Test fit: 0.0146, Avg Weight: 0.0003, Max Weight: 0.0064\n"
     ]
    },
    {
     "name": "stderr",
     "output_type": "stream",
     "text": [
      "Training:  75%|██████████████████████████▎        | 3/4 [00:44<00:14, 14.63s/it]"
     ]
    },
    {
     "name": "stdout",
     "output_type": "stream",
     "text": [
      "Epoch 3/4, Loss: -0.0750, Train fit: 0.0108, Test fit: 0.0160, Avg Weight: 0.0003, Max Weight: 0.0061\n"
     ]
    },
    {
     "name": "stderr",
     "output_type": "stream",
     "text": [
      "Training: 100%|███████████████████████████████████| 4/4 [00:58<00:00, 14.51s/it]"
     ]
    },
    {
     "name": "stdout",
     "output_type": "stream",
     "text": [
      "Epoch 4/4, Loss: -0.0741, Train fit: 0.0128, Test fit: 0.0168, Avg Weight: 0.0003, Max Weight: 0.0050\n",
      "Training completed! Best test Sharpe ratio: 0.0168\n",
      "Training from 2012-06 to 2012-11. Testing on 2012-12.\n"
     ]
    },
    {
     "name": "stderr",
     "output_type": "stream",
     "text": [
      "\n"
     ]
    },
    {
     "name": "stdout",
     "output_type": "stream",
     "text": [
      "['sprtrn_lag1', 'DlyRet_lag1', 'DlyRet_roll_10', 'DlyRet_roll_20', 'DlyRet_roll_30']\n",
      "Starting training with 413 train batches, 33 test batches\n"
     ]
    },
    {
     "name": "stderr",
     "output_type": "stream",
     "text": [
      "Training:  25%|████████▊                          | 1/4 [00:14<00:42, 14.26s/it]"
     ]
    },
    {
     "name": "stdout",
     "output_type": "stream",
     "text": [
      "Epoch 1/4, Loss: -0.0888, Train fit: 0.0262, Test fit: 0.0367, Avg Weight: 0.0002, Max Weight: 0.0009\n"
     ]
    },
    {
     "name": "stderr",
     "output_type": "stream",
     "text": [
      "Training:  75%|██████████████████████████▎        | 3/4 [00:43<00:14, 14.48s/it]"
     ]
    },
    {
     "name": "stdout",
     "output_type": "stream",
     "text": [
      "Epoch 3/4, Loss: -0.0988, Train fit: 0.0288, Test fit: 0.0417, Avg Weight: 0.0002, Max Weight: 0.0009\n"
     ]
    },
    {
     "name": "stderr",
     "output_type": "stream",
     "text": [
      "Training: 100%|███████████████████████████████████| 4/4 [00:58<00:00, 14.67s/it]"
     ]
    },
    {
     "name": "stdout",
     "output_type": "stream",
     "text": [
      "Epoch 4/4, Loss: -0.1012, Train fit: 0.0311, Test fit: 0.0444, Avg Weight: 0.0002, Max Weight: 0.0009\n",
      "Training completed! Best test Sharpe ratio: 0.0444\n",
      "Training from 2012-07 to 2012-12. Testing on 2013-01.\n"
     ]
    },
    {
     "name": "stderr",
     "output_type": "stream",
     "text": [
      "\n"
     ]
    },
    {
     "name": "stdout",
     "output_type": "stream",
     "text": [
      "['sprtrn_lag1', 'DlyRet_lag1', 'DlyRet_roll_10', 'DlyRet_roll_20', 'DlyRet_roll_30']\n",
      "Starting training with 409 train batches, 35 test batches\n"
     ]
    },
    {
     "name": "stderr",
     "output_type": "stream",
     "text": [
      "Training:  25%|████████▊                          | 1/4 [00:16<00:48, 16.31s/it]"
     ]
    },
    {
     "name": "stdout",
     "output_type": "stream",
     "text": [
      "Epoch 1/4, Loss: -0.0832, Train fit: 0.0210, Test fit: 0.0785, Avg Weight: 0.0003, Max Weight: 0.0104\n"
     ]
    },
    {
     "name": "stderr",
     "output_type": "stream",
     "text": [
      "Training:  75%|██████████████████████████▎        | 3/4 [00:47<00:15, 15.62s/it]"
     ]
    },
    {
     "name": "stdout",
     "output_type": "stream",
     "text": [
      "Epoch 3/4, Loss: -0.0952, Train fit: 0.0273, Test fit: 0.0852, Avg Weight: 0.0003, Max Weight: 0.0114\n"
     ]
    },
    {
     "name": "stderr",
     "output_type": "stream",
     "text": [
      "Training: 100%|███████████████████████████████████| 4/4 [01:01<00:00, 15.33s/it]"
     ]
    },
    {
     "name": "stdout",
     "output_type": "stream",
     "text": [
      "Epoch 4/4, Loss: -0.0986, Train fit: 0.0298, Test fit: 0.0879, Avg Weight: 0.0003, Max Weight: 0.0114\n",
      "Training completed! Best test Sharpe ratio: 0.0898\n",
      "Training from 2012-08 to 2013-01. Testing on 2013-02.\n"
     ]
    },
    {
     "name": "stderr",
     "output_type": "stream",
     "text": [
      "\n"
     ]
    },
    {
     "name": "stdout",
     "output_type": "stream",
     "text": [
      "['sprtrn_lag1', 'DlyRet_lag1', 'DlyRet_roll_10', 'DlyRet_roll_20', 'DlyRet_roll_30']\n",
      "Starting training with 408 train batches, 31 test batches\n"
     ]
    },
    {
     "name": "stderr",
     "output_type": "stream",
     "text": [
      "Training:  25%|████████▊                          | 1/4 [00:14<00:42, 14.27s/it]"
     ]
    },
    {
     "name": "stdout",
     "output_type": "stream",
     "text": [
      "Epoch 1/4, Loss: -0.0948, Train fit: 0.0427, Test fit: 0.0061, Avg Weight: 0.0002, Max Weight: 0.0005\n"
     ]
    },
    {
     "name": "stderr",
     "output_type": "stream",
     "text": [
      "Training:  75%|██████████████████████████▎        | 3/4 [00:40<00:13, 13.43s/it]"
     ]
    },
    {
     "name": "stdout",
     "output_type": "stream",
     "text": [
      "Epoch 3/4, Loss: -0.1158, Train fit: 0.0439, Test fit: 0.0080, Avg Weight: 0.0002, Max Weight: 0.0004\n"
     ]
    },
    {
     "name": "stderr",
     "output_type": "stream",
     "text": [
      "Training: 100%|███████████████████████████████████| 4/4 [00:54<00:00, 13.62s/it]"
     ]
    },
    {
     "name": "stdout",
     "output_type": "stream",
     "text": [
      "Epoch 4/4, Loss: -0.1164, Train fit: 0.0451, Test fit: 0.0083, Avg Weight: 0.0002, Max Weight: 0.0004\n",
      "Training completed! Best test Sharpe ratio: 0.0083\n",
      "Training from 2012-09 to 2013-02. Testing on 2013-03.\n"
     ]
    },
    {
     "name": "stderr",
     "output_type": "stream",
     "text": [
      "\n"
     ]
    },
    {
     "name": "stdout",
     "output_type": "stream",
     "text": [
      "['sprtrn_lag1', 'DlyRet_lag1', 'DlyRet_roll_10', 'DlyRet_roll_20', 'DlyRet_roll_30']\n",
      "Starting training with 394 train batches, 33 test batches\n"
     ]
    },
    {
     "name": "stderr",
     "output_type": "stream",
     "text": [
      "Training:  25%|████████▊                          | 1/4 [00:16<00:48, 16.29s/it]"
     ]
    },
    {
     "name": "stdout",
     "output_type": "stream",
     "text": [
      "Epoch 1/4, Loss: -0.0951, Train fit: 0.0371, Test fit: 0.0572, Avg Weight: 0.0002, Max Weight: 0.0013\n"
     ]
    },
    {
     "name": "stderr",
     "output_type": "stream",
     "text": [
      "Training:  75%|██████████████████████████▎        | 3/4 [00:49<00:17, 17.03s/it]"
     ]
    },
    {
     "name": "stdout",
     "output_type": "stream",
     "text": [
      "Epoch 3/4, Loss: -0.1124, Train fit: 0.0407, Test fit: 0.0608, Avg Weight: 0.0002, Max Weight: 0.0011\n"
     ]
    },
    {
     "name": "stderr",
     "output_type": "stream",
     "text": [
      "Training: 100%|███████████████████████████████████| 4/4 [01:05<00:00, 16.39s/it]"
     ]
    },
    {
     "name": "stdout",
     "output_type": "stream",
     "text": [
      "Epoch 4/4, Loss: -0.1138, Train fit: 0.0427, Test fit: 0.0626, Avg Weight: 0.0002, Max Weight: 0.0012\n",
      "Training completed! Best test Sharpe ratio: 0.0626\n",
      "Training from 2012-10 to 2013-03. Testing on 2013-04.\n"
     ]
    },
    {
     "name": "stderr",
     "output_type": "stream",
     "text": [
      "\n"
     ]
    },
    {
     "name": "stdout",
     "output_type": "stream",
     "text": [
      "['sprtrn_lag1', 'DlyRet_lag1', 'DlyRet_roll_10', 'DlyRet_roll_20', 'DlyRet_roll_30']\n",
      "Starting training with 397 train batches, 36 test batches\n"
     ]
    },
    {
     "name": "stderr",
     "output_type": "stream",
     "text": [
      "Training:  25%|████████▊                          | 1/4 [00:13<00:40, 13.48s/it]"
     ]
    },
    {
     "name": "stdout",
     "output_type": "stream",
     "text": [
      "Epoch 1/4, Loss: -0.0985, Train fit: 0.0345, Test fit: 0.0100, Avg Weight: 0.0002, Max Weight: 0.0009\n"
     ]
    },
    {
     "name": "stderr",
     "output_type": "stream",
     "text": [
      "Training:  75%|██████████████████████████▎        | 3/4 [00:40<00:13, 13.55s/it]"
     ]
    },
    {
     "name": "stdout",
     "output_type": "stream",
     "text": [
      "Epoch 3/4, Loss: -0.1123, Train fit: 0.0381, Test fit: 0.0109, Avg Weight: 0.0002, Max Weight: 0.0006\n"
     ]
    },
    {
     "name": "stderr",
     "output_type": "stream",
     "text": [
      "Training: 100%|███████████████████████████████████| 4/4 [00:53<00:00, 13.41s/it]"
     ]
    },
    {
     "name": "stdout",
     "output_type": "stream",
     "text": [
      "Epoch 4/4, Loss: -0.1155, Train fit: 0.0411, Test fit: 0.0137, Avg Weight: 0.0002, Max Weight: 0.0007\n",
      "Training completed! Best test Sharpe ratio: 0.0137\n",
      "Training from 2012-11 to 2013-04. Testing on 2013-05.\n"
     ]
    },
    {
     "name": "stderr",
     "output_type": "stream",
     "text": [
      "\n"
     ]
    },
    {
     "name": "stdout",
     "output_type": "stream",
     "text": [
      "['sprtrn_lag1', 'DlyRet_lag1', 'DlyRet_roll_10', 'DlyRet_roll_20', 'DlyRet_roll_30']\n",
      "Starting training with 399 train batches, 36 test batches\n"
     ]
    },
    {
     "name": "stderr",
     "output_type": "stream",
     "text": [
      "Training:  25%|████████▊                          | 1/4 [00:13<00:40, 13.60s/it]"
     ]
    },
    {
     "name": "stdout",
     "output_type": "stream",
     "text": [
      "Epoch 1/4, Loss: -0.1032, Train fit: 0.0387, Test fit: 0.0052, Avg Weight: 0.0002, Max Weight: 0.0007\n"
     ]
    },
    {
     "name": "stderr",
     "output_type": "stream",
     "text": [
      "Training:  75%|██████████████████████████▎        | 3/4 [00:39<00:13, 13.17s/it]"
     ]
    },
    {
     "name": "stdout",
     "output_type": "stream",
     "text": [
      "Epoch 3/4, Loss: -0.1226, Train fit: 0.0448, Test fit: 0.0071, Avg Weight: 0.0002, Max Weight: 0.0006\n"
     ]
    },
    {
     "name": "stderr",
     "output_type": "stream",
     "text": [
      "Training: 100%|███████████████████████████████████| 4/4 [00:53<00:00, 13.28s/it]"
     ]
    },
    {
     "name": "stdout",
     "output_type": "stream",
     "text": [
      "Epoch 4/4, Loss: -0.1246, Train fit: 0.0475, Test fit: 0.0100, Avg Weight: 0.0002, Max Weight: 0.0007\n",
      "Training completed! Best test Sharpe ratio: 0.0100\n",
      "Training from 2012-12 to 2013-05. Testing on 2013-06.\n"
     ]
    },
    {
     "name": "stderr",
     "output_type": "stream",
     "text": [
      "\n"
     ]
    },
    {
     "name": "stdout",
     "output_type": "stream",
     "text": [
      "['sprtrn_lag1', 'DlyRet_lag1', 'DlyRet_roll_10', 'DlyRet_roll_20', 'DlyRet_roll_30']\n",
      "Starting training with 402 train batches, 33 test batches\n"
     ]
    },
    {
     "name": "stderr",
     "output_type": "stream",
     "text": [
      "Training:  25%|████████▊                          | 1/4 [00:13<00:40, 13.65s/it]"
     ]
    },
    {
     "name": "stdout",
     "output_type": "stream",
     "text": [
      "Epoch 1/4, Loss: -0.1137, Train fit: 0.0409, Test fit: -0.0101, Avg Weight: 0.0002, Max Weight: 0.0019\n"
     ]
    },
    {
     "name": "stderr",
     "output_type": "stream",
     "text": [
      "Training:  75%|██████████████████████████▎        | 3/4 [00:40<00:13, 13.60s/it]"
     ]
    },
    {
     "name": "stdout",
     "output_type": "stream",
     "text": [
      "Epoch 3/4, Loss: -0.1242, Train fit: 0.0463, Test fit: -0.0143, Avg Weight: 0.0002, Max Weight: 0.0019\n"
     ]
    },
    {
     "name": "stderr",
     "output_type": "stream",
     "text": [
      "Training: 100%|███████████████████████████████████| 4/4 [00:54<00:00, 13.55s/it]"
     ]
    },
    {
     "name": "stdout",
     "output_type": "stream",
     "text": [
      "Epoch 4/4, Loss: -0.1266, Train fit: 0.0464, Test fit: -0.0123, Avg Weight: 0.0002, Max Weight: 0.0019\n",
      "Training completed! Best test Sharpe ratio: -0.0101\n",
      "Training from 2013-01 to 2013-06. Testing on 2013-07.\n"
     ]
    },
    {
     "name": "stderr",
     "output_type": "stream",
     "text": [
      "\n"
     ]
    },
    {
     "name": "stdout",
     "output_type": "stream",
     "text": [
      "['sprtrn_lag1', 'DlyRet_lag1', 'DlyRet_roll_10', 'DlyRet_roll_20', 'DlyRet_roll_30']\n",
      "Starting training with 403 train batches, 36 test batches\n"
     ]
    },
    {
     "name": "stderr",
     "output_type": "stream",
     "text": [
      "Training:  25%|████████▊                          | 1/4 [00:13<00:39, 13.01s/it]"
     ]
    },
    {
     "name": "stdout",
     "output_type": "stream",
     "text": [
      "Epoch 1/4, Loss: -0.1020, Train fit: 0.0317, Test fit: 0.0776, Avg Weight: 0.0002, Max Weight: 0.0018\n"
     ]
    },
    {
     "name": "stderr",
     "output_type": "stream",
     "text": [
      "Training:  75%|██████████████████████████▎        | 3/4 [00:39<00:13, 13.34s/it]"
     ]
    },
    {
     "name": "stdout",
     "output_type": "stream",
     "text": [
      "Epoch 3/4, Loss: -0.1061, Train fit: 0.0320, Test fit: 0.0743, Avg Weight: 0.0002, Max Weight: 0.0018\n"
     ]
    },
    {
     "name": "stderr",
     "output_type": "stream",
     "text": [
      "Training: 100%|███████████████████████████████████| 4/4 [00:53<00:00, 13.33s/it]"
     ]
    },
    {
     "name": "stdout",
     "output_type": "stream",
     "text": [
      "Epoch 4/4, Loss: -0.1123, Train fit: 0.0350, Test fit: 0.0805, Avg Weight: 0.0002, Max Weight: 0.0008\n",
      "Training completed! Best test Sharpe ratio: 0.0805\n",
      "Training from 2013-02 to 2013-07. Testing on 2013-08.\n"
     ]
    },
    {
     "name": "stderr",
     "output_type": "stream",
     "text": [
      "\n"
     ]
    },
    {
     "name": "stdout",
     "output_type": "stream",
     "text": [
      "['sprtrn_lag1', 'DlyRet_lag1', 'DlyRet_roll_10', 'DlyRet_roll_20', 'DlyRet_roll_30']\n",
      "Starting training with 406 train batches, 37 test batches\n"
     ]
    },
    {
     "name": "stderr",
     "output_type": "stream",
     "text": [
      "Training:  25%|████████▊                          | 1/4 [00:14<00:44, 14.80s/it]"
     ]
    },
    {
     "name": "stdout",
     "output_type": "stream",
     "text": [
      "Epoch 1/4, Loss: -0.0930, Train fit: 0.0301, Test fit: -0.0294, Avg Weight: 0.0003, Max Weight: 0.0070\n"
     ]
    },
    {
     "name": "stderr",
     "output_type": "stream",
     "text": [
      "Training:  75%|██████████████████████████▎        | 3/4 [00:44<00:14, 14.93s/it]"
     ]
    },
    {
     "name": "stdout",
     "output_type": "stream",
     "text": [
      "Epoch 3/4, Loss: -0.1062, Train fit: 0.0324, Test fit: -0.0290, Avg Weight: 0.0003, Max Weight: 0.0090\n"
     ]
    },
    {
     "name": "stderr",
     "output_type": "stream",
     "text": [
      "Training: 100%|███████████████████████████████████| 4/4 [00:58<00:00, 14.71s/it]"
     ]
    },
    {
     "name": "stdout",
     "output_type": "stream",
     "text": [
      "Epoch 4/4, Loss: -0.1100, Train fit: 0.0320, Test fit: -0.0296, Avg Weight: 0.0003, Max Weight: 0.0090\n",
      "Training completed! Best test Sharpe ratio: -0.0278\n",
      "Training from 2013-03 to 2013-08. Testing on 2013-09.\n"
     ]
    },
    {
     "name": "stderr",
     "output_type": "stream",
     "text": [
      "\n"
     ]
    },
    {
     "name": "stdout",
     "output_type": "stream",
     "text": [
      "['sprtrn_lag1', 'DlyRet_lag1', 'DlyRet_roll_10', 'DlyRet_roll_20', 'DlyRet_roll_30']\n",
      "Starting training with 417 train batches, 33 test batches\n"
     ]
    },
    {
     "name": "stderr",
     "output_type": "stream",
     "text": [
      "Training:  25%|████████▊                          | 1/4 [00:14<00:44, 14.96s/it]"
     ]
    },
    {
     "name": "stdout",
     "output_type": "stream",
     "text": [
      "Epoch 1/4, Loss: -0.0895, Train fit: 0.0224, Test fit: 0.0778, Avg Weight: 0.0002, Max Weight: 0.0015\n"
     ]
    },
    {
     "name": "stderr",
     "output_type": "stream",
     "text": [
      "Training:  75%|██████████████████████████▎        | 3/4 [00:44<00:14, 14.97s/it]"
     ]
    },
    {
     "name": "stdout",
     "output_type": "stream",
     "text": [
      "Epoch 3/4, Loss: -0.0996, Train fit: 0.0231, Test fit: 0.0739, Avg Weight: 0.0002, Max Weight: 0.0015\n"
     ]
    },
    {
     "name": "stderr",
     "output_type": "stream",
     "text": [
      "Training: 100%|███████████████████████████████████| 4/4 [00:59<00:00, 14.79s/it]"
     ]
    },
    {
     "name": "stdout",
     "output_type": "stream",
     "text": [
      "Epoch 4/4, Loss: -0.1003, Train fit: 0.0249, Test fit: 0.0765, Avg Weight: 0.0002, Max Weight: 0.0015\n",
      "Training completed! Best test Sharpe ratio: 0.0778\n",
      "Training from 2013-04 to 2013-09. Testing on 2013-10.\n"
     ]
    },
    {
     "name": "stderr",
     "output_type": "stream",
     "text": [
      "\n"
     ]
    },
    {
     "name": "stdout",
     "output_type": "stream",
     "text": [
      "['sprtrn_lag1', 'DlyRet_lag1', 'DlyRet_roll_10', 'DlyRet_roll_20', 'DlyRet_roll_30']\n",
      "Starting training with 418 train batches, 38 test batches\n"
     ]
    },
    {
     "name": "stderr",
     "output_type": "stream",
     "text": [
      "Training:  25%|████████▊                          | 1/4 [00:16<00:49, 16.45s/it]"
     ]
    },
    {
     "name": "stdout",
     "output_type": "stream",
     "text": [
      "Epoch 1/4, Loss: -0.0871, Train fit: 0.0256, Test fit: 0.0390, Avg Weight: 0.0002, Max Weight: 0.0004\n"
     ]
    },
    {
     "name": "stderr",
     "output_type": "stream",
     "text": [
      "Training:  75%|██████████████████████████▎        | 3/4 [00:48<00:16, 16.28s/it]"
     ]
    },
    {
     "name": "stdout",
     "output_type": "stream",
     "text": [
      "Epoch 3/4, Loss: -0.1040, Train fit: 0.0295, Test fit: 0.0356, Avg Weight: 0.0002, Max Weight: 0.0004\n"
     ]
    },
    {
     "name": "stderr",
     "output_type": "stream",
     "text": [
      "Training: 100%|███████████████████████████████████| 4/4 [01:07<00:00, 16.78s/it]"
     ]
    },
    {
     "name": "stdout",
     "output_type": "stream",
     "text": [
      "Epoch 4/4, Loss: -0.1048, Train fit: 0.0302, Test fit: 0.0347, Avg Weight: 0.0002, Max Weight: 0.0004\n",
      "Training completed! Best test Sharpe ratio: 0.0397\n",
      "Training from 2013-05 to 2013-10. Testing on 2013-11.\n"
     ]
    },
    {
     "name": "stderr",
     "output_type": "stream",
     "text": [
      "\n"
     ]
    },
    {
     "name": "stdout",
     "output_type": "stream",
     "text": [
      "['sprtrn_lag1', 'DlyRet_lag1', 'DlyRet_roll_10', 'DlyRet_roll_20', 'DlyRet_roll_30']\n",
      "Starting training with 422 train batches, 34 test batches\n"
     ]
    },
    {
     "name": "stderr",
     "output_type": "stream",
     "text": [
      "Training:  25%|████████▊                          | 1/4 [00:15<00:45, 15.03s/it]"
     ]
    },
    {
     "name": "stdout",
     "output_type": "stream",
     "text": [
      "Epoch 1/4, Loss: -0.0982, Train fit: 0.0280, Test fit: 0.0334, Avg Weight: 0.0003, Max Weight: 0.0059\n"
     ]
    },
    {
     "name": "stderr",
     "output_type": "stream",
     "text": [
      "Training:  75%|██████████████████████████▎        | 3/4 [00:45<00:15, 15.27s/it]"
     ]
    },
    {
     "name": "stdout",
     "output_type": "stream",
     "text": [
      "Epoch 3/4, Loss: -0.1066, Train fit: 0.0052, Test fit: 0.0055, Avg Weight: 0.0003, Max Weight: 0.0059\n"
     ]
    },
    {
     "name": "stderr",
     "output_type": "stream",
     "text": [
      "Training: 100%|███████████████████████████████████| 4/4 [01:01<00:00, 15.29s/it]"
     ]
    },
    {
     "name": "stdout",
     "output_type": "stream",
     "text": [
      "Epoch 4/4, Loss: -0.0994, Train fit: 0.0363, Test fit: 0.0417, Avg Weight: 0.0003, Max Weight: 0.0033\n",
      "Training completed! Best test Sharpe ratio: 0.0417\n",
      "Training from 2013-06 to 2013-11. Testing on 2013-12.\n"
     ]
    },
    {
     "name": "stderr",
     "output_type": "stream",
     "text": [
      "\n"
     ]
    },
    {
     "name": "stdout",
     "output_type": "stream",
     "text": [
      "['sprtrn_lag1', 'DlyRet_lag1', 'DlyRet_roll_10', 'DlyRet_roll_20', 'DlyRet_roll_30']\n",
      "Starting training with 417 train batches, 35 test batches\n"
     ]
    },
    {
     "name": "stderr",
     "output_type": "stream",
     "text": [
      "Training:  25%|████████▊                          | 1/4 [00:15<00:45, 15.18s/it]"
     ]
    },
    {
     "name": "stdout",
     "output_type": "stream",
     "text": [
      "Epoch 1/4, Loss: -0.0818, Train fit: 0.0343, Test fit: 0.0404, Avg Weight: 0.0002, Max Weight: 0.0007\n"
     ]
    },
    {
     "name": "stderr",
     "output_type": "stream",
     "text": [
      "Training:  75%|██████████████████████████▎        | 3/4 [00:45<00:15, 15.03s/it]"
     ]
    },
    {
     "name": "stdout",
     "output_type": "stream",
     "text": [
      "Epoch 3/4, Loss: -0.1110, Train fit: 0.0370, Test fit: 0.0439, Avg Weight: 0.0002, Max Weight: 0.0005\n"
     ]
    },
    {
     "name": "stderr",
     "output_type": "stream",
     "text": [
      "Training: 100%|███████████████████████████████████| 4/4 [00:59<00:00, 14.90s/it]"
     ]
    },
    {
     "name": "stdout",
     "output_type": "stream",
     "text": [
      "Epoch 4/4, Loss: -0.1135, Train fit: 0.0374, Test fit: 0.0442, Avg Weight: 0.0002, Max Weight: 0.0005\n",
      "Training completed! Best test Sharpe ratio: 0.0442\n",
      "Training from 2013-07 to 2013-12. Testing on 2014-01.\n"
     ]
    },
    {
     "name": "stderr",
     "output_type": "stream",
     "text": [
      "\n"
     ]
    },
    {
     "name": "stdout",
     "output_type": "stream",
     "text": [
      "['sprtrn_lag1', 'DlyRet_lag1', 'DlyRet_roll_10', 'DlyRet_roll_20', 'DlyRet_roll_30']\n",
      "Starting training with 422 train batches, 35 test batches\n"
     ]
    },
    {
     "name": "stderr",
     "output_type": "stream",
     "text": [
      "Training:  25%|████████▊                          | 1/4 [00:15<00:46, 15.49s/it]"
     ]
    },
    {
     "name": "stdout",
     "output_type": "stream",
     "text": [
      "Epoch 1/4, Loss: -0.1097, Train fit: 0.0482, Test fit: -0.0173, Avg Weight: 0.0002, Max Weight: 0.0004\n"
     ]
    },
    {
     "name": "stderr",
     "output_type": "stream",
     "text": [
      "Training:  75%|██████████████████████████▎        | 3/4 [00:48<00:16, 16.63s/it]"
     ]
    },
    {
     "name": "stdout",
     "output_type": "stream",
     "text": [
      "Epoch 3/4, Loss: -0.1250, Train fit: 0.0490, Test fit: -0.0165, Avg Weight: 0.0002, Max Weight: 0.0004\n"
     ]
    },
    {
     "name": "stderr",
     "output_type": "stream",
     "text": [
      "Training: 100%|███████████████████████████████████| 4/4 [01:04<00:00, 16.02s/it]"
     ]
    },
    {
     "name": "stdout",
     "output_type": "stream",
     "text": [
      "Epoch 4/4, Loss: -0.1259, Train fit: 0.0490, Test fit: -0.0155, Avg Weight: 0.0002, Max Weight: 0.0003\n",
      "Training completed! Best test Sharpe ratio: -0.0155\n",
      "Training from 2013-08 to 2014-01. Testing on 2014-02.\n"
     ]
    },
    {
     "name": "stderr",
     "output_type": "stream",
     "text": [
      "\n"
     ]
    },
    {
     "name": "stdout",
     "output_type": "stream",
     "text": [
      "['sprtrn_lag1', 'DlyRet_lag1', 'DlyRet_roll_10', 'DlyRet_roll_20', 'DlyRet_roll_30']\n",
      "Starting training with 420 train batches, 32 test batches\n"
     ]
    },
    {
     "name": "stderr",
     "output_type": "stream",
     "text": [
      "Training:  25%|████████▊                          | 1/4 [00:13<00:41, 13.78s/it]"
     ]
    },
    {
     "name": "stdout",
     "output_type": "stream",
     "text": [
      "Epoch 1/4, Loss: -0.0752, Train fit: 0.0253, Test fit: 0.0850, Avg Weight: 0.0002, Max Weight: 0.0006\n"
     ]
    },
    {
     "name": "stderr",
     "output_type": "stream",
     "text": [
      "Training:  75%|██████████████████████████▎        | 3/4 [00:44<00:14, 14.77s/it]"
     ]
    },
    {
     "name": "stdout",
     "output_type": "stream",
     "text": [
      "Epoch 3/4, Loss: -0.1036, Train fit: 0.0261, Test fit: 0.0848, Avg Weight: 0.0002, Max Weight: 0.0006\n"
     ]
    },
    {
     "name": "stderr",
     "output_type": "stream",
     "text": [
      "Training: 100%|███████████████████████████████████| 4/4 [00:59<00:00, 14.99s/it]"
     ]
    },
    {
     "name": "stdout",
     "output_type": "stream",
     "text": [
      "Epoch 4/4, Loss: -0.1061, Train fit: 0.0263, Test fit: 0.0844, Avg Weight: 0.0002, Max Weight: 0.0006\n",
      "Training completed! Best test Sharpe ratio: 0.0850\n",
      "Training from 2013-09 to 2014-02. Testing on 2014-03.\n"
     ]
    },
    {
     "name": "stderr",
     "output_type": "stream",
     "text": [
      "\n"
     ]
    },
    {
     "name": "stdout",
     "output_type": "stream",
     "text": [
      "['sprtrn_lag1', 'DlyRet_lag1', 'DlyRet_roll_10', 'DlyRet_roll_20', 'DlyRet_roll_30']\n",
      "Starting training with 411 train batches, 36 test batches\n"
     ]
    },
    {
     "name": "stderr",
     "output_type": "stream",
     "text": [
      "Training:  25%|████████▊                          | 1/4 [00:15<00:46, 15.60s/it]"
     ]
    },
    {
     "name": "stdout",
     "output_type": "stream",
     "text": [
      "Epoch 1/4, Loss: -0.1174, Train fit: 0.0504, Test fit: 0.0107, Avg Weight: 0.0003, Max Weight: 0.0046\n"
     ]
    },
    {
     "name": "stderr",
     "output_type": "stream",
     "text": [
      "Training:  75%|██████████████████████████▎        | 3/4 [00:45<00:15, 15.17s/it]"
     ]
    },
    {
     "name": "stdout",
     "output_type": "stream",
     "text": [
      "Epoch 3/4, Loss: -0.1299, Train fit: 0.0515, Test fit: 0.0105, Avg Weight: 0.0003, Max Weight: 0.0046\n"
     ]
    },
    {
     "name": "stderr",
     "output_type": "stream",
     "text": [
      "Training: 100%|███████████████████████████████████| 4/4 [01:01<00:00, 15.34s/it]"
     ]
    },
    {
     "name": "stdout",
     "output_type": "stream",
     "text": [
      "Epoch 4/4, Loss: -0.1309, Train fit: 0.0520, Test fit: 0.0118, Avg Weight: 0.0003, Max Weight: 0.0056\n",
      "Training completed! Best test Sharpe ratio: 0.0118\n",
      "Training from 2013-10 to 2014-03. Testing on 2014-04.\n"
     ]
    },
    {
     "name": "stderr",
     "output_type": "stream",
     "text": [
      "\n"
     ]
    },
    {
     "name": "stdout",
     "output_type": "stream",
     "text": [
      "['sprtrn_lag1', 'DlyRet_lag1', 'DlyRet_roll_10', 'DlyRet_roll_20', 'DlyRet_roll_30']\n",
      "Starting training with 415 train batches, 36 test batches\n"
     ]
    },
    {
     "name": "stderr",
     "output_type": "stream",
     "text": [
      "Training:  25%|████████▊                          | 1/4 [00:15<00:45, 15.09s/it]"
     ]
    },
    {
     "name": "stdout",
     "output_type": "stream",
     "text": [
      "Epoch 1/4, Loss: -0.0998, Train fit: 0.0337, Test fit: -0.0208, Avg Weight: 0.0002, Max Weight: 0.0016\n"
     ]
    },
    {
     "name": "stderr",
     "output_type": "stream",
     "text": [
      "Training:  75%|██████████████████████████▎        | 3/4 [00:43<00:14, 14.50s/it]"
     ]
    },
    {
     "name": "stdout",
     "output_type": "stream",
     "text": [
      "Epoch 3/4, Loss: -0.1104, Train fit: 0.0353, Test fit: -0.0241, Avg Weight: 0.0002, Max Weight: 0.0017\n"
     ]
    },
    {
     "name": "stderr",
     "output_type": "stream",
     "text": [
      "Training: 100%|███████████████████████████████████| 4/4 [00:59<00:00, 14.77s/it]"
     ]
    },
    {
     "name": "stdout",
     "output_type": "stream",
     "text": [
      "Epoch 4/4, Loss: -0.1150, Train fit: 0.0363, Test fit: -0.0191, Avg Weight: 0.0002, Max Weight: 0.0018\n",
      "Training completed! Best test Sharpe ratio: -0.0191\n",
      "Training from 2013-11 to 2014-04. Testing on 2014-05.\n"
     ]
    },
    {
     "name": "stderr",
     "output_type": "stream",
     "text": [
      "\n"
     ]
    },
    {
     "name": "stdout",
     "output_type": "stream",
     "text": [
      "['sprtrn_lag1', 'DlyRet_lag1', 'DlyRet_roll_10', 'DlyRet_roll_20', 'DlyRet_roll_30']\n",
      "Starting training with 410 train batches, 36 test batches\n"
     ]
    },
    {
     "name": "stderr",
     "output_type": "stream",
     "text": [
      "Training:  25%|████████▊                          | 1/4 [00:14<00:43, 14.50s/it]"
     ]
    },
    {
     "name": "stdout",
     "output_type": "stream",
     "text": [
      "Epoch 1/4, Loss: -0.0839, Train fit: 0.0204, Test fit: 0.0214, Avg Weight: 0.0002, Max Weight: 0.0015\n"
     ]
    },
    {
     "name": "stderr",
     "output_type": "stream",
     "text": [
      "Training:  75%|██████████████████████████▎        | 3/4 [00:43<00:14, 14.60s/it]"
     ]
    },
    {
     "name": "stdout",
     "output_type": "stream",
     "text": [
      "Epoch 3/4, Loss: -0.0999, Train fit: 0.0212, Test fit: 0.0276, Avg Weight: 0.0002, Max Weight: 0.0019\n"
     ]
    },
    {
     "name": "stderr",
     "output_type": "stream",
     "text": [
      "Training: 100%|███████████████████████████████████| 4/4 [00:57<00:00, 14.49s/it]"
     ]
    },
    {
     "name": "stdout",
     "output_type": "stream",
     "text": [
      "Epoch 4/4, Loss: -0.1015, Train fit: 0.0219, Test fit: 0.0286, Avg Weight: 0.0002, Max Weight: 0.0019\n",
      "Training completed! Best test Sharpe ratio: 0.0286\n",
      "Training from 2013-12 to 2014-05. Testing on 2014-06.\n"
     ]
    },
    {
     "name": "stderr",
     "output_type": "stream",
     "text": [
      "\n"
     ]
    },
    {
     "name": "stdout",
     "output_type": "stream",
     "text": [
      "['sprtrn_lag1', 'DlyRet_lag1', 'DlyRet_roll_10', 'DlyRet_roll_20', 'DlyRet_roll_30']\n",
      "Starting training with 415 train batches, 36 test batches\n"
     ]
    },
    {
     "name": "stderr",
     "output_type": "stream",
     "text": [
      "Training:  25%|████████▊                          | 1/4 [00:15<00:45, 15.27s/it]"
     ]
    },
    {
     "name": "stdout",
     "output_type": "stream",
     "text": [
      "Epoch 1/4, Loss: -0.0801, Train fit: 0.0183, Test fit: 0.0667, Avg Weight: 0.0002, Max Weight: 0.0009\n"
     ]
    },
    {
     "name": "stderr",
     "output_type": "stream",
     "text": [
      "Training:  75%|██████████████████████████▎        | 3/4 [00:45<00:14, 14.99s/it]"
     ]
    },
    {
     "name": "stdout",
     "output_type": "stream",
     "text": [
      "Epoch 3/4, Loss: -0.0997, Train fit: 0.0251, Test fit: 0.0631, Avg Weight: 0.0002, Max Weight: 0.0009\n"
     ]
    },
    {
     "name": "stderr",
     "output_type": "stream",
     "text": [
      "Training: 100%|███████████████████████████████████| 4/4 [00:59<00:00, 14.94s/it]"
     ]
    },
    {
     "name": "stdout",
     "output_type": "stream",
     "text": [
      "Epoch 4/4, Loss: -0.1001, Train fit: 0.0259, Test fit: 0.0617, Avg Weight: 0.0002, Max Weight: 0.0009\n",
      "Training completed! Best test Sharpe ratio: 0.0667\n",
      "Training from 2014-01 to 2014-06. Testing on 2014-07.\n"
     ]
    },
    {
     "name": "stderr",
     "output_type": "stream",
     "text": [
      "\n"
     ]
    },
    {
     "name": "stdout",
     "output_type": "stream",
     "text": [
      "['sprtrn_lag1', 'DlyRet_lag1', 'DlyRet_roll_10', 'DlyRet_roll_20', 'DlyRet_roll_30']\n",
      "Starting training with 416 train batches, 38 test batches\n"
     ]
    },
    {
     "name": "stderr",
     "output_type": "stream",
     "text": [
      "Training:  25%|████████▊                          | 1/4 [00:14<00:43, 14.40s/it]"
     ]
    },
    {
     "name": "stdout",
     "output_type": "stream",
     "text": [
      "Epoch 1/4, Loss: -0.0911, Train fit: 0.0251, Test fit: -0.0684, Avg Weight: 0.0002, Max Weight: 0.0009\n"
     ]
    },
    {
     "name": "stderr",
     "output_type": "stream",
     "text": [
      "Training:  75%|██████████████████████████▎        | 3/4 [00:44<00:14, 14.76s/it]"
     ]
    },
    {
     "name": "stdout",
     "output_type": "stream",
     "text": [
      "Epoch 3/4, Loss: -0.1059, Train fit: 0.0275, Test fit: -0.0682, Avg Weight: 0.0002, Max Weight: 0.0010\n"
     ]
    },
    {
     "name": "stderr",
     "output_type": "stream",
     "text": [
      "Training: 100%|███████████████████████████████████| 4/4 [00:59<00:00, 14.97s/it]"
     ]
    },
    {
     "name": "stdout",
     "output_type": "stream",
     "text": [
      "Epoch 4/4, Loss: -0.1084, Train fit: 0.0293, Test fit: -0.0665, Avg Weight: 0.0002, Max Weight: 0.0010\n",
      "Training completed! Best test Sharpe ratio: -0.0665\n",
      "Training from 2014-02 to 2014-07. Testing on 2014-08.\n"
     ]
    },
    {
     "name": "stderr",
     "output_type": "stream",
     "text": [
      "\n"
     ]
    },
    {
     "name": "stdout",
     "output_type": "stream",
     "text": [
      "['sprtrn_lag1', 'DlyRet_lag1', 'DlyRet_roll_10', 'DlyRet_roll_20', 'DlyRet_roll_30']\n",
      "Starting training with 422 train batches, 36 test batches\n"
     ]
    },
    {
     "name": "stderr",
     "output_type": "stream",
     "text": [
      "Training:  25%|████████▊                          | 1/4 [00:14<00:43, 14.35s/it]"
     ]
    },
    {
     "name": "stdout",
     "output_type": "stream",
     "text": [
      "Epoch 1/4, Loss: -0.0815, Train fit: 0.0165, Test fit: 0.0596, Avg Weight: 0.0002, Max Weight: 0.0009\n"
     ]
    },
    {
     "name": "stderr",
     "output_type": "stream",
     "text": [
      "Training:  75%|██████████████████████████▎        | 3/4 [00:43<00:14, 14.72s/it]"
     ]
    },
    {
     "name": "stdout",
     "output_type": "stream",
     "text": [
      "Epoch 3/4, Loss: -0.0945, Train fit: 0.0194, Test fit: 0.0602, Avg Weight: 0.0002, Max Weight: 0.0010\n"
     ]
    },
    {
     "name": "stderr",
     "output_type": "stream",
     "text": [
      "Training: 100%|███████████████████████████████████| 4/4 [00:58<00:00, 14.60s/it]"
     ]
    },
    {
     "name": "stdout",
     "output_type": "stream",
     "text": [
      "Epoch 4/4, Loss: -0.0946, Train fit: 0.0213, Test fit: 0.0621, Avg Weight: 0.0002, Max Weight: 0.0009\n",
      "Training completed! Best test Sharpe ratio: 0.0621\n",
      "Training from 2014-03 to 2014-08. Testing on 2014-09.\n"
     ]
    },
    {
     "name": "stderr",
     "output_type": "stream",
     "text": [
      "\n"
     ]
    },
    {
     "name": "stdout",
     "output_type": "stream",
     "text": [
      "['sprtrn_lag1', 'DlyRet_lag1', 'DlyRet_roll_10', 'DlyRet_roll_20', 'DlyRet_roll_30']\n",
      "Starting training with 430 train batches, 36 test batches\n"
     ]
    },
    {
     "name": "stderr",
     "output_type": "stream",
     "text": [
      "Training:  25%|████████▊                          | 1/4 [00:15<00:45, 15.02s/it]"
     ]
    },
    {
     "name": "stdout",
     "output_type": "stream",
     "text": [
      "Epoch 1/4, Loss: -0.0839, Train fit: 0.0175, Test fit: -0.0826, Avg Weight: 0.0002, Max Weight: 0.0008\n"
     ]
    },
    {
     "name": "stderr",
     "output_type": "stream",
     "text": [
      "Training:  75%|██████████████████████████▎        | 3/4 [00:44<00:14, 14.78s/it]"
     ]
    },
    {
     "name": "stdout",
     "output_type": "stream",
     "text": [
      "Epoch 3/4, Loss: -0.0950, Train fit: 0.0199, Test fit: -0.0879, Avg Weight: 0.0002, Max Weight: 0.0008\n"
     ]
    },
    {
     "name": "stderr",
     "output_type": "stream",
     "text": [
      "Training: 100%|███████████████████████████████████| 4/4 [00:58<00:00, 14.69s/it]"
     ]
    },
    {
     "name": "stdout",
     "output_type": "stream",
     "text": [
      "Epoch 4/4, Loss: -0.0958, Train fit: 0.0202, Test fit: -0.0850, Avg Weight: 0.0002, Max Weight: 0.0008\n",
      "Training completed! Best test Sharpe ratio: -0.0826\n",
      "Training from 2014-04 to 2014-09. Testing on 2014-10.\n"
     ]
    },
    {
     "name": "stderr",
     "output_type": "stream",
     "text": [
      "\n"
     ]
    },
    {
     "name": "stdout",
     "output_type": "stream",
     "text": [
      "['sprtrn_lag1', 'DlyRet_lag1', 'DlyRet_roll_10', 'DlyRet_roll_20', 'DlyRet_roll_30']\n",
      "Starting training with 432 train batches, 40 test batches\n"
     ]
    },
    {
     "name": "stderr",
     "output_type": "stream",
     "text": [
      "Training:  25%|████████▊                          | 1/4 [00:15<00:45, 15.15s/it]"
     ]
    },
    {
     "name": "stdout",
     "output_type": "stream",
     "text": [
      "Epoch 1/4, Loss: -0.0674, Train fit: -0.0037, Test fit: 0.0229, Avg Weight: 0.0002, Max Weight: 0.0045\n"
     ]
    },
    {
     "name": "stderr",
     "output_type": "stream",
     "text": [
      "Training:  75%|██████████████████████████▎        | 3/4 [00:45<00:15, 15.05s/it]"
     ]
    },
    {
     "name": "stdout",
     "output_type": "stream",
     "text": [
      "Epoch 3/4, Loss: -0.0768, Train fit: 0.0032, Test fit: 0.0270, Avg Weight: 0.0002, Max Weight: 0.0015\n"
     ]
    },
    {
     "name": "stderr",
     "output_type": "stream",
     "text": [
      "Training: 100%|███████████████████████████████████| 4/4 [01:00<00:00, 15.25s/it]"
     ]
    },
    {
     "name": "stdout",
     "output_type": "stream",
     "text": [
      "Epoch 4/4, Loss: -0.0791, Train fit: 0.0053, Test fit: 0.0164, Avg Weight: 0.0002, Max Weight: 0.0015\n",
      "Training completed! Best test Sharpe ratio: 0.0270\n",
      "Training from 2014-05 to 2014-10. Testing on 2014-11.\n"
     ]
    },
    {
     "name": "stderr",
     "output_type": "stream",
     "text": [
      "\n"
     ]
    },
    {
     "name": "stdout",
     "output_type": "stream",
     "text": [
      "['sprtrn_lag1', 'DlyRet_lag1', 'DlyRet_roll_10', 'DlyRet_roll_20', 'DlyRet_roll_30']\n",
      "Starting training with 440 train batches, 33 test batches\n"
     ]
    },
    {
     "name": "stderr",
     "output_type": "stream",
     "text": [
      "Training:  25%|████████▊                          | 1/4 [00:16<00:49, 16.43s/it]"
     ]
    },
    {
     "name": "stdout",
     "output_type": "stream",
     "text": [
      "Epoch 1/4, Loss: -0.0816, Train fit: 0.0053, Test fit: -0.0022, Avg Weight: 0.0002, Max Weight: 0.0005\n"
     ]
    },
    {
     "name": "stderr",
     "output_type": "stream",
     "text": [
      "Training:  75%|██████████████████████████▎        | 3/4 [00:48<00:16, 16.39s/it]"
     ]
    },
    {
     "name": "stdout",
     "output_type": "stream",
     "text": [
      "Epoch 3/4, Loss: -0.0830, Train fit: 0.0069, Test fit: 0.0001, Avg Weight: 0.0002, Max Weight: 0.0005\n"
     ]
    },
    {
     "name": "stderr",
     "output_type": "stream",
     "text": [
      "Training: 100%|███████████████████████████████████| 4/4 [01:05<00:00, 16.30s/it]"
     ]
    },
    {
     "name": "stdout",
     "output_type": "stream",
     "text": [
      "Epoch 4/4, Loss: -0.0828, Train fit: 0.0096, Test fit: 0.0034, Avg Weight: 0.0002, Max Weight: 0.0006\n",
      "Training completed! Best test Sharpe ratio: 0.0034\n",
      "Training from 2014-06 to 2014-11. Testing on 2014-12.\n"
     ]
    },
    {
     "name": "stderr",
     "output_type": "stream",
     "text": [
      "\n"
     ]
    },
    {
     "name": "stdout",
     "output_type": "stream",
     "text": [
      "['sprtrn_lag1', 'DlyRet_lag1', 'DlyRet_roll_10', 'DlyRet_roll_20', 'DlyRet_roll_30']\n",
      "Starting training with 435 train batches, 39 test batches\n"
     ]
    },
    {
     "name": "stderr",
     "output_type": "stream",
     "text": [
      "Training:  25%|████████▊                          | 1/4 [00:15<00:46, 15.41s/it]"
     ]
    },
    {
     "name": "stdout",
     "output_type": "stream",
     "text": [
      "Epoch 1/4, Loss: -0.0746, Train fit: 0.0045, Test fit: -0.0043, Avg Weight: 0.0003, Max Weight: 0.0182\n"
     ]
    },
    {
     "name": "stderr",
     "output_type": "stream",
     "text": [
      "Training:  75%|██████████████████████████▎        | 3/4 [00:48<00:16, 16.09s/it]"
     ]
    },
    {
     "name": "stdout",
     "output_type": "stream",
     "text": [
      "Epoch 3/4, Loss: -0.0763, Train fit: 0.0068, Test fit: -0.0004, Avg Weight: 0.0003, Max Weight: 0.0147\n"
     ]
    },
    {
     "name": "stderr",
     "output_type": "stream",
     "text": [
      "Training: 100%|███████████████████████████████████| 4/4 [01:05<00:00, 16.29s/it]"
     ]
    },
    {
     "name": "stdout",
     "output_type": "stream",
     "text": [
      "Epoch 4/4, Loss: -0.0799, Train fit: 0.0084, Test fit: 0.0011, Avg Weight: 0.0003, Max Weight: 0.0146\n",
      "Training completed! Best test Sharpe ratio: 0.0011\n",
      "Training from 2014-07 to 2014-12. Testing on 2015-01.\n"
     ]
    },
    {
     "name": "stderr",
     "output_type": "stream",
     "text": [
      "\n"
     ]
    },
    {
     "name": "stdout",
     "output_type": "stream",
     "text": [
      "['sprtrn_lag1', 'DlyRet_lag1', 'DlyRet_roll_10', 'DlyRet_roll_20', 'DlyRet_roll_30']\n",
      "Starting training with 440 train batches, 35 test batches\n"
     ]
    },
    {
     "name": "stderr",
     "output_type": "stream",
     "text": [
      "Training:  25%|████████▊                          | 1/4 [00:15<00:47, 15.88s/it]"
     ]
    },
    {
     "name": "stdout",
     "output_type": "stream",
     "text": [
      "Epoch 1/4, Loss: -0.0645, Train fit: -0.0044, Test fit: -0.0216, Avg Weight: 0.0002, Max Weight: 0.0011\n"
     ]
    },
    {
     "name": "stderr",
     "output_type": "stream",
     "text": [
      "Training:  75%|██████████████████████████▎        | 3/4 [00:48<00:16, 16.20s/it]"
     ]
    },
    {
     "name": "stdout",
     "output_type": "stream",
     "text": [
      "Epoch 3/4, Loss: -0.0686, Train fit: -0.0014, Test fit: -0.0244, Avg Weight: 0.0002, Max Weight: 0.0011\n"
     ]
    },
    {
     "name": "stderr",
     "output_type": "stream",
     "text": [
      "Training: 100%|███████████████████████████████████| 4/4 [01:04<00:00, 16.15s/it]"
     ]
    },
    {
     "name": "stdout",
     "output_type": "stream",
     "text": [
      "Epoch 4/4, Loss: -0.0718, Train fit: 0.0003, Test fit: -0.0232, Avg Weight: 0.0002, Max Weight: 0.0011\n",
      "Training completed! Best test Sharpe ratio: -0.0216\n",
      "Training from 2014-08 to 2015-01. Testing on 2015-02.\n"
     ]
    },
    {
     "name": "stderr",
     "output_type": "stream",
     "text": [
      "\n"
     ]
    },
    {
     "name": "stdout",
     "output_type": "stream",
     "text": [
      "['sprtrn_lag1', 'DlyRet_lag1', 'DlyRet_roll_10', 'DlyRet_roll_20', 'DlyRet_roll_30']\n",
      "Starting training with 434 train batches, 33 test batches\n"
     ]
    },
    {
     "name": "stderr",
     "output_type": "stream",
     "text": [
      "Training:  25%|████████▊                          | 1/4 [00:14<00:43, 14.66s/it]"
     ]
    },
    {
     "name": "stdout",
     "output_type": "stream",
     "text": [
      "Epoch 1/4, Loss: -0.0705, Train fit: -0.0009, Test fit: 0.0787, Avg Weight: 0.0002, Max Weight: 0.0009\n"
     ]
    },
    {
     "name": "stderr",
     "output_type": "stream",
     "text": [
      "Training:  75%|██████████████████████████▎        | 3/4 [00:48<00:16, 16.25s/it]"
     ]
    },
    {
     "name": "stdout",
     "output_type": "stream",
     "text": [
      "Epoch 3/4, Loss: -0.0743, Train fit: 0.0029, Test fit: 0.0812, Avg Weight: 0.0002, Max Weight: 0.0006\n"
     ]
    },
    {
     "name": "stderr",
     "output_type": "stream",
     "text": [
      "Training: 100%|███████████████████████████████████| 4/4 [01:03<00:00, 15.96s/it]"
     ]
    },
    {
     "name": "stdout",
     "output_type": "stream",
     "text": [
      "Epoch 4/4, Loss: -0.0765, Train fit: 0.0054, Test fit: 0.0824, Avg Weight: 0.0002, Max Weight: 0.0006\n",
      "Training completed! Best test Sharpe ratio: 0.0856\n",
      "Training from 2014-09 to 2015-02. Testing on 2015-03.\n"
     ]
    },
    {
     "name": "stderr",
     "output_type": "stream",
     "text": [
      "\n"
     ]
    },
    {
     "name": "stdout",
     "output_type": "stream",
     "text": [
      "['sprtrn_lag1', 'DlyRet_lag1', 'DlyRet_roll_10', 'DlyRet_roll_20', 'DlyRet_roll_30']\n",
      "Starting training with 428 train batches, 39 test batches\n"
     ]
    },
    {
     "name": "stderr",
     "output_type": "stream",
     "text": [
      "Training:  25%|████████▊                          | 1/4 [00:16<00:50, 16.94s/it]"
     ]
    },
    {
     "name": "stdout",
     "output_type": "stream",
     "text": [
      "Epoch 1/4, Loss: -0.0779, Train fit: 0.0029, Test fit: -0.0039, Avg Weight: 0.0003, Max Weight: 0.0712\n"
     ]
    },
    {
     "name": "stderr",
     "output_type": "stream",
     "text": [
      "Training:  75%|██████████████████████████▎        | 3/4 [00:49<00:16, 16.31s/it]"
     ]
    },
    {
     "name": "stdout",
     "output_type": "stream",
     "text": [
      "Epoch 3/4, Loss: -0.0750, Train fit: 0.0043, Test fit: -0.0034, Avg Weight: 0.0003, Max Weight: 0.0584\n"
     ]
    },
    {
     "name": "stderr",
     "output_type": "stream",
     "text": [
      "Training: 100%|███████████████████████████████████| 4/4 [01:06<00:00, 16.73s/it]"
     ]
    },
    {
     "name": "stdout",
     "output_type": "stream",
     "text": [
      "Epoch 4/4, Loss: -0.0733, Train fit: 0.0048, Test fit: -0.0036, Avg Weight: 0.0003, Max Weight: 0.0584\n",
      "Training completed! Best test Sharpe ratio: -0.0034\n",
      "Training from 2014-10 to 2015-03. Testing on 2015-04.\n"
     ]
    },
    {
     "name": "stderr",
     "output_type": "stream",
     "text": [
      "\n"
     ]
    },
    {
     "name": "stdout",
     "output_type": "stream",
     "text": [
      "['sprtrn_lag1', 'DlyRet_lag1', 'DlyRet_roll_10', 'DlyRet_roll_20', 'DlyRet_roll_30']\n",
      "Starting training with 432 train batches, 37 test batches\n"
     ]
    },
    {
     "name": "stderr",
     "output_type": "stream",
     "text": [
      "Training:  25%|████████▊                          | 1/4 [00:18<00:55, 18.34s/it]"
     ]
    },
    {
     "name": "stdout",
     "output_type": "stream",
     "text": [
      "Epoch 1/4, Loss: -0.0799, Train fit: 0.0148, Test fit: 0.0077, Avg Weight: 0.0002, Max Weight: 0.0013\n"
     ]
    },
    {
     "name": "stderr",
     "output_type": "stream",
     "text": [
      "Training:  75%|██████████████████████████▎        | 3/4 [00:49<00:16, 16.18s/it]"
     ]
    },
    {
     "name": "stdout",
     "output_type": "stream",
     "text": [
      "Epoch 3/4, Loss: -0.0880, Train fit: 0.0181, Test fit: 0.0020, Avg Weight: 0.0002, Max Weight: 0.0013\n"
     ]
    },
    {
     "name": "stderr",
     "output_type": "stream",
     "text": [
      "Training: 100%|███████████████████████████████████| 4/4 [01:05<00:00, 16.34s/it]"
     ]
    },
    {
     "name": "stdout",
     "output_type": "stream",
     "text": [
      "Epoch 4/4, Loss: -0.0908, Train fit: 0.0190, Test fit: 0.0022, Avg Weight: 0.0002, Max Weight: 0.0013\n",
      "Training completed! Best test Sharpe ratio: 0.0077\n",
      "Training from 2014-11 to 2015-04. Testing on 2015-05.\n"
     ]
    },
    {
     "name": "stderr",
     "output_type": "stream",
     "text": [
      "\n"
     ]
    },
    {
     "name": "stdout",
     "output_type": "stream",
     "text": [
      "['sprtrn_lag1', 'DlyRet_lag1', 'DlyRet_roll_10', 'DlyRet_roll_20', 'DlyRet_roll_30']\n",
      "Starting training with 425 train batches, 35 test batches\n"
     ]
    },
    {
     "name": "stderr",
     "output_type": "stream",
     "text": [
      "Training:  25%|████████▊                          | 1/4 [00:14<00:44, 14.88s/it]"
     ]
    },
    {
     "name": "stdout",
     "output_type": "stream",
     "text": [
      "Epoch 1/4, Loss: -0.0717, Train fit: 0.0127, Test fit: -0.0049, Avg Weight: 0.0002, Max Weight: 0.0007\n"
     ]
    },
    {
     "name": "stderr",
     "output_type": "stream",
     "text": [
      "Training:  75%|██████████████████████████▎        | 3/4 [00:44<00:14, 14.92s/it]"
     ]
    },
    {
     "name": "stdout",
     "output_type": "stream",
     "text": [
      "Epoch 3/4, Loss: -0.0864, Train fit: 0.0137, Test fit: -0.0026, Avg Weight: 0.0002, Max Weight: 0.0006\n"
     ]
    },
    {
     "name": "stderr",
     "output_type": "stream",
     "text": [
      "Training: 100%|███████████████████████████████████| 4/4 [00:59<00:00, 14.80s/it]"
     ]
    },
    {
     "name": "stdout",
     "output_type": "stream",
     "text": [
      "Epoch 4/4, Loss: -0.0882, Train fit: 0.0148, Test fit: -0.0000, Avg Weight: 0.0002, Max Weight: 0.0006\n",
      "Training completed! Best test Sharpe ratio: -0.0000\n",
      "Training from 2014-12 to 2015-05. Testing on 2015-06.\n"
     ]
    },
    {
     "name": "stderr",
     "output_type": "stream",
     "text": [
      "\n"
     ]
    },
    {
     "name": "stdout",
     "output_type": "stream",
     "text": [
      "['sprtrn_lag1', 'DlyRet_lag1', 'DlyRet_roll_10', 'DlyRet_roll_20', 'DlyRet_roll_30']\n",
      "Starting training with 429 train batches, 39 test batches\n"
     ]
    },
    {
     "name": "stderr",
     "output_type": "stream",
     "text": [
      "Training:  25%|████████▊                          | 1/4 [00:15<00:47, 15.72s/it]"
     ]
    },
    {
     "name": "stdout",
     "output_type": "stream",
     "text": [
      "Epoch 1/4, Loss: -0.0755, Train fit: 0.0103, Test fit: -0.0285, Avg Weight: 0.0002, Max Weight: 0.0019\n"
     ]
    },
    {
     "name": "stderr",
     "output_type": "stream",
     "text": [
      "Training:  75%|██████████████████████████▎        | 3/4 [00:46<00:15, 15.37s/it]"
     ]
    },
    {
     "name": "stdout",
     "output_type": "stream",
     "text": [
      "Epoch 3/4, Loss: -0.0850, Train fit: 0.0129, Test fit: -0.0236, Avg Weight: 0.0002, Max Weight: 0.0014\n"
     ]
    },
    {
     "name": "stderr",
     "output_type": "stream",
     "text": [
      "Training: 100%|███████████████████████████████████| 4/4 [01:02<00:00, 15.70s/it]"
     ]
    },
    {
     "name": "stdout",
     "output_type": "stream",
     "text": [
      "Epoch 4/4, Loss: -0.0864, Train fit: 0.0141, Test fit: -0.0217, Avg Weight: 0.0002, Max Weight: 0.0013\n",
      "Training completed! Best test Sharpe ratio: -0.0217\n",
      "Training from 2015-01 to 2015-06. Testing on 2015-07.\n"
     ]
    },
    {
     "name": "stderr",
     "output_type": "stream",
     "text": [
      "\n"
     ]
    },
    {
     "name": "stdout",
     "output_type": "stream",
     "text": [
      "['sprtrn_lag1', 'DlyRet_lag1', 'DlyRet_roll_10', 'DlyRet_roll_20', 'DlyRet_roll_30']\n",
      "Starting training with 430 train batches, 39 test batches\n"
     ]
    },
    {
     "name": "stderr",
     "output_type": "stream",
     "text": [
      "Training:  25%|████████▊                          | 1/4 [00:15<00:47, 15.97s/it]"
     ]
    },
    {
     "name": "stdout",
     "output_type": "stream",
     "text": [
      "Epoch 1/4, Loss: -0.0763, Train fit: 0.0089, Test fit: -0.0263, Avg Weight: 0.0002, Max Weight: 0.0011\n"
     ]
    },
    {
     "name": "stderr",
     "output_type": "stream",
     "text": [
      "Training:  75%|██████████████████████████▎        | 3/4 [00:47<00:15, 15.79s/it]"
     ]
    },
    {
     "name": "stdout",
     "output_type": "stream",
     "text": [
      "Epoch 3/4, Loss: -0.0810, Train fit: 0.0106, Test fit: -0.0306, Avg Weight: 0.0002, Max Weight: 0.0011\n"
     ]
    },
    {
     "name": "stderr",
     "output_type": "stream",
     "text": [
      "Training: 100%|███████████████████████████████████| 4/4 [01:02<00:00, 15.73s/it]"
     ]
    },
    {
     "name": "stdout",
     "output_type": "stream",
     "text": [
      "Epoch 4/4, Loss: -0.0832, Train fit: 0.0114, Test fit: -0.0302, Avg Weight: 0.0002, Max Weight: 0.0011\n",
      "Training completed! Best test Sharpe ratio: -0.0263\n",
      "Training from 2015-02 to 2015-07. Testing on 2015-08.\n"
     ]
    },
    {
     "name": "stderr",
     "output_type": "stream",
     "text": [
      "\n"
     ]
    },
    {
     "name": "stdout",
     "output_type": "stream",
     "text": [
      "['sprtrn_lag1', 'DlyRet_lag1', 'DlyRet_roll_10', 'DlyRet_roll_20', 'DlyRet_roll_30']\n",
      "Starting training with 438 train batches, 38 test batches\n"
     ]
    },
    {
     "name": "stderr",
     "output_type": "stream",
     "text": [
      "Training:  25%|████████▊                          | 1/4 [00:14<00:44, 14.91s/it]"
     ]
    },
    {
     "name": "stdout",
     "output_type": "stream",
     "text": [
      "Epoch 1/4, Loss: -0.0726, Train fit: 0.0079, Test fit: -0.0502, Avg Weight: 0.0003, Max Weight: 0.0055\n"
     ]
    },
    {
     "name": "stderr",
     "output_type": "stream",
     "text": [
      "Training:  75%|██████████████████████████▎        | 3/4 [00:50<00:17, 17.28s/it]"
     ]
    },
    {
     "name": "stdout",
     "output_type": "stream",
     "text": [
      "Epoch 3/4, Loss: -0.0800, Train fit: 0.0126, Test fit: -0.0504, Avg Weight: 0.0003, Max Weight: 0.0177\n"
     ]
    },
    {
     "name": "stderr",
     "output_type": "stream",
     "text": [
      "Training: 100%|███████████████████████████████████| 4/4 [01:08<00:00, 17.20s/it]"
     ]
    },
    {
     "name": "stdout",
     "output_type": "stream",
     "text": [
      "Epoch 4/4, Loss: -0.0835, Train fit: 0.0130, Test fit: -0.0516, Avg Weight: 0.0003, Max Weight: 0.0177\n",
      "Training completed! Best test Sharpe ratio: -0.0394\n",
      "Training from 2015-03 to 2015-08. Testing on 2015-09.\n"
     ]
    },
    {
     "name": "stderr",
     "output_type": "stream",
     "text": [
      "\n"
     ]
    },
    {
     "name": "stdout",
     "output_type": "stream",
     "text": [
      "['sprtrn_lag1', 'DlyRet_lag1', 'DlyRet_roll_10', 'DlyRet_roll_20', 'DlyRet_roll_30']\n",
      "Starting training with 447 train batches, 38 test batches\n"
     ]
    },
    {
     "name": "stderr",
     "output_type": "stream",
     "text": [
      "Training:  25%|████████▊                          | 1/4 [00:14<00:43, 14.43s/it]"
     ]
    },
    {
     "name": "stdout",
     "output_type": "stream",
     "text": [
      "Epoch 1/4, Loss: -0.0500, Train fit: -0.0031, Test fit: -0.0128, Avg Weight: 0.0003, Max Weight: 0.3424\n"
     ]
    },
    {
     "name": "stderr",
     "output_type": "stream",
     "text": [
      "Training:  75%|██████████████████████████▎        | 3/4 [00:43<00:14, 14.53s/it]"
     ]
    },
    {
     "name": "stdout",
     "output_type": "stream",
     "text": [
      "Epoch 3/4, Loss: -0.0577, Train fit: -0.0053, Test fit: -0.0265, Avg Weight: 0.0003, Max Weight: 0.3961\n"
     ]
    },
    {
     "name": "stderr",
     "output_type": "stream",
     "text": [
      "Training: 100%|███████████████████████████████████| 4/4 [01:01<00:00, 15.44s/it]"
     ]
    },
    {
     "name": "stdout",
     "output_type": "stream",
     "text": [
      "Epoch 4/4, Loss: -0.0575, Train fit: -0.0022, Test fit: -0.0087, Avg Weight: 0.0003, Max Weight: 0.1269\n",
      "Training completed! Best test Sharpe ratio: -0.0087\n",
      "Training from 2015-04 to 2015-09. Testing on 2015-10.\n"
     ]
    },
    {
     "name": "stderr",
     "output_type": "stream",
     "text": [
      "\n"
     ]
    },
    {
     "name": "stdout",
     "output_type": "stream",
     "text": [
      "['sprtrn_lag1', 'DlyRet_lag1', 'DlyRet_roll_10', 'DlyRet_roll_20', 'DlyRet_roll_30']\n",
      "Starting training with 445 train batches, 39 test batches\n"
     ]
    },
    {
     "name": "stderr",
     "output_type": "stream",
     "text": [
      "Training:  25%|████████▊                          | 1/4 [00:15<00:47, 15.70s/it]"
     ]
    },
    {
     "name": "stdout",
     "output_type": "stream",
     "text": [
      "Epoch 1/4, Loss: -0.0406, Train fit: -0.0109, Test fit: 0.0277, Avg Weight: 0.0002, Max Weight: 0.0089\n"
     ]
    },
    {
     "name": "stderr",
     "output_type": "stream",
     "text": [
      "Training:  75%|██████████████████████████▎        | 3/4 [00:47<00:15, 15.70s/it]"
     ]
    },
    {
     "name": "stdout",
     "output_type": "stream",
     "text": [
      "Epoch 3/4, Loss: -0.0470, Train fit: -0.0088, Test fit: 0.0296, Avg Weight: 0.0002, Max Weight: 0.0064\n"
     ]
    },
    {
     "name": "stderr",
     "output_type": "stream",
     "text": [
      "Training: 100%|███████████████████████████████████| 4/4 [01:04<00:00, 16.05s/it]"
     ]
    },
    {
     "name": "stdout",
     "output_type": "stream",
     "text": [
      "Epoch 4/4, Loss: -0.0495, Train fit: -0.0086, Test fit: 0.0320, Avg Weight: 0.0002, Max Weight: 0.0055\n",
      "Training completed! Best test Sharpe ratio: 0.0320\n",
      "Training from 2015-05 to 2015-10. Testing on 2015-11.\n"
     ]
    },
    {
     "name": "stderr",
     "output_type": "stream",
     "text": [
      "\n"
     ]
    },
    {
     "name": "stdout",
     "output_type": "stream",
     "text": [
      "['sprtrn_lag1', 'DlyRet_lag1', 'DlyRet_roll_10', 'DlyRet_roll_20', 'DlyRet_roll_30']\n",
      "Starting training with 450 train batches, 36 test batches\n"
     ]
    },
    {
     "name": "stderr",
     "output_type": "stream",
     "text": [
      "Training:  25%|████████▊                          | 1/4 [00:16<00:49, 16.50s/it]"
     ]
    },
    {
     "name": "stdout",
     "output_type": "stream",
     "text": [
      "Epoch 1/4, Loss: -0.0481, Train fit: -0.0162, Test fit: 0.0124, Avg Weight: 0.0002, Max Weight: 0.0027\n"
     ]
    },
    {
     "name": "stderr",
     "output_type": "stream",
     "text": [
      "Training:  75%|██████████████████████████▎        | 3/4 [00:49<00:16, 16.46s/it]"
     ]
    },
    {
     "name": "stdout",
     "output_type": "stream",
     "text": [
      "Epoch 3/4, Loss: -0.0567, Train fit: -0.0075, Test fit: 0.0121, Avg Weight: 0.0002, Max Weight: 0.0019\n"
     ]
    },
    {
     "name": "stderr",
     "output_type": "stream",
     "text": [
      "Training: 100%|███████████████████████████████████| 4/4 [01:05<00:00, 16.44s/it]"
     ]
    },
    {
     "name": "stdout",
     "output_type": "stream",
     "text": [
      "Epoch 4/4, Loss: -0.0597, Train fit: -0.0105, Test fit: 0.0008, Avg Weight: 0.0002, Max Weight: 0.0019\n",
      "Training completed! Best test Sharpe ratio: 0.0173\n",
      "Training from 2015-06 to 2015-11. Testing on 2015-12.\n"
     ]
    },
    {
     "name": "stderr",
     "output_type": "stream",
     "text": [
      "\n"
     ]
    },
    {
     "name": "stdout",
     "output_type": "stream",
     "text": [
      "['sprtrn_lag1', 'DlyRet_lag1', 'DlyRet_roll_10', 'DlyRet_roll_20', 'DlyRet_roll_30']\n",
      "Starting training with 452 train batches, 40 test batches\n"
     ]
    },
    {
     "name": "stderr",
     "output_type": "stream",
     "text": [
      "Training:  25%|████████▊                          | 1/4 [00:14<00:42, 14.24s/it]"
     ]
    },
    {
     "name": "stdout",
     "output_type": "stream",
     "text": [
      "Epoch 1/4, Loss: -0.0401, Train fit: -0.0138, Test fit: -0.0253, Avg Weight: 0.0003, Max Weight: 0.0238\n"
     ]
    },
    {
     "name": "stderr",
     "output_type": "stream",
     "text": [
      "Training:  75%|██████████████████████████▎        | 3/4 [00:44<00:14, 14.70s/it]"
     ]
    },
    {
     "name": "stdout",
     "output_type": "stream",
     "text": [
      "Epoch 3/4, Loss: -0.0517, Train fit: -0.0092, Test fit: -0.0263, Avg Weight: 0.0003, Max Weight: 0.0238\n"
     ]
    },
    {
     "name": "stderr",
     "output_type": "stream",
     "text": [
      "Training: 100%|███████████████████████████████████| 4/4 [00:59<00:00, 14.99s/it]"
     ]
    },
    {
     "name": "stdout",
     "output_type": "stream",
     "text": [
      "Epoch 4/4, Loss: -0.0543, Train fit: -0.0067, Test fit: -0.0272, Avg Weight: 0.0003, Max Weight: 0.0238\n",
      "Training completed! Best test Sharpe ratio: -0.0253\n",
      "Training from 2015-07 to 2015-12. Testing on 2016-01.\n"
     ]
    },
    {
     "name": "stderr",
     "output_type": "stream",
     "text": [
      "\n"
     ]
    },
    {
     "name": "stdout",
     "output_type": "stream",
     "text": [
      "['sprtrn_lag1', 'DlyRet_lag1', 'DlyRet_roll_10', 'DlyRet_roll_20', 'DlyRet_roll_30']\n",
      "Starting training with 453 train batches, 34 test batches\n"
     ]
    },
    {
     "name": "stderr",
     "output_type": "stream",
     "text": [
      "Training:  25%|████████▊                          | 1/4 [00:16<00:48, 16.03s/it]"
     ]
    },
    {
     "name": "stdout",
     "output_type": "stream",
     "text": [
      "Epoch 1/4, Loss: -0.0472, Train fit: -0.0150, Test fit: -0.0603, Avg Weight: 0.0002, Max Weight: 0.0011\n"
     ]
    },
    {
     "name": "stderr",
     "output_type": "stream",
     "text": [
      "Training:  75%|██████████████████████████▎        | 3/4 [00:50<00:17, 17.04s/it]"
     ]
    },
    {
     "name": "stdout",
     "output_type": "stream",
     "text": [
      "Epoch 3/4, Loss: -0.0540, Train fit: -0.0128, Test fit: -0.0610, Avg Weight: 0.0002, Max Weight: 0.0011\n"
     ]
    },
    {
     "name": "stderr",
     "output_type": "stream",
     "text": [
      "Training: 100%|███████████████████████████████████| 4/4 [01:06<00:00, 16.53s/it]"
     ]
    },
    {
     "name": "stdout",
     "output_type": "stream",
     "text": [
      "Epoch 4/4, Loss: -0.0582, Train fit: -0.0103, Test fit: -0.0586, Avg Weight: 0.0002, Max Weight: 0.0012\n",
      "Training completed! Best test Sharpe ratio: -0.0586\n",
      "Training from 2015-08 to 2016-01. Testing on 2016-02.\n"
     ]
    },
    {
     "name": "stderr",
     "output_type": "stream",
     "text": [
      "\n"
     ]
    },
    {
     "name": "stdout",
     "output_type": "stream",
     "text": [
      "['sprtrn_lag1', 'DlyRet_lag1', 'DlyRet_roll_10', 'DlyRet_roll_20', 'DlyRet_roll_30']\n",
      "Starting training with 443 train batches, 36 test batches\n"
     ]
    },
    {
     "name": "stderr",
     "output_type": "stream",
     "text": [
      "Training:  25%|████████▊                          | 1/4 [00:15<00:45, 15.23s/it]"
     ]
    },
    {
     "name": "stdout",
     "output_type": "stream",
     "text": [
      "Epoch 1/4, Loss: -0.0327, Train fit: -0.0074, Test fit: 0.0207, Avg Weight: 0.0002, Max Weight: 0.0201\n"
     ]
    },
    {
     "name": "stderr",
     "output_type": "stream",
     "text": [
      "Training:  75%|██████████████████████████▎        | 3/4 [00:47<00:15, 15.80s/it]"
     ]
    },
    {
     "name": "stdout",
     "output_type": "stream",
     "text": [
      "Epoch 3/4, Loss: -0.0472, Train fit: -0.0053, Test fit: 0.0230, Avg Weight: 0.0002, Max Weight: 0.0261\n"
     ]
    },
    {
     "name": "stderr",
     "output_type": "stream",
     "text": [
      "Training: 100%|███████████████████████████████████| 4/4 [01:03<00:00, 15.90s/it]"
     ]
    },
    {
     "name": "stdout",
     "output_type": "stream",
     "text": [
      "Epoch 4/4, Loss: -0.0477, Train fit: -0.0007, Test fit: 0.0243, Avg Weight: 0.0002, Max Weight: 0.0422\n",
      "Training completed! Best test Sharpe ratio: 0.0243\n",
      "Training from 2015-09 to 2016-02. Testing on 2016-03.\n"
     ]
    },
    {
     "name": "stderr",
     "output_type": "stream",
     "text": [
      "\n"
     ]
    },
    {
     "name": "stdout",
     "output_type": "stream",
     "text": [
      "['sprtrn_lag1', 'DlyRet_lag1', 'DlyRet_roll_10', 'DlyRet_roll_20', 'DlyRet_roll_30']\n",
      "Starting training with 439 train batches, 39 test batches\n"
     ]
    },
    {
     "name": "stderr",
     "output_type": "stream",
     "text": [
      "Training:  25%|████████▊                          | 1/4 [00:16<00:48, 16.28s/it]"
     ]
    },
    {
     "name": "stdout",
     "output_type": "stream",
     "text": [
      "Epoch 1/4, Loss: -0.0407, Train fit: -0.0077, Test fit: 0.0870, Avg Weight: 0.0002, Max Weight: 0.0013\n"
     ]
    },
    {
     "name": "stderr",
     "output_type": "stream",
     "text": [
      "Training:  75%|██████████████████████████▎        | 3/4 [00:49<00:16, 16.58s/it]"
     ]
    },
    {
     "name": "stdout",
     "output_type": "stream",
     "text": [
      "Epoch 3/4, Loss: -0.0597, Train fit: -0.0037, Test fit: 0.0896, Avg Weight: 0.0002, Max Weight: 0.0011\n"
     ]
    },
    {
     "name": "stderr",
     "output_type": "stream",
     "text": [
      "Training: 100%|███████████████████████████████████| 4/4 [01:05<00:00, 16.36s/it]"
     ]
    },
    {
     "name": "stdout",
     "output_type": "stream",
     "text": [
      "Epoch 4/4, Loss: -0.0613, Train fit: -0.0015, Test fit: 0.0887, Avg Weight: 0.0002, Max Weight: 0.0011\n",
      "Training completed! Best test Sharpe ratio: 0.0896\n",
      "Training from 2015-10 to 2016-03. Testing on 2016-04.\n"
     ]
    },
    {
     "name": "stderr",
     "output_type": "stream",
     "text": [
      "\n"
     ]
    },
    {
     "name": "stdout",
     "output_type": "stream",
     "text": [
      "['sprtrn_lag1', 'DlyRet_lag1', 'DlyRet_roll_10', 'DlyRet_roll_20', 'DlyRet_roll_30']\n",
      "Starting training with 442 train batches, 37 test batches\n"
     ]
    },
    {
     "name": "stderr",
     "output_type": "stream",
     "text": [
      "Training:  25%|████████▊                          | 1/4 [00:15<00:46, 15.41s/it]"
     ]
    },
    {
     "name": "stdout",
     "output_type": "stream",
     "text": [
      "Epoch 1/4, Loss: -0.0720, Train fit: 0.0125, Test fit: 0.0483, Avg Weight: 0.0002, Max Weight: 0.0007\n"
     ]
    },
    {
     "name": "stderr",
     "output_type": "stream",
     "text": [
      "Training:  75%|██████████████████████████▎        | 3/4 [00:47<00:15, 15.84s/it]"
     ]
    },
    {
     "name": "stdout",
     "output_type": "stream",
     "text": [
      "Epoch 3/4, Loss: -0.0663, Train fit: 0.0148, Test fit: 0.0476, Avg Weight: 0.0002, Max Weight: 0.0006\n"
     ]
    },
    {
     "name": "stderr",
     "output_type": "stream",
     "text": [
      "Training: 100%|███████████████████████████████████| 4/4 [01:03<00:00, 15.95s/it]"
     ]
    },
    {
     "name": "stdout",
     "output_type": "stream",
     "text": [
      "Epoch 4/4, Loss: -0.0834, Train fit: 0.0165, Test fit: 0.0480, Avg Weight: 0.0002, Max Weight: 0.0006\n",
      "Training completed! Best test Sharpe ratio: 0.0491\n",
      "Training from 2015-11 to 2016-04. Testing on 2016-05.\n"
     ]
    },
    {
     "name": "stderr",
     "output_type": "stream",
     "text": [
      "\n"
     ]
    },
    {
     "name": "stdout",
     "output_type": "stream",
     "text": [
      "['sprtrn_lag1', 'DlyRet_lag1', 'DlyRet_roll_10', 'DlyRet_roll_20', 'DlyRet_roll_30']\n",
      "Starting training with 439 train batches, 37 test batches\n"
     ]
    },
    {
     "name": "stderr",
     "output_type": "stream",
     "text": [
      "Training:  25%|████████▊                          | 1/4 [00:15<00:46, 15.51s/it]"
     ]
    },
    {
     "name": "stdout",
     "output_type": "stream",
     "text": [
      "Epoch 1/4, Loss: -0.0788, Train fit: 0.0035, Test fit: -0.0022, Avg Weight: 0.0002, Max Weight: 0.0005\n"
     ]
    },
    {
     "name": "stderr",
     "output_type": "stream",
     "text": [
      "Training:  75%|██████████████████████████▎        | 3/4 [00:46<00:15, 15.57s/it]"
     ]
    },
    {
     "name": "stdout",
     "output_type": "stream",
     "text": [
      "Epoch 3/4, Loss: -0.0696, Train fit: 0.0034, Test fit: 0.0000, Avg Weight: 0.0002, Max Weight: 0.0004\n"
     ]
    },
    {
     "name": "stderr",
     "output_type": "stream",
     "text": [
      "Training: 100%|███████████████████████████████████| 4/4 [01:01<00:00, 15.45s/it]"
     ]
    },
    {
     "name": "stdout",
     "output_type": "stream",
     "text": [
      "Epoch 4/4, Loss: -0.0920, Train fit: 0.0035, Test fit: 0.0011, Avg Weight: 0.0002, Max Weight: 0.0004\n",
      "Training completed! Best test Sharpe ratio: 0.0011\n",
      "Training from 2015-12 to 2016-05. Testing on 2016-06.\n"
     ]
    },
    {
     "name": "stderr",
     "output_type": "stream",
     "text": [
      "\n"
     ]
    },
    {
     "name": "stdout",
     "output_type": "stream",
     "text": [
      "['sprtrn_lag1', 'DlyRet_lag1', 'DlyRet_roll_10', 'DlyRet_roll_20', 'DlyRet_roll_30']\n",
      "Starting training with 442 train batches, 39 test batches\n"
     ]
    },
    {
     "name": "stderr",
     "output_type": "stream",
     "text": [
      "Training:  25%|████████▊                          | 1/4 [00:15<00:47, 15.80s/it]"
     ]
    },
    {
     "name": "stdout",
     "output_type": "stream",
     "text": [
      "Epoch 1/4, Loss: -0.0745, Train fit: 0.0053, Test fit: 0.0129, Avg Weight: 0.0002, Max Weight: 0.0010\n"
     ]
    },
    {
     "name": "stderr",
     "output_type": "stream",
     "text": [
      "Training:  75%|██████████████████████████▎        | 3/4 [00:48<00:16, 16.48s/it]"
     ]
    },
    {
     "name": "stdout",
     "output_type": "stream",
     "text": [
      "Epoch 3/4, Loss: -0.0829, Train fit: 0.0058, Test fit: 0.0134, Avg Weight: 0.0002, Max Weight: 0.0011\n"
     ]
    },
    {
     "name": "stderr",
     "output_type": "stream",
     "text": [
      "Training: 100%|███████████████████████████████████| 4/4 [01:05<00:00, 16.28s/it]"
     ]
    },
    {
     "name": "stdout",
     "output_type": "stream",
     "text": [
      "Epoch 4/4, Loss: -0.0823, Train fit: 0.0071, Test fit: 0.0156, Avg Weight: 0.0002, Max Weight: 0.0007\n",
      "Training completed! Best test Sharpe ratio: 0.0156\n",
      "Training from 2016-01 to 2016-06. Testing on 2016-07.\n"
     ]
    },
    {
     "name": "stderr",
     "output_type": "stream",
     "text": [
      "\n"
     ]
    },
    {
     "name": "stdout",
     "output_type": "stream",
     "text": [
      "['sprtrn_lag1', 'DlyRet_lag1', 'DlyRet_roll_10', 'DlyRet_roll_20', 'DlyRet_roll_30']\n",
      "Starting training with 441 train batches, 36 test batches\n"
     ]
    },
    {
     "name": "stderr",
     "output_type": "stream",
     "text": [
      "Training:  25%|████████▊                          | 1/4 [00:16<00:48, 16.00s/it]"
     ]
    },
    {
     "name": "stdout",
     "output_type": "stream",
     "text": [
      "Epoch 1/4, Loss: -0.0972, Train fit: 0.0164, Test fit: 0.0697, Avg Weight: 0.0002, Max Weight: 0.0051\n"
     ]
    },
    {
     "name": "stderr",
     "output_type": "stream",
     "text": [
      "Training:  75%|██████████████████████████▎        | 3/4 [00:46<00:15, 15.52s/it]"
     ]
    },
    {
     "name": "stdout",
     "output_type": "stream",
     "text": [
      "Epoch 3/4, Loss: -0.0882, Train fit: 0.0195, Test fit: 0.0739, Avg Weight: 0.0002, Max Weight: 0.0047\n"
     ]
    },
    {
     "name": "stderr",
     "output_type": "stream",
     "text": [
      "Training: 100%|███████████████████████████████████| 4/4 [01:02<00:00, 15.73s/it]"
     ]
    },
    {
     "name": "stdout",
     "output_type": "stream",
     "text": [
      "Epoch 4/4, Loss: -0.0966, Train fit: 0.0196, Test fit: 0.0792, Avg Weight: 0.0002, Max Weight: 0.0037\n",
      "Training completed! Best test Sharpe ratio: 0.0792\n",
      "Training from 2016-02 to 2016-07. Testing on 2016-08.\n"
     ]
    },
    {
     "name": "stderr",
     "output_type": "stream",
     "text": [
      "\n"
     ]
    },
    {
     "name": "stdout",
     "output_type": "stream",
     "text": [
      "['sprtrn_lag1', 'DlyRet_lag1', 'DlyRet_roll_10', 'DlyRet_roll_20', 'DlyRet_roll_30']\n",
      "Starting training with 444 train batches, 41 test batches\n"
     ]
    },
    {
     "name": "stderr",
     "output_type": "stream",
     "text": [
      "Training:  25%|████████▊                          | 1/4 [00:16<00:49, 16.37s/it]"
     ]
    },
    {
     "name": "stdout",
     "output_type": "stream",
     "text": [
      "Epoch 1/4, Loss: -0.1187, Train fit: 0.0462, Test fit: 0.0163, Avg Weight: 0.0002, Max Weight: 0.0010\n"
     ]
    },
    {
     "name": "stderr",
     "output_type": "stream",
     "text": [
      "Training:  75%|██████████████████████████▎        | 3/4 [00:50<00:16, 16.77s/it]"
     ]
    },
    {
     "name": "stdout",
     "output_type": "stream",
     "text": [
      "Epoch 3/4, Loss: -0.1292, Train fit: 0.0494, Test fit: 0.0149, Avg Weight: 0.0002, Max Weight: 0.0010\n"
     ]
    },
    {
     "name": "stderr",
     "output_type": "stream",
     "text": [
      "Training: 100%|███████████████████████████████████| 4/4 [01:05<00:00, 16.46s/it]"
     ]
    },
    {
     "name": "stdout",
     "output_type": "stream",
     "text": [
      "Epoch 4/4, Loss: -0.1311, Train fit: 0.0504, Test fit: 0.0153, Avg Weight: 0.0002, Max Weight: 0.0010\n",
      "Training completed! Best test Sharpe ratio: 0.0163\n",
      "Training from 2016-03 to 2016-08. Testing on 2016-09.\n"
     ]
    },
    {
     "name": "stderr",
     "output_type": "stream",
     "text": [
      "\n"
     ]
    },
    {
     "name": "stdout",
     "output_type": "stream",
     "text": [
      "['sprtrn_lag1', 'DlyRet_lag1', 'DlyRet_roll_10', 'DlyRet_roll_20', 'DlyRet_roll_30']\n",
      "Starting training with 454 train batches, 37 test batches\n"
     ]
    },
    {
     "name": "stderr",
     "output_type": "stream",
     "text": [
      "Training:  25%|████████▊                          | 1/4 [00:15<00:47, 15.73s/it]"
     ]
    },
    {
     "name": "stdout",
     "output_type": "stream",
     "text": [
      "Epoch 1/4, Loss: -0.1156, Train fit: 0.0480, Test fit: 0.0216, Avg Weight: 0.0002, Max Weight: 0.0005\n"
     ]
    },
    {
     "name": "stderr",
     "output_type": "stream",
     "text": [
      "Training:  75%|██████████████████████████▎        | 3/4 [00:48<00:16, 16.40s/it]"
     ]
    },
    {
     "name": "stdout",
     "output_type": "stream",
     "text": [
      "Epoch 3/4, Loss: -0.1280, Train fit: 0.0508, Test fit: 0.0212, Avg Weight: 0.0002, Max Weight: 0.0005\n"
     ]
    },
    {
     "name": "stderr",
     "output_type": "stream",
     "text": [
      "Training: 100%|███████████████████████████████████| 4/4 [01:04<00:00, 16.19s/it]"
     ]
    },
    {
     "name": "stdout",
     "output_type": "stream",
     "text": [
      "Epoch 4/4, Loss: -0.1302, Train fit: 0.0518, Test fit: 0.0219, Avg Weight: 0.0002, Max Weight: 0.0005\n",
      "Training completed! Best test Sharpe ratio: 0.0219\n",
      "Training from 2016-04 to 2016-09. Testing on 2016-10.\n"
     ]
    },
    {
     "name": "stderr",
     "output_type": "stream",
     "text": [
      "\n"
     ]
    },
    {
     "name": "stdout",
     "output_type": "stream",
     "text": [
      "['sprtrn_lag1', 'DlyRet_lag1', 'DlyRet_roll_10', 'DlyRet_roll_20', 'DlyRet_roll_30']\n",
      "Starting training with 450 train batches, 37 test batches\n"
     ]
    },
    {
     "name": "stderr",
     "output_type": "stream",
     "text": [
      "Training:  25%|████████▊                          | 1/4 [00:15<00:46, 15.61s/it]"
     ]
    },
    {
     "name": "stdout",
     "output_type": "stream",
     "text": [
      "Epoch 1/4, Loss: -0.1005, Train fit: 0.0318, Test fit: -0.0617, Avg Weight: 0.0002, Max Weight: 0.0007\n"
     ]
    },
    {
     "name": "stderr",
     "output_type": "stream",
     "text": [
      "Training:  75%|██████████████████████████▎        | 3/4 [00:46<00:15, 15.41s/it]"
     ]
    },
    {
     "name": "stdout",
     "output_type": "stream",
     "text": [
      "Epoch 3/4, Loss: -0.1141, Train fit: 0.0342, Test fit: -0.0598, Avg Weight: 0.0002, Max Weight: 0.0007\n"
     ]
    },
    {
     "name": "stderr",
     "output_type": "stream",
     "text": [
      "Training: 100%|███████████████████████████████████| 4/4 [01:01<00:00, 15.33s/it]"
     ]
    },
    {
     "name": "stdout",
     "output_type": "stream",
     "text": [
      "Epoch 4/4, Loss: -0.1167, Train fit: 0.0356, Test fit: -0.0616, Avg Weight: 0.0002, Max Weight: 0.0007\n",
      "Training completed! Best test Sharpe ratio: -0.0598\n",
      "Training from 2016-05 to 2016-10. Testing on 2016-11.\n"
     ]
    },
    {
     "name": "stderr",
     "output_type": "stream",
     "text": [
      "\n"
     ]
    },
    {
     "name": "stdout",
     "output_type": "stream",
     "text": [
      "['sprtrn_lag1', 'DlyRet_lag1', 'DlyRet_roll_10', 'DlyRet_roll_20', 'DlyRet_roll_30']\n",
      "Starting training with 450 train batches, 37 test batches\n"
     ]
    },
    {
     "name": "stderr",
     "output_type": "stream",
     "text": [
      "Training:  25%|████████▊                          | 1/4 [00:15<00:46, 15.64s/it]"
     ]
    },
    {
     "name": "stdout",
     "output_type": "stream",
     "text": [
      "Epoch 1/4, Loss: -0.0888, Train fit: 0.0065, Test fit: 0.0234, Avg Weight: 0.0002, Max Weight: 0.0127\n"
     ]
    },
    {
     "name": "stderr",
     "output_type": "stream",
     "text": [
      "Training:  75%|██████████████████████████▎        | 3/4 [00:46<00:15, 15.37s/it]"
     ]
    },
    {
     "name": "stdout",
     "output_type": "stream",
     "text": [
      "Epoch 3/4, Loss: -0.0936, Train fit: 0.0161, Test fit: 0.0589, Avg Weight: 0.0002, Max Weight: 0.0006\n"
     ]
    },
    {
     "name": "stderr",
     "output_type": "stream",
     "text": [
      "Training: 100%|███████████████████████████████████| 4/4 [01:01<00:00, 15.32s/it]"
     ]
    },
    {
     "name": "stdout",
     "output_type": "stream",
     "text": [
      "Epoch 4/4, Loss: -0.0967, Train fit: 0.0177, Test fit: 0.0619, Avg Weight: 0.0002, Max Weight: 0.0009\n",
      "Training completed! Best test Sharpe ratio: 0.0619\n",
      "Training from 2016-06 to 2016-11. Testing on 2016-12.\n"
     ]
    },
    {
     "name": "stderr",
     "output_type": "stream",
     "text": [
      "\n"
     ]
    },
    {
     "name": "stdout",
     "output_type": "stream",
     "text": [
      "['sprtrn_lag1', 'DlyRet_lag1', 'DlyRet_roll_10', 'DlyRet_roll_20', 'DlyRet_roll_30']\n",
      "Starting training with 450 train batches, 37 test batches\n"
     ]
    },
    {
     "name": "stderr",
     "output_type": "stream",
     "text": [
      "Training:  25%|████████▊                          | 1/4 [00:15<00:45, 15.05s/it]"
     ]
    },
    {
     "name": "stdout",
     "output_type": "stream",
     "text": [
      "Epoch 1/4, Loss: -0.0887, Train fit: 0.0260, Test fit: 0.0396, Avg Weight: 0.0002, Max Weight: 0.0007\n"
     ]
    },
    {
     "name": "stderr",
     "output_type": "stream",
     "text": [
      "Training:  75%|██████████████████████████▎        | 3/4 [00:46<00:15, 15.43s/it]"
     ]
    },
    {
     "name": "stdout",
     "output_type": "stream",
     "text": [
      "Epoch 3/4, Loss: -0.1010, Train fit: 0.0274, Test fit: 0.0390, Avg Weight: 0.0002, Max Weight: 0.0007\n"
     ]
    },
    {
     "name": "stderr",
     "output_type": "stream",
     "text": [
      "Training: 100%|███████████████████████████████████| 4/4 [01:02<00:00, 15.57s/it]"
     ]
    },
    {
     "name": "stdout",
     "output_type": "stream",
     "text": [
      "Epoch 4/4, Loss: -0.1026, Train fit: 0.0281, Test fit: 0.0396, Avg Weight: 0.0002, Max Weight: 0.0007\n",
      "Training completed! Best test Sharpe ratio: 0.0396\n",
      "Training from 2016-07 to 2016-12. Testing on 2017-01.\n"
     ]
    },
    {
     "name": "stderr",
     "output_type": "stream",
     "text": [
      "\n"
     ]
    },
    {
     "name": "stdout",
     "output_type": "stream",
     "text": [
      "['sprtrn_lag1', 'DlyRet_lag1', 'DlyRet_roll_10', 'DlyRet_roll_20', 'DlyRet_roll_30']\n",
      "Starting training with 446 train batches, 36 test batches\n"
     ]
    },
    {
     "name": "stderr",
     "output_type": "stream",
     "text": [
      "Training:  25%|████████▊                          | 1/4 [00:17<00:51, 17.02s/it]"
     ]
    },
    {
     "name": "stdout",
     "output_type": "stream",
     "text": [
      "Epoch 1/4, Loss: -0.0926, Train fit: 0.0273, Test fit: 0.0542, Avg Weight: 0.0003, Max Weight: 0.0073\n"
     ]
    },
    {
     "name": "stderr",
     "output_type": "stream",
     "text": [
      "Training:  75%|██████████████████████████▎        | 3/4 [00:47<00:15, 15.72s/it]"
     ]
    },
    {
     "name": "stdout",
     "output_type": "stream",
     "text": [
      "Epoch 3/4, Loss: -0.1029, Train fit: 0.0334, Test fit: 0.0468, Avg Weight: 0.0003, Max Weight: 0.0073\n"
     ]
    },
    {
     "name": "stderr",
     "output_type": "stream",
     "text": [
      "Training: 100%|███████████████████████████████████| 4/4 [01:03<00:00, 15.81s/it]"
     ]
    },
    {
     "name": "stdout",
     "output_type": "stream",
     "text": [
      "Epoch 4/4, Loss: -0.1044, Train fit: 0.0344, Test fit: 0.0440, Avg Weight: 0.0003, Max Weight: 0.0073\n",
      "Training completed! Best test Sharpe ratio: 0.0542\n",
      "Training from 2016-08 to 2017-01. Testing on 2017-02.\n"
     ]
    },
    {
     "name": "stderr",
     "output_type": "stream",
     "text": [
      "\n"
     ]
    },
    {
     "name": "stdout",
     "output_type": "stream",
     "text": [
      "['sprtrn_lag1', 'DlyRet_lag1', 'DlyRet_roll_10', 'DlyRet_roll_20', 'DlyRet_roll_30']\n",
      "Starting training with 446 train batches, 34 test batches\n"
     ]
    },
    {
     "name": "stderr",
     "output_type": "stream",
     "text": [
      "Training:  25%|████████▊                          | 1/4 [00:17<00:52, 17.43s/it]"
     ]
    },
    {
     "name": "stdout",
     "output_type": "stream",
     "text": [
      "Epoch 1/4, Loss: -0.0817, Train fit: 0.0209, Test fit: 0.0442, Avg Weight: 0.0002, Max Weight: 0.0020\n"
     ]
    },
    {
     "name": "stderr",
     "output_type": "stream",
     "text": [
      "Training:  75%|██████████████████████████▎        | 3/4 [00:51<00:17, 17.01s/it]"
     ]
    },
    {
     "name": "stdout",
     "output_type": "stream",
     "text": [
      "Epoch 3/4, Loss: -0.0923, Train fit: 0.0241, Test fit: 0.0348, Avg Weight: 0.0002, Max Weight: 0.0020\n"
     ]
    },
    {
     "name": "stderr",
     "output_type": "stream",
     "text": [
      "Training: 100%|███████████████████████████████████| 4/4 [01:09<00:00, 17.47s/it]"
     ]
    },
    {
     "name": "stdout",
     "output_type": "stream",
     "text": [
      "Epoch 4/4, Loss: -0.0953, Train fit: 0.0256, Test fit: 0.0346, Avg Weight: 0.0002, Max Weight: 0.0020\n",
      "Training completed! Best test Sharpe ratio: 0.0442\n",
      "Training from 2016-09 to 2017-02. Testing on 2017-03.\n"
     ]
    },
    {
     "name": "stderr",
     "output_type": "stream",
     "text": [
      "\n"
     ]
    },
    {
     "name": "stdout",
     "output_type": "stream",
     "text": [
      "['sprtrn_lag1', 'DlyRet_lag1', 'DlyRet_roll_10', 'DlyRet_roll_20', 'DlyRet_roll_30']\n",
      "Starting training with 432 train batches, 41 test batches\n"
     ]
    },
    {
     "name": "stderr",
     "output_type": "stream",
     "text": [
      "Training:  25%|████████▊                          | 1/4 [00:15<00:46, 15.39s/it]"
     ]
    },
    {
     "name": "stdout",
     "output_type": "stream",
     "text": [
      "Epoch 1/4, Loss: -0.0892, Train fit: 0.0243, Test fit: 0.0146, Avg Weight: 0.0002, Max Weight: 0.0019\n"
     ]
    },
    {
     "name": "stderr",
     "output_type": "stream",
     "text": [
      "Training:  75%|██████████████████████████▎        | 3/4 [00:50<00:16, 16.96s/it]"
     ]
    },
    {
     "name": "stdout",
     "output_type": "stream",
     "text": [
      "Epoch 3/4, Loss: -0.0971, Train fit: 0.0286, Test fit: 0.0146, Avg Weight: 0.0002, Max Weight: 0.0019\n"
     ]
    },
    {
     "name": "stderr",
     "output_type": "stream",
     "text": [
      "Training: 100%|███████████████████████████████████| 4/4 [01:08<00:00, 17.09s/it]"
     ]
    },
    {
     "name": "stdout",
     "output_type": "stream",
     "text": [
      "Epoch 4/4, Loss: -0.1003, Train fit: 0.0299, Test fit: 0.0147, Avg Weight: 0.0002, Max Weight: 0.0018\n",
      "Training completed! Best test Sharpe ratio: 0.0147\n",
      "Training from 2016-10 to 2017-03. Testing on 2017-04.\n"
     ]
    },
    {
     "name": "stderr",
     "output_type": "stream",
     "text": [
      "\n"
     ]
    },
    {
     "name": "stdout",
     "output_type": "stream",
     "text": [
      "['sprtrn_lag1', 'DlyRet_lag1', 'DlyRet_roll_10', 'DlyRet_roll_20', 'DlyRet_roll_30']\n",
      "Starting training with 439 train batches, 34 test batches\n"
     ]
    },
    {
     "name": "stderr",
     "output_type": "stream",
     "text": [
      "Training:  25%|████████▊                          | 1/4 [00:14<00:44, 14.78s/it]"
     ]
    },
    {
     "name": "stdout",
     "output_type": "stream",
     "text": [
      "Epoch 1/4, Loss: -0.0890, Train fit: 0.0213, Test fit: 0.0236, Avg Weight: 0.0002, Max Weight: 0.0022\n"
     ]
    },
    {
     "name": "stderr",
     "output_type": "stream",
     "text": [
      "Training:  75%|██████████████████████████▎        | 3/4 [00:47<00:16, 16.19s/it]"
     ]
    },
    {
     "name": "stdout",
     "output_type": "stream",
     "text": [
      "Epoch 3/4, Loss: -0.0928, Train fit: 0.0266, Test fit: 0.0237, Avg Weight: 0.0002, Max Weight: 0.0022\n"
     ]
    },
    {
     "name": "stderr",
     "output_type": "stream",
     "text": [
      "Training: 100%|███████████████████████████████████| 4/4 [01:05<00:00, 16.30s/it]"
     ]
    },
    {
     "name": "stdout",
     "output_type": "stream",
     "text": [
      "Epoch 4/4, Loss: -0.0970, Train fit: 0.0277, Test fit: 0.0246, Avg Weight: 0.0002, Max Weight: 0.0020\n",
      "Training completed! Best test Sharpe ratio: 0.0246\n",
      "Training from 2016-11 to 2017-04. Testing on 2017-05.\n"
     ]
    },
    {
     "name": "stderr",
     "output_type": "stream",
     "text": [
      "\n"
     ]
    },
    {
     "name": "stdout",
     "output_type": "stream",
     "text": [
      "['sprtrn_lag1', 'DlyRet_lag1', 'DlyRet_roll_10', 'DlyRet_roll_20', 'DlyRet_roll_30']\n",
      "Starting training with 433 train batches, 39 test batches\n"
     ]
    },
    {
     "name": "stderr",
     "output_type": "stream",
     "text": [
      "Training:  25%|████████▊                          | 1/4 [00:16<00:50, 16.82s/it]"
     ]
    },
    {
     "name": "stdout",
     "output_type": "stream",
     "text": [
      "Epoch 1/4, Loss: -0.0974, Train fit: 0.0384, Test fit: -0.0012, Avg Weight: 0.0002, Max Weight: 0.0007\n"
     ]
    },
    {
     "name": "stderr",
     "output_type": "stream",
     "text": [
      "Training:  75%|██████████████████████████▎        | 3/4 [00:45<00:14, 14.80s/it]"
     ]
    },
    {
     "name": "stdout",
     "output_type": "stream",
     "text": [
      "Epoch 3/4, Loss: -0.1094, Train fit: 0.0417, Test fit: -0.0023, Avg Weight: 0.0002, Max Weight: 0.0007\n"
     ]
    },
    {
     "name": "stderr",
     "output_type": "stream",
     "text": [
      "Training: 100%|███████████████████████████████████| 4/4 [01:00<00:00, 15.13s/it]"
     ]
    },
    {
     "name": "stdout",
     "output_type": "stream",
     "text": [
      "Epoch 4/4, Loss: -0.1116, Train fit: 0.0428, Test fit: -0.0016, Avg Weight: 0.0002, Max Weight: 0.0007\n",
      "Training completed! Best test Sharpe ratio: -0.0012\n",
      "Training from 2016-12 to 2017-05. Testing on 2017-06.\n"
     ]
    },
    {
     "name": "stderr",
     "output_type": "stream",
     "text": [
      "\n"
     ]
    },
    {
     "name": "stdout",
     "output_type": "stream",
     "text": [
      "['sprtrn_lag1', 'DlyRet_lag1', 'DlyRet_roll_10', 'DlyRet_roll_20', 'DlyRet_roll_30']\n",
      "Starting training with 436 train batches, 39 test batches\n"
     ]
    },
    {
     "name": "stderr",
     "output_type": "stream",
     "text": [
      "Training:  25%|████████▊                          | 1/4 [00:15<00:47, 15.96s/it]"
     ]
    },
    {
     "name": "stdout",
     "output_type": "stream",
     "text": [
      "Epoch 1/4, Loss: -0.0920, Train fit: 0.0311, Test fit: 0.0243, Avg Weight: 0.0002, Max Weight: 0.0013\n"
     ]
    },
    {
     "name": "stderr",
     "output_type": "stream",
     "text": [
      "Training:  75%|██████████████████████████▎        | 3/4 [00:49<00:16, 16.39s/it]"
     ]
    },
    {
     "name": "stdout",
     "output_type": "stream",
     "text": [
      "Epoch 3/4, Loss: -0.1032, Train fit: 0.0364, Test fit: 0.0229, Avg Weight: 0.0002, Max Weight: 0.0013\n"
     ]
    },
    {
     "name": "stderr",
     "output_type": "stream",
     "text": [
      "Training: 100%|███████████████████████████████████| 4/4 [01:04<00:00, 16.17s/it]"
     ]
    },
    {
     "name": "stdout",
     "output_type": "stream",
     "text": [
      "Epoch 4/4, Loss: -0.1053, Train fit: 0.0368, Test fit: 0.0237, Avg Weight: 0.0002, Max Weight: 0.0013\n",
      "Training completed! Best test Sharpe ratio: 0.0243\n",
      "Training from 2017-01 to 2017-06. Testing on 2017-07.\n"
     ]
    },
    {
     "name": "stderr",
     "output_type": "stream",
     "text": [
      "\n"
     ]
    },
    {
     "name": "stdout",
     "output_type": "stream",
     "text": [
      "['sprtrn_lag1', 'DlyRet_lag1', 'DlyRet_roll_10', 'DlyRet_roll_20', 'DlyRet_roll_30']\n",
      "Starting training with 441 train batches, 36 test batches\n"
     ]
    },
    {
     "name": "stderr",
     "output_type": "stream",
     "text": [
      "Training:  25%|████████▊                          | 1/4 [00:15<00:47, 15.94s/it]"
     ]
    },
    {
     "name": "stdout",
     "output_type": "stream",
     "text": [
      "Epoch 1/4, Loss: -0.0958, Train fit: 0.0280, Test fit: 0.0357, Avg Weight: 0.0002, Max Weight: 0.0018\n"
     ]
    },
    {
     "name": "stderr",
     "output_type": "stream",
     "text": [
      "Training:  75%|██████████████████████████▎        | 3/4 [00:49<00:16, 16.54s/it]"
     ]
    },
    {
     "name": "stdout",
     "output_type": "stream",
     "text": [
      "Epoch 3/4, Loss: -0.1025, Train fit: 0.0321, Test fit: 0.0412, Avg Weight: 0.0002, Max Weight: 0.0021\n"
     ]
    },
    {
     "name": "stderr",
     "output_type": "stream",
     "text": [
      "Training: 100%|███████████████████████████████████| 4/4 [01:06<00:00, 16.52s/it]"
     ]
    },
    {
     "name": "stdout",
     "output_type": "stream",
     "text": [
      "Epoch 4/4, Loss: -0.1047, Train fit: 0.0319, Test fit: 0.0391, Avg Weight: 0.0002, Max Weight: 0.0021\n",
      "Training completed! Best test Sharpe ratio: 0.0412\n",
      "Training from 2017-02 to 2017-07. Testing on 2017-08.\n"
     ]
    },
    {
     "name": "stderr",
     "output_type": "stream",
     "text": [
      "\n"
     ]
    },
    {
     "name": "stdout",
     "output_type": "stream",
     "text": [
      "['sprtrn_lag1', 'DlyRet_lag1', 'DlyRet_roll_10', 'DlyRet_roll_20', 'DlyRet_roll_30']\n",
      "Starting training with 441 train batches, 41 test batches\n"
     ]
    },
    {
     "name": "stderr",
     "output_type": "stream",
     "text": [
      "Training:  25%|████████▊                          | 1/4 [00:15<00:47, 15.95s/it]"
     ]
    },
    {
     "name": "stdout",
     "output_type": "stream",
     "text": [
      "Epoch 1/4, Loss: -0.0929, Train fit: 0.0309, Test fit: 0.0026, Avg Weight: 0.0002, Max Weight: 0.0011\n"
     ]
    },
    {
     "name": "stderr",
     "output_type": "stream",
     "text": [
      "Training:  75%|██████████████████████████▎        | 3/4 [00:48<00:16, 16.00s/it]"
     ]
    },
    {
     "name": "stdout",
     "output_type": "stream",
     "text": [
      "Epoch 3/4, Loss: -0.1004, Train fit: 0.0320, Test fit: 0.0017, Avg Weight: 0.0002, Max Weight: 0.0011\n"
     ]
    },
    {
     "name": "stderr",
     "output_type": "stream",
     "text": [
      "Training: 100%|███████████████████████████████████| 4/4 [01:02<00:00, 15.59s/it]"
     ]
    },
    {
     "name": "stdout",
     "output_type": "stream",
     "text": [
      "Epoch 4/4, Loss: -0.1028, Train fit: 0.0332, Test fit: 0.0020, Avg Weight: 0.0002, Max Weight: 0.0011\n",
      "Training completed! Best test Sharpe ratio: 0.0026\n",
      "Training from 2017-03 to 2017-08. Testing on 2017-09.\n"
     ]
    },
    {
     "name": "stderr",
     "output_type": "stream",
     "text": [
      "\n"
     ]
    },
    {
     "name": "stdout",
     "output_type": "stream",
     "text": [
      "['sprtrn_lag1', 'DlyRet_lag1', 'DlyRet_roll_10', 'DlyRet_roll_20', 'DlyRet_roll_30']\n",
      "Starting training with 456 train batches, 36 test batches\n"
     ]
    },
    {
     "name": "stderr",
     "output_type": "stream",
     "text": [
      "Training:  25%|████████▊                          | 1/4 [00:15<00:46, 15.58s/it]"
     ]
    },
    {
     "name": "stdout",
     "output_type": "stream",
     "text": [
      "Epoch 1/4, Loss: -0.0867, Train fit: 0.0201, Test fit: 0.0481, Avg Weight: 0.0002, Max Weight: 0.0033\n"
     ]
    },
    {
     "name": "stderr",
     "output_type": "stream",
     "text": [
      "Training:  75%|██████████████████████████▎        | 3/4 [00:49<00:16, 16.46s/it]"
     ]
    },
    {
     "name": "stdout",
     "output_type": "stream",
     "text": [
      "Epoch 3/4, Loss: -0.0926, Train fit: 0.0209, Test fit: 0.0494, Avg Weight: 0.0002, Max Weight: 0.0034\n"
     ]
    },
    {
     "name": "stderr",
     "output_type": "stream",
     "text": [
      "Training: 100%|███████████████████████████████████| 4/4 [01:05<00:00, 16.41s/it]"
     ]
    },
    {
     "name": "stdout",
     "output_type": "stream",
     "text": [
      "Epoch 4/4, Loss: -0.0944, Train fit: 0.0235, Test fit: 0.0495, Avg Weight: 0.0002, Max Weight: 0.0035\n",
      "Training completed! Best test Sharpe ratio: 0.0495\n",
      "Training from 2017-04 to 2017-09. Testing on 2017-10.\n"
     ]
    },
    {
     "name": "stderr",
     "output_type": "stream",
     "text": [
      "\n"
     ]
    },
    {
     "name": "stdout",
     "output_type": "stream",
     "text": [
      "['sprtrn_lag1', 'DlyRet_lag1', 'DlyRet_roll_10', 'DlyRet_roll_20', 'DlyRet_roll_30']\n",
      "Starting training with 445 train batches, 39 test batches\n"
     ]
    },
    {
     "name": "stderr",
     "output_type": "stream",
     "text": [
      "Training:  25%|████████▊                          | 1/4 [00:16<00:49, 16.52s/it]"
     ]
    },
    {
     "name": "stdout",
     "output_type": "stream",
     "text": [
      "Epoch 1/4, Loss: -0.0911, Train fit: 0.0204, Test fit: 0.0050, Avg Weight: 0.0002, Max Weight: 0.0007\n"
     ]
    },
    {
     "name": "stderr",
     "output_type": "stream",
     "text": [
      "Training:  75%|██████████████████████████▎        | 3/4 [00:49<00:16, 16.59s/it]"
     ]
    },
    {
     "name": "stdout",
     "output_type": "stream",
     "text": [
      "Epoch 3/4, Loss: -0.1012, Train fit: 0.0231, Test fit: 0.0081, Avg Weight: 0.0002, Max Weight: 0.0006\n"
     ]
    },
    {
     "name": "stderr",
     "output_type": "stream",
     "text": [
      "Training: 100%|███████████████████████████████████| 4/4 [01:07<00:00, 16.79s/it]"
     ]
    },
    {
     "name": "stdout",
     "output_type": "stream",
     "text": [
      "Epoch 4/4, Loss: -0.1029, Train fit: 0.0244, Test fit: 0.0083, Avg Weight: 0.0002, Max Weight: 0.0006\n",
      "Training completed! Best test Sharpe ratio: 0.0083\n",
      "Training from 2017-05 to 2017-10. Testing on 2017-11.\n"
     ]
    },
    {
     "name": "stderr",
     "output_type": "stream",
     "text": [
      "\n"
     ]
    },
    {
     "name": "stdout",
     "output_type": "stream",
     "text": [
      "['sprtrn_lag1', 'DlyRet_lag1', 'DlyRet_roll_10', 'DlyRet_roll_20', 'DlyRet_roll_30']\n",
      "Starting training with 456 train batches, 38 test batches\n"
     ]
    },
    {
     "name": "stderr",
     "output_type": "stream",
     "text": [
      "Training:  25%|████████▊                          | 1/4 [00:15<00:45, 15.08s/it]"
     ]
    },
    {
     "name": "stdout",
     "output_type": "stream",
     "text": [
      "Epoch 1/4, Loss: -0.0919, Train fit: 0.0244, Test fit: 0.0272, Avg Weight: 0.0002, Max Weight: 0.0027\n"
     ]
    },
    {
     "name": "stderr",
     "output_type": "stream",
     "text": [
      "Training:  75%|██████████████████████████▎        | 3/4 [00:48<00:16, 16.38s/it]"
     ]
    },
    {
     "name": "stdout",
     "output_type": "stream",
     "text": [
      "Epoch 3/4, Loss: -0.0999, Train fit: 0.0268, Test fit: 0.0321, Avg Weight: 0.0002, Max Weight: 0.0023\n"
     ]
    },
    {
     "name": "stderr",
     "output_type": "stream",
     "text": [
      "Training: 100%|███████████████████████████████████| 4/4 [01:03<00:00, 15.86s/it]"
     ]
    },
    {
     "name": "stdout",
     "output_type": "stream",
     "text": [
      "Epoch 4/4, Loss: -0.1025, Train fit: 0.0279, Test fit: 0.0328, Avg Weight: 0.0002, Max Weight: 0.0022\n",
      "Training completed! Best test Sharpe ratio: 0.0328\n",
      "Training from 2017-06 to 2017-11. Testing on 2017-12.\n"
     ]
    },
    {
     "name": "stderr",
     "output_type": "stream",
     "text": [
      "\n"
     ]
    },
    {
     "name": "stdout",
     "output_type": "stream",
     "text": [
      "['sprtrn_lag1', 'DlyRet_lag1', 'DlyRet_roll_10', 'DlyRet_roll_20', 'DlyRet_roll_30']\n",
      "Starting training with 453 train batches, 36 test batches\n"
     ]
    },
    {
     "name": "stderr",
     "output_type": "stream",
     "text": [
      "Training:  25%|████████▊                          | 1/4 [00:18<00:54, 18.13s/it]"
     ]
    },
    {
     "name": "stdout",
     "output_type": "stream",
     "text": [
      "Epoch 1/4, Loss: -0.0934, Train fit: 0.0299, Test fit: 0.0257, Avg Weight: 0.0002, Max Weight: 0.0009\n"
     ]
    },
    {
     "name": "stderr",
     "output_type": "stream",
     "text": [
      "Training:  75%|██████████████████████████▎        | 3/4 [00:51<00:17, 17.27s/it]"
     ]
    },
    {
     "name": "stdout",
     "output_type": "stream",
     "text": [
      "Epoch 3/4, Loss: -0.1073, Train fit: 0.0327, Test fit: 0.0270, Avg Weight: 0.0002, Max Weight: 0.0008\n"
     ]
    },
    {
     "name": "stderr",
     "output_type": "stream",
     "text": [
      "Training: 100%|███████████████████████████████████| 4/4 [01:09<00:00, 17.28s/it]"
     ]
    },
    {
     "name": "stdout",
     "output_type": "stream",
     "text": [
      "Epoch 4/4, Loss: -0.1089, Train fit: 0.0339, Test fit: 0.0273, Avg Weight: 0.0002, Max Weight: 0.0008\n",
      "Training completed! Best test Sharpe ratio: 0.0273\n",
      "Training from 2017-07 to 2017-12. Testing on 2018-01.\n"
     ]
    },
    {
     "name": "stderr",
     "output_type": "stream",
     "text": [
      "\n"
     ]
    },
    {
     "name": "stdout",
     "output_type": "stream",
     "text": [
      "['sprtrn_lag1', 'DlyRet_lag1', 'DlyRet_roll_10', 'DlyRet_roll_20', 'DlyRet_roll_30']\n",
      "Starting training with 447 train batches, 38 test batches\n"
     ]
    },
    {
     "name": "stderr",
     "output_type": "stream",
     "text": [
      "Training:  25%|████████▊                          | 1/4 [00:16<00:49, 16.42s/it]"
     ]
    },
    {
     "name": "stdout",
     "output_type": "stream",
     "text": [
      "Epoch 1/4, Loss: -0.0942, Train fit: 0.0304, Test fit: 0.0525, Avg Weight: 0.0002, Max Weight: 0.0014\n"
     ]
    },
    {
     "name": "stderr",
     "output_type": "stream",
     "text": [
      "Training:  75%|██████████████████████████▎        | 3/4 [00:50<00:16, 16.76s/it]"
     ]
    },
    {
     "name": "stdout",
     "output_type": "stream",
     "text": [
      "Epoch 3/4, Loss: -0.1044, Train fit: 0.0313, Test fit: 0.0509, Avg Weight: 0.0002, Max Weight: 0.0014\n"
     ]
    },
    {
     "name": "stderr",
     "output_type": "stream",
     "text": [
      "Training: 100%|███████████████████████████████████| 4/4 [01:05<00:00, 16.36s/it]"
     ]
    },
    {
     "name": "stdout",
     "output_type": "stream",
     "text": [
      "Epoch 4/4, Loss: -0.1062, Train fit: 0.0324, Test fit: 0.0517, Avg Weight: 0.0002, Max Weight: 0.0014\n",
      "Training completed! Best test Sharpe ratio: 0.0525\n",
      "Training from 2017-08 to 2018-01. Testing on 2018-02.\n"
     ]
    },
    {
     "name": "stderr",
     "output_type": "stream",
     "text": [
      "\n"
     ]
    },
    {
     "name": "stdout",
     "output_type": "stream",
     "text": [
      "['sprtrn_lag1', 'DlyRet_lag1', 'DlyRet_roll_10', 'DlyRet_roll_20', 'DlyRet_roll_30']\n",
      "Starting training with 451 train batches, 35 test batches\n"
     ]
    },
    {
     "name": "stderr",
     "output_type": "stream",
     "text": [
      "Training:  25%|████████▊                          | 1/4 [00:15<00:45, 15.12s/it]"
     ]
    },
    {
     "name": "stdout",
     "output_type": "stream",
     "text": [
      "Epoch 1/4, Loss: -0.1029, Train fit: 0.0371, Test fit: -0.0544, Avg Weight: 0.0003, Max Weight: 0.0235\n"
     ]
    },
    {
     "name": "stderr",
     "output_type": "stream",
     "text": [
      "Training:  75%|██████████████████████████▎        | 3/4 [00:47<00:15, 15.92s/it]"
     ]
    },
    {
     "name": "stdout",
     "output_type": "stream",
     "text": [
      "Epoch 3/4, Loss: -0.1090, Train fit: 0.0375, Test fit: -0.0551, Avg Weight: 0.0003, Max Weight: 0.0235\n"
     ]
    },
    {
     "name": "stderr",
     "output_type": "stream",
     "text": [
      "Training: 100%|███████████████████████████████████| 4/4 [01:03<00:00, 15.82s/it]"
     ]
    },
    {
     "name": "stdout",
     "output_type": "stream",
     "text": [
      "Epoch 4/4, Loss: -0.1102, Train fit: 0.0385, Test fit: -0.0554, Avg Weight: 0.0003, Max Weight: 0.0235\n",
      "Training completed! Best test Sharpe ratio: -0.0544\n",
      "Training from 2017-09 to 2018-02. Testing on 2018-03.\n"
     ]
    },
    {
     "name": "stderr",
     "output_type": "stream",
     "text": [
      "\n"
     ]
    },
    {
     "name": "stdout",
     "output_type": "stream",
     "text": [
      "['sprtrn_lag1', 'DlyRet_lag1', 'DlyRet_roll_10', 'DlyRet_roll_20', 'DlyRet_roll_30']\n",
      "Starting training with 438 train batches, 38 test batches\n"
     ]
    },
    {
     "name": "stderr",
     "output_type": "stream",
     "text": [
      "Training:  25%|████████▊                          | 1/4 [00:15<00:47, 15.86s/it]"
     ]
    },
    {
     "name": "stdout",
     "output_type": "stream",
     "text": [
      "Epoch 1/4, Loss: -0.0924, Train fit: 0.0176, Test fit: -0.0075, Avg Weight: 0.0002, Max Weight: 0.0012\n"
     ]
    },
    {
     "name": "stderr",
     "output_type": "stream",
     "text": [
      "Training:  75%|██████████████████████████▎        | 3/4 [00:48<00:16, 16.42s/it]"
     ]
    },
    {
     "name": "stdout",
     "output_type": "stream",
     "text": [
      "Epoch 3/4, Loss: -0.0983, Train fit: 0.0193, Test fit: -0.0071, Avg Weight: 0.0002, Max Weight: 0.0012\n"
     ]
    },
    {
     "name": "stderr",
     "output_type": "stream",
     "text": [
      "Training: 100%|███████████████████████████████████| 4/4 [01:04<00:00, 16.09s/it]"
     ]
    },
    {
     "name": "stdout",
     "output_type": "stream",
     "text": [
      "Epoch 4/4, Loss: -0.1021, Train fit: 0.0228, Test fit: -0.0037, Avg Weight: 0.0002, Max Weight: 0.0011\n",
      "Training completed! Best test Sharpe ratio: -0.0037\n",
      "Training from 2017-10 to 2018-03. Testing on 2018-04.\n"
     ]
    },
    {
     "name": "stderr",
     "output_type": "stream",
     "text": [
      "\n"
     ]
    },
    {
     "name": "stdout",
     "output_type": "stream",
     "text": [
      "['sprtrn_lag1', 'DlyRet_lag1', 'DlyRet_roll_10', 'DlyRet_roll_20', 'DlyRet_roll_30']\n",
      "Starting training with 442 train batches, 38 test batches\n"
     ]
    },
    {
     "name": "stderr",
     "output_type": "stream",
     "text": [
      "Training:  25%|████████▊                          | 1/4 [00:16<00:48, 16.05s/it]"
     ]
    },
    {
     "name": "stdout",
     "output_type": "stream",
     "text": [
      "Epoch 1/4, Loss: -0.0793, Train fit: 0.0023, Test fit: 0.0094, Avg Weight: 0.0002, Max Weight: 0.0016\n"
     ]
    },
    {
     "name": "stderr",
     "output_type": "stream",
     "text": [
      "Training:  75%|██████████████████████████▎        | 3/4 [00:47<00:15, 15.91s/it]"
     ]
    },
    {
     "name": "stdout",
     "output_type": "stream",
     "text": [
      "Epoch 3/4, Loss: -0.0888, Train fit: 0.0090, Test fit: 0.0105, Avg Weight: 0.0002, Max Weight: 0.0011\n"
     ]
    },
    {
     "name": "stderr",
     "output_type": "stream",
     "text": [
      "Training: 100%|███████████████████████████████████| 4/4 [01:04<00:00, 16.11s/it]"
     ]
    },
    {
     "name": "stdout",
     "output_type": "stream",
     "text": [
      "Epoch 4/4, Loss: -0.0916, Train fit: 0.0100, Test fit: 0.0108, Avg Weight: 0.0002, Max Weight: 0.0011\n",
      "Training completed! Best test Sharpe ratio: 0.0108\n",
      "Training from 2017-11 to 2018-04. Testing on 2018-05.\n"
     ]
    },
    {
     "name": "stderr",
     "output_type": "stream",
     "text": [
      "\n"
     ]
    },
    {
     "name": "stdout",
     "output_type": "stream",
     "text": [
      "['sprtrn_lag1', 'DlyRet_lag1', 'DlyRet_roll_10', 'DlyRet_roll_20', 'DlyRet_roll_30']\n",
      "Starting training with 440 train batches, 40 test batches\n"
     ]
    },
    {
     "name": "stderr",
     "output_type": "stream",
     "text": [
      "Training:  25%|████████▊                          | 1/4 [00:16<00:49, 16.59s/it]"
     ]
    },
    {
     "name": "stdout",
     "output_type": "stream",
     "text": [
      "Epoch 1/4, Loss: -0.0811, Train fit: 0.0098, Test fit: 0.0328, Avg Weight: 0.0002, Max Weight: 0.0015\n"
     ]
    },
    {
     "name": "stderr",
     "output_type": "stream",
     "text": [
      "Training:  75%|██████████████████████████▎        | 3/4 [00:48<00:16, 16.22s/it]"
     ]
    },
    {
     "name": "stdout",
     "output_type": "stream",
     "text": [
      "Epoch 3/4, Loss: -0.0869, Train fit: 0.0120, Test fit: 0.0360, Avg Weight: 0.0002, Max Weight: 0.0018\n"
     ]
    },
    {
     "name": "stderr",
     "output_type": "stream",
     "text": [
      "Training: 100%|███████████████████████████████████| 4/4 [01:04<00:00, 16.02s/it]"
     ]
    },
    {
     "name": "stdout",
     "output_type": "stream",
     "text": [
      "Epoch 4/4, Loss: -0.0888, Train fit: 0.0129, Test fit: 0.0362, Avg Weight: 0.0002, Max Weight: 0.0018\n",
      "Training completed! Best test Sharpe ratio: 0.0364\n",
      "Training from 2017-12 to 2018-05. Testing on 2018-06.\n"
     ]
    },
    {
     "name": "stderr",
     "output_type": "stream",
     "text": [
      "\n"
     ]
    },
    {
     "name": "stdout",
     "output_type": "stream",
     "text": [
      "['sprtrn_lag1', 'DlyRet_lag1', 'DlyRet_roll_10', 'DlyRet_roll_20', 'DlyRet_roll_30']\n",
      "Starting training with 444 train batches, 38 test batches\n"
     ]
    },
    {
     "name": "stderr",
     "output_type": "stream",
     "text": [
      "Training:  25%|████████▊                          | 1/4 [00:15<00:45, 15.26s/it]"
     ]
    },
    {
     "name": "stdout",
     "output_type": "stream",
     "text": [
      "Epoch 1/4, Loss: -0.0826, Train fit: 0.0119, Test fit: -0.0043, Avg Weight: 0.0002, Max Weight: 0.0006\n"
     ]
    },
    {
     "name": "stderr",
     "output_type": "stream",
     "text": [
      "Training:  75%|██████████████████████████▎        | 3/4 [00:45<00:15, 15.30s/it]"
     ]
    },
    {
     "name": "stdout",
     "output_type": "stream",
     "text": [
      "Epoch 3/4, Loss: -0.0915, Train fit: 0.0139, Test fit: -0.0024, Avg Weight: 0.0002, Max Weight: 0.0005\n"
     ]
    },
    {
     "name": "stderr",
     "output_type": "stream",
     "text": [
      "Training: 100%|███████████████████████████████████| 4/4 [01:01<00:00, 15.28s/it]"
     ]
    },
    {
     "name": "stdout",
     "output_type": "stream",
     "text": [
      "Epoch 4/4, Loss: -0.0911, Train fit: 0.0152, Test fit: -0.0018, Avg Weight: 0.0002, Max Weight: 0.0005\n",
      "Training completed! Best test Sharpe ratio: -0.0018\n",
      "Training from 2018-01 to 2018-06. Testing on 2018-07.\n"
     ]
    },
    {
     "name": "stderr",
     "output_type": "stream",
     "text": [
      "\n"
     ]
    },
    {
     "name": "stdout",
     "output_type": "stream",
     "text": [
      "['sprtrn_lag1', 'DlyRet_lag1', 'DlyRet_roll_10', 'DlyRet_roll_20', 'DlyRet_roll_30']\n",
      "Starting training with 449 train batches, 38 test batches\n"
     ]
    },
    {
     "name": "stderr",
     "output_type": "stream",
     "text": [
      "Training:  25%|████████▊                          | 1/4 [00:17<00:52, 17.40s/it]"
     ]
    },
    {
     "name": "stdout",
     "output_type": "stream",
     "text": [
      "Epoch 1/4, Loss: -0.0775, Train fit: 0.0038, Test fit: 0.0040, Avg Weight: 0.0002, Max Weight: 0.0078\n"
     ]
    },
    {
     "name": "stderr",
     "output_type": "stream",
     "text": [
      "Training:  75%|██████████████████████████▎        | 3/4 [00:50<00:16, 16.63s/it]"
     ]
    },
    {
     "name": "stdout",
     "output_type": "stream",
     "text": [
      "Epoch 3/4, Loss: -0.0859, Train fit: 0.0099, Test fit: 0.0125, Avg Weight: 0.0002, Max Weight: 0.0005\n"
     ]
    },
    {
     "name": "stderr",
     "output_type": "stream",
     "text": [
      "Training: 100%|███████████████████████████████████| 4/4 [01:07<00:00, 16.83s/it]"
     ]
    },
    {
     "name": "stdout",
     "output_type": "stream",
     "text": [
      "Epoch 4/4, Loss: -0.0880, Train fit: 0.0104, Test fit: 0.0131, Avg Weight: 0.0002, Max Weight: 0.0004\n",
      "Training completed! Best test Sharpe ratio: 0.0131\n",
      "Training from 2018-02 to 2018-07. Testing on 2018-08.\n"
     ]
    },
    {
     "name": "stderr",
     "output_type": "stream",
     "text": [
      "\n"
     ]
    },
    {
     "name": "stdout",
     "output_type": "stream",
     "text": [
      "['sprtrn_lag1', 'DlyRet_lag1', 'DlyRet_roll_10', 'DlyRet_roll_20', 'DlyRet_roll_30']\n",
      "Starting training with 450 train batches, 42 test batches\n"
     ]
    },
    {
     "name": "stderr",
     "output_type": "stream",
     "text": [
      "Training:  25%|████████▊                          | 1/4 [00:15<00:47, 15.95s/it]"
     ]
    },
    {
     "name": "stdout",
     "output_type": "stream",
     "text": [
      "Epoch 1/4, Loss: -0.0797, Train fit: 0.0002, Test fit: 0.0168, Avg Weight: 0.0002, Max Weight: 0.0012\n"
     ]
    },
    {
     "name": "stderr",
     "output_type": "stream",
     "text": [
      "Training:  75%|██████████████████████████▎        | 3/4 [00:50<00:17, 17.11s/it]"
     ]
    },
    {
     "name": "stdout",
     "output_type": "stream",
     "text": [
      "Epoch 3/4, Loss: -0.0859, Train fit: 0.0052, Test fit: 0.0216, Avg Weight: 0.0002, Max Weight: 0.0007\n"
     ]
    },
    {
     "name": "stderr",
     "output_type": "stream",
     "text": [
      "Training: 100%|███████████████████████████████████| 4/4 [01:06<00:00, 16.62s/it]"
     ]
    },
    {
     "name": "stdout",
     "output_type": "stream",
     "text": [
      "Epoch 4/4, Loss: -0.0876, Train fit: 0.0070, Test fit: 0.0222, Avg Weight: 0.0002, Max Weight: 0.0007\n",
      "Training completed! Best test Sharpe ratio: 0.0227\n",
      "Training from 2018-03 to 2018-08. Testing on 2018-09.\n"
     ]
    },
    {
     "name": "stderr",
     "output_type": "stream",
     "text": [
      "\n"
     ]
    },
    {
     "name": "stdout",
     "output_type": "stream",
     "text": [
      "['sprtrn_lag1', 'DlyRet_lag1', 'DlyRet_roll_10', 'DlyRet_roll_20', 'DlyRet_roll_30']\n",
      "Starting training with 465 train batches, 35 test batches\n"
     ]
    },
    {
     "name": "stderr",
     "output_type": "stream",
     "text": [
      "Training:  25%|████████▊                          | 1/4 [00:20<01:00, 20.11s/it]"
     ]
    },
    {
     "name": "stdout",
     "output_type": "stream",
     "text": [
      "Epoch 1/4, Loss: -0.0898, Train fit: 0.0189, Test fit: -0.0222, Avg Weight: 0.0002, Max Weight: 0.0010\n"
     ]
    },
    {
     "name": "stderr",
     "output_type": "stream",
     "text": [
      "Training:  75%|██████████████████████████▎        | 3/4 [00:56<00:18, 18.58s/it]"
     ]
    },
    {
     "name": "stdout",
     "output_type": "stream",
     "text": [
      "Epoch 3/4, Loss: -0.0972, Train fit: 0.0219, Test fit: -0.0228, Avg Weight: 0.0002, Max Weight: 0.0010\n"
     ]
    },
    {
     "name": "stderr",
     "output_type": "stream",
     "text": [
      "Training: 100%|███████████████████████████████████| 4/4 [01:18<00:00, 19.66s/it]"
     ]
    },
    {
     "name": "stdout",
     "output_type": "stream",
     "text": [
      "Epoch 4/4, Loss: -0.0993, Train fit: 0.0229, Test fit: -0.0210, Avg Weight: 0.0002, Max Weight: 0.0010\n",
      "Training completed! Best test Sharpe ratio: -0.0210\n",
      "Training from 2018-04 to 2018-09. Testing on 2018-10.\n"
     ]
    },
    {
     "name": "stderr",
     "output_type": "stream",
     "text": [
      "\n"
     ]
    },
    {
     "name": "stdout",
     "output_type": "stream",
     "text": [
      "['sprtrn_lag1', 'DlyRet_lag1', 'DlyRet_roll_10', 'DlyRet_roll_20', 'DlyRet_roll_30']\n",
      "Starting training with 459 train batches, 42 test batches\n"
     ]
    },
    {
     "name": "stderr",
     "output_type": "stream",
     "text": [
      "Training:  25%|████████▊                          | 1/4 [00:20<01:01, 20.48s/it]"
     ]
    },
    {
     "name": "stdout",
     "output_type": "stream",
     "text": [
      "Epoch 1/4, Loss: -0.0753, Train fit: 0.0150, Test fit: -0.1090, Avg Weight: 0.0002, Max Weight: 0.0007\n"
     ]
    },
    {
     "name": "stderr",
     "output_type": "stream",
     "text": [
      "Training:  75%|██████████████████████████▎        | 3/4 [00:59<00:20, 20.16s/it]"
     ]
    },
    {
     "name": "stdout",
     "output_type": "stream",
     "text": [
      "Epoch 3/4, Loss: -0.0936, Train fit: 0.0166, Test fit: -0.1105, Avg Weight: 0.0002, Max Weight: 0.0007\n"
     ]
    },
    {
     "name": "stderr",
     "output_type": "stream",
     "text": [
      "Training: 100%|███████████████████████████████████| 4/4 [01:18<00:00, 19.54s/it]"
     ]
    },
    {
     "name": "stdout",
     "output_type": "stream",
     "text": [
      "Epoch 4/4, Loss: -0.0953, Train fit: 0.0171, Test fit: -0.1103, Avg Weight: 0.0002, Max Weight: 0.0007\n",
      "Training completed! Best test Sharpe ratio: -0.1090\n",
      "Training from 2018-05 to 2018-10. Testing on 2018-11.\n"
     ]
    },
    {
     "name": "stderr",
     "output_type": "stream",
     "text": [
      "\n"
     ]
    },
    {
     "name": "stdout",
     "output_type": "stream",
     "text": [
      "['sprtrn_lag1', 'DlyRet_lag1', 'DlyRet_roll_10', 'DlyRet_roll_20', 'DlyRet_roll_30']\n",
      "Starting training with 468 train batches, 39 test batches\n"
     ]
    },
    {
     "name": "stderr",
     "output_type": "stream",
     "text": [
      "Training:  25%|████████▊                          | 1/4 [00:17<00:53, 17.92s/it]"
     ]
    },
    {
     "name": "stdout",
     "output_type": "stream",
     "text": [
      "Epoch 1/4, Loss: -0.0583, Train fit: -0.0058, Test fit: -0.0052, Avg Weight: 0.0002, Max Weight: 0.0072\n"
     ]
    },
    {
     "name": "stderr",
     "output_type": "stream",
     "text": [
      "Training:  75%|██████████████████████████▎        | 3/4 [00:50<00:16, 16.57s/it]"
     ]
    },
    {
     "name": "stdout",
     "output_type": "stream",
     "text": [
      "Epoch 3/4, Loss: -0.0673, Train fit: -0.0040, Test fit: 0.0022, Avg Weight: 0.0002, Max Weight: 0.0033\n"
     ]
    },
    {
     "name": "stderr",
     "output_type": "stream",
     "text": [
      "Training: 100%|███████████████████████████████████| 4/4 [01:06<00:00, 16.69s/it]"
     ]
    },
    {
     "name": "stdout",
     "output_type": "stream",
     "text": [
      "Epoch 4/4, Loss: -0.0704, Train fit: 0.0016, Test fit: 0.0170, Avg Weight: 0.0002, Max Weight: 0.0028\n",
      "Training completed! Best test Sharpe ratio: 0.0170\n",
      "Training from 2018-06 to 2018-11. Testing on 2018-12.\n"
     ]
    },
    {
     "name": "stderr",
     "output_type": "stream",
     "text": [
      "\n"
     ]
    },
    {
     "name": "stdout",
     "output_type": "stream",
     "text": [
      "['sprtrn_lag1', 'DlyRet_lag1', 'DlyRet_roll_10', 'DlyRet_roll_20', 'DlyRet_roll_30']\n",
      "Starting training with 465 train batches, 35 test batches\n"
     ]
    },
    {
     "name": "stderr",
     "output_type": "stream",
     "text": [
      "Training:  25%|████████▊                          | 1/4 [00:17<00:51, 17.25s/it]"
     ]
    },
    {
     "name": "stdout",
     "output_type": "stream",
     "text": [
      "Epoch 1/4, Loss: -0.0577, Train fit: -0.0120, Test fit: -0.1002, Avg Weight: 0.0002, Max Weight: 0.0023\n"
     ]
    },
    {
     "name": "stderr",
     "output_type": "stream",
     "text": [
      "Training:  75%|██████████████████████████▎        | 3/4 [00:52<00:17, 17.71s/it]"
     ]
    },
    {
     "name": "stdout",
     "output_type": "stream",
     "text": [
      "Epoch 3/4, Loss: -0.0633, Train fit: -0.0047, Test fit: -0.0928, Avg Weight: 0.0002, Max Weight: 0.0011\n"
     ]
    },
    {
     "name": "stderr",
     "output_type": "stream",
     "text": [
      "Training: 100%|███████████████████████████████████| 4/4 [01:10<00:00, 17.69s/it]"
     ]
    },
    {
     "name": "stdout",
     "output_type": "stream",
     "text": [
      "Epoch 4/4, Loss: -0.0678, Train fit: -0.0074, Test fit: -0.0862, Avg Weight: 0.0002, Max Weight: 0.0011\n",
      "Training completed! Best test Sharpe ratio: -0.0862\n",
      "Training from 2018-07 to 2018-12. Testing on 2019-01.\n"
     ]
    },
    {
     "name": "stderr",
     "output_type": "stream",
     "text": [
      "\n"
     ]
    },
    {
     "name": "stdout",
     "output_type": "stream",
     "text": [
      "['sprtrn_lag1', 'DlyRet_lag1', 'DlyRet_roll_10', 'DlyRet_roll_20', 'DlyRet_roll_30']\n",
      "Starting training with 459 train batches, 39 test batches\n"
     ]
    },
    {
     "name": "stderr",
     "output_type": "stream",
     "text": [
      "Training:  25%|████████▊                          | 1/4 [00:16<00:49, 16.54s/it]"
     ]
    },
    {
     "name": "stdout",
     "output_type": "stream",
     "text": [
      "Epoch 1/4, Loss: -0.0462, Train fit: -0.0228, Test fit: 0.1109, Avg Weight: 0.0002, Max Weight: 0.0023\n"
     ]
    },
    {
     "name": "stderr",
     "output_type": "stream",
     "text": [
      "Training:  75%|██████████████████████████▎        | 3/4 [00:47<00:15, 15.91s/it]"
     ]
    },
    {
     "name": "stdout",
     "output_type": "stream",
     "text": [
      "Epoch 3/4, Loss: -0.0431, Train fit: -0.0078, Test fit: 0.0434, Avg Weight: 0.0002, Max Weight: 0.0023\n"
     ]
    },
    {
     "name": "stderr",
     "output_type": "stream",
     "text": [
      "Training: 100%|███████████████████████████████████| 4/4 [01:03<00:00, 15.84s/it]"
     ]
    },
    {
     "name": "stdout",
     "output_type": "stream",
     "text": [
      "Epoch 4/4, Loss: -0.0470, Train fit: -0.0013, Test fit: 0.0310, Avg Weight: 0.0002, Max Weight: 0.0023\n",
      "Training completed! Best test Sharpe ratio: 0.1109\n",
      "Training from 2018-08 to 2019-01. Testing on 2019-02.\n"
     ]
    },
    {
     "name": "stderr",
     "output_type": "stream",
     "text": [
      "\n"
     ]
    },
    {
     "name": "stdout",
     "output_type": "stream",
     "text": [
      "['sprtrn_lag1', 'DlyRet_lag1', 'DlyRet_roll_10', 'DlyRet_roll_20', 'DlyRet_roll_30']\n",
      "Starting training with 460 train batches, 35 test batches\n"
     ]
    },
    {
     "name": "stderr",
     "output_type": "stream",
     "text": [
      "Training:  25%|████████▊                          | 1/4 [00:14<00:44, 14.68s/it]"
     ]
    },
    {
     "name": "stdout",
     "output_type": "stream",
     "text": [
      "Epoch 1/4, Loss: -0.0526, Train fit: -0.0126, Test fit: 0.0589, Avg Weight: 0.0002, Max Weight: 0.0009\n"
     ]
    },
    {
     "name": "stderr",
     "output_type": "stream",
     "text": [
      "Training:  75%|██████████████████████████▎        | 3/4 [00:48<00:16, 16.54s/it]"
     ]
    },
    {
     "name": "stdout",
     "output_type": "stream",
     "text": [
      "Epoch 3/4, Loss: -0.0660, Train fit: -0.0072, Test fit: 0.0575, Avg Weight: 0.0002, Max Weight: 0.0009\n"
     ]
    },
    {
     "name": "stderr",
     "output_type": "stream",
     "text": [
      "Training: 100%|███████████████████████████████████| 4/4 [01:05<00:00, 16.32s/it]"
     ]
    },
    {
     "name": "stdout",
     "output_type": "stream",
     "text": [
      "Epoch 4/4, Loss: -0.0676, Train fit: -0.0057, Test fit: 0.0541, Avg Weight: 0.0002, Max Weight: 0.0009\n",
      "Training completed! Best test Sharpe ratio: 0.0589\n",
      "Training from 2018-09 to 2019-02. Testing on 2019-03.\n"
     ]
    },
    {
     "name": "stderr",
     "output_type": "stream",
     "text": [
      "\n"
     ]
    },
    {
     "name": "stdout",
     "output_type": "stream",
     "text": [
      "['sprtrn_lag1', 'DlyRet_lag1', 'DlyRet_roll_10', 'DlyRet_roll_20', 'DlyRet_roll_30']\n",
      "Starting training with 446 train batches, 39 test batches\n"
     ]
    },
    {
     "name": "stderr",
     "output_type": "stream",
     "text": [
      "Training:  25%|████████▊                          | 1/4 [00:15<00:46, 15.42s/it]"
     ]
    },
    {
     "name": "stdout",
     "output_type": "stream",
     "text": [
      "Epoch 1/4, Loss: -0.0604, Train fit: -0.0105, Test fit: 0.0076, Avg Weight: 0.0002, Max Weight: 0.0021\n"
     ]
    },
    {
     "name": "stderr",
     "output_type": "stream",
     "text": [
      "Training:  75%|██████████████████████████▎        | 3/4 [00:50<00:16, 16.79s/it]"
     ]
    },
    {
     "name": "stdout",
     "output_type": "stream",
     "text": [
      "Epoch 3/4, Loss: -0.0608, Train fit: -0.0061, Test fit: 0.0099, Avg Weight: 0.0002, Max Weight: 0.0027\n"
     ]
    },
    {
     "name": "stderr",
     "output_type": "stream",
     "text": [
      "Training: 100%|███████████████████████████████████| 4/4 [01:06<00:00, 16.53s/it]"
     ]
    },
    {
     "name": "stdout",
     "output_type": "stream",
     "text": [
      "Epoch 4/4, Loss: -0.0701, Train fit: -0.0051, Test fit: 0.0115, Avg Weight: 0.0002, Max Weight: 0.0028\n",
      "Training completed! Best test Sharpe ratio: 0.0115\n",
      "Training from 2018-10 to 2019-03. Testing on 2019-04.\n"
     ]
    },
    {
     "name": "stderr",
     "output_type": "stream",
     "text": [
      "\n"
     ]
    },
    {
     "name": "stdout",
     "output_type": "stream",
     "text": [
      "['sprtrn_lag1', 'DlyRet_lag1', 'DlyRet_roll_10', 'DlyRet_roll_20', 'DlyRet_roll_30']\n",
      "Starting training with 454 train batches, 39 test batches\n"
     ]
    },
    {
     "name": "stderr",
     "output_type": "stream",
     "text": [
      "Training:  25%|████████▊                          | 1/4 [00:16<00:48, 16.32s/it]"
     ]
    },
    {
     "name": "stdout",
     "output_type": "stream",
     "text": [
      "Epoch 1/4, Loss: -0.0756, Train fit: 0.0005, Test fit: 0.0477, Avg Weight: 0.0002, Max Weight: 0.0025\n"
     ]
    },
    {
     "name": "stderr",
     "output_type": "stream",
     "text": [
      "Training:  75%|██████████████████████████▎        | 3/4 [00:49<00:16, 16.55s/it]"
     ]
    },
    {
     "name": "stdout",
     "output_type": "stream",
     "text": [
      "Epoch 3/4, Loss: -0.0760, Train fit: 0.0002, Test fit: 0.0484, Avg Weight: 0.0002, Max Weight: 0.0025\n"
     ]
    },
    {
     "name": "stderr",
     "output_type": "stream",
     "text": [
      "Training: 100%|███████████████████████████████████| 4/4 [01:04<00:00, 16.09s/it]"
     ]
    },
    {
     "name": "stdout",
     "output_type": "stream",
     "text": [
      "Epoch 4/4, Loss: -0.0794, Train fit: 0.0002, Test fit: 0.0488, Avg Weight: 0.0002, Max Weight: 0.0025\n",
      "Training completed! Best test Sharpe ratio: 0.0488\n",
      "Training from 2018-11 to 2019-04. Testing on 2019-05.\n"
     ]
    },
    {
     "name": "stderr",
     "output_type": "stream",
     "text": [
      "\n"
     ]
    },
    {
     "name": "stdout",
     "output_type": "stream",
     "text": [
      "['sprtrn_lag1', 'DlyRet_lag1', 'DlyRet_roll_10', 'DlyRet_roll_20', 'DlyRet_roll_30']\n",
      "Starting training with 447 train batches, 41 test batches\n"
     ]
    },
    {
     "name": "stderr",
     "output_type": "stream",
     "text": [
      "Training:  25%|████████▊                          | 1/4 [00:16<00:50, 16.69s/it]"
     ]
    },
    {
     "name": "stdout",
     "output_type": "stream",
     "text": [
      "Epoch 1/4, Loss: -0.0918, Train fit: 0.0241, Test fit: -0.1008, Avg Weight: 0.0002, Max Weight: 0.0018\n"
     ]
    },
    {
     "name": "stderr",
     "output_type": "stream",
     "text": [
      "Training:  75%|██████████████████████████▎        | 3/4 [00:54<00:18, 18.48s/it]"
     ]
    },
    {
     "name": "stdout",
     "output_type": "stream",
     "text": [
      "Epoch 3/4, Loss: -0.1035, Train fit: 0.0282, Test fit: -0.0927, Avg Weight: 0.0002, Max Weight: 0.0022\n"
     ]
    },
    {
     "name": "stderr",
     "output_type": "stream",
     "text": [
      "Training: 100%|███████████████████████████████████| 4/4 [01:14<00:00, 18.51s/it]"
     ]
    },
    {
     "name": "stdout",
     "output_type": "stream",
     "text": [
      "Epoch 4/4, Loss: -0.1044, Train fit: 0.0294, Test fit: -0.0916, Avg Weight: 0.0002, Max Weight: 0.0022\n",
      "Training completed! Best test Sharpe ratio: -0.0916\n",
      "Training from 2018-12 to 2019-05. Testing on 2019-06.\n"
     ]
    },
    {
     "name": "stderr",
     "output_type": "stream",
     "text": [
      "\n"
     ]
    },
    {
     "name": "stdout",
     "output_type": "stream",
     "text": [
      "['sprtrn_lag1', 'DlyRet_lag1', 'DlyRet_roll_10', 'DlyRet_roll_20', 'DlyRet_roll_30']\n",
      "Starting training with 451 train batches, 37 test batches\n"
     ]
    },
    {
     "name": "stderr",
     "output_type": "stream",
     "text": [
      "Training:  25%|████████▊                          | 1/4 [00:19<00:57, 19.28s/it]"
     ]
    },
    {
     "name": "stdout",
     "output_type": "stream",
     "text": [
      "Epoch 1/4, Loss: -0.0937, Train fit: 0.0088, Test fit: 0.1048, Avg Weight: 0.0002, Max Weight: 0.0013\n"
     ]
    },
    {
     "name": "stderr",
     "output_type": "stream",
     "text": [
      "Training:  75%|██████████████████████████▎        | 3/4 [00:51<00:16, 16.69s/it]"
     ]
    },
    {
     "name": "stdout",
     "output_type": "stream",
     "text": [
      "Epoch 3/4, Loss: -0.0839, Train fit: 0.0095, Test fit: 0.1032, Avg Weight: 0.0002, Max Weight: 0.0013\n"
     ]
    },
    {
     "name": "stderr",
     "output_type": "stream",
     "text": [
      "Training: 100%|███████████████████████████████████| 4/4 [01:06<00:00, 16.58s/it]"
     ]
    },
    {
     "name": "stdout",
     "output_type": "stream",
     "text": [
      "Epoch 4/4, Loss: -0.0851, Train fit: 0.0101, Test fit: 0.1034, Avg Weight: 0.0002, Max Weight: 0.0013\n",
      "Training completed! Best test Sharpe ratio: 0.1048\n",
      "Training from 2019-01 to 2019-06. Testing on 2019-07.\n"
     ]
    },
    {
     "name": "stderr",
     "output_type": "stream",
     "text": [
      "\n"
     ]
    },
    {
     "name": "stdout",
     "output_type": "stream",
     "text": [
      "['sprtrn_lag1', 'DlyRet_lag1', 'DlyRet_roll_10', 'DlyRet_roll_20', 'DlyRet_roll_30']\n",
      "Starting training with 455 train batches, 41 test batches\n"
     ]
    },
    {
     "name": "stderr",
     "output_type": "stream",
     "text": [
      "Training:  25%|████████▊                          | 1/4 [00:14<00:43, 14.56s/it]"
     ]
    },
    {
     "name": "stdout",
     "output_type": "stream",
     "text": [
      "Epoch 1/4, Loss: -0.1180, Train fit: 0.0470, Test fit: 0.0062, Avg Weight: 0.0002, Max Weight: 0.0012\n"
     ]
    },
    {
     "name": "stderr",
     "output_type": "stream",
     "text": [
      "Training:  75%|██████████████████████████▎        | 3/4 [00:50<00:17, 17.02s/it]"
     ]
    },
    {
     "name": "stdout",
     "output_type": "stream",
     "text": [
      "Epoch 3/4, Loss: -0.1242, Train fit: 0.0510, Test fit: 0.0067, Avg Weight: 0.0002, Max Weight: 0.0013\n"
     ]
    },
    {
     "name": "stderr",
     "output_type": "stream",
     "text": [
      "Training: 100%|███████████████████████████████████| 4/4 [01:07<00:00, 16.79s/it]"
     ]
    },
    {
     "name": "stdout",
     "output_type": "stream",
     "text": [
      "Epoch 4/4, Loss: -0.1266, Train fit: 0.0509, Test fit: 0.0081, Avg Weight: 0.0002, Max Weight: 0.0013\n",
      "Training completed! Best test Sharpe ratio: 0.0081\n",
      "Training from 2019-02 to 2019-07. Testing on 2019-08.\n"
     ]
    },
    {
     "name": "stderr",
     "output_type": "stream",
     "text": [
      "\n"
     ]
    },
    {
     "name": "stdout",
     "output_type": "stream",
     "text": [
      "['sprtrn_lag1', 'DlyRet_lag1', 'DlyRet_roll_10', 'DlyRet_roll_20', 'DlyRet_roll_30']\n",
      "Starting training with 459 train batches, 41 test batches\n"
     ]
    },
    {
     "name": "stderr",
     "output_type": "stream",
     "text": [
      "Training:  25%|████████▊                          | 1/4 [00:15<00:47, 15.71s/it]"
     ]
    },
    {
     "name": "stdout",
     "output_type": "stream",
     "text": [
      "Epoch 1/4, Loss: -0.0896, Train fit: 0.0214, Test fit: -0.0321, Avg Weight: 0.0002, Max Weight: 0.0011\n"
     ]
    },
    {
     "name": "stderr",
     "output_type": "stream",
     "text": [
      "Training:  75%|██████████████████████████▎        | 3/4 [00:50<00:17, 17.12s/it]"
     ]
    },
    {
     "name": "stdout",
     "output_type": "stream",
     "text": [
      "Epoch 3/4, Loss: -0.0994, Train fit: 0.0244, Test fit: -0.0307, Avg Weight: 0.0002, Max Weight: 0.0011\n"
     ]
    },
    {
     "name": "stderr",
     "output_type": "stream",
     "text": [
      "Training: 100%|███████████████████████████████████| 4/4 [01:08<00:00, 17.07s/it]"
     ]
    },
    {
     "name": "stdout",
     "output_type": "stream",
     "text": [
      "Epoch 4/4, Loss: -0.1025, Train fit: 0.0251, Test fit: -0.0294, Avg Weight: 0.0002, Max Weight: 0.0011\n",
      "Training completed! Best test Sharpe ratio: -0.0294\n",
      "Training from 2019-03 to 2019-08. Testing on 2019-09.\n"
     ]
    },
    {
     "name": "stderr",
     "output_type": "stream",
     "text": [
      "\n"
     ]
    },
    {
     "name": "stdout",
     "output_type": "stream",
     "text": [
      "['sprtrn_lag1', 'DlyRet_lag1', 'DlyRet_roll_10', 'DlyRet_roll_20', 'DlyRet_roll_30']\n",
      "Starting training with 471 train batches, 37 test batches\n"
     ]
    },
    {
     "name": "stderr",
     "output_type": "stream",
     "text": [
      "Training:  25%|████████▊                          | 1/4 [00:16<00:50, 16.96s/it]"
     ]
    },
    {
     "name": "stdout",
     "output_type": "stream",
     "text": [
      "Epoch 1/4, Loss: -0.0774, Train fit: 0.0069, Test fit: 0.0350, Avg Weight: 0.0002, Max Weight: 0.0013\n"
     ]
    },
    {
     "name": "stderr",
     "output_type": "stream",
     "text": [
      "Training:  75%|██████████████████████████▎        | 3/4 [00:53<00:17, 17.86s/it]"
     ]
    },
    {
     "name": "stdout",
     "output_type": "stream",
     "text": [
      "Epoch 3/4, Loss: -0.0877, Train fit: 0.0078, Test fit: 0.0407, Avg Weight: 0.0002, Max Weight: 0.0010\n"
     ]
    },
    {
     "name": "stderr",
     "output_type": "stream",
     "text": [
      "Training: 100%|███████████████████████████████████| 4/4 [01:09<00:00, 17.38s/it]"
     ]
    },
    {
     "name": "stdout",
     "output_type": "stream",
     "text": [
      "Epoch 4/4, Loss: -0.0892, Train fit: 0.0090, Test fit: 0.0410, Avg Weight: 0.0002, Max Weight: 0.0011\n",
      "Training completed! Best test Sharpe ratio: 0.0410\n",
      "Training from 2019-04 to 2019-09. Testing on 2019-10.\n"
     ]
    },
    {
     "name": "stderr",
     "output_type": "stream",
     "text": [
      "\n"
     ]
    },
    {
     "name": "stdout",
     "output_type": "stream",
     "text": [
      "['sprtrn_lag1', 'DlyRet_lag1', 'DlyRet_roll_10', 'DlyRet_roll_20', 'DlyRet_roll_30']\n",
      "Starting training with 468 train batches, 43 test batches\n"
     ]
    },
    {
     "name": "stderr",
     "output_type": "stream",
     "text": [
      "Training:  25%|████████▊                          | 1/4 [00:17<00:52, 17.57s/it]"
     ]
    },
    {
     "name": "stdout",
     "output_type": "stream",
     "text": [
      "Epoch 1/4, Loss: -0.0654, Train fit: 0.0056, Test fit: 0.0182, Avg Weight: 0.0002, Max Weight: 0.0014\n"
     ]
    },
    {
     "name": "stderr",
     "output_type": "stream",
     "text": [
      "Training:  75%|██████████████████████████▎        | 3/4 [00:53<00:18, 18.04s/it]"
     ]
    },
    {
     "name": "stdout",
     "output_type": "stream",
     "text": [
      "Epoch 3/4, Loss: -0.0887, Train fit: 0.0120, Test fit: 0.0235, Avg Weight: 0.0002, Max Weight: 0.0012\n"
     ]
    },
    {
     "name": "stderr",
     "output_type": "stream",
     "text": [
      "Training: 100%|███████████████████████████████████| 4/4 [01:10<00:00, 17.56s/it]"
     ]
    },
    {
     "name": "stdout",
     "output_type": "stream",
     "text": [
      "Epoch 4/4, Loss: -0.0911, Train fit: 0.0139, Test fit: 0.0249, Avg Weight: 0.0002, Max Weight: 0.0012\n",
      "Training completed! Best test Sharpe ratio: 0.0249\n",
      "Training from 2019-05 to 2019-10. Testing on 2019-11.\n"
     ]
    },
    {
     "name": "stderr",
     "output_type": "stream",
     "text": [
      "\n"
     ]
    },
    {
     "name": "stdout",
     "output_type": "stream",
     "text": [
      "['sprtrn_lag1', 'DlyRet_lag1', 'DlyRet_roll_10', 'DlyRet_roll_20', 'DlyRet_roll_30']\n",
      "Starting training with 477 train batches, 38 test batches\n"
     ]
    },
    {
     "name": "stderr",
     "output_type": "stream",
     "text": [
      "Training:  25%|████████▊                          | 1/4 [00:16<00:49, 16.59s/it]"
     ]
    },
    {
     "name": "stdout",
     "output_type": "stream",
     "text": [
      "Epoch 1/4, Loss: -0.0701, Train fit: 0.0006, Test fit: 0.0303, Avg Weight: 0.0003, Max Weight: 0.0177\n"
     ]
    },
    {
     "name": "stderr",
     "output_type": "stream",
     "text": [
      "Training:  75%|██████████████████████████▎        | 3/4 [00:50<00:16, 16.87s/it]"
     ]
    },
    {
     "name": "stdout",
     "output_type": "stream",
     "text": [
      "Epoch 3/4, Loss: -0.0855, Train fit: 0.0060, Test fit: 0.0319, Avg Weight: 0.0003, Max Weight: 0.0227\n"
     ]
    },
    {
     "name": "stderr",
     "output_type": "stream",
     "text": [
      "Training: 100%|███████████████████████████████████| 4/4 [01:07<00:00, 16.86s/it]"
     ]
    },
    {
     "name": "stdout",
     "output_type": "stream",
     "text": [
      "Epoch 4/4, Loss: -0.0865, Train fit: 0.0073, Test fit: 0.0315, Avg Weight: 0.0003, Max Weight: 0.0227\n",
      "Training completed! Best test Sharpe ratio: 0.0325\n",
      "Training from 2019-06 to 2019-11. Testing on 2019-12.\n"
     ]
    },
    {
     "name": "stderr",
     "output_type": "stream",
     "text": [
      "\n"
     ]
    },
    {
     "name": "stdout",
     "output_type": "stream",
     "text": [
      "['sprtrn_lag1', 'DlyRet_lag1', 'DlyRet_roll_10', 'DlyRet_roll_20', 'DlyRet_roll_30']\n",
      "Starting training with 470 train batches, 39 test batches\n"
     ]
    },
    {
     "name": "stderr",
     "output_type": "stream",
     "text": [
      "Training:  25%|████████▊                          | 1/4 [00:17<00:53, 17.88s/it]"
     ]
    },
    {
     "name": "stdout",
     "output_type": "stream",
     "text": [
      "Epoch 1/4, Loss: -0.0912, Train fit: 0.0226, Test fit: 0.0635, Avg Weight: 0.0002, Max Weight: 0.0008\n"
     ]
    },
    {
     "name": "stderr",
     "output_type": "stream",
     "text": [
      "Training:  75%|██████████████████████████▎        | 3/4 [00:52<00:17, 17.56s/it]"
     ]
    },
    {
     "name": "stdout",
     "output_type": "stream",
     "text": [
      "Epoch 3/4, Loss: -0.1045, Train fit: 0.0290, Test fit: 0.0662, Avg Weight: 0.0002, Max Weight: 0.0008\n"
     ]
    },
    {
     "name": "stderr",
     "output_type": "stream",
     "text": [
      "Training: 100%|███████████████████████████████████| 4/4 [01:09<00:00, 17.36s/it]"
     ]
    },
    {
     "name": "stdout",
     "output_type": "stream",
     "text": [
      "Epoch 4/4, Loss: -0.1069, Train fit: 0.0298, Test fit: 0.0663, Avg Weight: 0.0002, Max Weight: 0.0008\n",
      "Training completed! Best test Sharpe ratio: 0.0668\n",
      "Training from 2019-07 to 2019-12. Testing on 2020-01.\n"
     ]
    },
    {
     "name": "stderr",
     "output_type": "stream",
     "text": [
      "\n"
     ]
    },
    {
     "name": "stdout",
     "output_type": "stream",
     "text": [
      "['sprtrn_lag1', 'DlyRet_lag1', 'DlyRet_roll_10', 'DlyRet_roll_20', 'DlyRet_roll_30']\n",
      "Starting training with 474 train batches, 39 test batches\n"
     ]
    },
    {
     "name": "stderr",
     "output_type": "stream",
     "text": [
      "Training:  25%|████████▊                          | 1/4 [00:17<00:52, 17.40s/it]"
     ]
    },
    {
     "name": "stdout",
     "output_type": "stream",
     "text": [
      "Epoch 1/4, Loss: -0.0873, Train fit: 0.0219, Test fit: -0.0383, Avg Weight: 0.0002, Max Weight: 0.0009\n"
     ]
    },
    {
     "name": "stderr",
     "output_type": "stream",
     "text": [
      "Training:  75%|██████████████████████████▎        | 3/4 [00:51<00:17, 17.17s/it]"
     ]
    },
    {
     "name": "stdout",
     "output_type": "stream",
     "text": [
      "Epoch 3/4, Loss: -0.1006, Train fit: 0.0231, Test fit: -0.0385, Avg Weight: 0.0002, Max Weight: 0.0009\n"
     ]
    },
    {
     "name": "stderr",
     "output_type": "stream",
     "text": [
      "Training: 100%|███████████████████████████████████| 4/4 [01:08<00:00, 17.00s/it]"
     ]
    },
    {
     "name": "stdout",
     "output_type": "stream",
     "text": [
      "Epoch 4/4, Loss: -0.1021, Train fit: 0.0240, Test fit: -0.0383, Avg Weight: 0.0002, Max Weight: 0.0008\n",
      "Training completed! Best test Sharpe ratio: -0.0383\n",
      "Training from 2019-08 to 2020-01. Testing on 2020-02.\n"
     ]
    },
    {
     "name": "stderr",
     "output_type": "stream",
     "text": [
      "\n"
     ]
    },
    {
     "name": "stdout",
     "output_type": "stream",
     "text": [
      "['sprtrn_lag1', 'DlyRet_lag1', 'DlyRet_roll_10', 'DlyRet_roll_20', 'DlyRet_roll_30']\n",
      "Starting training with 471 train batches, 36 test batches\n"
     ]
    },
    {
     "name": "stderr",
     "output_type": "stream",
     "text": [
      "Training:  25%|████████▊                          | 1/4 [00:17<00:52, 17.41s/it]"
     ]
    },
    {
     "name": "stdout",
     "output_type": "stream",
     "text": [
      "Epoch 1/4, Loss: -0.0882, Train fit: 0.0148, Test fit: -0.0821, Avg Weight: 0.0002, Max Weight: 0.0064\n"
     ]
    },
    {
     "name": "stderr",
     "output_type": "stream",
     "text": [
      "Training:  75%|██████████████████████████▎        | 3/4 [00:50<00:16, 16.92s/it]"
     ]
    },
    {
     "name": "stdout",
     "output_type": "stream",
     "text": [
      "Epoch 3/4, Loss: -0.0926, Train fit: 0.0149, Test fit: -0.0861, Avg Weight: 0.0002, Max Weight: 0.0064\n"
     ]
    },
    {
     "name": "stderr",
     "output_type": "stream",
     "text": [
      "Training: 100%|███████████████████████████████████| 4/4 [01:07<00:00, 16.97s/it]"
     ]
    },
    {
     "name": "stdout",
     "output_type": "stream",
     "text": [
      "Epoch 4/4, Loss: -0.0955, Train fit: 0.0153, Test fit: -0.0885, Avg Weight: 0.0002, Max Weight: 0.0064\n",
      "Training completed! Best test Sharpe ratio: -0.0821\n",
      "Training from 2019-09 to 2020-02. Testing on 2020-03.\n"
     ]
    },
    {
     "name": "stderr",
     "output_type": "stream",
     "text": [
      "\n"
     ]
    },
    {
     "name": "stdout",
     "output_type": "stream",
     "text": [
      "['sprtrn_lag1', 'DlyRet_lag1', 'DlyRet_roll_10', 'DlyRet_roll_20', 'DlyRet_roll_30']\n",
      "Starting training with 460 train batches, 41 test batches\n"
     ]
    },
    {
     "name": "stderr",
     "output_type": "stream",
     "text": [
      "Training:  25%|████████▊                          | 1/4 [00:16<00:50, 16.97s/it]"
     ]
    },
    {
     "name": "stdout",
     "output_type": "stream",
     "text": [
      "Epoch 1/4, Loss: -0.0796, Train fit: -0.0006, Test fit: -0.0476, Avg Weight: 0.0002, Max Weight: 0.0015\n"
     ]
    },
    {
     "name": "stderr",
     "output_type": "stream",
     "text": [
      "Training:  75%|██████████████████████████▎        | 3/4 [00:49<00:16, 16.45s/it]"
     ]
    },
    {
     "name": "stdout",
     "output_type": "stream",
     "text": [
      "Epoch 3/4, Loss: -0.0858, Train fit: 0.0003, Test fit: -0.0478, Avg Weight: 0.0002, Max Weight: 0.0015\n"
     ]
    },
    {
     "name": "stderr",
     "output_type": "stream",
     "text": [
      "Training: 100%|███████████████████████████████████| 4/4 [01:06<00:00, 16.55s/it]"
     ]
    },
    {
     "name": "stdout",
     "output_type": "stream",
     "text": [
      "Epoch 4/4, Loss: -0.0885, Train fit: 0.0009, Test fit: -0.0503, Avg Weight: 0.0002, Max Weight: 0.0015\n",
      "Training completed! Best test Sharpe ratio: -0.0476\n",
      "Training from 2019-10 to 2020-03. Testing on 2020-04.\n"
     ]
    },
    {
     "name": "stderr",
     "output_type": "stream",
     "text": [
      "\n"
     ]
    },
    {
     "name": "stdout",
     "output_type": "stream",
     "text": [
      "['sprtrn_lag1', 'DlyRet_lag1', 'DlyRet_roll_10', 'DlyRet_roll_20', 'DlyRet_roll_30']\n",
      "Starting training with 467 train batches, 39 test batches\n"
     ]
    },
    {
     "name": "stderr",
     "output_type": "stream",
     "text": [
      "Training:  25%|████████▊                          | 1/4 [00:17<00:52, 17.39s/it]"
     ]
    },
    {
     "name": "stdout",
     "output_type": "stream",
     "text": [
      "Epoch 1/4, Loss: -0.0716, Train fit: -0.0183, Test fit: 0.0676, Avg Weight: 0.0002, Max Weight: 0.0018\n"
     ]
    },
    {
     "name": "stderr",
     "output_type": "stream",
     "text": [
      "Training:  75%|██████████████████████████▎        | 3/4 [00:50<00:16, 16.92s/it]"
     ]
    },
    {
     "name": "stdout",
     "output_type": "stream",
     "text": [
      "Epoch 3/4, Loss: -0.0759, Train fit: -0.0165, Test fit: 0.0648, Avg Weight: 0.0002, Max Weight: 0.0018\n"
     ]
    },
    {
     "name": "stderr",
     "output_type": "stream",
     "text": [
      "Training: 100%|███████████████████████████████████| 4/4 [01:08<00:00, 17.16s/it]"
     ]
    },
    {
     "name": "stdout",
     "output_type": "stream",
     "text": [
      "Epoch 4/4, Loss: -0.0786, Train fit: -0.0154, Test fit: 0.0675, Avg Weight: 0.0002, Max Weight: 0.0018\n",
      "Training completed! Best test Sharpe ratio: 0.0676\n",
      "Training from 2019-11 to 2020-04. Testing on 2020-05.\n"
     ]
    },
    {
     "name": "stderr",
     "output_type": "stream",
     "text": [
      "\n"
     ]
    },
    {
     "name": "stdout",
     "output_type": "stream",
     "text": [
      "['sprtrn_lag1', 'DlyRet_lag1', 'DlyRet_roll_10', 'DlyRet_roll_20', 'DlyRet_roll_30']\n",
      "Starting training with 460 train batches, 37 test batches\n"
     ]
    },
    {
     "name": "stderr",
     "output_type": "stream",
     "text": [
      "Training:  25%|████████▊                          | 1/4 [00:16<00:48, 16.30s/it]"
     ]
    },
    {
     "name": "stdout",
     "output_type": "stream",
     "text": [
      "Epoch 1/4, Loss: -0.0814, Train fit: -0.0061, Test fit: 0.0612, Avg Weight: 0.0002, Max Weight: 0.0007\n"
     ]
    },
    {
     "name": "stderr",
     "output_type": "stream",
     "text": [
      "Training:  75%|██████████████████████████▎        | 3/4 [00:50<00:17, 17.01s/it]"
     ]
    },
    {
     "name": "stdout",
     "output_type": "stream",
     "text": [
      "Epoch 3/4, Loss: -0.0816, Train fit: -0.0044, Test fit: 0.0634, Avg Weight: 0.0002, Max Weight: 0.0009\n"
     ]
    },
    {
     "name": "stderr",
     "output_type": "stream",
     "text": [
      "Training: 100%|███████████████████████████████████| 4/4 [01:07<00:00, 16.84s/it]"
     ]
    },
    {
     "name": "stdout",
     "output_type": "stream",
     "text": [
      "Epoch 4/4, Loss: -0.0794, Train fit: -0.0037, Test fit: 0.0642, Avg Weight: 0.0002, Max Weight: 0.0010\n",
      "Training completed! Best test Sharpe ratio: 0.0642\n",
      "Training from 2019-12 to 2020-05. Testing on 2020-06.\n"
     ]
    },
    {
     "name": "stderr",
     "output_type": "stream",
     "text": [
      "\n"
     ]
    },
    {
     "name": "stdout",
     "output_type": "stream",
     "text": [
      "['sprtrn_lag1', 'DlyRet_lag1', 'DlyRet_roll_10', 'DlyRet_roll_20', 'DlyRet_roll_30']\n",
      "Starting training with 459 train batches, 41 test batches\n"
     ]
    },
    {
     "name": "stderr",
     "output_type": "stream",
     "text": [
      "Training:  25%|████████▊                          | 1/4 [00:16<00:49, 16.49s/it]"
     ]
    },
    {
     "name": "stdout",
     "output_type": "stream",
     "text": [
      "Epoch 1/4, Loss: -0.0839, Train fit: 0.0005, Test fit: 0.0370, Avg Weight: 0.0002, Max Weight: 0.0008\n"
     ]
    },
    {
     "name": "stderr",
     "output_type": "stream",
     "text": [
      "Training:  75%|██████████████████████████▎        | 3/4 [00:50<00:16, 16.97s/it]"
     ]
    },
    {
     "name": "stdout",
     "output_type": "stream",
     "text": [
      "Epoch 3/4, Loss: -0.0865, Train fit: 0.0013, Test fit: 0.0430, Avg Weight: 0.0002, Max Weight: 0.0005\n"
     ]
    },
    {
     "name": "stderr",
     "output_type": "stream",
     "text": [
      "Training: 100%|███████████████████████████████████| 4/4 [01:07<00:00, 16.80s/it]"
     ]
    },
    {
     "name": "stdout",
     "output_type": "stream",
     "text": [
      "Epoch 4/4, Loss: -0.0893, Train fit: 0.0038, Test fit: 0.0437, Avg Weight: 0.0002, Max Weight: 0.0008\n",
      "Training completed! Best test Sharpe ratio: 0.0437\n",
      "Training from 2020-01 to 2020-06. Testing on 2020-07.\n"
     ]
    },
    {
     "name": "stderr",
     "output_type": "stream",
     "text": [
      "\n"
     ]
    },
    {
     "name": "stdout",
     "output_type": "stream",
     "text": [
      "['sprtrn_lag1', 'DlyRet_lag1', 'DlyRet_roll_10', 'DlyRet_roll_20', 'DlyRet_roll_30']\n",
      "Starting training with 463 train batches, 41 test batches\n"
     ]
    },
    {
     "name": "stderr",
     "output_type": "stream",
     "text": [
      "Training:  25%|████████▊                          | 1/4 [00:16<00:49, 16.43s/it]"
     ]
    },
    {
     "name": "stdout",
     "output_type": "stream",
     "text": [
      "Epoch 1/4, Loss: -0.0933, Train fit: -0.0013, Test fit: 0.0604, Avg Weight: 0.0002, Max Weight: 0.0009\n"
     ]
    },
    {
     "name": "stderr",
     "output_type": "stream",
     "text": [
      "Training:  75%|██████████████████████████▎        | 3/4 [00:49<00:16, 16.55s/it]"
     ]
    },
    {
     "name": "stdout",
     "output_type": "stream",
     "text": [
      "Epoch 3/4, Loss: -0.0865, Train fit: 0.0011, Test fit: 0.0637, Avg Weight: 0.0002, Max Weight: 0.0010\n"
     ]
    },
    {
     "name": "stderr",
     "output_type": "stream",
     "text": [
      "Training: 100%|███████████████████████████████████| 4/4 [01:06<00:00, 16.50s/it]"
     ]
    },
    {
     "name": "stdout",
     "output_type": "stream",
     "text": [
      "Epoch 4/4, Loss: -0.0912, Train fit: 0.0019, Test fit: 0.0656, Avg Weight: 0.0002, Max Weight: 0.0009\n",
      "Training completed! Best test Sharpe ratio: 0.0656\n",
      "Training from 2020-02 to 2020-07. Testing on 2020-08.\n"
     ]
    },
    {
     "name": "stderr",
     "output_type": "stream",
     "text": [
      "\n"
     ]
    },
    {
     "name": "stdout",
     "output_type": "stream",
     "text": [
      "['sprtrn_lag1', 'DlyRet_lag1', 'DlyRet_roll_10', 'DlyRet_roll_20', 'DlyRet_roll_30']\n",
      "Starting training with 467 train batches, 40 test batches\n"
     ]
    },
    {
     "name": "stderr",
     "output_type": "stream",
     "text": [
      "Training:  25%|████████▊                          | 1/4 [00:17<00:51, 17.22s/it]"
     ]
    },
    {
     "name": "stdout",
     "output_type": "stream",
     "text": [
      "Epoch 1/4, Loss: -0.0952, Train fit: 0.0085, Test fit: 0.0517, Avg Weight: 0.0002, Max Weight: 0.0049\n"
     ]
    },
    {
     "name": "stderr",
     "output_type": "stream",
     "text": [
      "Training:  75%|██████████████████████████▎        | 3/4 [00:49<00:16, 16.28s/it]"
     ]
    },
    {
     "name": "stdout",
     "output_type": "stream",
     "text": [
      "Epoch 3/4, Loss: -0.0980, Train fit: 0.0108, Test fit: 0.0556, Avg Weight: 0.0002, Max Weight: 0.0053\n"
     ]
    },
    {
     "name": "stderr",
     "output_type": "stream",
     "text": [
      "Training: 100%|███████████████████████████████████| 4/4 [01:07<00:00, 16.77s/it]"
     ]
    },
    {
     "name": "stdout",
     "output_type": "stream",
     "text": [
      "Epoch 4/4, Loss: -0.1001, Train fit: 0.0126, Test fit: 0.0558, Avg Weight: 0.0002, Max Weight: 0.0054\n",
      "Training completed! Best test Sharpe ratio: 0.0558\n",
      "Training from 2020-03 to 2020-08. Testing on 2020-09.\n"
     ]
    },
    {
     "name": "stderr",
     "output_type": "stream",
     "text": [
      "\n"
     ]
    },
    {
     "name": "stdout",
     "output_type": "stream",
     "text": [
      "['sprtrn_lag1', 'DlyRet_lag1', 'DlyRet_roll_10', 'DlyRet_roll_20', 'DlyRet_roll_30']\n",
      "Starting training with 475 train batches, 40 test batches\n"
     ]
    },
    {
     "name": "stderr",
     "output_type": "stream",
     "text": [
      "Training:  25%|████████▊                          | 1/4 [00:17<00:53, 17.82s/it]"
     ]
    },
    {
     "name": "stdout",
     "output_type": "stream",
     "text": [
      "Epoch 1/4, Loss: -0.1135, Train fit: 0.0246, Test fit: -0.0362, Avg Weight: 0.0002, Max Weight: 0.0021\n"
     ]
    },
    {
     "name": "stderr",
     "output_type": "stream",
     "text": [
      "Training:  75%|██████████████████████████▎        | 3/4 [00:48<00:16, 16.08s/it]"
     ]
    },
    {
     "name": "stdout",
     "output_type": "stream",
     "text": [
      "Epoch 3/4, Loss: -0.1159, Train fit: 0.0280, Test fit: -0.0353, Avg Weight: 0.0002, Max Weight: 0.0022\n"
     ]
    },
    {
     "name": "stderr",
     "output_type": "stream",
     "text": [
      "Training: 100%|███████████████████████████████████| 4/4 [01:04<00:00, 16.23s/it]"
     ]
    },
    {
     "name": "stdout",
     "output_type": "stream",
     "text": [
      "Epoch 4/4, Loss: -0.1173, Train fit: 0.0298, Test fit: -0.0330, Avg Weight: 0.0002, Max Weight: 0.0021\n",
      "Training completed! Best test Sharpe ratio: -0.0330\n",
      "Training from 2020-04 to 2020-09. Testing on 2020-10.\n"
     ]
    },
    {
     "name": "stderr",
     "output_type": "stream",
     "text": [
      "\n"
     ]
    },
    {
     "name": "stdout",
     "output_type": "stream",
     "text": [
      "['sprtrn_lag1', 'DlyRet_lag1', 'DlyRet_roll_10', 'DlyRet_roll_20', 'DlyRet_roll_30']\n",
      "Starting training with 472 train batches, 42 test batches\n"
     ]
    },
    {
     "name": "stderr",
     "output_type": "stream",
     "text": [
      "Training:  25%|████████▊                          | 1/4 [00:15<00:46, 15.53s/it]"
     ]
    },
    {
     "name": "stdout",
     "output_type": "stream",
     "text": [
      "Epoch 1/4, Loss: -0.1130, Train fit: 0.0501, Test fit: -0.0189, Avg Weight: 0.0002, Max Weight: 0.0013\n"
     ]
    },
    {
     "name": "stderr",
     "output_type": "stream",
     "text": [
      "Training:  75%|██████████████████████████▎        | 3/4 [00:46<00:15, 15.67s/it]"
     ]
    },
    {
     "name": "stdout",
     "output_type": "stream",
     "text": [
      "Epoch 3/4, Loss: -0.1290, Train fit: 0.0559, Test fit: -0.0175, Avg Weight: 0.0002, Max Weight: 0.0012\n"
     ]
    },
    {
     "name": "stderr",
     "output_type": "stream",
     "text": [
      "Training: 100%|███████████████████████████████████| 4/4 [01:02<00:00, 15.68s/it]"
     ]
    },
    {
     "name": "stdout",
     "output_type": "stream",
     "text": [
      "Epoch 4/4, Loss: -0.1315, Train fit: 0.0558, Test fit: -0.0176, Avg Weight: 0.0002, Max Weight: 0.0012\n",
      "Training completed! Best test Sharpe ratio: -0.0175\n",
      "Training from 2020-05 to 2020-10. Testing on 2020-11.\n"
     ]
    },
    {
     "name": "stderr",
     "output_type": "stream",
     "text": [
      "\n"
     ]
    },
    {
     "name": "stdout",
     "output_type": "stream",
     "text": [
      "['sprtrn_lag1', 'DlyRet_lag1', 'DlyRet_roll_10', 'DlyRet_roll_20', 'DlyRet_roll_30']\n",
      "Starting training with 478 train batches, 39 test batches\n"
     ]
    },
    {
     "name": "stderr",
     "output_type": "stream",
     "text": [
      "Training:  25%|████████▊                          | 1/4 [00:15<00:46, 15.59s/it]"
     ]
    },
    {
     "name": "stdout",
     "output_type": "stream",
     "text": [
      "Epoch 1/4, Loss: -0.0903, Train fit: 0.0270, Test fit: 0.1517, Avg Weight: 0.0002, Max Weight: 0.0023\n"
     ]
    },
    {
     "name": "stderr",
     "output_type": "stream",
     "text": [
      "Training:  75%|██████████████████████████▎        | 3/4 [00:46<00:15, 15.70s/it]"
     ]
    },
    {
     "name": "stdout",
     "output_type": "stream",
     "text": [
      "Epoch 3/4, Loss: -0.1083, Train fit: 0.0344, Test fit: 0.1644, Avg Weight: 0.0002, Max Weight: 0.0062\n"
     ]
    },
    {
     "name": "stderr",
     "output_type": "stream",
     "text": [
      "Training: 100%|███████████████████████████████████| 4/4 [01:02<00:00, 15.56s/it]"
     ]
    },
    {
     "name": "stdout",
     "output_type": "stream",
     "text": [
      "Epoch 4/4, Loss: -0.1114, Train fit: 0.0366, Test fit: 0.1654, Avg Weight: 0.0002, Max Weight: 0.0068\n",
      "Training completed! Best test Sharpe ratio: 0.1654\n",
      "Training from 2020-06 to 2020-11. Testing on 2020-12.\n"
     ]
    },
    {
     "name": "stderr",
     "output_type": "stream",
     "text": [
      "\n"
     ]
    },
    {
     "name": "stdout",
     "output_type": "stream",
     "text": [
      "['sprtrn_lag1', 'DlyRet_lag1', 'DlyRet_roll_10', 'DlyRet_roll_20', 'DlyRet_roll_30']\n",
      "Starting training with 481 train batches, 43 test batches\n"
     ]
    },
    {
     "name": "stderr",
     "output_type": "stream",
     "text": [
      "Training:  25%|████████▊                          | 1/4 [00:15<00:47, 15.69s/it]"
     ]
    },
    {
     "name": "stdout",
     "output_type": "stream",
     "text": [
      "Epoch 1/4, Loss: -0.1189, Train fit: 0.0276, Test fit: 0.0816, Avg Weight: 0.0002, Max Weight: 0.0009\n"
     ]
    },
    {
     "name": "stderr",
     "output_type": "stream",
     "text": [
      "Training:  75%|██████████████████████████▎        | 3/4 [00:47<00:15, 15.87s/it]"
     ]
    },
    {
     "name": "stdout",
     "output_type": "stream",
     "text": [
      "Epoch 3/4, Loss: -0.1320, Train fit: 0.0281, Test fit: 0.0850, Avg Weight: 0.0002, Max Weight: 0.0009\n"
     ]
    },
    {
     "name": "stderr",
     "output_type": "stream",
     "text": [
      "Training: 100%|███████████████████████████████████| 4/4 [01:03<00:00, 15.78s/it]"
     ]
    },
    {
     "name": "stdout",
     "output_type": "stream",
     "text": [
      "Epoch 4/4, Loss: -0.1044, Train fit: 0.0280, Test fit: 0.0848, Avg Weight: 0.0002, Max Weight: 0.0009\n",
      "Training completed! Best test Sharpe ratio: 0.0850\n",
      "Training from 2020-07 to 2020-12. Testing on 2021-01.\n"
     ]
    },
    {
     "name": "stderr",
     "output_type": "stream",
     "text": [
      "\n"
     ]
    },
    {
     "name": "stdout",
     "output_type": "stream",
     "text": [
      "['sprtrn_lag1', 'DlyRet_lag1', 'DlyRet_roll_10', 'DlyRet_roll_20', 'DlyRet_roll_30']\n",
      "Starting training with 484 train batches, 38 test batches\n"
     ]
    },
    {
     "name": "stderr",
     "output_type": "stream",
     "text": [
      "Training:  25%|████████▊                          | 1/4 [00:15<00:47, 15.78s/it]"
     ]
    },
    {
     "name": "stdout",
     "output_type": "stream",
     "text": [
      "Epoch 1/4, Loss: -0.1169, Train fit: 0.0625, Test fit: 0.0348, Avg Weight: 0.0003, Max Weight: 0.0115\n"
     ]
    },
    {
     "name": "stderr",
     "output_type": "stream",
     "text": [
      "Training:  75%|██████████████████████████▎        | 3/4 [00:54<00:18, 18.19s/it]"
     ]
    },
    {
     "name": "stdout",
     "output_type": "stream",
     "text": [
      "Epoch 3/4, Loss: -0.1331, Train fit: 0.0653, Test fit: 0.0380, Avg Weight: 0.0003, Max Weight: 0.0108\n"
     ]
    },
    {
     "name": "stderr",
     "output_type": "stream",
     "text": [
      "Training: 100%|███████████████████████████████████| 4/4 [01:10<00:00, 17.69s/it]"
     ]
    },
    {
     "name": "stdout",
     "output_type": "stream",
     "text": [
      "Epoch 4/4, Loss: -0.1343, Train fit: 0.0666, Test fit: 0.0367, Avg Weight: 0.0003, Max Weight: 0.0108\n",
      "Training completed! Best test Sharpe ratio: 0.0380\n",
      "Training from 2020-08 to 2021-01. Testing on 2021-02.\n"
     ]
    },
    {
     "name": "stderr",
     "output_type": "stream",
     "text": [
      "\n"
     ]
    },
    {
     "name": "stdout",
     "output_type": "stream",
     "text": [
      "['sprtrn_lag1', 'DlyRet_lag1', 'DlyRet_roll_10', 'DlyRet_roll_20', 'DlyRet_roll_30']\n",
      "Starting training with 476 train batches, 38 test batches\n"
     ]
    },
    {
     "name": "stderr",
     "output_type": "stream",
     "text": [
      "Training:  25%|████████▊                          | 1/4 [00:15<00:47, 15.69s/it]"
     ]
    },
    {
     "name": "stdout",
     "output_type": "stream",
     "text": [
      "Epoch 1/4, Loss: -0.1187, Train fit: 0.0615, Test fit: 0.0644, Avg Weight: 0.0002, Max Weight: 0.0006\n"
     ]
    },
    {
     "name": "stderr",
     "output_type": "stream",
     "text": [
      "Training:  75%|██████████████████████████▎        | 3/4 [00:46<00:15, 15.40s/it]"
     ]
    },
    {
     "name": "stdout",
     "output_type": "stream",
     "text": [
      "Epoch 3/4, Loss: -0.1360, Train fit: 0.0644, Test fit: 0.0701, Avg Weight: 0.0002, Max Weight: 0.0007\n"
     ]
    },
    {
     "name": "stderr",
     "output_type": "stream",
     "text": [
      "Training: 100%|███████████████████████████████████| 4/4 [01:01<00:00, 15.45s/it]"
     ]
    },
    {
     "name": "stdout",
     "output_type": "stream",
     "text": [
      "Epoch 4/4, Loss: -0.1376, Train fit: 0.0645, Test fit: 0.0711, Avg Weight: 0.0002, Max Weight: 0.0007\n",
      "Training completed! Best test Sharpe ratio: 0.0711\n",
      "Training from 2020-09 to 2021-02. Testing on 2021-03.\n"
     ]
    },
    {
     "name": "stderr",
     "output_type": "stream",
     "text": [
      "\n"
     ]
    },
    {
     "name": "stdout",
     "output_type": "stream",
     "text": [
      "['sprtrn_lag1', 'DlyRet_lag1', 'DlyRet_roll_10', 'DlyRet_roll_20', 'DlyRet_roll_30']\n",
      "Starting training with 473 train batches, 47 test batches\n"
     ]
    },
    {
     "name": "stderr",
     "output_type": "stream",
     "text": [
      "Training:  25%|████████▊                          | 1/4 [00:15<00:45, 15.30s/it]"
     ]
    },
    {
     "name": "stdout",
     "output_type": "stream",
     "text": [
      "Epoch 1/4, Loss: -0.1123, Train fit: 0.0672, Test fit: 0.0297, Avg Weight: 0.0002, Max Weight: 0.0067\n"
     ]
    },
    {
     "name": "stderr",
     "output_type": "stream",
     "text": [
      "Training:  75%|██████████████████████████▎        | 3/4 [00:47<00:15, 15.83s/it]"
     ]
    },
    {
     "name": "stdout",
     "output_type": "stream",
     "text": [
      "Epoch 3/4, Loss: -0.1422, Train fit: 0.0691, Test fit: 0.0288, Avg Weight: 0.0002, Max Weight: 0.0067\n"
     ]
    },
    {
     "name": "stderr",
     "output_type": "stream",
     "text": [
      "Training: 100%|███████████████████████████████████| 4/4 [01:03<00:00, 15.85s/it]"
     ]
    },
    {
     "name": "stdout",
     "output_type": "stream",
     "text": [
      "Epoch 4/4, Loss: -0.1436, Train fit: 0.0700, Test fit: 0.0318, Avg Weight: 0.0002, Max Weight: 0.0074\n",
      "Training completed! Best test Sharpe ratio: 0.0318\n",
      "Training from 2020-10 to 2021-03. Testing on 2021-04.\n"
     ]
    },
    {
     "name": "stderr",
     "output_type": "stream",
     "text": [
      "\n"
     ]
    },
    {
     "name": "stdout",
     "output_type": "stream",
     "text": [
      "['sprtrn_lag1', 'DlyRet_lag1', 'DlyRet_roll_10', 'DlyRet_roll_20', 'DlyRet_roll_30']\n",
      "Starting training with 487 train batches, 43 test batches\n"
     ]
    },
    {
     "name": "stderr",
     "output_type": "stream",
     "text": [
      "Training:  25%|████████▊                          | 1/4 [00:15<00:46, 15.42s/it]"
     ]
    },
    {
     "name": "stdout",
     "output_type": "stream",
     "text": [
      "Epoch 1/4, Loss: -0.1404, Train fit: 0.0579, Test fit: 0.0485, Avg Weight: 0.0002, Max Weight: 0.0007\n"
     ]
    },
    {
     "name": "stderr",
     "output_type": "stream",
     "text": [
      "Training:  75%|██████████████████████████▎        | 3/4 [00:46<00:15, 15.68s/it]"
     ]
    },
    {
     "name": "stdout",
     "output_type": "stream",
     "text": [
      "Epoch 3/4, Loss: -0.1519, Train fit: 0.0597, Test fit: 0.0512, Avg Weight: 0.0002, Max Weight: 0.0013\n"
     ]
    },
    {
     "name": "stderr",
     "output_type": "stream",
     "text": [
      "Training: 100%|███████████████████████████████████| 4/4 [01:03<00:00, 15.80s/it]"
     ]
    },
    {
     "name": "stdout",
     "output_type": "stream",
     "text": [
      "Epoch 4/4, Loss: -0.1541, Train fit: 0.0599, Test fit: 0.0526, Avg Weight: 0.0002, Max Weight: 0.0013\n",
      "Training completed! Best test Sharpe ratio: 0.0528\n",
      "Training from 2020-11 to 2021-04. Testing on 2021-05.\n"
     ]
    },
    {
     "name": "stderr",
     "output_type": "stream",
     "text": [
      "\n"
     ]
    },
    {
     "name": "stdout",
     "output_type": "stream",
     "text": [
      "['sprtrn_lag1', 'DlyRet_lag1', 'DlyRet_roll_10', 'DlyRet_roll_20', 'DlyRet_roll_30']\n",
      "Starting training with 489 train batches, 42 test batches\n"
     ]
    },
    {
     "name": "stderr",
     "output_type": "stream",
     "text": [
      "Training:  25%|████████▊                          | 1/4 [00:15<00:47, 15.90s/it]"
     ]
    },
    {
     "name": "stdout",
     "output_type": "stream",
     "text": [
      "Epoch 1/4, Loss: -0.1167, Train fit: 0.0822, Test fit: 0.0293, Avg Weight: 0.0002, Max Weight: 0.0010\n"
     ]
    },
    {
     "name": "stderr",
     "output_type": "stream",
     "text": [
      "Training:  75%|██████████████████████████▎        | 3/4 [00:54<00:18, 18.11s/it]"
     ]
    },
    {
     "name": "stdout",
     "output_type": "stream",
     "text": [
      "Epoch 3/4, Loss: -0.1584, Train fit: 0.0815, Test fit: 0.0369, Avg Weight: 0.0002, Max Weight: 0.0017\n"
     ]
    },
    {
     "name": "stderr",
     "output_type": "stream",
     "text": [
      "Training: 100%|███████████████████████████████████| 4/4 [01:11<00:00, 17.80s/it]"
     ]
    },
    {
     "name": "stdout",
     "output_type": "stream",
     "text": [
      "Epoch 4/4, Loss: -0.1602, Train fit: 0.0819, Test fit: 0.0390, Avg Weight: 0.0002, Max Weight: 0.0017\n",
      "Training completed! Best test Sharpe ratio: 0.0390\n",
      "Training from 2020-12 to 2021-05. Testing on 2021-06.\n"
     ]
    },
    {
     "name": "stderr",
     "output_type": "stream",
     "text": [
      "\n"
     ]
    },
    {
     "name": "stdout",
     "output_type": "stream",
     "text": [
      "['sprtrn_lag1', 'DlyRet_lag1', 'DlyRet_roll_10', 'DlyRet_roll_20', 'DlyRet_roll_30']\n",
      "Starting training with 496 train batches, 47 test batches\n"
     ]
    },
    {
     "name": "stderr",
     "output_type": "stream",
     "text": [
      "Training:  25%|████████▊                          | 1/4 [00:19<00:57, 19.30s/it]"
     ]
    },
    {
     "name": "stdout",
     "output_type": "stream",
     "text": [
      "Epoch 1/4, Loss: -0.1208, Train fit: 0.0542, Test fit: 0.0185, Avg Weight: 0.0002, Max Weight: 0.0101\n"
     ]
    },
    {
     "name": "stderr",
     "output_type": "stream",
     "text": [
      "Training:  75%|██████████████████████████▎        | 3/4 [00:55<00:18, 18.26s/it]"
     ]
    },
    {
     "name": "stdout",
     "output_type": "stream",
     "text": [
      "Epoch 3/4, Loss: -0.1363, Train fit: 0.0578, Test fit: 0.0179, Avg Weight: 0.0002, Max Weight: 0.0101\n"
     ]
    },
    {
     "name": "stderr",
     "output_type": "stream",
     "text": [
      "Training: 100%|███████████████████████████████████| 4/4 [01:13<00:00, 18.37s/it]"
     ]
    },
    {
     "name": "stdout",
     "output_type": "stream",
     "text": [
      "Epoch 4/4, Loss: -0.1384, Train fit: 0.0595, Test fit: 0.0181, Avg Weight: 0.0002, Max Weight: 0.0101\n",
      "Training completed! Best test Sharpe ratio: 0.0185\n",
      "Training from 2021-01 to 2021-06. Testing on 2021-07.\n"
     ]
    },
    {
     "name": "stderr",
     "output_type": "stream",
     "text": [
      "\n"
     ]
    },
    {
     "name": "stdout",
     "output_type": "stream",
     "text": [
      "['sprtrn_lag1', 'DlyRet_lag1', 'DlyRet_roll_10', 'DlyRet_roll_20', 'DlyRet_roll_30']\n",
      "Starting training with 503 train batches, 45 test batches\n"
     ]
    },
    {
     "name": "stderr",
     "output_type": "stream",
     "text": [
      "Training:  25%|████████▊                          | 1/4 [00:17<00:52, 17.48s/it]"
     ]
    },
    {
     "name": "stdout",
     "output_type": "stream",
     "text": [
      "Epoch 1/4, Loss: -0.1120, Train fit: 0.0430, Test fit: -0.0184, Avg Weight: 0.0002, Max Weight: 0.0010\n"
     ]
    },
    {
     "name": "stderr",
     "output_type": "stream",
     "text": [
      "Training:  75%|██████████████████████████▎        | 3/4 [00:51<00:17, 17.07s/it]"
     ]
    },
    {
     "name": "stdout",
     "output_type": "stream",
     "text": [
      "Epoch 3/4, Loss: -0.1243, Train fit: 0.0460, Test fit: -0.0201, Avg Weight: 0.0002, Max Weight: 0.0010\n"
     ]
    },
    {
     "name": "stderr",
     "output_type": "stream",
     "text": [
      "Training: 100%|███████████████████████████████████| 4/4 [01:10<00:00, 17.59s/it]"
     ]
    },
    {
     "name": "stdout",
     "output_type": "stream",
     "text": [
      "Epoch 4/4, Loss: -0.1263, Train fit: 0.0480, Test fit: -0.0188, Avg Weight: 0.0002, Max Weight: 0.0010\n",
      "Training completed! Best test Sharpe ratio: -0.0184\n",
      "Training from 2021-02 to 2021-07. Testing on 2021-08.\n"
     ]
    },
    {
     "name": "stderr",
     "output_type": "stream",
     "text": [
      "\n"
     ]
    },
    {
     "name": "stdout",
     "output_type": "stream",
     "text": [
      "['sprtrn_lag1', 'DlyRet_lag1', 'DlyRet_roll_10', 'DlyRet_roll_20', 'DlyRet_roll_30']\n",
      "Starting training with 519 train batches, 48 test batches\n"
     ]
    },
    {
     "name": "stderr",
     "output_type": "stream",
     "text": [
      "Training:  25%|████████▊                          | 1/4 [00:17<00:53, 17.87s/it]"
     ]
    },
    {
     "name": "stdout",
     "output_type": "stream",
     "text": [
      "Epoch 1/4, Loss: -0.0905, Train fit: 0.0245, Test fit: 0.0322, Avg Weight: 0.0002, Max Weight: 0.0041\n"
     ]
    },
    {
     "name": "stderr",
     "output_type": "stream",
     "text": [
      "Training:  75%|██████████████████████████▎        | 3/4 [00:58<00:19, 19.90s/it]"
     ]
    },
    {
     "name": "stdout",
     "output_type": "stream",
     "text": [
      "Epoch 3/4, Loss: -0.1055, Train fit: 0.0329, Test fit: 0.0327, Avg Weight: 0.0002, Max Weight: 0.0042\n"
     ]
    },
    {
     "name": "stderr",
     "output_type": "stream",
     "text": [
      "Training: 100%|███████████████████████████████████| 4/4 [01:16<00:00, 19.06s/it]"
     ]
    },
    {
     "name": "stdout",
     "output_type": "stream",
     "text": [
      "Epoch 4/4, Loss: -0.1085, Train fit: 0.0341, Test fit: 0.0321, Avg Weight: 0.0002, Max Weight: 0.0042\n",
      "Training completed! Best test Sharpe ratio: 0.0331\n",
      "Training from 2021-03 to 2021-08. Testing on 2021-09.\n"
     ]
    },
    {
     "name": "stderr",
     "output_type": "stream",
     "text": [
      "\n"
     ]
    },
    {
     "name": "stdout",
     "output_type": "stream",
     "text": [
      "['sprtrn_lag1', 'DlyRet_lag1', 'DlyRet_roll_10', 'DlyRet_roll_20', 'DlyRet_roll_30']\n",
      "Starting training with 539 train batches, 46 test batches\n"
     ]
    },
    {
     "name": "stderr",
     "output_type": "stream",
     "text": [
      "Training:  25%|████████▊                          | 1/4 [00:21<01:05, 21.68s/it]"
     ]
    },
    {
     "name": "stdout",
     "output_type": "stream",
     "text": [
      "Epoch 1/4, Loss: -0.0885, Train fit: 0.0270, Test fit: -0.0472, Avg Weight: 0.0002, Max Weight: 0.0020\n"
     ]
    },
    {
     "name": "stderr",
     "output_type": "stream",
     "text": [
      "Training:  75%|██████████████████████████▎        | 3/4 [01:04<00:21, 21.76s/it]"
     ]
    },
    {
     "name": "stdout",
     "output_type": "stream",
     "text": [
      "Epoch 3/4, Loss: -0.0991, Train fit: 0.0285, Test fit: -0.0470, Avg Weight: 0.0002, Max Weight: 0.0024\n"
     ]
    },
    {
     "name": "stderr",
     "output_type": "stream",
     "text": [
      "Training: 100%|███████████████████████████████████| 4/4 [01:26<00:00, 21.55s/it]"
     ]
    },
    {
     "name": "stdout",
     "output_type": "stream",
     "text": [
      "Epoch 4/4, Loss: -0.0999, Train fit: 0.0298, Test fit: -0.0465, Avg Weight: 0.0002, Max Weight: 0.0019\n",
      "Training completed! Best test Sharpe ratio: -0.0465\n",
      "Training from 2021-04 to 2021-09. Testing on 2021-10.\n"
     ]
    },
    {
     "name": "stderr",
     "output_type": "stream",
     "text": [
      "\n"
     ]
    },
    {
     "name": "stdout",
     "output_type": "stream",
     "text": [
      "['sprtrn_lag1', 'DlyRet_lag1', 'DlyRet_roll_10', 'DlyRet_roll_20', 'DlyRet_roll_30']\n",
      "Starting training with 538 train batches, 47 test batches\n"
     ]
    },
    {
     "name": "stderr",
     "output_type": "stream",
     "text": [
      "Training:  25%|████████▊                          | 1/4 [00:17<00:53, 17.79s/it]"
     ]
    },
    {
     "name": "stdout",
     "output_type": "stream",
     "text": [
      "Epoch 1/4, Loss: -0.0622, Train fit: 0.0083, Test fit: 0.0463, Avg Weight: 0.0002, Max Weight: 0.0218\n"
     ]
    },
    {
     "name": "stderr",
     "output_type": "stream",
     "text": [
      "Training:  75%|██████████████████████████▎        | 3/4 [00:55<00:18, 18.71s/it]"
     ]
    },
    {
     "name": "stdout",
     "output_type": "stream",
     "text": [
      "Epoch 3/4, Loss: -0.0831, Train fit: 0.0121, Test fit: 0.0567, Avg Weight: 0.0002, Max Weight: 0.0079\n"
     ]
    },
    {
     "name": "stderr",
     "output_type": "stream",
     "text": [
      "Training: 100%|███████████████████████████████████| 4/4 [01:13<00:00, 18.33s/it]"
     ]
    },
    {
     "name": "stdout",
     "output_type": "stream",
     "text": [
      "Epoch 4/4, Loss: -0.0841, Train fit: 0.0143, Test fit: 0.0606, Avg Weight: 0.0002, Max Weight: 0.0079\n",
      "Training completed! Best test Sharpe ratio: 0.0620\n",
      "Training from 2021-05 to 2021-10. Testing on 2021-11.\n"
     ]
    },
    {
     "name": "stderr",
     "output_type": "stream",
     "text": [
      "\n"
     ]
    },
    {
     "name": "stdout",
     "output_type": "stream",
     "text": [
      "['sprtrn_lag1', 'DlyRet_lag1', 'DlyRet_roll_10', 'DlyRet_roll_20', 'DlyRet_roll_30']\n",
      "Starting training with 545 train batches, 47 test batches\n"
     ]
    },
    {
     "name": "stderr",
     "output_type": "stream",
     "text": [
      "Training:  25%|████████▊                          | 1/4 [00:17<00:52, 17.61s/it]"
     ]
    },
    {
     "name": "stdout",
     "output_type": "stream",
     "text": [
      "Epoch 1/4, Loss: -0.0745, Train fit: 0.0109, Test fit: -0.0456, Avg Weight: 0.0002, Max Weight: 0.0017\n"
     ]
    },
    {
     "name": "stderr",
     "output_type": "stream",
     "text": [
      "Training:  75%|██████████████████████████▎        | 3/4 [01:00<00:20, 20.70s/it]"
     ]
    },
    {
     "name": "stdout",
     "output_type": "stream",
     "text": [
      "Epoch 3/4, Loss: -0.0861, Train fit: 0.0124, Test fit: -0.0498, Avg Weight: 0.0002, Max Weight: 0.0017\n"
     ]
    },
    {
     "name": "stderr",
     "output_type": "stream",
     "text": [
      "Training: 100%|███████████████████████████████████| 4/4 [01:21<00:00, 20.35s/it]"
     ]
    },
    {
     "name": "stdout",
     "output_type": "stream",
     "text": [
      "Epoch 4/4, Loss: -0.0876, Train fit: 0.0129, Test fit: -0.0491, Avg Weight: 0.0002, Max Weight: 0.0017\n",
      "Training completed! Best test Sharpe ratio: -0.0456\n",
      "Training from 2021-06 to 2021-11. Testing on 2021-12.\n"
     ]
    },
    {
     "name": "stderr",
     "output_type": "stream",
     "text": [
      "\n"
     ]
    },
    {
     "name": "stdout",
     "output_type": "stream",
     "text": [
      "['sprtrn_lag1', 'DlyRet_lag1', 'DlyRet_roll_10', 'DlyRet_roll_20', 'DlyRet_roll_30']\n",
      "Starting training with 555 train batches, 50 test batches\n"
     ]
    },
    {
     "name": "stderr",
     "output_type": "stream",
     "text": [
      "Training:  25%|████████▊                          | 1/4 [00:19<00:58, 19.47s/it]"
     ]
    },
    {
     "name": "stdout",
     "output_type": "stream",
     "text": [
      "Epoch 1/4, Loss: -0.0642, Train fit: -0.0010, Test fit: 0.0307, Avg Weight: 0.0002, Max Weight: 0.0035\n"
     ]
    },
    {
     "name": "stderr",
     "output_type": "stream",
     "text": [
      "Training:  75%|██████████████████████████▎        | 3/4 [01:00<00:20, 20.54s/it]"
     ]
    },
    {
     "name": "stdout",
     "output_type": "stream",
     "text": [
      "Epoch 3/4, Loss: -0.0708, Train fit: 0.0008, Test fit: 0.0354, Avg Weight: 0.0002, Max Weight: 0.0043\n"
     ]
    },
    {
     "name": "stderr",
     "output_type": "stream",
     "text": [
      "Training: 100%|███████████████████████████████████| 4/4 [01:18<00:00, 19.74s/it]"
     ]
    },
    {
     "name": "stdout",
     "output_type": "stream",
     "text": [
      "Epoch 4/4, Loss: -0.0731, Train fit: 0.0017, Test fit: 0.0359, Avg Weight: 0.0002, Max Weight: 0.0042\n",
      "Training completed! Best test Sharpe ratio: 0.0359\n",
      "Training from 2021-07 to 2021-12. Testing on 2022-01.\n"
     ]
    },
    {
     "name": "stderr",
     "output_type": "stream",
     "text": [
      "\n"
     ]
    },
    {
     "name": "stdout",
     "output_type": "stream",
     "text": [
      "['sprtrn_lag1', 'DlyRet_lag1', 'DlyRet_roll_10', 'DlyRet_roll_20', 'DlyRet_roll_30']\n",
      "Starting training with 562 train batches, 46 test batches\n"
     ]
    },
    {
     "name": "stderr",
     "output_type": "stream",
     "text": [
      "Training:  25%|████████▊                          | 1/4 [00:19<00:57, 19.21s/it]"
     ]
    },
    {
     "name": "stdout",
     "output_type": "stream",
     "text": [
      "Epoch 1/4, Loss: -0.0588, Train fit: -0.0018, Test fit: -0.0571, Avg Weight: 0.0002, Max Weight: 0.0040\n"
     ]
    },
    {
     "name": "stderr",
     "output_type": "stream",
     "text": [
      "Training:  75%|██████████████████████████▎        | 3/4 [01:00<00:20, 20.10s/it]"
     ]
    },
    {
     "name": "stdout",
     "output_type": "stream",
     "text": [
      "Epoch 3/4, Loss: -0.0728, Train fit: 0.0043, Test fit: -0.0572, Avg Weight: 0.0002, Max Weight: 0.0040\n"
     ]
    },
    {
     "name": "stderr",
     "output_type": "stream",
     "text": [
      "Training: 100%|███████████████████████████████████| 4/4 [01:20<00:00, 20.06s/it]"
     ]
    },
    {
     "name": "stdout",
     "output_type": "stream",
     "text": [
      "Epoch 4/4, Loss: -0.0758, Train fit: 0.0061, Test fit: -0.0580, Avg Weight: 0.0002, Max Weight: 0.0040\n",
      "Training completed! Best test Sharpe ratio: -0.0562\n",
      "Training from 2021-08 to 2022-01. Testing on 2022-02.\n"
     ]
    },
    {
     "name": "stderr",
     "output_type": "stream",
     "text": [
      "\n"
     ]
    },
    {
     "name": "stdout",
     "output_type": "stream",
     "text": [
      "['sprtrn_lag1', 'DlyRet_lag1', 'DlyRet_roll_10', 'DlyRet_roll_20', 'DlyRet_roll_30']\n",
      "Starting training with 563 train batches, 44 test batches\n"
     ]
    },
    {
     "name": "stderr",
     "output_type": "stream",
     "text": [
      "Training:  25%|████████▊                          | 1/4 [00:20<01:01, 20.62s/it]"
     ]
    },
    {
     "name": "stdout",
     "output_type": "stream",
     "text": [
      "Epoch 1/4, Loss: -0.0426, Train fit: -0.0005, Test fit: 0.0022, Avg Weight: 0.0002, Max Weight: 0.2609\n"
     ]
    },
    {
     "name": "stderr",
     "output_type": "stream",
     "text": [
      "Training:  75%|██████████████████████████▎        | 3/4 [01:01<00:20, 20.51s/it]"
     ]
    },
    {
     "name": "stdout",
     "output_type": "stream",
     "text": [
      "Epoch 3/4, Loss: -0.0561, Train fit: -0.0063, Test fit: -0.0215, Avg Weight: 0.0002, Max Weight: 0.2609\n"
     ]
    },
    {
     "name": "stderr",
     "output_type": "stream",
     "text": [
      "Training: 100%|███████████████████████████████████| 4/4 [01:23<00:00, 20.75s/it]"
     ]
    },
    {
     "name": "stdout",
     "output_type": "stream",
     "text": [
      "Epoch 4/4, Loss: -0.0629, Train fit: -0.0036, Test fit: -0.0189, Avg Weight: 0.0002, Max Weight: 0.2609\n",
      "Training completed! Best test Sharpe ratio: 0.0022\n",
      "Training from 2021-09 to 2022-02. Testing on 2022-03.\n"
     ]
    },
    {
     "name": "stderr",
     "output_type": "stream",
     "text": [
      "\n"
     ]
    },
    {
     "name": "stdout",
     "output_type": "stream",
     "text": [
      "['sprtrn_lag1', 'DlyRet_lag1', 'DlyRet_roll_10', 'DlyRet_roll_20', 'DlyRet_roll_30']\n",
      "Starting training with 555 train batches, 54 test batches\n"
     ]
    },
    {
     "name": "stderr",
     "output_type": "stream",
     "text": [
      "Training:  25%|████████▊                          | 1/4 [00:19<00:58, 19.58s/it]"
     ]
    },
    {
     "name": "stdout",
     "output_type": "stream",
     "text": [
      "Epoch 1/4, Loss: -0.0451, Train fit: -0.0015, Test fit: 0.0082, Avg Weight: 0.0002, Max Weight: 0.2193\n"
     ]
    },
    {
     "name": "stderr",
     "output_type": "stream",
     "text": [
      "Training:  75%|██████████████████████████▎        | 3/4 [01:00<00:20, 20.31s/it]"
     ]
    },
    {
     "name": "stdout",
     "output_type": "stream",
     "text": [
      "Epoch 3/4, Loss: -0.0524, Train fit: -0.0088, Test fit: 0.0105, Avg Weight: 0.0002, Max Weight: 0.0469\n"
     ]
    },
    {
     "name": "stderr",
     "output_type": "stream",
     "text": [
      "Training: 100%|███████████████████████████████████| 4/4 [01:22<00:00, 20.53s/it]"
     ]
    },
    {
     "name": "stdout",
     "output_type": "stream",
     "text": [
      "Epoch 4/4, Loss: -0.0549, Train fit: -0.0049, Test fit: 0.0103, Avg Weight: 0.0002, Max Weight: 0.0469\n",
      "Training completed! Best test Sharpe ratio: 0.0105\n",
      "Training from 2021-10 to 2022-03. Testing on 2022-04.\n"
     ]
    },
    {
     "name": "stderr",
     "output_type": "stream",
     "text": [
      "\n"
     ]
    },
    {
     "name": "stdout",
     "output_type": "stream",
     "text": [
      "['sprtrn_lag1', 'DlyRet_lag1', 'DlyRet_roll_10', 'DlyRet_roll_20', 'DlyRet_roll_30']\n",
      "Starting training with 570 train batches, 47 test batches\n"
     ]
    },
    {
     "name": "stderr",
     "output_type": "stream",
     "text": [
      "Training:  25%|████████▊                          | 1/4 [00:20<01:01, 20.34s/it]"
     ]
    },
    {
     "name": "stdout",
     "output_type": "stream",
     "text": [
      "Epoch 1/4, Loss: -0.0503, Train fit: -0.0044, Test fit: -0.0867, Avg Weight: 0.0002, Max Weight: 0.0075\n"
     ]
    },
    {
     "name": "stderr",
     "output_type": "stream",
     "text": [
      "Training:  75%|██████████████████████████▎        | 3/4 [01:00<00:20, 20.10s/it]"
     ]
    },
    {
     "name": "stdout",
     "output_type": "stream",
     "text": [
      "Epoch 3/4, Loss: -0.0610, Train fit: -0.0012, Test fit: -0.0849, Avg Weight: 0.0002, Max Weight: 0.0073\n"
     ]
    },
    {
     "name": "stderr",
     "output_type": "stream",
     "text": [
      "Training: 100%|███████████████████████████████████| 4/4 [01:20<00:00, 20.16s/it]"
     ]
    },
    {
     "name": "stdout",
     "output_type": "stream",
     "text": [
      "Epoch 4/4, Loss: -0.0620, Train fit: -0.0009, Test fit: -0.0857, Avg Weight: 0.0002, Max Weight: 0.0073\n",
      "Training completed! Best test Sharpe ratio: -0.0849\n",
      "Training from 2021-11 to 2022-04. Testing on 2022-05.\n"
     ]
    },
    {
     "name": "stderr",
     "output_type": "stream",
     "text": [
      "\n"
     ]
    },
    {
     "name": "stdout",
     "output_type": "stream",
     "text": [
      "['sprtrn_lag1', 'DlyRet_lag1', 'DlyRet_roll_10', 'DlyRet_roll_20', 'DlyRet_roll_30']\n",
      "Starting training with 570 train batches, 49 test batches\n"
     ]
    },
    {
     "name": "stderr",
     "output_type": "stream",
     "text": [
      "Training:  25%|████████▊                          | 1/4 [00:21<01:05, 21.75s/it]"
     ]
    },
    {
     "name": "stdout",
     "output_type": "stream",
     "text": [
      "Epoch 1/4, Loss: -0.0240, Train fit: -0.0073, Test fit: 0.0098, Avg Weight: 0.0002, Max Weight: 0.0248\n"
     ]
    },
    {
     "name": "stderr",
     "output_type": "stream",
     "text": [
      "Training:  75%|██████████████████████████▎        | 3/4 [01:02<00:20, 20.49s/it]"
     ]
    },
    {
     "name": "stdout",
     "output_type": "stream",
     "text": [
      "Epoch 3/4, Loss: -0.0427, Train fit: -0.0073, Test fit: 0.0134, Avg Weight: 0.0002, Max Weight: 0.0120\n"
     ]
    },
    {
     "name": "stderr",
     "output_type": "stream",
     "text": [
      "Training: 100%|███████████████████████████████████| 4/4 [01:22<00:00, 20.62s/it]"
     ]
    },
    {
     "name": "stdout",
     "output_type": "stream",
     "text": [
      "Epoch 4/4, Loss: -0.0465, Train fit: -0.0035, Test fit: 0.0114, Avg Weight: 0.0002, Max Weight: 0.0120\n",
      "Training completed! Best test Sharpe ratio: 0.0134\n",
      "Training from 2021-12 to 2022-05. Testing on 2022-06.\n"
     ]
    },
    {
     "name": "stderr",
     "output_type": "stream",
     "text": [
      "\n"
     ]
    },
    {
     "name": "stdout",
     "output_type": "stream",
     "text": [
      "['sprtrn_lag1', 'DlyRet_lag1', 'DlyRet_roll_10', 'DlyRet_roll_20', 'DlyRet_roll_30']\n",
      "Starting training with 574 train batches, 49 test batches\n"
     ]
    },
    {
     "name": "stderr",
     "output_type": "stream",
     "text": [
      "Training:  25%|████████▊                          | 1/4 [00:21<01:03, 21.14s/it]"
     ]
    },
    {
     "name": "stdout",
     "output_type": "stream",
     "text": [
      "Epoch 1/4, Loss: -0.0392, Train fit: -0.0248, Test fit: -0.0830, Avg Weight: 0.0002, Max Weight: 0.0014\n"
     ]
    },
    {
     "name": "stderr",
     "output_type": "stream",
     "text": [
      "Training:  75%|██████████████████████████▎        | 3/4 [01:01<00:20, 20.59s/it]"
     ]
    },
    {
     "name": "stdout",
     "output_type": "stream",
     "text": [
      "Epoch 3/4, Loss: -0.0504, Train fit: -0.0105, Test fit: -0.0767, Avg Weight: 0.0002, Max Weight: 0.0041\n"
     ]
    },
    {
     "name": "stderr",
     "output_type": "stream",
     "text": [
      "Training: 100%|███████████████████████████████████| 4/4 [01:23<00:00, 20.79s/it]"
     ]
    },
    {
     "name": "stdout",
     "output_type": "stream",
     "text": [
      "Epoch 4/4, Loss: -0.0500, Train fit: -0.0109, Test fit: -0.0756, Avg Weight: 0.0002, Max Weight: 0.0041\n",
      "Training completed! Best test Sharpe ratio: -0.0713\n",
      "Training from 2022-01 to 2022-06. Testing on 2022-07.\n"
     ]
    },
    {
     "name": "stderr",
     "output_type": "stream",
     "text": [
      "\n"
     ]
    },
    {
     "name": "stdout",
     "output_type": "stream",
     "text": [
      "['sprtrn_lag1', 'DlyRet_lag1', 'DlyRet_roll_10', 'DlyRet_roll_20', 'DlyRet_roll_30']\n",
      "Starting training with 573 train batches, 47 test batches\n"
     ]
    },
    {
     "name": "stderr",
     "output_type": "stream",
     "text": [
      "Training:  25%|████████▊                          | 1/4 [00:22<01:08, 22.85s/it]"
     ]
    },
    {
     "name": "stdout",
     "output_type": "stream",
     "text": [
      "Epoch 1/4, Loss: -0.0210, Train fit: -0.0367, Test fit: 0.0761, Avg Weight: 0.0002, Max Weight: 0.0028\n"
     ]
    },
    {
     "name": "stderr",
     "output_type": "stream",
     "text": [
      "Training:  75%|██████████████████████████▎        | 3/4 [01:07<00:22, 22.34s/it]"
     ]
    },
    {
     "name": "stdout",
     "output_type": "stream",
     "text": [
      "Epoch 3/4, Loss: -0.0335, Train fit: -0.0295, Test fit: 0.0611, Avg Weight: 0.0002, Max Weight: 0.0028\n"
     ]
    },
    {
     "name": "stderr",
     "output_type": "stream",
     "text": [
      "Training: 100%|███████████████████████████████████| 4/4 [01:27<00:00, 21.78s/it]"
     ]
    },
    {
     "name": "stdout",
     "output_type": "stream",
     "text": [
      "Epoch 4/4, Loss: -0.0392, Train fit: -0.0241, Test fit: 0.0408, Avg Weight: 0.0002, Max Weight: 0.0028\n",
      "Training completed! Best test Sharpe ratio: 0.0761\n",
      "Training from 2022-02 to 2022-07. Testing on 2022-08.\n"
     ]
    },
    {
     "name": "stderr",
     "output_type": "stream",
     "text": [
      "\n"
     ]
    },
    {
     "name": "stdout",
     "output_type": "stream",
     "text": [
      "['sprtrn_lag1', 'DlyRet_lag1', 'DlyRet_roll_10', 'DlyRet_roll_20', 'DlyRet_roll_30']\n",
      "Starting training with 575 train batches, 54 test batches\n"
     ]
    },
    {
     "name": "stderr",
     "output_type": "stream",
     "text": [
      "Training:  25%|████████▊                          | 1/4 [00:20<01:00, 20.20s/it]"
     ]
    },
    {
     "name": "stdout",
     "output_type": "stream",
     "text": [
      "Epoch 1/4, Loss: -0.0294, Train fit: -0.0174, Test fit: -0.0194, Avg Weight: 0.0002, Max Weight: 0.0016\n"
     ]
    },
    {
     "name": "stderr",
     "output_type": "stream",
     "text": [
      "Training:  75%|██████████████████████████▎        | 3/4 [01:02<00:20, 20.75s/it]"
     ]
    },
    {
     "name": "stdout",
     "output_type": "stream",
     "text": [
      "Epoch 3/4, Loss: -0.0514, Train fit: -0.0089, Test fit: -0.0183, Avg Weight: 0.0002, Max Weight: 0.0038\n"
     ]
    },
    {
     "name": "stderr",
     "output_type": "stream",
     "text": [
      "Training: 100%|███████████████████████████████████| 4/4 [01:22<00:00, 20.73s/it]"
     ]
    },
    {
     "name": "stdout",
     "output_type": "stream",
     "text": [
      "Epoch 4/4, Loss: -0.0527, Train fit: -0.0120, Test fit: -0.0220, Avg Weight: 0.0002, Max Weight: 0.0038\n",
      "Training completed! Best test Sharpe ratio: -0.0183\n",
      "Training from 2022-03 to 2022-08. Testing on 2022-09.\n"
     ]
    },
    {
     "name": "stderr",
     "output_type": "stream",
     "text": [
      "\n"
     ]
    },
    {
     "name": "stdout",
     "output_type": "stream",
     "text": [
      "['sprtrn_lag1', 'DlyRet_lag1', 'DlyRet_roll_10', 'DlyRet_roll_20', 'DlyRet_roll_30']\n",
      "Starting training with 595 train batches, 50 test batches\n"
     ]
    },
    {
     "name": "stderr",
     "output_type": "stream",
     "text": [
      "Training:  25%|████████▊                          | 1/4 [00:19<00:59, 19.83s/it]"
     ]
    },
    {
     "name": "stdout",
     "output_type": "stream",
     "text": [
      "Epoch 1/4, Loss: -0.0428, Train fit: -0.0052, Test fit: -0.0221, Avg Weight: 0.0002, Max Weight: 0.1088\n"
     ]
    },
    {
     "name": "stderr",
     "output_type": "stream",
     "text": [
      "Training:  75%|██████████████████████████▎        | 3/4 [01:00<00:20, 20.23s/it]"
     ]
    },
    {
     "name": "stdout",
     "output_type": "stream",
     "text": [
      "Epoch 3/4, Loss: -0.0502, Train fit: -0.0144, Test fit: -0.0831, Avg Weight: 0.0002, Max Weight: 0.1088\n"
     ]
    },
    {
     "name": "stderr",
     "output_type": "stream",
     "text": [
      "Training: 100%|███████████████████████████████████| 4/4 [01:22<00:00, 20.73s/it]"
     ]
    },
    {
     "name": "stdout",
     "output_type": "stream",
     "text": [
      "Epoch 4/4, Loss: -0.0497, Train fit: -0.0134, Test fit: -0.0835, Avg Weight: 0.0002, Max Weight: 0.1088\n",
      "Training completed! Best test Sharpe ratio: -0.0221\n",
      "Training from 2022-04 to 2022-09. Testing on 2022-10.\n"
     ]
    },
    {
     "name": "stderr",
     "output_type": "stream",
     "text": [
      "\n"
     ]
    },
    {
     "name": "stdout",
     "output_type": "stream",
     "text": [
      "['sprtrn_lag1', 'DlyRet_lag1', 'DlyRet_roll_10', 'DlyRet_roll_20', 'DlyRet_roll_30']\n",
      "Starting training with 587 train batches, 50 test batches\n"
     ]
    },
    {
     "name": "stderr",
     "output_type": "stream",
     "text": [
      "Training:  25%|████████▊                          | 1/4 [00:21<01:05, 21.88s/it]"
     ]
    },
    {
     "name": "stdout",
     "output_type": "stream",
     "text": [
      "Epoch 1/4, Loss: -0.0339, Train fit: -0.0184, Test fit: 0.0258, Avg Weight: 0.0002, Max Weight: 0.0404\n"
     ]
    },
    {
     "name": "stderr",
     "output_type": "stream",
     "text": [
      "Training:  75%|██████████████████████████▎        | 3/4 [01:10<00:23, 23.62s/it]"
     ]
    },
    {
     "name": "stdout",
     "output_type": "stream",
     "text": [
      "Epoch 3/4, Loss: -0.0325, Train fit: -0.0254, Test fit: 0.0134, Avg Weight: 0.0002, Max Weight: 0.0404\n"
     ]
    },
    {
     "name": "stderr",
     "output_type": "stream",
     "text": [
      "Training: 100%|███████████████████████████████████| 4/4 [01:34<00:00, 23.53s/it]"
     ]
    },
    {
     "name": "stdout",
     "output_type": "stream",
     "text": [
      "Epoch 4/4, Loss: -0.0369, Train fit: -0.0284, Test fit: 0.0204, Avg Weight: 0.0002, Max Weight: 0.0404\n",
      "Training completed! Best test Sharpe ratio: 0.0258\n",
      "Training from 2022-05 to 2022-10. Testing on 2022-11.\n"
     ]
    },
    {
     "name": "stderr",
     "output_type": "stream",
     "text": [
      "\n"
     ]
    },
    {
     "name": "stdout",
     "output_type": "stream",
     "text": [
      "['sprtrn_lag1', 'DlyRet_lag1', 'DlyRet_roll_10', 'DlyRet_roll_20', 'DlyRet_roll_30']\n",
      "Starting training with 593 train batches, 50 test batches\n"
     ]
    },
    {
     "name": "stderr",
     "output_type": "stream",
     "text": [
      "Training:  25%|████████▊                          | 1/4 [00:24<01:12, 24.16s/it]"
     ]
    },
    {
     "name": "stdout",
     "output_type": "stream",
     "text": [
      "Epoch 1/4, Loss: -0.0523, Train fit: -0.0152, Test fit: 0.0385, Avg Weight: 0.0002, Max Weight: 0.0131\n"
     ]
    },
    {
     "name": "stderr",
     "output_type": "stream",
     "text": [
      "Training:  75%|██████████████████████████▎        | 3/4 [01:16<00:26, 26.08s/it]"
     ]
    },
    {
     "name": "stdout",
     "output_type": "stream",
     "text": [
      "Epoch 3/4, Loss: -0.0507, Train fit: -0.0134, Test fit: 0.0536, Avg Weight: 0.0002, Max Weight: 0.0110\n"
     ]
    },
    {
     "name": "stderr",
     "output_type": "stream",
     "text": [
      "Training: 100%|███████████████████████████████████| 4/4 [01:40<00:00, 25.02s/it]"
     ]
    },
    {
     "name": "stdout",
     "output_type": "stream",
     "text": [
      "Epoch 4/4, Loss: -0.0539, Train fit: -0.0119, Test fit: 0.0510, Avg Weight: 0.0002, Max Weight: 0.0110\n",
      "Training completed! Best test Sharpe ratio: 0.0536\n"
     ]
    },
    {
     "name": "stderr",
     "output_type": "stream",
     "text": [
      "\n"
     ]
    },
    {
     "name": "stdout",
     "output_type": "stream",
     "text": [
      "Training from 2022-06 to 2022-11. Testing on 2022-12.\n",
      "['sprtrn_lag1', 'DlyRet_lag1', 'DlyRet_roll_10', 'DlyRet_roll_20', 'DlyRet_roll_30']\n",
      "Starting training with 593 train batches, 49 test batches\n"
     ]
    },
    {
     "name": "stderr",
     "output_type": "stream",
     "text": [
      "Training:  25%|████████▊                          | 1/4 [00:22<01:06, 22.06s/it]"
     ]
    },
    {
     "name": "stdout",
     "output_type": "stream",
     "text": [
      "Epoch 1/4, Loss: -0.0521, Train fit: -0.0050, Test fit: -0.0603, Avg Weight: 0.0002, Max Weight: 0.0011\n"
     ]
    },
    {
     "name": "stderr",
     "output_type": "stream",
     "text": [
      "Training:  75%|██████████████████████████▎        | 3/4 [01:02<00:20, 20.79s/it]"
     ]
    },
    {
     "name": "stdout",
     "output_type": "stream",
     "text": [
      "Epoch 3/4, Loss: -0.0521, Train fit: -0.0006, Test fit: -0.0465, Avg Weight: 0.0002, Max Weight: 0.0019\n"
     ]
    },
    {
     "name": "stderr",
     "output_type": "stream",
     "text": [
      "Training: 100%|███████████████████████████████████| 4/4 [01:24<00:00, 21.18s/it]"
     ]
    },
    {
     "name": "stdout",
     "output_type": "stream",
     "text": [
      "Epoch 4/4, Loss: -0.0571, Train fit: -0.0006, Test fit: -0.0421, Avg Weight: 0.0002, Max Weight: 0.0020\n",
      "Training completed! Best test Sharpe ratio: -0.0421\n",
      "Training from 2022-07 to 2022-12. Testing on 2023-01.\n"
     ]
    },
    {
     "name": "stderr",
     "output_type": "stream",
     "text": [
      "\n"
     ]
    },
    {
     "name": "stdout",
     "output_type": "stream",
     "text": [
      "['sprtrn_lag1', 'DlyRet_lag1', 'DlyRet_roll_10', 'DlyRet_roll_20', 'DlyRet_roll_30']\n",
      "Starting training with 593 train batches, 47 test batches\n"
     ]
    },
    {
     "name": "stderr",
     "output_type": "stream",
     "text": [
      "Training:  25%|████████▊                          | 1/4 [00:22<01:06, 22.16s/it]"
     ]
    },
    {
     "name": "stdout",
     "output_type": "stream",
     "text": [
      "Epoch 1/4, Loss: -0.0589, Train fit: 0.0035, Test fit: 0.1105, Avg Weight: 0.0002, Max Weight: 0.0056\n"
     ]
    },
    {
     "name": "stderr",
     "output_type": "stream",
     "text": [
      "Training:  75%|██████████████████████████▎        | 3/4 [01:05<00:21, 21.65s/it]"
     ]
    },
    {
     "name": "stdout",
     "output_type": "stream",
     "text": [
      "Epoch 3/4, Loss: -0.0519, Train fit: 0.0044, Test fit: 0.1117, Avg Weight: 0.0002, Max Weight: 0.0050\n"
     ]
    },
    {
     "name": "stderr",
     "output_type": "stream",
     "text": [
      "Training: 100%|███████████████████████████████████| 4/4 [01:27<00:00, 21.77s/it]"
     ]
    },
    {
     "name": "stdout",
     "output_type": "stream",
     "text": [
      "Epoch 4/4, Loss: -0.0600, Train fit: 0.0061, Test fit: 0.1145, Avg Weight: 0.0002, Max Weight: 0.0060\n",
      "Training completed! Best test Sharpe ratio: 0.1145\n",
      "Training from 2022-08 to 2023-01. Testing on 2023-02.\n"
     ]
    },
    {
     "name": "stderr",
     "output_type": "stream",
     "text": [
      "\n"
     ]
    },
    {
     "name": "stdout",
     "output_type": "stream",
     "text": [
      "['sprtrn_lag1', 'DlyRet_lag1', 'DlyRet_roll_10', 'DlyRet_roll_20', 'DlyRet_roll_30']\n",
      "Starting training with 593 train batches, 44 test batches\n"
     ]
    },
    {
     "name": "stderr",
     "output_type": "stream",
     "text": [
      "Training:  25%|████████▊                          | 1/4 [00:21<01:05, 21.88s/it]"
     ]
    },
    {
     "name": "stdout",
     "output_type": "stream",
     "text": [
      "Epoch 1/4, Loss: -0.0730, Train fit: 0.0067, Test fit: -0.0551, Avg Weight: 0.0002, Max Weight: 0.0006\n"
     ]
    },
    {
     "name": "stderr",
     "output_type": "stream",
     "text": [
      "Training:  75%|██████████████████████████▎        | 3/4 [01:03<00:21, 21.15s/it]"
     ]
    },
    {
     "name": "stdout",
     "output_type": "stream",
     "text": [
      "Epoch 3/4, Loss: -0.0792, Train fit: 0.0077, Test fit: -0.0514, Avg Weight: 0.0002, Max Weight: 0.0007\n"
     ]
    },
    {
     "name": "stderr",
     "output_type": "stream",
     "text": [
      "Training: 100%|███████████████████████████████████| 4/4 [01:24<00:00, 21.24s/it]"
     ]
    },
    {
     "name": "stdout",
     "output_type": "stream",
     "text": [
      "Epoch 4/4, Loss: -0.0774, Train fit: 0.0081, Test fit: -0.0507, Avg Weight: 0.0002, Max Weight: 0.0007\n",
      "Training completed! Best test Sharpe ratio: -0.0507\n",
      "Training from 2022-09 to 2023-02. Testing on 2023-03.\n"
     ]
    },
    {
     "name": "stderr",
     "output_type": "stream",
     "text": [
      "\n"
     ]
    },
    {
     "name": "stdout",
     "output_type": "stream",
     "text": [
      "['sprtrn_lag1', 'DlyRet_lag1', 'DlyRet_roll_10', 'DlyRet_roll_20', 'DlyRet_roll_30']\n",
      "Starting training with 573 train batches, 53 test batches\n"
     ]
    },
    {
     "name": "stderr",
     "output_type": "stream",
     "text": [
      "Training:  25%|████████▊                          | 1/4 [00:20<01:01, 20.55s/it]"
     ]
    },
    {
     "name": "stdout",
     "output_type": "stream",
     "text": [
      "Epoch 1/4, Loss: -0.0529, Train fit: -0.0031, Test fit: -0.0399, Avg Weight: 0.0002, Max Weight: 0.0026\n"
     ]
    },
    {
     "name": "stderr",
     "output_type": "stream",
     "text": [
      "Training:  75%|██████████████████████████▎        | 3/4 [01:04<00:21, 21.60s/it]"
     ]
    },
    {
     "name": "stdout",
     "output_type": "stream",
     "text": [
      "Epoch 3/4, Loss: -0.0570, Train fit: -0.0003, Test fit: -0.0277, Avg Weight: 0.0002, Max Weight: 0.0017\n"
     ]
    },
    {
     "name": "stderr",
     "output_type": "stream",
     "text": [
      "Training: 100%|███████████████████████████████████| 4/4 [01:27<00:00, 21.99s/it]"
     ]
    },
    {
     "name": "stdout",
     "output_type": "stream",
     "text": [
      "Epoch 4/4, Loss: -0.0572, Train fit: 0.0018, Test fit: -0.0222, Avg Weight: 0.0002, Max Weight: 0.0011\n",
      "Training completed! Best test Sharpe ratio: -0.0222\n",
      "Training from 2022-10 to 2023-03. Testing on 2023-04.\n"
     ]
    },
    {
     "name": "stderr",
     "output_type": "stream",
     "text": [
      "\n"
     ]
    },
    {
     "name": "stdout",
     "output_type": "stream",
     "text": [
      "['sprtrn_lag1', 'DlyRet_lag1', 'DlyRet_roll_10', 'DlyRet_roll_20', 'DlyRet_roll_30']\n",
      "Starting training with 581 train batches, 44 test batches\n"
     ]
    },
    {
     "name": "stderr",
     "output_type": "stream",
     "text": [
      "Training:  25%|████████▊                          | 1/4 [00:20<01:00, 20.28s/it]"
     ]
    },
    {
     "name": "stdout",
     "output_type": "stream",
     "text": [
      "Epoch 1/4, Loss: -0.0630, Train fit: 0.0033, Test fit: -0.0206, Avg Weight: 0.0002, Max Weight: 0.0025\n"
     ]
    },
    {
     "name": "stderr",
     "output_type": "stream",
     "text": [
      "Training:  75%|██████████████████████████▎        | 3/4 [01:02<00:20, 20.99s/it]"
     ]
    },
    {
     "name": "stdout",
     "output_type": "stream",
     "text": [
      "Epoch 3/4, Loss: -0.0766, Train fit: 0.0132, Test fit: -0.0245, Avg Weight: 0.0002, Max Weight: 0.0025\n"
     ]
    },
    {
     "name": "stderr",
     "output_type": "stream",
     "text": [
      "Training: 100%|███████████████████████████████████| 4/4 [01:23<00:00, 20.85s/it]"
     ]
    },
    {
     "name": "stdout",
     "output_type": "stream",
     "text": [
      "Epoch 4/4, Loss: -0.0851, Train fit: 0.0203, Test fit: -0.0215, Avg Weight: 0.0002, Max Weight: 0.0025\n",
      "Training completed! Best test Sharpe ratio: -0.0206\n"
     ]
    },
    {
     "name": "stderr",
     "output_type": "stream",
     "text": [
      "\n"
     ]
    },
    {
     "name": "stdout",
     "output_type": "stream",
     "text": [
      "Training from 2022-11 to 2023-04. Testing on 2023-05.\n",
      "['sprtrn_lag1', 'DlyRet_lag1', 'DlyRet_roll_10', 'DlyRet_roll_20', 'DlyRet_roll_30']\n",
      "Starting training with 570 train batches, 51 test batches\n"
     ]
    },
    {
     "name": "stderr",
     "output_type": "stream",
     "text": [
      "Training:  25%|████████▊                          | 1/4 [00:27<01:23, 27.70s/it]"
     ]
    },
    {
     "name": "stdout",
     "output_type": "stream",
     "text": [
      "Epoch 1/4, Loss: -0.0628, Train fit: 0.0091, Test fit: -0.0250, Avg Weight: 0.0002, Max Weight: 0.0020\n"
     ]
    },
    {
     "name": "stderr",
     "output_type": "stream",
     "text": [
      "Training:  75%|██████████████████████████▎        | 3/4 [01:16<00:25, 25.24s/it]"
     ]
    },
    {
     "name": "stdout",
     "output_type": "stream",
     "text": [
      "Epoch 3/4, Loss: -0.0680, Train fit: 0.0082, Test fit: -0.0226, Avg Weight: 0.0002, Max Weight: 0.0016\n"
     ]
    },
    {
     "name": "stderr",
     "output_type": "stream",
     "text": [
      "Training: 100%|███████████████████████████████████| 4/4 [01:39<00:00, 24.86s/it]"
     ]
    },
    {
     "name": "stdout",
     "output_type": "stream",
     "text": [
      "Epoch 4/4, Loss: -0.0772, Train fit: 0.0152, Test fit: -0.0268, Avg Weight: 0.0002, Max Weight: 0.0016\n",
      "Training completed! Best test Sharpe ratio: -0.0215\n",
      "Training from 2022-12 to 2023-05. Testing on 2023-06.\n"
     ]
    },
    {
     "name": "stderr",
     "output_type": "stream",
     "text": [
      "\n"
     ]
    },
    {
     "name": "stdout",
     "output_type": "stream",
     "text": [
      "['sprtrn_lag1', 'DlyRet_lag1', 'DlyRet_roll_10', 'DlyRet_roll_20', 'DlyRet_roll_30']\n",
      "Starting training with 573 train batches, 49 test batches\n"
     ]
    },
    {
     "name": "stderr",
     "output_type": "stream",
     "text": [
      "Training:  25%|████████▊                          | 1/4 [00:21<01:04, 21.64s/it]"
     ]
    },
    {
     "name": "stdout",
     "output_type": "stream",
     "text": [
      "Epoch 1/4, Loss: -0.0554, Train fit: -0.0125, Test fit: 0.0327, Avg Weight: 0.0002, Max Weight: 0.0045\n"
     ]
    },
    {
     "name": "stderr",
     "output_type": "stream",
     "text": [
      "Training:  75%|██████████████████████████▎        | 3/4 [01:04<00:21, 21.52s/it]"
     ]
    },
    {
     "name": "stdout",
     "output_type": "stream",
     "text": [
      "Epoch 3/4, Loss: -0.0647, Train fit: -0.0125, Test fit: 0.0606, Avg Weight: 0.0002, Max Weight: 0.0045\n"
     ]
    },
    {
     "name": "stderr",
     "output_type": "stream",
     "text": [
      "Training: 100%|███████████████████████████████████| 4/4 [01:27<00:00, 21.87s/it]"
     ]
    },
    {
     "name": "stdout",
     "output_type": "stream",
     "text": [
      "Epoch 4/4, Loss: -0.0671, Train fit: -0.0111, Test fit: 0.0624, Avg Weight: 0.0002, Max Weight: 0.0057\n",
      "Training completed! Best test Sharpe ratio: 0.0624\n",
      "Training from 2023-01 to 2023-06. Testing on 2023-07.\n"
     ]
    },
    {
     "name": "stderr",
     "output_type": "stream",
     "text": [
      "\n"
     ]
    },
    {
     "name": "stdout",
     "output_type": "stream",
     "text": [
      "['sprtrn_lag1', 'DlyRet_lag1', 'DlyRet_roll_10', 'DlyRet_roll_20', 'DlyRet_roll_30']\n",
      "Starting training with 571 train batches, 46 test batches\n"
     ]
    },
    {
     "name": "stderr",
     "output_type": "stream",
     "text": [
      "Training:  25%|████████▊                          | 1/4 [00:21<01:03, 21.21s/it]"
     ]
    },
    {
     "name": "stdout",
     "output_type": "stream",
     "text": [
      "Epoch 1/4, Loss: -0.0809, Train fit: 0.0196, Test fit: 0.0653, Avg Weight: 0.0002, Max Weight: 0.0009\n"
     ]
    },
    {
     "name": "stderr",
     "output_type": "stream",
     "text": [
      "Training:  75%|██████████████████████████▎        | 3/4 [01:04<00:21, 21.32s/it]"
     ]
    },
    {
     "name": "stdout",
     "output_type": "stream",
     "text": [
      "Epoch 3/4, Loss: -0.0831, Train fit: 0.0187, Test fit: 0.0701, Avg Weight: 0.0002, Max Weight: 0.0007\n"
     ]
    },
    {
     "name": "stderr",
     "output_type": "stream",
     "text": [
      "Training: 100%|███████████████████████████████████| 4/4 [01:25<00:00, 21.34s/it]"
     ]
    },
    {
     "name": "stdout",
     "output_type": "stream",
     "text": [
      "Epoch 4/4, Loss: -0.0893, Train fit: 0.0206, Test fit: 0.0689, Avg Weight: 0.0002, Max Weight: 0.0007\n",
      "Training completed! Best test Sharpe ratio: 0.0701\n",
      "Training from 2023-02 to 2023-07. Testing on 2023-08.\n"
     ]
    },
    {
     "name": "stderr",
     "output_type": "stream",
     "text": [
      "\n"
     ]
    },
    {
     "name": "stdout",
     "output_type": "stream",
     "text": [
      "['sprtrn_lag1', 'DlyRet_lag1', 'DlyRet_roll_10', 'DlyRet_roll_20', 'DlyRet_roll_30']\n",
      "Starting training with 570 train batches, 53 test batches\n"
     ]
    },
    {
     "name": "stderr",
     "output_type": "stream",
     "text": [
      "Training:  25%|████████▊                          | 1/4 [00:22<01:06, 22.02s/it]"
     ]
    },
    {
     "name": "stdout",
     "output_type": "stream",
     "text": [
      "Epoch 1/4, Loss: -0.0755, Train fit: 0.0116, Test fit: -0.0595, Avg Weight: 0.0002, Max Weight: 0.0019\n"
     ]
    },
    {
     "name": "stderr",
     "output_type": "stream",
     "text": [
      "Training:  75%|██████████████████████████▎        | 3/4 [01:04<00:21, 21.29s/it]"
     ]
    },
    {
     "name": "stdout",
     "output_type": "stream",
     "text": [
      "Epoch 3/4, Loss: -0.0805, Train fit: 0.0118, Test fit: -0.0590, Avg Weight: 0.0002, Max Weight: 0.0018\n"
     ]
    },
    {
     "name": "stderr",
     "output_type": "stream",
     "text": [
      "Training: 100%|███████████████████████████████████| 4/4 [01:26<00:00, 21.54s/it]"
     ]
    },
    {
     "name": "stdout",
     "output_type": "stream",
     "text": [
      "Epoch 4/4, Loss: -0.0852, Train fit: 0.0125, Test fit: -0.0570, Avg Weight: 0.0002, Max Weight: 0.0018\n",
      "Training completed! Best test Sharpe ratio: -0.0570\n",
      "Training from 2023-03 to 2023-08. Testing on 2023-09.\n"
     ]
    },
    {
     "name": "stderr",
     "output_type": "stream",
     "text": [
      "\n"
     ]
    },
    {
     "name": "stdout",
     "output_type": "stream",
     "text": [
      "['sprtrn_lag1', 'DlyRet_lag1', 'DlyRet_roll_10', 'DlyRet_roll_20', 'DlyRet_roll_30']\n",
      "Starting training with 587 train batches, 46 test batches\n"
     ]
    },
    {
     "name": "stderr",
     "output_type": "stream",
     "text": [
      "Training:  25%|████████▊                          | 1/4 [00:22<01:06, 22.27s/it]"
     ]
    },
    {
     "name": "stdout",
     "output_type": "stream",
     "text": [
      "Epoch 1/4, Loss: -0.0673, Train fit: -0.0018, Test fit: -0.0537, Avg Weight: 0.0002, Max Weight: 0.0028\n"
     ]
    },
    {
     "name": "stderr",
     "output_type": "stream",
     "text": [
      "Training:  75%|██████████████████████████▎        | 3/4 [01:06<00:22, 22.39s/it]"
     ]
    },
    {
     "name": "stdout",
     "output_type": "stream",
     "text": [
      "Epoch 3/4, Loss: -0.0726, Train fit: 0.0026, Test fit: -0.0638, Avg Weight: 0.0002, Max Weight: 0.0028\n"
     ]
    },
    {
     "name": "stderr",
     "output_type": "stream",
     "text": [
      "Training: 100%|███████████████████████████████████| 4/4 [01:27<00:00, 21.87s/it]"
     ]
    },
    {
     "name": "stdout",
     "output_type": "stream",
     "text": [
      "Epoch 4/4, Loss: -0.0790, Train fit: 0.0109, Test fit: -0.0822, Avg Weight: 0.0002, Max Weight: 0.0028\n",
      "Training completed! Best test Sharpe ratio: -0.0537\n",
      "Training from 2023-04 to 2023-09. Testing on 2023-10.\n"
     ]
    },
    {
     "name": "stderr",
     "output_type": "stream",
     "text": [
      "\n"
     ]
    },
    {
     "name": "stdout",
     "output_type": "stream",
     "text": [
      "['sprtrn_lag1', 'DlyRet_lag1', 'DlyRet_roll_10', 'DlyRet_roll_20', 'DlyRet_roll_30']\n",
      "Starting training with 573 train batches, 51 test batches\n"
     ]
    },
    {
     "name": "stderr",
     "output_type": "stream",
     "text": [
      "Training:  25%|████████▊                          | 1/4 [00:21<01:03, 21.24s/it]"
     ]
    },
    {
     "name": "stdout",
     "output_type": "stream",
     "text": [
      "Epoch 1/4, Loss: -0.0590, Train fit: -0.0035, Test fit: -0.0318, Avg Weight: 0.0002, Max Weight: 0.0073\n"
     ]
    },
    {
     "name": "stderr",
     "output_type": "stream",
     "text": [
      "Training:  75%|██████████████████████████▎        | 3/4 [01:03<00:20, 20.99s/it]"
     ]
    },
    {
     "name": "stdout",
     "output_type": "stream",
     "text": [
      "Epoch 3/4, Loss: -0.0634, Train fit: -0.0024, Test fit: -0.0302, Avg Weight: 0.0002, Max Weight: 0.0248\n"
     ]
    },
    {
     "name": "stderr",
     "output_type": "stream",
     "text": [
      "Training: 100%|███████████████████████████████████| 4/4 [01:24<00:00, 21.19s/it]"
     ]
    },
    {
     "name": "stdout",
     "output_type": "stream",
     "text": [
      "Epoch 4/4, Loss: -0.0552, Train fit: -0.0048, Test fit: -0.0478, Avg Weight: 0.0002, Max Weight: 0.0248\n",
      "Training completed! Best test Sharpe ratio: -0.0302\n",
      "Training from 2023-05 to 2023-10. Testing on 2023-11.\n"
     ]
    },
    {
     "name": "stderr",
     "output_type": "stream",
     "text": [
      "\n"
     ]
    },
    {
     "name": "stdout",
     "output_type": "stream",
     "text": [
      "['sprtrn_lag1', 'DlyRet_lag1', 'DlyRet_roll_10', 'DlyRet_roll_20', 'DlyRet_roll_30']\n",
      "Starting training with 587 train batches, 49 test batches\n"
     ]
    },
    {
     "name": "stderr",
     "output_type": "stream",
     "text": [
      "Training:  25%|████████▊                          | 1/4 [00:23<01:10, 23.61s/it]"
     ]
    },
    {
     "name": "stdout",
     "output_type": "stream",
     "text": [
      "Epoch 1/4, Loss: -0.0473, Train fit: -0.0041, Test fit: 0.0217, Avg Weight: 0.0002, Max Weight: 0.0642\n"
     ]
    },
    {
     "name": "stderr",
     "output_type": "stream",
     "text": [
      "Training:  75%|██████████████████████████▎        | 3/4 [01:08<00:22, 22.48s/it]"
     ]
    },
    {
     "name": "stdout",
     "output_type": "stream",
     "text": [
      "Epoch 3/4, Loss: -0.0537, Train fit: -0.0077, Test fit: 0.0434, Avg Weight: 0.0002, Max Weight: 0.0171\n"
     ]
    },
    {
     "name": "stderr",
     "output_type": "stream",
     "text": [
      "Training: 100%|███████████████████████████████████| 4/4 [01:29<00:00, 22.42s/it]"
     ]
    },
    {
     "name": "stdout",
     "output_type": "stream",
     "text": [
      "Epoch 4/4, Loss: -0.0535, Train fit: -0.0080, Test fit: 0.0423, Avg Weight: 0.0002, Max Weight: 0.0171\n",
      "Training completed! Best test Sharpe ratio: 0.0628\n",
      "Training from 2023-06 to 2023-11. Testing on 2023-12.\n"
     ]
    },
    {
     "name": "stderr",
     "output_type": "stream",
     "text": [
      "\n"
     ]
    },
    {
     "name": "stdout",
     "output_type": "stream",
     "text": [
      "['sprtrn_lag1', 'DlyRet_lag1', 'DlyRet_roll_10', 'DlyRet_roll_20', 'DlyRet_roll_30']\n",
      "Starting training with 583 train batches, 46 test batches\n"
     ]
    },
    {
     "name": "stderr",
     "output_type": "stream",
     "text": [
      "Training:  25%|████████▊                          | 1/4 [00:21<01:03, 21.14s/it]"
     ]
    },
    {
     "name": "stdout",
     "output_type": "stream",
     "text": [
      "Epoch 1/4, Loss: -0.0771, Train fit: 0.0162, Test fit: 0.1090, Avg Weight: 0.0002, Max Weight: 0.0010\n"
     ]
    },
    {
     "name": "stderr",
     "output_type": "stream",
     "text": [
      "Training:  75%|██████████████████████████▎        | 3/4 [01:02<00:20, 20.75s/it]"
     ]
    },
    {
     "name": "stdout",
     "output_type": "stream",
     "text": [
      "Epoch 3/4, Loss: -0.0743, Train fit: 0.0163, Test fit: 0.1092, Avg Weight: 0.0002, Max Weight: 0.0007\n"
     ]
    },
    {
     "name": "stderr",
     "output_type": "stream",
     "text": [
      "Training: 100%|███████████████████████████████████| 4/4 [01:24<00:00, 21.21s/it]"
     ]
    },
    {
     "name": "stdout",
     "output_type": "stream",
     "text": [
      "Epoch 4/4, Loss: -0.0801, Train fit: 0.0170, Test fit: 0.1079, Avg Weight: 0.0002, Max Weight: 0.0007\n",
      "Training completed! Best test Sharpe ratio: 0.1123\n",
      "Training from 2023-07 to 2023-12. Testing on 2024-01.\n"
     ]
    },
    {
     "name": "stderr",
     "output_type": "stream",
     "text": [
      "\n"
     ]
    },
    {
     "name": "stdout",
     "output_type": "stream",
     "text": [
      "['sprtrn_lag1', 'DlyRet_lag1', 'DlyRet_roll_10', 'DlyRet_roll_20', 'DlyRet_roll_30']\n",
      "Starting training with 578 train batches, 49 test batches\n"
     ]
    },
    {
     "name": "stderr",
     "output_type": "stream",
     "text": [
      "Training:  25%|████████▊                          | 1/4 [00:21<01:04, 21.44s/it]"
     ]
    },
    {
     "name": "stdout",
     "output_type": "stream",
     "text": [
      "Epoch 1/4, Loss: -0.0680, Train fit: 0.0142, Test fit: -0.0395, Avg Weight: 0.0002, Max Weight: 0.0023\n"
     ]
    },
    {
     "name": "stderr",
     "output_type": "stream",
     "text": [
      "Training:  75%|██████████████████████████▎        | 3/4 [01:03<00:20, 20.97s/it]"
     ]
    },
    {
     "name": "stdout",
     "output_type": "stream",
     "text": [
      "Epoch 3/4, Loss: -0.0798, Train fit: 0.0138, Test fit: -0.0395, Avg Weight: 0.0002, Max Weight: 0.0023\n"
     ]
    },
    {
     "name": "stderr",
     "output_type": "stream",
     "text": [
      "Training: 100%|███████████████████████████████████| 4/4 [01:24<00:00, 21.23s/it]"
     ]
    },
    {
     "name": "stdout",
     "output_type": "stream",
     "text": [
      "Epoch 4/4, Loss: -0.0801, Train fit: 0.0168, Test fit: -0.0371, Avg Weight: 0.0002, Max Weight: 0.0025\n",
      "Training completed! Best test Sharpe ratio: -0.0371\n",
      "Training from 2023-08 to 2024-01. Testing on 2024-02.\n"
     ]
    },
    {
     "name": "stderr",
     "output_type": "stream",
     "text": [
      "\n"
     ]
    },
    {
     "name": "stdout",
     "output_type": "stream",
     "text": [
      "['sprtrn_lag1', 'DlyRet_lag1', 'DlyRet_roll_10', 'DlyRet_roll_20', 'DlyRet_roll_30']\n",
      "Starting training with 584 train batches, 47 test batches\n"
     ]
    },
    {
     "name": "stderr",
     "output_type": "stream",
     "text": [
      "Training:  25%|████████▊                          | 1/4 [00:22<01:06, 22.14s/it]"
     ]
    },
    {
     "name": "stdout",
     "output_type": "stream",
     "text": [
      "Epoch 1/4, Loss: -0.0582, Train fit: 0.0029, Test fit: 0.0566, Avg Weight: 0.0002, Max Weight: 0.0115\n"
     ]
    },
    {
     "name": "stderr",
     "output_type": "stream",
     "text": [
      "Training:  75%|██████████████████████████▎        | 3/4 [01:06<00:21, 21.82s/it]"
     ]
    },
    {
     "name": "stdout",
     "output_type": "stream",
     "text": [
      "Epoch 3/4, Loss: -0.0621, Train fit: 0.0049, Test fit: 0.0542, Avg Weight: 0.0002, Max Weight: 0.0115\n"
     ]
    },
    {
     "name": "stderr",
     "output_type": "stream",
     "text": [
      "Training: 100%|███████████████████████████████████| 4/4 [01:28<00:00, 22.06s/it]"
     ]
    },
    {
     "name": "stdout",
     "output_type": "stream",
     "text": [
      "Epoch 4/4, Loss: -0.0619, Train fit: 0.0057, Test fit: 0.0539, Avg Weight: 0.0002, Max Weight: 0.0115\n",
      "Training completed! Best test Sharpe ratio: 0.0566\n",
      "Training from 2023-09 to 2024-02. Testing on 2024-03.\n"
     ]
    },
    {
     "name": "stderr",
     "output_type": "stream",
     "text": [
      "\n"
     ]
    },
    {
     "name": "stdout",
     "output_type": "stream",
     "text": [
      "['sprtrn_lag1', 'DlyRet_lag1', 'DlyRet_roll_10', 'DlyRet_roll_20', 'DlyRet_roll_30']\n",
      "Starting training with 571 train batches, 46 test batches\n"
     ]
    },
    {
     "name": "stderr",
     "output_type": "stream",
     "text": [
      "Training:  25%|████████▊                          | 1/4 [00:19<00:59, 19.85s/it]"
     ]
    },
    {
     "name": "stdout",
     "output_type": "stream",
     "text": [
      "Epoch 1/4, Loss: -0.0775, Train fit: 0.0236, Test fit: 0.0579, Avg Weight: 0.0002, Max Weight: 0.0011\n"
     ]
    },
    {
     "name": "stderr",
     "output_type": "stream",
     "text": [
      "Training:  75%|██████████████████████████▎        | 3/4 [01:01<00:20, 20.86s/it]"
     ]
    },
    {
     "name": "stdout",
     "output_type": "stream",
     "text": [
      "Epoch 3/4, Loss: -0.0884, Train fit: 0.0265, Test fit: 0.0603, Avg Weight: 0.0002, Max Weight: 0.0011\n"
     ]
    },
    {
     "name": "stderr",
     "output_type": "stream",
     "text": [
      "Training: 100%|███████████████████████████████████| 4/4 [01:22<00:00, 20.72s/it]"
     ]
    },
    {
     "name": "stdout",
     "output_type": "stream",
     "text": [
      "Epoch 4/4, Loss: -0.0898, Train fit: 0.0271, Test fit: 0.0604, Avg Weight: 0.0002, Max Weight: 0.0011\n",
      "Training completed! Best test Sharpe ratio: 0.0604\n"
     ]
    },
    {
     "name": "stderr",
     "output_type": "stream",
     "text": [
      "\n"
     ]
    },
    {
     "name": "stdout",
     "output_type": "stream",
     "text": [
      "Training from 2023-10 to 2024-03. Testing on 2024-04.\n",
      "['sprtrn_lag1', 'DlyRet_lag1', 'DlyRet_roll_10', 'DlyRet_roll_20', 'DlyRet_roll_30']\n",
      "Starting training with 571 train batches, 51 test batches\n"
     ]
    },
    {
     "name": "stderr",
     "output_type": "stream",
     "text": [
      "Training:  25%|████████▊                          | 1/4 [00:20<01:02, 20.73s/it]"
     ]
    },
    {
     "name": "stdout",
     "output_type": "stream",
     "text": [
      "Epoch 1/4, Loss: -0.0929, Train fit: 0.0475, Test fit: -0.0667, Avg Weight: 0.0002, Max Weight: 0.0014\n"
     ]
    },
    {
     "name": "stderr",
     "output_type": "stream",
     "text": [
      "Training:  75%|██████████████████████████▎        | 3/4 [01:02<00:21, 21.08s/it]"
     ]
    },
    {
     "name": "stdout",
     "output_type": "stream",
     "text": [
      "Epoch 3/4, Loss: -0.1164, Train fit: 0.0494, Test fit: -0.0682, Avg Weight: 0.0002, Max Weight: 0.0014\n"
     ]
    },
    {
     "name": "stderr",
     "output_type": "stream",
     "text": [
      "Training: 100%|███████████████████████████████████| 4/4 [01:23<00:00, 20.99s/it]"
     ]
    },
    {
     "name": "stdout",
     "output_type": "stream",
     "text": [
      "Epoch 4/4, Loss: -0.1176, Train fit: 0.0493, Test fit: -0.0689, Avg Weight: 0.0002, Max Weight: 0.0014\n",
      "Training completed! Best test Sharpe ratio: -0.0667\n",
      "Training from 2023-11 to 2024-04. Testing on 2024-05.\n"
     ]
    },
    {
     "name": "stderr",
     "output_type": "stream",
     "text": [
      "\n"
     ]
    },
    {
     "name": "stdout",
     "output_type": "stream",
     "text": [
      "['sprtrn_lag1', 'DlyRet_lag1', 'DlyRet_roll_10', 'DlyRet_roll_20', 'DlyRet_roll_30']\n",
      "Starting training with 571 train batches, 51 test batches\n"
     ]
    },
    {
     "name": "stderr",
     "output_type": "stream",
     "text": [
      "Training:  25%|████████▊                          | 1/4 [00:19<00:59, 19.91s/it]"
     ]
    },
    {
     "name": "stdout",
     "output_type": "stream",
     "text": [
      "Epoch 1/4, Loss: -0.1029, Train fit: 0.0468, Test fit: 0.0667, Avg Weight: 0.0002, Max Weight: 0.0013\n"
     ]
    },
    {
     "name": "stderr",
     "output_type": "stream",
     "text": [
      "Training:  75%|██████████████████████████▎        | 3/4 [01:02<00:21, 21.03s/it]"
     ]
    },
    {
     "name": "stdout",
     "output_type": "stream",
     "text": [
      "Epoch 3/4, Loss: -0.1155, Train fit: 0.0479, Test fit: 0.0673, Avg Weight: 0.0002, Max Weight: 0.0013\n"
     ]
    },
    {
     "name": "stderr",
     "output_type": "stream",
     "text": [
      "Training: 100%|███████████████████████████████████| 4/4 [01:22<00:00, 20.70s/it]"
     ]
    },
    {
     "name": "stdout",
     "output_type": "stream",
     "text": [
      "Epoch 4/4, Loss: -0.1165, Train fit: 0.0481, Test fit: 0.0668, Avg Weight: 0.0002, Max Weight: 0.0013\n",
      "Training completed! Best test Sharpe ratio: 0.0674\n",
      "Training from 2023-12 to 2024-05. Testing on 2024-06.\n"
     ]
    },
    {
     "name": "stderr",
     "output_type": "stream",
     "text": [
      "\n"
     ]
    },
    {
     "name": "stdout",
     "output_type": "stream",
     "text": [
      "['sprtrn_lag1', 'DlyRet_lag1', 'DlyRet_roll_10', 'DlyRet_roll_20', 'DlyRet_roll_30']\n",
      "Starting training with 576 train batches, 44 test batches\n"
     ]
    },
    {
     "name": "stderr",
     "output_type": "stream",
     "text": [
      "Training:  25%|████████▊                          | 1/4 [00:21<01:03, 21.32s/it]"
     ]
    },
    {
     "name": "stdout",
     "output_type": "stream",
     "text": [
      "Epoch 1/4, Loss: -0.0890, Train fit: 0.0339, Test fit: -0.0000, Avg Weight: 0.0002, Max Weight: 0.0011\n"
     ]
    },
    {
     "name": "stderr",
     "output_type": "stream",
     "text": [
      "Training:  75%|██████████████████████████▎        | 3/4 [01:03<00:21, 21.46s/it]"
     ]
    },
    {
     "name": "stdout",
     "output_type": "stream",
     "text": [
      "Epoch 3/4, Loss: -0.1063, Train fit: 0.0359, Test fit: 0.0008, Avg Weight: 0.0002, Max Weight: 0.0011\n"
     ]
    },
    {
     "name": "stderr",
     "output_type": "stream",
     "text": [
      "Training: 100%|███████████████████████████████████| 4/4 [01:23<00:00, 20.89s/it]"
     ]
    },
    {
     "name": "stdout",
     "output_type": "stream",
     "text": [
      "Epoch 4/4, Loss: -0.1077, Train fit: 0.0362, Test fit: -0.0006, Avg Weight: 0.0002, Max Weight: 0.0011\n",
      "Training completed! Best test Sharpe ratio: 0.0011\n",
      "Training from 2024-01 to 2024-06. Testing on 2024-07.\n"
     ]
    },
    {
     "name": "stderr",
     "output_type": "stream",
     "text": [
      "\n"
     ]
    },
    {
     "name": "stdout",
     "output_type": "stream",
     "text": [
      "['sprtrn_lag1', 'DlyRet_lag1', 'DlyRet_roll_10', 'DlyRet_roll_20', 'DlyRet_roll_30']\n",
      "Starting training with 572 train batches, 52 test batches\n"
     ]
    },
    {
     "name": "stderr",
     "output_type": "stream",
     "text": [
      "Training:  25%|████████▊                          | 1/4 [00:20<01:01, 20.48s/it]"
     ]
    },
    {
     "name": "stdout",
     "output_type": "stream",
     "text": [
      "Epoch 1/4, Loss: -0.0800, Train fit: 0.0176, Test fit: 0.0274, Avg Weight: 0.0002, Max Weight: 0.0650\n"
     ]
    },
    {
     "name": "stderr",
     "output_type": "stream",
     "text": [
      "Training:  75%|██████████████████████████▎        | 3/4 [00:58<00:19, 19.25s/it]"
     ]
    },
    {
     "name": "stdout",
     "output_type": "stream",
     "text": [
      "Epoch 3/4, Loss: -0.0894, Train fit: 0.0187, Test fit: 0.0285, Avg Weight: 0.0002, Max Weight: 0.0669\n"
     ]
    },
    {
     "name": "stderr",
     "output_type": "stream",
     "text": [
      "Training: 100%|███████████████████████████████████| 4/4 [01:18<00:00, 19.68s/it]"
     ]
    },
    {
     "name": "stdout",
     "output_type": "stream",
     "text": [
      "Epoch 4/4, Loss: -0.0913, Train fit: 0.0192, Test fit: 0.0279, Avg Weight: 0.0002, Max Weight: 0.0669\n",
      "Training completed! Best test Sharpe ratio: 0.0285\n",
      "Training from 2024-02 to 2024-07. Testing on 2024-08.\n"
     ]
    },
    {
     "name": "stderr",
     "output_type": "stream",
     "text": [
      "\n"
     ]
    },
    {
     "name": "stdout",
     "output_type": "stream",
     "text": [
      "['sprtrn_lag1', 'DlyRet_lag1', 'DlyRet_roll_10', 'DlyRet_roll_20', 'DlyRet_roll_30']\n",
      "Starting training with 577 train batches, 52 test batches\n"
     ]
    },
    {
     "name": "stderr",
     "output_type": "stream",
     "text": [
      "Training:  25%|████████▊                          | 1/4 [00:20<01:02, 20.86s/it]"
     ]
    },
    {
     "name": "stdout",
     "output_type": "stream",
     "text": [
      "Epoch 1/4, Loss: -0.0890, Train fit: 0.0118, Test fit: -0.0086, Avg Weight: 0.0002, Max Weight: 0.0045\n"
     ]
    },
    {
     "name": "stderr",
     "output_type": "stream",
     "text": [
      "Training:  75%|██████████████████████████▎        | 3/4 [01:04<00:21, 21.64s/it]"
     ]
    },
    {
     "name": "stdout",
     "output_type": "stream",
     "text": [
      "Epoch 3/4, Loss: -0.1044, Train fit: 0.0296, Test fit: 0.0124, Avg Weight: 0.0002, Max Weight: 0.0057\n"
     ]
    },
    {
     "name": "stderr",
     "output_type": "stream",
     "text": [
      "Training: 100%|███████████████████████████████████| 4/4 [01:25<00:00, 21.48s/it]"
     ]
    },
    {
     "name": "stdout",
     "output_type": "stream",
     "text": [
      "Epoch 4/4, Loss: -0.1062, Train fit: 0.0314, Test fit: 0.0132, Avg Weight: 0.0002, Max Weight: 0.0055\n",
      "Training completed! Best test Sharpe ratio: 0.0132\n",
      "Training from 2024-03 to 2024-08. Testing on 2024-09.\n"
     ]
    },
    {
     "name": "stderr",
     "output_type": "stream",
     "text": [
      "\n"
     ]
    },
    {
     "name": "stdout",
     "output_type": "stream",
     "text": [
      "['sprtrn_lag1', 'DlyRet_lag1', 'DlyRet_roll_10', 'DlyRet_roll_20', 'DlyRet_roll_30']\n",
      "Starting training with 587 train batches, 47 test batches\n"
     ]
    },
    {
     "name": "stderr",
     "output_type": "stream",
     "text": [
      "Training:  25%|████████▊                          | 1/4 [00:22<01:06, 22.09s/it]"
     ]
    },
    {
     "name": "stdout",
     "output_type": "stream",
     "text": [
      "Epoch 1/4, Loss: -0.0897, Train fit: 0.0204, Test fit: 0.0364, Avg Weight: 0.0002, Max Weight: 0.0010\n"
     ]
    },
    {
     "name": "stderr",
     "output_type": "stream",
     "text": [
      "Training:  75%|██████████████████████████▎        | 3/4 [01:07<00:22, 22.60s/it]"
     ]
    },
    {
     "name": "stdout",
     "output_type": "stream",
     "text": [
      "Epoch 3/4, Loss: -0.1018, Train fit: 0.0253, Test fit: 0.0388, Avg Weight: 0.0002, Max Weight: 0.0011\n"
     ]
    },
    {
     "name": "stderr",
     "output_type": "stream",
     "text": [
      "Training: 100%|███████████████████████████████████| 4/4 [01:28<00:00, 22.00s/it]"
     ]
    },
    {
     "name": "stdout",
     "output_type": "stream",
     "text": [
      "Epoch 4/4, Loss: -0.1034, Train fit: 0.0257, Test fit: 0.0391, Avg Weight: 0.0002, Max Weight: 0.0010\n",
      "Training completed! Best test Sharpe ratio: 0.0391\n",
      "Training from 2024-04 to 2024-09. Testing on 2024-10.\n"
     ]
    },
    {
     "name": "stderr",
     "output_type": "stream",
     "text": [
      "\n"
     ]
    },
    {
     "name": "stdout",
     "output_type": "stream",
     "text": [
      "['sprtrn_lag1', 'DlyRet_lag1', 'DlyRet_roll_10', 'DlyRet_roll_20', 'DlyRet_roll_30']\n",
      "Starting training with 589 train batches, 55 test batches\n"
     ]
    },
    {
     "name": "stderr",
     "output_type": "stream",
     "text": [
      "Training:  25%|████████▊                          | 1/4 [00:22<01:07, 22.45s/it]"
     ]
    },
    {
     "name": "stdout",
     "output_type": "stream",
     "text": [
      "Epoch 1/4, Loss: -0.0905, Train fit: 0.0190, Test fit: -0.0260, Avg Weight: 0.0002, Max Weight: 0.0048\n"
     ]
    },
    {
     "name": "stderr",
     "output_type": "stream",
     "text": [
      "Training:  75%|██████████████████████████▎        | 3/4 [01:08<00:22, 22.96s/it]"
     ]
    },
    {
     "name": "stdout",
     "output_type": "stream",
     "text": [
      "Epoch 3/4, Loss: -0.0979, Train fit: 0.0215, Test fit: -0.0264, Avg Weight: 0.0002, Max Weight: 0.0055\n"
     ]
    },
    {
     "name": "stderr",
     "output_type": "stream",
     "text": [
      "Training: 100%|███████████████████████████████████| 4/4 [01:30<00:00, 22.67s/it]"
     ]
    },
    {
     "name": "stdout",
     "output_type": "stream",
     "text": [
      "Epoch 4/4, Loss: -0.1004, Train fit: 0.0224, Test fit: -0.0259, Avg Weight: 0.0002, Max Weight: 0.0055\n",
      "Training completed! Best test Sharpe ratio: -0.0255\n",
      "Training from 2024-05 to 2024-10. Testing on 2024-11.\n"
     ]
    },
    {
     "name": "stderr",
     "output_type": "stream",
     "text": [
      "\n"
     ]
    },
    {
     "name": "stdout",
     "output_type": "stream",
     "text": [
      "['sprtrn_lag1', 'DlyRet_lag1', 'DlyRet_roll_10', 'DlyRet_roll_20', 'DlyRet_roll_30']\n",
      "Starting training with 596 train batches, 48 test batches\n"
     ]
    },
    {
     "name": "stderr",
     "output_type": "stream",
     "text": [
      "Training:  25%|████████▊                          | 1/4 [00:24<01:13, 24.51s/it]"
     ]
    },
    {
     "name": "stdout",
     "output_type": "stream",
     "text": [
      "Epoch 1/4, Loss: -0.0951, Train fit: 0.0119, Test fit: 0.0566, Avg Weight: 0.0002, Max Weight: 0.0076\n"
     ]
    },
    {
     "name": "stderr",
     "output_type": "stream",
     "text": [
      "Training:  75%|██████████████████████████▎        | 3/4 [01:09<00:22, 22.82s/it]"
     ]
    },
    {
     "name": "stdout",
     "output_type": "stream",
     "text": [
      "Epoch 3/4, Loss: -0.1023, Train fit: 0.0257, Test fit: 0.0787, Avg Weight: 0.0002, Max Weight: 0.0033\n"
     ]
    },
    {
     "name": "stderr",
     "output_type": "stream",
     "text": [
      "Training: 100%|███████████████████████████████████| 4/4 [01:32<00:00, 23.20s/it]"
     ]
    },
    {
     "name": "stdout",
     "output_type": "stream",
     "text": [
      "Epoch 4/4, Loss: -0.1043, Train fit: 0.0267, Test fit: 0.0797, Avg Weight: 0.0002, Max Weight: 0.0030\n",
      "Training completed! Best test Sharpe ratio: 0.0797\n",
      "Training from 2024-06 to 2024-11. Testing on 2024-12.\n"
     ]
    },
    {
     "name": "stderr",
     "output_type": "stream",
     "text": [
      "\n"
     ]
    },
    {
     "name": "stdout",
     "output_type": "stream",
     "text": [
      "['sprtrn_lag1', 'DlyRet_lag1', 'DlyRet_roll_10', 'DlyRet_roll_20', 'DlyRet_roll_30']\n",
      "Starting training with 589 train batches, 50 test batches\n"
     ]
    },
    {
     "name": "stderr",
     "output_type": "stream",
     "text": [
      "Training:  25%|████████▊                          | 1/4 [00:21<01:03, 21.12s/it]"
     ]
    },
    {
     "name": "stdout",
     "output_type": "stream",
     "text": [
      "Epoch 1/4, Loss: -0.0681, Train fit: 0.0263, Test fit: -0.0650, Avg Weight: 0.0002, Max Weight: 0.0006\n"
     ]
    },
    {
     "name": "stderr",
     "output_type": "stream",
     "text": [
      "Training:  75%|██████████████████████████▎        | 3/4 [01:05<00:22, 22.02s/it]"
     ]
    },
    {
     "name": "stdout",
     "output_type": "stream",
     "text": [
      "Epoch 3/4, Loss: -0.1023, Train fit: 0.0294, Test fit: -0.0649, Avg Weight: 0.0002, Max Weight: 0.0006\n"
     ]
    },
    {
     "name": "stderr",
     "output_type": "stream",
     "text": [
      "Training: 100%|███████████████████████████████████| 4/4 [01:29<00:00, 22.30s/it]"
     ]
    },
    {
     "name": "stdout",
     "output_type": "stream",
     "text": [
      "Epoch 4/4, Loss: -0.1062, Train fit: 0.0310, Test fit: -0.0648, Avg Weight: 0.0002, Max Weight: 0.0006\n",
      "Training completed! Best test Sharpe ratio: -0.0636\n"
     ]
    },
    {
     "name": "stderr",
     "output_type": "stream",
     "text": [
      "\n"
     ]
    }
   ],
   "source": [
    "# Keeping track of the return over all the data\n",
    "reload(utils)\n",
    "all_strategy_returns = []\n",
    "\n",
    "for i in range(0, len(unique_months) - 6):\n",
    "\n",
    "    # Train on 6 months of data and test on 1 month\n",
    "    train_start = unique_months.iloc[i]\n",
    "    train_end = unique_months.iloc[i+5]\n",
    "    test_month = unique_months.iloc[i+6]\n",
    "\n",
    "    print(f'Training from {train_start} to {train_end}. Testing on {test_month}.')\n",
    "    \n",
    "    # Filter data\n",
    "    train_mask = (daily['year_month'] >= train_start) & (daily['year_month'] <= train_end)\n",
    "    test_mask = daily['year_month'] == test_month\n",
    "\n",
    "    tr_df = daily[train_mask].copy()\n",
    "    te_df = daily[test_mask].copy()\n",
    "\n",
    "    # Prepare the data: construct lagged returns, rolling window averages\n",
    "    train_df, test_df, features, cat_features = utils.prepare_data(tr_df, te_df, lagged_num=1, rolling_window=True)\n",
    "   \n",
    "    epochs = 4 # It appears it is the ideal trade-off between precision and runtime\n",
    "    max_weight = 0.05  # No stock >5% weight\n",
    "    diversification_lambda = 0.01  # Strength of penalty\n",
    "    temperature = 1.0  # Softmax temperature (lower = more diversification)\n",
    "    train_losses, test_losses, train_sharpes, test_sharpes, raw_predictions, weights = utils.train_DNN(train_df, test_df, features, cat_features, \n",
    "                                                                                                   epochs=epochs, max_weight=max_weight, \n",
    "                                                                                                   diversification_lambda=diversification_lambda, \n",
    "                                                                                                   temperature=temperature)\n",
    "    # Deduct transaction costs \n",
    "    TC_RATE = 0.003 # 0.30% of traded notional value\n",
    "    alpha = 100\n",
    "\n",
    "    test_df['weight'] = weights.values\n",
    "    test_df['weight_change'] = np.abs(test_df['weight'].diff().fillna(0.0))\n",
    "    test_df['tc_cost'] = test_df['weight_change'].apply(lambda x: utils.progressive_cost(x, base_tc=TC_RATE, alpha=alpha))\n",
    "    test_df['strategy_return'] = test_df['weight'] * test_df['DlyRet'] - test_df['tc_cost']\n",
    "    mean_daily_returns = test_df.groupby('date')['strategy_return'].sum()\n",
    "\n",
    "    all_strategy_returns.append(mean_daily_returns)\n",
    "    gc.collect() # Memory clean-up\n",
    "\n",
    "# Concatenate all windows into one Series\n",
    "combined_returns = pd.concat(all_strategy_returns)\n",
    "\n"
   ]
  },
  {
   "cell_type": "code",
   "execution_count": 6,
   "metadata": {},
   "outputs": [
    {
     "data": {
      "image/png": "[encoded data removed]",
      "text/plain": [
       "<Figure size 1000x600 with 1 Axes>"
      ]
     },
     "metadata": {},
     "output_type": "display_data"
    }
   ],
   "source": [
    "# Plot the cumulative returns of the strategy and compare with the S&P 500 index\n",
    "cumulative_returns = (1 + combined_returns).cumprod() \n",
    "sp_ret = daily.groupby('date')['sprtrn'].mean()\n",
    "\n",
    "strat_start = unique_months.iloc[6].to_timestamp()\n",
    "sp_ret = sp_ret.loc[strat_start:]\n",
    "\n",
    "cumulative_sp500 = (1 + sp_ret).cumprod()\n",
    "\n",
    "# Combine into a single DataFrame for easy plotting\n",
    "combined = pd.DataFrame({\n",
    "    'Strategy': cumulative_returns,\n",
    "    'S&P 500': cumulative_sp500\n",
    "})\n",
    "\n",
    "# Sharpe ratio\n",
    "strat_sharpe = utils.compute_sharpe(combined_returns)\n",
    "sp_sharpe = utils.compute_sharpe(sp_ret)\n",
    "\n",
    "# Plot\n",
    "combined.plot(figsize=(10, 6), title=f'Cumulative Returns: Strategy (Sharpe={strat_sharpe:.2f}) vs S&P 500 (Sharpe={sp_sharpe:.2f}) ')\n",
    "plt.ylabel('Cumulative Return')\n",
    "plt.grid(True)\n",
    "plt.show()"
   ]
  },
  {
   "cell_type": "markdown",
   "metadata": {},
   "source": [
    "# ------------------------------------------------------------------------------------------------------------------"
   ]
  },
  {
   "cell_type": "markdown",
   "metadata": {},
   "source": [
    "# Let's add firm characteristics"
   ]
  },
  {
   "cell_type": "code",
   "execution_count": 7,
   "metadata": {},
   "outputs": [
    {
     "name": "stderr",
     "output_type": "stream",
     "text": [
      "Processing PERMNOs: 100%|████████████████| 14465/14465 [00:34<00:00, 414.21it/s]\n"
     ]
    },
    {
     "data": {
      "text/html": [
       "<div>\n",
       "<style scoped>\n",
       "    .dataframe tbody tr th:only-of-type {\n",
       "        vertical-align: middle;\n",
       "    }\n",
       "\n",
       "    .dataframe tbody tr th {\n",
       "        vertical-align: top;\n",
       "    }\n",
       "\n",
       "    .dataframe thead th {\n",
       "        text-align: right;\n",
       "    }\n",
       "</style>\n",
       "<table border=\"1\" class=\"dataframe\">\n",
       "  <thead>\n",
       "    <tr style=\"text-align: right;\">\n",
       "      <th></th>\n",
       "      <th>date</th>\n",
       "      <th>PERMCO</th>\n",
       "      <th>PERMNO</th>\n",
       "      <th>SICCD</th>\n",
       "      <th>NAICS</th>\n",
       "      <th>DlyRet</th>\n",
       "      <th>sprtrn</th>\n",
       "      <th>sprtrn_lag1</th>\n",
       "      <th>year_month</th>\n",
       "      <th>pls_index</th>\n",
       "    </tr>\n",
       "  </thead>\n",
       "  <tbody>\n",
       "    <tr>\n",
       "      <th>0</th>\n",
       "      <td>2000-01-31</td>\n",
       "      <td>7975</td>\n",
       "      <td>10025</td>\n",
       "      <td>3070</td>\n",
       "      <td>0</td>\n",
       "      <td>0.025126</td>\n",
       "      <td>0.025218</td>\n",
       "      <td>0.000000</td>\n",
       "      <td>2000-01</td>\n",
       "      <td>-2.952353</td>\n",
       "    </tr>\n",
       "    <tr>\n",
       "      <th>1</th>\n",
       "      <td>2000-02-01</td>\n",
       "      <td>7975</td>\n",
       "      <td>10025</td>\n",
       "      <td>3070</td>\n",
       "      <td>0</td>\n",
       "      <td>0.019608</td>\n",
       "      <td>0.010628</td>\n",
       "      <td>0.025218</td>\n",
       "      <td>2000-02</td>\n",
       "      <td>-2.250024</td>\n",
       "    </tr>\n",
       "    <tr>\n",
       "      <th>2</th>\n",
       "      <td>2000-02-02</td>\n",
       "      <td>7975</td>\n",
       "      <td>10025</td>\n",
       "      <td>3070</td>\n",
       "      <td>0</td>\n",
       "      <td>0.030769</td>\n",
       "      <td>-0.000114</td>\n",
       "      <td>0.010628</td>\n",
       "      <td>2000-02</td>\n",
       "      <td>-2.250024</td>\n",
       "    </tr>\n",
       "    <tr>\n",
       "      <th>3</th>\n",
       "      <td>2000-02-03</td>\n",
       "      <td>7975</td>\n",
       "      <td>10025</td>\n",
       "      <td>3070</td>\n",
       "      <td>0</td>\n",
       "      <td>0.000000</td>\n",
       "      <td>0.011248</td>\n",
       "      <td>-0.000114</td>\n",
       "      <td>2000-02</td>\n",
       "      <td>-2.250024</td>\n",
       "    </tr>\n",
       "    <tr>\n",
       "      <th>4</th>\n",
       "      <td>2000-02-04</td>\n",
       "      <td>7975</td>\n",
       "      <td>10025</td>\n",
       "      <td>3070</td>\n",
       "      <td>0</td>\n",
       "      <td>0.007463</td>\n",
       "      <td>-0.000421</td>\n",
       "      <td>0.011248</td>\n",
       "      <td>2000-02</td>\n",
       "      <td>-2.250024</td>\n",
       "    </tr>\n",
       "    <tr>\n",
       "      <th>...</th>\n",
       "      <td>...</td>\n",
       "      <td>...</td>\n",
       "      <td>...</td>\n",
       "      <td>...</td>\n",
       "      <td>...</td>\n",
       "      <td>...</td>\n",
       "      <td>...</td>\n",
       "      <td>...</td>\n",
       "      <td>...</td>\n",
       "      <td>...</td>\n",
       "    </tr>\n",
       "    <tr>\n",
       "      <th>1568407</th>\n",
       "      <td>2000-12-06</td>\n",
       "      <td>18404</td>\n",
       "      <td>87759</td>\n",
       "      <td>3860</td>\n",
       "      <td>0</td>\n",
       "      <td>0.006250</td>\n",
       "      <td>-0.018220</td>\n",
       "      <td>0.038922</td>\n",
       "      <td>2000-12</td>\n",
       "      <td>-3.378646</td>\n",
       "    </tr>\n",
       "    <tr>\n",
       "      <th>1568408</th>\n",
       "      <td>2000-12-07</td>\n",
       "      <td>18404</td>\n",
       "      <td>87759</td>\n",
       "      <td>3860</td>\n",
       "      <td>0</td>\n",
       "      <td>-0.031056</td>\n",
       "      <td>-0.005853</td>\n",
       "      <td>-0.018220</td>\n",
       "      <td>2000-12</td>\n",
       "      <td>-3.378646</td>\n",
       "    </tr>\n",
       "    <tr>\n",
       "      <th>1568409</th>\n",
       "      <td>2000-12-08</td>\n",
       "      <td>18404</td>\n",
       "      <td>87759</td>\n",
       "      <td>3860</td>\n",
       "      <td>0</td>\n",
       "      <td>0.000000</td>\n",
       "      <td>0.019605</td>\n",
       "      <td>-0.005853</td>\n",
       "      <td>2000-12</td>\n",
       "      <td>-3.378646</td>\n",
       "    </tr>\n",
       "    <tr>\n",
       "      <th>1568410</th>\n",
       "      <td>2000-12-11</td>\n",
       "      <td>18404</td>\n",
       "      <td>87759</td>\n",
       "      <td>3860</td>\n",
       "      <td>0</td>\n",
       "      <td>0.000000</td>\n",
       "      <td>0.007526</td>\n",
       "      <td>0.019605</td>\n",
       "      <td>2000-12</td>\n",
       "      <td>-3.378646</td>\n",
       "    </tr>\n",
       "    <tr>\n",
       "      <th>1568411</th>\n",
       "      <td>2000-12-12</td>\n",
       "      <td>18404</td>\n",
       "      <td>87759</td>\n",
       "      <td>3860</td>\n",
       "      <td>0</td>\n",
       "      <td>0.012821</td>\n",
       "      <td>-0.006535</td>\n",
       "      <td>0.007526</td>\n",
       "      <td>2000-12</td>\n",
       "      <td>-3.378646</td>\n",
       "    </tr>\n",
       "  </tbody>\n",
       "</table>\n",
       "<p>1568412 rows × 10 columns</p>\n",
       "</div>"
      ],
      "text/plain": [
       "              date  PERMCO  PERMNO  SICCD  NAICS    DlyRet    sprtrn  \\\n",
       "0       2000-01-31    7975   10025   3070      0  0.025126  0.025218   \n",
       "1       2000-02-01    7975   10025   3070      0  0.019608  0.010628   \n",
       "2       2000-02-02    7975   10025   3070      0  0.030769 -0.000114   \n",
       "3       2000-02-03    7975   10025   3070      0  0.000000  0.011248   \n",
       "4       2000-02-04    7975   10025   3070      0  0.007463 -0.000421   \n",
       "...            ...     ...     ...    ...    ...       ...       ...   \n",
       "1568407 2000-12-06   18404   87759   3860      0  0.006250 -0.018220   \n",
       "1568408 2000-12-07   18404   87759   3860      0 -0.031056 -0.005853   \n",
       "1568409 2000-12-08   18404   87759   3860      0  0.000000  0.019605   \n",
       "1568410 2000-12-11   18404   87759   3860      0  0.000000  0.007526   \n",
       "1568411 2000-12-12   18404   87759   3860      0  0.012821 -0.006535   \n",
       "\n",
       "         sprtrn_lag1 year_month  pls_index  \n",
       "0           0.000000    2000-01  -2.952353  \n",
       "1           0.025218    2000-02  -2.250024  \n",
       "2           0.010628    2000-02  -2.250024  \n",
       "3          -0.000114    2000-02  -2.250024  \n",
       "4           0.011248    2000-02  -2.250024  \n",
       "...              ...        ...        ...  \n",
       "1568407     0.038922    2000-12  -3.378646  \n",
       "1568408    -0.018220    2000-12  -3.378646  \n",
       "1568409    -0.005853    2000-12  -3.378646  \n",
       "1568410     0.019605    2000-12  -3.378646  \n",
       "1568411     0.007526    2000-12  -3.378646  \n",
       "\n",
       "[1568412 rows x 10 columns]"
      ]
     },
     "execution_count": 7,
     "metadata": {},
     "output_type": "execute_result"
    }
   ],
   "source": [
    "index = pd.read_csv('Predictors/FirmCharacIndex.csv')\n",
    "gc.collect()\n",
    "merged_data = utils.memory_efficient_merge(index, daily)\n",
    "merged_data = merged_data.drop(columns=['PERMNO_y'])\n",
    "merged_data = merged_data.rename(columns={'PERMNO_x': 'PERMNO'})\n",
    "merged_data"
   ]
  },
  {
   "cell_type": "code",
   "execution_count": 8,
   "metadata": {},
   "outputs": [
    {
     "name": "stdout",
     "output_type": "stream",
     "text": [
      "Training from 2000-01 to 2000-06. Testing on 2000-07.\n",
      "['sprtrn_lag1', 'pls_index', 'DlyRet_lag1', 'DlyRet_roll_10', 'DlyRet_roll_20', 'DlyRet_roll_30']\n",
      "Starting training with 372 train batches, 35 test batches\n"
     ]
    },
    {
     "name": "stderr",
     "output_type": "stream",
     "text": [
      "Training:  20%|███████                            | 1/5 [00:14<00:59, 14.83s/it]"
     ]
    },
    {
     "name": "stdout",
     "output_type": "stream",
     "text": [
      "Epoch 1/5, Loss: -0.0861, Train fit: 0.0201, Test fit: 0.0117, Avg Weight: 0.0002, Max Weight: 0.0063\n"
     ]
    },
    {
     "name": "stderr",
     "output_type": "stream",
     "text": [
      "Training:  60%|█████████████████████              | 3/5 [00:41<00:27, 13.64s/it]"
     ]
    },
    {
     "name": "stdout",
     "output_type": "stream",
     "text": [
      "Epoch 3/5, Loss: -0.1082, Train fit: 0.0447, Test fit: 0.0255, Avg Weight: 0.0002, Max Weight: 0.0177\n"
     ]
    },
    {
     "name": "stderr",
     "output_type": "stream",
     "text": [
      "Training: 100%|███████████████████████████████████| 5/5 [01:09<00:00, 13.99s/it]"
     ]
    },
    {
     "name": "stdout",
     "output_type": "stream",
     "text": [
      "Epoch 5/5, Loss: -0.1282, Train fit: 0.0579, Test fit: 0.0372, Avg Weight: 0.0002, Max Weight: 0.0157\n",
      "Training completed! Best test Sharpe ratio: 0.0372\n",
      "Training from 2000-02 to 2000-07. Testing on 2000-08.\n"
     ]
    },
    {
     "name": "stderr",
     "output_type": "stream",
     "text": [
      "\n"
     ]
    },
    {
     "name": "stdout",
     "output_type": "stream",
     "text": [
      "['sprtrn_lag1', 'pls_index', 'DlyRet_lag1', 'DlyRet_roll_10', 'DlyRet_roll_20', 'DlyRet_roll_30']\n",
      "Starting training with 438 train batches, 41 test batches\n"
     ]
    },
    {
     "name": "stderr",
     "output_type": "stream",
     "text": [
      "Training:  20%|███████                            | 1/5 [00:16<01:07, 16.90s/it]"
     ]
    },
    {
     "name": "stdout",
     "output_type": "stream",
     "text": [
      "Epoch 1/5, Loss: -0.0869, Train fit: 0.0167, Test fit: 0.0499, Avg Weight: 0.0003, Max Weight: 0.0222\n"
     ]
    },
    {
     "name": "stderr",
     "output_type": "stream",
     "text": [
      "Training:  60%|█████████████████████              | 3/5 [00:52<00:35, 17.70s/it]"
     ]
    },
    {
     "name": "stdout",
     "output_type": "stream",
     "text": [
      "Epoch 3/5, Loss: -0.1189, Train fit: 0.0427, Test fit: 0.0666, Avg Weight: 0.0003, Max Weight: 0.0400\n"
     ]
    },
    {
     "name": "stderr",
     "output_type": "stream",
     "text": [
      "Training: 100%|███████████████████████████████████| 5/5 [01:23<00:00, 16.72s/it]"
     ]
    },
    {
     "name": "stdout",
     "output_type": "stream",
     "text": [
      "Epoch 5/5, Loss: -0.1297, Train fit: 0.0540, Test fit: 0.0659, Avg Weight: 0.0003, Max Weight: 0.0400\n",
      "Training completed! Best test Sharpe ratio: 0.0666\n",
      "Training from 2000-03 to 2000-08. Testing on 2000-09.\n"
     ]
    },
    {
     "name": "stderr",
     "output_type": "stream",
     "text": [
      "\n"
     ]
    },
    {
     "name": "stdout",
     "output_type": "stream",
     "text": [
      "['sprtrn_lag1', 'pls_index', 'DlyRet_lag1', 'DlyRet_roll_10', 'DlyRet_roll_20', 'DlyRet_roll_30']\n",
      "Starting training with 448 train batches, 35 test batches\n"
     ]
    },
    {
     "name": "stderr",
     "output_type": "stream",
     "text": [
      "Training:  20%|███████                            | 1/5 [00:17<01:11, 17.92s/it]"
     ]
    },
    {
     "name": "stdout",
     "output_type": "stream",
     "text": [
      "Epoch 1/5, Loss: -0.0927, Train fit: 0.0229, Test fit: -0.0095, Avg Weight: 0.0002, Max Weight: 0.0014\n"
     ]
    },
    {
     "name": "stderr",
     "output_type": "stream",
     "text": [
      "Training:  60%|█████████████████████              | 3/5 [00:54<00:36, 18.36s/it]"
     ]
    },
    {
     "name": "stdout",
     "output_type": "stream",
     "text": [
      "Epoch 3/5, Loss: -0.1265, Train fit: 0.0506, Test fit: 0.0215, Avg Weight: 0.0002, Max Weight: 0.0027\n"
     ]
    },
    {
     "name": "stderr",
     "output_type": "stream",
     "text": [
      "Training: 100%|███████████████████████████████████| 5/5 [01:29<00:00, 17.92s/it]"
     ]
    },
    {
     "name": "stdout",
     "output_type": "stream",
     "text": [
      "Epoch 5/5, Loss: -0.1364, Train fit: 0.0564, Test fit: 0.0284, Avg Weight: 0.0002, Max Weight: 0.0028\n",
      "Training completed! Best test Sharpe ratio: 0.0284\n",
      "Training from 2000-04 to 2000-09. Testing on 2000-10.\n"
     ]
    },
    {
     "name": "stderr",
     "output_type": "stream",
     "text": [
      "\n"
     ]
    },
    {
     "name": "stdout",
     "output_type": "stream",
     "text": [
      "['sprtrn_lag1', 'pls_index', 'DlyRet_lag1', 'DlyRet_roll_10', 'DlyRet_roll_20', 'DlyRet_roll_30']\n",
      "Starting training with 438 train batches, 38 test batches\n"
     ]
    },
    {
     "name": "stderr",
     "output_type": "stream",
     "text": [
      "Training:  20%|███████                            | 1/5 [00:14<00:59, 14.80s/it]"
     ]
    },
    {
     "name": "stdout",
     "output_type": "stream",
     "text": [
      "Epoch 1/5, Loss: -0.0841, Train fit: 0.0170, Test fit: -0.0115, Avg Weight: 0.0002, Max Weight: 0.0029\n"
     ]
    },
    {
     "name": "stderr",
     "output_type": "stream",
     "text": [
      "Training:  60%|█████████████████████              | 3/5 [00:49<00:33, 16.96s/it]"
     ]
    },
    {
     "name": "stdout",
     "output_type": "stream",
     "text": [
      "Epoch 3/5, Loss: -0.1196, Train fit: 0.0524, Test fit: 0.0374, Avg Weight: 0.0002, Max Weight: 0.0031\n"
     ]
    },
    {
     "name": "stderr",
     "output_type": "stream",
     "text": [
      "Training: 100%|███████████████████████████████████| 5/5 [01:23<00:00, 16.69s/it]"
     ]
    },
    {
     "name": "stdout",
     "output_type": "stream",
     "text": [
      "Epoch 5/5, Loss: -0.1295, Train fit: 0.0570, Test fit: 0.0435, Avg Weight: 0.0002, Max Weight: 0.0036\n",
      "Training completed! Best test Sharpe ratio: 0.0435\n",
      "Training from 2000-05 to 2000-10. Testing on 2000-11.\n"
     ]
    },
    {
     "name": "stderr",
     "output_type": "stream",
     "text": [
      "\n"
     ]
    },
    {
     "name": "stdout",
     "output_type": "stream",
     "text": [
      "['sprtrn_lag1', 'pls_index', 'DlyRet_lag1', 'DlyRet_roll_10', 'DlyRet_roll_20', 'DlyRet_roll_30']\n",
      "Starting training with 447 train batches, 36 test batches\n"
     ]
    },
    {
     "name": "stderr",
     "output_type": "stream",
     "text": [
      "Training:  20%|███████                            | 1/5 [00:16<01:04, 16.05s/it]"
     ]
    },
    {
     "name": "stdout",
     "output_type": "stream",
     "text": [
      "Epoch 1/5, Loss: -0.0848, Train fit: 0.0323, Test fit: -0.0366, Avg Weight: 0.0002, Max Weight: 0.0019\n"
     ]
    },
    {
     "name": "stderr",
     "output_type": "stream",
     "text": [
      "Training:  60%|█████████████████████              | 3/5 [00:47<00:31, 15.71s/it]"
     ]
    },
    {
     "name": "stdout",
     "output_type": "stream",
     "text": [
      "Epoch 3/5, Loss: -0.1269, Train fit: 0.0565, Test fit: 0.0023, Avg Weight: 0.0002, Max Weight: 0.0027\n"
     ]
    },
    {
     "name": "stderr",
     "output_type": "stream",
     "text": [
      "Training: 100%|███████████████████████████████████| 5/5 [01:16<00:00, 15.38s/it]"
     ]
    },
    {
     "name": "stdout",
     "output_type": "stream",
     "text": [
      "Epoch 5/5, Loss: -0.1331, Train fit: 0.0584, Test fit: 0.0102, Avg Weight: 0.0002, Max Weight: 0.0025\n",
      "Training completed! Best test Sharpe ratio: 0.0102\n",
      "Training from 2000-06 to 2000-11. Testing on 2000-12.\n"
     ]
    },
    {
     "name": "stderr",
     "output_type": "stream",
     "text": [
      "\n"
     ]
    },
    {
     "name": "stdout",
     "output_type": "stream",
     "text": [
      "['sprtrn_lag1', 'pls_index', 'DlyRet_lag1', 'DlyRet_roll_10', 'DlyRet_roll_20', 'DlyRet_roll_30']\n",
      "Starting training with 442 train batches, 15 test batches\n"
     ]
    },
    {
     "name": "stderr",
     "output_type": "stream",
     "text": [
      "Training:  20%|███████                            | 1/5 [00:14<00:56, 14.10s/it]"
     ]
    },
    {
     "name": "stdout",
     "output_type": "stream",
     "text": [
      "Epoch 1/5, Loss: -0.0759, Train fit: 0.0089, Test fit: 0.0725, Avg Weight: 0.0003, Max Weight: 0.0044\n"
     ]
    },
    {
     "name": "stderr",
     "output_type": "stream",
     "text": [
      "Training:  60%|█████████████████████              | 3/5 [00:45<00:30, 15.47s/it]"
     ]
    },
    {
     "name": "stdout",
     "output_type": "stream",
     "text": [
      "Epoch 3/5, Loss: -0.1133, Train fit: 0.0490, Test fit: 0.0853, Avg Weight: 0.0003, Max Weight: 0.0047\n"
     ]
    },
    {
     "name": "stderr",
     "output_type": "stream",
     "text": [
      "Training: 100%|███████████████████████████████████| 5/5 [01:16<00:00, 15.24s/it]"
     ]
    },
    {
     "name": "stdout",
     "output_type": "stream",
     "text": [
      "Epoch 5/5, Loss: -0.1225, Train fit: 0.0522, Test fit: 0.0916, Avg Weight: 0.0003, Max Weight: 0.0049\n",
      "Training completed! Best test Sharpe ratio: 0.0916\n"
     ]
    },
    {
     "name": "stderr",
     "output_type": "stream",
     "text": [
      "\n"
     ]
    }
   ],
   "source": [
    "# Keeping track of the return over all the data\n",
    "reload(utils)\n",
    "all_strategy_returns = []\n",
    "\n",
    "for i in range(0, len(unique_months) - 6):\n",
    "\n",
    "    # Train on 6 months of data and test on 1 month\n",
    "    train_start = unique_months.iloc[i]\n",
    "    train_end = unique_months.iloc[i+5]\n",
    "    test_month = unique_months.iloc[i+6]\n",
    "\n",
    "    print(f'Training from {train_start} to {train_end}. Testing on {test_month}.')\n",
    "    \n",
    "    # Filter data\n",
    "    train_mask = (merged_data['year_month'] >= train_start) & (merged_data['year_month'] <= train_end)\n",
    "    test_mask = merged_data['year_month'] == test_month\n",
    "\n",
    "    tr_df = merged_data[train_mask].copy()\n",
    "    te_df = merged_data[test_mask].copy()\n",
    "\n",
    "    # Prepare the data: construct lagged returns, rolling window averages\n",
    "    train_df, test_df, features, cat_features = utils.prepare_data(tr_df, te_df, lagged_num=1, rolling_window=True)\n",
    "   \n",
    "    epochs = 5\n",
    "    max_weight = 0.05  # No stock >5% weight\n",
    "    diversification_lambda = 0.01  # Strength of penalty\n",
    "    temperature = 1.0  # Softmax temperature (lower = more diversification)\n",
    "    train_losses, test_losses, train_sharpes, test_sharpes, raw_predictions, weights = utils.train_DNN(train_df, test_df, features, cat_features, \n",
    "                                                                                                   epochs=epochs, max_weight=max_weight, \n",
    "                                                                                                   diversification_lambda=diversification_lambda, \n",
    "                                                                                                   temperature=temperature)\n",
    "    # Deduct transaction costs \n",
    "    TC_RATE = 0.003 # 0.30% of traded notional value\n",
    "    alpha = 100\n",
    "\n",
    "    test_df['weight'] = weights.values\n",
    "    test_df['weight_change'] = np.abs(test_df['weight'].diff().fillna(0.0))\n",
    "    test_df['tc_cost'] = test_df['weight_change'].apply(lambda x: utils.progressive_cost(x, base_tc=TC_RATE, alpha=alpha))\n",
    "    test_df['strategy_return'] = test_df['weight'] * test_df['DlyRet'] - test_df['tc_cost']\n",
    "    mean_daily_returns = test_df.groupby('date')['strategy_return'].sum()\n",
    "\n",
    "    all_strategy_returns.append(mean_daily_returns)\n",
    "    gc.collect() # Memory clean-up\n",
    "\n",
    "# Concatenate all windows into one Series\n",
    "combined_returns = pd.concat(all_strategy_returns)\n",
    "\n"
   ]
  },
  {
   "cell_type": "code",
   "execution_count": 9,
   "metadata": {},
   "outputs": [
    {
     "data": {
      "image/png": "[encoded data removed]",
      "text/plain": [
       "<Figure size 1000x600 with 1 Axes>"
      ]
     },
     "metadata": {},
     "output_type": "display_data"
    }
   ],
   "source": [
    "# Plot the cumulative returns of the strategy and compare with the S&P 500 index\n",
    "cumulative_returns = (1 + combined_returns).cumprod() \n",
    "sp_ret = daily.groupby('date')['sprtrn'].mean()\n",
    "\n",
    "strat_start = unique_months.iloc[6].to_timestamp()\n",
    "sp_ret = sp_ret.loc[strat_start:]\n",
    "\n",
    "cumulative_sp500 = (1 + sp_ret).cumprod()\n",
    "\n",
    "# Combine into a single DataFrame for easy plotting\n",
    "combined = pd.DataFrame({\n",
    "    'Strategy': cumulative_returns,\n",
    "    'S&P 500': cumulative_sp500\n",
    "})\n",
    "\n",
    "# Sharpe ratio\n",
    "strat_sharpe = utils.compute_sharpe(combined_returns)\n",
    "sp_sharpe = utils.compute_sharpe(sp_ret)\n",
    "\n",
    "# Plot\n",
    "combined.plot(figsize=(10, 6), title=f'Cumulative Returns: Strategy (Sharpe={strat_sharpe:.2f}) vs S&P 500 (Sharpe={sp_sharpe:.2f}) ')\n",
    "plt.ylabel('Cumulative Return')\n",
    "plt.grid(True)\n",
    "plt.show()"
   ]
  },
  {
   "cell_type": "markdown",
   "metadata": {},
   "source": [
    "# Let's use linear rank loss instead"
   ]
  },
  {
   "cell_type": "code",
   "execution_count": 10,
   "metadata": {},
   "outputs": [
    {
     "name": "stdout",
     "output_type": "stream",
     "text": [
      "Training from 2000-01 to 2000-06. Testing on 2000-07.\n",
      "['sprtrn_lag1', 'pls_index', 'DlyRet_lag1', 'DlyRet_roll_10', 'DlyRet_roll_20', 'DlyRet_roll_30']\n",
      "Starting training with 372 train batches, 35 test batches\n"
     ]
    },
    {
     "name": "stderr",
     "output_type": "stream",
     "text": [
      "Training:  17%|█████▊                             | 1/6 [00:26<02:14, 27.00s/it]"
     ]
    },
    {
     "name": "stdout",
     "output_type": "stream",
     "text": [
      "Epoch 1/6, Loss: -0.0054, Train fit: 0.0122, Test fit: 0.0084, Avg Weight: 0.0002, Max Weight: 0.0119\n"
     ]
    },
    {
     "name": "stderr",
     "output_type": "stream",
     "text": [
      "Training:  50%|█████████████████▌                 | 3/6 [01:15<01:13, 24.64s/it]"
     ]
    },
    {
     "name": "stdout",
     "output_type": "stream",
     "text": [
      "Epoch 3/6, Loss: -0.0111, Train fit: 0.0147, Test fit: 0.0125, Avg Weight: 0.0002, Max Weight: 0.0120\n"
     ]
    },
    {
     "name": "stderr",
     "output_type": "stream",
     "text": [
      "Training:  83%|█████████████████████████████▏     | 5/6 [02:05<00:24, 24.82s/it]"
     ]
    },
    {
     "name": "stdout",
     "output_type": "stream",
     "text": [
      "Epoch 5/6, Loss: -0.0134, Train fit: 0.0187, Test fit: 0.0133, Avg Weight: 0.0002, Max Weight: 0.0120\n"
     ]
    },
    {
     "name": "stderr",
     "output_type": "stream",
     "text": [
      "Training: 100%|███████████████████████████████████| 6/6 [02:30<00:00, 25.04s/it]"
     ]
    },
    {
     "name": "stdout",
     "output_type": "stream",
     "text": [
      "Epoch 6/6, Loss: -0.0175, Train fit: 0.0304, Test fit: 0.0197, Avg Weight: 0.0002, Max Weight: 0.0120\n",
      "Training completed! Best test Sharpe ratio: 0.0197\n",
      "Training from 2000-02 to 2000-07. Testing on 2000-08.\n"
     ]
    },
    {
     "name": "stderr",
     "output_type": "stream",
     "text": [
      "\n"
     ]
    },
    {
     "name": "stdout",
     "output_type": "stream",
     "text": [
      "['sprtrn_lag1', 'pls_index', 'DlyRet_lag1', 'DlyRet_roll_10', 'DlyRet_roll_20', 'DlyRet_roll_30']\n",
      "Starting training with 438 train batches, 41 test batches\n"
     ]
    },
    {
     "name": "stderr",
     "output_type": "stream",
     "text": [
      "Training:  17%|█████▊                             | 1/6 [00:28<02:23, 28.78s/it]"
     ]
    },
    {
     "name": "stdout",
     "output_type": "stream",
     "text": [
      "Epoch 1/6, Loss: -0.0068, Train fit: 0.0122, Test fit: 0.0311, Avg Weight: 0.0003, Max Weight: 0.1334\n"
     ]
    },
    {
     "name": "stderr",
     "output_type": "stream",
     "text": [
      "Training:  50%|█████████████████▌                 | 3/6 [01:27<01:27, 29.07s/it]"
     ]
    },
    {
     "name": "stdout",
     "output_type": "stream",
     "text": [
      "Epoch 3/6, Loss: -0.0121, Train fit: 0.0149, Test fit: 0.0288, Avg Weight: 0.0003, Max Weight: 0.1346\n"
     ]
    },
    {
     "name": "stderr",
     "output_type": "stream",
     "text": [
      "Training:  83%|█████████████████████████████▏     | 5/6 [02:23<00:28, 28.38s/it]"
     ]
    },
    {
     "name": "stdout",
     "output_type": "stream",
     "text": [
      "Epoch 5/6, Loss: -0.0164, Train fit: 0.0260, Test fit: 0.0401, Avg Weight: 0.0003, Max Weight: 0.1385\n"
     ]
    },
    {
     "name": "stderr",
     "output_type": "stream",
     "text": [
      "Training: 100%|███████████████████████████████████| 6/6 [02:55<00:00, 29.32s/it]"
     ]
    },
    {
     "name": "stdout",
     "output_type": "stream",
     "text": [
      "Epoch 6/6, Loss: -0.0240, Train fit: 0.0305, Test fit: 0.0312, Avg Weight: 0.0003, Max Weight: 0.1385\n",
      "Training completed! Best test Sharpe ratio: 0.0401\n",
      "Training from 2000-03 to 2000-08. Testing on 2000-09.\n"
     ]
    },
    {
     "name": "stderr",
     "output_type": "stream",
     "text": [
      "\n"
     ]
    },
    {
     "name": "stdout",
     "output_type": "stream",
     "text": [
      "['sprtrn_lag1', 'pls_index', 'DlyRet_lag1', 'DlyRet_roll_10', 'DlyRet_roll_20', 'DlyRet_roll_30']\n",
      "Starting training with 448 train batches, 35 test batches\n"
     ]
    },
    {
     "name": "stderr",
     "output_type": "stream",
     "text": [
      "Training:  17%|█████▊                             | 1/6 [00:26<02:10, 26.05s/it]"
     ]
    },
    {
     "name": "stdout",
     "output_type": "stream",
     "text": [
      "Epoch 1/6, Loss: -0.0108, Train fit: 0.0177, Test fit: 0.0089, Avg Weight: 0.0002, Max Weight: 0.0052\n"
     ]
    },
    {
     "name": "stderr",
     "output_type": "stream",
     "text": [
      "Training:  50%|█████████████████▌                 | 3/6 [01:27<01:28, 29.63s/it]"
     ]
    },
    {
     "name": "stdout",
     "output_type": "stream",
     "text": [
      "Epoch 3/6, Loss: -0.0160, Train fit: 0.0230, Test fit: 0.0072, Avg Weight: 0.0002, Max Weight: 0.0052\n"
     ]
    },
    {
     "name": "stderr",
     "output_type": "stream",
     "text": [
      "Training:  83%|█████████████████████████████▏     | 5/6 [02:25<00:29, 29.14s/it]"
     ]
    },
    {
     "name": "stdout",
     "output_type": "stream",
     "text": [
      "Epoch 5/6, Loss: -0.0290, Train fit: 0.0354, Test fit: 0.0245, Avg Weight: 0.0002, Max Weight: 0.0052\n"
     ]
    },
    {
     "name": "stderr",
     "output_type": "stream",
     "text": [
      "Training: 100%|███████████████████████████████████| 6/6 [02:55<00:00, 29.18s/it]"
     ]
    },
    {
     "name": "stdout",
     "output_type": "stream",
     "text": [
      "Epoch 6/6, Loss: -0.0352, Train fit: 0.0493, Test fit: 0.0357, Avg Weight: 0.0002, Max Weight: 0.0052\n",
      "Training completed! Best test Sharpe ratio: 0.0357\n",
      "Training from 2000-04 to 2000-09. Testing on 2000-10.\n"
     ]
    },
    {
     "name": "stderr",
     "output_type": "stream",
     "text": [
      "\n"
     ]
    },
    {
     "name": "stdout",
     "output_type": "stream",
     "text": [
      "['sprtrn_lag1', 'pls_index', 'DlyRet_lag1', 'DlyRet_roll_10', 'DlyRet_roll_20', 'DlyRet_roll_30']\n",
      "Starting training with 438 train batches, 38 test batches\n"
     ]
    },
    {
     "name": "stderr",
     "output_type": "stream",
     "text": [
      "Training:  17%|█████▊                             | 1/6 [00:30<02:31, 30.27s/it]"
     ]
    },
    {
     "name": "stdout",
     "output_type": "stream",
     "text": [
      "Epoch 1/6, Loss: -0.0081, Train fit: 0.0155, Test fit: -0.0005, Avg Weight: 0.0002, Max Weight: 0.0145\n"
     ]
    },
    {
     "name": "stderr",
     "output_type": "stream",
     "text": [
      "Training:  50%|█████████████████▌                 | 3/6 [01:28<01:28, 29.61s/it]"
     ]
    },
    {
     "name": "stdout",
     "output_type": "stream",
     "text": [
      "Epoch 3/6, Loss: -0.0159, Train fit: 0.0263, Test fit: 0.0092, Avg Weight: 0.0002, Max Weight: 0.0145\n"
     ]
    },
    {
     "name": "stderr",
     "output_type": "stream",
     "text": [
      "Training:  83%|█████████████████████████████▏     | 5/6 [02:29<00:29, 29.98s/it]"
     ]
    },
    {
     "name": "stdout",
     "output_type": "stream",
     "text": [
      "Epoch 5/6, Loss: -0.0350, Train fit: 0.0514, Test fit: 0.0538, Avg Weight: 0.0002, Max Weight: 0.0145\n"
     ]
    },
    {
     "name": "stderr",
     "output_type": "stream",
     "text": [
      "Training: 100%|███████████████████████████████████| 6/6 [02:59<00:00, 29.91s/it]"
     ]
    },
    {
     "name": "stdout",
     "output_type": "stream",
     "text": [
      "Epoch 6/6, Loss: -0.0451, Train fit: 0.0544, Test fit: 0.0544, Avg Weight: 0.0002, Max Weight: 0.0145\n",
      "Training completed! Best test Sharpe ratio: 0.0544\n",
      "Training from 2000-05 to 2000-10. Testing on 2000-11.\n"
     ]
    },
    {
     "name": "stderr",
     "output_type": "stream",
     "text": [
      "\n"
     ]
    },
    {
     "name": "stdout",
     "output_type": "stream",
     "text": [
      "['sprtrn_lag1', 'pls_index', 'DlyRet_lag1', 'DlyRet_roll_10', 'DlyRet_roll_20', 'DlyRet_roll_30']\n",
      "Starting training with 447 train batches, 36 test batches\n"
     ]
    },
    {
     "name": "stderr",
     "output_type": "stream",
     "text": [
      "Training:  17%|█████▊                             | 1/6 [00:27<02:19, 28.00s/it]"
     ]
    },
    {
     "name": "stdout",
     "output_type": "stream",
     "text": [
      "Epoch 1/6, Loss: -0.0083, Train fit: 0.0114, Test fit: -0.0084, Avg Weight: 0.0002, Max Weight: 0.0065\n"
     ]
    },
    {
     "name": "stderr",
     "output_type": "stream",
     "text": [
      "Training:  50%|█████████████████▌                 | 3/6 [01:29<01:30, 30.14s/it]"
     ]
    },
    {
     "name": "stdout",
     "output_type": "stream",
     "text": [
      "Epoch 3/6, Loss: -0.0105, Train fit: 0.0148, Test fit: -0.0058, Avg Weight: 0.0002, Max Weight: 0.0065\n"
     ]
    },
    {
     "name": "stderr",
     "output_type": "stream",
     "text": [
      "Training:  83%|█████████████████████████████▏     | 5/6 [02:37<00:32, 32.31s/it]"
     ]
    },
    {
     "name": "stdout",
     "output_type": "stream",
     "text": [
      "Epoch 5/6, Loss: -0.0138, Train fit: 0.0229, Test fit: 0.0014, Avg Weight: 0.0002, Max Weight: 0.0065\n"
     ]
    },
    {
     "name": "stderr",
     "output_type": "stream",
     "text": [
      "Training: 100%|███████████████████████████████████| 6/6 [03:15<00:00, 32.60s/it]"
     ]
    },
    {
     "name": "stdout",
     "output_type": "stream",
     "text": [
      "Epoch 6/6, Loss: -0.0225, Train fit: 0.0342, Test fit: 0.0120, Avg Weight: 0.0002, Max Weight: 0.0065\n",
      "Training completed! Best test Sharpe ratio: 0.0120\n",
      "Training from 2000-06 to 2000-11. Testing on 2000-12.\n"
     ]
    },
    {
     "name": "stderr",
     "output_type": "stream",
     "text": [
      "\n"
     ]
    },
    {
     "name": "stdout",
     "output_type": "stream",
     "text": [
      "['sprtrn_lag1', 'pls_index', 'DlyRet_lag1', 'DlyRet_roll_10', 'DlyRet_roll_20', 'DlyRet_roll_30']\n",
      "Starting training with 442 train batches, 15 test batches\n"
     ]
    },
    {
     "name": "stderr",
     "output_type": "stream",
     "text": [
      "Training:  17%|█████▊                             | 1/6 [00:27<02:16, 27.21s/it]"
     ]
    },
    {
     "name": "stdout",
     "output_type": "stream",
     "text": [
      "Epoch 1/6, Loss: -0.0033, Train fit: 0.0090, Test fit: 0.0267, Avg Weight: 0.0003, Max Weight: 0.0082\n"
     ]
    },
    {
     "name": "stderr",
     "output_type": "stream",
     "text": [
      "Training:  50%|█████████████████▌                 | 3/6 [01:22<01:23, 27.79s/it]"
     ]
    },
    {
     "name": "stdout",
     "output_type": "stream",
     "text": [
      "Epoch 3/6, Loss: -0.0128, Train fit: 0.0264, Test fit: 0.0420, Avg Weight: 0.0003, Max Weight: 0.0082\n"
     ]
    },
    {
     "name": "stderr",
     "output_type": "stream",
     "text": [
      "Training:  83%|█████████████████████████████▏     | 5/6 [02:18<00:27, 27.64s/it]"
     ]
    },
    {
     "name": "stdout",
     "output_type": "stream",
     "text": [
      "Epoch 5/6, Loss: -0.0423, Train fit: 0.0546, Test fit: 0.0765, Avg Weight: 0.0003, Max Weight: 0.0082\n"
     ]
    },
    {
     "name": "stderr",
     "output_type": "stream",
     "text": [
      "Training: 100%|███████████████████████████████████| 6/6 [02:45<00:00, 27.51s/it]"
     ]
    },
    {
     "name": "stdout",
     "output_type": "stream",
     "text": [
      "Epoch 6/6, Loss: -0.0479, Train fit: 0.0558, Test fit: 0.0769, Avg Weight: 0.0003, Max Weight: 0.0082\n",
      "Training completed! Best test Sharpe ratio: 0.0769\n"
     ]
    },
    {
     "name": "stderr",
     "output_type": "stream",
     "text": [
      "\n"
     ]
    }
   ],
   "source": [
    "# Keeping track of the return over all the data\n",
    "reload(utils)\n",
    "all_strategy_returns = []\n",
    "\n",
    "for i in range(0, len(unique_months) - 6):\n",
    "\n",
    "    # Train on 6 months of data and test on 1 month\n",
    "    train_start = unique_months.iloc[i]\n",
    "    train_end = unique_months.iloc[i+5]\n",
    "    test_month = unique_months.iloc[i+6]\n",
    "\n",
    "    print(f'Training from {train_start} to {train_end}. Testing on {test_month}.')\n",
    "    \n",
    "    # Filter data\n",
    "    train_mask = (merged_data['year_month'] >= train_start) & (merged_data['year_month'] <= train_end)\n",
    "    test_mask = merged_data['year_month'] == test_month\n",
    "\n",
    "    tr_df = merged_data[train_mask].copy()\n",
    "    te_df = merged_data[test_mask].copy()\n",
    "\n",
    "    # Prepare the data: construct lagged returns, rolling window averages\n",
    "    train_df, test_df, features, cat_features = utils.prepare_data(tr_df, te_df, lagged_num=1, rolling_window=True)\n",
    "   \n",
    "    epochs = 6 # Optimal trade-off for this strategy\n",
    "    train_losses, test_losses, train_sharpes, test_sharpes, raw_predictions, weights = utils.train_DNN(train_df, test_df, features, cat_features, \n",
    "                                                                                                   epochs=epochs, loss_function = 'lin_rank')\n",
    "    \n",
    "    # Deduct transaction costs \n",
    "    TC_RATE = 0.003 # 0.30% of traded notional value\n",
    "    alpha = 100\n",
    "\n",
    "    test_df['weight'] = weights.values\n",
    "    test_df['weight_change'] = np.abs(test_df['weight'].diff().fillna(0.0))\n",
    "    test_df['tc_cost'] = test_df['weight_change'].apply(lambda x: utils.progressive_cost(x, base_tc=TC_RATE, alpha=alpha))\n",
    "    test_df['strategy_return'] = test_df['weight'] * test_df['DlyRet'] - test_df['tc_cost']\n",
    "    mean_daily_returns = test_df.groupby('date')['strategy_return'].sum()\n",
    "\n",
    "    all_strategy_returns.append(mean_daily_returns)\n",
    "    gc.collect() # Memory clean-up\n",
    "\n",
    "# Concatenate all windows into one Series\n",
    "combined_returns = pd.concat(all_strategy_returns)\n",
    "\n"
   ]
  },
  {
   "cell_type": "code",
   "execution_count": 11,
   "metadata": {},
   "outputs": [
    {
     "data": {
      "image/png": "[encoded data removed]",
      "text/plain": [
       "<Figure size 1000x600 with 1 Axes>"
      ]
     },
     "metadata": {},
     "output_type": "display_data"
    }
   ],
   "source": [
    "# Plot the cumulative returns of the strategy and compare with the S&P 500 index\n",
    "cumulative_returns = (1 + combined_returns).cumprod() \n",
    "sp_ret = daily.groupby('date')['sprtrn'].mean()\n",
    "\n",
    "strat_start = unique_months.iloc[6].to_timestamp()\n",
    "sp_ret = sp_ret.loc[strat_start:]\n",
    "\n",
    "cumulative_sp500 = (1 + sp_ret).cumprod()\n",
    "\n",
    "# Combine into a single DataFrame for easy plotting\n",
    "combined = pd.DataFrame({\n",
    "    'Strategy': cumulative_returns,\n",
    "    'S&P 500': cumulative_sp500\n",
    "})\n",
    "\n",
    "# Sharpe ratio\n",
    "strat_sharpe = utils.compute_sharpe(combined_returns)\n",
    "sp_sharpe = utils.compute_sharpe(sp_ret)\n",
    "\n",
    "# Plot\n",
    "combined.plot(figsize=(10, 6), title=f'Cumulative Returns: Strategy (Sharpe={strat_sharpe:.2f}) vs S&P 500 (Sharpe={sp_sharpe:.2f}) ')\n",
    "plt.ylabel('Cumulative Return')\n",
    "plt.grid(True)\n",
    "plt.show()"
   ]
  },
  {
   "cell_type": "code",
   "execution_count": 12,
   "metadata": {},
   "outputs": [
    {
     "name": "stdout",
     "output_type": "stream",
     "text": [
      "Training from 2000-01 to 2000-06. Testing on 2000-07.\n",
      "['sprtrn_lag1', 'DlyRet_lag1', 'DlyRet_roll_10', 'DlyRet_roll_20', 'DlyRet_roll_30']\n",
      "Starting training with 435 train batches, 41 test batches\n"
     ]
    },
    {
     "name": "stderr",
     "output_type": "stream",
     "text": [
      "Training:  17%|█████▊                             | 1/6 [00:28<02:22, 28.59s/it]"
     ]
    },
    {
     "name": "stdout",
     "output_type": "stream",
     "text": [
      "Epoch 1/6, Loss: -0.0035, Train fit: 0.0144, Test fit: -0.0053, Avg Weight: 0.0002, Max Weight: 0.0077\n"
     ]
    },
    {
     "name": "stderr",
     "output_type": "stream",
     "text": [
      "Training:  50%|█████████████████▌                 | 3/6 [01:27<01:27, 29.14s/it]"
     ]
    },
    {
     "name": "stdout",
     "output_type": "stream",
     "text": [
      "Epoch 3/6, Loss: -0.0194, Train fit: 0.0258, Test fit: 0.0145, Avg Weight: 0.0002, Max Weight: 0.0077\n"
     ]
    },
    {
     "name": "stderr",
     "output_type": "stream",
     "text": [
      "Training:  83%|█████████████████████████████▏     | 5/6 [02:28<00:29, 29.86s/it]"
     ]
    },
    {
     "name": "stdout",
     "output_type": "stream",
     "text": [
      "Epoch 5/6, Loss: -0.0367, Train fit: 0.0493, Test fit: 0.0474, Avg Weight: 0.0002, Max Weight: 0.0077\n"
     ]
    },
    {
     "name": "stderr",
     "output_type": "stream",
     "text": [
      "Training: 100%|███████████████████████████████████| 6/6 [02:56<00:00, 29.36s/it]"
     ]
    },
    {
     "name": "stdout",
     "output_type": "stream",
     "text": [
      "Epoch 6/6, Loss: -0.0413, Train fit: 0.0517, Test fit: 0.0516, Avg Weight: 0.0002, Max Weight: 0.0077\n",
      "Training completed! Best test Sharpe ratio: 0.0516\n",
      "Training from 2000-02 to 2000-07. Testing on 2000-08.\n"
     ]
    },
    {
     "name": "stderr",
     "output_type": "stream",
     "text": [
      "\n"
     ]
    },
    {
     "name": "stdout",
     "output_type": "stream",
     "text": [
      "['sprtrn_lag1', 'DlyRet_lag1', 'DlyRet_roll_10', 'DlyRet_roll_20', 'DlyRet_roll_30']\n",
      "Starting training with 512 train batches, 47 test batches\n"
     ]
    },
    {
     "name": "stderr",
     "output_type": "stream",
     "text": [
      "Training:  17%|█████▊                             | 1/6 [00:34<02:50, 34.19s/it]"
     ]
    },
    {
     "name": "stdout",
     "output_type": "stream",
     "text": [
      "Epoch 1/6, Loss: -0.0022, Train fit: 0.0112, Test fit: 0.0327, Avg Weight: 0.0002, Max Weight: 0.0049\n"
     ]
    },
    {
     "name": "stderr",
     "output_type": "stream",
     "text": [
      "Training:  50%|█████████████████▌                 | 3/6 [01:42<01:42, 34.11s/it]"
     ]
    },
    {
     "name": "stdout",
     "output_type": "stream",
     "text": [
      "Epoch 3/6, Loss: -0.0155, Train fit: 0.0339, Test fit: 0.0438, Avg Weight: 0.0002, Max Weight: 0.0063\n"
     ]
    },
    {
     "name": "stderr",
     "output_type": "stream",
     "text": [
      "Training:  83%|█████████████████████████████▏     | 5/6 [02:45<00:32, 32.72s/it]"
     ]
    },
    {
     "name": "stdout",
     "output_type": "stream",
     "text": [
      "Epoch 5/6, Loss: -0.0408, Train fit: 0.0514, Test fit: 0.0638, Avg Weight: 0.0002, Max Weight: 0.0049\n"
     ]
    },
    {
     "name": "stderr",
     "output_type": "stream",
     "text": [
      "Training: 100%|███████████████████████████████████| 6/6 [03:17<00:00, 32.92s/it]"
     ]
    },
    {
     "name": "stdout",
     "output_type": "stream",
     "text": [
      "Epoch 6/6, Loss: -0.0444, Train fit: 0.0527, Test fit: 0.0639, Avg Weight: 0.0002, Max Weight: 0.0049\n",
      "Training completed! Best test Sharpe ratio: 0.0639\n",
      "Training from 2000-03 to 2000-08. Testing on 2000-09.\n"
     ]
    },
    {
     "name": "stderr",
     "output_type": "stream",
     "text": [
      "\n"
     ]
    },
    {
     "name": "stdout",
     "output_type": "stream",
     "text": [
      "['sprtrn_lag1', 'DlyRet_lag1', 'DlyRet_roll_10', 'DlyRet_roll_20', 'DlyRet_roll_30']\n",
      "Starting training with 525 train batches, 41 test batches\n"
     ]
    },
    {
     "name": "stderr",
     "output_type": "stream",
     "text": [
      "Training:  17%|█████▊                             | 1/6 [00:31<02:36, 31.20s/it]"
     ]
    },
    {
     "name": "stdout",
     "output_type": "stream",
     "text": [
      "Epoch 1/6, Loss: -0.0045, Train fit: 0.0198, Test fit: 0.0125, Avg Weight: 0.0002, Max Weight: 0.0073\n"
     ]
    },
    {
     "name": "stderr",
     "output_type": "stream",
     "text": [
      "Training:  50%|█████████████████▌                 | 3/6 [01:33<01:33, 31.28s/it]"
     ]
    },
    {
     "name": "stdout",
     "output_type": "stream",
     "text": [
      "Epoch 3/6, Loss: -0.0172, Train fit: 0.0228, Test fit: 0.0132, Avg Weight: 0.0002, Max Weight: 0.0073\n"
     ]
    },
    {
     "name": "stderr",
     "output_type": "stream",
     "text": [
      "Training:  83%|█████████████████████████████▏     | 5/6 [02:36<00:31, 31.39s/it]"
     ]
    },
    {
     "name": "stdout",
     "output_type": "stream",
     "text": [
      "Epoch 5/6, Loss: -0.0399, Train fit: 0.0474, Test fit: 0.0405, Avg Weight: 0.0002, Max Weight: 0.0073\n"
     ]
    },
    {
     "name": "stderr",
     "output_type": "stream",
     "text": [
      "Training: 100%|███████████████████████████████████| 6/6 [03:10<00:00, 31.76s/it]"
     ]
    },
    {
     "name": "stdout",
     "output_type": "stream",
     "text": [
      "Epoch 6/6, Loss: -0.0437, Train fit: 0.0518, Test fit: 0.0442, Avg Weight: 0.0002, Max Weight: 0.0073\n",
      "Training completed! Best test Sharpe ratio: 0.0442\n",
      "Training from 2000-04 to 2000-09. Testing on 2000-10.\n"
     ]
    },
    {
     "name": "stderr",
     "output_type": "stream",
     "text": [
      "\n"
     ]
    },
    {
     "name": "stdout",
     "output_type": "stream",
     "text": [
      "['sprtrn_lag1', 'DlyRet_lag1', 'DlyRet_roll_10', 'DlyRet_roll_20', 'DlyRet_roll_30']\n",
      "Starting training with 513 train batches, 45 test batches\n"
     ]
    },
    {
     "name": "stderr",
     "output_type": "stream",
     "text": [
      "Training:  17%|█████▊                             | 1/6 [00:29<02:27, 29.48s/it]"
     ]
    },
    {
     "name": "stdout",
     "output_type": "stream",
     "text": [
      "Epoch 1/6, Loss: -0.0059, Train fit: 0.0281, Test fit: 0.0144, Avg Weight: 0.0002, Max Weight: 0.0076\n"
     ]
    },
    {
     "name": "stderr",
     "output_type": "stream",
     "text": [
      "Training:  50%|█████████████████▌                 | 3/6 [01:28<01:29, 29.68s/it]"
     ]
    },
    {
     "name": "stdout",
     "output_type": "stream",
     "text": [
      "Epoch 3/6, Loss: -0.0277, Train fit: 0.0488, Test fit: 0.0499, Avg Weight: 0.0002, Max Weight: 0.0076\n"
     ]
    },
    {
     "name": "stderr",
     "output_type": "stream",
     "text": [
      "Training:  83%|█████████████████████████████▏     | 5/6 [02:28<00:29, 29.75s/it]"
     ]
    },
    {
     "name": "stdout",
     "output_type": "stream",
     "text": [
      "Epoch 5/6, Loss: -0.0456, Train fit: 0.0537, Test fit: 0.0538, Avg Weight: 0.0002, Max Weight: 0.0076\n"
     ]
    },
    {
     "name": "stderr",
     "output_type": "stream",
     "text": [
      "Training: 100%|███████████████████████████████████| 6/6 [02:58<00:00, 29.68s/it]"
     ]
    },
    {
     "name": "stdout",
     "output_type": "stream",
     "text": [
      "Epoch 6/6, Loss: -0.0466, Train fit: 0.0529, Test fit: 0.0555, Avg Weight: 0.0002, Max Weight: 0.0076\n",
      "Training completed! Best test Sharpe ratio: 0.0555\n",
      "Training from 2000-05 to 2000-10. Testing on 2000-11.\n"
     ]
    },
    {
     "name": "stderr",
     "output_type": "stream",
     "text": [
      "\n"
     ]
    },
    {
     "name": "stdout",
     "output_type": "stream",
     "text": [
      "['sprtrn_lag1', 'DlyRet_lag1', 'DlyRet_roll_10', 'DlyRet_roll_20', 'DlyRet_roll_30']\n",
      "Starting training with 525 train batches, 43 test batches\n"
     ]
    },
    {
     "name": "stderr",
     "output_type": "stream",
     "text": [
      "Training:  17%|█████▊                             | 1/6 [00:30<02:30, 30.01s/it]"
     ]
    },
    {
     "name": "stdout",
     "output_type": "stream",
     "text": [
      "Epoch 1/6, Loss: -0.0061, Train fit: 0.0170, Test fit: -0.0032, Avg Weight: 0.0002, Max Weight: 0.0152\n"
     ]
    },
    {
     "name": "stderr",
     "output_type": "stream",
     "text": [
      "Training:  50%|█████████████████▌                 | 3/6 [01:30<01:30, 30.00s/it]"
     ]
    },
    {
     "name": "stdout",
     "output_type": "stream",
     "text": [
      "Epoch 3/6, Loss: -0.0456, Train fit: 0.0545, Test fit: 0.0300, Avg Weight: 0.0002, Max Weight: 0.0152\n"
     ]
    },
    {
     "name": "stderr",
     "output_type": "stream",
     "text": [
      "Training:  83%|█████████████████████████████▏     | 5/6 [02:30<00:30, 30.11s/it]"
     ]
    },
    {
     "name": "stdout",
     "output_type": "stream",
     "text": [
      "Epoch 5/6, Loss: -0.0479, Train fit: 0.0571, Test fit: 0.0316, Avg Weight: 0.0002, Max Weight: 0.0152\n"
     ]
    },
    {
     "name": "stderr",
     "output_type": "stream",
     "text": [
      "Training: 100%|███████████████████████████████████| 6/6 [03:00<00:00, 30.14s/it]"
     ]
    },
    {
     "name": "stdout",
     "output_type": "stream",
     "text": [
      "Epoch 6/6, Loss: -0.0495, Train fit: 0.0593, Test fit: 0.0322, Avg Weight: 0.0002, Max Weight: 0.0152\n",
      "Training completed! Best test Sharpe ratio: 0.0322\n",
      "Training from 2000-06 to 2000-11. Testing on 2000-12.\n"
     ]
    },
    {
     "name": "stderr",
     "output_type": "stream",
     "text": [
      "\n"
     ]
    },
    {
     "name": "stdout",
     "output_type": "stream",
     "text": [
      "['sprtrn_lag1', 'DlyRet_lag1', 'DlyRet_roll_10', 'DlyRet_roll_20', 'DlyRet_roll_30']\n",
      "Starting training with 520 train batches, 18 test batches\n"
     ]
    },
    {
     "name": "stderr",
     "output_type": "stream",
     "text": [
      "Training:  17%|█████▊                             | 1/6 [00:26<02:11, 26.28s/it]"
     ]
    },
    {
     "name": "stdout",
     "output_type": "stream",
     "text": [
      "Epoch 1/6, Loss: 0.0018, Train fit: 0.0140, Test fit: 0.0273, Avg Weight: 0.0003, Max Weight: 0.0638\n"
     ]
    },
    {
     "name": "stderr",
     "output_type": "stream",
     "text": [
      "Training:  50%|█████████████████▌                 | 3/6 [01:19<01:19, 26.51s/it]"
     ]
    },
    {
     "name": "stdout",
     "output_type": "stream",
     "text": [
      "Epoch 3/6, Loss: -0.0371, Train fit: 0.0483, Test fit: 0.0429, Avg Weight: 0.0003, Max Weight: 0.0635\n"
     ]
    },
    {
     "name": "stderr",
     "output_type": "stream",
     "text": [
      "Training:  83%|█████████████████████████████▏     | 5/6 [02:12<00:26, 26.38s/it]"
     ]
    },
    {
     "name": "stdout",
     "output_type": "stream",
     "text": [
      "Epoch 5/6, Loss: -0.0462, Train fit: 0.0520, Test fit: 0.0431, Avg Weight: 0.0003, Max Weight: 0.0635\n"
     ]
    },
    {
     "name": "stderr",
     "output_type": "stream",
     "text": [
      "Training: 100%|███████████████████████████████████| 6/6 [02:38<00:00, 26.39s/it]"
     ]
    },
    {
     "name": "stdout",
     "output_type": "stream",
     "text": [
      "Epoch 6/6, Loss: -0.0486, Train fit: 0.0497, Test fit: 0.0421, Avg Weight: 0.0003, Max Weight: 0.0635\n",
      "Training completed! Best test Sharpe ratio: 0.0435\n"
     ]
    },
    {
     "name": "stderr",
     "output_type": "stream",
     "text": [
      "\n"
     ]
    }
   ],
   "source": [
    "# Keeping track of the return over all the data\n",
    "reload(utils)\n",
    "all_strategy_returns = []\n",
    "\n",
    "for i in range(0, len(unique_months) - 6):\n",
    "\n",
    "    # Train on 6 months of data and test on 1 month\n",
    "    train_start = unique_months.iloc[i]\n",
    "    train_end = unique_months.iloc[i+5]\n",
    "    test_month = unique_months.iloc[i+6]\n",
    "\n",
    "    print(f'Training from {train_start} to {train_end}. Testing on {test_month}.')\n",
    "    \n",
    "    # Filter data\n",
    "    train_mask = (daily['year_month'] >= train_start) & (daily['year_month'] <= train_end)\n",
    "    test_mask = daily['year_month'] == test_month\n",
    "\n",
    "    tr_df = daily[train_mask].copy()\n",
    "    te_df = daily[test_mask].copy()\n",
    "\n",
    "    # Prepare the data: construct lagged returns, rolling window averages\n",
    "    train_df, test_df, features, cat_features = utils.prepare_data(tr_df, te_df, lagged_num=1, rolling_window=True)\n",
    "   \n",
    "    epochs = 6 # Optimal trade-off for this strategy\n",
    "    train_losses, test_losses, train_sharpes, test_sharpes, raw_predictions, weights = utils.train_DNN(train_df, test_df, features, cat_features, \n",
    "                                                                                                   epochs=epochs, loss_function = 'lin_rank')\n",
    "    \n",
    "    # Deduct transaction costs \n",
    "    TC_RATE = 0.003 # 0.30% of traded notional value\n",
    "    alpha = 100\n",
    "\n",
    "    test_df['weight'] = weights.values\n",
    "    test_df['weight_change'] = np.abs(test_df['weight'].diff().fillna(0.0))\n",
    "    test_df['tc_cost'] = test_df['weight_change'].apply(lambda x: utils.progressive_cost(x, base_tc=TC_RATE, alpha=alpha))\n",
    "    test_df['strategy_return'] = test_df['weight'] * test_df['DlyRet'] - test_df['tc_cost']\n",
    "    mean_daily_returns = test_df.groupby('date')['strategy_return'].sum()\n",
    "\n",
    "    all_strategy_returns.append(mean_daily_returns)\n",
    "    gc.collect() # Memory clean-up\n",
    "\n",
    "# Concatenate all windows into one Series\n",
    "combined_returns = pd.concat(all_strategy_returns)\n",
    "\n"
   ]
  },
  {
   "cell_type": "code",
   "execution_count": 13,
   "metadata": {},
   "outputs": [
    {
     "data": {
      "image/png": "[encoded data removed]",
      "text/plain": [
       "<Figure size 1000x600 with 1 Axes>"
      ]
     },
     "metadata": {},
     "output_type": "display_data"
    }
   ],
   "source": [
    "# Plot the cumulative returns of the strategy and compare with the S&P 500 index\n",
    "cumulative_returns = (1 + combined_returns).cumprod() \n",
    "sp_ret = daily.groupby('date')['sprtrn'].mean()\n",
    "\n",
    "strat_start = unique_months.iloc[6].to_timestamp()\n",
    "sp_ret = sp_ret.loc[strat_start:]\n",
    "\n",
    "cumulative_sp500 = (1 + sp_ret).cumprod()\n",
    "\n",
    "# Combine into a single DataFrame for easy plotting\n",
    "combined = pd.DataFrame({\n",
    "    'Strategy': cumulative_returns,\n",
    "    'S&P 500': cumulative_sp500\n",
    "})\n",
    "\n",
    "# Sharpe ratio\n",
    "strat_sharpe = utils.compute_sharpe(combined_returns)\n",
    "sp_sharpe = utils.compute_sharpe(sp_ret)\n",
    "\n",
    "# Plot\n",
    "combined.plot(figsize=(10, 6), title=f'Cumulative Returns: Strategy (Sharpe={strat_sharpe:.2f}) vs S&P 500 (Sharpe={sp_sharpe:.2f}) ')\n",
    "plt.ylabel('Cumulative Return')\n",
    "plt.grid(True)\n",
    "plt.show()"
   ]
  },
  {
   "cell_type": "code",
   "execution_count": null,
   "metadata": {},
   "outputs": [],
   "source": []
  }
 ],
 "metadata": {
  "accelerator": "GPU",
  "colab": {
   "gpuType": "T4",
   "provenance": []
  },
  "kernelspec": {
   "display_name": "Python 3 (ipykernel)",
   "language": "python",
   "name": "python3"
  },
  "language_info": {
   "codemirror_mode": {
    "name": "ipython",
    "version": 3
   },
   "file_extension": ".py",
   "mimetype": "text/x-python",
   "name": "python",
   "nbconvert_exporter": "python",
   "pygments_lexer": "ipython3",
   "version": "3.12.9"
  }
 },
 "nbformat": 4,
 "nbformat_minor": 4
}
