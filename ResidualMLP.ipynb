{
 "cells": [
  {
   "cell_type": "code",
   "execution_count": 1,
   "metadata": {
    "executionInfo": {
     "elapsed": 9244,
     "status": "ok",
     "timestamp": 1749567167967,
     "user": {
      "displayName": "Mirko Rado",
      "userId": "09310665357187365654"
     },
     "user_tz": -120
    },
    "id": "CqzdbFF2-wrs"
   },
   "outputs": [],
   "source": [
    "import torch\n",
    "import numpy as np\n",
    "import pandas as pd\n",
    "import DNN_utils as utils\n",
    "import matplotlib.pyplot as plt\n",
    "import seaborn as sns\n",
    "import os\n",
    "from sklearn.linear_model import LinearRegression\n",
    "from datetime import datetime\n",
    "from tqdm import tqdm\n",
    "import torch.nn as nn\n",
    "import torch.nn.functional as F\n",
    "import random\n",
    "from torch.utils.data import Dataset, DataLoader\n",
    "from sklearn.preprocessing import StandardScaler\n",
    "from sklearn.model_selection import train_test_split\n",
    "import gc"
   ]
  },
  {
   "cell_type": "code",
   "execution_count": 2,
   "metadata": {
    "colab": {
     "base_uri": "https://localhost:8080/"
    },
    "executionInfo": {
     "elapsed": 992,
     "status": "ok",
     "timestamp": 1749567180421,
     "user": {
      "displayName": "Mirko Rado",
      "userId": "09310665357187365654"
     },
     "user_tz": -120
    },
    "id": "jnIz8GWK-yNh",
    "outputId": "29a5381d-185d-48b5-f7b1-64de2d2430af"
   },
   "outputs": [],
   "source": [
    "# IF EXECUTING ON COLLAB UNCOMMENT THIS CELL\n",
    "\n",
    "#import os\n",
    "#from google.colab import drive\n",
    "#drive.mount('/content/gdrive')\n",
    "#folder = '/content/gdrive/My Drive/Data ML Project'\n",
    "#os.chdir(folder)\n",
    "#print(torch.cuda.is_available())\n",
    "\n",
    "# Set these right after importing torch, before any other operations\n",
    "torch.set_num_threads(os.cpu_count())\n",
    "torch.set_num_interop_threads(os.cpu_count())\n",
    "path = 'Targets/daily_crsp_sanitized.csv'"
   ]
  },
  {
   "cell_type": "code",
   "execution_count": 3,
   "metadata": {
    "colab": {
     "base_uri": "https://localhost:8080/",
     "height": 423
    },
    "executionInfo": {
     "elapsed": 8953,
     "status": "ok",
     "timestamp": 1749567191293,
     "user": {
      "displayName": "Mirko Rado",
      "userId": "09310665357187365654"
     },
     "user_tz": -120
    },
    "id": "ixOUuFbM1fqe",
    "outputId": "cd15f372-0fc0-4603-f438-473cf27d7f37"
   },
   "outputs": [
    {
     "data": {
      "text/html": [
       "<div>\n",
       "<style scoped>\n",
       "    .dataframe tbody tr th:only-of-type {\n",
       "        vertical-align: middle;\n",
       "    }\n",
       "\n",
       "    .dataframe tbody tr th {\n",
       "        vertical-align: top;\n",
       "    }\n",
       "\n",
       "    .dataframe thead th {\n",
       "        text-align: right;\n",
       "    }\n",
       "</style>\n",
       "<table border=\"1\" class=\"dataframe\">\n",
       "  <thead>\n",
       "    <tr style=\"text-align: right;\">\n",
       "      <th></th>\n",
       "      <th>date</th>\n",
       "      <th>PERMCO</th>\n",
       "      <th>PERMNO</th>\n",
       "      <th>SICCD</th>\n",
       "      <th>NAICS</th>\n",
       "      <th>DlyRet</th>\n",
       "      <th>sprtrn</th>\n",
       "      <th>sprtrn_lag1</th>\n",
       "    </tr>\n",
       "  </thead>\n",
       "  <tbody>\n",
       "    <tr>\n",
       "      <th>0</th>\n",
       "      <td>2000-01-31</td>\n",
       "      <td>5</td>\n",
       "      <td>15580</td>\n",
       "      <td>6320</td>\n",
       "      <td>0</td>\n",
       "      <td>-0.068182</td>\n",
       "      <td>0.025218</td>\n",
       "      <td>0.000000</td>\n",
       "    </tr>\n",
       "    <tr>\n",
       "      <th>1</th>\n",
       "      <td>2000-01-31</td>\n",
       "      <td>7</td>\n",
       "      <td>14593</td>\n",
       "      <td>3573</td>\n",
       "      <td>0</td>\n",
       "      <td>0.020910</td>\n",
       "      <td>0.025218</td>\n",
       "      <td>0.000000</td>\n",
       "    </tr>\n",
       "    <tr>\n",
       "      <th>2</th>\n",
       "      <td>2000-01-31</td>\n",
       "      <td>25</td>\n",
       "      <td>62770</td>\n",
       "      <td>6711</td>\n",
       "      <td>0</td>\n",
       "      <td>0.041045</td>\n",
       "      <td>0.025218</td>\n",
       "      <td>0.000000</td>\n",
       "    </tr>\n",
       "    <tr>\n",
       "      <th>3</th>\n",
       "      <td>2000-01-31</td>\n",
       "      <td>29</td>\n",
       "      <td>59184</td>\n",
       "      <td>2082</td>\n",
       "      <td>0</td>\n",
       "      <td>0.011236</td>\n",
       "      <td>0.025218</td>\n",
       "      <td>0.000000</td>\n",
       "    </tr>\n",
       "    <tr>\n",
       "      <th>4</th>\n",
       "      <td>2000-01-31</td>\n",
       "      <td>33</td>\n",
       "      <td>59248</td>\n",
       "      <td>2082</td>\n",
       "      <td>0</td>\n",
       "      <td>0.034667</td>\n",
       "      <td>0.025218</td>\n",
       "      <td>0.000000</td>\n",
       "    </tr>\n",
       "    <tr>\n",
       "      <th>...</th>\n",
       "      <td>...</td>\n",
       "      <td>...</td>\n",
       "      <td>...</td>\n",
       "      <td>...</td>\n",
       "      <td>...</td>\n",
       "      <td>...</td>\n",
       "      <td>...</td>\n",
       "      <td>...</td>\n",
       "    </tr>\n",
       "    <tr>\n",
       "      <th>1841513</th>\n",
       "      <td>2000-12-13</td>\n",
       "      <td>16265</td>\n",
       "      <td>86321</td>\n",
       "      <td>6310</td>\n",
       "      <td>0</td>\n",
       "      <td>0.057471</td>\n",
       "      <td>-0.008161</td>\n",
       "      <td>-0.006535</td>\n",
       "    </tr>\n",
       "    <tr>\n",
       "      <th>1841514</th>\n",
       "      <td>2000-12-13</td>\n",
       "      <td>16266</td>\n",
       "      <td>86324</td>\n",
       "      <td>7370</td>\n",
       "      <td>0</td>\n",
       "      <td>-0.063291</td>\n",
       "      <td>-0.008161</td>\n",
       "      <td>-0.006535</td>\n",
       "    </tr>\n",
       "    <tr>\n",
       "      <th>1841515</th>\n",
       "      <td>2000-12-13</td>\n",
       "      <td>16267</td>\n",
       "      <td>86337</td>\n",
       "      <td>3660</td>\n",
       "      <td>0</td>\n",
       "      <td>-0.101449</td>\n",
       "      <td>-0.008161</td>\n",
       "      <td>-0.006535</td>\n",
       "    </tr>\n",
       "    <tr>\n",
       "      <th>1841516</th>\n",
       "      <td>2000-12-13</td>\n",
       "      <td>16268</td>\n",
       "      <td>86339</td>\n",
       "      <td>4899</td>\n",
       "      <td>0</td>\n",
       "      <td>0.009456</td>\n",
       "      <td>-0.008161</td>\n",
       "      <td>-0.006535</td>\n",
       "    </tr>\n",
       "    <tr>\n",
       "      <th>1841517</th>\n",
       "      <td>2000-12-13</td>\n",
       "      <td>16269</td>\n",
       "      <td>86316</td>\n",
       "      <td>6410</td>\n",
       "      <td>0</td>\n",
       "      <td>-0.046512</td>\n",
       "      <td>-0.008161</td>\n",
       "      <td>-0.006535</td>\n",
       "    </tr>\n",
       "  </tbody>\n",
       "</table>\n",
       "<p>1841518 rows × 8 columns</p>\n",
       "</div>"
      ],
      "text/plain": [
       "              date  PERMCO  PERMNO  SICCD  NAICS    DlyRet    sprtrn  \\\n",
       "0       2000-01-31       5   15580   6320      0 -0.068182  0.025218   \n",
       "1       2000-01-31       7   14593   3573      0  0.020910  0.025218   \n",
       "2       2000-01-31      25   62770   6711      0  0.041045  0.025218   \n",
       "3       2000-01-31      29   59184   2082      0  0.011236  0.025218   \n",
       "4       2000-01-31      33   59248   2082      0  0.034667  0.025218   \n",
       "...            ...     ...     ...    ...    ...       ...       ...   \n",
       "1841513 2000-12-13   16265   86321   6310      0  0.057471 -0.008161   \n",
       "1841514 2000-12-13   16266   86324   7370      0 -0.063291 -0.008161   \n",
       "1841515 2000-12-13   16267   86337   3660      0 -0.101449 -0.008161   \n",
       "1841516 2000-12-13   16268   86339   4899      0  0.009456 -0.008161   \n",
       "1841517 2000-12-13   16269   86316   6410      0 -0.046512 -0.008161   \n",
       "\n",
       "         sprtrn_lag1  \n",
       "0           0.000000  \n",
       "1           0.000000  \n",
       "2           0.000000  \n",
       "3           0.000000  \n",
       "4           0.000000  \n",
       "...              ...  \n",
       "1841513    -0.006535  \n",
       "1841514    -0.006535  \n",
       "1841515    -0.006535  \n",
       "1841516    -0.006535  \n",
       "1841517    -0.006535  \n",
       "\n",
       "[1841518 rows x 8 columns]"
      ]
     },
     "execution_count": 3,
     "metadata": {},
     "output_type": "execute_result"
    }
   ],
   "source": [
    "daily = utils.read_daily_returns(path, nrows=2000000, low_quantile=0.005, up_quantile=0.995)\n",
    "daily"
   ]
  },
  {
   "cell_type": "code",
   "execution_count": 4,
   "metadata": {},
   "outputs": [
    {
     "data": {
      "text/plain": [
       "0          2000-01\n",
       "8329       2000-02\n",
       "174757     2000-03\n",
       "365885     2000-04\n",
       "523862     2000-05\n",
       "706883     2000-06\n",
       "889939     2000-07\n",
       "1056371    2000-08\n",
       "1248826    2000-09\n",
       "1415409    2000-10\n",
       "1598244    2000-11\n",
       "1771577    2000-12\n",
       "Name: year_month, dtype: period[M]"
      ]
     },
     "execution_count": 4,
     "metadata": {},
     "output_type": "execute_result"
    }
   ],
   "source": [
    "# Get data frame of unique months\n",
    "daily['year_month'] = daily['date'].dt.to_period('M')\n",
    "unique_months = daily['year_month'].drop_duplicates().sort_values()\n",
    "unique_months"
   ]
  },
  {
   "cell_type": "code",
   "execution_count": 5,
   "metadata": {},
   "outputs": [],
   "source": [
    "def softmax(x):\n",
    "    e_x = np.exp(x - np.max(x))  # for numerical stability\n",
    "    return e_x / e_x.sum()"
   ]
  },
  {
   "cell_type": "code",
   "execution_count": 6,
   "metadata": {},
   "outputs": [
    {
     "name": "stdout",
     "output_type": "stream",
     "text": [
      "Training from 2000-01 to 2000-07. Testing on 2000-08.\n",
      "['sprtrn_lag1', 'DlyRet_lag1', 'DlyRet_roll_10', 'DlyRet_roll_20', 'DlyRet_roll_30']\n",
      "Starting training with 516 train batches, 47 test batches\n"
     ]
    },
    {
     "name": "stderr",
     "output_type": "stream",
     "text": [
      "Training:  20%|███████                            | 1/5 [00:16<01:04, 16.22s/it]"
     ]
    },
    {
     "name": "stdout",
     "output_type": "stream",
     "text": [
      "Epoch 1/5, Loss: -0.0714, Train Sharpe: 0.0128, Test Sharpe: 0.0471, Avg Weight: 0.0002, Max Weight: 0.0012\n"
     ]
    },
    {
     "name": "stderr",
     "output_type": "stream",
     "text": [
      "Training:  60%|█████████████████████              | 3/5 [00:49<00:33, 16.75s/it]"
     ]
    },
    {
     "name": "stdout",
     "output_type": "stream",
     "text": [
      "Epoch 3/5, Loss: -0.1046, Train Sharpe: 0.0495, Test Sharpe: 0.0733, Avg Weight: 0.0002, Max Weight: 0.0027\n"
     ]
    },
    {
     "name": "stderr",
     "output_type": "stream",
     "text": [
      "Training: 100%|███████████████████████████████████| 5/5 [01:23<00:00, 16.72s/it]"
     ]
    },
    {
     "name": "stdout",
     "output_type": "stream",
     "text": [
      "Epoch 5/5, Loss: -0.1145, Train Sharpe: 0.0558, Test Sharpe: 0.0732, Avg Weight: 0.0002, Max Weight: 0.0027\n",
      "Training completed! Best test Sharpe ratio: 0.0733\n",
      "Training from 2000-02 to 2000-08. Testing on 2000-09.\n"
     ]
    },
    {
     "name": "stderr",
     "output_type": "stream",
     "text": [
      "\n"
     ]
    },
    {
     "name": "stdout",
     "output_type": "stream",
     "text": [
      "['sprtrn_lag1', 'DlyRet_lag1', 'DlyRet_roll_10', 'DlyRet_roll_20', 'DlyRet_roll_30']\n",
      "Starting training with 606 train batches, 41 test batches\n"
     ]
    },
    {
     "name": "stderr",
     "output_type": "stream",
     "text": [
      "Training:  20%|███████                            | 1/5 [00:19<01:18, 19.60s/it]"
     ]
    },
    {
     "name": "stdout",
     "output_type": "stream",
     "text": [
      "Epoch 1/5, Loss: -0.0790, Train Sharpe: 0.0184, Test Sharpe: -0.0259, Avg Weight: 0.0002, Max Weight: 0.0011\n"
     ]
    },
    {
     "name": "stderr",
     "output_type": "stream",
     "text": [
      "Training:  60%|█████████████████████              | 3/5 [00:58<00:38, 19.42s/it]"
     ]
    },
    {
     "name": "stdout",
     "output_type": "stream",
     "text": [
      "Epoch 3/5, Loss: -0.1112, Train Sharpe: 0.0466, Test Sharpe: 0.0059, Avg Weight: 0.0002, Max Weight: 0.0015\n"
     ]
    },
    {
     "name": "stderr",
     "output_type": "stream",
     "text": [
      "Training: 100%|███████████████████████████████████| 5/5 [01:36<00:00, 19.38s/it]"
     ]
    },
    {
     "name": "stdout",
     "output_type": "stream",
     "text": [
      "Epoch 5/5, Loss: -0.1226, Train Sharpe: 0.0545, Test Sharpe: 0.0124, Avg Weight: 0.0002, Max Weight: 0.0021\n",
      "Training completed! Best test Sharpe ratio: 0.0124\n",
      "Training from 2000-03 to 2000-09. Testing on 2000-10.\n"
     ]
    },
    {
     "name": "stderr",
     "output_type": "stream",
     "text": [
      "\n"
     ]
    },
    {
     "name": "stdout",
     "output_type": "stream",
     "text": [
      "['sprtrn_lag1', 'DlyRet_lag1', 'DlyRet_roll_10', 'DlyRet_roll_20', 'DlyRet_roll_30']\n",
      "Starting training with 606 train batches, 45 test batches\n"
     ]
    },
    {
     "name": "stderr",
     "output_type": "stream",
     "text": [
      "Training:  20%|███████                            | 1/5 [00:18<01:14, 18.72s/it]"
     ]
    },
    {
     "name": "stdout",
     "output_type": "stream",
     "text": [
      "Epoch 1/5, Loss: -0.0739, Train Sharpe: 0.0280, Test Sharpe: -0.0018, Avg Weight: 0.0002, Max Weight: 0.0021\n"
     ]
    },
    {
     "name": "stderr",
     "output_type": "stream",
     "text": [
      "Training:  60%|█████████████████████              | 3/5 [00:57<00:38, 19.25s/it]"
     ]
    },
    {
     "name": "stdout",
     "output_type": "stream",
     "text": [
      "Epoch 3/5, Loss: -0.1133, Train Sharpe: 0.0583, Test Sharpe: 0.0346, Avg Weight: 0.0002, Max Weight: 0.0034\n"
     ]
    },
    {
     "name": "stderr",
     "output_type": "stream",
     "text": [
      "Training: 100%|███████████████████████████████████| 5/5 [01:36<00:00, 19.29s/it]"
     ]
    },
    {
     "name": "stdout",
     "output_type": "stream",
     "text": [
      "Epoch 5/5, Loss: -0.1219, Train Sharpe: 0.0639, Test Sharpe: 0.0322, Avg Weight: 0.0002, Max Weight: 0.0034\n",
      "Training completed! Best test Sharpe ratio: 0.0346\n",
      "Training from 2000-04 to 2000-10. Testing on 2000-11.\n"
     ]
    },
    {
     "name": "stderr",
     "output_type": "stream",
     "text": [
      "\n"
     ]
    },
    {
     "name": "stdout",
     "output_type": "stream",
     "text": [
      "['sprtrn_lag1', 'DlyRet_lag1', 'DlyRet_roll_10', 'DlyRet_roll_20', 'DlyRet_roll_30']\n",
      "Starting training with 602 train batches, 43 test batches\n"
     ]
    },
    {
     "name": "stderr",
     "output_type": "stream",
     "text": [
      "Training:  20%|███████                            | 1/5 [00:18<01:15, 18.83s/it]"
     ]
    },
    {
     "name": "stdout",
     "output_type": "stream",
     "text": [
      "Epoch 1/5, Loss: -0.0720, Train Sharpe: 0.0252, Test Sharpe: -0.0391, Avg Weight: 0.0002, Max Weight: 0.0029\n"
     ]
    },
    {
     "name": "stderr",
     "output_type": "stream",
     "text": [
      "Training:  60%|█████████████████████              | 3/5 [00:59<00:40, 20.22s/it]"
     ]
    },
    {
     "name": "stdout",
     "output_type": "stream",
     "text": [
      "Epoch 3/5, Loss: -0.1117, Train Sharpe: 0.0596, Test Sharpe: -0.0061, Avg Weight: 0.0002, Max Weight: 0.0042\n"
     ]
    },
    {
     "name": "stderr",
     "output_type": "stream",
     "text": [
      "Training: 100%|███████████████████████████████████| 5/5 [01:38<00:00, 19.67s/it]"
     ]
    },
    {
     "name": "stdout",
     "output_type": "stream",
     "text": [
      "Epoch 5/5, Loss: -0.1218, Train Sharpe: 0.0637, Test Sharpe: 0.0022, Avg Weight: 0.0002, Max Weight: 0.0044\n",
      "Training completed! Best test Sharpe ratio: 0.0022\n",
      "Training from 2000-05 to 2000-11. Testing on 2000-12.\n"
     ]
    },
    {
     "name": "stderr",
     "output_type": "stream",
     "text": [
      "\n"
     ]
    },
    {
     "name": "stdout",
     "output_type": "stream",
     "text": [
      "['sprtrn_lag1', 'DlyRet_lag1', 'DlyRet_roll_10', 'DlyRet_roll_20', 'DlyRet_roll_30']\n",
      "Starting training with 610 train batches, 18 test batches\n"
     ]
    },
    {
     "name": "stderr",
     "output_type": "stream",
     "text": [
      "Training:  20%|███████                            | 1/5 [00:18<01:12, 18.08s/it]"
     ]
    },
    {
     "name": "stdout",
     "output_type": "stream",
     "text": [
      "Epoch 1/5, Loss: -0.0644, Train Sharpe: 0.0105, Test Sharpe: 0.0337, Avg Weight: 0.0003, Max Weight: 0.0564\n"
     ]
    },
    {
     "name": "stderr",
     "output_type": "stream",
     "text": [
      "Training:  60%|█████████████████████              | 3/5 [00:55<00:37, 18.59s/it]"
     ]
    },
    {
     "name": "stdout",
     "output_type": "stream",
     "text": [
      "Epoch 3/5, Loss: -0.1102, Train Sharpe: 0.0566, Test Sharpe: 0.0470, Avg Weight: 0.0003, Max Weight: 0.0341\n"
     ]
    },
    {
     "name": "stderr",
     "output_type": "stream",
     "text": [
      "Training: 100%|███████████████████████████████████| 5/5 [01:33<00:00, 18.64s/it]"
     ]
    },
    {
     "name": "stdout",
     "output_type": "stream",
     "text": [
      "Epoch 5/5, Loss: -0.1213, Train Sharpe: 0.0607, Test Sharpe: 0.0479, Avg Weight: 0.0003, Max Weight: 0.0341\n",
      "Training completed! Best test Sharpe ratio: 0.0506\n"
     ]
    },
    {
     "name": "stderr",
     "output_type": "stream",
     "text": [
      "\n"
     ]
    }
   ],
   "source": [
    "# Keeping track of the return over all the data\n",
    "all_strategy_returns = []\n",
    "\n",
    "for i in range(0, len(unique_months) - 6 - 1):\n",
    "\n",
    "    # Train on 6 months of data and test on 1 month\n",
    "    train_start = unique_months.iloc[i]\n",
    "    train_end = unique_months.iloc[i+6]\n",
    "    test_month = unique_months.iloc[i+7]\n",
    "\n",
    "    print(f'Training from {train_start} to {train_end}. Testing on {test_month}.')\n",
    "    \n",
    "    # Filter data\n",
    "    train_mask = (daily['year_month'] >= train_start) & (daily['year_month'] <= train_end)\n",
    "    test_mask = daily['year_month'] == test_month\n",
    "\n",
    "    tr_df = daily[train_mask].copy()\n",
    "    te_df = daily[test_mask].copy()\n",
    "\n",
    "    # Prepare the data: construct lagged returns, rolling window averages\n",
    "    train_df, test_df, features, cat_features = utils.prepare_data(tr_df, te_df, lagged_num=1, rolling_window=True)\n",
    "   \n",
    "    epochs = 5\n",
    "    max_weight = 0.05  # No stock >5% weight\n",
    "    diversification_lambda = 0.01  # Strength of penalty\n",
    "    temperature = 1.0  # Softmax temperature (lower = more diversification)\n",
    "    train_losses, test_losses, train_sharpes, test_sharpes, raw_predictions, weights = utils.train_DNN(train_df, test_df, features, cat_features, \n",
    "                                                                                                   epochs=epochs, max_weight=max_weight, \n",
    "                                                                                                   diversification_lambda=diversification_lambda, \n",
    "                                                                                                   temperature=temperature)\n",
    "    #test_df['raw_predictions'] = raw_predictions.values \n",
    "    #test_df['weight'] = test_df.groupby('date')['raw_predictions'].transform(softmax)\n",
    "    TC_RATE = 0.002 # Fixed transaction costs\n",
    "\n",
    "    test_df['weight'] = weights.values  # Current weights\n",
    "    # Deduct costs every day\n",
    "    test_df['tc_cost'] = np.abs(test_df['weight'].diff().fillna(0.0)) * TC_RATE\n",
    "    test_df['strategy_return'] = test_df['weight'] * test_df['DlyRet'] - test_df['tc_cost']\n",
    "    mean_daily_returns = test_df.groupby('date')['strategy_return'].sum()\n",
    "\n",
    "    #test_df['strategy_return'] = weights.values * test_df['DlyRet']\n",
    "    \n",
    "    # Calculate mean returns by date\n",
    "    #mean_daily_returns = test_df.groupby('date')['strategy_return'].sum()\n",
    "    \n",
    "    all_strategy_returns.append(mean_daily_returns)\n",
    "    gc.collect() # Memory clean-up\n",
    "\n",
    "# Concatenate all windows into one Series\n",
    "combined_returns = pd.concat(all_strategy_returns)\n",
    "\n"
   ]
  },
  {
   "cell_type": "code",
   "execution_count": 7,
   "metadata": {},
   "outputs": [
    {
     "data": {
      "image/png": "[encoded data removed]",
      "text/plain": [
       "<Figure size 1000x600 with 1 Axes>"
      ]
     },
     "metadata": {},
     "output_type": "display_data"
    }
   ],
   "source": [
    "# Plot the cumulative returns of the strategy and compare with the S&P 500 index\n",
    "cumulative_returns = (1 + combined_returns).cumprod() \n",
    "sp_ret = daily.groupby('date')['sprtrn'].mean()\n",
    "\n",
    "strat_start = unique_months.iloc[7].to_timestamp()\n",
    "sp_ret = sp_ret.loc[strat_start:]\n",
    "\n",
    "cumulative_sp500 = (1 + sp_ret).cumprod()\n",
    "\n",
    "# Combine into a single DataFrame for easy plotting\n",
    "combined = pd.DataFrame({\n",
    "    'Strategy': cumulative_returns,\n",
    "    'S&P 500': cumulative_sp500\n",
    "})\n",
    "\n",
    "# Sharpe ratio\n",
    "strat_sharpe = np.sqrt(combined_returns.shape[0]) * (combined_returns.mean() / combined_returns.std())\n",
    "sp_sharpe = np.sqrt(sp_ret.shape[0]) * (sp_ret.mean() / sp_ret.std())\n",
    "\n",
    "# Plot\n",
    "combined.plot(figsize=(10, 6), title=f'Cumulative Returns: Strategy (Sharpe={strat_sharpe}) vs S&P 500 (Sharpe={sp_sharpe} ')\n",
    "plt.ylabel('Cumulative Return')\n",
    "plt.grid(True)\n",
    "plt.show()"
   ]
  },
  {
   "cell_type": "code",
   "execution_count": 11,
   "metadata": {},
   "outputs": [
    {
     "data": {
      "text/plain": [
       "date\n",
       "2000-08-01   -0.010199\n",
       "2000-08-02    0.011040\n",
       "2000-08-03    0.003920\n",
       "2000-08-04    0.031780\n",
       "2000-08-07    0.024365\n",
       "                ...   \n",
       "2000-12-07    0.017940\n",
       "2000-12-08    0.099359\n",
       "2000-12-11    0.044720\n",
       "2000-12-12    0.026630\n",
       "2000-12-13    0.057143\n",
       "Name: strategy_return, Length: 95, dtype: float64"
      ]
     },
     "execution_count": 11,
     "metadata": {},
     "output_type": "execute_result"
    }
   ],
   "source": [
    "combined_returns"
   ]
  },
  {
   "cell_type": "code",
   "execution_count": 8,
   "metadata": {},
   "outputs": [
    {
     "data": {
      "text/plain": [
       "<Axes: title={'center': 'Cumulative Strategy Returns'}, xlabel='date'>"
      ]
     },
     "execution_count": 8,
     "metadata": {},
     "output_type": "execute_result"
    },
    {
     "data": {
      "image/png": "[encoded data removed]",
      "text/plain": [
       "<Figure size 640x480 with 1 Axes>"
      ]
     },
     "metadata": {},
     "output_type": "display_data"
    }
   ],
   "source": [
    "combined_returns = combined_returns.sort_index()\n",
    "\n",
    "# Convert to DataFrame and calculate cumulative returns\n",
    "results_df = pd.DataFrame({\n",
    "    'daily_return': combined_returns,\n",
    "    'cumulative_return': (1 + combined_returns).cumprod() - 1  # Geometric compounding\n",
    "})\n",
    "\n",
    "# Now you can plot:\n",
    "results_df['cumulative_return'].plot(title='Cumulative Strategy Returns')"
   ]
  },
  {
   "cell_type": "code",
   "execution_count": 9,
   "metadata": {},
   "outputs": [
    {
     "data": {
      "text/plain": [
       "date\n",
       "2000-08-01   -0.013437\n",
       "2000-08-02    0.086483\n",
       "2000-08-03   -0.035922\n",
       "2000-08-04    0.126855\n",
       "2000-08-07    0.206109\n",
       "                ...   \n",
       "2000-12-07   -0.053528\n",
       "2000-12-08    0.179131\n",
       "2000-12-11    0.034629\n",
       "2000-12-12    0.110182\n",
       "2000-12-13    0.047174\n",
       "Name: strategy_return, Length: 95, dtype: float64"
      ]
     },
     "execution_count": 9,
     "metadata": {},
     "output_type": "execute_result"
    }
   ],
   "source": [
    "combined_returns"
   ]
  },
  {
   "cell_type": "code",
   "execution_count": 10,
   "metadata": {},
   "outputs": [
    {
     "data": {
      "text/plain": [
       "<Axes: title={'center': 'Cumulative Strategy Returns'}, xlabel='date'>"
      ]
     },
     "execution_count": 10,
     "metadata": {},
     "output_type": "execute_result"
    },
    {
     "data": {
      "image/png": "[encoded data removed]",
      "text/plain": [
       "<Figure size 640x480 with 1 Axes>"
      ]
     },
     "metadata": {},
     "output_type": "display_data"
    }
   ],
   "source": [
    "results_df['cumulative_return'].iloc[0:20].plot(title='Cumulative Strategy Returns')"
   ]
  },
  {
   "cell_type": "code",
   "execution_count": 11,
   "metadata": {},
   "outputs": [
    {
     "data": {
      "text/plain": [
       "np.float64(7.2866841729047085)"
      ]
     },
     "execution_count": 11,
     "metadata": {},
     "output_type": "execute_result"
    }
   ],
   "source": [
    "sharpe = np.sqrt(95) * (combined_returns.mean() / mean_daily_returns.std())\n",
    "sharpe"
   ]
  },
  {
   "cell_type": "code",
   "execution_count": 14,
   "metadata": {},
   "outputs": [
    {
     "data": {
      "text/plain": [
       "date          2000-03-06 00:00:00\n",
       "PERMCO                      13537\n",
       "PERMNO                      81283\n",
       "SICCD                        3570\n",
       "NAICS                           0\n",
       "DlyRet                   4.045455\n",
       "sprtrn                  -0.012695\n",
       "year_month                2000-03\n",
       "Name: 361324, dtype: object"
      ]
     },
     "execution_count": 14,
     "metadata": {},
     "output_type": "execute_result"
    }
   ],
   "source": [
    "max_row = daily.loc[daily['DlyRet'].idxmax()]\n",
    "max_row"
   ]
  },
  {
   "cell_type": "code",
   "execution_count": 5,
   "metadata": {},
   "outputs": [
    {
     "data": {
      "text/html": [
       "<div>\n",
       "<style scoped>\n",
       "    .dataframe tbody tr th:only-of-type {\n",
       "        vertical-align: middle;\n",
       "    }\n",
       "\n",
       "    .dataframe tbody tr th {\n",
       "        vertical-align: top;\n",
       "    }\n",
       "\n",
       "    .dataframe thead th {\n",
       "        text-align: right;\n",
       "    }\n",
       "</style>\n",
       "<table border=\"1\" class=\"dataframe\">\n",
       "  <thead>\n",
       "    <tr style=\"text-align: right;\">\n",
       "      <th></th>\n",
       "      <th>Unnamed: 0</th>\n",
       "      <th>date</th>\n",
       "      <th>PERMNO</th>\n",
       "      <th>gvkey</th>\n",
       "      <th>pls_index</th>\n",
       "    </tr>\n",
       "  </thead>\n",
       "  <tbody>\n",
       "    <tr>\n",
       "      <th>0</th>\n",
       "      <td>0</td>\n",
       "      <td>2000-01-31</td>\n",
       "      <td>10025</td>\n",
       "      <td>11903</td>\n",
       "      <td>-3.107469</td>\n",
       "    </tr>\n",
       "    <tr>\n",
       "      <th>1</th>\n",
       "      <td>1</td>\n",
       "      <td>2000-01-31</td>\n",
       "      <td>10089</td>\n",
       "      <td>12143</td>\n",
       "      <td>-1.304217</td>\n",
       "    </tr>\n",
       "    <tr>\n",
       "      <th>2</th>\n",
       "      <td>2</td>\n",
       "      <td>2000-01-31</td>\n",
       "      <td>10155</td>\n",
       "      <td>12094</td>\n",
       "      <td>-2.892794</td>\n",
       "    </tr>\n",
       "    <tr>\n",
       "      <th>3</th>\n",
       "      <td>3</td>\n",
       "      <td>2000-01-31</td>\n",
       "      <td>10182</td>\n",
       "      <td>12171</td>\n",
       "      <td>5.863377</td>\n",
       "    </tr>\n",
       "    <tr>\n",
       "      <th>4</th>\n",
       "      <td>4</td>\n",
       "      <td>2000-01-31</td>\n",
       "      <td>10256</td>\n",
       "      <td>12226</td>\n",
       "      <td>-3.608628</td>\n",
       "    </tr>\n",
       "    <tr>\n",
       "      <th>...</th>\n",
       "      <td>...</td>\n",
       "      <td>...</td>\n",
       "      <td>...</td>\n",
       "      <td>...</td>\n",
       "      <td>...</td>\n",
       "    </tr>\n",
       "    <tr>\n",
       "      <th>520167</th>\n",
       "      <td>520167</td>\n",
       "      <td>2024-12-31</td>\n",
       "      <td>93426</td>\n",
       "      <td>185138</td>\n",
       "      <td>-0.052260</td>\n",
       "    </tr>\n",
       "    <tr>\n",
       "      <th>520168</th>\n",
       "      <td>520168</td>\n",
       "      <td>2024-12-31</td>\n",
       "      <td>93427</td>\n",
       "      <td>179583</td>\n",
       "      <td>3.371618</td>\n",
       "    </tr>\n",
       "    <tr>\n",
       "      <th>520169</th>\n",
       "      <td>520169</td>\n",
       "      <td>2024-12-31</td>\n",
       "      <td>93429</td>\n",
       "      <td>184500</td>\n",
       "      <td>5.908846</td>\n",
       "    </tr>\n",
       "    <tr>\n",
       "      <th>520170</th>\n",
       "      <td>520170</td>\n",
       "      <td>2024-12-31</td>\n",
       "      <td>93434</td>\n",
       "      <td>184259</td>\n",
       "      <td>-4.831854</td>\n",
       "    </tr>\n",
       "    <tr>\n",
       "      <th>520171</th>\n",
       "      <td>520171</td>\n",
       "      <td>2024-12-31</td>\n",
       "      <td>93436</td>\n",
       "      <td>184996</td>\n",
       "      <td>4.696742</td>\n",
       "    </tr>\n",
       "  </tbody>\n",
       "</table>\n",
       "<p>520172 rows × 5 columns</p>\n",
       "</div>"
      ],
      "text/plain": [
       "        Unnamed: 0        date  PERMNO   gvkey  pls_index\n",
       "0                0  2000-01-31   10025   11903  -3.107469\n",
       "1                1  2000-01-31   10089   12143  -1.304217\n",
       "2                2  2000-01-31   10155   12094  -2.892794\n",
       "3                3  2000-01-31   10182   12171   5.863377\n",
       "4                4  2000-01-31   10256   12226  -3.608628\n",
       "...            ...         ...     ...     ...        ...\n",
       "520167      520167  2024-12-31   93426  185138  -0.052260\n",
       "520168      520168  2024-12-31   93427  179583   3.371618\n",
       "520169      520169  2024-12-31   93429  184500   5.908846\n",
       "520170      520170  2024-12-31   93434  184259  -4.831854\n",
       "520171      520171  2024-12-31   93436  184996   4.696742\n",
       "\n",
       "[520172 rows x 5 columns]"
      ]
     },
     "execution_count": 5,
     "metadata": {},
     "output_type": "execute_result"
    }
   ],
   "source": [
    "index_df = pd.read_csv('Predictors/FirmCharacIndex.csv')\n",
    "index_df"
   ]
  },
  {
   "cell_type": "code",
   "execution_count": 6,
   "metadata": {},
   "outputs": [
    {
     "name": "stdout",
     "output_type": "stream",
     "text": [
      "Processing 7762 common PERMNOs...\n",
      "Processing PERMNO 1/7762\n",
      "Processing PERMNO 1001/7762\n",
      "Processing PERMNO 2001/7762\n",
      "Processing PERMNO 3001/7762\n",
      "Processing PERMNO 4001/7762\n",
      "Processing PERMNO 5001/7762\n",
      "Processing PERMNO 6001/7762\n",
      "Processing PERMNO 7001/7762\n",
      "Adding 1242 PERMNOs without PLS data...\n",
      "Combining results...\n"
     ]
    },
    {
     "data": {
      "text/html": [
       "<div>\n",
       "<style scoped>\n",
       "    .dataframe tbody tr th:only-of-type {\n",
       "        vertical-align: middle;\n",
       "    }\n",
       "\n",
       "    .dataframe tbody tr th {\n",
       "        vertical-align: top;\n",
       "    }\n",
       "\n",
       "    .dataframe thead th {\n",
       "        text-align: right;\n",
       "    }\n",
       "</style>\n",
       "<table border=\"1\" class=\"dataframe\">\n",
       "  <thead>\n",
       "    <tr style=\"text-align: right;\">\n",
       "      <th></th>\n",
       "      <th>date</th>\n",
       "      <th>PERMCO</th>\n",
       "      <th>PERMNO</th>\n",
       "      <th>SICCD</th>\n",
       "      <th>NAICS</th>\n",
       "      <th>DlyRet</th>\n",
       "      <th>sprtrn</th>\n",
       "      <th>year_month</th>\n",
       "      <th>pls_index</th>\n",
       "    </tr>\n",
       "  </thead>\n",
       "  <tbody>\n",
       "    <tr>\n",
       "      <th>0</th>\n",
       "      <td>2000-01-31</td>\n",
       "      <td>7953</td>\n",
       "      <td>10001</td>\n",
       "      <td>4920</td>\n",
       "      <td>0</td>\n",
       "      <td>-0.029851</td>\n",
       "      <td>0.025218</td>\n",
       "      <td>2000-01</td>\n",
       "      <td>0.000000</td>\n",
       "    </tr>\n",
       "    <tr>\n",
       "      <th>1</th>\n",
       "      <td>2000-01-31</td>\n",
       "      <td>7954</td>\n",
       "      <td>10002</td>\n",
       "      <td>6020</td>\n",
       "      <td>0</td>\n",
       "      <td>-0.005236</td>\n",
       "      <td>0.025218</td>\n",
       "      <td>2000-01</td>\n",
       "      <td>0.000000</td>\n",
       "    </tr>\n",
       "    <tr>\n",
       "      <th>2</th>\n",
       "      <td>2000-01-31</td>\n",
       "      <td>7965</td>\n",
       "      <td>10009</td>\n",
       "      <td>6030</td>\n",
       "      <td>0</td>\n",
       "      <td>-0.004255</td>\n",
       "      <td>0.025218</td>\n",
       "      <td>2000-01</td>\n",
       "      <td>0.000000</td>\n",
       "    </tr>\n",
       "    <tr>\n",
       "      <th>3</th>\n",
       "      <td>2000-01-31</td>\n",
       "      <td>7969</td>\n",
       "      <td>10012</td>\n",
       "      <td>3670</td>\n",
       "      <td>0</td>\n",
       "      <td>-0.033333</td>\n",
       "      <td>0.025218</td>\n",
       "      <td>2000-01</td>\n",
       "      <td>0.000000</td>\n",
       "    </tr>\n",
       "    <tr>\n",
       "      <th>4</th>\n",
       "      <td>2000-01-31</td>\n",
       "      <td>1728</td>\n",
       "      <td>10016</td>\n",
       "      <td>3560</td>\n",
       "      <td>0</td>\n",
       "      <td>0.038168</td>\n",
       "      <td>0.025218</td>\n",
       "      <td>2000-01</td>\n",
       "      <td>0.000000</td>\n",
       "    </tr>\n",
       "    <tr>\n",
       "      <th>...</th>\n",
       "      <td>...</td>\n",
       "      <td>...</td>\n",
       "      <td>...</td>\n",
       "      <td>...</td>\n",
       "      <td>...</td>\n",
       "      <td>...</td>\n",
       "      <td>...</td>\n",
       "      <td>...</td>\n",
       "      <td>...</td>\n",
       "    </tr>\n",
       "    <tr>\n",
       "      <th>1441513</th>\n",
       "      <td>2000-10-05</td>\n",
       "      <td>7428</td>\n",
       "      <td>92690</td>\n",
       "      <td>6798</td>\n",
       "      <td>0</td>\n",
       "      <td>-0.006711</td>\n",
       "      <td>0.001367</td>\n",
       "      <td>2000-10</td>\n",
       "      <td>0.710286</td>\n",
       "    </tr>\n",
       "    <tr>\n",
       "      <th>1441514</th>\n",
       "      <td>2000-10-05</td>\n",
       "      <td>7407</td>\n",
       "      <td>92807</td>\n",
       "      <td>6020</td>\n",
       "      <td>0</td>\n",
       "      <td>0.000000</td>\n",
       "      <td>0.001367</td>\n",
       "      <td>2000-10</td>\n",
       "      <td>0.117273</td>\n",
       "    </tr>\n",
       "    <tr>\n",
       "      <th>1441515</th>\n",
       "      <td>2000-10-05</td>\n",
       "      <td>7378</td>\n",
       "      <td>92874</td>\n",
       "      <td>3690</td>\n",
       "      <td>0</td>\n",
       "      <td>-0.059701</td>\n",
       "      <td>0.001367</td>\n",
       "      <td>2000-10</td>\n",
       "      <td>-0.907260</td>\n",
       "    </tr>\n",
       "    <tr>\n",
       "      <th>1441516</th>\n",
       "      <td>2000-10-05</td>\n",
       "      <td>7323</td>\n",
       "      <td>92930</td>\n",
       "      <td>3714</td>\n",
       "      <td>0</td>\n",
       "      <td>-0.011321</td>\n",
       "      <td>0.001367</td>\n",
       "      <td>2000-10</td>\n",
       "      <td>4.626466</td>\n",
       "    </tr>\n",
       "    <tr>\n",
       "      <th>1441517</th>\n",
       "      <td>2000-10-05</td>\n",
       "      <td>7427</td>\n",
       "      <td>93105</td>\n",
       "      <td>6020</td>\n",
       "      <td>0</td>\n",
       "      <td>-0.036364</td>\n",
       "      <td>0.001367</td>\n",
       "      <td>2000-10</td>\n",
       "      <td>3.157743</td>\n",
       "    </tr>\n",
       "  </tbody>\n",
       "</table>\n",
       "<p>1441518 rows × 9 columns</p>\n",
       "</div>"
      ],
      "text/plain": [
       "              date  PERMCO  PERMNO  SICCD  NAICS    DlyRet    sprtrn  \\\n",
       "0       2000-01-31    7953   10001   4920      0 -0.029851  0.025218   \n",
       "1       2000-01-31    7954   10002   6020      0 -0.005236  0.025218   \n",
       "2       2000-01-31    7965   10009   6030      0 -0.004255  0.025218   \n",
       "3       2000-01-31    7969   10012   3670      0 -0.033333  0.025218   \n",
       "4       2000-01-31    1728   10016   3560      0  0.038168  0.025218   \n",
       "...            ...     ...     ...    ...    ...       ...       ...   \n",
       "1441513 2000-10-05    7428   92690   6798      0 -0.006711  0.001367   \n",
       "1441514 2000-10-05    7407   92807   6020      0  0.000000  0.001367   \n",
       "1441515 2000-10-05    7378   92874   3690      0 -0.059701  0.001367   \n",
       "1441516 2000-10-05    7323   92930   3714      0 -0.011321  0.001367   \n",
       "1441517 2000-10-05    7427   93105   6020      0 -0.036364  0.001367   \n",
       "\n",
       "        year_month  pls_index  \n",
       "0          2000-01   0.000000  \n",
       "1          2000-01   0.000000  \n",
       "2          2000-01   0.000000  \n",
       "3          2000-01   0.000000  \n",
       "4          2000-01   0.000000  \n",
       "...            ...        ...  \n",
       "1441513    2000-10   0.710286  \n",
       "1441514    2000-10   0.117273  \n",
       "1441515    2000-10  -0.907260  \n",
       "1441516    2000-10   4.626466  \n",
       "1441517    2000-10   3.157743  \n",
       "\n",
       "[1441518 rows x 9 columns]"
      ]
     },
     "execution_count": 6,
     "metadata": {},
     "output_type": "execute_result"
    }
   ],
   "source": [
    "merged = utils.merge_pls_with_asof(daily, index_df)\n",
    "merged = merged.fillna(0)\n",
    "merged"
   ]
  },
  {
   "cell_type": "code",
   "execution_count": 7,
   "metadata": {
    "executionInfo": {
     "elapsed": 5212,
     "status": "ok",
     "timestamp": 1749567208636,
     "user": {
      "displayName": "Mirko Rado",
      "userId": "09310665357187365654"
     },
     "user_tz": -120
    },
    "id": "Nan5o3EE9zt3"
   },
   "outputs": [
    {
     "name": "stdout",
     "output_type": "stream",
     "text": [
      "Training from 2000-01 to 2000-07. Testing on 2000-08.\n",
      "['DlyRet', 'sprtrn', 'pls_index', 'DlyRet_lag1', 'DlyRet_roll_10', 'DlyRet_roll_20', 'DlyRet_roll_30']\n",
      "Starting training with 516 train batches, 47 test batches\n"
     ]
    },
    {
     "name": "stderr",
     "output_type": "stream",
     "text": [
      "Training:  25%|████████▊                          | 1/4 [00:17<00:51, 17.09s/it]"
     ]
    },
    {
     "name": "stdout",
     "output_type": "stream",
     "text": [
      "Epoch 1/4, Loss: -0.6767, Train Sharpe: 1.3908, Test Sharpe: 1.2096\n"
     ]
    },
    {
     "name": "stderr",
     "output_type": "stream",
     "text": [
      "Training:  75%|██████████████████████████▎        | 3/4 [00:54<00:18, 18.29s/it]"
     ]
    },
    {
     "name": "stdout",
     "output_type": "stream",
     "text": [
      "Epoch 3/4, Loss: -1.3135, Train Sharpe: 1.6550, Test Sharpe: 1.4923\n"
     ]
    },
    {
     "name": "stderr",
     "output_type": "stream",
     "text": [
      "Training: 100%|███████████████████████████████████| 4/4 [01:10<00:00, 17.58s/it]"
     ]
    },
    {
     "name": "stdout",
     "output_type": "stream",
     "text": [
      "Epoch 4/4, Loss: -1.3689, Train Sharpe: 1.6328, Test Sharpe: 1.4852\n",
      "Training completed! Best test Sharpe ratio: 1.4923\n"
     ]
    },
    {
     "name": "stderr",
     "output_type": "stream",
     "text": [
      "\n"
     ]
    },
    {
     "ename": "NameError",
     "evalue": "name 'strat_returns' is not defined",
     "output_type": "error",
     "traceback": [
      "\u001b[0;31m---------------------------------------------------------------------------\u001b[0m",
      "\u001b[0;31mNameError\u001b[0m                                 Traceback (most recent call last)",
      "Cell \u001b[0;32mIn[7], line 37\u001b[0m\n\u001b[1;32m     25\u001b[0m train_losses, test_losses, train_sharpes, test_sharpes, raw_predictions \u001b[38;5;241m=\u001b[39m utils\u001b[38;5;241m.\u001b[39mtrain_DNN(train_df, test_df, features, cat_features, epochs\u001b[38;5;241m=\u001b[39m\u001b[38;5;241m4\u001b[39m)\n\u001b[1;32m     27\u001b[0m \u001b[38;5;66;03m#print(strat_returns.shape)\u001b[39;00m\n\u001b[1;32m     28\u001b[0m \u001b[38;5;66;03m# Right after getting strat_returns\u001b[39;00m\n\u001b[1;32m     29\u001b[0m \u001b[38;5;66;03m#print(f\"strat_returns stats: min={strat_returns.min()}, max={strat_returns.max()}, nan_count={strat_returns.isna().sum()}\")\u001b[39;00m\n\u001b[0;32m   (...)\u001b[0m\n\u001b[1;32m     35\u001b[0m \n\u001b[1;32m     36\u001b[0m \u001b[38;5;66;03m# After assigning to test_df\u001b[39;00m\n\u001b[0;32m---> 37\u001b[0m test_df[\u001b[38;5;124m'\u001b[39m\u001b[38;5;124mstrat_return\u001b[39m\u001b[38;5;124m'\u001b[39m] \u001b[38;5;241m=\u001b[39m strat_returns\u001b[38;5;241m.\u001b[39mvalues \n\u001b[1;32m     38\u001b[0m \u001b[38;5;66;03m#print(f\"test_df['strat_return'] nan_count: {test_df['strat_return'].isna().sum()}\")\u001b[39;00m\n\u001b[1;32m     39\u001b[0m \n\u001b[1;32m     40\u001b[0m \u001b[38;5;66;03m# Calculate mean returns by date\u001b[39;00m\n\u001b[1;32m     41\u001b[0m mean_daily_returns \u001b[38;5;241m=\u001b[39m test_df\u001b[38;5;241m.\u001b[39mgroupby(\u001b[38;5;124m'\u001b[39m\u001b[38;5;124mdate\u001b[39m\u001b[38;5;124m'\u001b[39m)[\u001b[38;5;124m'\u001b[39m\u001b[38;5;124mstrat_return\u001b[39m\u001b[38;5;124m'\u001b[39m]\u001b[38;5;241m.\u001b[39mmean()\n",
      "\u001b[0;31mNameError\u001b[0m: name 'strat_returns' is not defined"
     ]
    }
   ],
   "source": [
    "# Keeping track of the return over all the data\n",
    "all_raw_predictions = []\n",
    "\n",
    "for i in range(0, len(unique_months) - 6 - 1):\n",
    "\n",
    "    # Train on 6 months of data and test on 1 month\n",
    "    train_start = unique_months.iloc[i]\n",
    "    train_end = unique_months.iloc[i+6]\n",
    "    test_month = unique_months.iloc[i+7]\n",
    "\n",
    "    print(f'Training from {train_start} to {train_end}. Testing on {test_month}.')\n",
    "    \n",
    "    # Filter data\n",
    "    train_mask = (merged['year_month'] >= train_start) & (merged['year_month'] <= train_end)\n",
    "    test_mask = merged['year_month'] == test_month\n",
    "\n",
    "    tr_df = merged[train_mask].copy()\n",
    "    te_df = merged[test_mask].copy()\n",
    "\n",
    "    # Prepare the data: construct lagged returns, rolling window averages\n",
    "    train_df, test_df, features, cat_features = utils.prepare_data(tr_df, te_df, lagged_num=1, rolling_window=True)\n",
    "\n",
    "    #print(test_df.shape)\n",
    "    \n",
    "    train_losses, test_losses, train_sharpes, test_sharpes, raw_predictions = utils.train_DNN(train_df, test_df, features, cat_features, epochs=4)\n",
    "\n",
    "    #print(strat_returns.shape)\n",
    "    # Right after getting strat_returns\n",
    "    #print(f\"strat_returns stats: min={strat_returns.min()}, max={strat_returns.max()}, nan_count={strat_returns.isna().sum()}\")\n",
    "    #print(f\"strat_returns shape: {strat_returns.shape}\")\n",
    "    #print(f\"test_df shape: {test_df.shape}\")\n",
    "\n",
    "    # Add strat_returns as a new column to test_df\n",
    "    #test_df['strat_return'] = strat_returns \n",
    "\n",
    "    # After assigning to test_df\n",
    "    test_df['strat_return'] = strat_returns.values \n",
    "    #print(f\"test_df['strat_return'] nan_count: {test_df['strat_return'].isna().sum()}\")\n",
    "\n",
    "    # Calculate mean returns by date\n",
    "    mean_daily_returns = test_df.groupby('date')['strat_return'].mean()\n",
    "\n",
    "    # Check if the groupby operation is the issue\n",
    "    #mean_daily_returns = test_df.groupby('date')['strat_return'].mean()\n",
    "    #print(f\"mean_daily_returns nan_count: {mean_daily_returns.isna().sum()}\")\n",
    "    \n",
    "    #print(mean_daily_returns.shape)\n",
    "    all_strategy_returns.append(mean_daily_returns)\n",
    "\n",
    "\n",
    "\n",
    "\n",
    "\n",
    "\n",
    "# Concatenate all windows into one Series\n",
    "combined_returns = pd.concat(all_strategy_returns)\n",
    "\n"
   ]
  },
  {
   "cell_type": "code",
   "execution_count": null,
   "metadata": {},
   "outputs": [],
   "source": [
    "combined_returns"
   ]
  },
  {
   "cell_type": "code",
   "execution_count": 8,
   "metadata": {},
   "outputs": [
    {
     "ename": "NameError",
     "evalue": "name 'combined_returns' is not defined",
     "output_type": "error",
     "traceback": [
      "\u001b[0;31m---------------------------------------------------------------------------\u001b[0m",
      "\u001b[0;31mNameError\u001b[0m                                 Traceback (most recent call last)",
      "Cell \u001b[0;32mIn[8], line 5\u001b[0m\n\u001b[1;32m      1\u001b[0m \u001b[38;5;66;03m# Handle duplicate dates (if any) by taking the mean\u001b[39;00m\n\u001b[1;32m      2\u001b[0m \u001b[38;5;66;03m#combined_returns = combined_returns.groupby(level=0).mean()\u001b[39;00m\n\u001b[1;32m      3\u001b[0m \n\u001b[1;32m      4\u001b[0m \u001b[38;5;66;03m# Sort by date to ensure chronological order\u001b[39;00m\n\u001b[0;32m----> 5\u001b[0m combined_returns \u001b[38;5;241m=\u001b[39m combined_returns\u001b[38;5;241m.\u001b[39msort_index()\n\u001b[1;32m      7\u001b[0m \u001b[38;5;66;03m# Convert to DataFrame and calculate cumulative returns\u001b[39;00m\n\u001b[1;32m      8\u001b[0m results_df \u001b[38;5;241m=\u001b[39m pd\u001b[38;5;241m.\u001b[39mDataFrame({\n\u001b[1;32m      9\u001b[0m     \u001b[38;5;124m'\u001b[39m\u001b[38;5;124mdaily_return\u001b[39m\u001b[38;5;124m'\u001b[39m: combined_returns,\n\u001b[1;32m     10\u001b[0m     \u001b[38;5;124m'\u001b[39m\u001b[38;5;124mcumulative_return\u001b[39m\u001b[38;5;124m'\u001b[39m: (\u001b[38;5;241m1\u001b[39m \u001b[38;5;241m+\u001b[39m combined_returns)\u001b[38;5;241m.\u001b[39mcumprod() \u001b[38;5;241m-\u001b[39m \u001b[38;5;241m1\u001b[39m  \u001b[38;5;66;03m# Geometric compounding\u001b[39;00m\n\u001b[1;32m     11\u001b[0m })\n",
      "\u001b[0;31mNameError\u001b[0m: name 'combined_returns' is not defined"
     ]
    }
   ],
   "source": [
    "# Handle duplicate dates (if any) by taking the mean\n",
    "#combined_returns = combined_returns.groupby(level=0).mean()\n",
    "\n",
    "# Sort by date to ensure chronological order\n",
    "combined_returns = combined_returns.sort_index()\n",
    "\n",
    "# Convert to DataFrame and calculate cumulative returns\n",
    "results_df = pd.DataFrame({\n",
    "    'daily_return': combined_returns,\n",
    "    'cumulative_return': (1 + combined_returns).cumprod() - 1  # Geometric compounding\n",
    "})\n",
    "\n",
    "# Now you can plot:\n",
    "results_df['cumulative_return'].plot(title='Cumulative Strategy Returns')"
   ]
  },
  {
   "cell_type": "code",
   "execution_count": null,
   "metadata": {},
   "outputs": [],
   "source": []
  }
 ],
 "metadata": {
  "accelerator": "GPU",
  "colab": {
   "gpuType": "T4",
   "provenance": []
  },
  "kernelspec": {
   "display_name": "Python 3 (ipykernel)",
   "language": "python",
   "name": "python3"
  },
  "language_info": {
   "codemirror_mode": {
    "name": "ipython",
    "version": 3
   },
   "file_extension": ".py",
   "mimetype": "text/x-python",
   "name": "python",
   "nbconvert_exporter": "python",
   "pygments_lexer": "ipython3",
   "version": "3.12.9"
  }
 },
 "nbformat": 4,
 "nbformat_minor": 4
}
